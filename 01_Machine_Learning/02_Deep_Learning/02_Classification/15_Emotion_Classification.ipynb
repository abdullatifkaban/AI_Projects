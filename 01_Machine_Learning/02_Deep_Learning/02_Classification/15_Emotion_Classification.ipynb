{
 "cells": [
  {
   "cell_type": "code",
   "execution_count": null,
   "metadata": {
    "_cell_guid": "b1076dfc-b9ad-4769-8c92-a6c4dae69d19",
    "_kg_hide-input": true,
    "_kg_hide-output": true,
    "_uuid": "8f2839f25d086af736a60e9eeb907d3b93b6e0e5",
    "collapsed": true,
    "execution": {
     "iopub.execute_input": "2024-05-29T13:10:20.797889Z",
     "iopub.status.busy": "2024-05-29T13:10:20.797264Z",
     "iopub.status.idle": "2024-05-29T13:10:33.264936Z",
     "shell.execute_reply": "2024-05-29T13:10:33.264018Z",
     "shell.execute_reply.started": "2024-05-29T13:10:20.797860Z"
    },
    "jupyter": {
     "outputs_hidden": true
    },
    "trusted": true
   },
   "outputs": [],
   "source": [
    "## This Python 3 environment comes with many helpful analytics libraries installed\n",
    "# It is defined by the kaggle/python Docker image: https://github.com/kaggle/docker-python\n",
    "# For example, here's several helpful packages to load\n",
    "\n",
    "import numpy as np # linear algebra\n",
    "import pandas as pd # data processing, CSV file I/O (e.g. pd.read_csv)\n",
    "\n",
    "# Input data files are available in the read-only \"../input/\" directory\n",
    "# For example, running this (by clicking run or pressing Shift+Enter) will list all files under the input directory\n",
    "\n",
    "import os\n",
    "for dirname, _, filenames in os.walk('/kaggle/input'):\n",
    "    for filename in filenames:\n",
    "        print(os.path.join(dirname, filename))\n",
    "\n",
    "# You can write up to 20GB to the current directory (/kaggle/working/) that gets preserved as output when you create a version using \"Save & Run All\" \n",
    "# You can also write temporary files to /kaggle/temp/, but they won't be saved outside of the current session"
   ]
  },
  {
   "cell_type": "markdown",
   "metadata": {},
   "source": [
    "# Emotion Classification (FER-2013)\n",
    "\n",
    "Bu projede 48x48 piksel gri tonlamalı görüntüler kullanılarak, her yüzü yüz ifadesinde gösterilen duyguya göre yedi kategoriden birine (0=Öfkeli, 1=İğrenme, 2=Korku, 3=Mutlu, 4=Üzgün, 5=Şaşkın, 6=Nötr) göre sınıflandıran model geliştirilmektedir. Eğitim seti 28.709 örnekten ve genel test seti 3.589 örnekten oluşur.\n",
    "\n",
    "Bu projede kullanılan veriler [buradan](https://www.kaggle.com/datasets/msambare/fer2013) temin edilmiştir.\n",
    "\n",
    "<img src=\"https://storage.googleapis.com/kaggle-datasets-images/786787/1351797/89e6e907cb903b4f523bbd613e46b8a8/dataset-cover.png?t=2020-07-19-18-42-52\">"
   ]
  },
  {
   "cell_type": "code",
   "execution_count": null,
   "metadata": {
    "execution": {
     "iopub.execute_input": "2024-05-29T13:10:48.960596Z",
     "iopub.status.busy": "2024-05-29T13:10:48.959682Z",
     "iopub.status.idle": "2024-05-29T13:10:49.907110Z",
     "shell.execute_reply": "2024-05-29T13:10:49.906379Z",
     "shell.execute_reply.started": "2024-05-29T13:10:48.960563Z"
    },
    "trusted": true
   },
   "outputs": [],
   "source": [
    "import cv2\n",
    "import os\n",
    "from sklearn.model_selection import train_test_split\n",
    "import matplotlib.pyplot as plt\n",
    "import seaborn as sns\n",
    "import warnings\n",
    "warnings.filterwarnings(\"ignore\")"
   ]
  },
  {
   "cell_type": "code",
   "execution_count": null,
   "metadata": {
    "execution": {
     "iopub.execute_input": "2024-05-29T13:11:19.693542Z",
     "iopub.status.busy": "2024-05-29T13:11:19.692870Z",
     "iopub.status.idle": "2024-05-29T13:11:19.708920Z",
     "shell.execute_reply": "2024-05-29T13:11:19.708191Z",
     "shell.execute_reply.started": "2024-05-29T13:11:19.693510Z"
    },
    "trusted": true
   },
   "outputs": [],
   "source": [
    "img_path=\"/kaggle/input/fer2013/train/\"\n",
    "labels = [item for item in os.listdir(img_path) if os.path.isdir(os.path.join(img_path, item))]\n",
    "labels"
   ]
  },
  {
   "cell_type": "code",
   "execution_count": null,
   "metadata": {
    "execution": {
     "iopub.execute_input": "2024-05-29T13:11:21.814557Z",
     "iopub.status.busy": "2024-05-29T13:11:21.814235Z",
     "iopub.status.idle": "2024-05-29T13:11:21.820084Z",
     "shell.execute_reply": "2024-05-29T13:11:21.819103Z",
     "shell.execute_reply.started": "2024-05-29T13:11:21.814532Z"
    },
    "trusted": true
   },
   "outputs": [],
   "source": [
    "def set_df(dir):\n",
    "    img_list=[]\n",
    "    label_list=[]\n",
    "    for label in labels:\n",
    "        for img_file in os.listdir(dir+label):\n",
    "            img_list.append(dir+label+\"/\"+img_file)\n",
    "            label_list.append(label)\n",
    "    df=pd.DataFrame({\"img\":img_list, \"label\":label_list})\n",
    "    return df"
   ]
  },
  {
   "cell_type": "code",
   "execution_count": null,
   "metadata": {
    "execution": {
     "iopub.execute_input": "2024-05-29T13:11:31.330279Z",
     "iopub.status.busy": "2024-05-29T13:11:31.329860Z",
     "iopub.status.idle": "2024-05-29T13:11:31.382076Z",
     "shell.execute_reply": "2024-05-29T13:11:31.381191Z",
     "shell.execute_reply.started": "2024-05-29T13:11:31.330247Z"
    },
    "trusted": true
   },
   "outputs": [],
   "source": [
    "train=set_df(\"/kaggle/input/fer2013/train/\")\n",
    "test=set_df(\"/kaggle/input/fer2013/test/\")"
   ]
  },
  {
   "cell_type": "code",
   "execution_count": null,
   "metadata": {
    "execution": {
     "iopub.execute_input": "2024-05-29T13:11:33.492644Z",
     "iopub.status.busy": "2024-05-29T13:11:33.491756Z",
     "iopub.status.idle": "2024-05-29T13:11:33.521099Z",
     "shell.execute_reply": "2024-05-29T13:11:33.520129Z",
     "shell.execute_reply.started": "2024-05-29T13:11:33.492609Z"
    },
    "trusted": true
   },
   "outputs": [],
   "source": [
    "train = train.sample(frac=1).reset_index(drop=True)\n",
    "test = test.sample(frac=1).reset_index(drop=True)\n",
    "train.head(10)"
   ]
  },
  {
   "cell_type": "code",
   "execution_count": null,
   "metadata": {
    "execution": {
     "iopub.execute_input": "2024-05-29T13:11:49.712381Z",
     "iopub.status.busy": "2024-05-29T13:11:49.711581Z",
     "iopub.status.idle": "2024-05-29T13:11:50.037940Z",
     "shell.execute_reply": "2024-05-29T13:11:50.037022Z",
     "shell.execute_reply.started": "2024-05-29T13:11:49.712349Z"
    },
    "trusted": true
   },
   "outputs": [],
   "source": [
    "sns.countplot(x=train[\"label\"])"
   ]
  },
  {
   "cell_type": "code",
   "execution_count": null,
   "metadata": {
    "execution": {
     "iopub.execute_input": "2024-05-29T13:12:03.951232Z",
     "iopub.status.busy": "2024-05-29T13:12:03.950593Z",
     "iopub.status.idle": "2024-05-29T13:12:04.231217Z",
     "shell.execute_reply": "2024-05-29T13:12:04.230367Z",
     "shell.execute_reply.started": "2024-05-29T13:12:03.951200Z"
    },
    "trusted": true
   },
   "outputs": [],
   "source": [
    "sns.countplot(x=test[\"label\"])"
   ]
  },
  {
   "cell_type": "code",
   "execution_count": null,
   "metadata": {
    "execution": {
     "iopub.execute_input": "2024-05-29T13:14:10.728493Z",
     "iopub.status.busy": "2024-05-29T13:14:10.727753Z",
     "iopub.status.idle": "2024-05-29T13:14:10.749497Z",
     "shell.execute_reply": "2024-05-29T13:14:10.748569Z",
     "shell.execute_reply.started": "2024-05-29T13:14:10.728464Z"
    },
    "trusted": true
   },
   "outputs": [],
   "source": [
    "from sklearn.preprocessing import LabelEncoder\n",
    "label_encoder = LabelEncoder()\n",
    "label_encoder.fit(train[\"label\"])\n",
    "train[\"encode_label\"] = label_encoder.transform(train[\"label\"])\n",
    "test[\"encode_label\"] = label_encoder.transform(test[\"label\"]) \n",
    " \n",
    "train.head()"
   ]
  },
  {
   "cell_type": "code",
   "execution_count": null,
   "metadata": {
    "execution": {
     "iopub.execute_input": "2024-05-29T13:14:21.573676Z",
     "iopub.status.busy": "2024-05-29T13:14:21.572970Z",
     "iopub.status.idle": "2024-05-29T13:14:21.579282Z",
     "shell.execute_reply": "2024-05-29T13:14:21.578392Z",
     "shell.execute_reply.started": "2024-05-29T13:14:21.573644Z"
    },
    "trusted": true
   },
   "outputs": [],
   "source": [
    "classes=label_encoder.classes_\n",
    "classes"
   ]
  },
  {
   "cell_type": "code",
   "execution_count": null,
   "metadata": {
    "execution": {
     "iopub.execute_input": "2024-05-29T13:14:32.296006Z",
     "iopub.status.busy": "2024-05-29T13:14:32.295582Z",
     "iopub.status.idle": "2024-05-29T13:14:33.504110Z",
     "shell.execute_reply": "2024-05-29T13:14:33.503189Z",
     "shell.execute_reply.started": "2024-05-29T13:14:32.295979Z"
    },
    "trusted": true
   },
   "outputs": [],
   "source": [
    "selected_images = train.sample(24)\n",
    "selected_images = selected_images.reset_index(drop=True)\n",
    "\n",
    "fig, axes = plt.subplots(3, 8, figsize=(12, 7))\n",
    "\n",
    "for i, ax in enumerate(axes.flat):\n",
    "    image=cv2.imread(str(selected_images[\"img\"][i]))\n",
    "    ax.imshow(image)\n",
    "    ax.axis(\"off\")\n",
    "    ax.text(0.5, -0.2, classes[selected_images[\"encode_label\"][i]], transform=ax.transAxes, ha='center')\n",
    "plt.tight_layout()\n",
    "plt.show()"
   ]
  },
  {
   "cell_type": "code",
   "execution_count": null,
   "metadata": {
    "execution": {
     "iopub.execute_input": "2024-05-29T13:15:40.011725Z",
     "iopub.status.busy": "2024-05-29T13:15:40.010987Z",
     "iopub.status.idle": "2024-05-29T13:17:28.062427Z",
     "shell.execute_reply": "2024-05-29T13:17:28.061542Z",
     "shell.execute_reply.started": "2024-05-29T13:15:40.011692Z"
    },
    "trusted": true
   },
   "outputs": [],
   "source": [
    "size=48\n",
    "x_train=[]\n",
    "for imge in train[\"img\"]:\n",
    "    img=cv2.imread(str(imge))\n",
    "    img=cv2.cvtColor(img, cv2.COLOR_BGR2GRAY)\n",
    "    img=cv2.resize(img, (size,size))\n",
    "    img=img/255.0 \n",
    "    x_train.append(img)"
   ]
  },
  {
   "cell_type": "code",
   "execution_count": null,
   "metadata": {
    "execution": {
     "iopub.execute_input": "2024-05-29T13:17:31.358614Z",
     "iopub.status.busy": "2024-05-29T13:17:31.358259Z",
     "iopub.status.idle": "2024-05-29T13:18:04.417900Z",
     "shell.execute_reply": "2024-05-29T13:18:04.417077Z",
     "shell.execute_reply.started": "2024-05-29T13:17:31.358585Z"
    },
    "trusted": true
   },
   "outputs": [],
   "source": [
    "x_test=[]\n",
    "for imge in test[\"img\"]:\n",
    "    img=cv2.imread(str(imge))\n",
    "    img=cv2.cvtColor(img, cv2.COLOR_BGR2GRAY)\n",
    "    img=cv2.resize(img, (size,size))\n",
    "    img=img/255.0 \n",
    "    x_test.append(img)"
   ]
  },
  {
   "cell_type": "markdown",
   "metadata": {},
   "source": [
    "## Modelleme"
   ]
  },
  {
   "cell_type": "code",
   "execution_count": null,
   "metadata": {
    "execution": {
     "iopub.execute_input": "2024-05-29T13:18:07.368120Z",
     "iopub.status.busy": "2024-05-29T13:18:07.367505Z",
     "iopub.status.idle": "2024-05-29T13:18:07.595117Z",
     "shell.execute_reply": "2024-05-29T13:18:07.594319Z",
     "shell.execute_reply.started": "2024-05-29T13:18:07.368089Z"
    },
    "trusted": true
   },
   "outputs": [],
   "source": [
    "x_train=np.array(x_train)\n",
    "x_test=np.array(x_test)\n",
    "\n",
    "y_train=train['encode_label']\n",
    "y_test=test['encode_label']"
   ]
  },
  {
   "cell_type": "code",
   "execution_count": null,
   "metadata": {
    "execution": {
     "iopub.execute_input": "2024-05-29T13:18:11.048991Z",
     "iopub.status.busy": "2024-05-29T13:18:11.048637Z",
     "iopub.status.idle": "2024-05-29T13:18:11.304029Z",
     "shell.execute_reply": "2024-05-29T13:18:11.303160Z",
     "shell.execute_reply.started": "2024-05-29T13:18:11.048963Z"
    },
    "trusted": true
   },
   "outputs": [],
   "source": [
    "print(y_train[0])\n",
    "plt.imshow(x_train[0])"
   ]
  },
  {
   "cell_type": "code",
   "execution_count": null,
   "metadata": {
    "execution": {
     "iopub.execute_input": "2024-05-29T13:18:23.536449Z",
     "iopub.status.busy": "2024-05-29T13:18:23.536084Z",
     "iopub.status.idle": "2024-05-29T13:18:23.543329Z",
     "shell.execute_reply": "2024-05-29T13:18:23.542327Z",
     "shell.execute_reply.started": "2024-05-29T13:18:23.536422Z"
    },
    "trusted": true
   },
   "outputs": [],
   "source": [
    "x_train.shape, y_train.shape, x_test.shape, y_test.shape"
   ]
  },
  {
   "cell_type": "code",
   "execution_count": null,
   "metadata": {
    "execution": {
     "iopub.execute_input": "2024-05-29T13:18:33.413106Z",
     "iopub.status.busy": "2024-05-29T13:18:33.412548Z",
     "iopub.status.idle": "2024-05-29T13:18:45.156330Z",
     "shell.execute_reply": "2024-05-29T13:18:45.155336Z",
     "shell.execute_reply.started": "2024-05-29T13:18:33.413076Z"
    },
    "trusted": true
   },
   "outputs": [],
   "source": [
    "from keras.models import Sequential\n",
    "from keras.layers import Conv2D, Dense, Flatten, Input, MaxPooling2D, Dropout,BatchNormalization, Reshape\n",
    "from sklearn.metrics import f1_score, confusion_matrix, classification_report"
   ]
  },
  {
   "cell_type": "code",
   "execution_count": null,
   "metadata": {
    "execution": {
     "iopub.execute_input": "2024-05-29T13:18:45.158574Z",
     "iopub.status.busy": "2024-05-29T13:18:45.158000Z",
     "iopub.status.idle": "2024-05-29T13:18:46.046341Z",
     "shell.execute_reply": "2024-05-29T13:18:46.045559Z",
     "shell.execute_reply.started": "2024-05-29T13:18:45.158546Z"
    },
    "trusted": true
   },
   "outputs": [],
   "source": [
    "model=Sequential()\n",
    "model.add(Input(shape=(size,size,1)))\n",
    "model.add(Conv2D(64,kernel_size=(3,3),activation='relu'))\n",
    "model.add(Conv2D(64,kernel_size=(3,3),activation='relu'))\n",
    "model.add(MaxPooling2D(pool_size=(2,2)))\n",
    "model.add(BatchNormalization())\n",
    "\n",
    "model.add(Conv2D(128,kernel_size=(3,3),activation='relu'))\n",
    "model.add(Conv2D(128,kernel_size=(3,3),activation='relu'))\n",
    "model.add(MaxPooling2D(pool_size=(2,2)))\n",
    "model.add(BatchNormalization())\n",
    "\n",
    "model.add(Conv2D(256,kernel_size=(3,3),activation='relu'))\n",
    "model.add(Conv2D(256,kernel_size=(3,3),activation='relu'))\n",
    "model.add(MaxPooling2D(pool_size=(2,2)))\n",
    "model.add(BatchNormalization())\n",
    "\n",
    "model.add(Flatten())\n",
    "model.add(Dense(1024, activation='relu'))\n",
    "model.add(BatchNormalization())\n",
    "model.add(Dropout(rate=.5))\n",
    "model.add(Dense(7, activation='softmax'))\n",
    "#categorical_crossentropy\n",
    "model.compile(optimizer='adam',loss='sparse_categorical_crossentropy',metrics=['accuracy'])"
   ]
  },
  {
   "cell_type": "code",
   "execution_count": null,
   "metadata": {
    "_kg_hide-output": true,
    "collapsed": true,
    "execution": {
     "iopub.execute_input": "2024-05-29T13:18:52.750766Z",
     "iopub.status.busy": "2024-05-29T13:18:52.749947Z",
     "iopub.status.idle": "2024-05-29T13:25:27.967702Z",
     "shell.execute_reply": "2024-05-29T13:25:27.966902Z",
     "shell.execute_reply.started": "2024-05-29T13:18:52.750734Z"
    },
    "jupyter": {
     "outputs_hidden": true
    },
    "trusted": true
   },
   "outputs": [],
   "source": [
    "history=model.fit(x_train,y_train,validation_data=(x_test,y_test),batch_size=32, epochs=50, verbose=1)"
   ]
  },
  {
   "cell_type": "code",
   "execution_count": null,
   "metadata": {
    "execution": {
     "iopub.execute_input": "2024-05-29T13:26:08.905005Z",
     "iopub.status.busy": "2024-05-29T13:26:08.904552Z",
     "iopub.status.idle": "2024-05-29T13:26:09.702822Z",
     "shell.execute_reply": "2024-05-29T13:26:09.702054Z",
     "shell.execute_reply.started": "2024-05-29T13:26:08.904979Z"
    },
    "trusted": true
   },
   "outputs": [],
   "source": [
    "loss, accuracy = model.evaluate(x_test, y_test)\n",
    "loss, accuracy"
   ]
  },
  {
   "cell_type": "code",
   "execution_count": null,
   "metadata": {
    "execution": {
     "iopub.execute_input": "2024-05-29T13:26:11.273770Z",
     "iopub.status.busy": "2024-05-29T13:26:11.273415Z",
     "iopub.status.idle": "2024-05-29T13:26:11.587073Z",
     "shell.execute_reply": "2024-05-29T13:26:11.586178Z",
     "shell.execute_reply.started": "2024-05-29T13:26:11.273743Z"
    },
    "trusted": true
   },
   "outputs": [],
   "source": [
    "plt.plot(history.history[\"accuracy\"], label=\"Accuracy\")\n",
    "plt.plot(history.history[\"val_accuracy\"], label=\"Val Accuracy\")\n",
    "plt.legend()"
   ]
  },
  {
   "cell_type": "code",
   "execution_count": null,
   "metadata": {
    "execution": {
     "iopub.execute_input": "2024-05-29T13:26:15.043691Z",
     "iopub.status.busy": "2024-05-29T13:26:15.043002Z",
     "iopub.status.idle": "2024-05-29T13:26:16.722969Z",
     "shell.execute_reply": "2024-05-29T13:26:16.722107Z",
     "shell.execute_reply.started": "2024-05-29T13:26:15.043663Z"
    },
    "trusted": true
   },
   "outputs": [],
   "source": [
    "pred = model.predict(x_test)"
   ]
  },
  {
   "cell_type": "code",
   "execution_count": null,
   "metadata": {
    "execution": {
     "iopub.execute_input": "2024-05-29T13:26:18.437464Z",
     "iopub.status.busy": "2024-05-29T13:26:18.437060Z",
     "iopub.status.idle": "2024-05-29T13:26:18.446688Z",
     "shell.execute_reply": "2024-05-29T13:26:18.445789Z",
     "shell.execute_reply.started": "2024-05-29T13:26:18.437430Z"
    },
    "trusted": true
   },
   "outputs": [],
   "source": [
    "confusion_matrix(y_test, np.argmax(pred, axis=1))"
   ]
  },
  {
   "cell_type": "code",
   "execution_count": null,
   "metadata": {
    "execution": {
     "iopub.execute_input": "2024-05-29T13:26:24.356198Z",
     "iopub.status.busy": "2024-05-29T13:26:24.355815Z",
     "iopub.status.idle": "2024-05-29T13:26:24.834214Z",
     "shell.execute_reply": "2024-05-29T13:26:24.833210Z",
     "shell.execute_reply.started": "2024-05-29T13:26:24.356170Z"
    },
    "trusted": true
   },
   "outputs": [],
   "source": [
    "sns.heatmap(confusion_matrix(y_test, np.argmax(pred, axis=1)), annot=True);"
   ]
  },
  {
   "cell_type": "code",
   "execution_count": null,
   "metadata": {
    "execution": {
     "iopub.execute_input": "2024-05-29T13:26:36.648436Z",
     "iopub.status.busy": "2024-05-29T13:26:36.647732Z",
     "iopub.status.idle": "2024-05-29T13:26:36.668596Z",
     "shell.execute_reply": "2024-05-29T13:26:36.667652Z",
     "shell.execute_reply.started": "2024-05-29T13:26:36.648406Z"
    },
    "trusted": true
   },
   "outputs": [],
   "source": [
    "print(classification_report(y_test, np.argmax(pred, axis=1)))"
   ]
  },
  {
   "cell_type": "code",
   "execution_count": null,
   "metadata": {
    "execution": {
     "iopub.execute_input": "2024-05-29T13:29:59.245319Z",
     "iopub.status.busy": "2024-05-29T13:29:59.244619Z",
     "iopub.status.idle": "2024-05-29T13:30:01.632245Z",
     "shell.execute_reply": "2024-05-29T13:30:01.631267Z",
     "shell.execute_reply.started": "2024-05-29T13:29:59.245287Z"
    },
    "trusted": true
   },
   "outputs": [],
   "source": [
    "def tahmin(img):\n",
    "    img=cv2.resize(image, (size,size))\n",
    "    img=cv2.cvtColor(img, cv2.COLOR_BGR2GRAY)\n",
    "    img=img/255.0 \n",
    "    img=np.array(img)\n",
    "    img=np.expand_dims(img, axis=0)\n",
    "    thmn=model.predict(img)\n",
    "    thmn=np.argmax(thmn)\n",
    "    return thmn\n",
    "\n",
    "selected_images = test.sample(24)\n",
    "selected_images = selected_images.reset_index(drop=True)\n",
    "\n",
    "fig, axes = plt.subplots(3, 8, figsize=(12, 7))\n",
    "\n",
    "for i, ax in enumerate(axes.flat):\n",
    "    image=cv2.imread(str(selected_images[\"img\"][i]))\n",
    "    ax.imshow(image)\n",
    "    ax.axis(\"off\")\n",
    "    pred=tahmin(image)\n",
    "    ax.text(0.5, -0.2, \"True:\" + classes[selected_images[\"encode_label\"][i]], transform=ax.transAxes, ha='center')\n",
    "    ax.text(0.5, -0.4, \"Predicted:\" + classes[pred], transform=ax.transAxes, ha='center')\n",
    "plt.tight_layout()\n",
    "plt.show()"
   ]
  },
  {
   "cell_type": "code",
   "execution_count": null,
   "metadata": {
    "execution": {
     "iopub.execute_input": "2024-05-29T13:33:31.374044Z",
     "iopub.status.busy": "2024-05-29T13:33:31.373276Z",
     "iopub.status.idle": "2024-05-29T13:33:31.523521Z",
     "shell.execute_reply": "2024-05-29T13:33:31.522446Z",
     "shell.execute_reply.started": "2024-05-29T13:33:31.374013Z"
    },
    "trusted": true
   },
   "outputs": [],
   "source": [
    "model.save(\"emotion_model.keras\")"
   ]
  },
  {
   "cell_type": "markdown",
   "metadata": {},
   "source": [
    "## Sonuç:\n",
    "7 farklı duygu çeşitini öğrenip, tahmin eden bir model geliştirildi. Modelin Eğitim başarısı yaklaşık %98 iken Doğrulama başarısı yaklaşık %57 olmuştur. Modeldeki test verileri içinden rastgele seçilen 24 resim yeniden tahmin edilmiş ve 13 tanesinin doğru tahmin edildiği görülmüştür. Genellikle happy, neutral ve angry türlerinde daha fazla doğru tahmin ettiği düşünülmektedir."
   ]
  }
 ],
 "metadata": {
  "kaggle": {
   "accelerator": "none",
   "dataSources": [
    {
     "datasetId": 786787,
     "sourceId": 1351797,
     "sourceType": "datasetVersion"
    }
   ],
   "dockerImageVersionId": 30699,
   "isGpuEnabled": false,
   "isInternetEnabled": true,
   "language": "python",
   "sourceType": "notebook"
  },
  "kernelspec": {
   "display_name": "Python 3",
   "language": "python",
   "name": "python3"
  },
  "language_info": {
   "codemirror_mode": {
    "name": "ipython",
    "version": 3
   },
   "file_extension": ".py",
   "mimetype": "text/x-python",
   "name": "python",
   "nbconvert_exporter": "python",
   "pygments_lexer": "ipython3",
   "version": "3.10.13"
  }
 },
 "nbformat": 4,
 "nbformat_minor": 4
}
