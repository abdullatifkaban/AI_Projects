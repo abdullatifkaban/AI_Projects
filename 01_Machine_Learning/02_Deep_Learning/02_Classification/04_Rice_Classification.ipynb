{
 "cells": [
  {
   "cell_type": "code",
   "execution_count": null,
   "metadata": {
    "_cell_guid": "b1076dfc-b9ad-4769-8c92-a6c4dae69d19",
    "_uuid": "8f2839f25d086af736a60e9eeb907d3b93b6e0e5"
   },
   "outputs": [],
   "source": [
    "# This Python 3 environment comes with many helpful analytics libraries installed\n",
    "# It is defined by the kaggle/python Docker image: https://github.com/kaggle/docker-python\n",
    "# For example, here's several helpful packages to load\n",
    "\n",
    "import numpy as np # linear algebra\n",
    "import pandas as pd # data processing, CSV file I/O (e.g. pd.read_csv)\n",
    "\n",
    "# Input data files are available in the read-only \"../input/\" directory\n",
    "# For example, running this (by clicking run or pressing Shift+Enter) will list all files under the input directory\n",
    "\n",
    "import os\n",
    "for dirname, _, filenames in os.walk('/kaggle/input'):\n",
    "    for filename in filenames:\n",
    "        print(os.path.join(dirname, filename))\n",
    "\n",
    "# You can write up to 20GB to the current directory (/kaggle/working/) that gets preserved as output when you create a version using \"Save & Run All\" \n",
    "# You can also write temporary files to /kaggle/temp/, but they won't be saved outside of the current session"
   ]
  },
  {
   "cell_type": "markdown",
   "metadata": {},
   "source": [
    "# Rice Classification with CNN\n",
    "Bu projede 5 çeşit pirinç türünü tanıyan CNN modeli geliştiriyoruz.\n",
    "<br>\n",
    "Kullanılan pirinç türleri aşağıdaki gibidir:\n",
    "* Arborio\n",
    "* Basmati\n",
    "* Ipsala\n",
    "* Jasmine\n",
    "* Karacadag\n",
    "\n",
    "Bu proje dosyası kaggle üzerinde oluşturulmuş ve buraya aktarılmıştır. Bu projede kullanılan veri setine [buradan](https://www.kaggle.com/datasets/muratkokludataset/rice-image-dataset/data) ulaşılabilir. \n",
    "\n",
    "![](https://storage.googleapis.com/kaggle-datasets-images/2049052/3399185/7b6d21bb13197d412ca73fa90a143395/dataset-cover.jpg?t=2022-04-03-02-16-40)"
   ]
  },
  {
   "cell_type": "code",
   "execution_count": 1,
   "metadata": {
    "execution": {
     "iopub.execute_input": "2024-03-24T18:57:21.793911Z",
     "iopub.status.busy": "2024-03-24T18:57:21.793590Z",
     "iopub.status.idle": "2024-03-24T18:57:24.016508Z",
     "shell.execute_reply": "2024-03-24T18:57:24.015659Z",
     "shell.execute_reply.started": "2024-03-24T18:57:21.793885Z"
    }
   },
   "outputs": [],
   "source": [
    "#/kaggle/input/rice-image-dataset/Rice_Image_Dataset/Karacadag/Karacadag (11154).jpg\n",
    "import cv2\n",
    "import pandas as pd\n",
    "import numpy as np\n",
    "import os\n",
    "from sklearn.model_selection import train_test_split\n",
    "import matplotlib.pyplot as plt"
   ]
  },
  {
   "cell_type": "markdown",
   "metadata": {},
   "source": [
    "Öncelikle Resimlerin bulunduğu kök klasörün yolunu ve pirinç türlerinin etiketlerini belirleyelim"
   ]
  },
  {
   "cell_type": "code",
   "execution_count": 2,
   "metadata": {
    "execution": {
     "iopub.execute_input": "2024-03-24T18:57:31.577861Z",
     "iopub.status.busy": "2024-03-24T18:57:31.577194Z",
     "iopub.status.idle": "2024-03-24T18:57:31.582065Z",
     "shell.execute_reply": "2024-03-24T18:57:31.581025Z",
     "shell.execute_reply.started": "2024-03-24T18:57:31.577828Z"
    }
   },
   "outputs": [],
   "source": [
    "img_path=\"/kaggle/input/rice-image-dataset/Rice_Image_Dataset/\"\n",
    "labels = [\"Arborio\", \"Basmati\", \"Ipsala\", \"Jasmine\", \"Karacadag\"]"
   ]
  },
  {
   "cell_type": "markdown",
   "metadata": {},
   "source": [
    "Dosya yolu ve etiketlerinden bir Data Frame oluşturalım"
   ]
  },
  {
   "cell_type": "code",
   "execution_count": 3,
   "metadata": {
    "execution": {
     "iopub.execute_input": "2024-03-24T18:57:33.869683Z",
     "iopub.status.busy": "2024-03-24T18:57:33.869231Z",
     "iopub.status.idle": "2024-03-24T18:57:35.643399Z",
     "shell.execute_reply": "2024-03-24T18:57:35.642415Z",
     "shell.execute_reply.started": "2024-03-24T18:57:33.869650Z"
    }
   },
   "outputs": [],
   "source": [
    "img_list=[]\n",
    "label_list=[]\n",
    "for label in labels:\n",
    "    for img_file in os.listdir(img_path+label):\n",
    "        img_list.append(img_path+label+\"/\"+img_file)\n",
    "        label_list.append(label)"
   ]
  },
  {
   "cell_type": "code",
   "execution_count": 4,
   "metadata": {
    "execution": {
     "iopub.execute_input": "2024-03-24T18:57:37.308740Z",
     "iopub.status.busy": "2024-03-24T18:57:37.308366Z",
     "iopub.status.idle": "2024-03-24T18:57:37.326396Z",
     "shell.execute_reply": "2024-03-24T18:57:37.325622Z",
     "shell.execute_reply.started": "2024-03-24T18:57:37.308712Z"
    }
   },
   "outputs": [],
   "source": [
    "df=pd.DataFrame({\"img\":img_list, \"label\":label_list})"
   ]
  },
  {
   "cell_type": "code",
   "execution_count": 5,
   "metadata": {
    "execution": {
     "iopub.execute_input": "2024-03-24T18:57:37.767856Z",
     "iopub.status.busy": "2024-03-24T18:57:37.767144Z",
     "iopub.status.idle": "2024-03-24T18:57:37.789889Z",
     "shell.execute_reply": "2024-03-24T18:57:37.788989Z",
     "shell.execute_reply.started": "2024-03-24T18:57:37.767824Z"
    }
   },
   "outputs": [
    {
     "data": {
      "text/html": [
       "<div>\n",
       "<style scoped>\n",
       "    .dataframe tbody tr th:only-of-type {\n",
       "        vertical-align: middle;\n",
       "    }\n",
       "\n",
       "    .dataframe tbody tr th {\n",
       "        vertical-align: top;\n",
       "    }\n",
       "\n",
       "    .dataframe thead th {\n",
       "        text-align: right;\n",
       "    }\n",
       "</style>\n",
       "<table border=\"1\" class=\"dataframe\">\n",
       "  <thead>\n",
       "    <tr style=\"text-align: right;\">\n",
       "      <th></th>\n",
       "      <th>img</th>\n",
       "      <th>label</th>\n",
       "    </tr>\n",
       "  </thead>\n",
       "  <tbody>\n",
       "    <tr>\n",
       "      <th>51713</th>\n",
       "      <td>/kaggle/input/rice-image-dataset/Rice_Image_Da...</td>\n",
       "      <td>Jasmine</td>\n",
       "    </tr>\n",
       "    <tr>\n",
       "      <th>18412</th>\n",
       "      <td>/kaggle/input/rice-image-dataset/Rice_Image_Da...</td>\n",
       "      <td>Basmati</td>\n",
       "    </tr>\n",
       "    <tr>\n",
       "      <th>4068</th>\n",
       "      <td>/kaggle/input/rice-image-dataset/Rice_Image_Da...</td>\n",
       "      <td>Arborio</td>\n",
       "    </tr>\n",
       "    <tr>\n",
       "      <th>71673</th>\n",
       "      <td>/kaggle/input/rice-image-dataset/Rice_Image_Da...</td>\n",
       "      <td>Karacadag</td>\n",
       "    </tr>\n",
       "    <tr>\n",
       "      <th>48843</th>\n",
       "      <td>/kaggle/input/rice-image-dataset/Rice_Image_Da...</td>\n",
       "      <td>Jasmine</td>\n",
       "    </tr>\n",
       "    <tr>\n",
       "      <th>17445</th>\n",
       "      <td>/kaggle/input/rice-image-dataset/Rice_Image_Da...</td>\n",
       "      <td>Basmati</td>\n",
       "    </tr>\n",
       "    <tr>\n",
       "      <th>8385</th>\n",
       "      <td>/kaggle/input/rice-image-dataset/Rice_Image_Da...</td>\n",
       "      <td>Arborio</td>\n",
       "    </tr>\n",
       "    <tr>\n",
       "      <th>17429</th>\n",
       "      <td>/kaggle/input/rice-image-dataset/Rice_Image_Da...</td>\n",
       "      <td>Basmati</td>\n",
       "    </tr>\n",
       "    <tr>\n",
       "      <th>68442</th>\n",
       "      <td>/kaggle/input/rice-image-dataset/Rice_Image_Da...</td>\n",
       "      <td>Karacadag</td>\n",
       "    </tr>\n",
       "    <tr>\n",
       "      <th>24217</th>\n",
       "      <td>/kaggle/input/rice-image-dataset/Rice_Image_Da...</td>\n",
       "      <td>Basmati</td>\n",
       "    </tr>\n",
       "  </tbody>\n",
       "</table>\n",
       "</div>"
      ],
      "text/plain": [
       "                                                     img      label\n",
       "51713  /kaggle/input/rice-image-dataset/Rice_Image_Da...    Jasmine\n",
       "18412  /kaggle/input/rice-image-dataset/Rice_Image_Da...    Basmati\n",
       "4068   /kaggle/input/rice-image-dataset/Rice_Image_Da...    Arborio\n",
       "71673  /kaggle/input/rice-image-dataset/Rice_Image_Da...  Karacadag\n",
       "48843  /kaggle/input/rice-image-dataset/Rice_Image_Da...    Jasmine\n",
       "17445  /kaggle/input/rice-image-dataset/Rice_Image_Da...    Basmati\n",
       "8385   /kaggle/input/rice-image-dataset/Rice_Image_Da...    Arborio\n",
       "17429  /kaggle/input/rice-image-dataset/Rice_Image_Da...    Basmati\n",
       "68442  /kaggle/input/rice-image-dataset/Rice_Image_Da...  Karacadag\n",
       "24217  /kaggle/input/rice-image-dataset/Rice_Image_Da...    Basmati"
      ]
     },
     "execution_count": 5,
     "metadata": {},
     "output_type": "execute_result"
    }
   ],
   "source": [
    "df.sample(10)"
   ]
  },
  {
   "cell_type": "code",
   "execution_count": 10,
   "metadata": {
    "execution": {
     "iopub.execute_input": "2024-03-24T19:13:18.362841Z",
     "iopub.status.busy": "2024-03-24T19:13:18.362507Z",
     "iopub.status.idle": "2024-03-24T19:13:18.386901Z",
     "shell.execute_reply": "2024-03-24T19:13:18.386179Z",
     "shell.execute_reply.started": "2024-03-24T19:13:18.362816Z"
    }
   },
   "outputs": [
    {
     "data": {
      "text/html": [
       "<div>\n",
       "<style scoped>\n",
       "    .dataframe tbody tr th:only-of-type {\n",
       "        vertical-align: middle;\n",
       "    }\n",
       "\n",
       "    .dataframe tbody tr th {\n",
       "        vertical-align: top;\n",
       "    }\n",
       "\n",
       "    .dataframe thead th {\n",
       "        text-align: right;\n",
       "    }\n",
       "</style>\n",
       "<table border=\"1\" class=\"dataframe\">\n",
       "  <thead>\n",
       "    <tr style=\"text-align: right;\">\n",
       "      <th></th>\n",
       "      <th>img</th>\n",
       "      <th>label</th>\n",
       "      <th>encode_label</th>\n",
       "    </tr>\n",
       "  </thead>\n",
       "  <tbody>\n",
       "    <tr>\n",
       "      <th>33</th>\n",
       "      <td>/kaggle/input/rice-image-dataset/Rice_Image_Da...</td>\n",
       "      <td>Arborio</td>\n",
       "      <td>0</td>\n",
       "    </tr>\n",
       "    <tr>\n",
       "      <th>58419</th>\n",
       "      <td>/kaggle/input/rice-image-dataset/Rice_Image_Da...</td>\n",
       "      <td>Jasmine</td>\n",
       "      <td>3</td>\n",
       "    </tr>\n",
       "    <tr>\n",
       "      <th>30741</th>\n",
       "      <td>/kaggle/input/rice-image-dataset/Rice_Image_Da...</td>\n",
       "      <td>Ipsala</td>\n",
       "      <td>2</td>\n",
       "    </tr>\n",
       "    <tr>\n",
       "      <th>73396</th>\n",
       "      <td>/kaggle/input/rice-image-dataset/Rice_Image_Da...</td>\n",
       "      <td>Karacadag</td>\n",
       "      <td>4</td>\n",
       "    </tr>\n",
       "    <tr>\n",
       "      <th>63969</th>\n",
       "      <td>/kaggle/input/rice-image-dataset/Rice_Image_Da...</td>\n",
       "      <td>Karacadag</td>\n",
       "      <td>4</td>\n",
       "    </tr>\n",
       "    <tr>\n",
       "      <th>17784</th>\n",
       "      <td>/kaggle/input/rice-image-dataset/Rice_Image_Da...</td>\n",
       "      <td>Basmati</td>\n",
       "      <td>1</td>\n",
       "    </tr>\n",
       "    <tr>\n",
       "      <th>53113</th>\n",
       "      <td>/kaggle/input/rice-image-dataset/Rice_Image_Da...</td>\n",
       "      <td>Jasmine</td>\n",
       "      <td>3</td>\n",
       "    </tr>\n",
       "    <tr>\n",
       "      <th>7199</th>\n",
       "      <td>/kaggle/input/rice-image-dataset/Rice_Image_Da...</td>\n",
       "      <td>Arborio</td>\n",
       "      <td>0</td>\n",
       "    </tr>\n",
       "    <tr>\n",
       "      <th>19698</th>\n",
       "      <td>/kaggle/input/rice-image-dataset/Rice_Image_Da...</td>\n",
       "      <td>Basmati</td>\n",
       "      <td>1</td>\n",
       "    </tr>\n",
       "    <tr>\n",
       "      <th>51872</th>\n",
       "      <td>/kaggle/input/rice-image-dataset/Rice_Image_Da...</td>\n",
       "      <td>Jasmine</td>\n",
       "      <td>3</td>\n",
       "    </tr>\n",
       "  </tbody>\n",
       "</table>\n",
       "</div>"
      ],
      "text/plain": [
       "                                                     img      label  \\\n",
       "33     /kaggle/input/rice-image-dataset/Rice_Image_Da...    Arborio   \n",
       "58419  /kaggle/input/rice-image-dataset/Rice_Image_Da...    Jasmine   \n",
       "30741  /kaggle/input/rice-image-dataset/Rice_Image_Da...     Ipsala   \n",
       "73396  /kaggle/input/rice-image-dataset/Rice_Image_Da...  Karacadag   \n",
       "63969  /kaggle/input/rice-image-dataset/Rice_Image_Da...  Karacadag   \n",
       "17784  /kaggle/input/rice-image-dataset/Rice_Image_Da...    Basmati   \n",
       "53113  /kaggle/input/rice-image-dataset/Rice_Image_Da...    Jasmine   \n",
       "7199   /kaggle/input/rice-image-dataset/Rice_Image_Da...    Arborio   \n",
       "19698  /kaggle/input/rice-image-dataset/Rice_Image_Da...    Basmati   \n",
       "51872  /kaggle/input/rice-image-dataset/Rice_Image_Da...    Jasmine   \n",
       "\n",
       "       encode_label  \n",
       "33                0  \n",
       "58419             3  \n",
       "30741             2  \n",
       "73396             4  \n",
       "63969             4  \n",
       "17784             1  \n",
       "53113             3  \n",
       "7199              0  \n",
       "19698             1  \n",
       "51872             3  "
      ]
     },
     "execution_count": 10,
     "metadata": {},
     "output_type": "execute_result"
    }
   ],
   "source": [
    "d={\"Arborio\":0, \"Basmati\":1, \"Ipsala\":2, \"Jasmine\":3, \"Karacadag\":4}\n",
    "df[\"encode_label\"]= df[\"label\"].map(d)\n",
    "df.sample(10)"
   ]
  },
  {
   "cell_type": "code",
   "execution_count": 7,
   "metadata": {
    "execution": {
     "iopub.execute_input": "2024-03-24T18:57:38.550069Z",
     "iopub.status.busy": "2024-03-24T18:57:38.549327Z",
     "iopub.status.idle": "2024-03-24T18:57:38.573550Z",
     "shell.execute_reply": "2024-03-24T18:57:38.572731Z",
     "shell.execute_reply.started": "2024-03-24T18:57:38.550039Z"
    }
   },
   "outputs": [
    {
     "data": {
      "text/plain": [
       "(250, 250, 3)"
      ]
     },
     "execution_count": 7,
     "metadata": {},
     "output_type": "execute_result"
    }
   ],
   "source": [
    "pirinc=cv2.imread(str(df[\"img\"][0]))\n",
    "pirinc.shape"
   ]
  },
  {
   "cell_type": "markdown",
   "metadata": {},
   "source": [
    "Resimleri okuyup girdi veri setimizi oluşturalım"
   ]
  },
  {
   "cell_type": "code",
   "execution_count": 8,
   "metadata": {
    "execution": {
     "iopub.execute_input": "2024-03-24T18:57:39.876288Z",
     "iopub.status.busy": "2024-03-24T18:57:39.875624Z",
     "iopub.status.idle": "2024-03-24T19:08:58.808986Z",
     "shell.execute_reply": "2024-03-24T19:08:58.808164Z",
     "shell.execute_reply.started": "2024-03-24T18:57:39.876258Z"
    }
   },
   "outputs": [],
   "source": [
    "x=[]\n",
    "for img in df[\"img\"]:\n",
    "    img=cv2.imread(str(img))\n",
    "    img=cv2.resize(img, (50,50))\n",
    "    img=img/255.0 \n",
    "    x.append(img)"
   ]
  },
  {
   "cell_type": "code",
   "execution_count": 9,
   "metadata": {
    "execution": {
     "iopub.execute_input": "2024-03-24T19:12:56.744914Z",
     "iopub.status.busy": "2024-03-24T19:12:56.744556Z",
     "iopub.status.idle": "2024-03-24T19:12:57.035349Z",
     "shell.execute_reply": "2024-03-24T19:12:57.034439Z",
     "shell.execute_reply.started": "2024-03-24T19:12:56.744887Z"
    }
   },
   "outputs": [
    {
     "data": {
      "text/plain": [
       "<matplotlib.image.AxesImage at 0x7d4be6d4abc0>"
      ]
     },
     "execution_count": 9,
     "metadata": {},
     "output_type": "execute_result"
    },
    {
     "data": {
      "image/png": "[encoded data removed]",
      "text/plain": [
       "<Figure size 640x480 with 1 Axes>"
      ]
     },
     "metadata": {},
     "output_type": "display_data"
    }
   ],
   "source": [
    "plt.imshow(x[0])"
   ]
  },
  {
   "cell_type": "code",
   "execution_count": 11,
   "metadata": {
    "execution": {
     "iopub.execute_input": "2024-03-24T19:13:41.327870Z",
     "iopub.status.busy": "2024-03-24T19:13:41.327252Z",
     "iopub.status.idle": "2024-03-24T19:13:42.723803Z",
     "shell.execute_reply": "2024-03-24T19:13:42.723008Z",
     "shell.execute_reply.started": "2024-03-24T19:13:41.327839Z"
    }
   },
   "outputs": [],
   "source": [
    "x=np.array(x)"
   ]
  },
  {
   "cell_type": "code",
   "execution_count": 12,
   "metadata": {
    "execution": {
     "iopub.execute_input": "2024-03-24T19:13:54.452745Z",
     "iopub.status.busy": "2024-03-24T19:13:54.451999Z",
     "iopub.status.idle": "2024-03-24T19:13:54.456920Z",
     "shell.execute_reply": "2024-03-24T19:13:54.455897Z",
     "shell.execute_reply.started": "2024-03-24T19:13:54.452713Z"
    }
   },
   "outputs": [],
   "source": [
    "y=df['encode_label']"
   ]
  },
  {
   "cell_type": "code",
   "execution_count": 13,
   "metadata": {
    "execution": {
     "iopub.execute_input": "2024-03-24T19:14:31.955579Z",
     "iopub.status.busy": "2024-03-24T19:14:31.955200Z",
     "iopub.status.idle": "2024-03-24T19:14:33.268059Z",
     "shell.execute_reply": "2024-03-24T19:14:33.267254Z",
     "shell.execute_reply.started": "2024-03-24T19:14:31.955548Z"
    }
   },
   "outputs": [],
   "source": [
    "x_train,x_test,y_train,y_test=train_test_split(x,y,test_size=.20,random_state=42)"
   ]
  },
  {
   "cell_type": "markdown",
   "metadata": {},
   "source": [
    "## Modelleme"
   ]
  },
  {
   "cell_type": "code",
   "execution_count": 15,
   "metadata": {
    "execution": {
     "iopub.execute_input": "2024-03-24T19:14:52.799505Z",
     "iopub.status.busy": "2024-03-24T19:14:52.798379Z",
     "iopub.status.idle": "2024-03-24T19:14:52.804054Z",
     "shell.execute_reply": "2024-03-24T19:14:52.803002Z",
     "shell.execute_reply.started": "2024-03-24T19:14:52.799472Z"
    }
   },
   "outputs": [],
   "source": [
    "from keras.models import Sequential\n",
    "from keras.layers import Conv2D, Dense, Flatten, Input, MaxPooling2D, Dropout,BatchNormalization, Reshape"
   ]
  },
  {
   "cell_type": "code",
   "execution_count": 16,
   "metadata": {
    "execution": {
     "iopub.execute_input": "2024-03-24T19:14:56.114198Z",
     "iopub.status.busy": "2024-03-24T19:14:56.113539Z",
     "iopub.status.idle": "2024-03-24T19:14:56.737932Z",
     "shell.execute_reply": "2024-03-24T19:14:56.736896Z",
     "shell.execute_reply.started": "2024-03-24T19:14:56.114166Z"
    }
   },
   "outputs": [],
   "source": [
    "model=Sequential()\n",
    "model.add(Input(shape=(50,50,3)))\n",
    "model.add(Conv2D(32,kernel_size=(3,3),activation='relu'))\n",
    "model.add(MaxPooling2D(pool_size=(2,2)))\n",
    "model.add(Conv2D(64,kernel_size=(3,3),activation='relu'))\n",
    "model.add(MaxPooling2D(pool_size=(2,2)))\n",
    "model.add(Flatten())\n",
    "model.add(Dense(128))\n",
    "model.add(Dense(5, activation='softmax'))\n",
    "model.compile(optimizer='adam',loss='sparse_categorical_crossentropy',metrics=['accuracy'])"
   ]
  },
  {
   "cell_type": "code",
   "execution_count": 17,
   "metadata": {
    "execution": {
     "iopub.execute_input": "2024-03-24T19:15:26.558072Z",
     "iopub.status.busy": "2024-03-24T19:15:26.557380Z",
     "iopub.status.idle": "2024-03-24T19:16:45.590158Z",
     "shell.execute_reply": "2024-03-24T19:16:45.589073Z",
     "shell.execute_reply.started": "2024-03-24T19:15:26.558039Z"
    }
   },
   "outputs": [
    {
     "name": "stdout",
     "output_type": "stream",
     "text": [
      "Epoch 1/10\n",
      "\u001b[1m  48/1875\u001b[0m \u001b[37m━━━━━━━━━━━━━━━━━━━━\u001b[0m \u001b[1m5s\u001b[0m 3ms/step - accuracy: 0.6607 - loss: 0.8997"
     ]
    },
    {
     "name": "stderr",
     "output_type": "stream",
     "text": [
      "WARNING: All log messages before absl::InitializeLog() is called are written to STDERR\n",
      "I0000 00:00:1711307735.735863      88 device_compiler.h:186] Compiled cluster using XLA!  This line is logged at most once for the lifetime of the process.\n",
      "W0000 00:00:1711307735.754810      88 graph_launch.cc:671] Fallback to op-by-op mode because memset node breaks graph update\n"
     ]
    },
    {
     "name": "stdout",
     "output_type": "stream",
     "text": [
      "\u001b[1m1872/1875\u001b[0m \u001b[32m━━━━━━━━━━━━━━━━━━━\u001b[0m\u001b[37m━\u001b[0m \u001b[1m0s\u001b[0m 3ms/step - accuracy: 0.9336 - loss: 0.1919"
     ]
    },
    {
     "name": "stderr",
     "output_type": "stream",
     "text": [
      "W0000 00:00:1711307743.393626      87 graph_launch.cc:671] Fallback to op-by-op mode because memset node breaks graph update\n"
     ]
    },
    {
     "name": "stdout",
     "output_type": "stream",
     "text": [
      "\u001b[1m1875/1875\u001b[0m \u001b[32m━━━━━━━━━━━━━━━━━━━━\u001b[0m\u001b[37m\u001b[0m \u001b[1m14s\u001b[0m 5ms/step - accuracy: 0.9336 - loss: 0.1917 - val_accuracy: 0.9754 - val_loss: 0.0674\n",
      "Epoch 2/10\n",
      "\u001b[1m1875/1875\u001b[0m \u001b[32m━━━━━━━━━━━━━━━━━━━━\u001b[0m\u001b[37m\u001b[0m \u001b[1m7s\u001b[0m 4ms/step - accuracy: 0.9837 - loss: 0.0496 - val_accuracy: 0.9866 - val_loss: 0.0401\n",
      "Epoch 3/10\n",
      "\u001b[1m1875/1875\u001b[0m \u001b[32m━━━━━━━━━━━━━━━━━━━━\u001b[0m\u001b[37m\u001b[0m \u001b[1m7s\u001b[0m 4ms/step - accuracy: 0.9899 - loss: 0.0306 - val_accuracy: 0.9871 - val_loss: 0.0417\n",
      "Epoch 4/10\n",
      "\u001b[1m1875/1875\u001b[0m \u001b[32m━━━━━━━━━━━━━━━━━━━━\u001b[0m\u001b[37m\u001b[0m \u001b[1m7s\u001b[0m 4ms/step - accuracy: 0.9923 - loss: 0.0236 - val_accuracy: 0.9929 - val_loss: 0.0213\n",
      "Epoch 5/10\n",
      "\u001b[1m1875/1875\u001b[0m \u001b[32m━━━━━━━━━━━━━━━━━━━━\u001b[0m\u001b[37m\u001b[0m \u001b[1m7s\u001b[0m 4ms/step - accuracy: 0.9950 - loss: 0.0145 - val_accuracy: 0.9925 - val_loss: 0.0244\n",
      "Epoch 6/10\n",
      "\u001b[1m1875/1875\u001b[0m \u001b[32m━━━━━━━━━━━━━━━━━━━━\u001b[0m\u001b[37m\u001b[0m \u001b[1m7s\u001b[0m 4ms/step - accuracy: 0.9952 - loss: 0.0135 - val_accuracy: 0.9964 - val_loss: 0.0116\n",
      "Epoch 7/10\n",
      "\u001b[1m1875/1875\u001b[0m \u001b[32m━━━━━━━━━━━━━━━━━━━━\u001b[0m\u001b[37m\u001b[0m \u001b[1m7s\u001b[0m 4ms/step - accuracy: 0.9956 - loss: 0.0129 - val_accuracy: 0.9950 - val_loss: 0.0157\n",
      "Epoch 8/10\n",
      "\u001b[1m1875/1875\u001b[0m \u001b[32m━━━━━━━━━━━━━━━━━━━━\u001b[0m\u001b[37m\u001b[0m \u001b[1m7s\u001b[0m 4ms/step - accuracy: 0.9960 - loss: 0.0106 - val_accuracy: 0.9840 - val_loss: 0.0520\n",
      "Epoch 9/10\n",
      "\u001b[1m1875/1875\u001b[0m \u001b[32m━━━━━━━━━━━━━━━━━━━━\u001b[0m\u001b[37m\u001b[0m \u001b[1m7s\u001b[0m 4ms/step - accuracy: 0.9945 - loss: 0.0156 - val_accuracy: 0.9955 - val_loss: 0.0141\n",
      "Epoch 10/10\n",
      "\u001b[1m1875/1875\u001b[0m \u001b[32m━━━━━━━━━━━━━━━━━━━━\u001b[0m\u001b[37m\u001b[0m \u001b[1m7s\u001b[0m 4ms/step - accuracy: 0.9966 - loss: 0.0098 - val_accuracy: 0.9947 - val_loss: 0.0197\n"
     ]
    }
   ],
   "source": [
    "history=model.fit(x_train,y_train,validation_data=(x_test,y_test), epochs=10, verbose=1)"
   ]
  },
  {
   "cell_type": "code",
   "execution_count": 18,
   "metadata": {
    "execution": {
     "iopub.execute_input": "2024-03-24T19:18:05.983957Z",
     "iopub.status.busy": "2024-03-24T19:18:05.983578Z",
     "iopub.status.idle": "2024-03-24T19:18:06.040992Z",
     "shell.execute_reply": "2024-03-24T19:18:06.040241Z",
     "shell.execute_reply.started": "2024-03-24T19:18:05.983925Z"
    }
   },
   "outputs": [],
   "source": [
    "model.save('rice_class_model.h5')"
   ]
  },
  {
   "cell_type": "markdown",
   "metadata": {},
   "source": [
    "## Sonuç\n",
    "\n",
    "Bu projede pirinç türlerini ayırt eden bir derin öğrenme modeli geliştirilmiştir. "
   ]
  }
 ],
 "metadata": {
  "kaggle": {
   "accelerator": "nvidiaTeslaT4",
   "dataSources": [
    {
     "datasetId": 2049052,
     "sourceId": 3399185,
     "sourceType": "datasetVersion"
    }
   ],
   "dockerImageVersionId": 30675,
   "isGpuEnabled": true,
   "isInternetEnabled": true,
   "language": "python",
   "sourceType": "notebook"
  },
  "kernelspec": {
   "display_name": "Python 3 (ipykernel)",
   "language": "python",
   "name": "python3"
  },
  "language_info": {
   "codemirror_mode": {
    "name": "ipython",
    "version": 3
   },
   "file_extension": ".py",
   "mimetype": "text/x-python",
   "name": "python",
   "nbconvert_exporter": "python",
   "pygments_lexer": "ipython3",
   "version": "3.12.4"
  }
 },
 "nbformat": 4,
 "nbformat_minor": 4
}
