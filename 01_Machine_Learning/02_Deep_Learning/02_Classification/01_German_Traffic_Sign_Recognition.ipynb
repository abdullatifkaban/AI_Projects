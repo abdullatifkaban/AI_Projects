{
 "cells": [
  {
   "cell_type": "markdown",
   "id": "160de8cf-131b-40f9-bea8-6164cbadc545",
   "metadata": {},
   "source": [
    "# German Traffic Sign Recognition\n",
    "\n",
    "Bu projede Almanya Trafik İşaretlerini tanıyan bir model geliştiriyoruz.\n",
    "\n",
    "Projede kullanılan veri setine [buradan](https://www.kaggle.com/datasets/meowmeowmeowmeowmeow/gtsrb-german-traffic-sign) ulaşılabilir.\n",
    "\n",
    "![](https://storage.googleapis.com/kaggle-datasets-images/82373/191501/4f9f4f59d288718705ff67449bbc8e66/dataset-cover.jpg?t=2018-11-25-18-48-30)"
   ]
  },
  {
   "cell_type": "code",
   "execution_count": 32,
   "id": "a8c73f21-fc4d-48ea-8deb-9ebfd1b86d01",
   "metadata": {},
   "outputs": [],
   "source": [
    "import cv2\n",
    "import pandas as pd\n",
    "import numpy as np\n",
    "import os\n",
    "from sklearn.model_selection import train_test_split\n",
    "import matplotlib.pyplot as plt\n",
    "import warnings\n",
    "warnings.filterwarnings(\"ignore\")"
   ]
  },
  {
   "cell_type": "code",
   "execution_count": 3,
   "id": "cda68c88-105f-405a-a5c3-80868fbe8cad",
   "metadata": {},
   "outputs": [],
   "source": [
    "img_path=\"Dataset/Train/\"\n",
    "labels = [item for item in os.listdir(img_path) if os.path.isdir(os.path.join(img_path, item))]"
   ]
  },
  {
   "cell_type": "code",
   "execution_count": 5,
   "id": "116ac597-d241-4c16-b1f3-59b857673ae5",
   "metadata": {},
   "outputs": [],
   "source": [
    "def set_df(dir):\n",
    "    img_list=[]\n",
    "    label_list=[]\n",
    "    for label in labels:\n",
    "        i=0\n",
    "        for img_file in os.listdir(dir+label):\n",
    "            i+=1\n",
    "            img_list.append(dir+label+\"/\"+img_file)\n",
    "            label_list.append(label)\n",
    "    df=pd.DataFrame({\"img\":img_list, \"label\":label_list})\n",
    "    return df"
   ]
  },
  {
   "cell_type": "code",
   "execution_count": 7,
   "id": "1420361a-0e96-4260-bab4-c937c3aedf37",
   "metadata": {},
   "outputs": [],
   "source": [
    "df=set_df(img_path)"
   ]
  },
  {
   "cell_type": "code",
   "execution_count": 9,
   "id": "5221ddf3-9bbe-46a3-b59c-28d60b0a73f3",
   "metadata": {},
   "outputs": [
    {
     "data": {
      "text/html": [
       "<div>\n",
       "<style scoped>\n",
       "    .dataframe tbody tr th:only-of-type {\n",
       "        vertical-align: middle;\n",
       "    }\n",
       "\n",
       "    .dataframe tbody tr th {\n",
       "        vertical-align: top;\n",
       "    }\n",
       "\n",
       "    .dataframe thead th {\n",
       "        text-align: right;\n",
       "    }\n",
       "</style>\n",
       "<table border=\"1\" class=\"dataframe\">\n",
       "  <thead>\n",
       "    <tr style=\"text-align: right;\">\n",
       "      <th></th>\n",
       "      <th>img</th>\n",
       "      <th>label</th>\n",
       "    </tr>\n",
       "  </thead>\n",
       "  <tbody>\n",
       "    <tr>\n",
       "      <th>22305</th>\n",
       "      <td>Dataset/Train/41/00041_00007_00007.png</td>\n",
       "      <td>41</td>\n",
       "    </tr>\n",
       "    <tr>\n",
       "      <th>22703</th>\n",
       "      <td>Dataset/Train/21/00021_00000_00017.png</td>\n",
       "      <td>21</td>\n",
       "    </tr>\n",
       "    <tr>\n",
       "      <th>30155</th>\n",
       "      <td>Dataset/Train/13/00013_00022_00009.png</td>\n",
       "      <td>13</td>\n",
       "    </tr>\n",
       "    <tr>\n",
       "      <th>5934</th>\n",
       "      <td>Dataset/Train/1/00001_00036_00023.png</td>\n",
       "      <td>1</td>\n",
       "    </tr>\n",
       "    <tr>\n",
       "      <th>21668</th>\n",
       "      <td>Dataset/Train/12/00012_00033_00023.png</td>\n",
       "      <td>12</td>\n",
       "    </tr>\n",
       "    <tr>\n",
       "      <th>15378</th>\n",
       "      <td>Dataset/Train/17/00017_00020_00003.png</td>\n",
       "      <td>17</td>\n",
       "    </tr>\n",
       "    <tr>\n",
       "      <th>37413</th>\n",
       "      <td>Dataset/Train/16/00016_00011_00006.png</td>\n",
       "      <td>16</td>\n",
       "    </tr>\n",
       "    <tr>\n",
       "      <th>31918</th>\n",
       "      <td>Dataset/Train/10/00010_00013_00010.png</td>\n",
       "      <td>10</td>\n",
       "    </tr>\n",
       "    <tr>\n",
       "      <th>17245</th>\n",
       "      <td>Dataset/Train/26/00026_00014_00011.png</td>\n",
       "      <td>26</td>\n",
       "    </tr>\n",
       "    <tr>\n",
       "      <th>37038</th>\n",
       "      <td>Dataset/Train/5/00005_00013_00026.png</td>\n",
       "      <td>5</td>\n",
       "    </tr>\n",
       "  </tbody>\n",
       "</table>\n",
       "</div>"
      ],
      "text/plain": [
       "                                          img label\n",
       "22305  Dataset/Train/41/00041_00007_00007.png    41\n",
       "22703  Dataset/Train/21/00021_00000_00017.png    21\n",
       "30155  Dataset/Train/13/00013_00022_00009.png    13\n",
       "5934    Dataset/Train/1/00001_00036_00023.png     1\n",
       "21668  Dataset/Train/12/00012_00033_00023.png    12\n",
       "15378  Dataset/Train/17/00017_00020_00003.png    17\n",
       "37413  Dataset/Train/16/00016_00011_00006.png    16\n",
       "31918  Dataset/Train/10/00010_00013_00010.png    10\n",
       "17245  Dataset/Train/26/00026_00014_00011.png    26\n",
       "37038   Dataset/Train/5/00005_00013_00026.png     5"
      ]
     },
     "execution_count": 9,
     "metadata": {},
     "output_type": "execute_result"
    }
   ],
   "source": [
    "df.sample(10)"
   ]
  },
  {
   "cell_type": "code",
   "execution_count": 11,
   "id": "53bf525b-4e36-4b3d-b3dd-36e928d59504",
   "metadata": {},
   "outputs": [
    {
     "name": "stdout",
     "output_type": "stream",
     "text": [
      "<class 'pandas.core.frame.DataFrame'>\n",
      "RangeIndex: 39209 entries, 0 to 39208\n",
      "Data columns (total 2 columns):\n",
      " #   Column  Non-Null Count  Dtype \n",
      "---  ------  --------------  ----- \n",
      " 0   img     39209 non-null  object\n",
      " 1   label   39209 non-null  object\n",
      "dtypes: object(2)\n",
      "memory usage: 612.8+ KB\n"
     ]
    }
   ],
   "source": [
    "df.info()"
   ]
  },
  {
   "cell_type": "code",
   "execution_count": 13,
   "id": "ebe3272a-8220-4914-8580-2d057b36a54b",
   "metadata": {},
   "outputs": [
    {
     "data": {
      "text/plain": [
       "(87, 99, 3)"
      ]
     },
     "execution_count": 13,
     "metadata": {},
     "output_type": "execute_result"
    }
   ],
   "source": [
    "image=cv2.imread(str(df[\"img\"][0]))\n",
    "image.shape"
   ]
  },
  {
   "cell_type": "code",
   "execution_count": 15,
   "id": "973a9c00-bc58-4c15-bcab-58abac9fc076",
   "metadata": {},
   "outputs": [
    {
     "data": {
      "text/plain": [
       "<matplotlib.image.AxesImage at 0x7638320b6a20>"
      ]
     },
     "execution_count": 15,
     "metadata": {},
     "output_type": "execute_result"
    },
    {
     "data": {
      "image/png": "[encoded data removed]",
      "text/plain": [
       "<Figure size 640x480 with 1 Axes>"
      ]
     },
     "metadata": {},
     "output_type": "display_data"
    }
   ],
   "source": [
    "plt.imshow(image)"
   ]
  },
  {
   "cell_type": "code",
   "execution_count": 17,
   "id": "71ee1dac-35c4-4961-9b80-ed29fb993f32",
   "metadata": {},
   "outputs": [],
   "source": [
    "size=32\n",
    "x=[]\n",
    "for imge in df[\"img\"]:\n",
    "    img=cv2.imread(str(imge))\n",
    "    #print(imge, img.shape)\n",
    "    img=cv2.resize(img, (size,size)) #, cv2.INTER_LINEAR)\n",
    "    img=img/255.0 \n",
    "    x.append(img)"
   ]
  },
  {
   "cell_type": "code",
   "execution_count": 19,
   "id": "379f3f52-d83a-4ec0-a53e-764ace3bc0e4",
   "metadata": {},
   "outputs": [],
   "source": [
    "x=np.array(x)"
   ]
  },
  {
   "cell_type": "code",
   "execution_count": 21,
   "id": "609ad8aa-4436-4cbc-b093-63d278bb55c8",
   "metadata": {},
   "outputs": [],
   "source": [
    "y=df['label'].astype(int)"
   ]
  },
  {
   "cell_type": "code",
   "execution_count": 23,
   "id": "db767d7f-5ac1-4f23-91f8-25d73a48dcad",
   "metadata": {},
   "outputs": [],
   "source": [
    "x_train,x_test,y_train,y_test=train_test_split(x,y,test_size=.2,random_state=42)"
   ]
  },
  {
   "cell_type": "markdown",
   "id": "cf368b91-c434-442c-848d-006f6eea5766",
   "metadata": {},
   "source": [
    "## Modelleme"
   ]
  },
  {
   "cell_type": "code",
   "execution_count": 26,
   "id": "36806eef-2e54-41c0-88b3-c6f6374d6aad",
   "metadata": {},
   "outputs": [
    {
     "name": "stderr",
     "output_type": "stream",
     "text": [
      "2024-07-11 18:52:22.021255: E external/local_xla/xla/stream_executor/cuda/cuda_fft.cc:479] Unable to register cuFFT factory: Attempting to register factory for plugin cuFFT when one has already been registered\n",
      "2024-07-11 18:52:22.040411: E external/local_xla/xla/stream_executor/cuda/cuda_dnn.cc:10575] Unable to register cuDNN factory: Attempting to register factory for plugin cuDNN when one has already been registered\n",
      "2024-07-11 18:52:22.040441: E external/local_xla/xla/stream_executor/cuda/cuda_blas.cc:1442] Unable to register cuBLAS factory: Attempting to register factory for plugin cuBLAS when one has already been registered\n",
      "2024-07-11 18:52:22.051951: I tensorflow/core/platform/cpu_feature_guard.cc:210] This TensorFlow binary is optimized to use available CPU instructions in performance-critical operations.\n",
      "To enable the following instructions: AVX2 FMA, in other operations, rebuild TensorFlow with the appropriate compiler flags.\n",
      "2024-07-11 18:52:22.926994: W tensorflow/compiler/tf2tensorrt/utils/py_utils.cc:38] TF-TRT Warning: Could not find TensorRT\n"
     ]
    }
   ],
   "source": [
    "from keras.models import Sequential\n",
    "from keras.layers import Conv2D, Dense, Flatten, Input, MaxPooling2D, Dropout, BatchNormalization, Reshape"
   ]
  },
  {
   "cell_type": "code",
   "execution_count": 34,
   "id": "6e667543-63c3-4eca-bd50-b1104d2505fe",
   "metadata": {},
   "outputs": [],
   "source": [
    "model=Sequential()\n",
    "model.add(Input(shape=(size,size,3)))\n",
    "model.add(Conv2D(16,kernel_size=(3,3),activation='relu'))\n",
    "model.add(Conv2D(32,kernel_size=(3,3),activation='relu'))\n",
    "model.add(MaxPooling2D(pool_size=(2,2)))\n",
    "model.add(BatchNormalization())\n",
    "\n",
    "model.add(Conv2D(64,kernel_size=(3,3),activation='relu'))\n",
    "model.add(Conv2D(128,kernel_size=(3,3),activation='relu'))\n",
    "model.add(MaxPooling2D(pool_size=(2,2)))\n",
    "model.add(BatchNormalization())\n",
    "\n",
    "model.add(Flatten())\n",
    "model.add(Dense(512, activation='relu'))\n",
    "model.add(BatchNormalization())\n",
    "model.add(Dropout(rate=.5))\n",
    "model.add(Dense(43, activation='softmax'))\n",
    "#categorical_crossentropy\n",
    "model.compile(optimizer='adam',loss='sparse_categorical_crossentropy',metrics=['accuracy'])"
   ]
  },
  {
   "cell_type": "code",
   "execution_count": 36,
   "id": "3c74bac8-6aea-457b-b852-abedd1bbd5f9",
   "metadata": {},
   "outputs": [
    {
     "name": "stdout",
     "output_type": "stream",
     "text": [
      "Epoch 1/30\n"
     ]
    },
    {
     "name": "stderr",
     "output_type": "stream",
     "text": [
      "2024-07-11 18:59:09.154124: W external/local_tsl/tsl/framework/cpu_allocator_impl.cc:83] Allocation of 385437696 exceeds 10% of free system memory.\n",
      "2024-07-11 18:59:09.399474: W external/local_tsl/tsl/framework/cpu_allocator_impl.cc:83] Allocation of 385437696 exceeds 10% of free system memory.\n"
     ]
    },
    {
     "name": "stdout",
     "output_type": "stream",
     "text": [
      "\u001b[1m981/981\u001b[0m \u001b[32m━━━━━━━━━━━━━━━━━━━━\u001b[0m\u001b[37m\u001b[0m \u001b[1m12s\u001b[0m 8ms/step - accuracy: 0.7511 - loss: 1.0318 - val_accuracy: 0.9850 - val_loss: 0.0514\n",
      "Epoch 2/30\n",
      "\u001b[1m981/981\u001b[0m \u001b[32m━━━━━━━━━━━━━━━━━━━━\u001b[0m\u001b[37m\u001b[0m \u001b[1m4s\u001b[0m 4ms/step - accuracy: 0.9860 - loss: 0.0456 - val_accuracy: 0.9805 - val_loss: 0.0610\n",
      "Epoch 3/30\n",
      "\u001b[1m981/981\u001b[0m \u001b[32m━━━━━━━━━━━━━━━━━━━━\u001b[0m\u001b[37m\u001b[0m \u001b[1m4s\u001b[0m 4ms/step - accuracy: 0.9920 - loss: 0.0268 - val_accuracy: 0.9884 - val_loss: 0.0361\n",
      "Epoch 4/30\n",
      "\u001b[1m981/981\u001b[0m \u001b[32m━━━━━━━━━━━━━━━━━━━━\u001b[0m\u001b[37m\u001b[0m \u001b[1m4s\u001b[0m 4ms/step - accuracy: 0.9886 - loss: 0.0357 - val_accuracy: 0.9913 - val_loss: 0.0325\n",
      "Epoch 5/30\n",
      "\u001b[1m981/981\u001b[0m \u001b[32m━━━━━━━━━━━━━━━━━━━━\u001b[0m\u001b[37m\u001b[0m \u001b[1m4s\u001b[0m 4ms/step - accuracy: 0.9949 - loss: 0.0150 - val_accuracy: 0.9879 - val_loss: 0.0514\n",
      "Epoch 6/30\n",
      "\u001b[1m981/981\u001b[0m \u001b[32m━━━━━━━━━━━━━━━━━━━━\u001b[0m\u001b[37m\u001b[0m \u001b[1m4s\u001b[0m 4ms/step - accuracy: 0.9930 - loss: 0.0213 - val_accuracy: 0.9920 - val_loss: 0.0248\n",
      "Epoch 7/30\n",
      "\u001b[1m981/981\u001b[0m \u001b[32m━━━━━━━━━━━━━━━━━━━━\u001b[0m\u001b[37m\u001b[0m \u001b[1m4s\u001b[0m 4ms/step - accuracy: 0.9953 - loss: 0.0160 - val_accuracy: 0.9957 - val_loss: 0.0188\n",
      "Epoch 8/30\n",
      "\u001b[1m981/981\u001b[0m \u001b[32m━━━━━━━━━━━━━━━━━━━━\u001b[0m\u001b[37m\u001b[0m \u001b[1m4s\u001b[0m 4ms/step - accuracy: 0.9932 - loss: 0.0250 - val_accuracy: 0.9938 - val_loss: 0.0229\n",
      "Epoch 9/30\n",
      "\u001b[1m981/981\u001b[0m \u001b[32m━━━━━━━━━━━━━━━━━━━━\u001b[0m\u001b[37m\u001b[0m \u001b[1m4s\u001b[0m 4ms/step - accuracy: 0.9962 - loss: 0.0134 - val_accuracy: 0.9959 - val_loss: 0.0182\n",
      "Epoch 10/30\n",
      "\u001b[1m981/981\u001b[0m \u001b[32m━━━━━━━━━━━━━━━━━━━━\u001b[0m\u001b[37m\u001b[0m \u001b[1m4s\u001b[0m 4ms/step - accuracy: 0.9979 - loss: 0.0072 - val_accuracy: 0.9969 - val_loss: 0.0122\n",
      "Epoch 11/30\n",
      "\u001b[1m981/981\u001b[0m \u001b[32m━━━━━━━━━━━━━━━━━━━━\u001b[0m\u001b[37m\u001b[0m \u001b[1m4s\u001b[0m 4ms/step - accuracy: 0.9965 - loss: 0.0110 - val_accuracy: 0.9870 - val_loss: 0.0504\n",
      "Epoch 12/30\n",
      "\u001b[1m981/981\u001b[0m \u001b[32m━━━━━━━━━━━━━━━━━━━━\u001b[0m\u001b[37m\u001b[0m \u001b[1m4s\u001b[0m 4ms/step - accuracy: 0.9898 - loss: 0.0351 - val_accuracy: 0.9953 - val_loss: 0.0179\n",
      "Epoch 13/30\n",
      "\u001b[1m981/981\u001b[0m \u001b[32m━━━━━━━━━━━━━━━━━━━━\u001b[0m\u001b[37m\u001b[0m \u001b[1m4s\u001b[0m 4ms/step - accuracy: 0.9983 - loss: 0.0058 - val_accuracy: 0.9927 - val_loss: 0.0315\n",
      "Epoch 14/30\n",
      "\u001b[1m981/981\u001b[0m \u001b[32m━━━━━━━━━━━━━━━━━━━━\u001b[0m\u001b[37m\u001b[0m \u001b[1m4s\u001b[0m 4ms/step - accuracy: 0.9962 - loss: 0.0114 - val_accuracy: 0.9964 - val_loss: 0.0166\n",
      "Epoch 15/30\n",
      "\u001b[1m981/981\u001b[0m \u001b[32m━━━━━━━━━━━━━━━━━━━━\u001b[0m\u001b[37m\u001b[0m \u001b[1m4s\u001b[0m 4ms/step - accuracy: 0.9987 - loss: 0.0044 - val_accuracy: 0.9966 - val_loss: 0.0137\n",
      "Epoch 16/30\n",
      "\u001b[1m981/981\u001b[0m \u001b[32m━━━━━━━━━━━━━━━━━━━━\u001b[0m\u001b[37m\u001b[0m \u001b[1m4s\u001b[0m 4ms/step - accuracy: 0.9969 - loss: 0.0103 - val_accuracy: 0.9966 - val_loss: 0.0186\n",
      "Epoch 17/30\n",
      "\u001b[1m981/981\u001b[0m \u001b[32m━━━━━━━━━━━━━━━━━━━━\u001b[0m\u001b[37m\u001b[0m \u001b[1m4s\u001b[0m 4ms/step - accuracy: 0.9972 - loss: 0.0085 - val_accuracy: 0.9967 - val_loss: 0.0138\n",
      "Epoch 18/30\n",
      "\u001b[1m981/981\u001b[0m \u001b[32m━━━━━━━━━━━━━━━━━━━━\u001b[0m\u001b[37m\u001b[0m \u001b[1m4s\u001b[0m 4ms/step - accuracy: 0.9980 - loss: 0.0074 - val_accuracy: 0.9962 - val_loss: 0.0153\n",
      "Epoch 19/30\n",
      "\u001b[1m981/981\u001b[0m \u001b[32m━━━━━━━━━━━━━━━━━━━━\u001b[0m\u001b[37m\u001b[0m \u001b[1m4s\u001b[0m 4ms/step - accuracy: 0.9980 - loss: 0.0068 - val_accuracy: 0.9936 - val_loss: 0.0257\n",
      "Epoch 20/30\n",
      "\u001b[1m981/981\u001b[0m \u001b[32m━━━━━━━━━━━━━━━━━━━━\u001b[0m\u001b[37m\u001b[0m \u001b[1m4s\u001b[0m 4ms/step - accuracy: 0.9965 - loss: 0.0126 - val_accuracy: 0.9957 - val_loss: 0.0237\n",
      "Epoch 21/30\n",
      "\u001b[1m981/981\u001b[0m \u001b[32m━━━━━━━━━━━━━━━━━━━━\u001b[0m\u001b[37m\u001b[0m \u001b[1m4s\u001b[0m 4ms/step - accuracy: 0.9986 - loss: 0.0040 - val_accuracy: 0.9952 - val_loss: 0.0263\n",
      "Epoch 22/30\n",
      "\u001b[1m981/981\u001b[0m \u001b[32m━━━━━━━━━━━━━━━━━━━━\u001b[0m\u001b[37m\u001b[0m \u001b[1m4s\u001b[0m 4ms/step - accuracy: 0.9986 - loss: 0.0052 - val_accuracy: 0.9926 - val_loss: 0.0333\n",
      "Epoch 23/30\n",
      "\u001b[1m981/981\u001b[0m \u001b[32m━━━━━━━━━━━━━━━━━━━━\u001b[0m\u001b[37m\u001b[0m \u001b[1m4s\u001b[0m 4ms/step - accuracy: 0.9972 - loss: 0.0094 - val_accuracy: 0.9958 - val_loss: 0.0176\n",
      "Epoch 24/30\n",
      "\u001b[1m981/981\u001b[0m \u001b[32m━━━━━━━━━━━━━━━━━━━━\u001b[0m\u001b[37m\u001b[0m \u001b[1m4s\u001b[0m 4ms/step - accuracy: 0.9977 - loss: 0.0088 - val_accuracy: 0.9968 - val_loss: 0.0165\n",
      "Epoch 25/30\n",
      "\u001b[1m981/981\u001b[0m \u001b[32m━━━━━━━━━━━━━━━━━━━━\u001b[0m\u001b[37m\u001b[0m \u001b[1m4s\u001b[0m 4ms/step - accuracy: 0.9988 - loss: 0.0038 - val_accuracy: 0.9969 - val_loss: 0.0181\n",
      "Epoch 26/30\n",
      "\u001b[1m981/981\u001b[0m \u001b[32m━━━━━━━━━━━━━━━━━━━━\u001b[0m\u001b[37m\u001b[0m \u001b[1m4s\u001b[0m 4ms/step - accuracy: 0.9984 - loss: 0.0046 - val_accuracy: 0.9941 - val_loss: 0.0222\n",
      "Epoch 27/30\n",
      "\u001b[1m981/981\u001b[0m \u001b[32m━━━━━━━━━━━━━━━━━━━━\u001b[0m\u001b[37m\u001b[0m \u001b[1m4s\u001b[0m 4ms/step - accuracy: 0.9987 - loss: 0.0039 - val_accuracy: 0.9949 - val_loss: 0.0241\n",
      "Epoch 28/30\n",
      "\u001b[1m981/981\u001b[0m \u001b[32m━━━━━━━━━━━━━━━━━━━━\u001b[0m\u001b[37m\u001b[0m \u001b[1m4s\u001b[0m 4ms/step - accuracy: 0.9973 - loss: 0.0084 - val_accuracy: 0.9946 - val_loss: 0.0196\n",
      "Epoch 29/30\n",
      "\u001b[1m981/981\u001b[0m \u001b[32m━━━━━━━━━━━━━━━━━━━━\u001b[0m\u001b[37m\u001b[0m \u001b[1m4s\u001b[0m 4ms/step - accuracy: 0.9987 - loss: 0.0051 - val_accuracy: 0.9957 - val_loss: 0.0197\n",
      "Epoch 30/30\n",
      "\u001b[1m981/981\u001b[0m \u001b[32m━━━━━━━━━━━━━━━━━━━━\u001b[0m\u001b[37m\u001b[0m \u001b[1m5s\u001b[0m 5ms/step - accuracy: 0.9981 - loss: 0.0049 - val_accuracy: 0.9962 - val_loss: 0.0198\n"
     ]
    }
   ],
   "source": [
    "history=model.fit(x_train,y_train,validation_data=(x_test,y_test), epochs=30, verbose=1)"
   ]
  },
  {
   "cell_type": "code",
   "execution_count": 18,
   "id": "4bc4c1dd-d4ff-40fa-9c66-a42d0f55187a",
   "metadata": {},
   "outputs": [
    {
     "data": {
      "image/png": "[encoded data removed]",
      "text/plain": [
       "<Figure size 800x500 with 1 Axes>"
      ]
     },
     "metadata": {},
     "output_type": "display_data"
    }
   ],
   "source": [
    "pd.DataFrame(history.history).plot(figsize=(8, 5))\n",
    "plt.grid(True)\n",
    "plt.gca().set_ylim(0, 1)\n",
    "plt.show()"
   ]
  },
  {
   "cell_type": "code",
   "execution_count": 19,
   "id": "8e391ac3-f760-4a56-9729-d595a9856005",
   "metadata": {},
   "outputs": [
    {
     "name": "stdout",
     "output_type": "stream",
     "text": [
      "\u001b[1m246/246\u001b[0m \u001b[32m━━━━━━━━━━━━━━━━━━━━\u001b[0m\u001b[37m\u001b[0m \u001b[1m1s\u001b[0m 3ms/step - accuracy: 0.9985 - loss: 0.0064\n"
     ]
    }
   ],
   "source": [
    "loss, accuracy = model.evaluate(x_test, y_test)"
   ]
  },
  {
   "cell_type": "code",
   "execution_count": 20,
   "id": "3c06f19b-7c07-46ed-bc9c-9b289368ae1e",
   "metadata": {},
   "outputs": [
    {
     "data": {
      "text/plain": [
       "0.9984697699546814"
      ]
     },
     "execution_count": 20,
     "metadata": {},
     "output_type": "execute_result"
    }
   ],
   "source": [
    "accuracy"
   ]
  },
  {
   "cell_type": "code",
   "execution_count": 21,
   "id": "dbed25f2-c23b-4814-85d1-22a2954a0129",
   "metadata": {},
   "outputs": [
    {
     "name": "stdout",
     "output_type": "stream",
     "text": [
      "\u001b[1m246/246\u001b[0m \u001b[32m━━━━━━━━━━━━━━━━━━━━\u001b[0m\u001b[37m\u001b[0m \u001b[1m1s\u001b[0m 4ms/step\n"
     ]
    }
   ],
   "source": [
    "pred = model.predict(x_test)"
   ]
  },
  {
   "cell_type": "code",
   "execution_count": 22,
   "id": "ba030f72-cd7a-4154-8086-5e0d87831534",
   "metadata": {},
   "outputs": [],
   "source": [
    "from sklearn.metrics import f1_score, confusion_matrix, classification_report"
   ]
  },
  {
   "cell_type": "code",
   "execution_count": 23,
   "id": "69161220-473f-474a-a6c8-ef2d33468ed0",
   "metadata": {},
   "outputs": [
    {
     "data": {
      "text/plain": [
       "array([[ 38,   0,   0, ...,   0,   0,   0],\n",
       "       [  0, 496,   0, ...,   0,   0,   0],\n",
       "       [  0,   1, 418, ...,   0,   0,   0],\n",
       "       ...,\n",
       "       [  0,   0,   1, ...,  77,   0,   0],\n",
       "       [  0,   0,   0, ...,   0,  40,   0],\n",
       "       [  0,   0,   0, ...,   0,   0,  46]], dtype=int64)"
      ]
     },
     "execution_count": 23,
     "metadata": {},
     "output_type": "execute_result"
    }
   ],
   "source": [
    "confusion_matrix(y_test, np.argmax(pred, axis=1))"
   ]
  },
  {
   "cell_type": "code",
   "execution_count": 24,
   "id": "c222614c-bbb6-4888-9d57-49ed90578693",
   "metadata": {},
   "outputs": [
    {
     "data": {
      "image/png": "[encoded data removed]",
      "text/plain": [
       "<Figure size 640x480 with 2 Axes>"
      ]
     },
     "metadata": {},
     "output_type": "display_data"
    }
   ],
   "source": [
    "import seaborn as sns\n",
    "sns.heatmap(confusion_matrix(y_test, np.argmax(pred, axis=1)), annot=True);"
   ]
  },
  {
   "cell_type": "code",
   "execution_count": 25,
   "id": "95f684b8-e4a0-4c46-b697-14ed44cb9637",
   "metadata": {},
   "outputs": [
    {
     "name": "stdout",
     "output_type": "stream",
     "text": [
      "              precision    recall  f1-score   support\n",
      "\n",
      "           0       1.00      1.00      1.00        38\n",
      "           1       1.00      1.00      1.00       496\n",
      "           2       1.00      1.00      1.00       420\n",
      "           3       0.99      1.00      1.00       294\n",
      "           4       1.00      1.00      1.00       400\n",
      "           5       1.00      0.99      0.99       364\n",
      "           6       1.00      1.00      1.00        69\n",
      "           7       1.00      1.00      1.00       313\n",
      "           8       1.00      1.00      1.00       274\n",
      "           9       1.00      1.00      1.00       277\n",
      "          10       1.00      1.00      1.00       398\n",
      "          11       1.00      1.00      1.00       261\n",
      "          12       1.00      1.00      1.00       443\n",
      "          13       1.00      1.00      1.00       422\n",
      "          14       1.00      1.00      1.00       135\n",
      "          15       1.00      1.00      1.00       118\n",
      "          16       1.00      1.00      1.00        86\n",
      "          17       1.00      1.00      1.00       240\n",
      "          18       1.00      1.00      1.00       215\n",
      "          19       0.98      0.98      0.98        42\n",
      "          20       0.97      0.98      0.97        57\n",
      "          21       1.00      1.00      1.00        67\n",
      "          22       1.00      1.00      1.00        57\n",
      "          23       1.00      1.00      1.00       106\n",
      "          24       1.00      1.00      1.00        61\n",
      "          25       1.00      1.00      1.00       328\n",
      "          26       1.00      0.98      0.99       121\n",
      "          27       1.00      1.00      1.00        60\n",
      "          28       1.00      1.00      1.00       103\n",
      "          29       1.00      1.00      1.00        54\n",
      "          30       1.00      1.00      1.00        86\n",
      "          31       1.00      0.99      1.00       156\n",
      "          32       1.00      1.00      1.00        34\n",
      "          33       1.00      1.00      1.00       153\n",
      "          34       1.00      1.00      1.00        79\n",
      "          35       1.00      1.00      1.00       240\n",
      "          36       1.00      1.00      1.00        76\n",
      "          37       1.00      1.00      1.00        48\n",
      "          38       1.00      1.00      1.00       434\n",
      "          39       1.00      1.00      1.00        53\n",
      "          40       0.99      0.99      0.99        78\n",
      "          41       1.00      1.00      1.00        40\n",
      "          42       1.00      1.00      1.00        46\n",
      "\n",
      "    accuracy                           1.00      7842\n",
      "   macro avg       1.00      1.00      1.00      7842\n",
      "weighted avg       1.00      1.00      1.00      7842\n",
      "\n"
     ]
    }
   ],
   "source": [
    "print(classification_report(y_test, np.argmax(pred, axis=1)))"
   ]
  },
  {
   "cell_type": "code",
   "execution_count": 26,
   "id": "367014ad-a4c9-4cc0-8b29-e65050dc4225",
   "metadata": {},
   "outputs": [
    {
     "name": "stderr",
     "output_type": "stream",
     "text": [
      "WARNING:absl:You are saving your model as an HDF5 file via `model.save()` or `keras.saving.save_model(model)`. This file format is considered legacy. We recommend using instead the native Keras format, e.g. `model.save('my_model.keras')` or `keras.saving.save_model(model, 'my_model.keras')`. \n"
     ]
    }
   ],
   "source": [
    "model.save('capstone_project.h5')"
   ]
  },
  {
   "cell_type": "code",
   "execution_count": 27,
   "id": "1f6cd770-2fce-494e-bd48-ca065933de46",
   "metadata": {},
   "outputs": [
    {
     "data": {
      "text/plain": [
       "(45, 42, 3)"
      ]
     },
     "execution_count": 27,
     "metadata": {},
     "output_type": "execute_result"
    }
   ],
   "source": [
    "imge=cv2.imread(\"Dataset/test/00001.png\")\n",
    "imge.shape"
   ]
  },
  {
   "cell_type": "code",
   "execution_count": 28,
   "id": "0b48d696-f2fa-4956-ae7c-8ef19c4176c6",
   "metadata": {},
   "outputs": [
    {
     "data": {
      "text/plain": [
       "<matplotlib.image.AxesImage at 0x2a8ebafbf50>"
      ]
     },
     "execution_count": 28,
     "metadata": {},
     "output_type": "execute_result"
    },
    {
     "data": {
      "image/png": "[encoded data removed]",
      "text/plain": [
       "<Figure size 640x480 with 1 Axes>"
      ]
     },
     "metadata": {},
     "output_type": "display_data"
    }
   ],
   "source": [
    "plt.imshow(imge)"
   ]
  },
  {
   "cell_type": "code",
   "execution_count": 29,
   "id": "2cc51dc6-549e-4951-8288-4b87845d46bc",
   "metadata": {},
   "outputs": [],
   "source": [
    "imge=cv2.resize(imge, (size,size))\n",
    "imge=imge/255.0"
   ]
  },
  {
   "cell_type": "code",
   "execution_count": 30,
   "id": "1db6ea81-a1b7-4ddc-b3a1-0b7390e89d33",
   "metadata": {},
   "outputs": [],
   "source": [
    "imge=np.array(imge)"
   ]
  },
  {
   "cell_type": "code",
   "execution_count": 31,
   "id": "faa9ede3-b21e-4eff-a12b-25211c8ede89",
   "metadata": {},
   "outputs": [
    {
     "data": {
      "text/plain": [
       "<matplotlib.image.AxesImage at 0x2a8eb94ce50>"
      ]
     },
     "execution_count": 31,
     "metadata": {},
     "output_type": "execute_result"
    },
    {
     "data": {
      "image/png": "[encoded data removed]",
      "text/plain": [
       "<Figure size 640x480 with 1 Axes>"
      ]
     },
     "metadata": {},
     "output_type": "display_data"
    }
   ],
   "source": [
    "plt.imshow(imge)"
   ]
  },
  {
   "cell_type": "code",
   "execution_count": 32,
   "id": "19473b77-8185-4936-b2f0-5bc1d43652b5",
   "metadata": {},
   "outputs": [],
   "source": [
    "imge=np.expand_dims(imge, axis=0)"
   ]
  },
  {
   "cell_type": "code",
   "execution_count": 40,
   "id": "9e2a6f1e-a844-412b-830c-b1cc9b01e652",
   "metadata": {},
   "outputs": [
    {
     "name": "stdout",
     "output_type": "stream",
     "text": [
      "\u001b[1m1/1\u001b[0m \u001b[32m━━━━━━━━━━━━━━━━━━━━\u001b[0m\u001b[37m\u001b[0m \u001b[1m0s\u001b[0m 28ms/step\n"
     ]
    },
    {
     "data": {
      "text/plain": [
       "1"
      ]
     },
     "execution_count": 40,
     "metadata": {},
     "output_type": "execute_result"
    }
   ],
   "source": [
    "tahmin=model.predict(imge)\n",
    "np.argmax(tahmin)"
   ]
  },
  {
   "cell_type": "markdown",
   "id": "d73557b4",
   "metadata": {},
   "source": [
    "## Sonuç\n",
    "\n",
    "Resim sınıflandırma mantığına dayalı derin öğrenme modeli geliştirdiğimiz bu projede trafik işaretlerinin doğru tahmin etmeye çalıştık."
   ]
  }
 ],
 "metadata": {
  "kernelspec": {
   "display_name": "Python 3 (ipykernel)",
   "language": "python",
   "name": "python3"
  },
  "language_info": {
   "codemirror_mode": {
    "name": "ipython",
    "version": 3
   },
   "file_extension": ".py",
   "mimetype": "text/x-python",
   "name": "python",
   "nbconvert_exporter": "python",
   "pygments_lexer": "ipython3",
   "version": "3.12.4"
  }
 },
 "nbformat": 4,
 "nbformat_minor": 5
}
