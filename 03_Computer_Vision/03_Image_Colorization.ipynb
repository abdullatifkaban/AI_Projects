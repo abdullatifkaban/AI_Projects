{
 "cells": [
  {
   "cell_type": "markdown",
   "id": "962036f8-8125-4d1d-bf6c-20e89f2c9383",
   "metadata": {},
   "source": [
    "# Black and White Image Colorization\n",
    "\n",
    "Bu projede siyah beyaz resimleri renklendiriyoruz.<br>\n",
    "\n",
    "Bu projenin yapımında <a href=\"https://www.youtube.com/watch?v=gAmskBNz_Vc\" target=_blank>bu videodan</a> faydalanılmıştır.<br><br>\n",
    "\n",
    "![Einstein](../Data/einstein.png)"
   ]
  },
  {
   "cell_type": "code",
   "execution_count": 1,
   "id": "e266bc20-3252-4e75-af08-60741c9ae508",
   "metadata": {},
   "outputs": [],
   "source": [
    "# Gerekli kütüphaneleri import ediyoruz.\n",
    "import numpy as np\n",
    "import argparse\n",
    "import cv2\n",
    "import os"
   ]
  },
  {
   "cell_type": "markdown",
   "id": "d2fee52b-2c85-4bf7-babb-0288853b3c1c",
   "metadata": {},
   "source": [
    "## Modeli Yükleme"
   ]
  },
  {
   "cell_type": "code",
   "execution_count": 2,
   "id": "eb56b2ed-e359-4ce4-8a64-d7dc2362ef2b",
   "metadata": {},
   "outputs": [],
   "source": [
    "color_dir = \"./colorize/\"\n",
    "prototx = os.path.join(color_dir, r\"model/colorization_deploy_v2.prototxt\")\n",
    "points = os.path.join(color_dir, r\"model/pts_in_hull.npy\")\n",
    "model = os.path.join(color_dir, r\"model/colorization_release_v2.caffemodel\")"
   ]
  },
  {
   "cell_type": "code",
   "execution_count": 3,
   "id": "b8d59de0-3ae4-458d-8d54-96b124ee2c24",
   "metadata": {},
   "outputs": [],
   "source": [
    "net = cv2.dnn.readNetFromCaffe(prototx, model)\n",
    "pts = np.load(points)"
   ]
  },
  {
   "cell_type": "code",
   "execution_count": 4,
   "id": "ece8a16f-1c51-412e-ab70-45e2bcf2eb2e",
   "metadata": {},
   "outputs": [],
   "source": [
    "class8 = net.getLayerId(\"class8_ab\")\n",
    "conv8 = net.getLayerId(\"conv8_313_rh\")\n",
    "pts = pts.transpose().reshape(2, 313, 1, 1)\n",
    "net.getLayer(class8).blobs = [pts.astype(\"float32\")]\n",
    "net.getLayer(conv8).blobs = [np.full([1, 313], 2.606, dtype=\"float32\")]"
   ]
  },
  {
   "cell_type": "markdown",
   "id": "8a1ac640-d766-4b0e-9f1f-4438c79b64f0",
   "metadata": {},
   "source": [
    "## Resmi Renklendirme"
   ]
  },
  {
   "cell_type": "code",
   "execution_count": 8,
   "id": "736490a6-4a54-4d70-9c03-7fa3bb4f9493",
   "metadata": {},
   "outputs": [],
   "source": [
    "# Renklendirilecek resmin belirlenmesi\n",
    "resim=\"colorize/images/einstein.jpg\"\n",
    "image = cv2.imread(resim)\n",
    "scaled = image.astype(\"float32\") / 255.0\n",
    "\n",
    "#Resim renk modu değişiyor RGB -> LAB\n",
    "lab = cv2.cvtColor(scaled, cv2.COLOR_BGR2LAB)"
   ]
  },
  {
   "cell_type": "code",
   "execution_count": 9,
   "id": "b6472c7b-3cd8-4419-9cea-0f1216e356a7",
   "metadata": {},
   "outputs": [],
   "source": [
    "resized = cv2.resize(lab, (224, 224))\n",
    "L = cv2.split(resized)[0]\n",
    "L -= 50"
   ]
  },
  {
   "cell_type": "code",
   "execution_count": 11,
   "id": "06a7a4cf-8dad-4555-bbb8-fd624bed1665",
   "metadata": {},
   "outputs": [],
   "source": [
    "# Renkli resim oluşturuluyor\n",
    "net.setInput(cv2.dnn.blobFromImage(L))\n",
    "ab = net.forward()[0, :, :, :].transpose((1, 2, 0))\n",
    "ab = cv2.resize(ab, (image.shape[1], image.shape[0]))\n",
    "L = cv2.split(lab)[0]\n",
    "colorized = np.concatenate((L[:, :, np.newaxis], ab), axis=2)\n",
    "\n",
    "# Resim tekrar RGB renk moduna dönüştürülüyor\n",
    "colorized = cv2.cvtColor(colorized, cv2.COLOR_LAB2BGR)\n",
    "colorized = np.clip(colorized, 0, 1)\n",
    "colorized = (255 * colorized).astype(\"uint8\")\n",
    "\n",
    "cv2.imshow(\"Original\", image)\n",
    "cv2.imshow(\"Colorized\", colorized)\n",
    "cv2.waitKey()\n",
    "cv2.destroyAllWindows()"
   ]
  },
  {
   "cell_type": "markdown",
   "id": "0e23fbfd-2503-42f2-8097-5d6be5fd75eb",
   "metadata": {},
   "source": [
    "## Sonuç:\n",
    "Bu projede siyah beyaz bir resmi hazır eğitilmiş bir model kullanarak renklendirdik. Model resmi ilk önce RGB renk modundan L*a*b renk moduna dönüştürüyor. Kısaca Lab renk modu olarak bilinen bu yöntemle renkler L(siyah - beyaz tonu), a(kırmızı - yeşil tonu), b(sarı - mavi tonu) ifade etmektedir. Model girdi olarak L katmanı, çıktı olark a+b katmanı verilerek eğitilmiş ve bu şekilde resimler renklendirilmiştir.\n",
    "<br><br> Bu projede oluşturulan uygulamaya <a href=\"https://huggingface.co/spaces/abdullatifkaban/Colorize\" target=_blank>\n",
    "<u>Hugging Face</u></a> üzerinden ulaşılabilir."
   ]
  }
 ],
 "metadata": {
  "kernelspec": {
   "display_name": "Python 3 (ipykernel)",
   "language": "python",
   "name": "python3"
  },
  "language_info": {
   "codemirror_mode": {
    "name": "ipython",
    "version": 3
   },
   "file_extension": ".py",
   "mimetype": "text/x-python",
   "name": "python",
   "nbconvert_exporter": "python",
   "pygments_lexer": "ipython3",
   "version": "3.9.19"
  }
 },
 "nbformat": 4,
 "nbformat_minor": 5
}
