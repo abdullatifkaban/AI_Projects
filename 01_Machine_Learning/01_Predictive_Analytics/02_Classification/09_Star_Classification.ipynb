{
 "cells": [
  {
   "cell_type": "code",
   "execution_count": 1,
   "id": "5c60f57e",
   "metadata": {
    "_cell_guid": "b1076dfc-b9ad-4769-8c92-a6c4dae69d19",
    "_uuid": "8f2839f25d086af736a60e9eeb907d3b93b6e0e5",
    "execution": {
     "iopub.execute_input": "2024-06-03T18:53:26.458822Z",
     "iopub.status.busy": "2024-06-03T18:53:26.458441Z",
     "iopub.status.idle": "2024-06-03T18:53:27.311788Z",
     "shell.execute_reply": "2024-06-03T18:53:27.310908Z"
    },
    "papermill": {
     "duration": 0.864962,
     "end_time": "2024-06-03T18:53:27.314013",
     "exception": false,
     "start_time": "2024-06-03T18:53:26.449051",
     "status": "completed"
    },
    "tags": []
   },
   "outputs": [
    {
     "name": "stdout",
     "output_type": "stream",
     "text": [
      "/kaggle/input/star-classification/train_star.csv\n",
      "/kaggle/input/star-classification/sample_submition.csv\n",
      "/kaggle/input/star-classification/test_star.csv\n"
     ]
    }
   ],
   "source": [
    "# This Python 3 environment comes with many helpful analytics libraries installed\n",
    "# It is defined by the kaggle/python Docker image: https://github.com/kaggle/docker-python\n",
    "# For example, here's several helpful packages to load\n",
    "\n",
    "import numpy as np # linear algebra\n",
    "import pandas as pd # data processing, CSV file I/O (e.g. pd.read_csv)\n",
    "\n",
    "# Input data files are available in the read-only \"../input/\" directory\n",
    "# For example, running this (by clicking run or pressing Shift+Enter) will list all files under the input directory\n",
    "\n",
    "import os\n",
    "for dirname, _, filenames in os.walk('/kaggle/input'):\n",
    "    for filename in filenames:\n",
    "        print(os.path.join(dirname, filename))\n",
    "\n",
    "# You can write up to 20GB to the current directory (/kaggle/working/) that gets preserved as output when you create a version using \"Save & Run All\" \n",
    "# You can also write temporary files to /kaggle/temp/, but they won't be saved outside of the current session"
   ]
  },
  {
   "cell_type": "markdown",
   "id": "0f28c73a",
   "metadata": {
    "papermill": {
     "duration": 0.006615,
     "end_time": "2024-06-03T18:53:27.327563",
     "exception": false,
     "start_time": "2024-06-03T18:53:27.320948",
     "status": "completed"
    },
    "tags": []
   },
   "source": [
    "# Star Classification\n",
    "<br>\n",
    "Bu projede yıldızları Büyük ve Normal olmak üzere sınıflandıran model geliştirilmektedir. <br>\n",
    "<img src=\"https://www.sydney.edu.au/content/dam/corporate/images/news-and-opinion/news/2022/april/star_types.jpeg/_jcr_content/renditions/cq5dam.web.1280.1280.jpeg\">"
   ]
  },
  {
   "cell_type": "code",
   "execution_count": 2,
   "id": "35164bbf",
   "metadata": {
    "execution": {
     "iopub.execute_input": "2024-06-03T18:53:27.342258Z",
     "iopub.status.busy": "2024-06-03T18:53:27.341842Z",
     "iopub.status.idle": "2024-06-03T18:53:28.678339Z",
     "shell.execute_reply": "2024-06-03T18:53:28.677598Z"
    },
    "papermill": {
     "duration": 1.346371,
     "end_time": "2024-06-03T18:53:28.680795",
     "exception": false,
     "start_time": "2024-06-03T18:53:27.334424",
     "status": "completed"
    },
    "tags": []
   },
   "outputs": [],
   "source": [
    "import seaborn as sns"
   ]
  },
  {
   "cell_type": "code",
   "execution_count": 3,
   "id": "9ef6fed3",
   "metadata": {
    "execution": {
     "iopub.execute_input": "2024-06-03T18:53:28.696197Z",
     "iopub.status.busy": "2024-06-03T18:53:28.695859Z",
     "iopub.status.idle": "2024-06-03T18:53:28.773873Z",
     "shell.execute_reply": "2024-06-03T18:53:28.772934Z"
    },
    "papermill": {
     "duration": 0.087979,
     "end_time": "2024-06-03T18:53:28.775958",
     "exception": false,
     "start_time": "2024-06-03T18:53:28.687979",
     "status": "completed"
    },
    "tags": []
   },
   "outputs": [
    {
     "data": {
      "text/html": [
       "<div>\n",
       "<style scoped>\n",
       "    .dataframe tbody tr th:only-of-type {\n",
       "        vertical-align: middle;\n",
       "    }\n",
       "\n",
       "    .dataframe tbody tr th {\n",
       "        vertical-align: top;\n",
       "    }\n",
       "\n",
       "    .dataframe thead th {\n",
       "        text-align: right;\n",
       "    }\n",
       "</style>\n",
       "<table border=\"1\" class=\"dataframe\">\n",
       "  <thead>\n",
       "    <tr style=\"text-align: right;\">\n",
       "      <th></th>\n",
       "      <th>Vmag</th>\n",
       "      <th>Plx</th>\n",
       "      <th>e_Plx</th>\n",
       "      <th>B-V</th>\n",
       "      <th>SpType</th>\n",
       "      <th>Amag</th>\n",
       "      <th>TargetClass</th>\n",
       "    </tr>\n",
       "  </thead>\n",
       "  <tbody>\n",
       "    <tr>\n",
       "      <th>0</th>\n",
       "      <td>9.99</td>\n",
       "      <td>7.92</td>\n",
       "      <td>1.61</td>\n",
       "      <td>0.646</td>\n",
       "      <td>G5/G6V</td>\n",
       "      <td>19.483625</td>\n",
       "      <td>Giant</td>\n",
       "    </tr>\n",
       "    <tr>\n",
       "      <th>1</th>\n",
       "      <td>10.86</td>\n",
       "      <td>3.26</td>\n",
       "      <td>2.12</td>\n",
       "      <td>1.840</td>\n",
       "      <td>M1V:</td>\n",
       "      <td>18.426088</td>\n",
       "      <td>Giant</td>\n",
       "    </tr>\n",
       "    <tr>\n",
       "      <th>2</th>\n",
       "      <td>8.83</td>\n",
       "      <td>7.57</td>\n",
       "      <td>1.05</td>\n",
       "      <td>0.461</td>\n",
       "      <td>F3V</td>\n",
       "      <td>18.225480</td>\n",
       "      <td>Giant</td>\n",
       "    </tr>\n",
       "    <tr>\n",
       "      <th>3</th>\n",
       "      <td>7.72</td>\n",
       "      <td>24.80</td>\n",
       "      <td>0.89</td>\n",
       "      <td>0.613</td>\n",
       "      <td>G3IV</td>\n",
       "      <td>19.692257</td>\n",
       "      <td>Giant</td>\n",
       "    </tr>\n",
       "    <tr>\n",
       "      <th>4</th>\n",
       "      <td>8.81</td>\n",
       "      <td>3.17</td>\n",
       "      <td>1.03</td>\n",
       "      <td>0.872</td>\n",
       "      <td>G6III</td>\n",
       "      <td>16.315296</td>\n",
       "      <td>Dwarf</td>\n",
       "    </tr>\n",
       "  </tbody>\n",
       "</table>\n",
       "</div>"
      ],
      "text/plain": [
       "    Vmag    Plx  e_Plx    B-V  SpType       Amag TargetClass\n",
       "0   9.99   7.92   1.61  0.646  G5/G6V  19.483625       Giant\n",
       "1  10.86   3.26   2.12  1.840    M1V:  18.426088       Giant\n",
       "2   8.83   7.57   1.05  0.461     F3V  18.225480       Giant\n",
       "3   7.72  24.80   0.89  0.613    G3IV  19.692257       Giant\n",
       "4   8.81   3.17   1.03  0.872   G6III  16.315296       Dwarf"
      ]
     },
     "execution_count": 3,
     "metadata": {},
     "output_type": "execute_result"
    }
   ],
   "source": [
    "df=pd.read_csv(\"/kaggle/input/star-classification/train_star.csv\")\n",
    "df.head()"
   ]
  },
  {
   "cell_type": "code",
   "execution_count": 4,
   "id": "7f766f97",
   "metadata": {
    "execution": {
     "iopub.execute_input": "2024-06-03T18:53:28.791913Z",
     "iopub.status.busy": "2024-06-03T18:53:28.791170Z",
     "iopub.status.idle": "2024-06-03T18:53:28.805915Z",
     "shell.execute_reply": "2024-06-03T18:53:28.805030Z"
    },
    "papermill": {
     "duration": 0.024594,
     "end_time": "2024-06-03T18:53:28.807737",
     "exception": false,
     "start_time": "2024-06-03T18:53:28.783143",
     "status": "completed"
    },
    "tags": []
   },
   "outputs": [
    {
     "data": {
      "text/plain": [
       "TargetClass\n",
       "Giant    15793\n",
       "Dwarf     4939\n",
       "Name: count, dtype: int64"
      ]
     },
     "execution_count": 4,
     "metadata": {},
     "output_type": "execute_result"
    }
   ],
   "source": [
    "df[\"TargetClass\"].value_counts()"
   ]
  },
  {
   "cell_type": "code",
   "execution_count": 5,
   "id": "4295d033",
   "metadata": {
    "execution": {
     "iopub.execute_input": "2024-06-03T18:53:28.822867Z",
     "iopub.status.busy": "2024-06-03T18:53:28.822562Z",
     "iopub.status.idle": "2024-06-03T18:53:28.842160Z",
     "shell.execute_reply": "2024-06-03T18:53:28.841196Z"
    },
    "papermill": {
     "duration": 0.029293,
     "end_time": "2024-06-03T18:53:28.844060",
     "exception": false,
     "start_time": "2024-06-03T18:53:28.814767",
     "status": "completed"
    },
    "tags": []
   },
   "outputs": [
    {
     "data": {
      "text/html": [
       "<div>\n",
       "<style scoped>\n",
       "    .dataframe tbody tr th:only-of-type {\n",
       "        vertical-align: middle;\n",
       "    }\n",
       "\n",
       "    .dataframe tbody tr th {\n",
       "        vertical-align: top;\n",
       "    }\n",
       "\n",
       "    .dataframe thead th {\n",
       "        text-align: right;\n",
       "    }\n",
       "</style>\n",
       "<table border=\"1\" class=\"dataframe\">\n",
       "  <thead>\n",
       "    <tr style=\"text-align: right;\">\n",
       "      <th></th>\n",
       "      <th>Vmag</th>\n",
       "      <th>Plx</th>\n",
       "      <th>e_Plx</th>\n",
       "      <th>B-V</th>\n",
       "      <th>SpType</th>\n",
       "      <th>Amag</th>\n",
       "      <th>TargetClass</th>\n",
       "      <th>Class</th>\n",
       "    </tr>\n",
       "  </thead>\n",
       "  <tbody>\n",
       "    <tr>\n",
       "      <th>0</th>\n",
       "      <td>9.99</td>\n",
       "      <td>7.92</td>\n",
       "      <td>1.61</td>\n",
       "      <td>0.646</td>\n",
       "      <td>G5/G6V</td>\n",
       "      <td>19.483625</td>\n",
       "      <td>Giant</td>\n",
       "      <td>1</td>\n",
       "    </tr>\n",
       "    <tr>\n",
       "      <th>1</th>\n",
       "      <td>10.86</td>\n",
       "      <td>3.26</td>\n",
       "      <td>2.12</td>\n",
       "      <td>1.840</td>\n",
       "      <td>M1V:</td>\n",
       "      <td>18.426088</td>\n",
       "      <td>Giant</td>\n",
       "      <td>1</td>\n",
       "    </tr>\n",
       "    <tr>\n",
       "      <th>2</th>\n",
       "      <td>8.83</td>\n",
       "      <td>7.57</td>\n",
       "      <td>1.05</td>\n",
       "      <td>0.461</td>\n",
       "      <td>F3V</td>\n",
       "      <td>18.225480</td>\n",
       "      <td>Giant</td>\n",
       "      <td>1</td>\n",
       "    </tr>\n",
       "    <tr>\n",
       "      <th>3</th>\n",
       "      <td>7.72</td>\n",
       "      <td>24.80</td>\n",
       "      <td>0.89</td>\n",
       "      <td>0.613</td>\n",
       "      <td>G3IV</td>\n",
       "      <td>19.692257</td>\n",
       "      <td>Giant</td>\n",
       "      <td>1</td>\n",
       "    </tr>\n",
       "    <tr>\n",
       "      <th>4</th>\n",
       "      <td>8.81</td>\n",
       "      <td>3.17</td>\n",
       "      <td>1.03</td>\n",
       "      <td>0.872</td>\n",
       "      <td>G6III</td>\n",
       "      <td>16.315296</td>\n",
       "      <td>Dwarf</td>\n",
       "      <td>0</td>\n",
       "    </tr>\n",
       "  </tbody>\n",
       "</table>\n",
       "</div>"
      ],
      "text/plain": [
       "    Vmag    Plx  e_Plx    B-V  SpType       Amag TargetClass  Class\n",
       "0   9.99   7.92   1.61  0.646  G5/G6V  19.483625       Giant      1\n",
       "1  10.86   3.26   2.12  1.840    M1V:  18.426088       Giant      1\n",
       "2   8.83   7.57   1.05  0.461     F3V  18.225480       Giant      1\n",
       "3   7.72  24.80   0.89  0.613    G3IV  19.692257       Giant      1\n",
       "4   8.81   3.17   1.03  0.872   G6III  16.315296       Dwarf      0"
      ]
     },
     "execution_count": 5,
     "metadata": {},
     "output_type": "execute_result"
    }
   ],
   "source": [
    "df[\"Class\"]=np.where(df[\"TargetClass\"]==\"Giant\", 1, 0)\n",
    "df.head()"
   ]
  },
  {
   "cell_type": "code",
   "execution_count": 6,
   "id": "efa21168",
   "metadata": {
    "execution": {
     "iopub.execute_input": "2024-06-03T18:53:28.860143Z",
     "iopub.status.busy": "2024-06-03T18:53:28.859507Z",
     "iopub.status.idle": "2024-06-03T18:53:28.882712Z",
     "shell.execute_reply": "2024-06-03T18:53:28.881552Z"
    },
    "papermill": {
     "duration": 0.0338,
     "end_time": "2024-06-03T18:53:28.885207",
     "exception": false,
     "start_time": "2024-06-03T18:53:28.851407",
     "status": "completed"
    },
    "tags": []
   },
   "outputs": [
    {
     "name": "stdout",
     "output_type": "stream",
     "text": [
      "<class 'pandas.core.frame.DataFrame'>\n",
      "RangeIndex: 20732 entries, 0 to 20731\n",
      "Data columns (total 8 columns):\n",
      " #   Column       Non-Null Count  Dtype  \n",
      "---  ------       --------------  -----  \n",
      " 0   Vmag         20732 non-null  float64\n",
      " 1   Plx          20732 non-null  float64\n",
      " 2   e_Plx        20732 non-null  float64\n",
      " 3   B-V          20732 non-null  float64\n",
      " 4   SpType       20732 non-null  object \n",
      " 5   Amag         20732 non-null  float64\n",
      " 6   TargetClass  20732 non-null  object \n",
      " 7   Class        20732 non-null  int64  \n",
      "dtypes: float64(5), int64(1), object(2)\n",
      "memory usage: 1.3+ MB\n"
     ]
    }
   ],
   "source": [
    "df.info()"
   ]
  },
  {
   "cell_type": "code",
   "execution_count": 7,
   "id": "8f3539a8",
   "metadata": {
    "execution": {
     "iopub.execute_input": "2024-06-03T18:53:28.902274Z",
     "iopub.status.busy": "2024-06-03T18:53:28.901997Z",
     "iopub.status.idle": "2024-06-03T18:53:29.166854Z",
     "shell.execute_reply": "2024-06-03T18:53:29.165356Z"
    },
    "papermill": {
     "duration": 0.275598,
     "end_time": "2024-06-03T18:53:29.169006",
     "exception": false,
     "start_time": "2024-06-03T18:53:28.893408",
     "status": "completed"
    },
    "tags": []
   },
   "outputs": [
    {
     "data": {
      "text/plain": [
       "<Axes: xlabel='Class', ylabel='count'>"
      ]
     },
     "execution_count": 7,
     "metadata": {},
     "output_type": "execute_result"
    },
    {
     "data": {
      "image/png": "[encoded data removed]",
      "text/plain": [
       "<Figure size 640x480 with 1 Axes>"
      ]
     },
     "metadata": {},
     "output_type": "display_data"
    }
   ],
   "source": [
    "sns.countplot(x=df[\"Class\"])"
   ]
  },
  {
   "cell_type": "code",
   "execution_count": 8,
   "id": "c5a61cbf",
   "metadata": {
    "execution": {
     "iopub.execute_input": "2024-06-03T18:53:29.186093Z",
     "iopub.status.busy": "2024-06-03T18:53:29.185770Z",
     "iopub.status.idle": "2024-06-03T18:53:29.196299Z",
     "shell.execute_reply": "2024-06-03T18:53:29.195441Z"
    },
    "papermill": {
     "duration": 0.02116,
     "end_time": "2024-06-03T18:53:29.198271",
     "exception": false,
     "start_time": "2024-06-03T18:53:29.177111",
     "status": "completed"
    },
    "tags": []
   },
   "outputs": [
    {
     "data": {
      "text/plain": [
       "SpType\n",
       "F5V          753\n",
       "K0III        710\n",
       "F3V          607\n",
       "A0V          575\n",
       "F6V          486\n",
       "            ... \n",
       "B1.5Ia:        1\n",
       "G8V + K4V      1\n",
       "A0II           1\n",
       "K8V:           1\n",
       "F2IV:          1\n",
       "Name: count, Length: 1681, dtype: int64"
      ]
     },
     "execution_count": 8,
     "metadata": {},
     "output_type": "execute_result"
    }
   ],
   "source": [
    "df[\"SpType\"].value_counts()"
   ]
  },
  {
   "cell_type": "code",
   "execution_count": 9,
   "id": "108e407e",
   "metadata": {
    "execution": {
     "iopub.execute_input": "2024-06-03T18:53:29.215504Z",
     "iopub.status.busy": "2024-06-03T18:53:29.215207Z",
     "iopub.status.idle": "2024-06-03T18:53:29.225621Z",
     "shell.execute_reply": "2024-06-03T18:53:29.224562Z"
    },
    "papermill": {
     "duration": 0.021163,
     "end_time": "2024-06-03T18:53:29.227444",
     "exception": false,
     "start_time": "2024-06-03T18:53:29.206281",
     "status": "completed"
    },
    "tags": []
   },
   "outputs": [
    {
     "data": {
      "text/plain": [
       "((20732, 5), (20732, 1))"
      ]
     },
     "execution_count": 9,
     "metadata": {},
     "output_type": "execute_result"
    }
   ],
   "source": [
    "x=df.drop([\"SpType\", \"TargetClass\", \"Class\"], axis=1)\n",
    "y=df[[\"Class\"]]\n",
    "x.shape, y.shape"
   ]
  },
  {
   "cell_type": "code",
   "execution_count": 10,
   "id": "7b8a769b",
   "metadata": {
    "execution": {
     "iopub.execute_input": "2024-06-03T18:53:29.244674Z",
     "iopub.status.busy": "2024-06-03T18:53:29.244421Z",
     "iopub.status.idle": "2024-06-03T18:53:30.011901Z",
     "shell.execute_reply": "2024-06-03T18:53:30.010689Z"
    },
    "papermill": {
     "duration": 0.778869,
     "end_time": "2024-06-03T18:53:30.014301",
     "exception": false,
     "start_time": "2024-06-03T18:53:29.235432",
     "status": "completed"
    },
    "tags": []
   },
   "outputs": [
    {
     "data": {
      "text/plain": [
       "((31586, 5), (31586, 1))"
      ]
     },
     "execution_count": 10,
     "metadata": {},
     "output_type": "execute_result"
    }
   ],
   "source": [
    "from imblearn.over_sampling import SMOTE\n",
    "\n",
    "smote = SMOTE()\n",
    "x, y = smote.fit_resample(x, y)\n",
    "x.shape, y.shape"
   ]
  },
  {
   "cell_type": "code",
   "execution_count": 11,
   "id": "16ec91f5",
   "metadata": {
    "execution": {
     "iopub.execute_input": "2024-06-03T18:53:30.035290Z",
     "iopub.status.busy": "2024-06-03T18:53:30.034810Z",
     "iopub.status.idle": "2024-06-03T18:53:30.281945Z",
     "shell.execute_reply": "2024-06-03T18:53:30.280994Z"
    },
    "papermill": {
     "duration": 0.259707,
     "end_time": "2024-06-03T18:53:30.284185",
     "exception": false,
     "start_time": "2024-06-03T18:53:30.024478",
     "status": "completed"
    },
    "tags": []
   },
   "outputs": [
    {
     "data": {
      "text/plain": [
       "<Axes: xlabel='Class', ylabel='count'>"
      ]
     },
     "execution_count": 11,
     "metadata": {},
     "output_type": "execute_result"
    },
    {
     "data": {
      "image/png": "[encoded data removed]",
      "text/plain": [
       "<Figure size 640x480 with 1 Axes>"
      ]
     },
     "metadata": {},
     "output_type": "display_data"
    }
   ],
   "source": [
    "sns.countplot(x=y[\"Class\"])"
   ]
  },
  {
   "cell_type": "markdown",
   "id": "59a44c20",
   "metadata": {
    "papermill": {
     "duration": 0.009901,
     "end_time": "2024-06-03T18:53:30.304462",
     "exception": false,
     "start_time": "2024-06-03T18:53:30.294561",
     "status": "completed"
    },
    "tags": []
   },
   "source": [
    "## Modelleme"
   ]
  },
  {
   "cell_type": "code",
   "execution_count": 12,
   "id": "ea179534",
   "metadata": {
    "execution": {
     "iopub.execute_input": "2024-06-03T18:53:30.325355Z",
     "iopub.status.busy": "2024-06-03T18:53:30.325039Z",
     "iopub.status.idle": "2024-06-03T18:53:30.345093Z",
     "shell.execute_reply": "2024-06-03T18:53:30.344058Z"
    },
    "papermill": {
     "duration": 0.033743,
     "end_time": "2024-06-03T18:53:30.348182",
     "exception": false,
     "start_time": "2024-06-03T18:53:30.314439",
     "status": "completed"
    },
    "tags": []
   },
   "outputs": [],
   "source": [
    "from sklearn.naive_bayes import GaussianNB\n",
    "from sklearn.naive_bayes import BernoulliNB\n",
    "from sklearn.linear_model import LogisticRegression\n",
    "from sklearn.tree import DecisionTreeClassifier\n",
    "from sklearn.ensemble import RandomForestClassifier\n",
    "from sklearn.ensemble import GradientBoostingClassifier\n",
    "from sklearn.neighbors import KNeighborsClassifier\n",
    "\n",
    "from sklearn.metrics import accuracy_score, precision_score, recall_score\n",
    "from sklearn.metrics import f1_score, confusion_matrix, classification_report\n",
    "from sklearn.model_selection import train_test_split\n",
    "\n",
    "g = GaussianNB()\n",
    "b = BernoulliNB()\n",
    "l = LogisticRegression()\n",
    "d = DecisionTreeClassifier()\n",
    "r = RandomForestClassifier()\n",
    "gb= GradientBoostingClassifier()\n",
    "kn= KNeighborsClassifier()\n",
    "\n",
    "def algo_test(x, y):\n",
    "    modeller=[g, b, l, d, r, gb, kn]\n",
    "    isimler=[\"GaussianNB\", \"BernoulliNB\", \"LogisticRegression\", \"DecisionTreeClassifier\", \n",
    "             \"RandomForestClassifier\", \"GradientBoostingClassifier\", \"KNeighborsClassifier\"]\n",
    "\n",
    "    x_train, x_test, y_train, y_test = train_test_split(x, y, test_size=.3, random_state = 42)\n",
    "    \n",
    "    accuracy = []\n",
    "    precision = []\n",
    "    recall = []\n",
    "    f1 = []\n",
    "    mdl=[]\n",
    "\n",
    "    print(\"Veriler hazır modeller deneniyor\")\n",
    "    for model in modeller:\n",
    "        print(model, \" modeli eğitiliyor!..\")\n",
    "        model=model.fit(x_train,y_train)\n",
    "        tahmin=model.predict(np.array(x_test) if model==kn else x_test)\n",
    "        mdl.append(model)\n",
    "        accuracy.append(accuracy_score(y_test, tahmin))\n",
    "        precision.append(precision_score(y_test, tahmin))\n",
    "        recall.append(recall_score(y_test, tahmin))\n",
    "        f1.append(f1_score(y_test, tahmin))\n",
    "        print(confusion_matrix(y_test, tahmin))\n",
    "\n",
    "    print(\"Eğitim tamamlandı.\")\n",
    "    \n",
    "    metrics=pd.DataFrame(columns=[\"Accuracy\", \"Precision\", \"Recall\", \"F1\", \"Model\"], index=isimler)\n",
    "    metrics[\"Accuracy\"] = accuracy\n",
    "    metrics[\"Precision\"] = precision  \n",
    "    metrics[\"Recall\"] = recall\n",
    "    metrics[\"F1\"] = f1\n",
    "    metrics[\"Model\"]=mdl\n",
    "\n",
    "    metrics.sort_values(\"F1\", ascending=False, inplace=True)\n",
    "\n",
    "    print(\"En başarılı model: \", metrics.iloc[0].name)\n",
    "    model=metrics.iloc[0,-1]\n",
    "    tahmin=model.predict(np.array(x_test) if model==kn else x_test)\n",
    "    print(\"Confusion Matrix:\")\n",
    "    print(confusion_matrix(y_test, tahmin))\n",
    "    print(\"classification Report:\")\n",
    "    print(classification_report(y_test, tahmin))\n",
    "    print(\"Diğer Modeller:\")\n",
    "    \n",
    "    return metrics.drop(\"Model\", axis=1)"
   ]
  },
  {
   "cell_type": "code",
   "execution_count": 13,
   "id": "096356e2",
   "metadata": {
    "execution": {
     "iopub.execute_input": "2024-06-03T18:53:30.372949Z",
     "iopub.status.busy": "2024-06-03T18:53:30.372593Z",
     "iopub.status.idle": "2024-06-03T18:53:40.619916Z",
     "shell.execute_reply": "2024-06-03T18:53:40.618585Z"
    },
    "papermill": {
     "duration": 10.26251,
     "end_time": "2024-06-03T18:53:40.622537",
     "exception": false,
     "start_time": "2024-06-03T18:53:30.360027",
     "status": "completed"
    },
    "tags": []
   },
   "outputs": [
    {
     "name": "stdout",
     "output_type": "stream",
     "text": [
      "Veriler hazır modeller deneniyor\n",
      "GaussianNB()  modeli eğitiliyor!..\n",
      "[[4489  278]\n",
      " [1816 2893]]\n",
      "BernoulliNB()  modeli eğitiliyor!..\n",
      "[[4549  218]\n",
      " [4179  530]]\n",
      "LogisticRegression()  modeli eğitiliyor!..\n"
     ]
    },
    {
     "name": "stderr",
     "output_type": "stream",
     "text": [
      "/opt/conda/lib/python3.10/site-packages/sklearn/utils/validation.py:1143: DataConversionWarning: A column-vector y was passed when a 1d array was expected. Please change the shape of y to (n_samples, ), for example using ravel().\n",
      "  y = column_or_1d(y, warn=True)\n",
      "/opt/conda/lib/python3.10/site-packages/sklearn/utils/validation.py:1143: DataConversionWarning: A column-vector y was passed when a 1d array was expected. Please change the shape of y to (n_samples, ), for example using ravel().\n",
      "  y = column_or_1d(y, warn=True)\n",
      "/opt/conda/lib/python3.10/site-packages/sklearn/utils/validation.py:1143: DataConversionWarning: A column-vector y was passed when a 1d array was expected. Please change the shape of y to (n_samples, ), for example using ravel().\n",
      "  y = column_or_1d(y, warn=True)\n"
     ]
    },
    {
     "name": "stdout",
     "output_type": "stream",
     "text": [
      "[[4056  711]\n",
      " [ 438 4271]]\n",
      "DecisionTreeClassifier()  modeli eğitiliyor!..\n",
      "[[4160  607]\n",
      " [ 646 4063]]\n",
      "RandomForestClassifier()  modeli eğitiliyor!..\n"
     ]
    },
    {
     "name": "stderr",
     "output_type": "stream",
     "text": [
      "/tmp/ipykernel_24/407992637.py:37: DataConversionWarning: A column-vector y was passed when a 1d array was expected. Please change the shape of y to (n_samples,), for example using ravel().\n",
      "  model=model.fit(x_train,y_train)\n"
     ]
    },
    {
     "name": "stdout",
     "output_type": "stream",
     "text": [
      "[[4377  390]\n",
      " [ 426 4283]]\n",
      "GradientBoostingClassifier()  modeli eğitiliyor!..\n"
     ]
    },
    {
     "name": "stderr",
     "output_type": "stream",
     "text": [
      "/opt/conda/lib/python3.10/site-packages/sklearn/ensemble/_gb.py:437: DataConversionWarning: A column-vector y was passed when a 1d array was expected. Please change the shape of y to (n_samples, ), for example using ravel().\n",
      "  y = column_or_1d(y, warn=True)\n"
     ]
    },
    {
     "name": "stdout",
     "output_type": "stream",
     "text": [
      "[[4140  627]\n",
      " [ 450 4259]]\n",
      "KNeighborsClassifier()  modeli eğitiliyor!..\n"
     ]
    },
    {
     "name": "stderr",
     "output_type": "stream",
     "text": [
      "/opt/conda/lib/python3.10/site-packages/sklearn/neighbors/_classification.py:215: DataConversionWarning: A column-vector y was passed when a 1d array was expected. Please change the shape of y to (n_samples,), for example using ravel().\n",
      "  return self._fit(X, y)\n",
      "/opt/conda/lib/python3.10/site-packages/sklearn/base.py:439: UserWarning: X does not have valid feature names, but KNeighborsClassifier was fitted with feature names\n",
      "  warnings.warn(\n"
     ]
    },
    {
     "name": "stdout",
     "output_type": "stream",
     "text": [
      "[[4384  383]\n",
      " [ 631 4078]]\n",
      "Eğitim tamamlandı.\n",
      "En başarılı model:  RandomForestClassifier\n",
      "Confusion Matrix:\n",
      "[[4377  390]\n",
      " [ 426 4283]]\n",
      "classification Report:\n",
      "              precision    recall  f1-score   support\n",
      "\n",
      "           0       0.91      0.92      0.91      4767\n",
      "           1       0.92      0.91      0.91      4709\n",
      "\n",
      "    accuracy                           0.91      9476\n",
      "   macro avg       0.91      0.91      0.91      9476\n",
      "weighted avg       0.91      0.91      0.91      9476\n",
      "\n",
      "Diğer Modeller:\n"
     ]
    },
    {
     "data": {
      "text/html": [
       "<div>\n",
       "<style scoped>\n",
       "    .dataframe tbody tr th:only-of-type {\n",
       "        vertical-align: middle;\n",
       "    }\n",
       "\n",
       "    .dataframe tbody tr th {\n",
       "        vertical-align: top;\n",
       "    }\n",
       "\n",
       "    .dataframe thead th {\n",
       "        text-align: right;\n",
       "    }\n",
       "</style>\n",
       "<table border=\"1\" class=\"dataframe\">\n",
       "  <thead>\n",
       "    <tr style=\"text-align: right;\">\n",
       "      <th></th>\n",
       "      <th>Accuracy</th>\n",
       "      <th>Precision</th>\n",
       "      <th>Recall</th>\n",
       "      <th>F1</th>\n",
       "    </tr>\n",
       "  </thead>\n",
       "  <tbody>\n",
       "    <tr>\n",
       "      <th>RandomForestClassifier</th>\n",
       "      <td>0.913888</td>\n",
       "      <td>0.916542</td>\n",
       "      <td>0.909535</td>\n",
       "      <td>0.913025</td>\n",
       "    </tr>\n",
       "    <tr>\n",
       "      <th>KNeighborsClassifier</th>\n",
       "      <td>0.892993</td>\n",
       "      <td>0.914145</td>\n",
       "      <td>0.866001</td>\n",
       "      <td>0.889422</td>\n",
       "    </tr>\n",
       "    <tr>\n",
       "      <th>GradientBoostingClassifier</th>\n",
       "      <td>0.886344</td>\n",
       "      <td>0.871674</td>\n",
       "      <td>0.904438</td>\n",
       "      <td>0.887754</td>\n",
       "    </tr>\n",
       "    <tr>\n",
       "      <th>LogisticRegression</th>\n",
       "      <td>0.878746</td>\n",
       "      <td>0.857286</td>\n",
       "      <td>0.906987</td>\n",
       "      <td>0.881436</td>\n",
       "    </tr>\n",
       "    <tr>\n",
       "      <th>DecisionTreeClassifier</th>\n",
       "      <td>0.867771</td>\n",
       "      <td>0.870021</td>\n",
       "      <td>0.862816</td>\n",
       "      <td>0.866404</td>\n",
       "    </tr>\n",
       "    <tr>\n",
       "      <th>GaussianNB</th>\n",
       "      <td>0.779021</td>\n",
       "      <td>0.912330</td>\n",
       "      <td>0.614355</td>\n",
       "      <td>0.734264</td>\n",
       "    </tr>\n",
       "    <tr>\n",
       "      <th>BernoulliNB</th>\n",
       "      <td>0.535986</td>\n",
       "      <td>0.708556</td>\n",
       "      <td>0.112550</td>\n",
       "      <td>0.194246</td>\n",
       "    </tr>\n",
       "  </tbody>\n",
       "</table>\n",
       "</div>"
      ],
      "text/plain": [
       "                            Accuracy  Precision    Recall        F1\n",
       "RandomForestClassifier      0.913888   0.916542  0.909535  0.913025\n",
       "KNeighborsClassifier        0.892993   0.914145  0.866001  0.889422\n",
       "GradientBoostingClassifier  0.886344   0.871674  0.904438  0.887754\n",
       "LogisticRegression          0.878746   0.857286  0.906987  0.881436\n",
       "DecisionTreeClassifier      0.867771   0.870021  0.862816  0.866404\n",
       "GaussianNB                  0.779021   0.912330  0.614355  0.734264\n",
       "BernoulliNB                 0.535986   0.708556  0.112550  0.194246"
      ]
     },
     "execution_count": 13,
     "metadata": {},
     "output_type": "execute_result"
    }
   ],
   "source": [
    "algo_test(x,y)"
   ]
  },
  {
   "cell_type": "code",
   "execution_count": 14,
   "id": "76e3ab2f",
   "metadata": {
    "execution": {
     "iopub.execute_input": "2024-06-03T18:53:40.647703Z",
     "iopub.status.busy": "2024-06-03T18:53:40.647303Z",
     "iopub.status.idle": "2024-06-03T18:53:40.696317Z",
     "shell.execute_reply": "2024-06-03T18:53:40.695158Z"
    },
    "papermill": {
     "duration": 0.064363,
     "end_time": "2024-06-03T18:53:40.698770",
     "exception": false,
     "start_time": "2024-06-03T18:53:40.634407",
     "status": "completed"
    },
    "tags": []
   },
   "outputs": [
    {
     "data": {
      "text/html": [
       "<div>\n",
       "<style scoped>\n",
       "    .dataframe tbody tr th:only-of-type {\n",
       "        vertical-align: middle;\n",
       "    }\n",
       "\n",
       "    .dataframe tbody tr th {\n",
       "        vertical-align: top;\n",
       "    }\n",
       "\n",
       "    .dataframe thead th {\n",
       "        text-align: right;\n",
       "    }\n",
       "</style>\n",
       "<table border=\"1\" class=\"dataframe\">\n",
       "  <thead>\n",
       "    <tr style=\"text-align: right;\">\n",
       "      <th></th>\n",
       "      <th>Vmag</th>\n",
       "      <th>Plx</th>\n",
       "      <th>e_Plx</th>\n",
       "      <th>B-V</th>\n",
       "      <th>SpType</th>\n",
       "      <th>Amag</th>\n",
       "    </tr>\n",
       "  </thead>\n",
       "  <tbody>\n",
       "    <tr>\n",
       "      <th>0</th>\n",
       "      <td>7.91</td>\n",
       "      <td>6.33</td>\n",
       "      <td>1.01</td>\n",
       "      <td>0.843</td>\n",
       "      <td>G5III</td>\n",
       "      <td>16.917019</td>\n",
       "    </tr>\n",
       "    <tr>\n",
       "      <th>1</th>\n",
       "      <td>7.35</td>\n",
       "      <td>1.30</td>\n",
       "      <td>0.53</td>\n",
       "      <td>1.304</td>\n",
       "      <td>K1/K2III</td>\n",
       "      <td>12.919716</td>\n",
       "    </tr>\n",
       "    <tr>\n",
       "      <th>2</th>\n",
       "      <td>6.75</td>\n",
       "      <td>8.01</td>\n",
       "      <td>0.84</td>\n",
       "      <td>1.019</td>\n",
       "      <td>K1III</td>\n",
       "      <td>16.268162</td>\n",
       "    </tr>\n",
       "    <tr>\n",
       "      <th>3</th>\n",
       "      <td>4.47</td>\n",
       "      <td>7.03</td>\n",
       "      <td>0.72</td>\n",
       "      <td>1.283</td>\n",
       "      <td>K4III</td>\n",
       "      <td>13.704777</td>\n",
       "    </tr>\n",
       "    <tr>\n",
       "      <th>4</th>\n",
       "      <td>7.33</td>\n",
       "      <td>2.45</td>\n",
       "      <td>1.14</td>\n",
       "      <td>1.600</td>\n",
       "      <td>K5III</td>\n",
       "      <td>14.275830</td>\n",
       "    </tr>\n",
       "  </tbody>\n",
       "</table>\n",
       "</div>"
      ],
      "text/plain": [
       "   Vmag   Plx  e_Plx    B-V    SpType       Amag\n",
       "0  7.91  6.33   1.01  0.843     G5III  16.917019\n",
       "1  7.35  1.30   0.53  1.304  K1/K2III  12.919716\n",
       "2  6.75  8.01   0.84  1.019     K1III  16.268162\n",
       "3  4.47  7.03   0.72  1.283     K4III  13.704777\n",
       "4  7.33  2.45   1.14  1.600     K5III  14.275830"
      ]
     },
     "execution_count": 14,
     "metadata": {},
     "output_type": "execute_result"
    }
   ],
   "source": [
    "test=pd.read_csv(\"/kaggle/input/star-classification/test_star.csv\")\n",
    "test.head()"
   ]
  },
  {
   "cell_type": "code",
   "execution_count": 15,
   "id": "08e36d23",
   "metadata": {
    "execution": {
     "iopub.execute_input": "2024-06-03T18:53:40.726682Z",
     "iopub.status.busy": "2024-06-03T18:53:40.725737Z",
     "iopub.status.idle": "2024-06-03T18:53:40.731693Z",
     "shell.execute_reply": "2024-06-03T18:53:40.730756Z"
    },
    "papermill": {
     "duration": 0.021344,
     "end_time": "2024-06-03T18:53:40.733902",
     "exception": false,
     "start_time": "2024-06-03T18:53:40.712558",
     "status": "completed"
    },
    "tags": []
   },
   "outputs": [],
   "source": [
    "xt=test.drop(\"SpType\", axis=1)"
   ]
  },
  {
   "cell_type": "code",
   "execution_count": 16,
   "id": "2dbc782e",
   "metadata": {
    "execution": {
     "iopub.execute_input": "2024-06-03T18:53:40.760011Z",
     "iopub.status.busy": "2024-06-03T18:53:40.759133Z",
     "iopub.status.idle": "2024-06-03T18:53:48.577168Z",
     "shell.execute_reply": "2024-06-03T18:53:48.576368Z"
    },
    "papermill": {
     "duration": 7.833883,
     "end_time": "2024-06-03T18:53:48.579742",
     "exception": false,
     "start_time": "2024-06-03T18:53:40.745859",
     "status": "completed"
    },
    "tags": []
   },
   "outputs": [
    {
     "name": "stderr",
     "output_type": "stream",
     "text": [
      "/tmp/ipykernel_24/3136951064.py:2: DataConversionWarning: A column-vector y was passed when a 1d array was expected. Please change the shape of y to (n_samples,), for example using ravel().\n",
      "  model=rf.fit(x, y)\n"
     ]
    }
   ],
   "source": [
    "rf=RandomForestClassifier()\n",
    "model=rf.fit(x, y)\n",
    "pred=model.predict(xt)"
   ]
  },
  {
   "cell_type": "code",
   "execution_count": 17,
   "id": "5bd0ee40",
   "metadata": {
    "execution": {
     "iopub.execute_input": "2024-06-03T18:53:48.603073Z",
     "iopub.status.busy": "2024-06-03T18:53:48.602457Z",
     "iopub.status.idle": "2024-06-03T18:53:48.608259Z",
     "shell.execute_reply": "2024-06-03T18:53:48.607404Z"
    },
    "papermill": {
     "duration": 0.01895,
     "end_time": "2024-06-03T18:53:48.610340",
     "exception": false,
     "start_time": "2024-06-03T18:53:48.591390",
     "status": "completed"
    },
    "tags": []
   },
   "outputs": [
    {
     "data": {
      "text/plain": [
       "array([1, 0, 0, ..., 1, 1, 0])"
      ]
     },
     "execution_count": 17,
     "metadata": {},
     "output_type": "execute_result"
    }
   ],
   "source": [
    "pred"
   ]
  },
  {
   "cell_type": "code",
   "execution_count": 18,
   "id": "421c65df",
   "metadata": {
    "execution": {
     "iopub.execute_input": "2024-06-03T18:53:48.635052Z",
     "iopub.status.busy": "2024-06-03T18:53:48.634733Z",
     "iopub.status.idle": "2024-06-03T18:53:48.650503Z",
     "shell.execute_reply": "2024-06-03T18:53:48.649522Z"
    },
    "papermill": {
     "duration": 0.029923,
     "end_time": "2024-06-03T18:53:48.652664",
     "exception": false,
     "start_time": "2024-06-03T18:53:48.622741",
     "status": "completed"
    },
    "tags": []
   },
   "outputs": [
    {
     "data": {
      "text/html": [
       "<div>\n",
       "<style scoped>\n",
       "    .dataframe tbody tr th:only-of-type {\n",
       "        vertical-align: middle;\n",
       "    }\n",
       "\n",
       "    .dataframe tbody tr th {\n",
       "        vertical-align: top;\n",
       "    }\n",
       "\n",
       "    .dataframe thead th {\n",
       "        text-align: right;\n",
       "    }\n",
       "</style>\n",
       "<table border=\"1\" class=\"dataframe\">\n",
       "  <thead>\n",
       "    <tr style=\"text-align: right;\">\n",
       "      <th></th>\n",
       "      <th>Vmag</th>\n",
       "      <th>Plx</th>\n",
       "      <th>e_Plx</th>\n",
       "      <th>B-V</th>\n",
       "      <th>SpType</th>\n",
       "      <th>Amag</th>\n",
       "      <th>Class</th>\n",
       "    </tr>\n",
       "  </thead>\n",
       "  <tbody>\n",
       "    <tr>\n",
       "      <th>0</th>\n",
       "      <td>7.91</td>\n",
       "      <td>6.33</td>\n",
       "      <td>1.01</td>\n",
       "      <td>0.843</td>\n",
       "      <td>G5III</td>\n",
       "      <td>16.917019</td>\n",
       "      <td>1</td>\n",
       "    </tr>\n",
       "    <tr>\n",
       "      <th>1</th>\n",
       "      <td>7.35</td>\n",
       "      <td>1.30</td>\n",
       "      <td>0.53</td>\n",
       "      <td>1.304</td>\n",
       "      <td>K1/K2III</td>\n",
       "      <td>12.919716</td>\n",
       "      <td>0</td>\n",
       "    </tr>\n",
       "    <tr>\n",
       "      <th>2</th>\n",
       "      <td>6.75</td>\n",
       "      <td>8.01</td>\n",
       "      <td>0.84</td>\n",
       "      <td>1.019</td>\n",
       "      <td>K1III</td>\n",
       "      <td>16.268162</td>\n",
       "      <td>0</td>\n",
       "    </tr>\n",
       "    <tr>\n",
       "      <th>3</th>\n",
       "      <td>4.47</td>\n",
       "      <td>7.03</td>\n",
       "      <td>0.72</td>\n",
       "      <td>1.283</td>\n",
       "      <td>K4III</td>\n",
       "      <td>13.704777</td>\n",
       "      <td>0</td>\n",
       "    </tr>\n",
       "    <tr>\n",
       "      <th>4</th>\n",
       "      <td>7.33</td>\n",
       "      <td>2.45</td>\n",
       "      <td>1.14</td>\n",
       "      <td>1.600</td>\n",
       "      <td>K5III</td>\n",
       "      <td>14.275830</td>\n",
       "      <td>0</td>\n",
       "    </tr>\n",
       "  </tbody>\n",
       "</table>\n",
       "</div>"
      ],
      "text/plain": [
       "   Vmag   Plx  e_Plx    B-V    SpType       Amag  Class\n",
       "0  7.91  6.33   1.01  0.843     G5III  16.917019      1\n",
       "1  7.35  1.30   0.53  1.304  K1/K2III  12.919716      0\n",
       "2  6.75  8.01   0.84  1.019     K1III  16.268162      0\n",
       "3  4.47  7.03   0.72  1.283     K4III  13.704777      0\n",
       "4  7.33  2.45   1.14  1.600     K5III  14.275830      0"
      ]
     },
     "execution_count": 18,
     "metadata": {},
     "output_type": "execute_result"
    }
   ],
   "source": [
    "test[\"Class\"]=pred\n",
    "test.head()"
   ]
  },
  {
   "cell_type": "code",
   "execution_count": 19,
   "id": "2b4868f1",
   "metadata": {
    "execution": {
     "iopub.execute_input": "2024-06-03T18:53:48.677090Z",
     "iopub.status.busy": "2024-06-03T18:53:48.676784Z",
     "iopub.status.idle": "2024-06-03T18:53:48.699151Z",
     "shell.execute_reply": "2024-06-03T18:53:48.698126Z"
    },
    "papermill": {
     "duration": 0.036872,
     "end_time": "2024-06-03T18:53:48.701236",
     "exception": false,
     "start_time": "2024-06-03T18:53:48.664364",
     "status": "completed"
    },
    "tags": []
   },
   "outputs": [
    {
     "data": {
      "text/html": [
       "<div>\n",
       "<style scoped>\n",
       "    .dataframe tbody tr th:only-of-type {\n",
       "        vertical-align: middle;\n",
       "    }\n",
       "\n",
       "    .dataframe tbody tr th {\n",
       "        vertical-align: top;\n",
       "    }\n",
       "\n",
       "    .dataframe thead th {\n",
       "        text-align: right;\n",
       "    }\n",
       "</style>\n",
       "<table border=\"1\" class=\"dataframe\">\n",
       "  <thead>\n",
       "    <tr style=\"text-align: right;\">\n",
       "      <th></th>\n",
       "      <th>Vmag</th>\n",
       "      <th>Plx</th>\n",
       "      <th>e_Plx</th>\n",
       "      <th>B-V</th>\n",
       "      <th>SpType</th>\n",
       "      <th>Amag</th>\n",
       "      <th>Class</th>\n",
       "      <th>TargetClass</th>\n",
       "    </tr>\n",
       "  </thead>\n",
       "  <tbody>\n",
       "    <tr>\n",
       "      <th>8187</th>\n",
       "      <td>8.63</td>\n",
       "      <td>2.29</td>\n",
       "      <td>1.06</td>\n",
       "      <td>1.319</td>\n",
       "      <td>K1III</td>\n",
       "      <td>15.429178</td>\n",
       "      <td>0</td>\n",
       "      <td>Dwarf</td>\n",
       "    </tr>\n",
       "    <tr>\n",
       "      <th>18176</th>\n",
       "      <td>8.44</td>\n",
       "      <td>6.72</td>\n",
       "      <td>1.15</td>\n",
       "      <td>1.298</td>\n",
       "      <td>K2IIICN...</td>\n",
       "      <td>17.576847</td>\n",
       "      <td>0</td>\n",
       "      <td>Dwarf</td>\n",
       "    </tr>\n",
       "    <tr>\n",
       "      <th>3715</th>\n",
       "      <td>6.44</td>\n",
       "      <td>2.58</td>\n",
       "      <td>0.76</td>\n",
       "      <td>1.614</td>\n",
       "      <td>K4/K5III</td>\n",
       "      <td>13.498098</td>\n",
       "      <td>0</td>\n",
       "      <td>Dwarf</td>\n",
       "    </tr>\n",
       "    <tr>\n",
       "      <th>14972</th>\n",
       "      <td>6.93</td>\n",
       "      <td>0.92</td>\n",
       "      <td>0.82</td>\n",
       "      <td>0.220</td>\n",
       "      <td>A2III</td>\n",
       "      <td>11.748940</td>\n",
       "      <td>0</td>\n",
       "      <td>Dwarf</td>\n",
       "    </tr>\n",
       "    <tr>\n",
       "      <th>3824</th>\n",
       "      <td>8.53</td>\n",
       "      <td>2.02</td>\n",
       "      <td>1.08</td>\n",
       "      <td>1.032</td>\n",
       "      <td>K0III</td>\n",
       "      <td>15.056757</td>\n",
       "      <td>0</td>\n",
       "      <td>Dwarf</td>\n",
       "    </tr>\n",
       "    <tr>\n",
       "      <th>14404</th>\n",
       "      <td>7.75</td>\n",
       "      <td>5.13</td>\n",
       "      <td>0.93</td>\n",
       "      <td>1.032</td>\n",
       "      <td>G8III</td>\n",
       "      <td>16.300587</td>\n",
       "      <td>0</td>\n",
       "      <td>Dwarf</td>\n",
       "    </tr>\n",
       "    <tr>\n",
       "      <th>16170</th>\n",
       "      <td>10.54</td>\n",
       "      <td>-0.36</td>\n",
       "      <td>1.58</td>\n",
       "      <td>0.889</td>\n",
       "      <td>Bep + M5III</td>\n",
       "      <td>13.321512</td>\n",
       "      <td>0</td>\n",
       "      <td>Dwarf</td>\n",
       "    </tr>\n",
       "    <tr>\n",
       "      <th>6351</th>\n",
       "      <td>8.09</td>\n",
       "      <td>3.36</td>\n",
       "      <td>0.70</td>\n",
       "      <td>1.144</td>\n",
       "      <td>K1III</td>\n",
       "      <td>15.721697</td>\n",
       "      <td>0</td>\n",
       "      <td>Dwarf</td>\n",
       "    </tr>\n",
       "    <tr>\n",
       "      <th>10377</th>\n",
       "      <td>8.35</td>\n",
       "      <td>8.82</td>\n",
       "      <td>1.00</td>\n",
       "      <td>0.465</td>\n",
       "      <td>F3V</td>\n",
       "      <td>18.077343</td>\n",
       "      <td>1</td>\n",
       "      <td>Giant</td>\n",
       "    </tr>\n",
       "    <tr>\n",
       "      <th>6896</th>\n",
       "      <td>6.55</td>\n",
       "      <td>12.04</td>\n",
       "      <td>0.55</td>\n",
       "      <td>0.092</td>\n",
       "      <td>A2V</td>\n",
       "      <td>16.953133</td>\n",
       "      <td>1</td>\n",
       "      <td>Giant</td>\n",
       "    </tr>\n",
       "  </tbody>\n",
       "</table>\n",
       "</div>"
      ],
      "text/plain": [
       "        Vmag    Plx  e_Plx    B-V       SpType       Amag  Class TargetClass\n",
       "8187    8.63   2.29   1.06  1.319        K1III  15.429178      0       Dwarf\n",
       "18176   8.44   6.72   1.15  1.298   K2IIICN...  17.576847      0       Dwarf\n",
       "3715    6.44   2.58   0.76  1.614     K4/K5III  13.498098      0       Dwarf\n",
       "14972   6.93   0.92   0.82  0.220        A2III  11.748940      0       Dwarf\n",
       "3824    8.53   2.02   1.08  1.032        K0III  15.056757      0       Dwarf\n",
       "14404   7.75   5.13   0.93  1.032        G8III  16.300587      0       Dwarf\n",
       "16170  10.54  -0.36   1.58  0.889  Bep + M5III  13.321512      0       Dwarf\n",
       "6351    8.09   3.36   0.70  1.144        K1III  15.721697      0       Dwarf\n",
       "10377   8.35   8.82   1.00  0.465          F3V  18.077343      1       Giant\n",
       "6896    6.55  12.04   0.55  0.092          A2V  16.953133      1       Giant"
      ]
     },
     "execution_count": 19,
     "metadata": {},
     "output_type": "execute_result"
    }
   ],
   "source": [
    "test[\"TargetClass\"]=np.where(test[\"Class\"]==1, \"Giant\", \"Dwarf\")\n",
    "test.sample(10)\n"
   ]
  },
  {
   "cell_type": "code",
   "execution_count": 20,
   "id": "cc1ebfad",
   "metadata": {
    "execution": {
     "iopub.execute_input": "2024-06-03T18:53:48.725741Z",
     "iopub.status.busy": "2024-06-03T18:53:48.725445Z",
     "iopub.status.idle": "2024-06-03T18:53:48.761423Z",
     "shell.execute_reply": "2024-06-03T18:53:48.760500Z"
    },
    "papermill": {
     "duration": 0.050763,
     "end_time": "2024-06-03T18:53:48.763621",
     "exception": false,
     "start_time": "2024-06-03T18:53:48.712858",
     "status": "completed"
    },
    "tags": []
   },
   "outputs": [],
   "source": [
    "test[[\"TargetClass\"]].reset_index().rename(columns={'index': 'index'}).to_csv('submission.csv', index=False)"
   ]
  },
  {
   "cell_type": "markdown",
   "id": "ed8b42c9",
   "metadata": {
    "papermill": {
     "duration": 0.01188,
     "end_time": "2024-06-03T18:53:48.787664",
     "exception": false,
     "start_time": "2024-06-03T18:53:48.775784",
     "status": "completed"
    },
    "tags": []
   },
   "source": [
    "## Sonuç\n",
    "\n",
    "Bu projede yıldız türlerini tahmin eden sınıflandırma modelleri denenmiştir. %90'ın üzerinde başarı elde edilmiştir. Oluşturulan submission.csv dosyası yarışmaya birkaç kere yüklenmesine rağmen sistemin hata vermesinden dolayı bir skor elde edilememiştir."
   ]
  }
 ],
 "metadata": {
  "kaggle": {
   "accelerator": "nvidiaTeslaT4",
   "dataSources": [
    {
     "databundleVersionId": 8520246,
     "sourceId": 77694,
     "sourceType": "competition"
    }
   ],
   "dockerImageVersionId": 30698,
   "isGpuEnabled": true,
   "isInternetEnabled": true,
   "language": "python",
   "sourceType": "notebook"
  },
  "kernelspec": {
   "display_name": "Python 3",
   "language": "python",
   "name": "python3"
  },
  "language_info": {
   "codemirror_mode": {
    "name": "ipython",
    "version": 3
   },
   "file_extension": ".py",
   "mimetype": "text/x-python",
   "name": "python",
   "nbconvert_exporter": "python",
   "pygments_lexer": "ipython3",
   "version": "3.10.13"
  },
  "papermill": {
   "default_parameters": {},
   "duration": 25.822866,
   "end_time": "2024-06-03T18:53:49.238850",
   "environment_variables": {},
   "exception": null,
   "input_path": "__notebook__.ipynb",
   "output_path": "__notebook__.ipynb",
   "parameters": {},
   "start_time": "2024-06-03T18:53:23.415984",
   "version": "2.5.0"
  }
 },
 "nbformat": 4,
 "nbformat_minor": 5
}
