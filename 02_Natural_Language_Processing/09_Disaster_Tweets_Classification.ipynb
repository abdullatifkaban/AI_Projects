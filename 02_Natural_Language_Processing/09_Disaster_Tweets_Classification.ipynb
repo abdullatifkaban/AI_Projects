{
 "cells": [
  {
   "cell_type": "code",
   "execution_count": 1,
   "metadata": {
    "_cell_guid": "b1076dfc-b9ad-4769-8c92-a6c4dae69d19",
    "_uuid": "8f2839f25d086af736a60e9eeb907d3b93b6e0e5",
    "execution": {
     "iopub.execute_input": "2024-05-30T14:44:37.708217Z",
     "iopub.status.busy": "2024-05-30T14:44:37.707398Z",
     "iopub.status.idle": "2024-05-30T14:44:38.798086Z",
     "shell.execute_reply": "2024-05-30T14:44:38.797126Z",
     "shell.execute_reply.started": "2024-05-30T14:44:37.708186Z"
    },
    "trusted": true
   },
   "outputs": [
    {
     "name": "stdout",
     "output_type": "stream",
     "text": [
      "/kaggle/input/nlp-getting-started/sample_submission.csv\n",
      "/kaggle/input/nlp-getting-started/train.csv\n",
      "/kaggle/input/nlp-getting-started/test.csv\n"
     ]
    }
   ],
   "source": [
    "# This Python 3 environment comes with many helpful analytics libraries installed\n",
    "# It is defined by the kaggle/python Docker image: https://github.com/kaggle/docker-python\n",
    "# For example, here's several helpful packages to load\n",
    "\n",
    "import numpy as np # linear algebra\n",
    "import pandas as pd # data processing, CSV file I/O (e.g. pd.read_csv)\n",
    "\n",
    "# Input data files are available in the read-only \"../input/\" directory\n",
    "# For example, running this (by clicking run or pressing Shift+Enter) will list all files under the input directory\n",
    "\n",
    "import os\n",
    "for dirname, _, filenames in os.walk('/kaggle/input'):\n",
    "    for filename in filenames:\n",
    "        print(os.path.join(dirname, filename))\n",
    "\n",
    "# You can write up to 20GB to the current directory (/kaggle/working/) that gets preserved as output when you create a version using \"Save & Run All\" \n",
    "# You can also write temporary files to /kaggle/temp/, but they won't be saved outside of the current session"
   ]
  },
  {
   "cell_type": "markdown",
   "metadata": {},
   "source": [
    "# Natural Language Processing with Disaster Tweets\n",
    "\n",
    "Bu projede verilen tweetin gerçek bir felaketle ilgili olup olmadığını tahmin eden sınıflandırma modeli geliştirilmektedir.\n",
    "\n",
    "Projede kullanılan veriler [buradan](https://www.kaggle.com/competitions/nlp-getting-started/data) temin edilmiştir.\n",
    "\n",
    "<img src=\"https://www.kaggle.com/competitions/17777/images/header\">"
   ]
  },
  {
   "cell_type": "code",
   "execution_count": 4,
   "metadata": {
    "execution": {
     "iopub.execute_input": "2024-05-30T14:47:27.187503Z",
     "iopub.status.busy": "2024-05-30T14:47:27.187130Z",
     "iopub.status.idle": "2024-05-30T14:47:27.242486Z",
     "shell.execute_reply": "2024-05-30T14:47:27.241607Z",
     "shell.execute_reply.started": "2024-05-30T14:47:27.187474Z"
    },
    "trusted": true
   },
   "outputs": [
    {
     "data": {
      "text/html": [
       "<div>\n",
       "<style scoped>\n",
       "    .dataframe tbody tr th:only-of-type {\n",
       "        vertical-align: middle;\n",
       "    }\n",
       "\n",
       "    .dataframe tbody tr th {\n",
       "        vertical-align: top;\n",
       "    }\n",
       "\n",
       "    .dataframe thead th {\n",
       "        text-align: right;\n",
       "    }\n",
       "</style>\n",
       "<table border=\"1\" class=\"dataframe\">\n",
       "  <thead>\n",
       "    <tr style=\"text-align: right;\">\n",
       "      <th></th>\n",
       "      <th>id</th>\n",
       "      <th>keyword</th>\n",
       "      <th>location</th>\n",
       "      <th>text</th>\n",
       "      <th>target</th>\n",
       "    </tr>\n",
       "  </thead>\n",
       "  <tbody>\n",
       "    <tr>\n",
       "      <th>0</th>\n",
       "      <td>1</td>\n",
       "      <td>NaN</td>\n",
       "      <td>NaN</td>\n",
       "      <td>Our Deeds are the Reason of this #earthquake M...</td>\n",
       "      <td>1.0</td>\n",
       "    </tr>\n",
       "    <tr>\n",
       "      <th>1</th>\n",
       "      <td>4</td>\n",
       "      <td>NaN</td>\n",
       "      <td>NaN</td>\n",
       "      <td>Forest fire near La Ronge Sask. Canada</td>\n",
       "      <td>1.0</td>\n",
       "    </tr>\n",
       "    <tr>\n",
       "      <th>2</th>\n",
       "      <td>5</td>\n",
       "      <td>NaN</td>\n",
       "      <td>NaN</td>\n",
       "      <td>All residents asked to 'shelter in place' are ...</td>\n",
       "      <td>1.0</td>\n",
       "    </tr>\n",
       "    <tr>\n",
       "      <th>3</th>\n",
       "      <td>6</td>\n",
       "      <td>NaN</td>\n",
       "      <td>NaN</td>\n",
       "      <td>13,000 people receive #wildfires evacuation or...</td>\n",
       "      <td>1.0</td>\n",
       "    </tr>\n",
       "    <tr>\n",
       "      <th>4</th>\n",
       "      <td>7</td>\n",
       "      <td>NaN</td>\n",
       "      <td>NaN</td>\n",
       "      <td>Just got sent this photo from Ruby #Alaska as ...</td>\n",
       "      <td>1.0</td>\n",
       "    </tr>\n",
       "  </tbody>\n",
       "</table>\n",
       "</div>"
      ],
      "text/plain": [
       "   id keyword location                                               text  \\\n",
       "0   1     NaN      NaN  Our Deeds are the Reason of this #earthquake M...   \n",
       "1   4     NaN      NaN             Forest fire near La Ronge Sask. Canada   \n",
       "2   5     NaN      NaN  All residents asked to 'shelter in place' are ...   \n",
       "3   6     NaN      NaN  13,000 people receive #wildfires evacuation or...   \n",
       "4   7     NaN      NaN  Just got sent this photo from Ruby #Alaska as ...   \n",
       "\n",
       "   target  \n",
       "0     1.0  \n",
       "1     1.0  \n",
       "2     1.0  \n",
       "3     1.0  \n",
       "4     1.0  "
      ]
     },
     "execution_count": 4,
     "metadata": {},
     "output_type": "execute_result"
    }
   ],
   "source": [
    "import seaborn as sns\n",
    "import matplotlib.pyplot as plt\n",
    "\n",
    "train=pd.read_csv(\"/kaggle/input/nlp-getting-started/train.csv\")\n",
    "test=pd.read_csv(\"/kaggle/input/nlp-getting-started/test.csv\")\n",
    "df=pd.concat([train,test], ignore_index=True)\n",
    "df.head()"
   ]
  },
  {
   "cell_type": "code",
   "execution_count": 5,
   "metadata": {
    "execution": {
     "iopub.execute_input": "2024-05-30T14:47:33.201957Z",
     "iopub.status.busy": "2024-05-30T14:47:33.201617Z",
     "iopub.status.idle": "2024-05-30T14:47:33.226060Z",
     "shell.execute_reply": "2024-05-30T14:47:33.224940Z",
     "shell.execute_reply.started": "2024-05-30T14:47:33.201933Z"
    },
    "trusted": true
   },
   "outputs": [
    {
     "name": "stdout",
     "output_type": "stream",
     "text": [
      "<class 'pandas.core.frame.DataFrame'>\n",
      "RangeIndex: 10876 entries, 0 to 10875\n",
      "Data columns (total 5 columns):\n",
      " #   Column    Non-Null Count  Dtype  \n",
      "---  ------    --------------  -----  \n",
      " 0   id        10876 non-null  int64  \n",
      " 1   keyword   10789 non-null  object \n",
      " 2   location  7238 non-null   object \n",
      " 3   text      10876 non-null  object \n",
      " 4   target    7613 non-null   float64\n",
      "dtypes: float64(1), int64(1), object(3)\n",
      "memory usage: 425.0+ KB\n"
     ]
    }
   ],
   "source": [
    "df.info()"
   ]
  },
  {
   "cell_type": "code",
   "execution_count": 6,
   "metadata": {
    "execution": {
     "iopub.execute_input": "2024-05-30T14:47:59.477057Z",
     "iopub.status.busy": "2024-05-30T14:47:59.476377Z",
     "iopub.status.idle": "2024-05-30T14:47:59.482847Z",
     "shell.execute_reply": "2024-05-30T14:47:59.481831Z",
     "shell.execute_reply.started": "2024-05-30T14:47:59.477027Z"
    },
    "trusted": true
   },
   "outputs": [
    {
     "data": {
      "text/plain": [
       "((7613, 5), (3263, 4))"
      ]
     },
     "execution_count": 6,
     "metadata": {},
     "output_type": "execute_result"
    }
   ],
   "source": [
    "train.shape, test.shape"
   ]
  },
  {
   "cell_type": "code",
   "execution_count": 7,
   "metadata": {
    "execution": {
     "iopub.execute_input": "2024-05-30T14:48:22.600677Z",
     "iopub.status.busy": "2024-05-30T14:48:22.600301Z",
     "iopub.status.idle": "2024-05-30T14:48:22.802820Z",
     "shell.execute_reply": "2024-05-30T14:48:22.801361Z",
     "shell.execute_reply.started": "2024-05-30T14:48:22.600648Z"
    },
    "trusted": true
   },
   "outputs": [
    {
     "data": {
      "text/plain": [
       "<Axes: ylabel='count'>"
      ]
     },
     "execution_count": 7,
     "metadata": {},
     "output_type": "execute_result"
    },
    {
     "data": {
      "image/png": "[encoded data removed]",
      "text/plain": [
       "<Figure size 640x480 with 1 Axes>"
      ]
     },
     "metadata": {},
     "output_type": "display_data"
    }
   ],
   "source": [
    "df[\"target\"].value_counts().plot.pie(autopct=\"%1.1f%%\")"
   ]
  },
  {
   "cell_type": "markdown",
   "metadata": {},
   "source": [
    "## Metin Temizleme"
   ]
  },
  {
   "cell_type": "code",
   "execution_count": 8,
   "metadata": {
    "execution": {
     "iopub.execute_input": "2024-05-30T14:48:47.257585Z",
     "iopub.status.busy": "2024-05-30T14:48:47.257005Z",
     "iopub.status.idle": "2024-05-30T14:48:48.207191Z",
     "shell.execute_reply": "2024-05-30T14:48:48.206134Z",
     "shell.execute_reply.started": "2024-05-30T14:48:47.257555Z"
    },
    "trusted": true
   },
   "outputs": [],
   "source": [
    "from bs4 import BeautifulSoup\n",
    "from sklearn.feature_extraction.text import CountVectorizer\n",
    "from textblob import TextBlob\n",
    "from nltk.stem import PorterStemmer\n",
    "pr=PorterStemmer()"
   ]
  },
  {
   "cell_type": "code",
   "execution_count": 9,
   "metadata": {
    "execution": {
     "iopub.execute_input": "2024-05-30T14:48:53.765459Z",
     "iopub.status.busy": "2024-05-30T14:48:53.764929Z",
     "iopub.status.idle": "2024-05-30T14:48:53.771204Z",
     "shell.execute_reply": "2024-05-30T14:48:53.770147Z",
     "shell.execute_reply.started": "2024-05-30T14:48:53.765430Z"
    },
    "trusted": true
   },
   "outputs": [],
   "source": [
    "def clean_text(text):\n",
    "    #text = BeautifulSoup(text).get_text() \n",
    "    text=text.str.lower()\n",
    "    text=text.str.replace('[^\\w\\s]', '', regex=True)\n",
    "    text=text.str.replace('\\d+', '', regex=True)\n",
    "    text=text.str.replace('\\n', '', regex=True)\n",
    "    text=text.str.replace('\\r', '', regex=True)\n",
    "    return text"
   ]
  },
  {
   "cell_type": "code",
   "execution_count": 10,
   "metadata": {
    "execution": {
     "iopub.execute_input": "2024-05-30T14:49:10.315910Z",
     "iopub.status.busy": "2024-05-30T14:49:10.315495Z",
     "iopub.status.idle": "2024-05-30T14:49:10.320525Z",
     "shell.execute_reply": "2024-05-30T14:49:10.319480Z",
     "shell.execute_reply.started": "2024-05-30T14:49:10.315881Z"
    },
    "trusted": true
   },
   "outputs": [],
   "source": [
    "def lemmafn(text):\n",
    "    words=TextBlob(text).words\n",
    "    return [pr.stem(word) for word in words]"
   ]
  },
  {
   "cell_type": "code",
   "execution_count": 24,
   "metadata": {
    "execution": {
     "iopub.execute_input": "2024-05-30T14:55:55.472710Z",
     "iopub.status.busy": "2024-05-30T14:55:55.472349Z",
     "iopub.status.idle": "2024-05-30T14:55:55.478265Z",
     "shell.execute_reply": "2024-05-30T14:55:55.477269Z",
     "shell.execute_reply.started": "2024-05-30T14:55:55.472685Z"
    },
    "trusted": true
   },
   "outputs": [],
   "source": [
    "vect=CountVectorizer(stop_words=\"english\", ngram_range=(1,2), analyzer=lemmafn, max_features=10000)"
   ]
  },
  {
   "cell_type": "markdown",
   "metadata": {},
   "source": [
    "# ML Modelleme"
   ]
  },
  {
   "cell_type": "code",
   "execution_count": 12,
   "metadata": {
    "execution": {
     "iopub.execute_input": "2024-05-30T14:49:59.278937Z",
     "iopub.status.busy": "2024-05-30T14:49:59.278215Z",
     "iopub.status.idle": "2024-05-30T14:49:59.434614Z",
     "shell.execute_reply": "2024-05-30T14:49:59.433794Z",
     "shell.execute_reply.started": "2024-05-30T14:49:59.278907Z"
    },
    "trusted": true
   },
   "outputs": [],
   "source": [
    "from sklearn.linear_model import LogisticRegression\n",
    "from sklearn.neighbors import KNeighborsClassifier\n",
    "from sklearn.tree import DecisionTreeClassifier\n",
    "from sklearn.ensemble import RandomForestClassifier\n",
    "from sklearn.ensemble import AdaBoostClassifier\n",
    "from sklearn.ensemble import GradientBoostingClassifier\n",
    "from sklearn.naive_bayes import MultinomialNB\n",
    "from sklearn.naive_bayes import BernoulliNB\n",
    "\n",
    "from sklearn.metrics import accuracy_score, precision_score, recall_score\n",
    "from sklearn.metrics import f1_score, confusion_matrix, classification_report\n",
    "from sklearn.model_selection import train_test_split\n",
    "\n",
    "b = BernoulliNB()\n",
    "l = LogisticRegression()\n",
    "d = DecisionTreeClassifier()\n",
    "r = RandomForestClassifier()\n",
    "gb= GradientBoostingClassifier()\n",
    "kn= KNeighborsClassifier()\n",
    "ab= AdaBoostClassifier()\n",
    "mn= MultinomialNB()\n",
    "\n",
    "def algo_test(x, y):\n",
    "    modeller=[ b, l, d, r, gb, kn, ab, mn]\n",
    "    isimler=[\"BernoulliNB\", \"LogisticRegression\", \"DecisionTreeClassifier\", \n",
    "             \"RandomForestClassifier\", \"GradientBoostingClassifier\", \"KNeighborsClassifier\",\n",
    "             \"AdaBoostClassifier\", \"MultinomialNB\"]\n",
    "\n",
    "    x_train, x_test, y_train, y_test = train_test_split(x, y, test_size=.3, random_state = 42)\n",
    "    \n",
    "    accuracy = []\n",
    "    precision = []\n",
    "    recall = []\n",
    "    f1 = []\n",
    "    mdl=[]\n",
    "\n",
    "    print(\"Veriler hazır modeller deneniyor\")\n",
    "    for model in modeller:\n",
    "        print(model, \" modeli eğitiliyor!..\")\n",
    "        model=model.fit(x_train,y_train)\n",
    "        tahmin=model.predict(x_test)\n",
    "        mdl.append(model)\n",
    "        accuracy.append(accuracy_score(y_test, tahmin))\n",
    "        precision.append(precision_score(y_test, tahmin, average=\"micro\"))\n",
    "        recall.append(recall_score(y_test, tahmin, average=\"micro\"))\n",
    "        f1.append(f1_score(y_test, tahmin, average=\"micro\"))\n",
    "        print(confusion_matrix(y_test, tahmin))\n",
    "\n",
    "    print(\"Eğitim tamamlandı.\")\n",
    "    \n",
    "    metrics=pd.DataFrame(columns=[\"Accuracy\", \"Precision\", \"Recall\", \"F1\", \"Model\"], index=isimler)\n",
    "    metrics[\"Accuracy\"] = accuracy\n",
    "    metrics[\"Precision\"] = precision  \n",
    "    metrics[\"Recall\"] = recall\n",
    "    metrics[\"F1\"] = f1\n",
    "    metrics[\"Model\"]=mdl\n",
    "\n",
    "    metrics.sort_values(\"F1\", ascending=False, inplace=True)\n",
    "\n",
    "    print(\"En başarılı model: \", metrics.iloc[0].name)\n",
    "    model=metrics.iloc[0,-1]\n",
    "    tahmin=model.predict(np.array(x_test) if model==kn else x_test)\n",
    "    print(\"Confusion Matrix:\")\n",
    "    print(confusion_matrix(y_test, tahmin))\n",
    "    print(\"classification Report:\")\n",
    "    print(classification_report(y_test, tahmin))\n",
    "    print(\"Diğer Modeller:\")\n",
    "    \n",
    "    return metrics.drop(\"Model\", axis=1)"
   ]
  },
  {
   "cell_type": "code",
   "execution_count": 13,
   "metadata": {
    "execution": {
     "iopub.execute_input": "2024-05-30T14:50:26.783207Z",
     "iopub.status.busy": "2024-05-30T14:50:26.782871Z",
     "iopub.status.idle": "2024-05-30T14:50:26.939465Z",
     "shell.execute_reply": "2024-05-30T14:50:26.938629Z",
     "shell.execute_reply.started": "2024-05-30T14:50:26.783180Z"
    },
    "trusted": true
   },
   "outputs": [],
   "source": [
    "df[\"text\"]=clean_text(df[\"text\"])"
   ]
  },
  {
   "cell_type": "code",
   "execution_count": 14,
   "metadata": {
    "execution": {
     "iopub.execute_input": "2024-05-30T14:51:07.792682Z",
     "iopub.status.busy": "2024-05-30T14:51:07.792059Z",
     "iopub.status.idle": "2024-05-30T14:51:07.799201Z",
     "shell.execute_reply": "2024-05-30T14:51:07.798041Z",
     "shell.execute_reply.started": "2024-05-30T14:51:07.792651Z"
    },
    "trusted": true
   },
   "outputs": [
    {
     "data": {
      "text/plain": [
       "7613"
      ]
     },
     "execution_count": 14,
     "metadata": {},
     "output_type": "execute_result"
    }
   ],
   "source": [
    "train.shape[0]"
   ]
  },
  {
   "cell_type": "code",
   "execution_count": 15,
   "metadata": {
    "execution": {
     "iopub.execute_input": "2024-05-30T14:51:31.885159Z",
     "iopub.status.busy": "2024-05-30T14:51:31.884324Z",
     "iopub.status.idle": "2024-05-30T14:51:31.891961Z",
     "shell.execute_reply": "2024-05-30T14:51:31.890888Z",
     "shell.execute_reply.started": "2024-05-30T14:51:31.885131Z"
    },
    "trusted": true
   },
   "outputs": [
    {
     "data": {
      "text/plain": [
       "((7613, 5), (3263, 5))"
      ]
     },
     "execution_count": 15,
     "metadata": {},
     "output_type": "execute_result"
    }
   ],
   "source": [
    "train=df.iloc[:train.shape[0]]\n",
    "test=df.iloc[train.shape[0]:]\n",
    "train.shape, test.shape"
   ]
  },
  {
   "cell_type": "code",
   "execution_count": 25,
   "metadata": {
    "execution": {
     "iopub.execute_input": "2024-05-30T14:56:23.183564Z",
     "iopub.status.busy": "2024-05-30T14:56:23.183194Z",
     "iopub.status.idle": "2024-05-30T14:56:23.190219Z",
     "shell.execute_reply": "2024-05-30T14:56:23.189165Z",
     "shell.execute_reply.started": "2024-05-30T14:56:23.183535Z"
    },
    "trusted": true
   },
   "outputs": [],
   "source": [
    "x=np.array(train[\"text\"])\n",
    "y=np.array(train[\"target\"])"
   ]
  },
  {
   "cell_type": "code",
   "execution_count": 26,
   "metadata": {
    "execution": {
     "iopub.execute_input": "2024-05-30T14:56:24.605434Z",
     "iopub.status.busy": "2024-05-30T14:56:24.604754Z",
     "iopub.status.idle": "2024-05-30T14:56:30.153195Z",
     "shell.execute_reply": "2024-05-30T14:56:30.152436Z",
     "shell.execute_reply.started": "2024-05-30T14:56:24.605391Z"
    },
    "trusted": true
   },
   "outputs": [
    {
     "name": "stderr",
     "output_type": "stream",
     "text": [
      "/opt/conda/lib/python3.10/site-packages/sklearn/feature_extraction/text.py:544: UserWarning: The parameter 'ngram_range' will not be used since 'analyzer' is callable'\n",
      "  warnings.warn(\n",
      "/opt/conda/lib/python3.10/site-packages/sklearn/feature_extraction/text.py:550: UserWarning: The parameter 'stop_words' will not be used since 'analyzer' != 'word'\n",
      "  warnings.warn(\n"
     ]
    }
   ],
   "source": [
    "x=vect.fit_transform(x)"
   ]
  },
  {
   "cell_type": "code",
   "execution_count": 27,
   "metadata": {
    "execution": {
     "iopub.execute_input": "2024-05-30T14:56:31.340813Z",
     "iopub.status.busy": "2024-05-30T14:56:31.340111Z",
     "iopub.status.idle": "2024-05-30T14:56:50.583221Z",
     "shell.execute_reply": "2024-05-30T14:56:50.582254Z",
     "shell.execute_reply.started": "2024-05-30T14:56:31.340785Z"
    },
    "trusted": true
   },
   "outputs": [
    {
     "name": "stdout",
     "output_type": "stream",
     "text": [
      "Veriler hazır modeller deneniyor\n",
      "BernoulliNB()  modeli eğitiliyor!..\n",
      "[[1209  109]\n",
      " [ 315  651]]\n",
      "LogisticRegression()  modeli eğitiliyor!..\n",
      "[[1152  166]\n",
      " [ 278  688]]\n",
      "DecisionTreeClassifier()  modeli eğitiliyor!..\n",
      "[[1026  292]\n",
      " [ 345  621]]\n",
      "RandomForestClassifier()  modeli eğitiliyor!..\n",
      "[[1206  112]\n",
      " [ 349  617]]\n",
      "GradientBoostingClassifier()  modeli eğitiliyor!..\n",
      "[[1171  147]\n",
      " [ 422  544]]\n",
      "KNeighborsClassifier()  modeli eğitiliyor!..\n",
      "[[1261   57]\n",
      " [ 712  254]]\n",
      "AdaBoostClassifier()  modeli eğitiliyor!..\n",
      "[[1186  132]\n",
      " [ 434  532]]\n",
      "MultinomialNB()  modeli eğitiliyor!..\n",
      "[[1165  153]\n",
      " [ 287  679]]\n",
      "Eğitim tamamlandı.\n",
      "En başarılı model:  BernoulliNB\n",
      "Confusion Matrix:\n",
      "[[1209  109]\n",
      " [ 315  651]]\n",
      "classification Report:\n",
      "              precision    recall  f1-score   support\n",
      "\n",
      "         0.0       0.79      0.92      0.85      1318\n",
      "         1.0       0.86      0.67      0.75       966\n",
      "\n",
      "    accuracy                           0.81      2284\n",
      "   macro avg       0.82      0.80      0.80      2284\n",
      "weighted avg       0.82      0.81      0.81      2284\n",
      "\n",
      "Diğer Modeller:\n"
     ]
    },
    {
     "data": {
      "text/html": [
       "<div>\n",
       "<style scoped>\n",
       "    .dataframe tbody tr th:only-of-type {\n",
       "        vertical-align: middle;\n",
       "    }\n",
       "\n",
       "    .dataframe tbody tr th {\n",
       "        vertical-align: top;\n",
       "    }\n",
       "\n",
       "    .dataframe thead th {\n",
       "        text-align: right;\n",
       "    }\n",
       "</style>\n",
       "<table border=\"1\" class=\"dataframe\">\n",
       "  <thead>\n",
       "    <tr style=\"text-align: right;\">\n",
       "      <th></th>\n",
       "      <th>Accuracy</th>\n",
       "      <th>Precision</th>\n",
       "      <th>Recall</th>\n",
       "      <th>F1</th>\n",
       "    </tr>\n",
       "  </thead>\n",
       "  <tbody>\n",
       "    <tr>\n",
       "      <th>BernoulliNB</th>\n",
       "      <td>0.814361</td>\n",
       "      <td>0.814361</td>\n",
       "      <td>0.814361</td>\n",
       "      <td>0.814361</td>\n",
       "    </tr>\n",
       "    <tr>\n",
       "      <th>MultinomialNB</th>\n",
       "      <td>0.807356</td>\n",
       "      <td>0.807356</td>\n",
       "      <td>0.807356</td>\n",
       "      <td>0.807356</td>\n",
       "    </tr>\n",
       "    <tr>\n",
       "      <th>LogisticRegression</th>\n",
       "      <td>0.805604</td>\n",
       "      <td>0.805604</td>\n",
       "      <td>0.805604</td>\n",
       "      <td>0.805604</td>\n",
       "    </tr>\n",
       "    <tr>\n",
       "      <th>RandomForestClassifier</th>\n",
       "      <td>0.798161</td>\n",
       "      <td>0.798161</td>\n",
       "      <td>0.798161</td>\n",
       "      <td>0.798161</td>\n",
       "    </tr>\n",
       "    <tr>\n",
       "      <th>AdaBoostClassifier</th>\n",
       "      <td>0.752189</td>\n",
       "      <td>0.752189</td>\n",
       "      <td>0.752189</td>\n",
       "      <td>0.752189</td>\n",
       "    </tr>\n",
       "    <tr>\n",
       "      <th>GradientBoostingClassifier</th>\n",
       "      <td>0.750876</td>\n",
       "      <td>0.750876</td>\n",
       "      <td>0.750876</td>\n",
       "      <td>0.750876</td>\n",
       "    </tr>\n",
       "    <tr>\n",
       "      <th>DecisionTreeClassifier</th>\n",
       "      <td>0.721103</td>\n",
       "      <td>0.721103</td>\n",
       "      <td>0.721103</td>\n",
       "      <td>0.721103</td>\n",
       "    </tr>\n",
       "    <tr>\n",
       "      <th>KNeighborsClassifier</th>\n",
       "      <td>0.663310</td>\n",
       "      <td>0.663310</td>\n",
       "      <td>0.663310</td>\n",
       "      <td>0.663310</td>\n",
       "    </tr>\n",
       "  </tbody>\n",
       "</table>\n",
       "</div>"
      ],
      "text/plain": [
       "                            Accuracy  Precision    Recall        F1\n",
       "BernoulliNB                 0.814361   0.814361  0.814361  0.814361\n",
       "MultinomialNB               0.807356   0.807356  0.807356  0.807356\n",
       "LogisticRegression          0.805604   0.805604  0.805604  0.805604\n",
       "RandomForestClassifier      0.798161   0.798161  0.798161  0.798161\n",
       "AdaBoostClassifier          0.752189   0.752189  0.752189  0.752189\n",
       "GradientBoostingClassifier  0.750876   0.750876  0.750876  0.750876\n",
       "DecisionTreeClassifier      0.721103   0.721103  0.721103  0.721103\n",
       "KNeighborsClassifier        0.663310   0.663310  0.663310  0.663310"
      ]
     },
     "execution_count": 27,
     "metadata": {},
     "output_type": "execute_result"
    }
   ],
   "source": [
    "algo_test(x,y)"
   ]
  },
  {
   "cell_type": "code",
   "execution_count": 28,
   "metadata": {
    "execution": {
     "iopub.execute_input": "2024-05-30T14:56:59.430894Z",
     "iopub.status.busy": "2024-05-30T14:56:59.430546Z",
     "iopub.status.idle": "2024-05-30T14:56:59.440155Z",
     "shell.execute_reply": "2024-05-30T14:56:59.439136Z",
     "shell.execute_reply.started": "2024-05-30T14:56:59.430867Z"
    },
    "trusted": true
   },
   "outputs": [],
   "source": [
    "br=BernoulliNB()\n",
    "br_model=br.fit(x,y)"
   ]
  },
  {
   "cell_type": "code",
   "execution_count": 29,
   "metadata": {
    "execution": {
     "iopub.execute_input": "2024-05-30T14:57:00.719700Z",
     "iopub.status.busy": "2024-05-30T14:57:00.718744Z",
     "iopub.status.idle": "2024-05-30T14:57:03.214013Z",
     "shell.execute_reply": "2024-05-30T14:57:03.213185Z",
     "shell.execute_reply.started": "2024-05-30T14:57:00.719666Z"
    },
    "trusted": true
   },
   "outputs": [
    {
     "name": "stderr",
     "output_type": "stream",
     "text": [
      "/opt/conda/lib/python3.10/site-packages/sklearn/feature_extraction/text.py:544: UserWarning: The parameter 'ngram_range' will not be used since 'analyzer' is callable'\n",
      "  warnings.warn(\n",
      "/opt/conda/lib/python3.10/site-packages/sklearn/feature_extraction/text.py:550: UserWarning: The parameter 'stop_words' will not be used since 'analyzer' != 'word'\n",
      "  warnings.warn(\n"
     ]
    }
   ],
   "source": [
    "x_test=np.array(test[\"text\"])\n",
    "x_test=vect.fit_transform(x_test)"
   ]
  },
  {
   "cell_type": "code",
   "execution_count": 32,
   "metadata": {
    "execution": {
     "iopub.execute_input": "2024-05-30T14:58:48.224320Z",
     "iopub.status.busy": "2024-05-30T14:58:48.223707Z",
     "iopub.status.idle": "2024-05-30T14:58:48.232361Z",
     "shell.execute_reply": "2024-05-30T14:58:48.231340Z",
     "shell.execute_reply.started": "2024-05-30T14:58:48.224288Z"
    },
    "trusted": true
   },
   "outputs": [
    {
     "name": "stderr",
     "output_type": "stream",
     "text": [
      "/tmp/ipykernel_34/1025965816.py:1: SettingWithCopyWarning: \n",
      "A value is trying to be set on a copy of a slice from a DataFrame.\n",
      "Try using .loc[row_indexer,col_indexer] = value instead\n",
      "\n",
      "See the caveats in the documentation: https://pandas.pydata.org/pandas-docs/stable/user_guide/indexing.html#returning-a-view-versus-a-copy\n",
      "  test[\"target\"]=br_model.predict(x_test).astype(int)\n"
     ]
    }
   ],
   "source": [
    "test[\"target\"]=br_model.predict(x_test).astype(int)"
   ]
  },
  {
   "cell_type": "code",
   "execution_count": 33,
   "metadata": {
    "execution": {
     "iopub.execute_input": "2024-05-30T14:58:54.746310Z",
     "iopub.status.busy": "2024-05-30T14:58:54.745942Z",
     "iopub.status.idle": "2024-05-30T14:58:54.761250Z",
     "shell.execute_reply": "2024-05-30T14:58:54.760068Z",
     "shell.execute_reply.started": "2024-05-30T14:58:54.746281Z"
    },
    "trusted": true
   },
   "outputs": [
    {
     "data": {
      "text/html": [
       "<div>\n",
       "<style scoped>\n",
       "    .dataframe tbody tr th:only-of-type {\n",
       "        vertical-align: middle;\n",
       "    }\n",
       "\n",
       "    .dataframe tbody tr th {\n",
       "        vertical-align: top;\n",
       "    }\n",
       "\n",
       "    .dataframe thead th {\n",
       "        text-align: right;\n",
       "    }\n",
       "</style>\n",
       "<table border=\"1\" class=\"dataframe\">\n",
       "  <thead>\n",
       "    <tr style=\"text-align: right;\">\n",
       "      <th></th>\n",
       "      <th>id</th>\n",
       "      <th>keyword</th>\n",
       "      <th>location</th>\n",
       "      <th>text</th>\n",
       "      <th>target</th>\n",
       "    </tr>\n",
       "  </thead>\n",
       "  <tbody>\n",
       "    <tr>\n",
       "      <th>7613</th>\n",
       "      <td>0</td>\n",
       "      <td>NaN</td>\n",
       "      <td>NaN</td>\n",
       "      <td>just happened a terrible car crash</td>\n",
       "      <td>0</td>\n",
       "    </tr>\n",
       "    <tr>\n",
       "      <th>7614</th>\n",
       "      <td>2</td>\n",
       "      <td>NaN</td>\n",
       "      <td>NaN</td>\n",
       "      <td>heard about earthquake is different cities sta...</td>\n",
       "      <td>0</td>\n",
       "    </tr>\n",
       "    <tr>\n",
       "      <th>7615</th>\n",
       "      <td>3</td>\n",
       "      <td>NaN</td>\n",
       "      <td>NaN</td>\n",
       "      <td>there is a forest fire at spot pond geese are ...</td>\n",
       "      <td>1</td>\n",
       "    </tr>\n",
       "    <tr>\n",
       "      <th>7616</th>\n",
       "      <td>9</td>\n",
       "      <td>NaN</td>\n",
       "      <td>NaN</td>\n",
       "      <td>apocalypse lighting spokane wildfires</td>\n",
       "      <td>1</td>\n",
       "    </tr>\n",
       "    <tr>\n",
       "      <th>7617</th>\n",
       "      <td>11</td>\n",
       "      <td>NaN</td>\n",
       "      <td>NaN</td>\n",
       "      <td>typhoon soudelor kills  in china and taiwan</td>\n",
       "      <td>0</td>\n",
       "    </tr>\n",
       "  </tbody>\n",
       "</table>\n",
       "</div>"
      ],
      "text/plain": [
       "      id keyword location                                               text  \\\n",
       "7613   0     NaN      NaN                 just happened a terrible car crash   \n",
       "7614   2     NaN      NaN  heard about earthquake is different cities sta...   \n",
       "7615   3     NaN      NaN  there is a forest fire at spot pond geese are ...   \n",
       "7616   9     NaN      NaN              apocalypse lighting spokane wildfires   \n",
       "7617  11     NaN      NaN        typhoon soudelor kills  in china and taiwan   \n",
       "\n",
       "      target  \n",
       "7613       0  \n",
       "7614       0  \n",
       "7615       1  \n",
       "7616       1  \n",
       "7617       0  "
      ]
     },
     "execution_count": 33,
     "metadata": {},
     "output_type": "execute_result"
    }
   ],
   "source": [
    "test.head()"
   ]
  },
  {
   "cell_type": "code",
   "execution_count": 34,
   "metadata": {
    "execution": {
     "iopub.execute_input": "2024-05-30T14:59:30.818716Z",
     "iopub.status.busy": "2024-05-30T14:59:30.818332Z",
     "iopub.status.idle": "2024-05-30T14:59:30.832293Z",
     "shell.execute_reply": "2024-05-30T14:59:30.831424Z",
     "shell.execute_reply.started": "2024-05-30T14:59:30.818688Z"
    },
    "trusted": true
   },
   "outputs": [],
   "source": [
    "test[[\"id\", \"target\"]].to_csv(\"submission.csv\", index=False)"
   ]
  },
  {
   "cell_type": "markdown",
   "metadata": {},
   "source": [
    "## DL Modelleme"
   ]
  },
  {
   "cell_type": "code",
   "execution_count": 35,
   "metadata": {
    "execution": {
     "iopub.execute_input": "2024-05-30T15:00:52.013051Z",
     "iopub.status.busy": "2024-05-30T15:00:52.012433Z",
     "iopub.status.idle": "2024-05-30T15:01:07.138030Z",
     "shell.execute_reply": "2024-05-30T15:01:07.137106Z",
     "shell.execute_reply.started": "2024-05-30T15:00:52.013020Z"
    },
    "trusted": true
   },
   "outputs": [
    {
     "name": "stderr",
     "output_type": "stream",
     "text": [
      "2024-05-30 15:00:54.251261: E external/local_xla/xla/stream_executor/cuda/cuda_dnn.cc:9261] Unable to register cuDNN factory: Attempting to register factory for plugin cuDNN when one has already been registered\n",
      "2024-05-30 15:00:54.251375: E external/local_xla/xla/stream_executor/cuda/cuda_fft.cc:607] Unable to register cuFFT factory: Attempting to register factory for plugin cuFFT when one has already been registered\n",
      "2024-05-30 15:00:54.422577: E external/local_xla/xla/stream_executor/cuda/cuda_blas.cc:1515] Unable to register cuBLAS factory: Attempting to register factory for plugin cuBLAS when one has already been registered\n"
     ]
    }
   ],
   "source": [
    "from tensorflow.keras.preprocessing.text import Tokenizer\n",
    "from tensorflow.keras.preprocessing.sequence import pad_sequences\n",
    "from tensorflow.keras.models import Sequential\n",
    "from tensorflow.keras.layers import Embedding, LSTM, Dense"
   ]
  },
  {
   "cell_type": "code",
   "execution_count": 37,
   "metadata": {
    "execution": {
     "iopub.execute_input": "2024-05-30T15:01:32.455242Z",
     "iopub.status.busy": "2024-05-30T15:01:32.454890Z",
     "iopub.status.idle": "2024-05-30T15:01:32.459654Z",
     "shell.execute_reply": "2024-05-30T15:01:32.458701Z",
     "shell.execute_reply.started": "2024-05-30T15:01:32.455212Z"
    },
    "trusted": true
   },
   "outputs": [],
   "source": [
    "x = train['text'].values\n",
    "y = train['target'].values"
   ]
  },
  {
   "cell_type": "code",
   "execution_count": 38,
   "metadata": {
    "execution": {
     "iopub.execute_input": "2024-05-30T15:01:41.997947Z",
     "iopub.status.busy": "2024-05-30T15:01:41.997226Z",
     "iopub.status.idle": "2024-05-30T15:01:42.004212Z",
     "shell.execute_reply": "2024-05-30T15:01:42.003112Z",
     "shell.execute_reply.started": "2024-05-30T15:01:41.997912Z"
    },
    "trusted": true
   },
   "outputs": [],
   "source": [
    "x_train, x_test, y_train, y_test = train_test_split(x, y, test_size=0.2, random_state=42)"
   ]
  },
  {
   "cell_type": "code",
   "execution_count": 39,
   "metadata": {
    "execution": {
     "iopub.execute_input": "2024-05-30T15:01:53.927889Z",
     "iopub.status.busy": "2024-05-30T15:01:53.927063Z",
     "iopub.status.idle": "2024-05-30T15:01:54.089202Z",
     "shell.execute_reply": "2024-05-30T15:01:54.088241Z",
     "shell.execute_reply.started": "2024-05-30T15:01:53.927856Z"
    },
    "trusted": true
   },
   "outputs": [],
   "source": [
    "tokenizer = Tokenizer(num_words=10000) \n",
    "tokenizer.fit_on_texts(x_train)"
   ]
  },
  {
   "cell_type": "code",
   "execution_count": 48,
   "metadata": {
    "execution": {
     "iopub.execute_input": "2024-05-30T15:11:17.110541Z",
     "iopub.status.busy": "2024-05-30T15:11:17.110158Z",
     "iopub.status.idle": "2024-05-30T15:11:17.254804Z",
     "shell.execute_reply": "2024-05-30T15:11:17.254019Z",
     "shell.execute_reply.started": "2024-05-30T15:11:17.110512Z"
    },
    "trusted": true
   },
   "outputs": [],
   "source": [
    "x_train = tokenizer.texts_to_sequences(x_train)\n",
    "x_test = tokenizer.texts_to_sequences(x_test)"
   ]
  },
  {
   "cell_type": "code",
   "execution_count": 49,
   "metadata": {
    "execution": {
     "iopub.execute_input": "2024-05-30T15:11:21.100135Z",
     "iopub.status.busy": "2024-05-30T15:11:21.099767Z",
     "iopub.status.idle": "2024-05-30T15:11:21.141827Z",
     "shell.execute_reply": "2024-05-30T15:11:21.141037Z",
     "shell.execute_reply.started": "2024-05-30T15:11:21.100105Z"
    },
    "trusted": true
   },
   "outputs": [],
   "source": [
    "max_sequence_length = max([len(x) for x in x_train])\n",
    "x_train = pad_sequences(x_train, maxlen=max_sequence_length)\n",
    "x_test = pad_sequences(x_test, maxlen=max_sequence_length)"
   ]
  },
  {
   "cell_type": "code",
   "execution_count": 88,
   "metadata": {
    "execution": {
     "iopub.execute_input": "2024-05-30T15:51:56.127085Z",
     "iopub.status.busy": "2024-05-30T15:51:56.126706Z",
     "iopub.status.idle": "2024-05-30T15:51:56.151561Z",
     "shell.execute_reply": "2024-05-30T15:51:56.150643Z",
     "shell.execute_reply.started": "2024-05-30T15:51:56.127055Z"
    },
    "trusted": true
   },
   "outputs": [
    {
     "name": "stderr",
     "output_type": "stream",
     "text": [
      "/opt/conda/lib/python3.10/site-packages/keras/src/layers/core/embedding.py:86: UserWarning: Argument `input_length` is deprecated. Just remove it.\n",
      "  warnings.warn(\n"
     ]
    }
   ],
   "source": [
    "model = Sequential()\n",
    "model.add(Embedding(input_dim=10000, output_dim=200, input_length=max_sequence_length))\n",
    "model.add(LSTM(128, return_sequences=True, dropout=0.2))\n",
    "model.add(LSTM(512, dropout=0.2))\n",
    "model.add(Dense(1024, activation='relu'))\n",
    "model.add(Dense(64, activation='relu'))\n",
    "model.add(Dense(2, activation='softmax'))\n",
    "\n",
    "model.compile(loss='sparse_categorical_crossentropy', optimizer='adam', metrics=['accuracy'])"
   ]
  },
  {
   "cell_type": "code",
   "execution_count": 89,
   "metadata": {
    "execution": {
     "iopub.execute_input": "2024-05-30T15:52:01.231974Z",
     "iopub.status.busy": "2024-05-30T15:52:01.231613Z",
     "iopub.status.idle": "2024-05-30T15:54:40.172591Z",
     "shell.execute_reply": "2024-05-30T15:54:40.171624Z",
     "shell.execute_reply.started": "2024-05-30T15:52:01.231944Z"
    },
    "trusted": true
   },
   "outputs": [
    {
     "name": "stdout",
     "output_type": "stream",
     "text": [
      "Epoch 1/10\n",
      "\u001b[1m191/191\u001b[0m \u001b[32m━━━━━━━━━━━━━━━━━━━━\u001b[0m\u001b[37m\u001b[0m \u001b[1m19s\u001b[0m 76ms/step - accuracy: 0.6582 - loss: 0.6065 - val_accuracy: 0.7938 - val_loss: 0.4524\n",
      "Epoch 2/10\n",
      "\u001b[1m191/191\u001b[0m \u001b[32m━━━━━━━━━━━━━━━━━━━━\u001b[0m\u001b[37m\u001b[0m \u001b[1m14s\u001b[0m 74ms/step - accuracy: 0.8733 - loss: 0.3152 - val_accuracy: 0.7945 - val_loss: 0.4651\n",
      "Epoch 3/10\n",
      "\u001b[1m191/191\u001b[0m \u001b[32m━━━━━━━━━━━━━━━━━━━━\u001b[0m\u001b[37m\u001b[0m \u001b[1m14s\u001b[0m 75ms/step - accuracy: 0.9327 - loss: 0.1901 - val_accuracy: 0.7866 - val_loss: 0.6672\n",
      "Epoch 4/10\n",
      "\u001b[1m191/191\u001b[0m \u001b[32m━━━━━━━━━━━━━━━━━━━━\u001b[0m\u001b[37m\u001b[0m \u001b[1m14s\u001b[0m 73ms/step - accuracy: 0.9606 - loss: 0.1135 - val_accuracy: 0.7833 - val_loss: 0.8256\n",
      "Epoch 5/10\n",
      "\u001b[1m191/191\u001b[0m \u001b[32m━━━━━━━━━━━━━━━━━━━━\u001b[0m\u001b[37m\u001b[0m \u001b[1m14s\u001b[0m 75ms/step - accuracy: 0.9704 - loss: 0.0839 - val_accuracy: 0.7873 - val_loss: 0.9005\n",
      "Epoch 6/10\n",
      "\u001b[1m191/191\u001b[0m \u001b[32m━━━━━━━━━━━━━━━━━━━━\u001b[0m\u001b[37m\u001b[0m \u001b[1m20s\u001b[0m 73ms/step - accuracy: 0.9735 - loss: 0.0728 - val_accuracy: 0.7498 - val_loss: 0.8268\n",
      "Epoch 7/10\n",
      "\u001b[1m191/191\u001b[0m \u001b[32m━━━━━━━━━━━━━━━━━━━━\u001b[0m\u001b[37m\u001b[0m \u001b[1m14s\u001b[0m 75ms/step - accuracy: 0.9854 - loss: 0.0395 - val_accuracy: 0.7544 - val_loss: 0.9933\n",
      "Epoch 8/10\n",
      "\u001b[1m191/191\u001b[0m \u001b[32m━━━━━━━━━━━━━━━━━━━━\u001b[0m\u001b[37m\u001b[0m \u001b[1m15s\u001b[0m 76ms/step - accuracy: 0.9827 - loss: 0.0411 - val_accuracy: 0.7571 - val_loss: 1.5446\n",
      "Epoch 9/10\n",
      "\u001b[1m191/191\u001b[0m \u001b[32m━━━━━━━━━━━━━━━━━━━━\u001b[0m\u001b[37m\u001b[0m \u001b[1m14s\u001b[0m 75ms/step - accuracy: 0.9833 - loss: 0.0386 - val_accuracy: 0.7577 - val_loss: 1.3009\n",
      "Epoch 10/10\n",
      "\u001b[1m191/191\u001b[0m \u001b[32m━━━━━━━━━━━━━━━━━━━━\u001b[0m\u001b[37m\u001b[0m \u001b[1m20s\u001b[0m 73ms/step - accuracy: 0.9838 - loss: 0.0348 - val_accuracy: 0.7459 - val_loss: 1.4945\n"
     ]
    },
    {
     "data": {
      "text/plain": [
       "<keras.src.callbacks.history.History at 0x7ca1e852ef20>"
      ]
     },
     "execution_count": 89,
     "metadata": {},
     "output_type": "execute_result"
    }
   ],
   "source": [
    "model.fit(x_train, y_train, validation_data=(x_test, y_test), epochs=10, batch_size=32)"
   ]
  },
  {
   "cell_type": "code",
   "execution_count": 90,
   "metadata": {
    "execution": {
     "iopub.execute_input": "2024-05-30T15:54:40.174389Z",
     "iopub.status.busy": "2024-05-30T15:54:40.174101Z",
     "iopub.status.idle": "2024-05-30T15:54:41.122869Z",
     "shell.execute_reply": "2024-05-30T15:54:41.121968Z",
     "shell.execute_reply.started": "2024-05-30T15:54:40.174366Z"
    },
    "trusted": true
   },
   "outputs": [
    {
     "name": "stdout",
     "output_type": "stream",
     "text": [
      "\u001b[1m48/48\u001b[0m \u001b[32m━━━━━━━━━━━━━━━━━━━━\u001b[0m\u001b[37m\u001b[0m \u001b[1m1s\u001b[0m 18ms/step - accuracy: 0.7311 - loss: 1.5482\n",
      "Test Loss: 1.4945\n",
      "Test Accuracy: 0.7459\n"
     ]
    }
   ],
   "source": [
    "loss, accuracy = model.evaluate(x_test, y_test)\n",
    "print(f'Test Loss: {loss:.4f}')\n",
    "print(f'Test Accuracy: {accuracy:.4f}')"
   ]
  },
  {
   "cell_type": "code",
   "execution_count": 91,
   "metadata": {
    "execution": {
     "iopub.execute_input": "2024-05-30T15:54:41.124323Z",
     "iopub.status.busy": "2024-05-30T15:54:41.124042Z",
     "iopub.status.idle": "2024-05-30T15:54:41.214670Z",
     "shell.execute_reply": "2024-05-30T15:54:41.213762Z",
     "shell.execute_reply.started": "2024-05-30T15:54:41.124299Z"
    },
    "trusted": true
   },
   "outputs": [],
   "source": [
    "xt = test['text'].values\n",
    "xt = tokenizer.texts_to_sequences(xt)\n",
    "xt = pad_sequences(xt, maxlen=max_sequence_length)"
   ]
  },
  {
   "cell_type": "code",
   "execution_count": 92,
   "metadata": {
    "execution": {
     "iopub.execute_input": "2024-05-30T15:54:41.217354Z",
     "iopub.status.busy": "2024-05-30T15:54:41.216994Z",
     "iopub.status.idle": "2024-05-30T15:54:43.729302Z",
     "shell.execute_reply": "2024-05-30T15:54:43.728403Z",
     "shell.execute_reply.started": "2024-05-30T15:54:41.217323Z"
    },
    "trusted": true
   },
   "outputs": [
    {
     "name": "stdout",
     "output_type": "stream",
     "text": [
      "\u001b[1m102/102\u001b[0m \u001b[32m━━━━━━━━━━━━━━━━━━━━\u001b[0m\u001b[37m\u001b[0m \u001b[1m2s\u001b[0m 21ms/step\n"
     ]
    }
   ],
   "source": [
    "pred=model.predict(xt)"
   ]
  },
  {
   "cell_type": "code",
   "execution_count": 93,
   "metadata": {
    "execution": {
     "iopub.execute_input": "2024-05-30T15:54:43.731031Z",
     "iopub.status.busy": "2024-05-30T15:54:43.730749Z",
     "iopub.status.idle": "2024-05-30T15:54:43.747916Z",
     "shell.execute_reply": "2024-05-30T15:54:43.747184Z",
     "shell.execute_reply.started": "2024-05-30T15:54:43.731008Z"
    },
    "trusted": true
   },
   "outputs": [],
   "source": [
    "pred2=[np.argmax(x) for x in pred]"
   ]
  },
  {
   "cell_type": "code",
   "execution_count": 94,
   "metadata": {
    "execution": {
     "iopub.execute_input": "2024-05-30T15:54:43.749094Z",
     "iopub.status.busy": "2024-05-30T15:54:43.748821Z",
     "iopub.status.idle": "2024-05-30T15:54:43.771638Z",
     "shell.execute_reply": "2024-05-30T15:54:43.770711Z",
     "shell.execute_reply.started": "2024-05-30T15:54:43.749071Z"
    },
    "trusted": true
   },
   "outputs": [
    {
     "name": "stderr",
     "output_type": "stream",
     "text": [
      "/tmp/ipykernel_34/2566461662.py:1: SettingWithCopyWarning: \n",
      "A value is trying to be set on a copy of a slice from a DataFrame.\n",
      "Try using .loc[row_indexer,col_indexer] = value instead\n",
      "\n",
      "See the caveats in the documentation: https://pandas.pydata.org/pandas-docs/stable/user_guide/indexing.html#returning-a-view-versus-a-copy\n",
      "  test[\"target_dl\"]=pred2\n"
     ]
    },
    {
     "data": {
      "text/html": [
       "<div>\n",
       "<style scoped>\n",
       "    .dataframe tbody tr th:only-of-type {\n",
       "        vertical-align: middle;\n",
       "    }\n",
       "\n",
       "    .dataframe tbody tr th {\n",
       "        vertical-align: top;\n",
       "    }\n",
       "\n",
       "    .dataframe thead th {\n",
       "        text-align: right;\n",
       "    }\n",
       "</style>\n",
       "<table border=\"1\" class=\"dataframe\">\n",
       "  <thead>\n",
       "    <tr style=\"text-align: right;\">\n",
       "      <th></th>\n",
       "      <th>id</th>\n",
       "      <th>keyword</th>\n",
       "      <th>location</th>\n",
       "      <th>text</th>\n",
       "      <th>target</th>\n",
       "      <th>target_dl</th>\n",
       "    </tr>\n",
       "  </thead>\n",
       "  <tbody>\n",
       "    <tr>\n",
       "      <th>7613</th>\n",
       "      <td>0</td>\n",
       "      <td>NaN</td>\n",
       "      <td>NaN</td>\n",
       "      <td>just happened a terrible car crash</td>\n",
       "      <td>0</td>\n",
       "      <td>1</td>\n",
       "    </tr>\n",
       "    <tr>\n",
       "      <th>7614</th>\n",
       "      <td>2</td>\n",
       "      <td>NaN</td>\n",
       "      <td>NaN</td>\n",
       "      <td>heard about earthquake is different cities sta...</td>\n",
       "      <td>0</td>\n",
       "      <td>1</td>\n",
       "    </tr>\n",
       "    <tr>\n",
       "      <th>7615</th>\n",
       "      <td>3</td>\n",
       "      <td>NaN</td>\n",
       "      <td>NaN</td>\n",
       "      <td>there is a forest fire at spot pond geese are ...</td>\n",
       "      <td>1</td>\n",
       "      <td>1</td>\n",
       "    </tr>\n",
       "    <tr>\n",
       "      <th>7616</th>\n",
       "      <td>9</td>\n",
       "      <td>NaN</td>\n",
       "      <td>NaN</td>\n",
       "      <td>apocalypse lighting spokane wildfires</td>\n",
       "      <td>1</td>\n",
       "      <td>1</td>\n",
       "    </tr>\n",
       "    <tr>\n",
       "      <th>7617</th>\n",
       "      <td>11</td>\n",
       "      <td>NaN</td>\n",
       "      <td>NaN</td>\n",
       "      <td>typhoon soudelor kills  in china and taiwan</td>\n",
       "      <td>0</td>\n",
       "      <td>1</td>\n",
       "    </tr>\n",
       "  </tbody>\n",
       "</table>\n",
       "</div>"
      ],
      "text/plain": [
       "      id keyword location                                               text  \\\n",
       "7613   0     NaN      NaN                 just happened a terrible car crash   \n",
       "7614   2     NaN      NaN  heard about earthquake is different cities sta...   \n",
       "7615   3     NaN      NaN  there is a forest fire at spot pond geese are ...   \n",
       "7616   9     NaN      NaN              apocalypse lighting spokane wildfires   \n",
       "7617  11     NaN      NaN        typhoon soudelor kills  in china and taiwan   \n",
       "\n",
       "      target  target_dl  \n",
       "7613       0          1  \n",
       "7614       0          1  \n",
       "7615       1          1  \n",
       "7616       1          1  \n",
       "7617       0          1  "
      ]
     },
     "execution_count": 94,
     "metadata": {},
     "output_type": "execute_result"
    }
   ],
   "source": [
    "test[\"target_dl\"]=pred2\n",
    "test.head()"
   ]
  },
  {
   "cell_type": "code",
   "execution_count": 95,
   "metadata": {
    "execution": {
     "iopub.execute_input": "2024-05-30T15:54:43.773384Z",
     "iopub.status.busy": "2024-05-30T15:54:43.773010Z",
     "iopub.status.idle": "2024-05-30T15:54:43.780701Z",
     "shell.execute_reply": "2024-05-30T15:54:43.779721Z",
     "shell.execute_reply.started": "2024-05-30T15:54:43.773360Z"
    },
    "trusted": true
   },
   "outputs": [
    {
     "data": {
      "text/plain": [
       "target_dl\n",
       "0    1929\n",
       "1    1334\n",
       "Name: count, dtype: int64"
      ]
     },
     "execution_count": 95,
     "metadata": {},
     "output_type": "execute_result"
    }
   ],
   "source": [
    "test[\"target_dl\"].value_counts()"
   ]
  },
  {
   "cell_type": "code",
   "execution_count": 96,
   "metadata": {
    "execution": {
     "iopub.execute_input": "2024-05-30T15:54:43.781938Z",
     "iopub.status.busy": "2024-05-30T15:54:43.781709Z",
     "iopub.status.idle": "2024-05-30T15:54:43.796105Z",
     "shell.execute_reply": "2024-05-30T15:54:43.795253Z",
     "shell.execute_reply.started": "2024-05-30T15:54:43.781918Z"
    },
    "trusted": true
   },
   "outputs": [],
   "source": [
    "test[[\"id\", \"target_dl\"]].rename(columns={\"target_dl\": \"target\"}).to_csv(\"submission_dl.csv\", index=False)"
   ]
  },
  {
   "cell_type": "markdown",
   "metadata": {},
   "source": [
    "## Sonuç:\n",
    "Makine öğrenmesi modeli ile Kaggle Score: 0.49770 elde edildi. <br>\n",
    "Ancak Derin öğrenme modeli ile Kaggle Score: 0.75022 elde edildi."
   ]
  }
 ],
 "metadata": {
  "kaggle": {
   "accelerator": "nvidiaTeslaT4",
   "dataSources": [
    {
     "databundleVersionId": 869809,
     "sourceId": 17777,
     "sourceType": "competition"
    }
   ],
   "dockerImageVersionId": 30699,
   "isGpuEnabled": true,
   "isInternetEnabled": true,
   "language": "python",
   "sourceType": "notebook"
  },
  "kernelspec": {
   "display_name": "Python 3",
   "language": "python",
   "name": "python3"
  },
  "language_info": {
   "codemirror_mode": {
    "name": "ipython",
    "version": 3
   },
   "file_extension": ".py",
   "mimetype": "text/x-python",
   "name": "python",
   "nbconvert_exporter": "python",
   "pygments_lexer": "ipython3",
   "version": "3.10.13"
  }
 },
 "nbformat": 4,
 "nbformat_minor": 4
}
