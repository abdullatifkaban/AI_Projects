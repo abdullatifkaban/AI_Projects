{
 "cells": [
  {
   "cell_type": "markdown",
   "id": "435f8342-d241-4d97-a1c6-557e48286aa6",
   "metadata": {},
   "source": [
    "# Advertising - Multiple Linear Regression\n",
    "\n",
    "Bu projede TV, Radyo ve Gazete ilanlarına ne kadar yatırım yapılacağını bulmaya çalışacağız.."
   ]
  },
  {
   "cell_type": "markdown",
   "id": "7879ffaf-0257-4b74-9cdb-b45e33315f3b",
   "metadata": {},
   "source": [
    "### Gerekli paketleri ekliyoruz"
   ]
  },
  {
   "cell_type": "code",
   "execution_count": 1,
   "id": "adfd47fe-39b7-42c4-a7e8-b055f595ccda",
   "metadata": {},
   "outputs": [],
   "source": [
    "import pandas as pd # Data dosyalarini okuma paketi\n",
    "pd.set_option(\"display.max_columns\",55)\n",
    "\n",
    "import numpy as np\n",
    "\n",
    "from sklearn.linear_model import LinearRegression\n",
    "from sklearn.model_selection import train_test_split\n",
    "from sklearn.metrics import r2_score, mean_squared_error\n",
    "\n",
    "import matplotlib.pyplot as plt\n",
    "import seaborn as sns\n",
    "\n",
    "from sklearn.linear_model import Ridge, Lasso, ElasticNet\n",
    "\n",
    "import warnings\n",
    "warnings.filterwarnings('ignore')"
   ]
  },
  {
   "cell_type": "markdown",
   "id": "f3e96d18-55c5-4739-b40b-cf9094be9693",
   "metadata": {},
   "source": [
    "### Verileri projeye ekliyoruz"
   ]
  },
  {
   "cell_type": "code",
   "execution_count": 2,
   "id": "0bae85ac-958e-4e35-b8f6-e01b607ce81a",
   "metadata": {},
   "outputs": [],
   "source": [
    "df=pd.read_csv(\"advertising.csv\")"
   ]
  },
  {
   "cell_type": "markdown",
   "id": "381ee6df-5ccc-42f6-9792-893f4c95fa7f",
   "metadata": {},
   "source": [
    "### EDA - Keşfedici veri analizi"
   ]
  },
  {
   "cell_type": "code",
   "execution_count": 3,
   "id": "72135112-884e-4ad7-aa8f-dd7432ee2628",
   "metadata": {},
   "outputs": [
    {
     "data": {
      "text/html": [
       "<div>\n",
       "<style scoped>\n",
       "    .dataframe tbody tr th:only-of-type {\n",
       "        vertical-align: middle;\n",
       "    }\n",
       "\n",
       "    .dataframe tbody tr th {\n",
       "        vertical-align: top;\n",
       "    }\n",
       "\n",
       "    .dataframe thead th {\n",
       "        text-align: right;\n",
       "    }\n",
       "</style>\n",
       "<table border=\"1\" class=\"dataframe\">\n",
       "  <thead>\n",
       "    <tr style=\"text-align: right;\">\n",
       "      <th></th>\n",
       "      <th>TV</th>\n",
       "      <th>Radio</th>\n",
       "      <th>Newspaper</th>\n",
       "      <th>Sales</th>\n",
       "    </tr>\n",
       "  </thead>\n",
       "  <tbody>\n",
       "    <tr>\n",
       "      <th>0</th>\n",
       "      <td>230.1</td>\n",
       "      <td>37.8</td>\n",
       "      <td>69.2</td>\n",
       "      <td>22.1</td>\n",
       "    </tr>\n",
       "    <tr>\n",
       "      <th>1</th>\n",
       "      <td>44.5</td>\n",
       "      <td>39.3</td>\n",
       "      <td>45.1</td>\n",
       "      <td>10.4</td>\n",
       "    </tr>\n",
       "    <tr>\n",
       "      <th>2</th>\n",
       "      <td>17.2</td>\n",
       "      <td>45.9</td>\n",
       "      <td>69.3</td>\n",
       "      <td>9.3</td>\n",
       "    </tr>\n",
       "    <tr>\n",
       "      <th>3</th>\n",
       "      <td>151.5</td>\n",
       "      <td>41.3</td>\n",
       "      <td>58.5</td>\n",
       "      <td>18.5</td>\n",
       "    </tr>\n",
       "    <tr>\n",
       "      <th>4</th>\n",
       "      <td>180.8</td>\n",
       "      <td>10.8</td>\n",
       "      <td>58.4</td>\n",
       "      <td>12.9</td>\n",
       "    </tr>\n",
       "  </tbody>\n",
       "</table>\n",
       "</div>"
      ],
      "text/plain": [
       "      TV  Radio  Newspaper  Sales\n",
       "0  230.1   37.8       69.2   22.1\n",
       "1   44.5   39.3       45.1   10.4\n",
       "2   17.2   45.9       69.3    9.3\n",
       "3  151.5   41.3       58.5   18.5\n",
       "4  180.8   10.8       58.4   12.9"
      ]
     },
     "execution_count": 3,
     "metadata": {},
     "output_type": "execute_result"
    }
   ],
   "source": [
    "df.head()"
   ]
  },
  {
   "cell_type": "code",
   "execution_count": 4,
   "id": "24c68805-69b4-49e2-b359-ae8ee09f0509",
   "metadata": {},
   "outputs": [
    {
     "name": "stdout",
     "output_type": "stream",
     "text": [
      "<class 'pandas.core.frame.DataFrame'>\n",
      "RangeIndex: 200 entries, 0 to 199\n",
      "Data columns (total 4 columns):\n",
      " #   Column     Non-Null Count  Dtype  \n",
      "---  ------     --------------  -----  \n",
      " 0   TV         200 non-null    float64\n",
      " 1   Radio      200 non-null    float64\n",
      " 2   Newspaper  200 non-null    float64\n",
      " 3   Sales      200 non-null    float64\n",
      "dtypes: float64(4)\n",
      "memory usage: 6.4 KB\n"
     ]
    }
   ],
   "source": [
    "df.info()"
   ]
  },
  {
   "cell_type": "code",
   "execution_count": 5,
   "id": "137db235-7470-4d0e-a284-f181956f9bba",
   "metadata": {},
   "outputs": [
    {
     "data": {
      "text/html": [
       "<div>\n",
       "<style scoped>\n",
       "    .dataframe tbody tr th:only-of-type {\n",
       "        vertical-align: middle;\n",
       "    }\n",
       "\n",
       "    .dataframe tbody tr th {\n",
       "        vertical-align: top;\n",
       "    }\n",
       "\n",
       "    .dataframe thead th {\n",
       "        text-align: right;\n",
       "    }\n",
       "</style>\n",
       "<table border=\"1\" class=\"dataframe\">\n",
       "  <thead>\n",
       "    <tr style=\"text-align: right;\">\n",
       "      <th></th>\n",
       "      <th>TV</th>\n",
       "      <th>Radio</th>\n",
       "      <th>Newspaper</th>\n",
       "      <th>Sales</th>\n",
       "    </tr>\n",
       "  </thead>\n",
       "  <tbody>\n",
       "    <tr>\n",
       "      <th>TV</th>\n",
       "      <td>1.000000</td>\n",
       "      <td>0.054809</td>\n",
       "      <td>0.056648</td>\n",
       "      <td>0.782224</td>\n",
       "    </tr>\n",
       "    <tr>\n",
       "      <th>Radio</th>\n",
       "      <td>0.054809</td>\n",
       "      <td>1.000000</td>\n",
       "      <td>0.354104</td>\n",
       "      <td>0.576223</td>\n",
       "    </tr>\n",
       "    <tr>\n",
       "      <th>Newspaper</th>\n",
       "      <td>0.056648</td>\n",
       "      <td>0.354104</td>\n",
       "      <td>1.000000</td>\n",
       "      <td>0.228299</td>\n",
       "    </tr>\n",
       "    <tr>\n",
       "      <th>Sales</th>\n",
       "      <td>0.782224</td>\n",
       "      <td>0.576223</td>\n",
       "      <td>0.228299</td>\n",
       "      <td>1.000000</td>\n",
       "    </tr>\n",
       "  </tbody>\n",
       "</table>\n",
       "</div>"
      ],
      "text/plain": [
       "                 TV     Radio  Newspaper     Sales\n",
       "TV         1.000000  0.054809   0.056648  0.782224\n",
       "Radio      0.054809  1.000000   0.354104  0.576223\n",
       "Newspaper  0.056648  0.354104   1.000000  0.228299\n",
       "Sales      0.782224  0.576223   0.228299  1.000000"
      ]
     },
     "execution_count": 5,
     "metadata": {},
     "output_type": "execute_result"
    }
   ],
   "source": [
    "# Boş veri yok güzel. Tüm veriler sayı olduğuna göre hemen modellemeye geçebiliriz.\n",
    "df.corr(numeric_only=True)"
   ]
  },
  {
   "cell_type": "code",
   "execution_count": 6,
   "id": "f518f0f9-5e58-4c6b-87ca-2661d85b9027",
   "metadata": {},
   "outputs": [
    {
     "data": {
      "image/png": "[encoded data removed]",
      "text/plain": [
       "<Figure size 640x480 with 2 Axes>"
      ]
     },
     "metadata": {},
     "output_type": "display_data"
    }
   ],
   "source": [
    "sns.heatmap(df.corr(numeric_only=True), annot=True, cmap='RdYlGn');"
   ]
  },
  {
   "cell_type": "code",
   "execution_count": 7,
   "id": "46bf2aa4-9e84-496c-b2d1-9ecbb4aaccfe",
   "metadata": {},
   "outputs": [],
   "source": [
    "x=df.drop(\"Sales\", axis=1)\n",
    "y=df[[\"Sales\"]]"
   ]
  },
  {
   "cell_type": "code",
   "execution_count": 8,
   "id": "5878e189-9874-448e-8f20-cea6035739b3",
   "metadata": {},
   "outputs": [],
   "source": [
    "import pandas as pd\n",
    "import numpy as np\n",
    "import matplotlib.pyplot as plt\n",
    "import seaborn as sns\n",
    "import warnings\n",
    "warnings.filterwarnings(\"ignore\")\n",
    "pd.set_option(\"display.max_columns\",100)\n",
    "\n",
    "from sklearn.linear_model import LinearRegression\n",
    "from sklearn.linear_model import Ridge,Lasso\n",
    "from sklearn.linear_model import ElasticNet\n",
    "from sklearn.neighbors import KNeighborsRegressor\n",
    "from sklearn.ensemble import GradientBoostingRegressor\n",
    "from sklearn.tree import ExtraTreeRegressor\n",
    "from sklearn.tree import DecisionTreeRegressor\n",
    "from xgboost import XGBRegressor\n",
    "from sklearn.model_selection import train_test_split\n",
    "from sklearn.metrics import mean_squared_error,r2_score,mean_absolute_error\n",
    "\n",
    "\n",
    "def algo_test(x,y):\n",
    "        #Bütün modelleri tanımlıyorum\n",
    "        L=LinearRegression()\n",
    "        R=Ridge()\n",
    "        Lass=Lasso()\n",
    "        E=ElasticNet()\n",
    "        ETR=ExtraTreeRegressor()\n",
    "        GBR=GradientBoostingRegressor()\n",
    "        kn=KNeighborsRegressor()\n",
    "        dt=DecisionTreeRegressor()\n",
    "        xgb=XGBRegressor()\n",
    "       \n",
    "        \n",
    "        algos=[L,R,Lass,E,ETR,GBR,kn,dt,xgb]\n",
    "        algo_names=['Linear','Ridge','Lasso','ElasticNet','Extra Tree','Gradient Boosting','KNeighborsRegressor','Decision Tree','XGBRegressor']\n",
    "        \n",
    "        x_train, x_test, y_train, y_test=train_test_split(x,y,test_size=.2,random_state=42)\n",
    "        \n",
    "        r_squared= []\n",
    "        rmse= []\n",
    "        mae= []\n",
    "        \n",
    "        #Hata ve doğruluk oranlarını bir tablo haline getirmek için bir dataframe oluşturuyorum\n",
    "        result=pd.DataFrame(columns=['R_Squared','RMSE','MAE'],index=algo_names)\n",
    "        \n",
    "        \n",
    "        for algo in algos:\n",
    "            p=algo.fit(x_train,y_train).predict(x_test)\n",
    "            r_squared.append(r2_score(y_test,p))\n",
    "            rmse.append(mean_squared_error(y_test,p)**.5)\n",
    "            mae.append(mean_absolute_error(y_test,p))\n",
    "        \n",
    "            \n",
    "\n",
    "        #result adlı tabloya doğruluk ve hata oranlarımı yerleştiriyorum\n",
    "        result.R_Squared=r_squared\n",
    "        result.RMSE=rmse\n",
    "        result.MAE=mae\n",
    "        \n",
    "       #oluşturduğum result tablosunu doğruluk oranına (r2_score) göre sıralayıp dönüyor\n",
    "        rtable=result.sort_values('R_Squared',ascending=False)\n",
    "        return rtable"
   ]
  },
  {
   "cell_type": "code",
   "execution_count": 9,
   "id": "d6ffb03d-0978-42f4-bb38-441794a8526b",
   "metadata": {},
   "outputs": [
    {
     "data": {
      "text/html": [
       "<div>\n",
       "<style scoped>\n",
       "    .dataframe tbody tr th:only-of-type {\n",
       "        vertical-align: middle;\n",
       "    }\n",
       "\n",
       "    .dataframe tbody tr th {\n",
       "        vertical-align: top;\n",
       "    }\n",
       "\n",
       "    .dataframe thead th {\n",
       "        text-align: right;\n",
       "    }\n",
       "</style>\n",
       "<table border=\"1\" class=\"dataframe\">\n",
       "  <thead>\n",
       "    <tr style=\"text-align: right;\">\n",
       "      <th></th>\n",
       "      <th>R_Squared</th>\n",
       "      <th>RMSE</th>\n",
       "      <th>MAE</th>\n",
       "    </tr>\n",
       "  </thead>\n",
       "  <tbody>\n",
       "    <tr>\n",
       "      <th>Gradient Boosting</th>\n",
       "      <td>0.983602</td>\n",
       "      <td>0.719432</td>\n",
       "      <td>0.614574</td>\n",
       "    </tr>\n",
       "    <tr>\n",
       "      <th>XGBRegressor</th>\n",
       "      <td>0.972470</td>\n",
       "      <td>0.932166</td>\n",
       "      <td>0.725829</td>\n",
       "    </tr>\n",
       "    <tr>\n",
       "      <th>Extra Tree</th>\n",
       "      <td>0.944786</td>\n",
       "      <td>1.320133</td>\n",
       "      <td>0.997500</td>\n",
       "    </tr>\n",
       "    <tr>\n",
       "      <th>Decision Tree</th>\n",
       "      <td>0.928842</td>\n",
       "      <td>1.498666</td>\n",
       "      <td>1.045000</td>\n",
       "    </tr>\n",
       "    <tr>\n",
       "      <th>KNeighborsRegressor</th>\n",
       "      <td>0.910620</td>\n",
       "      <td>1.679625</td>\n",
       "      <td>1.189000</td>\n",
       "    </tr>\n",
       "    <tr>\n",
       "      <th>Lasso</th>\n",
       "      <td>0.900401</td>\n",
       "      <td>1.773046</td>\n",
       "      <td>1.452202</td>\n",
       "    </tr>\n",
       "    <tr>\n",
       "      <th>ElasticNet</th>\n",
       "      <td>0.899961</td>\n",
       "      <td>1.776959</td>\n",
       "      <td>1.456659</td>\n",
       "    </tr>\n",
       "    <tr>\n",
       "      <th>Ridge</th>\n",
       "      <td>0.899438</td>\n",
       "      <td>1.781599</td>\n",
       "      <td>1.460766</td>\n",
       "    </tr>\n",
       "    <tr>\n",
       "      <th>Linear</th>\n",
       "      <td>0.899438</td>\n",
       "      <td>1.781600</td>\n",
       "      <td>1.460757</td>\n",
       "    </tr>\n",
       "  </tbody>\n",
       "</table>\n",
       "</div>"
      ],
      "text/plain": [
       "                     R_Squared      RMSE       MAE\n",
       "Gradient Boosting     0.983602  0.719432  0.614574\n",
       "XGBRegressor          0.972470  0.932166  0.725829\n",
       "Extra Tree            0.944786  1.320133  0.997500\n",
       "Decision Tree         0.928842  1.498666  1.045000\n",
       "KNeighborsRegressor   0.910620  1.679625  1.189000\n",
       "Lasso                 0.900401  1.773046  1.452202\n",
       "ElasticNet            0.899961  1.776959  1.456659\n",
       "Ridge                 0.899438  1.781599  1.460766\n",
       "Linear                0.899438  1.781600  1.460757"
      ]
     },
     "execution_count": 9,
     "metadata": {},
     "output_type": "execute_result"
    }
   ],
   "source": [
    "algo_test(x,y)"
   ]
  },
  {
   "cell_type": "markdown",
   "id": "7148eb00-401c-4a02-b8b0-771a6df27f78",
   "metadata": {},
   "source": [
    "### Tavsiye edebilecek yeni bir veri seti oluşturalım. \n",
    "\n",
    "* Tv 0-300\n",
    "* Radyo 0-50\n",
    "* Gazete 0-114\n",
    "\n",
    "Veriler yukarıdaki aralıklarda olduğuna göre veri setimiz her bir değeri karşılayacak kayıtları içermelidir."
   ]
  },
  {
   "cell_type": "code",
   "execution_count": 10,
   "id": "67b938d0-9ad0-4206-9cd5-13bc335f7841",
   "metadata": {},
   "outputs": [
    {
     "data": {
      "text/html": [
       "<div>\n",
       "<style scoped>\n",
       "    .dataframe tbody tr th:only-of-type {\n",
       "        vertical-align: middle;\n",
       "    }\n",
       "\n",
       "    .dataframe tbody tr th {\n",
       "        vertical-align: top;\n",
       "    }\n",
       "\n",
       "    .dataframe thead th {\n",
       "        text-align: right;\n",
       "    }\n",
       "</style>\n",
       "<table border=\"1\" class=\"dataframe\">\n",
       "  <thead>\n",
       "    <tr style=\"text-align: right;\">\n",
       "      <th></th>\n",
       "      <th>TV</th>\n",
       "      <th>Radio</th>\n",
       "      <th>Newspaper</th>\n",
       "    </tr>\n",
       "  </thead>\n",
       "  <tbody>\n",
       "    <tr>\n",
       "      <th>0</th>\n",
       "      <td>0</td>\n",
       "      <td>0</td>\n",
       "      <td>0</td>\n",
       "    </tr>\n",
       "    <tr>\n",
       "      <th>1</th>\n",
       "      <td>0</td>\n",
       "      <td>5</td>\n",
       "      <td>0</td>\n",
       "    </tr>\n",
       "    <tr>\n",
       "      <th>2</th>\n",
       "      <td>0</td>\n",
       "      <td>10</td>\n",
       "      <td>0</td>\n",
       "    </tr>\n",
       "    <tr>\n",
       "      <th>3</th>\n",
       "      <td>0</td>\n",
       "      <td>15</td>\n",
       "      <td>0</td>\n",
       "    </tr>\n",
       "    <tr>\n",
       "      <th>4</th>\n",
       "      <td>0</td>\n",
       "      <td>20</td>\n",
       "      <td>0</td>\n",
       "    </tr>\n",
       "  </tbody>\n",
       "</table>\n",
       "</div>"
      ],
      "text/plain": [
       "   TV  Radio  Newspaper\n",
       "0   0      0          0\n",
       "1   0      5          0\n",
       "2   0     10          0\n",
       "3   0     15          0\n",
       "4   0     20          0"
      ]
     },
     "execution_count": 10,
     "metadata": {},
     "output_type": "execute_result"
    }
   ],
   "source": [
    "xt = pd.DataFrame(np.array(np.meshgrid(range(0, 300, 5), range(0, 50, 5), range(0, 120, 5))).T.reshape(-1, 3), columns=['TV', 'Radio', 'Newspaper'])\n",
    "xt.head()"
   ]
  },
  {
   "cell_type": "markdown",
   "id": "f6d0564c-48a7-42ed-84e6-3cff36cd4103",
   "metadata": {},
   "source": [
    "### GradientBoost modeli ile yeniden eğitip tahmin verilerimizi deneyelim"
   ]
  },
  {
   "cell_type": "code",
   "execution_count": 11,
   "id": "a931d4c1-2702-4ad4-8842-f907cd64ba3e",
   "metadata": {},
   "outputs": [],
   "source": [
    "x_train, x_test, y_train, y_test=train_test_split(x,y,test_size=.2,random_state=42)"
   ]
  },
  {
   "cell_type": "code",
   "execution_count": 12,
   "id": "a391ed93-f776-4d17-b47a-4ae7152cb7fe",
   "metadata": {},
   "outputs": [],
   "source": [
    "g=GradientBoostingRegressor()"
   ]
  },
  {
   "cell_type": "code",
   "execution_count": 13,
   "id": "f958366c-2ef7-43bd-8c4a-e63e461ffb19",
   "metadata": {},
   "outputs": [],
   "source": [
    "model=g.fit(x_train,y_train)"
   ]
  },
  {
   "cell_type": "code",
   "execution_count": 14,
   "id": "777d1131-2a86-41da-a456-11733ce049d6",
   "metadata": {},
   "outputs": [],
   "source": [
    "gTahmin=model.predict(x_test)"
   ]
  },
  {
   "cell_type": "code",
   "execution_count": 15,
   "id": "d0395767-4019-4267-9ea6-eac03cb5f46a",
   "metadata": {},
   "outputs": [
    {
     "data": {
      "text/plain": [
       "0.9841819879897671"
      ]
     },
     "execution_count": 15,
     "metadata": {},
     "output_type": "execute_result"
    }
   ],
   "source": [
    "r2_score(y_test,gTahmin)"
   ]
  },
  {
   "cell_type": "code",
   "execution_count": 16,
   "id": "757214f1-b592-403d-9162-e89dcffccac1",
   "metadata": {},
   "outputs": [
    {
     "data": {
      "text/plain": [
       "0.706592743398638"
      ]
     },
     "execution_count": 16,
     "metadata": {},
     "output_type": "execute_result"
    }
   ],
   "source": [
    "mean_squared_error(y_test,gTahmin)**.5"
   ]
  },
  {
   "cell_type": "code",
   "execution_count": 17,
   "id": "cd024e72-81c8-4f76-b7bd-184b8a3788fc",
   "metadata": {},
   "outputs": [
    {
     "data": {
      "text/plain": [
       "(pandas.core.frame.DataFrame, numpy.ndarray)"
      ]
     },
     "execution_count": 17,
     "metadata": {},
     "output_type": "execute_result"
    }
   ],
   "source": [
    "type(y_test), type(gTahmin)"
   ]
  },
  {
   "cell_type": "code",
   "execution_count": 18,
   "id": "080450ed-7a42-4699-b57b-4ebdb6b35156",
   "metadata": {},
   "outputs": [],
   "source": [
    "gt=gTahmin.reshape((40, 1))"
   ]
  },
  {
   "cell_type": "code",
   "execution_count": 19,
   "id": "dc398529-3e0a-4a17-8eb5-2004569d08bb",
   "metadata": {},
   "outputs": [],
   "source": [
    "residuals=y_test-gt"
   ]
  },
  {
   "cell_type": "code",
   "execution_count": 20,
   "id": "26be8d1b-2a32-4aaa-88ca-7e203c29b63c",
   "metadata": {},
   "outputs": [
    {
     "data": {
      "text/plain": [
       "<Axes: ylabel='Count'>"
      ]
     },
     "execution_count": 20,
     "metadata": {},
     "output_type": "execute_result"
    },
    {
     "data": {
      "image/png": "[encoded data removed]",
      "text/plain": [
       "<Figure size 640x480 with 1 Axes>"
      ]
     },
     "metadata": {},
     "output_type": "display_data"
    }
   ],
   "source": [
    "sns.histplot(residuals, bins=50)"
   ]
  },
  {
   "cell_type": "code",
   "execution_count": 21,
   "id": "521b27e6-2acc-498e-b692-4f02e33e6500",
   "metadata": {},
   "outputs": [
    {
     "data": {
      "text/plain": [
       "<Axes: xlabel='Sales', ylabel='Density'>"
      ]
     },
     "execution_count": 21,
     "metadata": {},
     "output_type": "execute_result"
    },
    {
     "data": {
      "image/png": "[encoded data removed]",
      "text/plain": [
       "<Figure size 640x480 with 1 Axes>"
      ]
     },
     "metadata": {},
     "output_type": "display_data"
    }
   ],
   "source": [
    "sns.kdeplot(x=residuals[\"Sales\"], fill=True)"
   ]
  },
  {
   "cell_type": "code",
   "execution_count": 22,
   "id": "fd0c2ff3-f602-4b3c-8a97-dc887ccb4ec5",
   "metadata": {},
   "outputs": [],
   "source": [
    "tahmin=model.predict(xt)"
   ]
  },
  {
   "cell_type": "code",
   "execution_count": 23,
   "id": "fa0e63af-50e9-49f3-98a6-4b7657d32496",
   "metadata": {},
   "outputs": [
    {
     "data": {
      "text/plain": [
       "(14400,)"
      ]
     },
     "execution_count": 23,
     "metadata": {},
     "output_type": "execute_result"
    }
   ],
   "source": [
    "tahmin.shape"
   ]
  },
  {
   "cell_type": "code",
   "execution_count": 24,
   "id": "3c3d9482-cd24-4cc4-8086-3694a1e4924a",
   "metadata": {},
   "outputs": [],
   "source": [
    "xt[\"Sales\"]=tahmin"
   ]
  },
  {
   "cell_type": "code",
   "execution_count": 25,
   "id": "4517dfee-31da-4af8-b8b5-2f5ed4cb346e",
   "metadata": {},
   "outputs": [
    {
     "data": {
      "text/html": [
       "<div>\n",
       "<style scoped>\n",
       "    .dataframe tbody tr th:only-of-type {\n",
       "        vertical-align: middle;\n",
       "    }\n",
       "\n",
       "    .dataframe tbody tr th {\n",
       "        vertical-align: top;\n",
       "    }\n",
       "\n",
       "    .dataframe thead th {\n",
       "        text-align: right;\n",
       "    }\n",
       "</style>\n",
       "<table border=\"1\" class=\"dataframe\">\n",
       "  <thead>\n",
       "    <tr style=\"text-align: right;\">\n",
       "      <th></th>\n",
       "      <th>TV</th>\n",
       "      <th>Radio</th>\n",
       "      <th>Newspaper</th>\n",
       "      <th>Sales</th>\n",
       "    </tr>\n",
       "  </thead>\n",
       "  <tbody>\n",
       "    <tr>\n",
       "      <th>0</th>\n",
       "      <td>0</td>\n",
       "      <td>0</td>\n",
       "      <td>0</td>\n",
       "      <td>2.046310</td>\n",
       "    </tr>\n",
       "    <tr>\n",
       "      <th>1</th>\n",
       "      <td>0</td>\n",
       "      <td>5</td>\n",
       "      <td>0</td>\n",
       "      <td>2.445811</td>\n",
       "    </tr>\n",
       "    <tr>\n",
       "      <th>2</th>\n",
       "      <td>0</td>\n",
       "      <td>10</td>\n",
       "      <td>0</td>\n",
       "      <td>2.490507</td>\n",
       "    </tr>\n",
       "    <tr>\n",
       "      <th>3</th>\n",
       "      <td>0</td>\n",
       "      <td>15</td>\n",
       "      <td>0</td>\n",
       "      <td>2.426741</td>\n",
       "    </tr>\n",
       "    <tr>\n",
       "      <th>4</th>\n",
       "      <td>0</td>\n",
       "      <td>20</td>\n",
       "      <td>0</td>\n",
       "      <td>2.663744</td>\n",
       "    </tr>\n",
       "  </tbody>\n",
       "</table>\n",
       "</div>"
      ],
      "text/plain": [
       "   TV  Radio  Newspaper     Sales\n",
       "0   0      0          0  2.046310\n",
       "1   0      5          0  2.445811\n",
       "2   0     10          0  2.490507\n",
       "3   0     15          0  2.426741\n",
       "4   0     20          0  2.663744"
      ]
     },
     "execution_count": 25,
     "metadata": {},
     "output_type": "execute_result"
    }
   ],
   "source": [
    "xt.head()"
   ]
  },
  {
   "cell_type": "code",
   "execution_count": 26,
   "id": "c5c84dd5-ac14-40c8-96af-029c7c7499cf",
   "metadata": {},
   "outputs": [
    {
     "data": {
      "text/html": [
       "<div>\n",
       "<style scoped>\n",
       "    .dataframe tbody tr th:only-of-type {\n",
       "        vertical-align: middle;\n",
       "    }\n",
       "\n",
       "    .dataframe tbody tr th {\n",
       "        vertical-align: top;\n",
       "    }\n",
       "\n",
       "    .dataframe thead th {\n",
       "        text-align: right;\n",
       "    }\n",
       "</style>\n",
       "<table border=\"1\" class=\"dataframe\">\n",
       "  <thead>\n",
       "    <tr style=\"text-align: right;\">\n",
       "      <th></th>\n",
       "      <th>TV</th>\n",
       "      <th>Radio</th>\n",
       "      <th>Newspaper</th>\n",
       "      <th>Sales</th>\n",
       "    </tr>\n",
       "  </thead>\n",
       "  <tbody>\n",
       "    <tr>\n",
       "      <th>8389</th>\n",
       "      <td>290</td>\n",
       "      <td>45</td>\n",
       "      <td>65</td>\n",
       "      <td>26.252549</td>\n",
       "    </tr>\n",
       "    <tr>\n",
       "      <th>8399</th>\n",
       "      <td>295</td>\n",
       "      <td>45</td>\n",
       "      <td>65</td>\n",
       "      <td>26.252549</td>\n",
       "    </tr>\n",
       "    <tr>\n",
       "      <th>7789</th>\n",
       "      <td>290</td>\n",
       "      <td>45</td>\n",
       "      <td>60</td>\n",
       "      <td>26.203288</td>\n",
       "    </tr>\n",
       "    <tr>\n",
       "      <th>8999</th>\n",
       "      <td>295</td>\n",
       "      <td>45</td>\n",
       "      <td>70</td>\n",
       "      <td>26.202653</td>\n",
       "    </tr>\n",
       "    <tr>\n",
       "      <th>8989</th>\n",
       "      <td>290</td>\n",
       "      <td>45</td>\n",
       "      <td>70</td>\n",
       "      <td>26.202653</td>\n",
       "    </tr>\n",
       "  </tbody>\n",
       "</table>\n",
       "</div>"
      ],
      "text/plain": [
       "       TV  Radio  Newspaper      Sales\n",
       "8389  290     45         65  26.252549\n",
       "8399  295     45         65  26.252549\n",
       "7789  290     45         60  26.203288\n",
       "8999  295     45         70  26.202653\n",
       "8989  290     45         70  26.202653"
      ]
     },
     "execution_count": 26,
     "metadata": {},
     "output_type": "execute_result"
    }
   ],
   "source": [
    "xt.sort_values(\"Sales\", ascending=False).head()"
   ]
  },
  {
   "cell_type": "code",
   "execution_count": 34,
   "id": "3f2c9174-38e3-4d41-a0ef-a3332c9e31a5",
   "metadata": {},
   "outputs": [],
   "source": [
    "def satis_tahmin(tv, rd, np):\n",
    "    denek=[[tv,rd,np]]\n",
    "    return model.predict(denek)"
   ]
  },
  {
   "cell_type": "code",
   "execution_count": 35,
   "id": "106a80bd-d1f1-49f6-855f-2c9035d23968",
   "metadata": {},
   "outputs": [
    {
     "data": {
      "text/plain": [
       "array([12.21319048])"
      ]
     },
     "execution_count": 35,
     "metadata": {},
     "output_type": "execute_result"
    }
   ],
   "source": [
    "# Sadece TV ye 300 reklam verirsek\n",
    "satis_tahmin(300,0,0)"
   ]
  },
  {
   "cell_type": "code",
   "execution_count": 36,
   "id": "dbb4b8b3-b5b4-41be-8bc0-b7f82a462a66",
   "metadata": {},
   "outputs": [
    {
     "data": {
      "text/plain": [
       "array([2.34848183])"
      ]
     },
     "execution_count": 36,
     "metadata": {},
     "output_type": "execute_result"
    }
   ],
   "source": [
    "# Sadece Radyoya ye 50 reklam verirsek\n",
    "satis_tahmin(0,50,0)"
   ]
  },
  {
   "cell_type": "code",
   "execution_count": 37,
   "id": "9e159850-9836-4120-8fff-9502c33c6644",
   "metadata": {},
   "outputs": [
    {
     "data": {
      "text/plain": [
       "array([3.29211114])"
      ]
     },
     "execution_count": 37,
     "metadata": {},
     "output_type": "execute_result"
    }
   ],
   "source": [
    "# Sadece Gazeteye 100 reklam verirsek\n",
    "satis_tahmin(0,0,100)"
   ]
  },
  {
   "cell_type": "code",
   "execution_count": 39,
   "id": "3e3c7047-0280-48c8-ae55-4372e2a1cbe1",
   "metadata": {},
   "outputs": [
    {
     "data": {
      "text/plain": [
       "array([15.31902857])"
      ]
     },
     "execution_count": 39,
     "metadata": {},
     "output_type": "execute_result"
    }
   ],
   "source": [
    "# Hepsinden 100 reklam\n",
    "satis_tahmin(100,100,100)"
   ]
  },
  {
   "cell_type": "markdown",
   "id": "11117aa1",
   "metadata": {},
   "source": [
    "## Sonuç\n",
    "\n",
    "Gazete, Dergi ve Televizyon reklamlarının miktarına göre ne kadar satış yapılacağını tahmin eden model geliştirilmiştir."
   ]
  },
  {
   "cell_type": "markdown",
   "id": "18ea3997",
   "metadata": {},
   "source": [
    "### Bonus\n",
    "\n",
    "Reklam sayılarına göre tahmin yapan bir `Gradio` uygulaması."
   ]
  },
  {
   "cell_type": "code",
   "execution_count": 43,
   "id": "d5a2c4e4-b133-47e8-b5a3-18b33ead34c6",
   "metadata": {},
   "outputs": [
    {
     "name": "stdout",
     "output_type": "stream",
     "text": [
      "Running on local URL:  http://127.0.0.1:7862\n",
      "\n",
      "To create a public link, set `share=True` in `launch()`.\n"
     ]
    },
    {
     "data": {
      "text/html": [
       "<div><iframe src=\"http://127.0.0.1:7862/\" width=\"100%\" height=\"500\" allow=\"autoplay; camera; microphone; clipboard-read; clipboard-write;\" frameborder=\"0\" allowfullscreen></iframe></div>"
      ],
      "text/plain": [
       "<IPython.core.display.HTML object>"
      ]
     },
     "metadata": {},
     "output_type": "display_data"
    },
    {
     "data": {
      "text/plain": []
     },
     "execution_count": 43,
     "metadata": {},
     "output_type": "execute_result"
    }
   ],
   "source": [
    "import gradio as gr\n",
    "\n",
    "def satis_tahmin(tv, rd, np):\n",
    "    denek=[[tv,rd,np]]\n",
    "    return model.predict(denek)\n",
    "\n",
    "iface = gr.Interface(\n",
    "    fn=satis_tahmin,\n",
    "    inputs=[\n",
    "        gr.Number(label=\"TV Reklamları\"),\n",
    "        gr.Number(label=\"Rayo Reklamları\"),\n",
    "        gr.Number(label=\"Gazete Reklamları\")\n",
    "    ],\n",
    "    outputs=\"number\",\n",
    "    title=\"Satış Tahmin Aracı\",\n",
    "    description=\"Reklam sayılarını girin ve sonucu görün.\"\n",
    ")\n",
    "\n",
    "iface.launch()"
   ]
  }
 ],
 "metadata": {
  "kernelspec": {
   "display_name": "Python 3 (ipykernel)",
   "language": "python",
   "name": "python3"
  },
  "language_info": {
   "codemirror_mode": {
    "name": "ipython",
    "version": 3
   },
   "file_extension": ".py",
   "mimetype": "text/x-python",
   "name": "python",
   "nbconvert_exporter": "python",
   "pygments_lexer": "ipython3",
   "version": "3.9.19"
  }
 },
 "nbformat": 4,
 "nbformat_minor": 5
}
