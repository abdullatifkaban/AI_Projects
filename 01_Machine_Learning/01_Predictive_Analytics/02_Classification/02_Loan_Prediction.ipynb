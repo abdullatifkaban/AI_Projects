{
 "cells": [
  {
   "cell_type": "markdown",
   "metadata": {
    "id": "gGDSFF5rclnA"
   },
   "source": [
    "# Kredi Tahmini - Sınıflandırma\n",
    "\n",
    "#### **İş Hedefi**\n",
    "\n",
    "Bu projede bir finans kurumunun, kimin iyi bir müşteri olacağını belirlemek için tahmine dayalı bir model oluşturulacaktır.\n",
    "<br>\n",
    "<img src=\"https://i.pinimg.com/originals/41/b0/08/41b008395e8e7f888666688915750d1f.gif\">"
   ]
  },
  {
   "cell_type": "markdown",
   "metadata": {},
   "source": [
    "#### **Projede kullanılan veri setindeki alanlar ve açıklamaları**:\n",
    "Anladım, anlamını değiştirmeden sadece sağ tarafı Türkçe'ye çevireceğim. İşte çevrilmiş hali:\n",
    "\n",
    "* **Loan ID**: Kredi bilgileri için benzersiz bir tanımlayıcı.\n",
    "* **Customer ID**: Müşteri için benzersiz bir tanımlayıcı. Müşterilerin birden fazla kredisi olabilir.\n",
    "* **Loan Status**: Kredinin geri ödenip ödenmediğini veya temerrüde düştüğünü gösteren kategorik bir değişken.\n",
    "* **Current Loan Amount**: Tamamen ödenen kredi miktarı veya temerrüde düşen miktar.\n",
    "* **Term**: Kısa vadeli veya uzun vadeli kredi olduğunu belirten kategorik bir değişken.\n",
    "* **Credit Score**: Borçlunun kredi geçmişinin risk düzeyini 0 ile 800 arasında gösteren bir değer.\n",
    "* **Years in current job**: Müşterinin şu anki işinde kaç yıldır olduğunu belirten kategorik bir değişken.\n",
    "* **Home Ownership**: Ev sahipliğini belirten kategorik bir değişken. Değerler \"Kiralık\" (Rent), \"Ev Mortgage'i\" (Home Mortgage) ve \"Sahip\" (Own) şeklindedir. Eğer değer \"Sahip\" ise, müşteri ipoteksiz ev sahibidir.\n",
    "* **Annual Income**: Müşterinin yıllık geliri.\n",
    "* **Purpose**: Kredi amacını açıklayan bir açıklama.\n",
    "* **Monthly Debt**: Müşterinin mevcut kredileri için aylık ödemesi.\n",
    "* **Years of Credit History**: Müşterinin kredi geçmişindeki ilk kayıttan bu yana geçen yıllar.\n",
    "* **Months since last delinquent**: Son kredi gecikme ödemesinden bu yana geçen ay sayısı.\n",
    "* **Number of Open Accounts**: Açık kredi kartı sayısı.\n",
    "* **Number of Credit Problems**: Müşteri kayıtlarındaki kredi sorunu sayısı.\n",
    "* **Current Credit Balance**: Müşterinin mevcut toplam borcu.\n",
    "* **Maximum Open Credit**: Tüm kredi kaynakları için maksimum kredi limiti.\n",
    "* **Bankruptcies**: İflas sayısı.\n",
    "* **Tax Liens**: Vergi haczi sayısı."
   ]
  },
  {
   "cell_type": "code",
   "execution_count": 1,
   "metadata": {
    "executionInfo": {
     "elapsed": 351,
     "status": "ok",
     "timestamp": 1708434897493,
     "user": {
      "displayName": "Abdullatif Kaban",
      "userId": "09449084280071345250"
     },
     "user_tz": -180
    },
    "id": "SacQydNkb7-8"
   },
   "outputs": [],
   "source": [
    "import pandas as pd\n",
    "import numpy as np\n",
    "import seaborn as sns\n",
    "\n",
    "import warnings\n",
    "warnings.simplefilter('ignore')"
   ]
  },
  {
   "cell_type": "code",
   "execution_count": 2,
   "metadata": {
    "executionInfo": {
     "elapsed": 1688,
     "status": "ok",
     "timestamp": 1708434899541,
     "user": {
      "displayName": "Abdullatif Kaban",
      "userId": "09449084280071345250"
     },
     "user_tz": -180
    },
    "id": "AyuZf5HpdM-Y"
   },
   "outputs": [],
   "source": [
    "df=pd.read_csv(\"LoansTrainingSet.csv\")"
   ]
  },
  {
   "cell_type": "code",
   "execution_count": 3,
   "metadata": {
    "colab": {
     "base_uri": "https://localhost:8080/",
     "height": 414
    },
    "executionInfo": {
     "elapsed": 14,
     "status": "ok",
     "timestamp": 1708434899542,
     "user": {
      "displayName": "Abdullatif Kaban",
      "userId": "09449084280071345250"
     },
     "user_tz": -180
    },
    "id": "cXn631lcdXWG",
    "outputId": "e22e7938-d43e-4f2f-f11b-d70733d797c5"
   },
   "outputs": [
    {
     "data": {
      "text/html": [
       "<div>\n",
       "<style scoped>\n",
       "    .dataframe tbody tr th:only-of-type {\n",
       "        vertical-align: middle;\n",
       "    }\n",
       "\n",
       "    .dataframe tbody tr th {\n",
       "        vertical-align: top;\n",
       "    }\n",
       "\n",
       "    .dataframe thead th {\n",
       "        text-align: right;\n",
       "    }\n",
       "</style>\n",
       "<table border=\"1\" class=\"dataframe\">\n",
       "  <thead>\n",
       "    <tr style=\"text-align: right;\">\n",
       "      <th></th>\n",
       "      <th>Loan ID</th>\n",
       "      <th>Customer ID</th>\n",
       "      <th>Loan Status</th>\n",
       "      <th>Current Loan Amount</th>\n",
       "      <th>Term</th>\n",
       "      <th>Credit Score</th>\n",
       "      <th>Years in current job</th>\n",
       "      <th>Home Ownership</th>\n",
       "      <th>Annual Income</th>\n",
       "      <th>Purpose</th>\n",
       "      <th>Monthly Debt</th>\n",
       "      <th>Years of Credit History</th>\n",
       "      <th>Months since last delinquent</th>\n",
       "      <th>Number of Open Accounts</th>\n",
       "      <th>Number of Credit Problems</th>\n",
       "      <th>Current Credit Balance</th>\n",
       "      <th>Maximum Open Credit</th>\n",
       "      <th>Bankruptcies</th>\n",
       "      <th>Tax Liens</th>\n",
       "    </tr>\n",
       "  </thead>\n",
       "  <tbody>\n",
       "    <tr>\n",
       "      <th>0</th>\n",
       "      <td>000025bb-5694-4cff-b17d-192b1a98ba44</td>\n",
       "      <td>5ebc8bb1-5eb9-4404-b11b-a6eebc401a19</td>\n",
       "      <td>Fully Paid</td>\n",
       "      <td>11520</td>\n",
       "      <td>Short Term</td>\n",
       "      <td>741.0</td>\n",
       "      <td>10+ years</td>\n",
       "      <td>Home Mortgage</td>\n",
       "      <td>33694.0</td>\n",
       "      <td>Debt Consolidation</td>\n",
       "      <td>$584.03</td>\n",
       "      <td>12.3</td>\n",
       "      <td>41.0</td>\n",
       "      <td>10</td>\n",
       "      <td>0</td>\n",
       "      <td>6760</td>\n",
       "      <td>16056</td>\n",
       "      <td>0.0</td>\n",
       "      <td>0.0</td>\n",
       "    </tr>\n",
       "    <tr>\n",
       "      <th>1</th>\n",
       "      <td>00002c49-3a29-4bd4-8f67-c8f8fbc1048c</td>\n",
       "      <td>927b388d-2e01-423f-a8dc-f7e42d668f46</td>\n",
       "      <td>Fully Paid</td>\n",
       "      <td>3441</td>\n",
       "      <td>Short Term</td>\n",
       "      <td>734.0</td>\n",
       "      <td>4 years</td>\n",
       "      <td>Home Mortgage</td>\n",
       "      <td>42269.0</td>\n",
       "      <td>other</td>\n",
       "      <td>$1,106.04</td>\n",
       "      <td>26.3</td>\n",
       "      <td>NaN</td>\n",
       "      <td>17</td>\n",
       "      <td>0</td>\n",
       "      <td>6262</td>\n",
       "      <td>19149</td>\n",
       "      <td>0.0</td>\n",
       "      <td>0.0</td>\n",
       "    </tr>\n",
       "    <tr>\n",
       "      <th>2</th>\n",
       "      <td>00002d89-27f3-409b-aa76-90834f359a65</td>\n",
       "      <td>defce609-c631-447d-aad6-1270615e89c4</td>\n",
       "      <td>Fully Paid</td>\n",
       "      <td>21029</td>\n",
       "      <td>Short Term</td>\n",
       "      <td>747.0</td>\n",
       "      <td>10+ years</td>\n",
       "      <td>Home Mortgage</td>\n",
       "      <td>90126.0</td>\n",
       "      <td>Debt Consolidation</td>\n",
       "      <td>$1,321.85</td>\n",
       "      <td>28.8</td>\n",
       "      <td>NaN</td>\n",
       "      <td>5</td>\n",
       "      <td>0</td>\n",
       "      <td>20967</td>\n",
       "      <td>28335</td>\n",
       "      <td>0.0</td>\n",
       "      <td>0.0</td>\n",
       "    </tr>\n",
       "    <tr>\n",
       "      <th>3</th>\n",
       "      <td>00005222-b4d8-45a4-ad8c-186057e24233</td>\n",
       "      <td>070bcecb-aae7-4485-a26a-e0403e7bb6c5</td>\n",
       "      <td>Fully Paid</td>\n",
       "      <td>18743</td>\n",
       "      <td>Short Term</td>\n",
       "      <td>747.0</td>\n",
       "      <td>10+ years</td>\n",
       "      <td>Own Home</td>\n",
       "      <td>38072.0</td>\n",
       "      <td>Debt Consolidation</td>\n",
       "      <td>$751.92</td>\n",
       "      <td>26.2</td>\n",
       "      <td>NaN</td>\n",
       "      <td>9</td>\n",
       "      <td>0</td>\n",
       "      <td>22529</td>\n",
       "      <td>43915</td>\n",
       "      <td>0.0</td>\n",
       "      <td>0.0</td>\n",
       "    </tr>\n",
       "    <tr>\n",
       "      <th>4</th>\n",
       "      <td>0000757f-a121-41ed-b17b-162e76647c1f</td>\n",
       "      <td>dde79588-12f0-4811-bab0-e2b07f633fcd</td>\n",
       "      <td>Fully Paid</td>\n",
       "      <td>11731</td>\n",
       "      <td>Short Term</td>\n",
       "      <td>746.0</td>\n",
       "      <td>4 years</td>\n",
       "      <td>Rent</td>\n",
       "      <td>50025.0</td>\n",
       "      <td>Debt Consolidation</td>\n",
       "      <td>$355.18</td>\n",
       "      <td>11.5</td>\n",
       "      <td>NaN</td>\n",
       "      <td>12</td>\n",
       "      <td>0</td>\n",
       "      <td>17391</td>\n",
       "      <td>37081</td>\n",
       "      <td>0.0</td>\n",
       "      <td>0.0</td>\n",
       "    </tr>\n",
       "  </tbody>\n",
       "</table>\n",
       "</div>"
      ],
      "text/plain": [
       "                                Loan ID                           Customer ID  \\\n",
       "0  000025bb-5694-4cff-b17d-192b1a98ba44  5ebc8bb1-5eb9-4404-b11b-a6eebc401a19   \n",
       "1  00002c49-3a29-4bd4-8f67-c8f8fbc1048c  927b388d-2e01-423f-a8dc-f7e42d668f46   \n",
       "2  00002d89-27f3-409b-aa76-90834f359a65  defce609-c631-447d-aad6-1270615e89c4   \n",
       "3  00005222-b4d8-45a4-ad8c-186057e24233  070bcecb-aae7-4485-a26a-e0403e7bb6c5   \n",
       "4  0000757f-a121-41ed-b17b-162e76647c1f  dde79588-12f0-4811-bab0-e2b07f633fcd   \n",
       "\n",
       "  Loan Status  Current Loan Amount        Term  Credit Score  \\\n",
       "0  Fully Paid                11520  Short Term         741.0   \n",
       "1  Fully Paid                 3441  Short Term         734.0   \n",
       "2  Fully Paid                21029  Short Term         747.0   \n",
       "3  Fully Paid                18743  Short Term         747.0   \n",
       "4  Fully Paid                11731  Short Term         746.0   \n",
       "\n",
       "  Years in current job Home Ownership  Annual Income             Purpose  \\\n",
       "0            10+ years  Home Mortgage        33694.0  Debt Consolidation   \n",
       "1              4 years  Home Mortgage        42269.0               other   \n",
       "2            10+ years  Home Mortgage        90126.0  Debt Consolidation   \n",
       "3            10+ years       Own Home        38072.0  Debt Consolidation   \n",
       "4              4 years           Rent        50025.0  Debt Consolidation   \n",
       "\n",
       "  Monthly Debt  Years of Credit History  Months since last delinquent  \\\n",
       "0      $584.03                     12.3                          41.0   \n",
       "1   $1,106.04                      26.3                           NaN   \n",
       "2   $1,321.85                      28.8                           NaN   \n",
       "3      $751.92                     26.2                           NaN   \n",
       "4      $355.18                     11.5                           NaN   \n",
       "\n",
       "   Number of Open Accounts  Number of Credit Problems  Current Credit Balance  \\\n",
       "0                       10                          0                    6760   \n",
       "1                       17                          0                    6262   \n",
       "2                        5                          0                   20967   \n",
       "3                        9                          0                   22529   \n",
       "4                       12                          0                   17391   \n",
       "\n",
       "  Maximum Open Credit  Bankruptcies  Tax Liens  \n",
       "0               16056           0.0        0.0  \n",
       "1               19149           0.0        0.0  \n",
       "2               28335           0.0        0.0  \n",
       "3               43915           0.0        0.0  \n",
       "4               37081           0.0        0.0  "
      ]
     },
     "execution_count": 3,
     "metadata": {},
     "output_type": "execute_result"
    }
   ],
   "source": [
    "df.head()"
   ]
  },
  {
   "cell_type": "code",
   "execution_count": 4,
   "metadata": {
    "colab": {
     "base_uri": "https://localhost:8080/"
    },
    "executionInfo": {
     "elapsed": 431,
     "status": "ok",
     "timestamp": 1708434899965,
     "user": {
      "displayName": "Abdullatif Kaban",
      "userId": "09449084280071345250"
     },
     "user_tz": -180
    },
    "id": "jxDXr_RQeNO2",
    "outputId": "1ac8f5d7-0495-4e19-b45b-c1f19055c7b2"
   },
   "outputs": [
    {
     "name": "stdout",
     "output_type": "stream",
     "text": [
      "<class 'pandas.core.frame.DataFrame'>\n",
      "RangeIndex: 256984 entries, 0 to 256983\n",
      "Data columns (total 19 columns):\n",
      " #   Column                        Non-Null Count   Dtype  \n",
      "---  ------                        --------------   -----  \n",
      " 0   Loan ID                       256984 non-null  object \n",
      " 1   Customer ID                   256984 non-null  object \n",
      " 2   Loan Status                   256984 non-null  object \n",
      " 3   Current Loan Amount           256984 non-null  int64  \n",
      " 4   Term                          256984 non-null  object \n",
      " 5   Credit Score                  195308 non-null  float64\n",
      " 6   Years in current job          245508 non-null  object \n",
      " 7   Home Ownership                256984 non-null  object \n",
      " 8   Annual Income                 195308 non-null  float64\n",
      " 9   Purpose                       256984 non-null  object \n",
      " 10  Monthly Debt                  256984 non-null  object \n",
      " 11  Years of Credit History       256984 non-null  float64\n",
      " 12  Months since last delinquent  116601 non-null  float64\n",
      " 13  Number of Open Accounts       256984 non-null  int64  \n",
      " 14  Number of Credit Problems     256984 non-null  int64  \n",
      " 15  Current Credit Balance        256984 non-null  int64  \n",
      " 16  Maximum Open Credit           256984 non-null  object \n",
      " 17  Bankruptcies                  256455 non-null  float64\n",
      " 18  Tax Liens                     256961 non-null  float64\n",
      "dtypes: float64(6), int64(4), object(9)\n",
      "memory usage: 37.3+ MB\n"
     ]
    }
   ],
   "source": [
    "df.info()"
   ]
  },
  {
   "cell_type": "code",
   "execution_count": 5,
   "metadata": {},
   "outputs": [
    {
     "data": {
      "text/plain": [
       "array(['Fully Paid', 'Charged Off'], dtype=object)"
      ]
     },
     "execution_count": 5,
     "metadata": {},
     "output_type": "execute_result"
    }
   ],
   "source": [
    "# Hedef alanı tanımayla başlayalım\n",
    "df[\"Loan Status\"].unique()"
   ]
  },
  {
   "cell_type": "code",
   "execution_count": 6,
   "metadata": {},
   "outputs": [
    {
     "data": {
      "text/plain": [
       "Loan Status\n",
       "Fully Paid     176191\n",
       "Charged Off     80793\n",
       "Name: count, dtype: int64"
      ]
     },
     "execution_count": 6,
     "metadata": {},
     "output_type": "execute_result"
    }
   ],
   "source": [
    "df[\"Loan Status\"].value_counts()"
   ]
  },
  {
   "cell_type": "code",
   "execution_count": 7,
   "metadata": {},
   "outputs": [],
   "source": [
    "#Hedef alanı sayıya çevirelim\n",
    "df[\"Loan Status\"]=df[\"Loan Status\"].map({'Fully Paid': 1, 'Charged Off': 0})"
   ]
  },
  {
   "cell_type": "code",
   "execution_count": 8,
   "metadata": {},
   "outputs": [],
   "source": [
    "# Veride dengesizlik var. Biraz denge sağlayalım"
   ]
  },
  {
   "cell_type": "code",
   "execution_count": 9,
   "metadata": {},
   "outputs": [
    {
     "data": {
      "text/plain": [
       "'\\n# Verilerdeki dengesizliği dengeleyelim\\ndf1=df[df[\"Loan Status\"]==0]\\ndf2=df[df[\"Loan Status\"]==1].sample(80793)\\ndf1.shape, df2.shape\\n'"
      ]
     },
     "execution_count": 9,
     "metadata": {},
     "output_type": "execute_result"
    }
   ],
   "source": [
    "'''\n",
    "# Verilerdeki dengesizliği dengeleyelim\n",
    "df1=df[df[\"Loan Status\"]==0]\n",
    "df2=df[df[\"Loan Status\"]==1].sample(80793)\n",
    "df1.shape, df2.shape\n",
    "'''"
   ]
  },
  {
   "cell_type": "code",
   "execution_count": 10,
   "metadata": {},
   "outputs": [
    {
     "data": {
      "text/plain": [
       "'\\ndf=pd.concat([df1, df2])\\ndf.shape\\n'"
      ]
     },
     "execution_count": 10,
     "metadata": {},
     "output_type": "execute_result"
    }
   ],
   "source": [
    "'''\n",
    "df=pd.concat([df1, df2])\n",
    "df.shape\n",
    "'''"
   ]
  },
  {
   "cell_type": "code",
   "execution_count": 11,
   "metadata": {},
   "outputs": [
    {
     "data": {
      "text/plain": [
       "False    223766\n",
       "True      33218\n",
       "Name: count, dtype: int64"
      ]
     },
     "execution_count": 11,
     "metadata": {},
     "output_type": "execute_result"
    }
   ],
   "source": [
    "# Tekrarlı veri var mı diye bakalım\n",
    "df.duplicated(keep=False).value_counts()"
   ]
  },
  {
   "cell_type": "code",
   "execution_count": 12,
   "metadata": {},
   "outputs": [],
   "source": [
    "# Tekrarlı verileri silelim\n",
    "df.drop_duplicates(inplace=True)"
   ]
  },
  {
   "cell_type": "code",
   "execution_count": 13,
   "metadata": {},
   "outputs": [
    {
     "data": {
      "text/plain": [
       "False    192288\n",
       "True      48086\n",
       "Name: count, dtype: int64"
      ]
     },
     "execution_count": 13,
     "metadata": {},
     "output_type": "execute_result"
    }
   ],
   "source": [
    "# Aynı kişiye ait tekrarlı veri var mı?\n",
    "df.duplicated(subset=[\"Loan ID\", \"Customer ID\"], keep=False).value_counts()"
   ]
  },
  {
   "cell_type": "code",
   "execution_count": 14,
   "metadata": {},
   "outputs": [
    {
     "data": {
      "text/html": [
       "<div>\n",
       "<style scoped>\n",
       "    .dataframe tbody tr th:only-of-type {\n",
       "        vertical-align: middle;\n",
       "    }\n",
       "\n",
       "    .dataframe tbody tr th {\n",
       "        vertical-align: top;\n",
       "    }\n",
       "\n",
       "    .dataframe thead th {\n",
       "        text-align: right;\n",
       "    }\n",
       "</style>\n",
       "<table border=\"1\" class=\"dataframe\">\n",
       "  <thead>\n",
       "    <tr style=\"text-align: right;\">\n",
       "      <th></th>\n",
       "      <th>Loan ID</th>\n",
       "      <th>Customer ID</th>\n",
       "      <th>Adet</th>\n",
       "    </tr>\n",
       "  </thead>\n",
       "  <tbody>\n",
       "    <tr>\n",
       "      <th>131848</th>\n",
       "      <td>9c73183b-73c3-4875-a405-5dd7d82d64b6</td>\n",
       "      <td>c8538f69-ff07-4ffa-9c53-85e50d3c6d62</td>\n",
       "      <td>4</td>\n",
       "    </tr>\n",
       "    <tr>\n",
       "      <th>177630</th>\n",
       "      <td>d2bfdcba-e2ef-4161-8559-c6d36358b1f5</td>\n",
       "      <td>4b144bee-9d73-4282-83ef-97455877a7bf</td>\n",
       "      <td>4</td>\n",
       "    </tr>\n",
       "    <tr>\n",
       "      <th>20531</th>\n",
       "      <td>1876efee-4838-4635-91c9-5bf25502a131</td>\n",
       "      <td>c33f1afb-5815-46f2-b300-748be09cb3c4</td>\n",
       "      <td>4</td>\n",
       "    </tr>\n",
       "    <tr>\n",
       "      <th>135280</th>\n",
       "      <td>a09258ed-dab3-48bb-96a0-a0835510e49d</td>\n",
       "      <td>059c150c-e3d9-4bb2-8912-7ac0295d70f8</td>\n",
       "      <td>4</td>\n",
       "    </tr>\n",
       "    <tr>\n",
       "      <th>70831</th>\n",
       "      <td>540dbbbe-f954-4481-babd-75042c6ce30a</td>\n",
       "      <td>27ef5e34-d479-4152-a0ac-d5eb3f59ea73</td>\n",
       "      <td>4</td>\n",
       "    </tr>\n",
       "    <tr>\n",
       "      <th>...</th>\n",
       "      <td>...</td>\n",
       "      <td>...</td>\n",
       "      <td>...</td>\n",
       "    </tr>\n",
       "    <tr>\n",
       "      <th>106850</th>\n",
       "      <td>7edeae63-e9be-43c7-95f2-3f98bdbcb247</td>\n",
       "      <td>8ace3d1d-6f21-4ac3-97e9-f544ffe6342d</td>\n",
       "      <td>2</td>\n",
       "    </tr>\n",
       "    <tr>\n",
       "      <th>68193</th>\n",
       "      <td>50f22143-07c7-4988-a57c-0838d791c08f</td>\n",
       "      <td>a963f69c-fe02-4a78-93ee-b161f157da9b</td>\n",
       "      <td>2</td>\n",
       "    </tr>\n",
       "    <tr>\n",
       "      <th>57836</th>\n",
       "      <td>44a62fe2-bffd-4049-8c97-b1d2a51653e8</td>\n",
       "      <td>1c0df0e2-a008-45ca-ab38-3f411db0e868</td>\n",
       "      <td>2</td>\n",
       "    </tr>\n",
       "    <tr>\n",
       "      <th>139599</th>\n",
       "      <td>a5acedf3-3df6-46f2-8737-40449caac336</td>\n",
       "      <td>0da4e436-5a12-4b64-92ae-cc3ba9e5880d</td>\n",
       "      <td>2</td>\n",
       "    </tr>\n",
       "    <tr>\n",
       "      <th>208152</th>\n",
       "      <td>f7176e43-7b6e-43c0-b40f-ef583f2848c5</td>\n",
       "      <td>15bf0f18-285c-4354-b379-fd8d4c77d105</td>\n",
       "      <td>2</td>\n",
       "    </tr>\n",
       "  </tbody>\n",
       "</table>\n",
       "<p>23412 rows × 3 columns</p>\n",
       "</div>"
      ],
      "text/plain": [
       "                                     Loan ID  \\\n",
       "131848  9c73183b-73c3-4875-a405-5dd7d82d64b6   \n",
       "177630  d2bfdcba-e2ef-4161-8559-c6d36358b1f5   \n",
       "20531   1876efee-4838-4635-91c9-5bf25502a131   \n",
       "135280  a09258ed-dab3-48bb-96a0-a0835510e49d   \n",
       "70831   540dbbbe-f954-4481-babd-75042c6ce30a   \n",
       "...                                      ...   \n",
       "106850  7edeae63-e9be-43c7-95f2-3f98bdbcb247   \n",
       "68193   50f22143-07c7-4988-a57c-0838d791c08f   \n",
       "57836   44a62fe2-bffd-4049-8c97-b1d2a51653e8   \n",
       "139599  a5acedf3-3df6-46f2-8737-40449caac336   \n",
       "208152  f7176e43-7b6e-43c0-b40f-ef583f2848c5   \n",
       "\n",
       "                                 Customer ID  Adet  \n",
       "131848  c8538f69-ff07-4ffa-9c53-85e50d3c6d62     4  \n",
       "177630  4b144bee-9d73-4282-83ef-97455877a7bf     4  \n",
       "20531   c33f1afb-5815-46f2-b300-748be09cb3c4     4  \n",
       "135280  059c150c-e3d9-4bb2-8912-7ac0295d70f8     4  \n",
       "70831   27ef5e34-d479-4152-a0ac-d5eb3f59ea73     4  \n",
       "...                                      ...   ...  \n",
       "106850  8ace3d1d-6f21-4ac3-97e9-f544ffe6342d     2  \n",
       "68193   a963f69c-fe02-4a78-93ee-b161f157da9b     2  \n",
       "57836   1c0df0e2-a008-45ca-ab38-3f411db0e868     2  \n",
       "139599  0da4e436-5a12-4b64-92ae-cc3ba9e5880d     2  \n",
       "208152  15bf0f18-285c-4354-b379-fd8d4c77d105     2  \n",
       "\n",
       "[23412 rows x 3 columns]"
      ]
     },
     "execution_count": 14,
     "metadata": {},
     "output_type": "execute_result"
    }
   ],
   "source": [
    "# Kimden kaçar veri var?\n",
    "duplicate_counts = df.groupby(['Loan ID', 'Customer ID']).size().reset_index(name='Adet').sort_values(\"Adet\", ascending=False)\n",
    "duplicate_counts = duplicate_counts[duplicate_counts[\"Adet\"]>1]\n",
    "duplicate_counts"
   ]
  },
  {
   "cell_type": "code",
   "execution_count": 15,
   "metadata": {},
   "outputs": [
    {
     "data": {
      "text/html": [
       "<div>\n",
       "<style scoped>\n",
       "    .dataframe tbody tr th:only-of-type {\n",
       "        vertical-align: middle;\n",
       "    }\n",
       "\n",
       "    .dataframe tbody tr th {\n",
       "        vertical-align: top;\n",
       "    }\n",
       "\n",
       "    .dataframe thead th {\n",
       "        text-align: right;\n",
       "    }\n",
       "</style>\n",
       "<table border=\"1\" class=\"dataframe\">\n",
       "  <thead>\n",
       "    <tr style=\"text-align: right;\">\n",
       "      <th></th>\n",
       "      <th>Loan ID</th>\n",
       "      <th>Customer ID</th>\n",
       "      <th>Loan Status</th>\n",
       "      <th>Current Loan Amount</th>\n",
       "      <th>Term</th>\n",
       "      <th>Credit Score</th>\n",
       "      <th>Years in current job</th>\n",
       "      <th>Home Ownership</th>\n",
       "      <th>Annual Income</th>\n",
       "      <th>Purpose</th>\n",
       "      <th>Monthly Debt</th>\n",
       "      <th>Years of Credit History</th>\n",
       "      <th>Months since last delinquent</th>\n",
       "      <th>Number of Open Accounts</th>\n",
       "      <th>Number of Credit Problems</th>\n",
       "      <th>Current Credit Balance</th>\n",
       "      <th>Maximum Open Credit</th>\n",
       "      <th>Bankruptcies</th>\n",
       "      <th>Tax Liens</th>\n",
       "    </tr>\n",
       "  </thead>\n",
       "  <tbody>\n",
       "    <tr>\n",
       "      <th>211824</th>\n",
       "      <td>d2bfdcba-e2ef-4161-8559-c6d36358b1f5</td>\n",
       "      <td>4b144bee-9d73-4282-83ef-97455877a7bf</td>\n",
       "      <td>0</td>\n",
       "      <td>34762</td>\n",
       "      <td>Long Term</td>\n",
       "      <td>6910.0</td>\n",
       "      <td>1 year</td>\n",
       "      <td>Rent</td>\n",
       "      <td>204599.0</td>\n",
       "      <td>Home Improvements</td>\n",
       "      <td>$2,574.54</td>\n",
       "      <td>17.7</td>\n",
       "      <td>13.0</td>\n",
       "      <td>10</td>\n",
       "      <td>0</td>\n",
       "      <td>10402</td>\n",
       "      <td>20845</td>\n",
       "      <td>0.0</td>\n",
       "      <td>0.0</td>\n",
       "    </tr>\n",
       "    <tr>\n",
       "      <th>211825</th>\n",
       "      <td>d2bfdcba-e2ef-4161-8559-c6d36358b1f5</td>\n",
       "      <td>4b144bee-9d73-4282-83ef-97455877a7bf</td>\n",
       "      <td>0</td>\n",
       "      <td>35833</td>\n",
       "      <td>Long Term</td>\n",
       "      <td>6910.0</td>\n",
       "      <td>1 year</td>\n",
       "      <td>Rent</td>\n",
       "      <td>210903.0</td>\n",
       "      <td>Home Improvements</td>\n",
       "      <td>$2,653.86</td>\n",
       "      <td>17.7</td>\n",
       "      <td>13.0</td>\n",
       "      <td>10</td>\n",
       "      <td>0</td>\n",
       "      <td>10722</td>\n",
       "      <td>21488</td>\n",
       "      <td>0.0</td>\n",
       "      <td>0.0</td>\n",
       "    </tr>\n",
       "    <tr>\n",
       "      <th>211826</th>\n",
       "      <td>d2bfdcba-e2ef-4161-8559-c6d36358b1f5</td>\n",
       "      <td>4b144bee-9d73-4282-83ef-97455877a7bf</td>\n",
       "      <td>0</td>\n",
       "      <td>35833</td>\n",
       "      <td>Long Term</td>\n",
       "      <td>NaN</td>\n",
       "      <td>1 year</td>\n",
       "      <td>Rent</td>\n",
       "      <td>NaN</td>\n",
       "      <td>Home Improvements</td>\n",
       "      <td>$2,653.86</td>\n",
       "      <td>17.7</td>\n",
       "      <td>13.0</td>\n",
       "      <td>10</td>\n",
       "      <td>0</td>\n",
       "      <td>10722</td>\n",
       "      <td>21488</td>\n",
       "      <td>0.0</td>\n",
       "      <td>0.0</td>\n",
       "    </tr>\n",
       "    <tr>\n",
       "      <th>211827</th>\n",
       "      <td>d2bfdcba-e2ef-4161-8559-c6d36358b1f5</td>\n",
       "      <td>4b144bee-9d73-4282-83ef-97455877a7bf</td>\n",
       "      <td>0</td>\n",
       "      <td>34762</td>\n",
       "      <td>Long Term</td>\n",
       "      <td>691.0</td>\n",
       "      <td>1 year</td>\n",
       "      <td>Rent</td>\n",
       "      <td>204599.0</td>\n",
       "      <td>Home Improvements</td>\n",
       "      <td>$2,574.54</td>\n",
       "      <td>17.7</td>\n",
       "      <td>13.0</td>\n",
       "      <td>10</td>\n",
       "      <td>0</td>\n",
       "      <td>10402</td>\n",
       "      <td>20845</td>\n",
       "      <td>0.0</td>\n",
       "      <td>0.0</td>\n",
       "    </tr>\n",
       "  </tbody>\n",
       "</table>\n",
       "</div>"
      ],
      "text/plain": [
       "                                     Loan ID  \\\n",
       "211824  d2bfdcba-e2ef-4161-8559-c6d36358b1f5   \n",
       "211825  d2bfdcba-e2ef-4161-8559-c6d36358b1f5   \n",
       "211826  d2bfdcba-e2ef-4161-8559-c6d36358b1f5   \n",
       "211827  d2bfdcba-e2ef-4161-8559-c6d36358b1f5   \n",
       "\n",
       "                                 Customer ID  Loan Status  \\\n",
       "211824  4b144bee-9d73-4282-83ef-97455877a7bf            0   \n",
       "211825  4b144bee-9d73-4282-83ef-97455877a7bf            0   \n",
       "211826  4b144bee-9d73-4282-83ef-97455877a7bf            0   \n",
       "211827  4b144bee-9d73-4282-83ef-97455877a7bf            0   \n",
       "\n",
       "        Current Loan Amount       Term  Credit Score Years in current job  \\\n",
       "211824                34762  Long Term        6910.0               1 year   \n",
       "211825                35833  Long Term        6910.0               1 year   \n",
       "211826                35833  Long Term           NaN               1 year   \n",
       "211827                34762  Long Term         691.0               1 year   \n",
       "\n",
       "       Home Ownership  Annual Income            Purpose Monthly Debt  \\\n",
       "211824           Rent       204599.0  Home Improvements   $2,574.54    \n",
       "211825           Rent       210903.0  Home Improvements   $2,653.86    \n",
       "211826           Rent            NaN  Home Improvements   $2,653.86    \n",
       "211827           Rent       204599.0  Home Improvements   $2,574.54    \n",
       "\n",
       "        Years of Credit History  Months since last delinquent  \\\n",
       "211824                     17.7                          13.0   \n",
       "211825                     17.7                          13.0   \n",
       "211826                     17.7                          13.0   \n",
       "211827                     17.7                          13.0   \n",
       "\n",
       "        Number of Open Accounts  Number of Credit Problems  \\\n",
       "211824                       10                          0   \n",
       "211825                       10                          0   \n",
       "211826                       10                          0   \n",
       "211827                       10                          0   \n",
       "\n",
       "        Current Credit Balance Maximum Open Credit  Bankruptcies  Tax Liens  \n",
       "211824                   10402               20845           0.0        0.0  \n",
       "211825                   10722               21488           0.0        0.0  \n",
       "211826                   10722               21488           0.0        0.0  \n",
       "211827                   10402               20845           0.0        0.0  "
      ]
     },
     "execution_count": 15,
     "metadata": {},
     "output_type": "execute_result"
    }
   ],
   "source": [
    "df[df[\"Loan ID\"]==\"d2bfdcba-e2ef-4161-8559-c6d36358b1f5\"]"
   ]
  },
  {
   "cell_type": "code",
   "execution_count": 16,
   "metadata": {},
   "outputs": [],
   "source": [
    "# Bu örnekte olduğu gibi çift kayıtların bazılarında Credit Score yanlışlıkla 10 kat fazla yazılmış bunu düzeltmek için 800 den büyük olanları 10 a bölelim\n",
    "df[\"Credit Score\"] = np.where(df[\"Credit Score\"]>800, df[\"Credit Score\"]/10, df[\"Credit Score\"])"
   ]
  },
  {
   "cell_type": "code",
   "execution_count": 17,
   "metadata": {},
   "outputs": [
    {
     "data": {
      "text/html": [
       "<div>\n",
       "<style scoped>\n",
       "    .dataframe tbody tr th:only-of-type {\n",
       "        vertical-align: middle;\n",
       "    }\n",
       "\n",
       "    .dataframe tbody tr th {\n",
       "        vertical-align: top;\n",
       "    }\n",
       "\n",
       "    .dataframe thead th {\n",
       "        text-align: right;\n",
       "    }\n",
       "</style>\n",
       "<table border=\"1\" class=\"dataframe\">\n",
       "  <thead>\n",
       "    <tr style=\"text-align: right;\">\n",
       "      <th></th>\n",
       "      <th>Loan ID</th>\n",
       "      <th>Customer ID</th>\n",
       "      <th>Loan Status</th>\n",
       "      <th>Current Loan Amount</th>\n",
       "      <th>Term</th>\n",
       "      <th>Credit Score</th>\n",
       "      <th>Years in current job</th>\n",
       "      <th>Home Ownership</th>\n",
       "      <th>Annual Income</th>\n",
       "      <th>Purpose</th>\n",
       "      <th>Monthly Debt</th>\n",
       "      <th>Years of Credit History</th>\n",
       "      <th>Months since last delinquent</th>\n",
       "      <th>Number of Open Accounts</th>\n",
       "      <th>Number of Credit Problems</th>\n",
       "      <th>Current Credit Balance</th>\n",
       "      <th>Maximum Open Credit</th>\n",
       "      <th>Bankruptcies</th>\n",
       "      <th>Tax Liens</th>\n",
       "    </tr>\n",
       "  </thead>\n",
       "  <tbody>\n",
       "    <tr>\n",
       "      <th>24448</th>\n",
       "      <td>1876efee-4838-4635-91c9-5bf25502a131</td>\n",
       "      <td>c33f1afb-5815-46f2-b300-748be09cb3c4</td>\n",
       "      <td>0</td>\n",
       "      <td>23774</td>\n",
       "      <td>Long Term</td>\n",
       "      <td>683.0</td>\n",
       "      <td>1 year</td>\n",
       "      <td>Rent</td>\n",
       "      <td>138684.0</td>\n",
       "      <td>Debt Consolidation</td>\n",
       "      <td>$2,218.94</td>\n",
       "      <td>13.5</td>\n",
       "      <td>NaN</td>\n",
       "      <td>21</td>\n",
       "      <td>0</td>\n",
       "      <td>25539</td>\n",
       "      <td>34189</td>\n",
       "      <td>0.0</td>\n",
       "      <td>0.0</td>\n",
       "    </tr>\n",
       "    <tr>\n",
       "      <th>24449</th>\n",
       "      <td>1876efee-4838-4635-91c9-5bf25502a131</td>\n",
       "      <td>c33f1afb-5815-46f2-b300-748be09cb3c4</td>\n",
       "      <td>0</td>\n",
       "      <td>24149</td>\n",
       "      <td>Long Term</td>\n",
       "      <td>NaN</td>\n",
       "      <td>1 year</td>\n",
       "      <td>Rent</td>\n",
       "      <td>NaN</td>\n",
       "      <td>Debt Consolidation</td>\n",
       "      <td>$2,253.89</td>\n",
       "      <td>13.5</td>\n",
       "      <td>NaN</td>\n",
       "      <td>21</td>\n",
       "      <td>0</td>\n",
       "      <td>25941</td>\n",
       "      <td>34727</td>\n",
       "      <td>0.0</td>\n",
       "      <td>0.0</td>\n",
       "    </tr>\n",
       "    <tr>\n",
       "      <th>24450</th>\n",
       "      <td>1876efee-4838-4635-91c9-5bf25502a131</td>\n",
       "      <td>c33f1afb-5815-46f2-b300-748be09cb3c4</td>\n",
       "      <td>0</td>\n",
       "      <td>24149</td>\n",
       "      <td>Long Term</td>\n",
       "      <td>683.0</td>\n",
       "      <td>1 year</td>\n",
       "      <td>Rent</td>\n",
       "      <td>140868.0</td>\n",
       "      <td>Debt Consolidation</td>\n",
       "      <td>$2,253.89</td>\n",
       "      <td>13.5</td>\n",
       "      <td>NaN</td>\n",
       "      <td>21</td>\n",
       "      <td>0</td>\n",
       "      <td>25941</td>\n",
       "      <td>34727</td>\n",
       "      <td>0.0</td>\n",
       "      <td>0.0</td>\n",
       "    </tr>\n",
       "    <tr>\n",
       "      <th>24451</th>\n",
       "      <td>1876efee-4838-4635-91c9-5bf25502a131</td>\n",
       "      <td>c33f1afb-5815-46f2-b300-748be09cb3c4</td>\n",
       "      <td>0</td>\n",
       "      <td>23774</td>\n",
       "      <td>Long Term</td>\n",
       "      <td>683.0</td>\n",
       "      <td>1 year</td>\n",
       "      <td>Rent</td>\n",
       "      <td>138684.0</td>\n",
       "      <td>Debt Consolidation</td>\n",
       "      <td>$2,218.94</td>\n",
       "      <td>13.5</td>\n",
       "      <td>NaN</td>\n",
       "      <td>21</td>\n",
       "      <td>0</td>\n",
       "      <td>25539</td>\n",
       "      <td>34189</td>\n",
       "      <td>0.0</td>\n",
       "      <td>0.0</td>\n",
       "    </tr>\n",
       "  </tbody>\n",
       "</table>\n",
       "</div>"
      ],
      "text/plain": [
       "                                    Loan ID  \\\n",
       "24448  1876efee-4838-4635-91c9-5bf25502a131   \n",
       "24449  1876efee-4838-4635-91c9-5bf25502a131   \n",
       "24450  1876efee-4838-4635-91c9-5bf25502a131   \n",
       "24451  1876efee-4838-4635-91c9-5bf25502a131   \n",
       "\n",
       "                                Customer ID  Loan Status  Current Loan Amount  \\\n",
       "24448  c33f1afb-5815-46f2-b300-748be09cb3c4            0                23774   \n",
       "24449  c33f1afb-5815-46f2-b300-748be09cb3c4            0                24149   \n",
       "24450  c33f1afb-5815-46f2-b300-748be09cb3c4            0                24149   \n",
       "24451  c33f1afb-5815-46f2-b300-748be09cb3c4            0                23774   \n",
       "\n",
       "            Term  Credit Score Years in current job Home Ownership  \\\n",
       "24448  Long Term         683.0               1 year           Rent   \n",
       "24449  Long Term           NaN               1 year           Rent   \n",
       "24450  Long Term         683.0               1 year           Rent   \n",
       "24451  Long Term         683.0               1 year           Rent   \n",
       "\n",
       "       Annual Income             Purpose Monthly Debt  \\\n",
       "24448       138684.0  Debt Consolidation   $2,218.94    \n",
       "24449            NaN  Debt Consolidation   $2,253.89    \n",
       "24450       140868.0  Debt Consolidation   $2,253.89    \n",
       "24451       138684.0  Debt Consolidation   $2,218.94    \n",
       "\n",
       "       Years of Credit History  Months since last delinquent  \\\n",
       "24448                     13.5                           NaN   \n",
       "24449                     13.5                           NaN   \n",
       "24450                     13.5                           NaN   \n",
       "24451                     13.5                           NaN   \n",
       "\n",
       "       Number of Open Accounts  Number of Credit Problems  \\\n",
       "24448                       21                          0   \n",
       "24449                       21                          0   \n",
       "24450                       21                          0   \n",
       "24451                       21                          0   \n",
       "\n",
       "       Current Credit Balance Maximum Open Credit  Bankruptcies  Tax Liens  \n",
       "24448                   25539               34189           0.0        0.0  \n",
       "24449                   25941               34727           0.0        0.0  \n",
       "24450                   25941               34727           0.0        0.0  \n",
       "24451                   25539               34189           0.0        0.0  "
      ]
     },
     "execution_count": 17,
     "metadata": {},
     "output_type": "execute_result"
    }
   ],
   "source": [
    "df[df[\"Loan ID\"]==\"1876efee-4838-4635-91c9-5bf25502a131\"]"
   ]
  },
  {
   "cell_type": "code",
   "execution_count": 18,
   "metadata": {},
   "outputs": [],
   "source": [
    "# Yukarıdaki örnekte çift kayıtların bazılarında Credit Score ve Annual Income değerleri boş. Bunun için boş kayıtları bu alanların max değerleri ile doldurup yine tamamen duplicate olanları temizleyebiliriz\n",
    "df['Credit Score'].fillna(df.groupby([\"Loan ID\", \"Customer ID\"])['Credit Score'].transform('max'), inplace=True)\n",
    "df['Annual Income'].fillna(df.groupby([\"Loan ID\", \"Customer ID\"])['Annual Income'].transform('max'), inplace=True)"
   ]
  },
  {
   "cell_type": "code",
   "execution_count": 19,
   "metadata": {},
   "outputs": [
    {
     "data": {
      "text/html": [
       "<div>\n",
       "<style scoped>\n",
       "    .dataframe tbody tr th:only-of-type {\n",
       "        vertical-align: middle;\n",
       "    }\n",
       "\n",
       "    .dataframe tbody tr th {\n",
       "        vertical-align: top;\n",
       "    }\n",
       "\n",
       "    .dataframe thead th {\n",
       "        text-align: right;\n",
       "    }\n",
       "</style>\n",
       "<table border=\"1\" class=\"dataframe\">\n",
       "  <thead>\n",
       "    <tr style=\"text-align: right;\">\n",
       "      <th></th>\n",
       "      <th>Loan ID</th>\n",
       "      <th>Customer ID</th>\n",
       "      <th>Loan Status</th>\n",
       "      <th>Current Loan Amount</th>\n",
       "      <th>Term</th>\n",
       "      <th>Credit Score</th>\n",
       "      <th>Years in current job</th>\n",
       "      <th>Home Ownership</th>\n",
       "      <th>Annual Income</th>\n",
       "      <th>Purpose</th>\n",
       "      <th>Monthly Debt</th>\n",
       "      <th>Years of Credit History</th>\n",
       "      <th>Months since last delinquent</th>\n",
       "      <th>Number of Open Accounts</th>\n",
       "      <th>Number of Credit Problems</th>\n",
       "      <th>Current Credit Balance</th>\n",
       "      <th>Maximum Open Credit</th>\n",
       "      <th>Bankruptcies</th>\n",
       "      <th>Tax Liens</th>\n",
       "    </tr>\n",
       "  </thead>\n",
       "  <tbody>\n",
       "    <tr>\n",
       "      <th>129032</th>\n",
       "      <td>805791f9-5a98-4eb1-8009-f2c91a8171b4</td>\n",
       "      <td>697b18b6-3ae6-4898-8b1c-868a9a08d694</td>\n",
       "      <td>0</td>\n",
       "      <td>19956</td>\n",
       "      <td>Short Term</td>\n",
       "      <td>740.0</td>\n",
       "      <td>2 years</td>\n",
       "      <td>Home Mortgage</td>\n",
       "      <td>92079.0</td>\n",
       "      <td>Other</td>\n",
       "      <td>$741.61</td>\n",
       "      <td>16.1</td>\n",
       "      <td>NaN</td>\n",
       "      <td>23</td>\n",
       "      <td>0</td>\n",
       "      <td>29724</td>\n",
       "      <td>65185</td>\n",
       "      <td>0.0</td>\n",
       "      <td>0.0</td>\n",
       "    </tr>\n",
       "    <tr>\n",
       "      <th>129033</th>\n",
       "      <td>805791f9-5a98-4eb1-8009-f2c91a8171b4</td>\n",
       "      <td>697b18b6-3ae6-4898-8b1c-868a9a08d694</td>\n",
       "      <td>0</td>\n",
       "      <td>19956</td>\n",
       "      <td>Short Term</td>\n",
       "      <td>740.0</td>\n",
       "      <td>2 years</td>\n",
       "      <td>Home Mortgage</td>\n",
       "      <td>89802.0</td>\n",
       "      <td>Other</td>\n",
       "      <td>$741.61</td>\n",
       "      <td>16.1</td>\n",
       "      <td>NaN</td>\n",
       "      <td>23</td>\n",
       "      <td>0</td>\n",
       "      <td>29724</td>\n",
       "      <td>65185</td>\n",
       "      <td>0.0</td>\n",
       "      <td>0.0</td>\n",
       "    </tr>\n",
       "    <tr>\n",
       "      <th>129034</th>\n",
       "      <td>805791f9-5a98-4eb1-8009-f2c91a8171b4</td>\n",
       "      <td>697b18b6-3ae6-4898-8b1c-868a9a08d694</td>\n",
       "      <td>0</td>\n",
       "      <td>20462</td>\n",
       "      <td>Short Term</td>\n",
       "      <td>740.0</td>\n",
       "      <td>2 years</td>\n",
       "      <td>Home Mortgage</td>\n",
       "      <td>92079.0</td>\n",
       "      <td>Other</td>\n",
       "      <td>$760.42</td>\n",
       "      <td>16.1</td>\n",
       "      <td>NaN</td>\n",
       "      <td>23</td>\n",
       "      <td>0</td>\n",
       "      <td>30478</td>\n",
       "      <td>66838</td>\n",
       "      <td>0.0</td>\n",
       "      <td>0.0</td>\n",
       "    </tr>\n",
       "  </tbody>\n",
       "</table>\n",
       "</div>"
      ],
      "text/plain": [
       "                                     Loan ID  \\\n",
       "129032  805791f9-5a98-4eb1-8009-f2c91a8171b4   \n",
       "129033  805791f9-5a98-4eb1-8009-f2c91a8171b4   \n",
       "129034  805791f9-5a98-4eb1-8009-f2c91a8171b4   \n",
       "\n",
       "                                 Customer ID  Loan Status  \\\n",
       "129032  697b18b6-3ae6-4898-8b1c-868a9a08d694            0   \n",
       "129033  697b18b6-3ae6-4898-8b1c-868a9a08d694            0   \n",
       "129034  697b18b6-3ae6-4898-8b1c-868a9a08d694            0   \n",
       "\n",
       "        Current Loan Amount        Term  Credit Score Years in current job  \\\n",
       "129032                19956  Short Term         740.0              2 years   \n",
       "129033                19956  Short Term         740.0              2 years   \n",
       "129034                20462  Short Term         740.0              2 years   \n",
       "\n",
       "       Home Ownership  Annual Income Purpose Monthly Debt  \\\n",
       "129032  Home Mortgage        92079.0   Other      $741.61   \n",
       "129033  Home Mortgage        89802.0   Other      $741.61   \n",
       "129034  Home Mortgage        92079.0   Other      $760.42   \n",
       "\n",
       "        Years of Credit History  Months since last delinquent  \\\n",
       "129032                     16.1                           NaN   \n",
       "129033                     16.1                           NaN   \n",
       "129034                     16.1                           NaN   \n",
       "\n",
       "        Number of Open Accounts  Number of Credit Problems  \\\n",
       "129032                       23                          0   \n",
       "129033                       23                          0   \n",
       "129034                       23                          0   \n",
       "\n",
       "        Current Credit Balance Maximum Open Credit  Bankruptcies  Tax Liens  \n",
       "129032                   29724               65185           0.0        0.0  \n",
       "129033                   29724               65185           0.0        0.0  \n",
       "129034                   30478               66838           0.0        0.0  "
      ]
     },
     "execution_count": 19,
     "metadata": {},
     "output_type": "execute_result"
    }
   ],
   "source": [
    "df[df[\"Loan ID\"]==\"805791f9-5a98-4eb1-8009-f2c91a8171b4\"]"
   ]
  },
  {
   "cell_type": "code",
   "execution_count": 20,
   "metadata": {
    "colab": {
     "base_uri": "https://localhost:8080/"
    },
    "executionInfo": {
     "elapsed": 368,
     "status": "ok",
     "timestamp": 1708434901575,
     "user": {
      "displayName": "Abdullatif Kaban",
      "userId": "09449084280071345250"
     },
     "user_tz": -180
    },
    "id": "IYwfM1Q5jXua",
    "outputId": "fa897e4f-81b7-4871-86ab-04ee2110aa55"
   },
   "outputs": [
    {
     "data": {
      "text/plain": [
       "False    192288\n",
       "True      48086\n",
       "Name: count, dtype: int64"
      ]
     },
     "execution_count": 20,
     "metadata": {},
     "output_type": "execute_result"
    }
   ],
   "source": [
    "df.duplicated(subset=[\"Loan ID\", \"Customer ID\"], keep=False).value_counts()"
   ]
  },
  {
   "cell_type": "code",
   "execution_count": 21,
   "metadata": {},
   "outputs": [],
   "source": [
    "# Yeterli temizliği yaptıktan sonra aynı kişiye ait aynı kredi kaydının kopyalarını temizleyelim\n",
    "df.drop_duplicates(subset=[\"Loan ID\", \"Customer ID\"], keep=False, inplace=True)"
   ]
  },
  {
   "cell_type": "code",
   "execution_count": 22,
   "metadata": {},
   "outputs": [
    {
     "name": "stdout",
     "output_type": "stream",
     "text": [
      "<class 'pandas.core.frame.DataFrame'>\n",
      "Index: 192288 entries, 0 to 256983\n",
      "Data columns (total 19 columns):\n",
      " #   Column                        Non-Null Count   Dtype  \n",
      "---  ------                        --------------   -----  \n",
      " 0   Loan ID                       192288 non-null  object \n",
      " 1   Customer ID                   192288 non-null  object \n",
      " 2   Loan Status                   192288 non-null  int64  \n",
      " 3   Current Loan Amount           192288 non-null  int64  \n",
      " 4   Term                          192288 non-null  object \n",
      " 5   Credit Score                  147793 non-null  float64\n",
      " 6   Years in current job          184657 non-null  object \n",
      " 7   Home Ownership                192288 non-null  object \n",
      " 8   Annual Income                 147793 non-null  float64\n",
      " 9   Purpose                       192288 non-null  object \n",
      " 10  Monthly Debt                  192288 non-null  object \n",
      " 11  Years of Credit History       192288 non-null  float64\n",
      " 12  Months since last delinquent  86527 non-null   float64\n",
      " 13  Number of Open Accounts       192288 non-null  int64  \n",
      " 14  Number of Credit Problems     192288 non-null  int64  \n",
      " 15  Current Credit Balance        192288 non-null  int64  \n",
      " 16  Maximum Open Credit           192288 non-null  object \n",
      " 17  Bankruptcies                  191875 non-null  float64\n",
      " 18  Tax Liens                     192267 non-null  float64\n",
      "dtypes: float64(6), int64(5), object(8)\n",
      "memory usage: 29.3+ MB\n"
     ]
    }
   ],
   "source": [
    "df.info()"
   ]
  },
  {
   "cell_type": "code",
   "execution_count": 23,
   "metadata": {
    "colab": {
     "base_uri": "https://localhost:8080/"
    },
    "executionInfo": {
     "elapsed": 14,
     "status": "ok",
     "timestamp": 1708434901209,
     "user": {
      "displayName": "Abdullatif Kaban",
      "userId": "09449084280071345250"
     },
     "user_tz": -180
    },
    "id": "NAQuD-8zjJUa",
    "outputId": "3df62eef-0296-4d48-a583-840fd44d2d74"
   },
   "outputs": [
    {
     "data": {
      "text/plain": [
       "array(['Short Term', 'Long Term'], dtype=object)"
      ]
     },
     "execution_count": 23,
     "metadata": {},
     "output_type": "execute_result"
    }
   ],
   "source": [
    "df[\"Term\"].unique()"
   ]
  },
  {
   "cell_type": "code",
   "execution_count": 24,
   "metadata": {
    "id": "m2K7Sdzjq545"
   },
   "outputs": [],
   "source": [
    "df[\"Term\"]=df[\"Term\"].map({'Long Term': 1, 'Short Term': 0})"
   ]
  },
  {
   "cell_type": "code",
   "execution_count": 25,
   "metadata": {},
   "outputs": [
    {
     "data": {
      "text/plain": [
       "array(['10+ years', '4 years', '5 years', nan, '3 years', '2 years',\n",
       "       '6 years', '1 year', '< 1 year', '7 years', '9 years', '8 years'],\n",
       "      dtype=object)"
      ]
     },
     "execution_count": 25,
     "metadata": {},
     "output_type": "execute_result"
    }
   ],
   "source": [
    "df[\"Years in current job\"].unique()"
   ]
  },
  {
   "cell_type": "code",
   "execution_count": 26,
   "metadata": {},
   "outputs": [],
   "source": [
    "df[\"Years in current job\"]=df[\"Years in current job\"].map({'10+ years': 10, '9 years': 9, '8 years': 8, '7 years': 7, \n",
    "                                                           '6 years': 6, '5 years': 5, '4 years': 4, '3 years': 3,\n",
    "                                                          '2 years': 2, '1 year': 1, '< 1 year': 0})"
   ]
  },
  {
   "cell_type": "code",
   "execution_count": 27,
   "metadata": {},
   "outputs": [
    {
     "data": {
      "text/plain": [
       "array(['Home Mortgage', 'Own Home', 'Rent', 'HaveMortgage'], dtype=object)"
      ]
     },
     "execution_count": 27,
     "metadata": {},
     "output_type": "execute_result"
    }
   ],
   "source": [
    "df[\"Home Ownership\"].unique()"
   ]
  },
  {
   "cell_type": "code",
   "execution_count": 28,
   "metadata": {},
   "outputs": [
    {
     "data": {
      "text/plain": [
       "array(['Debt Consolidation', 'other', 'Business Loan',\n",
       "       'Home Improvements', 'Buy House', 'Other', 'Buy a Car',\n",
       "       'Medical Bills', 'Take a Trip', 'Educational Expenses'],\n",
       "      dtype=object)"
      ]
     },
     "execution_count": 28,
     "metadata": {},
     "output_type": "execute_result"
    }
   ],
   "source": [
    "df[\"Purpose\"].unique()"
   ]
  },
  {
   "cell_type": "code",
   "execution_count": 29,
   "metadata": {},
   "outputs": [],
   "source": [
    "# Yukarıdaki obje alanları kategoriye çevirelim\n",
    "df[\"Home Ownership\"]=df[\"Home Ownership\"].astype(\"category\")\n",
    "df[\"Purpose\"]=df[\"Purpose\"].astype(\"category\")"
   ]
  },
  {
   "cell_type": "code",
   "execution_count": 30,
   "metadata": {},
   "outputs": [],
   "source": [
    "# Metin karakterinden kurtarıp alanı sayıya çevirelim\n",
    "df['Monthly Debt'] = df['Monthly Debt'].replace({'\\$': '', ',': ''}, regex=True).astype(float)"
   ]
  },
  {
   "cell_type": "code",
   "execution_count": 31,
   "metadata": {},
   "outputs": [
    {
     "data": {
      "text/html": [
       "<div>\n",
       "<style scoped>\n",
       "    .dataframe tbody tr th:only-of-type {\n",
       "        vertical-align: middle;\n",
       "    }\n",
       "\n",
       "    .dataframe tbody tr th {\n",
       "        vertical-align: top;\n",
       "    }\n",
       "\n",
       "    .dataframe thead th {\n",
       "        text-align: right;\n",
       "    }\n",
       "</style>\n",
       "<table border=\"1\" class=\"dataframe\">\n",
       "  <thead>\n",
       "    <tr style=\"text-align: right;\">\n",
       "      <th></th>\n",
       "      <th>Loan ID</th>\n",
       "      <th>Customer ID</th>\n",
       "      <th>Loan Status</th>\n",
       "      <th>Current Loan Amount</th>\n",
       "      <th>Term</th>\n",
       "      <th>Credit Score</th>\n",
       "      <th>Years in current job</th>\n",
       "      <th>Home Ownership</th>\n",
       "      <th>Annual Income</th>\n",
       "      <th>Purpose</th>\n",
       "      <th>Monthly Debt</th>\n",
       "      <th>Years of Credit History</th>\n",
       "      <th>Months since last delinquent</th>\n",
       "      <th>Number of Open Accounts</th>\n",
       "      <th>Number of Credit Problems</th>\n",
       "      <th>Current Credit Balance</th>\n",
       "      <th>Maximum Open Credit</th>\n",
       "      <th>Bankruptcies</th>\n",
       "      <th>Tax Liens</th>\n",
       "    </tr>\n",
       "  </thead>\n",
       "  <tbody>\n",
       "    <tr>\n",
       "      <th>0</th>\n",
       "      <td>000025bb-5694-4cff-b17d-192b1a98ba44</td>\n",
       "      <td>5ebc8bb1-5eb9-4404-b11b-a6eebc401a19</td>\n",
       "      <td>1</td>\n",
       "      <td>11520</td>\n",
       "      <td>0</td>\n",
       "      <td>741.0</td>\n",
       "      <td>10.0</td>\n",
       "      <td>Home Mortgage</td>\n",
       "      <td>33694.0</td>\n",
       "      <td>Debt Consolidation</td>\n",
       "      <td>584.03</td>\n",
       "      <td>12.3</td>\n",
       "      <td>41.0</td>\n",
       "      <td>10</td>\n",
       "      <td>0</td>\n",
       "      <td>6760</td>\n",
       "      <td>16056</td>\n",
       "      <td>0.0</td>\n",
       "      <td>0.0</td>\n",
       "    </tr>\n",
       "    <tr>\n",
       "      <th>1</th>\n",
       "      <td>00002c49-3a29-4bd4-8f67-c8f8fbc1048c</td>\n",
       "      <td>927b388d-2e01-423f-a8dc-f7e42d668f46</td>\n",
       "      <td>1</td>\n",
       "      <td>3441</td>\n",
       "      <td>0</td>\n",
       "      <td>734.0</td>\n",
       "      <td>4.0</td>\n",
       "      <td>Home Mortgage</td>\n",
       "      <td>42269.0</td>\n",
       "      <td>other</td>\n",
       "      <td>1106.04</td>\n",
       "      <td>26.3</td>\n",
       "      <td>NaN</td>\n",
       "      <td>17</td>\n",
       "      <td>0</td>\n",
       "      <td>6262</td>\n",
       "      <td>19149</td>\n",
       "      <td>0.0</td>\n",
       "      <td>0.0</td>\n",
       "    </tr>\n",
       "    <tr>\n",
       "      <th>2</th>\n",
       "      <td>00002d89-27f3-409b-aa76-90834f359a65</td>\n",
       "      <td>defce609-c631-447d-aad6-1270615e89c4</td>\n",
       "      <td>1</td>\n",
       "      <td>21029</td>\n",
       "      <td>0</td>\n",
       "      <td>747.0</td>\n",
       "      <td>10.0</td>\n",
       "      <td>Home Mortgage</td>\n",
       "      <td>90126.0</td>\n",
       "      <td>Debt Consolidation</td>\n",
       "      <td>1321.85</td>\n",
       "      <td>28.8</td>\n",
       "      <td>NaN</td>\n",
       "      <td>5</td>\n",
       "      <td>0</td>\n",
       "      <td>20967</td>\n",
       "      <td>28335</td>\n",
       "      <td>0.0</td>\n",
       "      <td>0.0</td>\n",
       "    </tr>\n",
       "    <tr>\n",
       "      <th>3</th>\n",
       "      <td>00005222-b4d8-45a4-ad8c-186057e24233</td>\n",
       "      <td>070bcecb-aae7-4485-a26a-e0403e7bb6c5</td>\n",
       "      <td>1</td>\n",
       "      <td>18743</td>\n",
       "      <td>0</td>\n",
       "      <td>747.0</td>\n",
       "      <td>10.0</td>\n",
       "      <td>Own Home</td>\n",
       "      <td>38072.0</td>\n",
       "      <td>Debt Consolidation</td>\n",
       "      <td>751.92</td>\n",
       "      <td>26.2</td>\n",
       "      <td>NaN</td>\n",
       "      <td>9</td>\n",
       "      <td>0</td>\n",
       "      <td>22529</td>\n",
       "      <td>43915</td>\n",
       "      <td>0.0</td>\n",
       "      <td>0.0</td>\n",
       "    </tr>\n",
       "    <tr>\n",
       "      <th>4</th>\n",
       "      <td>0000757f-a121-41ed-b17b-162e76647c1f</td>\n",
       "      <td>dde79588-12f0-4811-bab0-e2b07f633fcd</td>\n",
       "      <td>1</td>\n",
       "      <td>11731</td>\n",
       "      <td>0</td>\n",
       "      <td>746.0</td>\n",
       "      <td>4.0</td>\n",
       "      <td>Rent</td>\n",
       "      <td>50025.0</td>\n",
       "      <td>Debt Consolidation</td>\n",
       "      <td>355.18</td>\n",
       "      <td>11.5</td>\n",
       "      <td>NaN</td>\n",
       "      <td>12</td>\n",
       "      <td>0</td>\n",
       "      <td>17391</td>\n",
       "      <td>37081</td>\n",
       "      <td>0.0</td>\n",
       "      <td>0.0</td>\n",
       "    </tr>\n",
       "  </tbody>\n",
       "</table>\n",
       "</div>"
      ],
      "text/plain": [
       "                                Loan ID                           Customer ID  \\\n",
       "0  000025bb-5694-4cff-b17d-192b1a98ba44  5ebc8bb1-5eb9-4404-b11b-a6eebc401a19   \n",
       "1  00002c49-3a29-4bd4-8f67-c8f8fbc1048c  927b388d-2e01-423f-a8dc-f7e42d668f46   \n",
       "2  00002d89-27f3-409b-aa76-90834f359a65  defce609-c631-447d-aad6-1270615e89c4   \n",
       "3  00005222-b4d8-45a4-ad8c-186057e24233  070bcecb-aae7-4485-a26a-e0403e7bb6c5   \n",
       "4  0000757f-a121-41ed-b17b-162e76647c1f  dde79588-12f0-4811-bab0-e2b07f633fcd   \n",
       "\n",
       "   Loan Status  Current Loan Amount  Term  Credit Score  Years in current job  \\\n",
       "0            1                11520     0         741.0                  10.0   \n",
       "1            1                 3441     0         734.0                   4.0   \n",
       "2            1                21029     0         747.0                  10.0   \n",
       "3            1                18743     0         747.0                  10.0   \n",
       "4            1                11731     0         746.0                   4.0   \n",
       "\n",
       "  Home Ownership  Annual Income             Purpose  Monthly Debt  \\\n",
       "0  Home Mortgage        33694.0  Debt Consolidation        584.03   \n",
       "1  Home Mortgage        42269.0               other       1106.04   \n",
       "2  Home Mortgage        90126.0  Debt Consolidation       1321.85   \n",
       "3       Own Home        38072.0  Debt Consolidation        751.92   \n",
       "4           Rent        50025.0  Debt Consolidation        355.18   \n",
       "\n",
       "   Years of Credit History  Months since last delinquent  \\\n",
       "0                     12.3                          41.0   \n",
       "1                     26.3                           NaN   \n",
       "2                     28.8                           NaN   \n",
       "3                     26.2                           NaN   \n",
       "4                     11.5                           NaN   \n",
       "\n",
       "   Number of Open Accounts  Number of Credit Problems  Current Credit Balance  \\\n",
       "0                       10                          0                    6760   \n",
       "1                       17                          0                    6262   \n",
       "2                        5                          0                   20967   \n",
       "3                        9                          0                   22529   \n",
       "4                       12                          0                   17391   \n",
       "\n",
       "  Maximum Open Credit  Bankruptcies  Tax Liens  \n",
       "0               16056           0.0        0.0  \n",
       "1               19149           0.0        0.0  \n",
       "2               28335           0.0        0.0  \n",
       "3               43915           0.0        0.0  \n",
       "4               37081           0.0        0.0  "
      ]
     },
     "execution_count": 31,
     "metadata": {},
     "output_type": "execute_result"
    }
   ],
   "source": [
    "df.head()"
   ]
  },
  {
   "cell_type": "code",
   "execution_count": 32,
   "metadata": {},
   "outputs": [
    {
     "data": {
      "text/html": [
       "<div>\n",
       "<style scoped>\n",
       "    .dataframe tbody tr th:only-of-type {\n",
       "        vertical-align: middle;\n",
       "    }\n",
       "\n",
       "    .dataframe tbody tr th {\n",
       "        vertical-align: top;\n",
       "    }\n",
       "\n",
       "    .dataframe thead th {\n",
       "        text-align: right;\n",
       "    }\n",
       "</style>\n",
       "<table border=\"1\" class=\"dataframe\">\n",
       "  <thead>\n",
       "    <tr style=\"text-align: right;\">\n",
       "      <th></th>\n",
       "      <th>count</th>\n",
       "      <th>mean</th>\n",
       "      <th>std</th>\n",
       "      <th>min</th>\n",
       "      <th>25%</th>\n",
       "      <th>50%</th>\n",
       "      <th>75%</th>\n",
       "      <th>max</th>\n",
       "    </tr>\n",
       "  </thead>\n",
       "  <tbody>\n",
       "    <tr>\n",
       "      <th>Loan Status</th>\n",
       "      <td>192288.0</td>\n",
       "      <td>9.162870e-01</td>\n",
       "      <td>2.769576e-01</td>\n",
       "      <td>0.0</td>\n",
       "      <td>1.0</td>\n",
       "      <td>1.00</td>\n",
       "      <td>1.000</td>\n",
       "      <td>1.00</td>\n",
       "    </tr>\n",
       "    <tr>\n",
       "      <th>Current Loan Amount</th>\n",
       "      <td>192288.0</td>\n",
       "      <td>1.832225e+07</td>\n",
       "      <td>3.867054e+07</td>\n",
       "      <td>505.0</td>\n",
       "      <td>8366.0</td>\n",
       "      <td>14734.50</td>\n",
       "      <td>27390.000</td>\n",
       "      <td>99999999.00</td>\n",
       "    </tr>\n",
       "    <tr>\n",
       "      <th>Term</th>\n",
       "      <td>192288.0</td>\n",
       "      <td>2.111780e-01</td>\n",
       "      <td>4.081455e-01</td>\n",
       "      <td>0.0</td>\n",
       "      <td>0.0</td>\n",
       "      <td>0.00</td>\n",
       "      <td>0.000</td>\n",
       "      <td>1.00</td>\n",
       "    </tr>\n",
       "    <tr>\n",
       "      <th>Credit Score</th>\n",
       "      <td>147793.0</td>\n",
       "      <td>7.247062e+02</td>\n",
       "      <td>2.554091e+01</td>\n",
       "      <td>585.0</td>\n",
       "      <td>715.0</td>\n",
       "      <td>733.00</td>\n",
       "      <td>742.000</td>\n",
       "      <td>751.00</td>\n",
       "    </tr>\n",
       "    <tr>\n",
       "      <th>Years in current job</th>\n",
       "      <td>184657.0</td>\n",
       "      <td>5.879333e+00</td>\n",
       "      <td>3.627512e+00</td>\n",
       "      <td>0.0</td>\n",
       "      <td>3.0</td>\n",
       "      <td>6.00</td>\n",
       "      <td>10.000</td>\n",
       "      <td>10.00</td>\n",
       "    </tr>\n",
       "    <tr>\n",
       "      <th>Annual Income</th>\n",
       "      <td>147793.0</td>\n",
       "      <td>7.397535e+04</td>\n",
       "      <td>5.947579e+04</td>\n",
       "      <td>4134.0</td>\n",
       "      <td>45296.0</td>\n",
       "      <td>63564.00</td>\n",
       "      <td>89116.000</td>\n",
       "      <td>8713547.00</td>\n",
       "    </tr>\n",
       "    <tr>\n",
       "      <th>Monthly Debt</th>\n",
       "      <td>192288.0</td>\n",
       "      <td>9.585857e+02</td>\n",
       "      <td>6.360065e+02</td>\n",
       "      <td>0.0</td>\n",
       "      <td>524.7</td>\n",
       "      <td>838.01</td>\n",
       "      <td>1248.655</td>\n",
       "      <td>22939.12</td>\n",
       "    </tr>\n",
       "    <tr>\n",
       "      <th>Years of Credit History</th>\n",
       "      <td>192288.0</td>\n",
       "      <td>1.842010e+01</td>\n",
       "      <td>7.047290e+00</td>\n",
       "      <td>3.4</td>\n",
       "      <td>13.7</td>\n",
       "      <td>17.00</td>\n",
       "      <td>21.900</td>\n",
       "      <td>70.50</td>\n",
       "    </tr>\n",
       "    <tr>\n",
       "      <th>Months since last delinquent</th>\n",
       "      <td>86527.0</td>\n",
       "      <td>3.513711e+01</td>\n",
       "      <td>2.176272e+01</td>\n",
       "      <td>0.0</td>\n",
       "      <td>17.0</td>\n",
       "      <td>32.00</td>\n",
       "      <td>51.000</td>\n",
       "      <td>176.00</td>\n",
       "    </tr>\n",
       "    <tr>\n",
       "      <th>Number of Open Accounts</th>\n",
       "      <td>192288.0</td>\n",
       "      <td>1.105412e+01</td>\n",
       "      <td>4.967239e+00</td>\n",
       "      <td>0.0</td>\n",
       "      <td>8.0</td>\n",
       "      <td>10.00</td>\n",
       "      <td>14.000</td>\n",
       "      <td>76.00</td>\n",
       "    </tr>\n",
       "    <tr>\n",
       "      <th>Number of Credit Problems</th>\n",
       "      <td>192288.0</td>\n",
       "      <td>1.545962e-01</td>\n",
       "      <td>4.563758e-01</td>\n",
       "      <td>0.0</td>\n",
       "      <td>0.0</td>\n",
       "      <td>0.00</td>\n",
       "      <td>0.000</td>\n",
       "      <td>11.00</td>\n",
       "    </tr>\n",
       "    <tr>\n",
       "      <th>Current Credit Balance</th>\n",
       "      <td>192288.0</td>\n",
       "      <td>1.550191e+04</td>\n",
       "      <td>1.966587e+04</td>\n",
       "      <td>0.0</td>\n",
       "      <td>5899.0</td>\n",
       "      <td>11024.50</td>\n",
       "      <td>19334.000</td>\n",
       "      <td>1731412.00</td>\n",
       "    </tr>\n",
       "    <tr>\n",
       "      <th>Bankruptcies</th>\n",
       "      <td>191875.0</td>\n",
       "      <td>1.108221e-01</td>\n",
       "      <td>3.373751e-01</td>\n",
       "      <td>0.0</td>\n",
       "      <td>0.0</td>\n",
       "      <td>0.00</td>\n",
       "      <td>0.000</td>\n",
       "      <td>7.00</td>\n",
       "    </tr>\n",
       "    <tr>\n",
       "      <th>Tax Liens</th>\n",
       "      <td>192267.0</td>\n",
       "      <td>2.558421e-02</td>\n",
       "      <td>2.374140e-01</td>\n",
       "      <td>0.0</td>\n",
       "      <td>0.0</td>\n",
       "      <td>0.00</td>\n",
       "      <td>0.000</td>\n",
       "      <td>11.00</td>\n",
       "    </tr>\n",
       "  </tbody>\n",
       "</table>\n",
       "</div>"
      ],
      "text/plain": [
       "                                 count          mean           std     min  \\\n",
       "Loan Status                   192288.0  9.162870e-01  2.769576e-01     0.0   \n",
       "Current Loan Amount           192288.0  1.832225e+07  3.867054e+07   505.0   \n",
       "Term                          192288.0  2.111780e-01  4.081455e-01     0.0   \n",
       "Credit Score                  147793.0  7.247062e+02  2.554091e+01   585.0   \n",
       "Years in current job          184657.0  5.879333e+00  3.627512e+00     0.0   \n",
       "Annual Income                 147793.0  7.397535e+04  5.947579e+04  4134.0   \n",
       "Monthly Debt                  192288.0  9.585857e+02  6.360065e+02     0.0   \n",
       "Years of Credit History       192288.0  1.842010e+01  7.047290e+00     3.4   \n",
       "Months since last delinquent   86527.0  3.513711e+01  2.176272e+01     0.0   \n",
       "Number of Open Accounts       192288.0  1.105412e+01  4.967239e+00     0.0   \n",
       "Number of Credit Problems     192288.0  1.545962e-01  4.563758e-01     0.0   \n",
       "Current Credit Balance        192288.0  1.550191e+04  1.966587e+04     0.0   \n",
       "Bankruptcies                  191875.0  1.108221e-01  3.373751e-01     0.0   \n",
       "Tax Liens                     192267.0  2.558421e-02  2.374140e-01     0.0   \n",
       "\n",
       "                                  25%       50%        75%          max  \n",
       "Loan Status                       1.0      1.00      1.000         1.00  \n",
       "Current Loan Amount            8366.0  14734.50  27390.000  99999999.00  \n",
       "Term                              0.0      0.00      0.000         1.00  \n",
       "Credit Score                    715.0    733.00    742.000       751.00  \n",
       "Years in current job              3.0      6.00     10.000        10.00  \n",
       "Annual Income                 45296.0  63564.00  89116.000   8713547.00  \n",
       "Monthly Debt                    524.7    838.01   1248.655     22939.12  \n",
       "Years of Credit History          13.7     17.00     21.900        70.50  \n",
       "Months since last delinquent     17.0     32.00     51.000       176.00  \n",
       "Number of Open Accounts           8.0     10.00     14.000        76.00  \n",
       "Number of Credit Problems         0.0      0.00      0.000        11.00  \n",
       "Current Credit Balance         5899.0  11024.50  19334.000   1731412.00  \n",
       "Bankruptcies                      0.0      0.00      0.000         7.00  \n",
       "Tax Liens                         0.0      0.00      0.000        11.00  "
      ]
     },
     "execution_count": 32,
     "metadata": {},
     "output_type": "execute_result"
    }
   ],
   "source": [
    "df.describe().T"
   ]
  },
  {
   "cell_type": "code",
   "execution_count": 33,
   "metadata": {},
   "outputs": [
    {
     "data": {
      "text/plain": [
       "<Axes: ylabel='Current Loan Amount'>"
      ]
     },
     "execution_count": 33,
     "metadata": {},
     "output_type": "execute_result"
    },
    {
     "data": {
      "image/png": "[encoded data removed]",
      "text/plain": [
       "<Figure size 640x480 with 1 Axes>"
      ]
     },
     "metadata": {},
     "output_type": "display_data"
    }
   ],
   "source": [
    "sns.boxplot(y=df[\"Current Loan Amount\"])"
   ]
  },
  {
   "cell_type": "code",
   "execution_count": 34,
   "metadata": {},
   "outputs": [],
   "source": [
    "# Current Loan Amount alanındaki uç değerden kurtulalım\n",
    "df=df[df[\"Current Loan Amount\"]!=99999999.00]"
   ]
  },
  {
   "cell_type": "code",
   "execution_count": 35,
   "metadata": {},
   "outputs": [
    {
     "data": {
      "text/plain": [
       "array([16056, 19149, 28335, ..., 37004, 44080, 62371], dtype=object)"
      ]
     },
     "execution_count": 35,
     "metadata": {},
     "output_type": "execute_result"
    }
   ],
   "source": [
    "# Maximum Open Credit alanı sayı olmasına rağmen infoda neden obje olarak görünüyor?\n",
    "df[\"Maximum Open Credit\"].unique()"
   ]
  },
  {
   "cell_type": "code",
   "execution_count": 36,
   "metadata": {},
   "outputs": [],
   "source": [
    "# Sayısal olmayan kayıtları filtreleyelim ve sayıya çevirelim\n",
    "df['Maximum Open Credit'] = pd.to_numeric(df['Maximum Open Credit'], errors='coerce')"
   ]
  },
  {
   "cell_type": "code",
   "execution_count": 37,
   "metadata": {},
   "outputs": [
    {
     "data": {
      "text/plain": [
       "0"
      ]
     },
     "execution_count": 37,
     "metadata": {},
     "output_type": "execute_result"
    }
   ],
   "source": [
    "# Acaba sayısal olmayan kayıt oluştu mu?\n",
    "df['Maximum Open Credit'].isnull().sum()"
   ]
  },
  {
   "cell_type": "markdown",
   "metadata": {},
   "source": [
    "### Şimdi boşları dolduralım"
   ]
  },
  {
   "cell_type": "code",
   "execution_count": 38,
   "metadata": {},
   "outputs": [
    {
     "data": {
      "text/plain": [
       "Loan ID                             0\n",
       "Customer ID                         0\n",
       "Loan Status                         0\n",
       "Current Loan Amount                 0\n",
       "Term                                0\n",
       "Credit Score                    44495\n",
       "Years in current job             6256\n",
       "Home Ownership                      0\n",
       "Annual Income                   44495\n",
       "Purpose                             0\n",
       "Monthly Debt                        0\n",
       "Years of Credit History             0\n",
       "Months since last delinquent    86256\n",
       "Number of Open Accounts             0\n",
       "Number of Credit Problems           0\n",
       "Current Credit Balance              0\n",
       "Maximum Open Credit                 0\n",
       "Bankruptcies                      342\n",
       "Tax Liens                          19\n",
       "dtype: int64"
      ]
     },
     "execution_count": 38,
     "metadata": {},
     "output_type": "execute_result"
    }
   ],
   "source": [
    "# Acaba sayısal olmayan kayıt oluştu mu?\n",
    "df.isnull().sum()"
   ]
  },
  {
   "cell_type": "code",
   "execution_count": 39,
   "metadata": {},
   "outputs": [],
   "source": [
    "# Kredi skorunu orta değerlerle dolduralım\n",
    "df['Credit Score'].fillna(df['Credit Score'].median(), inplace=True)"
   ]
  },
  {
   "cell_type": "code",
   "execution_count": 40,
   "metadata": {},
   "outputs": [
    {
     "data": {
      "text/plain": [
       "<Axes: xlabel='Years in current job', ylabel='Count'>"
      ]
     },
     "execution_count": 40,
     "metadata": {},
     "output_type": "execute_result"
    },
    {
     "data": {
      "image/png": "[encoded data removed]",
      "text/plain": [
       "<Figure size 640x480 with 1 Axes>"
      ]
     },
     "metadata": {},
     "output_type": "display_data"
    }
   ],
   "source": [
    "sns.histplot(x=\"Years in current job\", data=df)"
   ]
  },
  {
   "cell_type": "code",
   "execution_count": 41,
   "metadata": {},
   "outputs": [],
   "source": [
    "# Her iki alanı birbiri ile regresyon ilişkisi kurup boşlukları dolduralım. Ama önce her ikisi de boş olan kayıtları silelim.\n",
    "df.dropna(subset=['Years in current job', 'Annual Income'], how='all', inplace=True)"
   ]
  },
  {
   "cell_type": "code",
   "execution_count": 42,
   "metadata": {},
   "outputs": [
    {
     "data": {
      "text/plain": [
       "Loan ID                             0\n",
       "Customer ID                         0\n",
       "Loan Status                         0\n",
       "Current Loan Amount                 0\n",
       "Term                                0\n",
       "Credit Score                        0\n",
       "Years in current job                0\n",
       "Home Ownership                      0\n",
       "Annual Income                       0\n",
       "Purpose                             0\n",
       "Monthly Debt                        0\n",
       "Years of Credit History             0\n",
       "Months since last delinquent    85340\n",
       "Number of Open Accounts             0\n",
       "Number of Credit Problems           0\n",
       "Current Credit Balance              0\n",
       "Maximum Open Credit                 0\n",
       "Bankruptcies                      342\n",
       "Tax Liens                          19\n",
       "dtype: int64"
      ]
     },
     "execution_count": 42,
     "metadata": {},
     "output_type": "execute_result"
    }
   ],
   "source": [
    "import pandas as pd\n",
    "from sklearn.linear_model import LinearRegression\n",
    "\n",
    "# 'Years in current job' alanını doldurma\n",
    "subset = df.dropna(subset=['Years in current job', 'Annual Income'])\n",
    "X = subset['Annual Income'].values.reshape(-1, 1)\n",
    "y = subset['Years in current job'].values\n",
    "model_years = LinearRegression()\n",
    "model_years.fit(X, y)\n",
    "missing_years_data = df[df['Years in current job'].isnull()]['Annual Income'].values.reshape(-1, 1)\n",
    "predicted_years = model_years.predict(missing_years_data)\n",
    "df.loc[df['Years in current job'].isnull(), 'Years in current job'] = predicted_years\n",
    "\n",
    "# 'Annual Income' alanını doldurma\n",
    "subset = df.dropna(subset=['Years in current job', 'Annual Income'])\n",
    "X = subset['Years in current job'].values.reshape(-1, 1)\n",
    "y = subset['Annual Income'].values\n",
    "model_income = LinearRegression()\n",
    "model_income.fit(X, y)\n",
    "missing_income_data = df[df['Annual Income'].isnull()]['Years in current job'].values.reshape(-1, 1)\n",
    "predicted_income = model_income.predict(missing_income_data)\n",
    "df.loc[df['Annual Income'].isnull(), 'Annual Income'] = predicted_income\n",
    "\n",
    "# Sonucu görüntüle\n",
    "df.isnull().sum()"
   ]
  },
  {
   "cell_type": "code",
   "execution_count": 43,
   "metadata": {},
   "outputs": [
    {
     "data": {
      "text/plain": [
       "<Axes: xlabel='Bankruptcies', ylabel='Count'>"
      ]
     },
     "execution_count": 43,
     "metadata": {},
     "output_type": "execute_result"
    },
    {
     "data": {
      "image/png": "[encoded data removed]",
      "text/plain": [
       "<Figure size 640x480 with 1 Axes>"
      ]
     },
     "metadata": {},
     "output_type": "display_data"
    }
   ],
   "source": [
    "sns.histplot(x=\"Bankruptcies\", data=df)"
   ]
  },
  {
   "cell_type": "code",
   "execution_count": 44,
   "metadata": {},
   "outputs": [],
   "source": [
    "df['Bankruptcies'] = df['Bankruptcies'].fillna(0)"
   ]
  },
  {
   "cell_type": "code",
   "execution_count": 45,
   "metadata": {},
   "outputs": [
    {
     "data": {
      "text/plain": [
       "<Axes: xlabel='Tax Liens', ylabel='Count'>"
      ]
     },
     "execution_count": 45,
     "metadata": {},
     "output_type": "execute_result"
    },
    {
     "data": {
      "image/png": "[encoded data removed]",
      "text/plain": [
       "<Figure size 640x480 with 1 Axes>"
      ]
     },
     "metadata": {},
     "output_type": "display_data"
    }
   ],
   "source": [
    "sns.histplot(x=\"Tax Liens\", data=df)"
   ]
  },
  {
   "cell_type": "code",
   "execution_count": 46,
   "metadata": {},
   "outputs": [],
   "source": [
    "df['Tax Liens'] = df['Tax Liens'].fillna(0)"
   ]
  },
  {
   "cell_type": "code",
   "execution_count": 47,
   "metadata": {},
   "outputs": [
    {
     "data": {
      "text/plain": [
       "Loan ID                             0\n",
       "Customer ID                         0\n",
       "Loan Status                         0\n",
       "Current Loan Amount                 0\n",
       "Term                                0\n",
       "Credit Score                        0\n",
       "Years in current job                0\n",
       "Home Ownership                      0\n",
       "Annual Income                       0\n",
       "Purpose                             0\n",
       "Monthly Debt                        0\n",
       "Years of Credit History             0\n",
       "Months since last delinquent    85340\n",
       "Number of Open Accounts             0\n",
       "Number of Credit Problems           0\n",
       "Current Credit Balance              0\n",
       "Maximum Open Credit                 0\n",
       "Bankruptcies                        0\n",
       "Tax Liens                           0\n",
       "dtype: int64"
      ]
     },
     "execution_count": 47,
     "metadata": {},
     "output_type": "execute_result"
    }
   ],
   "source": [
    "df.isnull().sum()"
   ]
  },
  {
   "cell_type": "markdown",
   "metadata": {},
   "source": [
    "### Modellemeye başlayalım"
   ]
  },
  {
   "cell_type": "code",
   "execution_count": 48,
   "metadata": {},
   "outputs": [
    {
     "data": {
      "text/plain": [
       "Loan Status\n",
       "1    139452\n",
       "0     15959\n",
       "Name: count, dtype: int64"
      ]
     },
     "execution_count": 48,
     "metadata": {},
     "output_type": "execute_result"
    }
   ],
   "source": [
    "# Önce dengesizlik var mı bakalım\n",
    "df['Loan Status'].value_counts()"
   ]
  },
  {
   "cell_type": "code",
   "execution_count": 49,
   "metadata": {},
   "outputs": [
    {
     "data": {
      "text/plain": [
       "'\\n# Verilerdeki dengesizliği dengeleyelim\\ndf1=df[df[\"Loan Status\"]==0]\\ndf2=df[df[\"Loan Status\"]==1].sample(15959)\\ndf1.shape, df2.shape\\n'"
      ]
     },
     "execution_count": 49,
     "metadata": {},
     "output_type": "execute_result"
    }
   ],
   "source": [
    "'''\n",
    "# Verilerdeki dengesizliği dengeleyelim\n",
    "df1=df[df[\"Loan Status\"]==0]\n",
    "df2=df[df[\"Loan Status\"]==1].sample(15959)\n",
    "df1.shape, df2.shape\n",
    "'''"
   ]
  },
  {
   "cell_type": "code",
   "execution_count": 50,
   "metadata": {},
   "outputs": [
    {
     "data": {
      "text/plain": [
       "'\\ndf=pd.concat([df1, df2])\\ndf.shape\\n'"
      ]
     },
     "execution_count": 50,
     "metadata": {},
     "output_type": "execute_result"
    }
   ],
   "source": [
    "'''\n",
    "df=pd.concat([df1, df2])\n",
    "df.shape\n",
    "'''"
   ]
  },
  {
   "cell_type": "code",
   "execution_count": 51,
   "metadata": {},
   "outputs": [],
   "source": [
    "from sklearn.naive_bayes import GaussianNB\n",
    "from sklearn.naive_bayes import BernoulliNB\n",
    "from sklearn.linear_model import LogisticRegression\n",
    "from sklearn.tree import DecisionTreeClassifier\n",
    "from sklearn.ensemble import RandomForestClassifier\n",
    "from sklearn.ensemble import GradientBoostingClassifier\n",
    "from sklearn.neighbors import KNeighborsClassifier\n",
    "\n",
    "from sklearn.metrics import accuracy_score, precision_score, recall_score\n",
    "from sklearn.metrics import f1_score, confusion_matrix, classification_report\n",
    "from sklearn.model_selection import train_test_split\n",
    "\n",
    "g = GaussianNB()\n",
    "b = BernoulliNB()\n",
    "l = LogisticRegression()\n",
    "d = DecisionTreeClassifier()\n",
    "r = RandomForestClassifier()\n",
    "gb= GradientBoostingClassifier()\n",
    "kn= KNeighborsClassifier()\n",
    "\n",
    "def algo_test(x, y):\n",
    "    modeller=[g, b, l, d, r, gb, kn]\n",
    "    isimler=[\"GaussianNB\", \"BernoulliNB\", \"LogisticRegression\", \"DecisionTreeClassifier\", \n",
    "             \"RandomForestClassifier\", \"GradientBoostingClassifier\", \"KNeighborsClassifier\"]\n",
    "\n",
    "    x_train, x_test, y_train, y_test = train_test_split(x, y, test_size=.2, random_state = 42)\n",
    "    \n",
    "    accuracy = []\n",
    "    precision = []\n",
    "    recall = []\n",
    "    f1 = []\n",
    "    mdl=[]\n",
    "\n",
    "    print(\"Veriler hazır modeller deneniyor\")\n",
    "    for model in modeller:\n",
    "        print(model, \" modeli eğitiliyor!..\")\n",
    "        model=model.fit(x_train,y_train)\n",
    "        tahmin=model.predict(np.array(x_test) if model==kn else x_test)\n",
    "        mdl.append(model)\n",
    "        accuracy.append(accuracy_score(tahmin, y_test))\n",
    "        precision.append(precision_score(tahmin, y_test))\n",
    "        recall.append(recall_score(tahmin, y_test))\n",
    "        f1.append(f1_score(tahmin, y_test))\n",
    "        print(confusion_matrix(tahmin, y_test))\n",
    "\n",
    "    print(\"Eğitim tamamlandı.\")\n",
    "    \n",
    "    metrics=pd.DataFrame(columns=[\"Accuracy\", \"Precision\", \"Recall\", \"F1\", \"Model\"], index=isimler)\n",
    "    metrics[\"Accuracy\"] = accuracy\n",
    "    metrics[\"Precision\"] = precision  \n",
    "    metrics[\"Recall\"] = recall\n",
    "    metrics[\"F1\"] = f1\n",
    "    metrics[\"Model\"]=mdl\n",
    "\n",
    "    metrics.sort_values(\"F1\", ascending=False, inplace=True)\n",
    "\n",
    "    print(\"En başarılı model: \", metrics.iloc[0].name)\n",
    "    model=metrics.iloc[0,-1]\n",
    "    tahmin=model.predict(np.array(x_test) if model==kn else x_test)\n",
    "    print(\"Confusion Matrix:\")\n",
    "    print(confusion_matrix(tahmin, y_test))\n",
    "    print(\"classification Report:\")\n",
    "    print(classification_report(tahmin, y_test))\n",
    "    print(\"Diğer Modeller:\")\n",
    "    \n",
    "    return metrics.drop(\"Model\", axis=1)"
   ]
  },
  {
   "cell_type": "code",
   "execution_count": 52,
   "metadata": {},
   "outputs": [
    {
     "name": "stdout",
     "output_type": "stream",
     "text": [
      "<class 'pandas.core.frame.DataFrame'>\n",
      "Index: 155411 entries, 0 to 256983\n",
      "Data columns (total 19 columns):\n",
      " #   Column                        Non-Null Count   Dtype   \n",
      "---  ------                        --------------   -----   \n",
      " 0   Loan ID                       155411 non-null  object  \n",
      " 1   Customer ID                   155411 non-null  object  \n",
      " 2   Loan Status                   155411 non-null  int64   \n",
      " 3   Current Loan Amount           155411 non-null  int64   \n",
      " 4   Term                          155411 non-null  int64   \n",
      " 5   Credit Score                  155411 non-null  float64 \n",
      " 6   Years in current job          155411 non-null  float64 \n",
      " 7   Home Ownership                155411 non-null  category\n",
      " 8   Annual Income                 155411 non-null  float64 \n",
      " 9   Purpose                       155411 non-null  category\n",
      " 10  Monthly Debt                  155411 non-null  float64 \n",
      " 11  Years of Credit History       155411 non-null  float64 \n",
      " 12  Months since last delinquent  70071 non-null   float64 \n",
      " 13  Number of Open Accounts       155411 non-null  int64   \n",
      " 14  Number of Credit Problems     155411 non-null  int64   \n",
      " 15  Current Credit Balance        155411 non-null  int64   \n",
      " 16  Maximum Open Credit           155411 non-null  int64   \n",
      " 17  Bankruptcies                  155411 non-null  float64 \n",
      " 18  Tax Liens                     155411 non-null  float64 \n",
      "dtypes: category(2), float64(8), int64(7), object(2)\n",
      "memory usage: 21.6+ MB\n"
     ]
    }
   ],
   "source": [
    "df.info()"
   ]
  },
  {
   "cell_type": "code",
   "execution_count": 53,
   "metadata": {},
   "outputs": [],
   "source": [
    "x=df.drop([\"Loan ID\", \"Customer ID\", \"Loan Status\", \"Months since last delinquent\"], axis=1)\n",
    "y=df[[\"Loan Status\"]]\n",
    "\n",
    "x=pd.get_dummies(x, drop_first=True)"
   ]
  },
  {
   "cell_type": "code",
   "execution_count": 54,
   "metadata": {},
   "outputs": [
    {
     "data": {
      "text/plain": [
       "((155411, 25), (155411, 1))"
      ]
     },
     "execution_count": 54,
     "metadata": {},
     "output_type": "execute_result"
    }
   ],
   "source": [
    "x.shape, y.shape"
   ]
  },
  {
   "cell_type": "code",
   "execution_count": 58,
   "metadata": {
    "scrolled": true
   },
   "outputs": [],
   "source": [
    "# Verilerdeki dengesizliği giderelim\n",
    "from imblearn.over_sampling import SMOTE\n",
    "\n",
    "oversample = SMOTE(random_state=42)\n",
    "x, y = oversample.fit_resample(x, y)"
   ]
  },
  {
   "cell_type": "code",
   "execution_count": 60,
   "metadata": {},
   "outputs": [
    {
     "data": {
      "text/plain": [
       "((278904, 25), (278904, 1))"
      ]
     },
     "execution_count": 60,
     "metadata": {},
     "output_type": "execute_result"
    }
   ],
   "source": [
    "x.shape, y.shape"
   ]
  },
  {
   "cell_type": "code",
   "execution_count": 61,
   "metadata": {},
   "outputs": [
    {
     "name": "stdout",
     "output_type": "stream",
     "text": [
      "Veriler hazır modeller deneniyor\n",
      "GaussianNB()  modeli eğitiliyor!..\n",
      "[[27638 26957]\n",
      " [  418   768]]\n",
      "BernoulliNB()  modeli eğitiliyor!..\n",
      "[[21091  7210]\n",
      " [ 6965 20515]]\n",
      "LogisticRegression()  modeli eğitiliyor!..\n",
      "[[16761 11179]\n",
      " [11295 16546]]\n",
      "DecisionTreeClassifier()  modeli eğitiliyor!..\n",
      "[[25123  3500]\n",
      " [ 2933 24225]]\n",
      "RandomForestClassifier()  modeli eğitiliyor!..\n",
      "[[24865   889]\n",
      " [ 3191 26836]]\n",
      "GradientBoostingClassifier()  modeli eğitiliyor!..\n",
      "[[23028  2069]\n",
      " [ 5028 25656]]\n",
      "KNeighborsClassifier()  modeli eğitiliyor!..\n",
      "[[27194  8783]\n",
      " [  862 18942]]\n",
      "Eğitim tamamlandı.\n",
      "En başarılı model:  RandomForestClassifier\n",
      "Confusion Matrix:\n",
      "[[24865   889]\n",
      " [ 3191 26836]]\n",
      "classification Report:\n",
      "              precision    recall  f1-score   support\n",
      "\n",
      "           0       0.89      0.97      0.92     25754\n",
      "           1       0.97      0.89      0.93     30027\n",
      "\n",
      "    accuracy                           0.93     55781\n",
      "   macro avg       0.93      0.93      0.93     55781\n",
      "weighted avg       0.93      0.93      0.93     55781\n",
      "\n",
      "Diğer Modeller:\n"
     ]
    },
    {
     "data": {
      "text/html": [
       "<div>\n",
       "<style scoped>\n",
       "    .dataframe tbody tr th:only-of-type {\n",
       "        vertical-align: middle;\n",
       "    }\n",
       "\n",
       "    .dataframe tbody tr th {\n",
       "        vertical-align: top;\n",
       "    }\n",
       "\n",
       "    .dataframe thead th {\n",
       "        text-align: right;\n",
       "    }\n",
       "</style>\n",
       "<table border=\"1\" class=\"dataframe\">\n",
       "  <thead>\n",
       "    <tr style=\"text-align: right;\">\n",
       "      <th></th>\n",
       "      <th>Accuracy</th>\n",
       "      <th>Precision</th>\n",
       "      <th>Recall</th>\n",
       "      <th>F1</th>\n",
       "    </tr>\n",
       "  </thead>\n",
       "  <tbody>\n",
       "    <tr>\n",
       "      <th>RandomForestClassifier</th>\n",
       "      <td>0.926857</td>\n",
       "      <td>0.967935</td>\n",
       "      <td>0.893729</td>\n",
       "      <td>0.929353</td>\n",
       "    </tr>\n",
       "    <tr>\n",
       "      <th>DecisionTreeClassifier</th>\n",
       "      <td>0.884674</td>\n",
       "      <td>0.873760</td>\n",
       "      <td>0.892002</td>\n",
       "      <td>0.882787</td>\n",
       "    </tr>\n",
       "    <tr>\n",
       "      <th>GradientBoostingClassifier</th>\n",
       "      <td>0.872770</td>\n",
       "      <td>0.925374</td>\n",
       "      <td>0.836136</td>\n",
       "      <td>0.878495</td>\n",
       "    </tr>\n",
       "    <tr>\n",
       "      <th>KNeighborsClassifier</th>\n",
       "      <td>0.827092</td>\n",
       "      <td>0.683210</td>\n",
       "      <td>0.956473</td>\n",
       "      <td>0.797071</td>\n",
       "    </tr>\n",
       "    <tr>\n",
       "      <th>BernoulliNB</th>\n",
       "      <td>0.745881</td>\n",
       "      <td>0.739946</td>\n",
       "      <td>0.746543</td>\n",
       "      <td>0.743230</td>\n",
       "    </tr>\n",
       "    <tr>\n",
       "      <th>LogisticRegression</th>\n",
       "      <td>0.597103</td>\n",
       "      <td>0.596790</td>\n",
       "      <td>0.594303</td>\n",
       "      <td>0.595544</td>\n",
       "    </tr>\n",
       "    <tr>\n",
       "      <th>GaussianNB</th>\n",
       "      <td>0.509241</td>\n",
       "      <td>0.027701</td>\n",
       "      <td>0.647555</td>\n",
       "      <td>0.053129</td>\n",
       "    </tr>\n",
       "  </tbody>\n",
       "</table>\n",
       "</div>"
      ],
      "text/plain": [
       "                            Accuracy  Precision    Recall        F1\n",
       "RandomForestClassifier      0.926857   0.967935  0.893729  0.929353\n",
       "DecisionTreeClassifier      0.884674   0.873760  0.892002  0.882787\n",
       "GradientBoostingClassifier  0.872770   0.925374  0.836136  0.878495\n",
       "KNeighborsClassifier        0.827092   0.683210  0.956473  0.797071\n",
       "BernoulliNB                 0.745881   0.739946  0.746543  0.743230\n",
       "LogisticRegression          0.597103   0.596790  0.594303  0.595544\n",
       "GaussianNB                  0.509241   0.027701  0.647555  0.053129"
      ]
     },
     "execution_count": 61,
     "metadata": {},
     "output_type": "execute_result"
    }
   ],
   "source": [
    "algo_test(x,y)"
   ]
  },
  {
   "cell_type": "markdown",
   "metadata": {},
   "source": [
    "## Sonuç\n",
    "\n",
    "Bu projede bir müşteriye kredi verilip verilmeyeceğini tahmin eden model üzerinde çalışılmış ve en yüksek doğruluk skoru `Random Forest Classifier` modelinde görülmüştür."
   ]
  }
 ],
 "metadata": {
  "colab": {
   "authorship_tag": "ABX9TyNdYp9MljHqpciEdYLhDX69",
   "mount_file_id": "1MD4IF_FtbhhhehnyNh8cnaUmvQhtqc-U",
   "provenance": []
  },
  "kernelspec": {
   "display_name": "Python 3 (ipykernel)",
   "language": "python",
   "name": "python3"
  },
  "language_info": {
   "codemirror_mode": {
    "name": "ipython",
    "version": 3
   },
   "file_extension": ".py",
   "mimetype": "text/x-python",
   "name": "python",
   "nbconvert_exporter": "python",
   "pygments_lexer": "ipython3",
   "version": "3.12.7"
  }
 },
 "nbformat": 4,
 "nbformat_minor": 4
}
