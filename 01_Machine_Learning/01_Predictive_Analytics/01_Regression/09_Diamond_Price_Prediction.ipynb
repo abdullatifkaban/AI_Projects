{
 "cells": [
  {
   "cell_type": "markdown",
   "id": "500b5f48-aff4-458b-b04c-5e28ad437f0e",
   "metadata": {},
   "source": [
    "# Diamond Price Prediction\n",
    "\n",
    "Bu projede elmas özelliklerinden faydalanarak fiyatı tahmin edilmeye çalışılacaktır.\n",
    "<br>Projede kullanılan veriler <a href=\"https://thecleverprogrammer.com/2022/09/26/diamond-price-analysis-using-python/\" target=\"_blank\">\n",
    "buradan</a> temin edilmiştir.\n",
    "<br>\n",
    "<img src=\"https://www.bilgiustam.com/resimler/2017/12/10841_elmas-05.jpg\" width=\"200px\">\n",
    "<br>Tablodaki sütunlar aşağıdaki gibi isimlendirilmiştir:\n",
    "* price: ABD doları cinsinden fiyatı\n",
    "* carat: Pırlantanın karat ağırlığı\n",
    "* cut: Kesim kalitesi (Fair, Good, Very Good, Premium, Ideal)\n",
    "* color: Elmas rengi, J'den (en kötü) D'ye (en iyi)\n",
    "* clarity: Pırlantanın berraklık derecesi (I1 (en kötü), SI2, SI1, VS2, VS1, VVS2, VVS1, IF (en iyi))\n",
    "* x: mm cinsinden uzunluk (0--10,74)\n",
    "* y: mm cinsinden genişlik (0--58,9)\n",
    "* z: mm cinsinden derinlik (0--31,8)\n",
    "* depth: Toplam derinlik yüzdesi = z / ortalama(x, y) = 2 * z / (x + y) (43--79)\n",
    "* table: En geniş noktaya göre elmasın üst kısmının tabla genişliği (43--95)\n",
    "\n",
    "<b>Amaç:</b> Elmas özelliklerikullanılarak fiyatı tahmin edecek Regression modeli geliştirmekmiştir.liştirmekmiştir.ak belirtilmiştir.\n",
    "\n"
   ]
  },
  {
   "cell_type": "code",
   "execution_count": 1,
   "id": "6fbbdf17-0746-476f-a4ee-f0f6f3a71b93",
   "metadata": {},
   "outputs": [],
   "source": [
    "import pandas as pd\n",
    "import numpy as np\n",
    "import seaborn as sns\n",
    "import warnings\n",
    "warnings.filterwarnings(\"ignore\")"
   ]
  },
  {
   "cell_type": "code",
   "execution_count": 2,
   "id": "ea747d65-5d53-478c-89c7-633400dae29e",
   "metadata": {},
   "outputs": [],
   "source": [
    "df=pd.read_csv(\"diamonds.csv\", index_col=0)"
   ]
  },
  {
   "cell_type": "markdown",
   "id": "b804e647-ac05-41f7-b93f-8339abac514e",
   "metadata": {},
   "source": [
    "## Keşfedici Veri Analizi (EDA)"
   ]
  },
  {
   "cell_type": "code",
   "execution_count": 3,
   "id": "28cdb47d-fa2e-4448-98df-e12fa0d00643",
   "metadata": {},
   "outputs": [
    {
     "data": {
      "text/html": [
       "<div>\n",
       "<style scoped>\n",
       "    .dataframe tbody tr th:only-of-type {\n",
       "        vertical-align: middle;\n",
       "    }\n",
       "\n",
       "    .dataframe tbody tr th {\n",
       "        vertical-align: top;\n",
       "    }\n",
       "\n",
       "    .dataframe thead th {\n",
       "        text-align: right;\n",
       "    }\n",
       "</style>\n",
       "<table border=\"1\" class=\"dataframe\">\n",
       "  <thead>\n",
       "    <tr style=\"text-align: right;\">\n",
       "      <th></th>\n",
       "      <th>carat</th>\n",
       "      <th>cut</th>\n",
       "      <th>color</th>\n",
       "      <th>clarity</th>\n",
       "      <th>depth</th>\n",
       "      <th>table</th>\n",
       "      <th>price</th>\n",
       "      <th>x</th>\n",
       "      <th>y</th>\n",
       "      <th>z</th>\n",
       "    </tr>\n",
       "  </thead>\n",
       "  <tbody>\n",
       "    <tr>\n",
       "      <th>51784</th>\n",
       "      <td>0.81</td>\n",
       "      <td>Fair</td>\n",
       "      <td>I</td>\n",
       "      <td>VS2</td>\n",
       "      <td>64.6</td>\n",
       "      <td>59.0</td>\n",
       "      <td>2414</td>\n",
       "      <td>5.83</td>\n",
       "      <td>5.78</td>\n",
       "      <td>3.75</td>\n",
       "    </tr>\n",
       "    <tr>\n",
       "      <th>36276</th>\n",
       "      <td>0.30</td>\n",
       "      <td>Ideal</td>\n",
       "      <td>G</td>\n",
       "      <td>SI1</td>\n",
       "      <td>62.0</td>\n",
       "      <td>58.0</td>\n",
       "      <td>477</td>\n",
       "      <td>4.27</td>\n",
       "      <td>4.29</td>\n",
       "      <td>2.65</td>\n",
       "    </tr>\n",
       "    <tr>\n",
       "      <th>39326</th>\n",
       "      <td>0.30</td>\n",
       "      <td>Ideal</td>\n",
       "      <td>E</td>\n",
       "      <td>VVS1</td>\n",
       "      <td>61.7</td>\n",
       "      <td>57.0</td>\n",
       "      <td>1071</td>\n",
       "      <td>4.32</td>\n",
       "      <td>4.34</td>\n",
       "      <td>2.67</td>\n",
       "    </tr>\n",
       "    <tr>\n",
       "      <th>5170</th>\n",
       "      <td>0.90</td>\n",
       "      <td>Very Good</td>\n",
       "      <td>H</td>\n",
       "      <td>SI1</td>\n",
       "      <td>61.7</td>\n",
       "      <td>57.0</td>\n",
       "      <td>3772</td>\n",
       "      <td>6.21</td>\n",
       "      <td>6.26</td>\n",
       "      <td>3.85</td>\n",
       "    </tr>\n",
       "    <tr>\n",
       "      <th>28960</th>\n",
       "      <td>0.31</td>\n",
       "      <td>Very Good</td>\n",
       "      <td>I</td>\n",
       "      <td>VS2</td>\n",
       "      <td>60.8</td>\n",
       "      <td>60.0</td>\n",
       "      <td>435</td>\n",
       "      <td>4.37</td>\n",
       "      <td>4.42</td>\n",
       "      <td>2.67</td>\n",
       "    </tr>\n",
       "  </tbody>\n",
       "</table>\n",
       "</div>"
      ],
      "text/plain": [
       "       carat        cut color clarity  depth  table  price     x     y     z\n",
       "51784   0.81       Fair     I     VS2   64.6   59.0   2414  5.83  5.78  3.75\n",
       "36276   0.30      Ideal     G     SI1   62.0   58.0    477  4.27  4.29  2.65\n",
       "39326   0.30      Ideal     E    VVS1   61.7   57.0   1071  4.32  4.34  2.67\n",
       "5170    0.90  Very Good     H     SI1   61.7   57.0   3772  6.21  6.26  3.85\n",
       "28960   0.31  Very Good     I     VS2   60.8   60.0    435  4.37  4.42  2.67"
      ]
     },
     "execution_count": 3,
     "metadata": {},
     "output_type": "execute_result"
    }
   ],
   "source": [
    "df.sample(5)"
   ]
  },
  {
   "cell_type": "code",
   "execution_count": 4,
   "id": "35b7208c-eabb-4b19-b2f1-a3ff8367f351",
   "metadata": {},
   "outputs": [
    {
     "name": "stdout",
     "output_type": "stream",
     "text": [
      "<class 'pandas.core.frame.DataFrame'>\n",
      "Index: 53940 entries, 1 to 53940\n",
      "Data columns (total 10 columns):\n",
      " #   Column   Non-Null Count  Dtype  \n",
      "---  ------   --------------  -----  \n",
      " 0   carat    53940 non-null  float64\n",
      " 1   cut      53940 non-null  object \n",
      " 2   color    53940 non-null  object \n",
      " 3   clarity  53940 non-null  object \n",
      " 4   depth    53940 non-null  float64\n",
      " 5   table    53940 non-null  float64\n",
      " 6   price    53940 non-null  int64  \n",
      " 7   x        53940 non-null  float64\n",
      " 8   y        53940 non-null  float64\n",
      " 9   z        53940 non-null  float64\n",
      "dtypes: float64(6), int64(1), object(3)\n",
      "memory usage: 4.5+ MB\n"
     ]
    }
   ],
   "source": [
    "df.info()"
   ]
  },
  {
   "cell_type": "markdown",
   "id": "632512b1-97b5-4145-9761-dc43a1032fac",
   "metadata": {},
   "source": [
    "### Kategori alanlarını sayıya çevilerim"
   ]
  },
  {
   "cell_type": "code",
   "execution_count": 5,
   "id": "170d0a37-9f35-4705-ad66-10ca7e7027da",
   "metadata": {},
   "outputs": [
    {
     "data": {
      "text/plain": [
       "cut\n",
       "Ideal        21551\n",
       "Premium      13791\n",
       "Very Good    12082\n",
       "Good          4906\n",
       "Fair          1610\n",
       "Name: count, dtype: int64"
      ]
     },
     "execution_count": 5,
     "metadata": {},
     "output_type": "execute_result"
    }
   ],
   "source": [
    "df[\"cut\"].value_counts()"
   ]
  },
  {
   "cell_type": "code",
   "execution_count": 6,
   "id": "6558d693-1af1-4859-a808-602a2be9bc9c",
   "metadata": {},
   "outputs": [],
   "source": [
    "d={\"Fair\":1, \"Good\":2, \"Very Good\":3, \"Premium\":4, \"Ideal\":5}\n",
    "df[\"cut\"]=df[\"cut\"].map(d)"
   ]
  },
  {
   "cell_type": "code",
   "execution_count": 7,
   "id": "d552e785-ea0f-4c14-8727-1cf81565972e",
   "metadata": {},
   "outputs": [
    {
     "data": {
      "text/plain": [
       "color\n",
       "G    11292\n",
       "E     9797\n",
       "F     9542\n",
       "H     8304\n",
       "D     6775\n",
       "I     5422\n",
       "J     2808\n",
       "Name: count, dtype: int64"
      ]
     },
     "execution_count": 7,
     "metadata": {},
     "output_type": "execute_result"
    }
   ],
   "source": [
    "df[\"color\"].value_counts()"
   ]
  },
  {
   "cell_type": "code",
   "execution_count": 8,
   "id": "8d8e5e4a-890b-42c2-9a3a-131453b9e5aa",
   "metadata": {},
   "outputs": [],
   "source": [
    "d={\"D\":7, \"E\":6, \"F\":5, \"G\":4, \"H\":4, \"I\":3, \"J\":1}\n",
    "df[\"color\"]=df[\"color\"].map(d)"
   ]
  },
  {
   "cell_type": "code",
   "execution_count": 9,
   "id": "31991c8a-b719-4532-b0ef-a8658285fc43",
   "metadata": {},
   "outputs": [
    {
     "data": {
      "text/plain": [
       "clarity\n",
       "SI1     13065\n",
       "VS2     12258\n",
       "SI2      9194\n",
       "VS1      8171\n",
       "VVS2     5066\n",
       "VVS1     3655\n",
       "IF       1790\n",
       "I1        741\n",
       "Name: count, dtype: int64"
      ]
     },
     "execution_count": 9,
     "metadata": {},
     "output_type": "execute_result"
    }
   ],
   "source": [
    "df[\"clarity\"].value_counts()"
   ]
  },
  {
   "cell_type": "code",
   "execution_count": 10,
   "id": "4f61f762-b45b-4e56-88f9-04c9ec3252ef",
   "metadata": {},
   "outputs": [],
   "source": [
    "d={\"IF\":8, \"VVS1\":7, \"VVS2\":6, \"VS1\":5, \"VS2\":4, \"SI1\":3, \"SI2\":2, \"I1\":1}\n",
    "df[\"clarity\"]=df[\"clarity\"].map(d)"
   ]
  },
  {
   "cell_type": "markdown",
   "id": "dcc85db3-ae8d-4e2b-8a61-539ea7fee92a",
   "metadata": {},
   "source": [
    "### Alanlar arasındaki korelasyona bakalım"
   ]
  },
  {
   "cell_type": "code",
   "execution_count": 11,
   "id": "fb18fc76-9a27-4bf3-9f05-49a4ba8f97e9",
   "metadata": {},
   "outputs": [
    {
     "data": {
      "text/plain": [
       "<Axes: >"
      ]
     },
     "execution_count": 11,
     "metadata": {},
     "output_type": "execute_result"
    },
    {
     "data": {
      "image/png": "[encoded data removed]",
      "text/plain": [
       "<Figure size 640x480 with 2 Axes>"
      ]
     },
     "metadata": {},
     "output_type": "display_data"
    }
   ],
   "source": [
    "sns.heatmap(df.corr(numeric_only=True), annot=True)"
   ]
  },
  {
   "cell_type": "code",
   "execution_count": 12,
   "id": "7b8aaef0-074f-453c-9d0d-046768069db2",
   "metadata": {},
   "outputs": [],
   "source": [
    "# x, y, z alanları neredeyse birbirlerinin aynı. Bu alanları birleştirelim\n",
    "df[\"size\"]=df[\"x\"]*df[\"y\"]*df[\"z\"]"
   ]
  },
  {
   "cell_type": "code",
   "execution_count": 13,
   "id": "3c2a8706-0bee-4dfc-ae29-a9824be71a57",
   "metadata": {},
   "outputs": [
    {
     "data": {
      "text/html": [
       "<div>\n",
       "<style scoped>\n",
       "    .dataframe tbody tr th:only-of-type {\n",
       "        vertical-align: middle;\n",
       "    }\n",
       "\n",
       "    .dataframe tbody tr th {\n",
       "        vertical-align: top;\n",
       "    }\n",
       "\n",
       "    .dataframe thead th {\n",
       "        text-align: right;\n",
       "    }\n",
       "</style>\n",
       "<table border=\"1\" class=\"dataframe\">\n",
       "  <thead>\n",
       "    <tr style=\"text-align: right;\">\n",
       "      <th></th>\n",
       "      <th>carat</th>\n",
       "      <th>cut</th>\n",
       "      <th>color</th>\n",
       "      <th>clarity</th>\n",
       "      <th>depth</th>\n",
       "      <th>table</th>\n",
       "      <th>price</th>\n",
       "      <th>x</th>\n",
       "      <th>y</th>\n",
       "      <th>z</th>\n",
       "      <th>size</th>\n",
       "    </tr>\n",
       "  </thead>\n",
       "  <tbody>\n",
       "    <tr>\n",
       "      <th>count</th>\n",
       "      <td>53940.000000</td>\n",
       "      <td>53940.000000</td>\n",
       "      <td>53940.000000</td>\n",
       "      <td>53940.000000</td>\n",
       "      <td>53940.000000</td>\n",
       "      <td>53940.000000</td>\n",
       "      <td>53940.000000</td>\n",
       "      <td>53940.000000</td>\n",
       "      <td>53940.000000</td>\n",
       "      <td>53940.000000</td>\n",
       "      <td>53940.000000</td>\n",
       "    </tr>\n",
       "    <tr>\n",
       "      <th>mean</th>\n",
       "      <td>0.797940</td>\n",
       "      <td>3.904097</td>\n",
       "      <td>4.660271</td>\n",
       "      <td>4.051020</td>\n",
       "      <td>61.749405</td>\n",
       "      <td>57.457184</td>\n",
       "      <td>3932.799722</td>\n",
       "      <td>5.731157</td>\n",
       "      <td>5.734526</td>\n",
       "      <td>3.538734</td>\n",
       "      <td>129.849403</td>\n",
       "    </tr>\n",
       "    <tr>\n",
       "      <th>std</th>\n",
       "      <td>0.474011</td>\n",
       "      <td>1.116600</td>\n",
       "      <td>1.472059</td>\n",
       "      <td>1.647136</td>\n",
       "      <td>1.432621</td>\n",
       "      <td>2.234491</td>\n",
       "      <td>3989.439738</td>\n",
       "      <td>1.121761</td>\n",
       "      <td>1.142135</td>\n",
       "      <td>0.705699</td>\n",
       "      <td>78.245262</td>\n",
       "    </tr>\n",
       "    <tr>\n",
       "      <th>min</th>\n",
       "      <td>0.200000</td>\n",
       "      <td>1.000000</td>\n",
       "      <td>1.000000</td>\n",
       "      <td>1.000000</td>\n",
       "      <td>43.000000</td>\n",
       "      <td>43.000000</td>\n",
       "      <td>326.000000</td>\n",
       "      <td>0.000000</td>\n",
       "      <td>0.000000</td>\n",
       "      <td>0.000000</td>\n",
       "      <td>0.000000</td>\n",
       "    </tr>\n",
       "    <tr>\n",
       "      <th>25%</th>\n",
       "      <td>0.400000</td>\n",
       "      <td>3.000000</td>\n",
       "      <td>4.000000</td>\n",
       "      <td>3.000000</td>\n",
       "      <td>61.000000</td>\n",
       "      <td>56.000000</td>\n",
       "      <td>950.000000</td>\n",
       "      <td>4.710000</td>\n",
       "      <td>4.720000</td>\n",
       "      <td>2.910000</td>\n",
       "      <td>65.136830</td>\n",
       "    </tr>\n",
       "    <tr>\n",
       "      <th>50%</th>\n",
       "      <td>0.700000</td>\n",
       "      <td>4.000000</td>\n",
       "      <td>4.000000</td>\n",
       "      <td>4.000000</td>\n",
       "      <td>61.800000</td>\n",
       "      <td>57.000000</td>\n",
       "      <td>2401.000000</td>\n",
       "      <td>5.700000</td>\n",
       "      <td>5.710000</td>\n",
       "      <td>3.530000</td>\n",
       "      <td>114.808572</td>\n",
       "    </tr>\n",
       "    <tr>\n",
       "      <th>75%</th>\n",
       "      <td>1.040000</td>\n",
       "      <td>5.000000</td>\n",
       "      <td>6.000000</td>\n",
       "      <td>5.000000</td>\n",
       "      <td>62.500000</td>\n",
       "      <td>59.000000</td>\n",
       "      <td>5324.250000</td>\n",
       "      <td>6.540000</td>\n",
       "      <td>6.540000</td>\n",
       "      <td>4.040000</td>\n",
       "      <td>170.842451</td>\n",
       "    </tr>\n",
       "    <tr>\n",
       "      <th>max</th>\n",
       "      <td>5.010000</td>\n",
       "      <td>5.000000</td>\n",
       "      <td>7.000000</td>\n",
       "      <td>8.000000</td>\n",
       "      <td>79.000000</td>\n",
       "      <td>95.000000</td>\n",
       "      <td>18823.000000</td>\n",
       "      <td>10.740000</td>\n",
       "      <td>58.900000</td>\n",
       "      <td>31.800000</td>\n",
       "      <td>3840.598060</td>\n",
       "    </tr>\n",
       "  </tbody>\n",
       "</table>\n",
       "</div>"
      ],
      "text/plain": [
       "              carat           cut         color       clarity         depth  \\\n",
       "count  53940.000000  53940.000000  53940.000000  53940.000000  53940.000000   \n",
       "mean       0.797940      3.904097      4.660271      4.051020     61.749405   \n",
       "std        0.474011      1.116600      1.472059      1.647136      1.432621   \n",
       "min        0.200000      1.000000      1.000000      1.000000     43.000000   \n",
       "25%        0.400000      3.000000      4.000000      3.000000     61.000000   \n",
       "50%        0.700000      4.000000      4.000000      4.000000     61.800000   \n",
       "75%        1.040000      5.000000      6.000000      5.000000     62.500000   \n",
       "max        5.010000      5.000000      7.000000      8.000000     79.000000   \n",
       "\n",
       "              table         price             x             y             z  \\\n",
       "count  53940.000000  53940.000000  53940.000000  53940.000000  53940.000000   \n",
       "mean      57.457184   3932.799722      5.731157      5.734526      3.538734   \n",
       "std        2.234491   3989.439738      1.121761      1.142135      0.705699   \n",
       "min       43.000000    326.000000      0.000000      0.000000      0.000000   \n",
       "25%       56.000000    950.000000      4.710000      4.720000      2.910000   \n",
       "50%       57.000000   2401.000000      5.700000      5.710000      3.530000   \n",
       "75%       59.000000   5324.250000      6.540000      6.540000      4.040000   \n",
       "max       95.000000  18823.000000     10.740000     58.900000     31.800000   \n",
       "\n",
       "               size  \n",
       "count  53940.000000  \n",
       "mean     129.849403  \n",
       "std       78.245262  \n",
       "min        0.000000  \n",
       "25%       65.136830  \n",
       "50%      114.808572  \n",
       "75%      170.842451  \n",
       "max     3840.598060  "
      ]
     },
     "execution_count": 13,
     "metadata": {},
     "output_type": "execute_result"
    }
   ],
   "source": [
    "df.describe()"
   ]
  },
  {
   "cell_type": "code",
   "execution_count": 14,
   "id": "81afa97a-c4e9-45a2-b502-2e675392a4f2",
   "metadata": {},
   "outputs": [],
   "source": [
    "#boyutu 0 olanlar var. Onları çıkaralım\n",
    "df=df[df[\"size\"]>0]"
   ]
  },
  {
   "cell_type": "code",
   "execution_count": 15,
   "id": "605c4b19-7746-42d4-a757-319312d90411",
   "metadata": {},
   "outputs": [
    {
     "name": "stdout",
     "output_type": "stream",
     "text": [
      "<class 'pandas.core.frame.DataFrame'>\n",
      "Index: 53920 entries, 1 to 53940\n",
      "Data columns (total 11 columns):\n",
      " #   Column   Non-Null Count  Dtype  \n",
      "---  ------   --------------  -----  \n",
      " 0   carat    53920 non-null  float64\n",
      " 1   cut      53920 non-null  int64  \n",
      " 2   color    53920 non-null  int64  \n",
      " 3   clarity  53920 non-null  int64  \n",
      " 4   depth    53920 non-null  float64\n",
      " 5   table    53920 non-null  float64\n",
      " 6   price    53920 non-null  int64  \n",
      " 7   x        53920 non-null  float64\n",
      " 8   y        53920 non-null  float64\n",
      " 9   z        53920 non-null  float64\n",
      " 10  size     53920 non-null  float64\n",
      "dtypes: float64(7), int64(4)\n",
      "memory usage: 4.9 MB\n"
     ]
    }
   ],
   "source": [
    "df.info()"
   ]
  },
  {
   "cell_type": "code",
   "execution_count": 16,
   "id": "38320c3c-bcb5-4389-babe-0d4005d11ed1",
   "metadata": {},
   "outputs": [
    {
     "data": {
      "text/plain": [
       "<Axes: ylabel='size'>"
      ]
     },
     "execution_count": 16,
     "metadata": {},
     "output_type": "execute_result"
    },
    {
     "data": {
      "image/png": "[encoded data removed]",
      "text/plain": [
       "<Figure size 640x480 with 1 Axes>"
      ]
     },
     "metadata": {},
     "output_type": "display_data"
    }
   ],
   "source": [
    "sns.boxplot(y=df[\"size\"])"
   ]
  },
  {
   "cell_type": "code",
   "execution_count": 17,
   "id": "75655a2c-82a2-4be8-8dca-0a5e0a6e7f8a",
   "metadata": {},
   "outputs": [],
   "source": [
    "# Uç noktalar var. En uç olanı çıkaralım\n",
    "df=df[df[\"size\"]<1000]"
   ]
  },
  {
   "cell_type": "markdown",
   "id": "28334c82-5da6-4772-99c4-9c220a3364f6",
   "metadata": {},
   "source": [
    "## Modelleme"
   ]
  },
  {
   "cell_type": "code",
   "execution_count": 18,
   "id": "89f15621-1163-44c2-b0d9-cf8415fb1822",
   "metadata": {},
   "outputs": [],
   "source": [
    "from sklearn.linear_model import LinearRegression\n",
    "from sklearn.linear_model import Ridge,Lasso\n",
    "from sklearn.linear_model import ElasticNet\n",
    "from sklearn.neighbors import KNeighborsRegressor\n",
    "from sklearn.ensemble import GradientBoostingRegressor\n",
    "from sklearn.tree import ExtraTreeRegressor\n",
    "from sklearn.tree import DecisionTreeRegressor\n",
    "from xgboost import XGBRegressor\n",
    "from sklearn.model_selection import train_test_split\n",
    "from sklearn.metrics import mean_squared_error,r2_score,mean_absolute_error\n",
    "\n",
    "\n",
    "def algo_test(x,y):\n",
    "        L=LinearRegression()\n",
    "        R=Ridge()\n",
    "        Lass=Lasso()\n",
    "        E=ElasticNet()\n",
    "        ETR=ExtraTreeRegressor()\n",
    "        GBR=GradientBoostingRegressor()\n",
    "        kn=KNeighborsRegressor()\n",
    "        dt=DecisionTreeRegressor()\n",
    "        xgb=XGBRegressor()\n",
    "       \n",
    "        \n",
    "        algos=[L,R,Lass,E,ETR,GBR,kn,dt,xgb]\n",
    "        algo_names=['Linear','Ridge','Lasso','ElasticNet','Extra Tree','Gradient Boosting','KNeighborsRegressor','Decision Tree','XGBRegressor']\n",
    "        \n",
    "        x_train, x_test, y_train, y_test=train_test_split(x,y,test_size=.2,random_state=42)\n",
    "        \n",
    "        r_squared= []\n",
    "        rmse= []\n",
    "        mae= []\n",
    "        \n",
    "        #Hata ve doğruluk oranlarını bir tablo haline getirmek için bir dataframe oluşturuyorum\n",
    "        result=pd.DataFrame(columns=['R_Squared','RMSE','MAE'],index=algo_names)\n",
    "                \n",
    "        for algo in algos:\n",
    "            p=algo.fit(x_train,y_train).predict(x_test)\n",
    "            r_squared.append(r2_score(y_test,p))\n",
    "            rmse.append(mean_squared_error(y_test,p)**.5)\n",
    "            mae.append(mean_absolute_error(y_test,p))\n",
    "                 \n",
    "        #result adlı tabloya doğruluk ve hata oranlarımı yerleştiriyorum\n",
    "        result.R_Squared=r_squared\n",
    "        result.RMSE=rmse\n",
    "        result.MAE=mae\n",
    "        \n",
    "       #oluşturduğum result tablosunu doğruluk oranına (r2_score) göre sıralayıp dönüyor\n",
    "        rtable=result.sort_values('R_Squared',ascending=False)\n",
    "        return rtable"
   ]
  },
  {
   "cell_type": "code",
   "execution_count": 19,
   "id": "46384d93-9d6e-4899-bbe5-65113de1e32c",
   "metadata": {},
   "outputs": [],
   "source": [
    "x=df.drop([\"price\", \"x\", \"y\", \"z\"], axis=1)\n",
    "y=df[[\"price\"]]"
   ]
  },
  {
   "cell_type": "code",
   "execution_count": 20,
   "id": "b87633f4-d491-4ad6-b80d-2e289db6f9ec",
   "metadata": {},
   "outputs": [
    {
     "data": {
      "text/plain": [
       "((53919, 7), (53919, 1))"
      ]
     },
     "execution_count": 20,
     "metadata": {},
     "output_type": "execute_result"
    }
   ],
   "source": [
    "x.shape, y.shape"
   ]
  },
  {
   "cell_type": "code",
   "execution_count": 21,
   "id": "e2e8affc-5120-4c01-bb3c-fa19180f2906",
   "metadata": {},
   "outputs": [
    {
     "data": {
      "text/html": [
       "<div>\n",
       "<style scoped>\n",
       "    .dataframe tbody tr th:only-of-type {\n",
       "        vertical-align: middle;\n",
       "    }\n",
       "\n",
       "    .dataframe tbody tr th {\n",
       "        vertical-align: top;\n",
       "    }\n",
       "\n",
       "    .dataframe thead th {\n",
       "        text-align: right;\n",
       "    }\n",
       "</style>\n",
       "<table border=\"1\" class=\"dataframe\">\n",
       "  <thead>\n",
       "    <tr style=\"text-align: right;\">\n",
       "      <th></th>\n",
       "      <th>R_Squared</th>\n",
       "      <th>RMSE</th>\n",
       "      <th>MAE</th>\n",
       "    </tr>\n",
       "  </thead>\n",
       "  <tbody>\n",
       "    <tr>\n",
       "      <th>XGBRegressor</th>\n",
       "      <td>0.979152</td>\n",
       "      <td>577.686226</td>\n",
       "      <td>300.627168</td>\n",
       "    </tr>\n",
       "    <tr>\n",
       "      <th>Gradient Boosting</th>\n",
       "      <td>0.974546</td>\n",
       "      <td>638.332362</td>\n",
       "      <td>356.553538</td>\n",
       "    </tr>\n",
       "    <tr>\n",
       "      <th>Extra Tree</th>\n",
       "      <td>0.965561</td>\n",
       "      <td>742.489411</td>\n",
       "      <td>370.553474</td>\n",
       "    </tr>\n",
       "    <tr>\n",
       "      <th>Decision Tree</th>\n",
       "      <td>0.963740</td>\n",
       "      <td>761.863818</td>\n",
       "      <td>376.347088</td>\n",
       "    </tr>\n",
       "    <tr>\n",
       "      <th>KNeighborsRegressor</th>\n",
       "      <td>0.958559</td>\n",
       "      <td>814.475407</td>\n",
       "      <td>419.329432</td>\n",
       "    </tr>\n",
       "    <tr>\n",
       "      <th>Lasso</th>\n",
       "      <td>0.908295</td>\n",
       "      <td>1211.608059</td>\n",
       "      <td>850.688391</td>\n",
       "    </tr>\n",
       "    <tr>\n",
       "      <th>Ridge</th>\n",
       "      <td>0.908199</td>\n",
       "      <td>1212.236984</td>\n",
       "      <td>851.511098</td>\n",
       "    </tr>\n",
       "    <tr>\n",
       "      <th>Linear</th>\n",
       "      <td>0.908179</td>\n",
       "      <td>1212.370251</td>\n",
       "      <td>851.648601</td>\n",
       "    </tr>\n",
       "    <tr>\n",
       "      <th>ElasticNet</th>\n",
       "      <td>0.906304</td>\n",
       "      <td>1224.689016</td>\n",
       "      <td>831.320291</td>\n",
       "    </tr>\n",
       "  </tbody>\n",
       "</table>\n",
       "</div>"
      ],
      "text/plain": [
       "                     R_Squared         RMSE         MAE\n",
       "XGBRegressor          0.979152   577.686226  300.627168\n",
       "Gradient Boosting     0.974546   638.332362  356.553538\n",
       "Extra Tree            0.965561   742.489411  370.553474\n",
       "Decision Tree         0.963740   761.863818  376.347088\n",
       "KNeighborsRegressor   0.958559   814.475407  419.329432\n",
       "Lasso                 0.908295  1211.608059  850.688391\n",
       "Ridge                 0.908199  1212.236984  851.511098\n",
       "Linear                0.908179  1212.370251  851.648601\n",
       "ElasticNet            0.906304  1224.689016  831.320291"
      ]
     },
     "execution_count": 21,
     "metadata": {},
     "output_type": "execute_result"
    }
   ],
   "source": [
    "algo_test(x,y)"
   ]
  },
  {
   "cell_type": "markdown",
   "id": "1b2f3722-2026-4f32-949a-ae1b8e844f4c",
   "metadata": {},
   "source": [
    "### Feature Importance"
   ]
  },
  {
   "cell_type": "code",
   "execution_count": 22,
   "id": "ea8bf8c9-33aa-4055-b965-4470ce3d8538",
   "metadata": {},
   "outputs": [],
   "source": [
    "lr=LinearRegression()"
   ]
  },
  {
   "cell_type": "code",
   "execution_count": 23,
   "id": "2e70e5a1-de31-4c5d-b4bb-dbcdd4a0ffa3",
   "metadata": {},
   "outputs": [],
   "source": [
    "x_train, x_test, y_train, y_test=train_test_split(x,y,test_size=.2,random_state=42)"
   ]
  },
  {
   "cell_type": "code",
   "execution_count": 24,
   "id": "4b85c3be-5377-4e86-96ac-b7fd89a4b783",
   "metadata": {},
   "outputs": [],
   "source": [
    "model=lr.fit(x_train, y_train)"
   ]
  },
  {
   "cell_type": "code",
   "execution_count": 25,
   "id": "0cb0178e-4634-449a-951b-60a95a8e8520",
   "metadata": {},
   "outputs": [],
   "source": [
    "tahmin = model.predict(x_test)"
   ]
  },
  {
   "cell_type": "code",
   "execution_count": 26,
   "id": "7c6d7062-f8dc-4eb0-b06c-b69df8552997",
   "metadata": {},
   "outputs": [
    {
     "data": {
      "text/plain": [
       "0.9081792289459796"
      ]
     },
     "execution_count": 26,
     "metadata": {},
     "output_type": "execute_result"
    }
   ],
   "source": [
    "r2_score(y_test, tahmin)"
   ]
  },
  {
   "cell_type": "code",
   "execution_count": 27,
   "id": "c5d4d453-d732-4c7f-9b0b-3ba383a73c72",
   "metadata": {},
   "outputs": [
    {
     "data": {
      "text/plain": [
       "1212.3702506814677"
      ]
     },
     "execution_count": 27,
     "metadata": {},
     "output_type": "execute_result"
    }
   ],
   "source": [
    "mean_squared_error(y_test, tahmin) ** .5"
   ]
  },
  {
   "cell_type": "code",
   "execution_count": 28,
   "id": "ebc31985-fe37-48f7-a63d-4a9b873b3ce3",
   "metadata": {},
   "outputs": [
    {
     "data": {
      "text/html": [
       "<div>\n",
       "<style scoped>\n",
       "    .dataframe tbody tr th:only-of-type {\n",
       "        vertical-align: middle;\n",
       "    }\n",
       "\n",
       "    .dataframe tbody tr th {\n",
       "        vertical-align: top;\n",
       "    }\n",
       "\n",
       "    .dataframe thead th {\n",
       "        text-align: right;\n",
       "    }\n",
       "</style>\n",
       "<table border=\"1\" class=\"dataframe\">\n",
       "  <thead>\n",
       "    <tr style=\"text-align: right;\">\n",
       "      <th></th>\n",
       "      <th>Feature</th>\n",
       "      <th>Coefs</th>\n",
       "    </tr>\n",
       "  </thead>\n",
       "  <tbody>\n",
       "    <tr>\n",
       "      <th>0</th>\n",
       "      <td>carat</td>\n",
       "      <td>6996.752153</td>\n",
       "    </tr>\n",
       "    <tr>\n",
       "      <th>3</th>\n",
       "      <td>clarity</td>\n",
       "      <td>524.556361</td>\n",
       "    </tr>\n",
       "    <tr>\n",
       "      <th>2</th>\n",
       "      <td>color</td>\n",
       "      <td>360.110636</td>\n",
       "    </tr>\n",
       "    <tr>\n",
       "      <th>1</th>\n",
       "      <td>cut</td>\n",
       "      <td>118.165301</td>\n",
       "    </tr>\n",
       "    <tr>\n",
       "      <th>6</th>\n",
       "      <td>size</td>\n",
       "      <td>10.922189</td>\n",
       "    </tr>\n",
       "    <tr>\n",
       "      <th>5</th>\n",
       "      <td>table</td>\n",
       "      <td>-19.109938</td>\n",
       "    </tr>\n",
       "    <tr>\n",
       "      <th>4</th>\n",
       "      <td>depth</td>\n",
       "      <td>-34.987790</td>\n",
       "    </tr>\n",
       "  </tbody>\n",
       "</table>\n",
       "</div>"
      ],
      "text/plain": [
       "   Feature        Coefs\n",
       "0    carat  6996.752153\n",
       "3  clarity   524.556361\n",
       "2    color   360.110636\n",
       "1      cut   118.165301\n",
       "6     size    10.922189\n",
       "5    table   -19.109938\n",
       "4    depth   -34.987790"
      ]
     },
     "execution_count": 28,
     "metadata": {},
     "output_type": "execute_result"
    }
   ],
   "source": [
    "feature_importance=pd.DataFrame({\"Feature\":x_train.columns, \"Coefs\": lr.coef_[0]})\n",
    "feature_importance=feature_importance.sort_values(by=\"Coefs\", ascending=False)\n",
    "feature_importance"
   ]
  },
  {
   "cell_type": "code",
   "execution_count": 29,
   "id": "0d01f9b4-aad8-46d2-a569-64a0887af65d",
   "metadata": {
    "scrolled": true
   },
   "outputs": [
    {
     "data": {
      "image/png": "[encoded data removed]",
      "text/plain": [
       "<Figure size 600x300 with 1 Axes>"
      ]
     },
     "metadata": {},
     "output_type": "display_data"
    }
   ],
   "source": [
    "import matplotlib.pyplot as plt\n",
    "plt.figure(figsize=(6,3))\n",
    "plt.barh(feature_importance[\"Feature\"], feature_importance[\"Coefs\"]);\n",
    "plt.gca().invert_yaxis()"
   ]
  },
  {
   "cell_type": "code",
   "execution_count": 30,
   "id": "0f9fd18b-dffd-44d7-8654-e94885fb4c16",
   "metadata": {},
   "outputs": [
    {
     "data": {
      "text/html": [
       "<div>\n",
       "<style scoped>\n",
       "    .dataframe tbody tr th:only-of-type {\n",
       "        vertical-align: middle;\n",
       "    }\n",
       "\n",
       "    .dataframe tbody tr th {\n",
       "        vertical-align: top;\n",
       "    }\n",
       "\n",
       "    .dataframe thead th {\n",
       "        text-align: right;\n",
       "    }\n",
       "</style>\n",
       "<table border=\"1\" class=\"dataframe\">\n",
       "  <thead>\n",
       "    <tr style=\"text-align: right;\">\n",
       "      <th></th>\n",
       "      <th>price</th>\n",
       "    </tr>\n",
       "  </thead>\n",
       "  <tbody>\n",
       "    <tr>\n",
       "      <th>34706</th>\n",
       "      <td>-976.194095</td>\n",
       "    </tr>\n",
       "    <tr>\n",
       "      <th>21100</th>\n",
       "      <td>595.580795</td>\n",
       "    </tr>\n",
       "    <tr>\n",
       "      <th>23686</th>\n",
       "      <td>1980.868893</td>\n",
       "    </tr>\n",
       "    <tr>\n",
       "      <th>39202</th>\n",
       "      <td>-1239.719315</td>\n",
       "    </tr>\n",
       "    <tr>\n",
       "      <th>35562</th>\n",
       "      <td>473.792305</td>\n",
       "    </tr>\n",
       "    <tr>\n",
       "      <th>...</th>\n",
       "      <td>...</td>\n",
       "    </tr>\n",
       "    <tr>\n",
       "      <th>6433</th>\n",
       "      <td>-1690.941105</td>\n",
       "    </tr>\n",
       "    <tr>\n",
       "      <th>14695</th>\n",
       "      <td>-448.878460</td>\n",
       "    </tr>\n",
       "    <tr>\n",
       "      <th>20509</th>\n",
       "      <td>-2946.367616</td>\n",
       "    </tr>\n",
       "    <tr>\n",
       "      <th>49623</th>\n",
       "      <td>1467.454379</td>\n",
       "    </tr>\n",
       "    <tr>\n",
       "      <th>45359</th>\n",
       "      <td>-600.063238</td>\n",
       "    </tr>\n",
       "  </tbody>\n",
       "</table>\n",
       "<p>10784 rows × 1 columns</p>\n",
       "</div>"
      ],
      "text/plain": [
       "             price\n",
       "34706  -976.194095\n",
       "21100   595.580795\n",
       "23686  1980.868893\n",
       "39202 -1239.719315\n",
       "35562   473.792305\n",
       "...            ...\n",
       "6433  -1690.941105\n",
       "14695  -448.878460\n",
       "20509 -2946.367616\n",
       "49623  1467.454379\n",
       "45359  -600.063238\n",
       "\n",
       "[10784 rows x 1 columns]"
      ]
     },
     "execution_count": 30,
     "metadata": {},
     "output_type": "execute_result"
    }
   ],
   "source": [
    "residuals=y_test-tahmin\n",
    "residuals"
   ]
  },
  {
   "cell_type": "code",
   "execution_count": 31,
   "id": "a405a04d-4365-473e-9541-45ab32c24f0f",
   "metadata": {},
   "outputs": [
    {
     "data": {
      "text/plain": [
       "<Axes: ylabel='Count'>"
      ]
     },
     "execution_count": 31,
     "metadata": {},
     "output_type": "execute_result"
    },
    {
     "data": {
      "image/png": "[encoded data removed]",
      "text/plain": [
       "<Figure size 640x480 with 1 Axes>"
      ]
     },
     "metadata": {},
     "output_type": "display_data"
    }
   ],
   "source": [
    "sns.histplot(residuals, bins=50)"
   ]
  },
  {
   "cell_type": "code",
   "execution_count": 32,
   "id": "e1918832-50d1-43a7-855d-76ad28a34b9c",
   "metadata": {},
   "outputs": [
    {
     "data": {
      "text/plain": [
       "<Axes: xlabel='price', ylabel='Density'>"
      ]
     },
     "execution_count": 32,
     "metadata": {},
     "output_type": "execute_result"
    },
    {
     "data": {
      "image/png": "[encoded data removed]",
      "text/plain": [
       "<Figure size 640x480 with 1 Axes>"
      ]
     },
     "metadata": {},
     "output_type": "display_data"
    }
   ],
   "source": [
    "sns.kdeplot(x=residuals[\"price\"], fill=True)"
   ]
  },
  {
   "cell_type": "markdown",
   "id": "ae912690-9c7f-4be3-8f4c-85ea1ccd176e",
   "metadata": {
    "scrolled": true
   },
   "source": [
    "# Sonuç\n",
    "Bu projede bir elmasın fiyatı tahmin edilmeye çalışıldı. Geliştirilen Regression modelinde en yüksek başarı oranı XGBRegressor modeli ile yaklaşık %98 olarak hesaplanmıştır.\n",
    "<br> Bu modeli yeniden eğiterek kaydedip Streamlit uygulaması için kullanalım."
   ]
  },
  {
   "cell_type": "code",
   "execution_count": 33,
   "id": "b249ee08-fe94-4ab4-97b7-2327abc163fe",
   "metadata": {},
   "outputs": [],
   "source": [
    "xgb=XGBRegressor()"
   ]
  },
  {
   "cell_type": "code",
   "execution_count": 34,
   "id": "dcac6167-f355-47da-97bd-7deb8222b556",
   "metadata": {},
   "outputs": [],
   "source": [
    "model=xgb.fit(x,y)"
   ]
  },
  {
   "cell_type": "code",
   "execution_count": 35,
   "id": "6cdf3fe7-acd2-4649-829e-af60a678cef1",
   "metadata": {},
   "outputs": [],
   "source": [
    "import pickle\n",
    "pickle.dump(model, open('diamond_model.pkl', 'wb'))"
   ]
  },
  {
   "cell_type": "code",
   "execution_count": 36,
   "id": "13d4ecca-daa9-40f6-8ba7-ec81730d9c85",
   "metadata": {},
   "outputs": [
    {
     "data": {
      "text/plain": [
       "Index(['carat', 'cut', 'color', 'clarity', 'depth', 'table', 'size'], dtype='object')"
      ]
     },
     "execution_count": 36,
     "metadata": {},
     "output_type": "execute_result"
    }
   ],
   "source": [
    "x.columns"
   ]
  },
  {
   "cell_type": "code",
   "execution_count": 37,
   "id": "31ad5f45-d831-45a2-9fa4-6fbb0839e0a3",
   "metadata": {},
   "outputs": [
    {
     "data": {
      "text/plain": [
       "array([994.4142], dtype=float32)"
      ]
     },
     "execution_count": 37,
     "metadata": {},
     "output_type": "execute_result"
    }
   ],
   "source": [
    "o=[[0.31,4,5,8,61.6,58.0,50.711228]]\n",
    "model.predict(o)"
   ]
  },
  {
   "cell_type": "markdown",
   "id": "1526398c-3e1f-4372-9496-e26ab119347f",
   "metadata": {},
   "source": [
    "Hazırlanan uygulama <a href=\"https://huggingface.co/spaces/abdullatifkaban/Diamond_Price_Prediction\" target=_blank>\n",
    "<u>Hugging Face</u></a> üzerinden yayımlanmıştır."
   ]
  }
 ],
 "metadata": {
  "kernelspec": {
   "display_name": "Python 3 (ipykernel)",
   "language": "python",
   "name": "python3"
  },
  "language_info": {
   "codemirror_mode": {
    "name": "ipython",
    "version": 3
   },
   "file_extension": ".py",
   "mimetype": "text/x-python",
   "name": "python",
   "nbconvert_exporter": "python",
   "pygments_lexer": "ipython3",
   "version": "3.11.8"
  }
 },
 "nbformat": 4,
 "nbformat_minor": 5
}
