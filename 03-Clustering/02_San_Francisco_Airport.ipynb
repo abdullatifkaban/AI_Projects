{
 "cells": [
  {
   "cell_type": "markdown",
   "id": "9c185331-b44a-45ab-a0c5-4f37b809cb9c",
   "metadata": {},
   "source": [
    "# San Francisco Airport\n",
    "* Clustering\n",
    "* Hava yolları uçuş sayısına ve yolcu sayısına göre kümeleme yapılacak"
   ]
  },
  {
   "cell_type": "code",
   "execution_count": 2,
   "id": "9fdafb45-55ef-4cd8-87f6-fc89c44bdbda",
   "metadata": {
    "scrolled": true
   },
   "outputs": [],
   "source": [
    "import pandas as pd\n",
    "\n",
    "import warnings\n",
    "warnings.simplefilter(\"ignore\")"
   ]
  },
  {
   "cell_type": "code",
   "execution_count": 3,
   "id": "7f8dab3e-08fe-4d57-b8ed-03b5431b3e41",
   "metadata": {},
   "outputs": [],
   "source": [
    "df=pd.read_csv(\"air-traffic-passenger-statistics.csv\")"
   ]
  },
  {
   "cell_type": "code",
   "execution_count": 4,
   "id": "6d7871a0-e552-48b1-a573-dc026a7d7207",
   "metadata": {},
   "outputs": [
    {
     "data": {
      "text/html": [
       "<div>\n",
       "<style scoped>\n",
       "    .dataframe tbody tr th:only-of-type {\n",
       "        vertical-align: middle;\n",
       "    }\n",
       "\n",
       "    .dataframe tbody tr th {\n",
       "        vertical-align: top;\n",
       "    }\n",
       "\n",
       "    .dataframe thead th {\n",
       "        text-align: right;\n",
       "    }\n",
       "</style>\n",
       "<table border=\"1\" class=\"dataframe\">\n",
       "  <thead>\n",
       "    <tr style=\"text-align: right;\">\n",
       "      <th></th>\n",
       "      <th>Activity Period</th>\n",
       "      <th>Operating Airline</th>\n",
       "      <th>Operating Airline IATA Code</th>\n",
       "      <th>Published Airline</th>\n",
       "      <th>Published Airline IATA Code</th>\n",
       "      <th>GEO Summary</th>\n",
       "      <th>GEO Region</th>\n",
       "      <th>Activity Type Code</th>\n",
       "      <th>Price Category Code</th>\n",
       "      <th>Terminal</th>\n",
       "      <th>Boarding Area</th>\n",
       "      <th>Passenger Count</th>\n",
       "    </tr>\n",
       "  </thead>\n",
       "  <tbody>\n",
       "    <tr>\n",
       "      <th>0</th>\n",
       "      <td>200507</td>\n",
       "      <td>ATA Airlines</td>\n",
       "      <td>TZ</td>\n",
       "      <td>ATA Airlines</td>\n",
       "      <td>TZ</td>\n",
       "      <td>Domestic</td>\n",
       "      <td>US</td>\n",
       "      <td>Deplaned</td>\n",
       "      <td>Low Fare</td>\n",
       "      <td>Terminal 1</td>\n",
       "      <td>B</td>\n",
       "      <td>27271</td>\n",
       "    </tr>\n",
       "    <tr>\n",
       "      <th>1</th>\n",
       "      <td>200507</td>\n",
       "      <td>ATA Airlines</td>\n",
       "      <td>TZ</td>\n",
       "      <td>ATA Airlines</td>\n",
       "      <td>TZ</td>\n",
       "      <td>Domestic</td>\n",
       "      <td>US</td>\n",
       "      <td>Enplaned</td>\n",
       "      <td>Low Fare</td>\n",
       "      <td>Terminal 1</td>\n",
       "      <td>B</td>\n",
       "      <td>29131</td>\n",
       "    </tr>\n",
       "    <tr>\n",
       "      <th>2</th>\n",
       "      <td>200507</td>\n",
       "      <td>ATA Airlines</td>\n",
       "      <td>TZ</td>\n",
       "      <td>ATA Airlines</td>\n",
       "      <td>TZ</td>\n",
       "      <td>Domestic</td>\n",
       "      <td>US</td>\n",
       "      <td>Thru / Transit</td>\n",
       "      <td>Low Fare</td>\n",
       "      <td>Terminal 1</td>\n",
       "      <td>B</td>\n",
       "      <td>5415</td>\n",
       "    </tr>\n",
       "    <tr>\n",
       "      <th>3</th>\n",
       "      <td>200507</td>\n",
       "      <td>Air Canada</td>\n",
       "      <td>AC</td>\n",
       "      <td>Air Canada</td>\n",
       "      <td>AC</td>\n",
       "      <td>International</td>\n",
       "      <td>Canada</td>\n",
       "      <td>Deplaned</td>\n",
       "      <td>Other</td>\n",
       "      <td>Terminal 1</td>\n",
       "      <td>B</td>\n",
       "      <td>35156</td>\n",
       "    </tr>\n",
       "    <tr>\n",
       "      <th>4</th>\n",
       "      <td>200507</td>\n",
       "      <td>Air Canada</td>\n",
       "      <td>AC</td>\n",
       "      <td>Air Canada</td>\n",
       "      <td>AC</td>\n",
       "      <td>International</td>\n",
       "      <td>Canada</td>\n",
       "      <td>Enplaned</td>\n",
       "      <td>Other</td>\n",
       "      <td>Terminal 1</td>\n",
       "      <td>B</td>\n",
       "      <td>34090</td>\n",
       "    </tr>\n",
       "  </tbody>\n",
       "</table>\n",
       "</div>"
      ],
      "text/plain": [
       "   Activity Period Operating Airline Operating Airline IATA Code  \\\n",
       "0           200507      ATA Airlines                          TZ   \n",
       "1           200507      ATA Airlines                          TZ   \n",
       "2           200507      ATA Airlines                          TZ   \n",
       "3           200507        Air Canada                          AC   \n",
       "4           200507        Air Canada                          AC   \n",
       "\n",
       "  Published Airline Published Airline IATA Code    GEO Summary GEO Region  \\\n",
       "0      ATA Airlines                          TZ       Domestic         US   \n",
       "1      ATA Airlines                          TZ       Domestic         US   \n",
       "2      ATA Airlines                          TZ       Domestic         US   \n",
       "3        Air Canada                          AC  International     Canada   \n",
       "4        Air Canada                          AC  International     Canada   \n",
       "\n",
       "  Activity Type Code Price Category Code    Terminal Boarding Area  \\\n",
       "0           Deplaned            Low Fare  Terminal 1             B   \n",
       "1           Enplaned            Low Fare  Terminal 1             B   \n",
       "2     Thru / Transit            Low Fare  Terminal 1             B   \n",
       "3           Deplaned               Other  Terminal 1             B   \n",
       "4           Enplaned               Other  Terminal 1             B   \n",
       "\n",
       "   Passenger Count  \n",
       "0            27271  \n",
       "1            29131  \n",
       "2             5415  \n",
       "3            35156  \n",
       "4            34090  "
      ]
     },
     "execution_count": 4,
     "metadata": {},
     "output_type": "execute_result"
    }
   ],
   "source": [
    "df.head()"
   ]
  },
  {
   "cell_type": "markdown",
   "id": "e851873b-7e4d-4656-bae7-cc832417bfe5",
   "metadata": {},
   "source": [
    "### Havayollarına ait özellikleri çıkaralım"
   ]
  },
  {
   "cell_type": "code",
   "execution_count": 6,
   "id": "10e7cf30-81d7-4245-bd8e-4dc20c1fbe1f",
   "metadata": {},
   "outputs": [
    {
     "data": {
      "text/plain": [
       "Operating Airline\n",
       "ABC Aerolineas S.A. de C.V. dba Interjet      8\n",
       "ATA Airlines                                 44\n",
       "Aer Lingus                                  152\n",
       "Aeromexico                                  234\n",
       "Air Berlin                                   60\n",
       "                                           ... \n",
       "WOW Air                                      56\n",
       "WestJet Airlines                            135\n",
       "World Airways                                 3\n",
       "XL Airways France                            51\n",
       "Xtra Airways                                  2\n",
       "Name: count, Length: 89, dtype: int64"
      ]
     },
     "execution_count": 6,
     "metadata": {},
     "output_type": "execute_result"
    }
   ],
   "source": [
    "# Uçuş Sayısı\n",
    "nFlights = df[\"Operating Airline\"].value_counts()\n",
    "nFlights.sort_index(inplace=True)\n",
    "nFlights"
   ]
  },
  {
   "cell_type": "code",
   "execution_count": 9,
   "id": "4228030d-26e8-4e33-bb73-01091c8307d0",
   "metadata": {},
   "outputs": [
    {
     "data": {
      "text/plain": [
       "Operating Airline\n",
       "ATA Airlines                         41\n",
       "AirTran Airways                     226\n",
       "Alaska Airlines                     426\n",
       "Allegiant Air                        16\n",
       "American Airlines                   380\n",
       "American Eagle Airlines             106\n",
       "Ameriflight                          22\n",
       "Atlantic Southeast Airlines          22\n",
       "Atlas Air, Inc                        2\n",
       "Boeing Company                        1\n",
       "Compass Airlines                    205\n",
       "Delta Air Lines                     345\n",
       "ExpressJet Airlines                  32\n",
       "Frontier Airlines                   314\n",
       "Hawaiian Airlines                   312\n",
       "Horizon Air                         256\n",
       "Independence Air                     10\n",
       "JetBlue Airways                     305\n",
       "Mesa Airlines                       118\n",
       "Mesaba Airlines                      44\n",
       "Miami Air International              15\n",
       "Midwest Airlines                    116\n",
       "Northwest Airlines                  128\n",
       "Republic Airlines                    24\n",
       "Servisair                            34\n",
       "SkyWest Airlines                    737\n",
       "Southwest Airlines                  390\n",
       "Spirit Airlines                      24\n",
       "Sun Country Airlines                293\n",
       "Swissport USA                         6\n",
       "Trego Dugan Aviation                  2\n",
       "US Airways                          304\n",
       "United Airlines                     672\n",
       "United Airlines - Pre 07/01/2013    789\n",
       "Virgin America                      261\n",
       "World Airways                         1\n",
       "Xtra Airways                          2\n",
       "dtype: int64"
      ]
     },
     "execution_count": 9,
     "metadata": {},
     "output_type": "execute_result"
    }
   ],
   "source": [
    "# Yurtiçi Uçuş Sayısı\n",
    "nDomestic = df[df['GEO Summary'] == 'Domestic'].groupby('Operating Airline').size()\n",
    "nDomestic.sort_index(inplace=True)\n",
    "nDomestic"
   ]
  },
  {
   "cell_type": "code",
   "execution_count": 10,
   "id": "23ffdbd5-0d91-4f04-b5e5-08f77ea400cd",
   "metadata": {},
   "outputs": [
    {
     "data": {
      "text/plain": [
       "Operating Airline\n",
       "ABC Aerolineas S.A. de C.V. dba Interjet      8\n",
       "ATA Airlines                                  3\n",
       "Aer Lingus                                  152\n",
       "Aeromexico                                  234\n",
       "Air Berlin                                   60\n",
       "                                           ... \n",
       "Volaris Airlines                             48\n",
       "WOW Air                                      56\n",
       "WestJet Airlines                            135\n",
       "World Airways                                 2\n",
       "XL Airways France                            51\n",
       "Length: 65, dtype: int64"
      ]
     },
     "execution_count": 10,
     "metadata": {},
     "output_type": "execute_result"
    }
   ],
   "source": [
    "# Yurtdışı Uçuş Sayısı\n",
    "nInternational = df[df['GEO Summary'] == 'International'].groupby('Operating Airline').size()\n",
    "nInternational.sort_index(inplace=True)\n",
    "nInternational"
   ]
  },
  {
   "cell_type": "code",
   "execution_count": 7,
   "id": "f3b41b2c-5cc4-472a-bb87-05d5de7f5cb6",
   "metadata": {},
   "outputs": [
    {
     "data": {
      "text/plain": [
       "Operating Airline\n",
       "ABC Aerolineas S.A. de C.V. dba Interjet      15585\n",
       "ATA Airlines                                 384764\n",
       "Aer Lingus                                   777691\n",
       "Aeromexico                                  1672946\n",
       "Air Berlin                                   235155\n",
       "                                             ...   \n",
       "WOW Air                                      295168\n",
       "WestJet Airlines                             799801\n",
       "World Airways                                   785\n",
       "XL Airways France                            118961\n",
       "Xtra Airways                                    146\n",
       "Name: Passenger Count, Length: 89, dtype: int64"
      ]
     },
     "execution_count": 7,
     "metadata": {},
     "output_type": "execute_result"
    }
   ],
   "source": [
    "# Toplam Yolcu Sayısı\n",
    "nPassengers = df.groupby(\"Operating Airline\").sum()[\"Passenger Count\"]\n",
    "nPassengers.sort_index(inplace=True)\n",
    "nPassengers"
   ]
  },
  {
   "cell_type": "code",
   "execution_count": 11,
   "id": "253d2f6d-3cbe-4e28-bcf1-9181c864bdca",
   "metadata": {},
   "outputs": [
    {
     "data": {
      "text/plain": [
       "Activity Type Code\n",
       "Enplaned          8930\n",
       "Deplaned          8909\n",
       "Thru / Transit    1046\n",
       "Name: count, dtype: int64"
      ]
     },
     "execution_count": 11,
     "metadata": {},
     "output_type": "execute_result"
    }
   ],
   "source": [
    "df[\"Activity Type Code\"].value_counts()"
   ]
  },
  {
   "cell_type": "code",
   "execution_count": 12,
   "id": "69780e19-8319-4f6c-9f60-e15a4f9cd741",
   "metadata": {},
   "outputs": [],
   "source": [
    "df.to_excel(\"uçuş.xlsx\")"
   ]
  },
  {
   "cell_type": "code",
   "execution_count": 13,
   "id": "0af20051-2dea-4dfc-bead-62e4d844d8cf",
   "metadata": {},
   "outputs": [
    {
     "data": {
      "text/plain": [
       "Operating Airline\n",
       "ABC Aerolineas S.A. de C.V. dba Interjet      7530\n",
       "ATA Airlines                                168621\n",
       "Aer Lingus                                  390044\n",
       "Aeromexico                                  828202\n",
       "Air Berlin                                  121511\n",
       "                                             ...  \n",
       "WOW Air                                     146052\n",
       "WestJet Airlines                            397275\n",
       "World Airways                                  255\n",
       "XL Airways France                            60865\n",
       "Xtra Airways                                    73\n",
       "Name: Passenger Count, Length: 89, dtype: int64"
      ]
     },
     "execution_count": 13,
     "metadata": {},
     "output_type": "execute_result"
    }
   ],
   "source": [
    "# Gelen Yolcu Sayısı\n",
    "nDeplaned = df[df['Activity Type Code'] == 'Deplaned'].groupby('Operating Airline').sum()[\"Passenger Count\"]\n",
    "nDeplaned.sort_index(inplace=True)\n",
    "nDeplaned"
   ]
  },
  {
   "cell_type": "code",
   "execution_count": 14,
   "id": "67660354-543e-4dbe-8a86-5f5c8023a91c",
   "metadata": {},
   "outputs": [
    {
     "data": {
      "text/plain": [
       "Operating Airline\n",
       "ABC Aerolineas S.A. de C.V. dba Interjet      8055\n",
       "ATA Airlines                                175794\n",
       "Aer Lingus                                  387647\n",
       "Aeromexico                                  844744\n",
       "Air Berlin                                  113644\n",
       "                                             ...  \n",
       "WOW Air                                     149116\n",
       "WestJet Airlines                            402389\n",
       "World Airways                                  530\n",
       "XL Airways France                            57570\n",
       "Xtra Airways                                    73\n",
       "Name: Passenger Count, Length: 87, dtype: int64"
      ]
     },
     "execution_count": 14,
     "metadata": {},
     "output_type": "execute_result"
    }
   ],
   "source": [
    "# Giden Yolcu Sayısı\n",
    "nEnplaned = df[df['Activity Type Code'] == 'Enplaned'].groupby('Operating Airline').sum()[\"Passenger Count\"]\n",
    "nEnplaned.sort_index(inplace=True)\n",
    "nEnplaned"
   ]
  },
  {
   "cell_type": "code",
   "execution_count": 16,
   "id": "af1b76ed-c6b2-497b-b9e4-9511d88ac1d1",
   "metadata": {},
   "outputs": [
    {
     "data": {
      "text/plain": [
       "Operating Airline\n",
       "ATA Airlines                         40349\n",
       "Alaska Airlines                     235093\n",
       "Ameriflight                              8\n",
       "Atlas Air, Inc                           3\n",
       "BelAir Airlines                        278\n",
       "Compass Airlines                       149\n",
       "Delta Air Lines                       7426\n",
       "French Bee                            5628\n",
       "Hong Kong Airlines Limited             611\n",
       "Japan Airlines                         284\n",
       "Northwest Airlines                   23101\n",
       "SkyWest Airlines                       223\n",
       "Southwest Airlines                   12820\n",
       "Swissport USA                           93\n",
       "United Airlines                     101316\n",
       "United Airlines - Pre 07/01/2013    969406\n",
       "WestJet Airlines                       137\n",
       "XL Airways France                      526\n",
       "Name: Passenger Count, dtype: int64"
      ]
     },
     "execution_count": 16,
     "metadata": {},
     "output_type": "execute_result"
    }
   ],
   "source": [
    "# Aktarma Yolcu Sayısı\n",
    "nTransit = df[df['Activity Type Code'] == 'Thru / Transit'].groupby('Operating Airline').sum()[\"Passenger Count\"]\n",
    "nTransit.sort_index(inplace=True)\n",
    "nTransit"
   ]
  },
  {
   "cell_type": "code",
   "execution_count": 30,
   "id": "7579905b-0a4c-4e73-b055-7d8176b318b4",
   "metadata": {},
   "outputs": [
    {
     "data": {
      "text/html": [
       "<div>\n",
       "<style scoped>\n",
       "    .dataframe tbody tr th:only-of-type {\n",
       "        vertical-align: middle;\n",
       "    }\n",
       "\n",
       "    .dataframe tbody tr th {\n",
       "        vertical-align: top;\n",
       "    }\n",
       "\n",
       "    .dataframe thead th {\n",
       "        text-align: right;\n",
       "    }\n",
       "</style>\n",
       "<table border=\"1\" class=\"dataframe\">\n",
       "  <thead>\n",
       "    <tr style=\"text-align: right;\">\n",
       "      <th></th>\n",
       "      <th>Uçuş Sayısı</th>\n",
       "      <th>Yurtiçi Uçuş Sayısı</th>\n",
       "      <th>Yurtdışı Uçuş Sayısı</th>\n",
       "      <th>Toplam Yolcu Sayısı</th>\n",
       "      <th>Gelen Yolcu Sayısı</th>\n",
       "      <th>Giden Yolcu Sayısı</th>\n",
       "      <th>Aktarma Yolcu Sayısı</th>\n",
       "    </tr>\n",
       "    <tr>\n",
       "      <th>Operating Airline</th>\n",
       "      <th></th>\n",
       "      <th></th>\n",
       "      <th></th>\n",
       "      <th></th>\n",
       "      <th></th>\n",
       "      <th></th>\n",
       "      <th></th>\n",
       "    </tr>\n",
       "  </thead>\n",
       "  <tbody>\n",
       "    <tr>\n",
       "      <th>ABC Aerolineas S.A. de C.V. dba Interjet</th>\n",
       "      <td>8</td>\n",
       "      <td>NaN</td>\n",
       "      <td>8.0</td>\n",
       "      <td>15585</td>\n",
       "      <td>7530</td>\n",
       "      <td>8055.0</td>\n",
       "      <td>NaN</td>\n",
       "    </tr>\n",
       "    <tr>\n",
       "      <th>ATA Airlines</th>\n",
       "      <td>44</td>\n",
       "      <td>41.0</td>\n",
       "      <td>3.0</td>\n",
       "      <td>384764</td>\n",
       "      <td>168621</td>\n",
       "      <td>175794.0</td>\n",
       "      <td>40349.0</td>\n",
       "    </tr>\n",
       "    <tr>\n",
       "      <th>Aer Lingus</th>\n",
       "      <td>152</td>\n",
       "      <td>NaN</td>\n",
       "      <td>152.0</td>\n",
       "      <td>777691</td>\n",
       "      <td>390044</td>\n",
       "      <td>387647.0</td>\n",
       "      <td>NaN</td>\n",
       "    </tr>\n",
       "    <tr>\n",
       "      <th>Aeromexico</th>\n",
       "      <td>234</td>\n",
       "      <td>NaN</td>\n",
       "      <td>234.0</td>\n",
       "      <td>1672946</td>\n",
       "      <td>828202</td>\n",
       "      <td>844744.0</td>\n",
       "      <td>NaN</td>\n",
       "    </tr>\n",
       "    <tr>\n",
       "      <th>Air Berlin</th>\n",
       "      <td>60</td>\n",
       "      <td>NaN</td>\n",
       "      <td>60.0</td>\n",
       "      <td>235155</td>\n",
       "      <td>121511</td>\n",
       "      <td>113644.0</td>\n",
       "      <td>NaN</td>\n",
       "    </tr>\n",
       "    <tr>\n",
       "      <th>...</th>\n",
       "      <td>...</td>\n",
       "      <td>...</td>\n",
       "      <td>...</td>\n",
       "      <td>...</td>\n",
       "      <td>...</td>\n",
       "      <td>...</td>\n",
       "      <td>...</td>\n",
       "    </tr>\n",
       "    <tr>\n",
       "      <th>WOW Air</th>\n",
       "      <td>56</td>\n",
       "      <td>NaN</td>\n",
       "      <td>56.0</td>\n",
       "      <td>295168</td>\n",
       "      <td>146052</td>\n",
       "      <td>149116.0</td>\n",
       "      <td>NaN</td>\n",
       "    </tr>\n",
       "    <tr>\n",
       "      <th>WestJet Airlines</th>\n",
       "      <td>135</td>\n",
       "      <td>NaN</td>\n",
       "      <td>135.0</td>\n",
       "      <td>799801</td>\n",
       "      <td>397275</td>\n",
       "      <td>402389.0</td>\n",
       "      <td>137.0</td>\n",
       "    </tr>\n",
       "    <tr>\n",
       "      <th>World Airways</th>\n",
       "      <td>3</td>\n",
       "      <td>1.0</td>\n",
       "      <td>2.0</td>\n",
       "      <td>785</td>\n",
       "      <td>255</td>\n",
       "      <td>530.0</td>\n",
       "      <td>NaN</td>\n",
       "    </tr>\n",
       "    <tr>\n",
       "      <th>XL Airways France</th>\n",
       "      <td>51</td>\n",
       "      <td>NaN</td>\n",
       "      <td>51.0</td>\n",
       "      <td>118961</td>\n",
       "      <td>60865</td>\n",
       "      <td>57570.0</td>\n",
       "      <td>526.0</td>\n",
       "    </tr>\n",
       "    <tr>\n",
       "      <th>Xtra Airways</th>\n",
       "      <td>2</td>\n",
       "      <td>2.0</td>\n",
       "      <td>NaN</td>\n",
       "      <td>146</td>\n",
       "      <td>73</td>\n",
       "      <td>73.0</td>\n",
       "      <td>NaN</td>\n",
       "    </tr>\n",
       "  </tbody>\n",
       "</table>\n",
       "<p>89 rows × 7 columns</p>\n",
       "</div>"
      ],
      "text/plain": [
       "                                          Uçuş Sayısı  Yurtiçi Uçuş Sayısı  \\\n",
       "Operating Airline                                                            \n",
       "ABC Aerolineas S.A. de C.V. dba Interjet            8                  NaN   \n",
       "ATA Airlines                                       44                 41.0   \n",
       "Aer Lingus                                        152                  NaN   \n",
       "Aeromexico                                        234                  NaN   \n",
       "Air Berlin                                         60                  NaN   \n",
       "...                                               ...                  ...   \n",
       "WOW Air                                            56                  NaN   \n",
       "WestJet Airlines                                  135                  NaN   \n",
       "World Airways                                       3                  1.0   \n",
       "XL Airways France                                  51                  NaN   \n",
       "Xtra Airways                                        2                  2.0   \n",
       "\n",
       "                                          Yurtdışı Uçuş Sayısı  \\\n",
       "Operating Airline                                                \n",
       "ABC Aerolineas S.A. de C.V. dba Interjet                   8.0   \n",
       "ATA Airlines                                               3.0   \n",
       "Aer Lingus                                               152.0   \n",
       "Aeromexico                                               234.0   \n",
       "Air Berlin                                                60.0   \n",
       "...                                                        ...   \n",
       "WOW Air                                                   56.0   \n",
       "WestJet Airlines                                         135.0   \n",
       "World Airways                                              2.0   \n",
       "XL Airways France                                         51.0   \n",
       "Xtra Airways                                               NaN   \n",
       "\n",
       "                                          Toplam Yolcu Sayısı  \\\n",
       "Operating Airline                                               \n",
       "ABC Aerolineas S.A. de C.V. dba Interjet                15585   \n",
       "ATA Airlines                                           384764   \n",
       "Aer Lingus                                             777691   \n",
       "Aeromexico                                            1672946   \n",
       "Air Berlin                                             235155   \n",
       "...                                                       ...   \n",
       "WOW Air                                                295168   \n",
       "WestJet Airlines                                       799801   \n",
       "World Airways                                             785   \n",
       "XL Airways France                                      118961   \n",
       "Xtra Airways                                              146   \n",
       "\n",
       "                                          Gelen Yolcu Sayısı  \\\n",
       "Operating Airline                                              \n",
       "ABC Aerolineas S.A. de C.V. dba Interjet                7530   \n",
       "ATA Airlines                                          168621   \n",
       "Aer Lingus                                            390044   \n",
       "Aeromexico                                            828202   \n",
       "Air Berlin                                            121511   \n",
       "...                                                      ...   \n",
       "WOW Air                                               146052   \n",
       "WestJet Airlines                                      397275   \n",
       "World Airways                                            255   \n",
       "XL Airways France                                      60865   \n",
       "Xtra Airways                                              73   \n",
       "\n",
       "                                          Giden Yolcu Sayısı  \\\n",
       "Operating Airline                                              \n",
       "ABC Aerolineas S.A. de C.V. dba Interjet              8055.0   \n",
       "ATA Airlines                                        175794.0   \n",
       "Aer Lingus                                          387647.0   \n",
       "Aeromexico                                          844744.0   \n",
       "Air Berlin                                          113644.0   \n",
       "...                                                      ...   \n",
       "WOW Air                                             149116.0   \n",
       "WestJet Airlines                                    402389.0   \n",
       "World Airways                                          530.0   \n",
       "XL Airways France                                    57570.0   \n",
       "Xtra Airways                                            73.0   \n",
       "\n",
       "                                          Aktarma Yolcu Sayısı  \n",
       "Operating Airline                                               \n",
       "ABC Aerolineas S.A. de C.V. dba Interjet                   NaN  \n",
       "ATA Airlines                                           40349.0  \n",
       "Aer Lingus                                                 NaN  \n",
       "Aeromexico                                                 NaN  \n",
       "Air Berlin                                                 NaN  \n",
       "...                                                        ...  \n",
       "WOW Air                                                    NaN  \n",
       "WestJet Airlines                                         137.0  \n",
       "World Airways                                              NaN  \n",
       "XL Airways France                                        526.0  \n",
       "Xtra Airways                                               NaN  \n",
       "\n",
       "[89 rows x 7 columns]"
      ]
     },
     "execution_count": 30,
     "metadata": {},
     "output_type": "execute_result"
    }
   ],
   "source": [
    "df2=pd.DataFrame({\"Uçuş Sayısı\":nFlights, \"Yurtiçi Uçuş Sayısı\":nDomestic, \"Yurtdışı Uçuş Sayısı\":nInternational, \n",
    "                         \"Toplam Yolcu Sayısı\":nPassengers, \"Gelen Yolcu Sayısı\":nDeplaned, \n",
    "                  \"Giden Yolcu Sayısı\":nEnplaned, \"Aktarma Yolcu Sayısı\":nTransit})\n",
    "df2"
   ]
  },
  {
   "cell_type": "code",
   "execution_count": 31,
   "id": "6539a836-5c3c-4f8b-ad97-f72a2ceaa14f",
   "metadata": {},
   "outputs": [],
   "source": [
    "df2['Hava Alanı'] = df2.index\n",
    "df2.reset_index(drop=True, inplace=True)\n",
    "df2=df2.fillna(0)"
   ]
  },
  {
   "cell_type": "code",
   "execution_count": 32,
   "id": "bc29e6e8-9db8-46c9-aa84-a460c4264a15",
   "metadata": {},
   "outputs": [
    {
     "data": {
      "text/html": [
       "<div>\n",
       "<style scoped>\n",
       "    .dataframe tbody tr th:only-of-type {\n",
       "        vertical-align: middle;\n",
       "    }\n",
       "\n",
       "    .dataframe tbody tr th {\n",
       "        vertical-align: top;\n",
       "    }\n",
       "\n",
       "    .dataframe thead th {\n",
       "        text-align: right;\n",
       "    }\n",
       "</style>\n",
       "<table border=\"1\" class=\"dataframe\">\n",
       "  <thead>\n",
       "    <tr style=\"text-align: right;\">\n",
       "      <th></th>\n",
       "      <th>Uçuş Sayısı</th>\n",
       "      <th>Yurtiçi Uçuş Sayısı</th>\n",
       "      <th>Yurtdışı Uçuş Sayısı</th>\n",
       "      <th>Toplam Yolcu Sayısı</th>\n",
       "      <th>Gelen Yolcu Sayısı</th>\n",
       "      <th>Giden Yolcu Sayısı</th>\n",
       "      <th>Aktarma Yolcu Sayısı</th>\n",
       "      <th>Hava Alanı</th>\n",
       "    </tr>\n",
       "  </thead>\n",
       "  <tbody>\n",
       "    <tr>\n",
       "      <th>0</th>\n",
       "      <td>8</td>\n",
       "      <td>0.0</td>\n",
       "      <td>8.0</td>\n",
       "      <td>15585</td>\n",
       "      <td>7530</td>\n",
       "      <td>8055.0</td>\n",
       "      <td>0.0</td>\n",
       "      <td>ABC Aerolineas S.A. de C.V. dba Interjet</td>\n",
       "    </tr>\n",
       "    <tr>\n",
       "      <th>1</th>\n",
       "      <td>44</td>\n",
       "      <td>41.0</td>\n",
       "      <td>3.0</td>\n",
       "      <td>384764</td>\n",
       "      <td>168621</td>\n",
       "      <td>175794.0</td>\n",
       "      <td>40349.0</td>\n",
       "      <td>ATA Airlines</td>\n",
       "    </tr>\n",
       "    <tr>\n",
       "      <th>2</th>\n",
       "      <td>152</td>\n",
       "      <td>0.0</td>\n",
       "      <td>152.0</td>\n",
       "      <td>777691</td>\n",
       "      <td>390044</td>\n",
       "      <td>387647.0</td>\n",
       "      <td>0.0</td>\n",
       "      <td>Aer Lingus</td>\n",
       "    </tr>\n",
       "    <tr>\n",
       "      <th>3</th>\n",
       "      <td>234</td>\n",
       "      <td>0.0</td>\n",
       "      <td>234.0</td>\n",
       "      <td>1672946</td>\n",
       "      <td>828202</td>\n",
       "      <td>844744.0</td>\n",
       "      <td>0.0</td>\n",
       "      <td>Aeromexico</td>\n",
       "    </tr>\n",
       "    <tr>\n",
       "      <th>4</th>\n",
       "      <td>60</td>\n",
       "      <td>0.0</td>\n",
       "      <td>60.0</td>\n",
       "      <td>235155</td>\n",
       "      <td>121511</td>\n",
       "      <td>113644.0</td>\n",
       "      <td>0.0</td>\n",
       "      <td>Air Berlin</td>\n",
       "    </tr>\n",
       "  </tbody>\n",
       "</table>\n",
       "</div>"
      ],
      "text/plain": [
       "   Uçuş Sayısı  Yurtiçi Uçuş Sayısı  Yurtdışı Uçuş Sayısı  \\\n",
       "0            8                  0.0                   8.0   \n",
       "1           44                 41.0                   3.0   \n",
       "2          152                  0.0                 152.0   \n",
       "3          234                  0.0                 234.0   \n",
       "4           60                  0.0                  60.0   \n",
       "\n",
       "   Toplam Yolcu Sayısı  Gelen Yolcu Sayısı  Giden Yolcu Sayısı  \\\n",
       "0                15585                7530              8055.0   \n",
       "1               384764              168621            175794.0   \n",
       "2               777691              390044            387647.0   \n",
       "3              1672946              828202            844744.0   \n",
       "4               235155              121511            113644.0   \n",
       "\n",
       "   Aktarma Yolcu Sayısı                                Hava Alanı  \n",
       "0                   0.0  ABC Aerolineas S.A. de C.V. dba Interjet  \n",
       "1               40349.0                              ATA Airlines  \n",
       "2                   0.0                                Aer Lingus  \n",
       "3                   0.0                                Aeromexico  \n",
       "4                   0.0                                Air Berlin  "
      ]
     },
     "execution_count": 32,
     "metadata": {},
     "output_type": "execute_result"
    }
   ],
   "source": [
    "df2.head()"
   ]
  },
  {
   "cell_type": "code",
   "execution_count": 34,
   "id": "09317878-e550-482e-af7d-fd22d0cd2930",
   "metadata": {},
   "outputs": [
    {
     "data": {
      "image/png": "[encoded data removed]",
      "text/plain": [
       "<Figure size 640x480 with 1 Axes>"
      ]
     },
     "metadata": {},
     "output_type": "display_data"
    }
   ],
   "source": [
    "import seaborn as sns\n",
    "sns.scatterplot(x=df2['Uçuş Sayısı'], y=df2['Toplam Yolcu Sayısı']);"
   ]
  },
  {
   "cell_type": "code",
   "execution_count": 36,
   "id": "0b30ee7d-1946-4f1e-881f-a465363aa61e",
   "metadata": {},
   "outputs": [
    {
     "data": {
      "image/png": "[encoded data removed]",
      "text/plain": [
       "<Figure size 640x480 with 1 Axes>"
      ]
     },
     "metadata": {},
     "output_type": "display_data"
    }
   ],
   "source": [
    "sns.scatterplot(x=df2['Yurtiçi Uçuş Sayısı'], y=df2['Yurtdışı Uçuş Sayısı']);"
   ]
  },
  {
   "cell_type": "code",
   "execution_count": 37,
   "id": "e431eb0b-4e2c-4b36-9827-e647af95c079",
   "metadata": {},
   "outputs": [
    {
     "data": {
      "image/png": "[encoded data removed]",
      "text/plain": [
       "<Figure size 640x480 with 1 Axes>"
      ]
     },
     "metadata": {},
     "output_type": "display_data"
    }
   ],
   "source": [
    "sns.scatterplot(x=df2['Gelen Yolcu Sayısı'], y=df2['Giden Yolcu Sayısı']);"
   ]
  },
  {
   "cell_type": "markdown",
   "id": "a827b8ba-7459-42e2-ba15-6d84f5dbe582",
   "metadata": {},
   "source": [
    "## Modelleme"
   ]
  },
  {
   "cell_type": "code",
   "execution_count": 38,
   "id": "c3a7facb-885a-47b9-a101-b543621bcd4e",
   "metadata": {},
   "outputs": [],
   "source": [
    "from sklearn.cluster import KMeans\n",
    "from sklearn.metrics import silhouette_score\n",
    "from yellowbrick.cluster import KElbowVisualizer"
   ]
  },
  {
   "cell_type": "code",
   "execution_count": 39,
   "id": "df57ada6-0c8b-47ea-8b60-69911e3908c1",
   "metadata": {},
   "outputs": [
    {
     "data": {
      "image/png": "[encoded data removed]",
      "text/plain": [
       "<Figure size 800x550 with 2 Axes>"
      ]
     },
     "metadata": {},
     "output_type": "display_data"
    },
    {
     "data": {
      "text/plain": [
       "<Axes: title={'center': 'Distortion Score Elbow for KMeans Clustering'}, xlabel='k', ylabel='distortion score'>"
      ]
     },
     "execution_count": 39,
     "metadata": {},
     "output_type": "execute_result"
    }
   ],
   "source": [
    "x = df2.drop(\"Hava Alanı\", axis=1)\n",
    "y = df2[[\"Hava Alanı\"]]\n",
    "\n",
    "# Instantiate the clustering model and visualizer\n",
    "km = KMeans(random_state=42)\n",
    "visualizer = KElbowVisualizer(km, k=(2,10))\n",
    "\n",
    "visualizer.fit(x) # Fit the data to the visualizer\n",
    "visualizer.show() # Finalize and render the figure"
   ]
  },
  {
   "cell_type": "code",
   "execution_count": 40,
   "id": "16e7637e-6f06-4ad6-b594-520d9185bffa",
   "metadata": {},
   "outputs": [
    {
     "data": {
      "text/plain": [
       "Index(['Uçuş Sayısı', 'Yurtiçi Uçuş Sayısı', 'Yurtdışı Uçuş Sayısı',\n",
       "       'Toplam Yolcu Sayısı', 'Gelen Yolcu Sayısı', 'Giden Yolcu Sayısı',\n",
       "       'Aktarma Yolcu Sayısı', 'Hava Alanı'],\n",
       "      dtype='object')"
      ]
     },
     "execution_count": 40,
     "metadata": {},
     "output_type": "execute_result"
    }
   ],
   "source": [
    "df2.columns"
   ]
  },
  {
   "cell_type": "markdown",
   "id": "86d3bd95-73f3-4470-97b3-887ec9f95c5d",
   "metadata": {},
   "source": [
    "#### Uçuş sayısına göre kümeleme"
   ]
  },
  {
   "cell_type": "code",
   "execution_count": 41,
   "id": "acbf73b3-4c5d-45b9-a821-5f4c4470589f",
   "metadata": {},
   "outputs": [],
   "source": [
    "dfc=df2[['Yurtiçi Uçuş Sayısı', 'Yurtdışı Uçuş Sayısı']]"
   ]
  },
  {
   "cell_type": "code",
   "execution_count": 42,
   "id": "0e8d55d1-2317-4a2d-af47-cb3606e4ab84",
   "metadata": {},
   "outputs": [],
   "source": [
    "model=KMeans(3)"
   ]
  },
  {
   "cell_type": "code",
   "execution_count": 43,
   "id": "fed9e41f-6868-4596-9aa2-6d21e27d8774",
   "metadata": {},
   "outputs": [],
   "source": [
    "model=model.fit(dfc)"
   ]
  },
  {
   "cell_type": "code",
   "execution_count": 44,
   "id": "4d73c9a8-9990-4063-93d2-29f9cca64dab",
   "metadata": {},
   "outputs": [],
   "source": [
    "pred=model.predict(dfc)"
   ]
  },
  {
   "cell_type": "code",
   "execution_count": 45,
   "id": "41d0efaf-b043-406b-a476-118413012a77",
   "metadata": {},
   "outputs": [],
   "source": [
    "dfc[\"Cluster\"]=pred"
   ]
  },
  {
   "cell_type": "code",
   "execution_count": 46,
   "id": "e1cdbf41-c251-498e-af31-dc949973cd66",
   "metadata": {},
   "outputs": [
    {
     "data": {
      "text/html": [
       "<div>\n",
       "<style scoped>\n",
       "    .dataframe tbody tr th:only-of-type {\n",
       "        vertical-align: middle;\n",
       "    }\n",
       "\n",
       "    .dataframe tbody tr th {\n",
       "        vertical-align: top;\n",
       "    }\n",
       "\n",
       "    .dataframe thead th {\n",
       "        text-align: right;\n",
       "    }\n",
       "</style>\n",
       "<table border=\"1\" class=\"dataframe\">\n",
       "  <thead>\n",
       "    <tr style=\"text-align: right;\">\n",
       "      <th></th>\n",
       "      <th>Yurtiçi Uçuş Sayısı</th>\n",
       "      <th>Yurtdışı Uçuş Sayısı</th>\n",
       "      <th>Cluster</th>\n",
       "    </tr>\n",
       "  </thead>\n",
       "  <tbody>\n",
       "    <tr>\n",
       "      <th>0</th>\n",
       "      <td>0.0</td>\n",
       "      <td>8.0</td>\n",
       "      <td>0</td>\n",
       "    </tr>\n",
       "    <tr>\n",
       "      <th>1</th>\n",
       "      <td>41.0</td>\n",
       "      <td>3.0</td>\n",
       "      <td>0</td>\n",
       "    </tr>\n",
       "    <tr>\n",
       "      <th>2</th>\n",
       "      <td>0.0</td>\n",
       "      <td>152.0</td>\n",
       "      <td>0</td>\n",
       "    </tr>\n",
       "    <tr>\n",
       "      <th>3</th>\n",
       "      <td>0.0</td>\n",
       "      <td>234.0</td>\n",
       "      <td>1</td>\n",
       "    </tr>\n",
       "    <tr>\n",
       "      <th>4</th>\n",
       "      <td>0.0</td>\n",
       "      <td>60.0</td>\n",
       "      <td>0</td>\n",
       "    </tr>\n",
       "  </tbody>\n",
       "</table>\n",
       "</div>"
      ],
      "text/plain": [
       "   Yurtiçi Uçuş Sayısı  Yurtdışı Uçuş Sayısı  Cluster\n",
       "0                  0.0                   8.0        0\n",
       "1                 41.0                   3.0        0\n",
       "2                  0.0                 152.0        0\n",
       "3                  0.0                 234.0        1\n",
       "4                  0.0                  60.0        0"
      ]
     },
     "execution_count": 46,
     "metadata": {},
     "output_type": "execute_result"
    }
   ],
   "source": [
    "dfc.head()"
   ]
  },
  {
   "cell_type": "code",
   "execution_count": 47,
   "id": "d30a9bcb-7c4b-4288-9b58-2b12f16612fc",
   "metadata": {},
   "outputs": [
    {
     "data": {
      "text/plain": [
       "0.5966162781475745"
      ]
     },
     "execution_count": 47,
     "metadata": {},
     "output_type": "execute_result"
    }
   ],
   "source": [
    "silhouette_score(dfc, pred)"
   ]
  },
  {
   "cell_type": "code",
   "execution_count": 48,
   "id": "96fb74b7-eb30-4148-9814-599433a8c16e",
   "metadata": {},
   "outputs": [],
   "source": [
    "import matplotlib.pyplot as plt\n",
    "import numpy as np"
   ]
  },
  {
   "cell_type": "code",
   "execution_count": 49,
   "id": "b55a690c-01e3-434a-a944-4e5d526995f5",
   "metadata": {},
   "outputs": [
    {
     "data": {
      "image/png": "[encoded data removed]",
      "text/plain": [
       "<Figure size 1000x600 with 2 Axes>"
      ]
     },
     "metadata": {},
     "output_type": "display_data"
    }
   ],
   "source": [
    "plt.figure(figsize=(10,6))\n",
    "plt.scatter(dfc['Yurtiçi Uçuş Sayısı'], dfc['Yurtiçi Uçuş Sayısı'], c=pred)\n",
    "plt.colorbar();"
   ]
  },
  {
   "cell_type": "markdown",
   "id": "4135fcb1-8a6f-45a7-bc09-a337bf0a9977",
   "metadata": {},
   "source": [
    "#### Yolcu sayısına göre kümeleme"
   ]
  },
  {
   "cell_type": "code",
   "execution_count": 50,
   "id": "d6262ad5-ff2d-4612-b7c1-a618845c7a4d",
   "metadata": {},
   "outputs": [],
   "source": [
    "dfc=df2[['Gelen Yolcu Sayısı', 'Giden Yolcu Sayısı', 'Aktarma Yolcu Sayısı']]"
   ]
  },
  {
   "cell_type": "code",
   "execution_count": 51,
   "id": "0c59f16a-3015-4892-b0fd-d89e2eb07da9",
   "metadata": {},
   "outputs": [
    {
     "data": {
      "text/plain": [
       "0.9123620867746831"
      ]
     },
     "execution_count": 51,
     "metadata": {},
     "output_type": "execute_result"
    }
   ],
   "source": [
    "model=KMeans(3)\n",
    "model=model.fit(dfc)\n",
    "pred=model.predict(dfc)\n",
    "dfc[\"Cluster\"]=pred\n",
    "silhouette_score(dfc, pred)"
   ]
  },
  {
   "cell_type": "code",
   "execution_count": 54,
   "id": "c974e4a6-bfc1-444a-9dc1-35074b60eedd",
   "metadata": {},
   "outputs": [
    {
     "data": {
      "image/png": "[encoded data removed]",
      "text/plain": [
       "<Figure size 1000x600 with 2 Axes>"
      ]
     },
     "metadata": {},
     "output_type": "display_data"
    }
   ],
   "source": [
    "plt.figure(figsize=(10,6))\n",
    "plt.scatter(dfc['Gelen Yolcu Sayısı'], dfc['Giden Yolcu Sayısı'], c=pred)\n",
    "plt.colorbar();"
   ]
  },
  {
   "cell_type": "markdown",
   "id": "a22a7686-0d95-4ca6-bdbe-a4d18d30644d",
   "metadata": {},
   "source": [
    "### Hierarchical Clustering Model"
   ]
  },
  {
   "cell_type": "code",
   "execution_count": 55,
   "id": "fbbd8e27-583e-4ce4-96ea-04533bcd18a0",
   "metadata": {},
   "outputs": [],
   "source": [
    "from scipy.cluster.hierarchy import dendrogram, linkage "
   ]
  },
  {
   "cell_type": "code",
   "execution_count": 56,
   "id": "f754e774-99f3-4330-8812-abca11a96d48",
   "metadata": {},
   "outputs": [],
   "source": [
    "data=linkage(x, method=\"ward\", metric=\"euclidean\")"
   ]
  },
  {
   "cell_type": "code",
   "execution_count": 57,
   "id": "7c0d7116-b6fc-456d-a920-9cf8555abe53",
   "metadata": {},
   "outputs": [
    {
     "data": {
      "image/png": "[encoded data removed]",
      "text/plain": [
       "<Figure size 2500x600 with 1 Axes>"
      ]
     },
     "metadata": {},
     "output_type": "display_data"
    }
   ],
   "source": [
    "plt.figure(figsize=(25,6))\n",
    "dendrogram(data);"
   ]
  },
  {
   "cell_type": "markdown",
   "id": "b9d42f1d",
   "metadata": {},
   "source": [
    "## Sonuç\n",
    "\n",
    "Bu projede çeşitli özelliklere göre uçuşlar kümelenmiştir."
   ]
  }
 ],
 "metadata": {
  "kernelspec": {
   "display_name": "Python 3 (ipykernel)",
   "language": "python",
   "name": "python3"
  },
  "language_info": {
   "codemirror_mode": {
    "name": "ipython",
    "version": 3
   },
   "file_extension": ".py",
   "mimetype": "text/x-python",
   "name": "python",
   "nbconvert_exporter": "python",
   "pygments_lexer": "ipython3",
   "version": "3.9.19"
  }
 },
 "nbformat": 4,
 "nbformat_minor": 5
}
