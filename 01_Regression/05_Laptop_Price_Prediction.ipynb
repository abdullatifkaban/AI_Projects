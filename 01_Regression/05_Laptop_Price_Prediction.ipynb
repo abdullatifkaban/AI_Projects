{
 "cells": [
  {
   "cell_type": "markdown",
   "id": "1864a95a-cb7b-4a00-a572-704759268832",
   "metadata": {},
   "source": [
    "# Laptop Price Prediction\n",
    "* Bu projede özelliklerine göre dizüstü bilgisayar fiyatlarını tahmin edecek bir Regresyon modeli geliştirilecektir.\n",
    "\n",
    "<img src=\"https://encrypted-tbn0.gstatic.com/images?q=tbn:ANd9GcRxYDFIp95y6F4MERuOM5OQR_F8SyHFDN7FnBzCoVtrVv4nT7zJRlVUDQJvSpFuUgIwKEo&usqp=CAU\">"
   ]
  },
  {
   "cell_type": "markdown",
   "id": "e97fcd16-d720-437a-94e0-229f76ddfc23",
   "metadata": {},
   "source": [
    "### Veri Setini İnceleyelim"
   ]
  },
  {
   "cell_type": "code",
   "execution_count": 1,
   "id": "eae5ed50-4910-4d9e-b38a-1a047bd13446",
   "metadata": {},
   "outputs": [],
   "source": [
    "import pandas as pd\n",
    "pd.set_option(\"display.max_columns\",100) # 100 adet sütun görmek için"
   ]
  },
  {
   "cell_type": "code",
   "execution_count": 2,
   "id": "2085cd54-015e-4753-b300-99a303b5c605",
   "metadata": {},
   "outputs": [],
   "source": [
    "df = pd.read_csv(\"laptop_data.csv\", index_col=0)"
   ]
  },
  {
   "cell_type": "code",
   "execution_count": 3,
   "id": "5417d04b-330d-449a-91c9-baaef9ed2a49",
   "metadata": {},
   "outputs": [
    {
     "data": {
      "text/html": [
       "<div>\n",
       "<style scoped>\n",
       "    .dataframe tbody tr th:only-of-type {\n",
       "        vertical-align: middle;\n",
       "    }\n",
       "\n",
       "    .dataframe tbody tr th {\n",
       "        vertical-align: top;\n",
       "    }\n",
       "\n",
       "    .dataframe thead th {\n",
       "        text-align: right;\n",
       "    }\n",
       "</style>\n",
       "<table border=\"1\" class=\"dataframe\">\n",
       "  <thead>\n",
       "    <tr style=\"text-align: right;\">\n",
       "      <th></th>\n",
       "      <th>Company</th>\n",
       "      <th>TypeName</th>\n",
       "      <th>Inches</th>\n",
       "      <th>ScreenResolution</th>\n",
       "      <th>Cpu</th>\n",
       "      <th>Ram</th>\n",
       "      <th>Memory</th>\n",
       "      <th>Gpu</th>\n",
       "      <th>OpSys</th>\n",
       "      <th>Weight</th>\n",
       "      <th>Price</th>\n",
       "    </tr>\n",
       "  </thead>\n",
       "  <tbody>\n",
       "    <tr>\n",
       "      <th>0</th>\n",
       "      <td>Apple</td>\n",
       "      <td>Ultrabook</td>\n",
       "      <td>13.3</td>\n",
       "      <td>IPS Panel Retina Display 2560x1600</td>\n",
       "      <td>Intel Core i5 2.3GHz</td>\n",
       "      <td>8GB</td>\n",
       "      <td>128GB SSD</td>\n",
       "      <td>Intel Iris Plus Graphics 640</td>\n",
       "      <td>macOS</td>\n",
       "      <td>1.37kg</td>\n",
       "      <td>71378.6832</td>\n",
       "    </tr>\n",
       "    <tr>\n",
       "      <th>1</th>\n",
       "      <td>Apple</td>\n",
       "      <td>Ultrabook</td>\n",
       "      <td>13.3</td>\n",
       "      <td>1440x900</td>\n",
       "      <td>Intel Core i5 1.8GHz</td>\n",
       "      <td>8GB</td>\n",
       "      <td>128GB Flash Storage</td>\n",
       "      <td>Intel HD Graphics 6000</td>\n",
       "      <td>macOS</td>\n",
       "      <td>1.34kg</td>\n",
       "      <td>47895.5232</td>\n",
       "    </tr>\n",
       "    <tr>\n",
       "      <th>2</th>\n",
       "      <td>HP</td>\n",
       "      <td>Notebook</td>\n",
       "      <td>15.6</td>\n",
       "      <td>Full HD 1920x1080</td>\n",
       "      <td>Intel Core i5 7200U 2.5GHz</td>\n",
       "      <td>8GB</td>\n",
       "      <td>256GB SSD</td>\n",
       "      <td>Intel HD Graphics 620</td>\n",
       "      <td>No OS</td>\n",
       "      <td>1.86kg</td>\n",
       "      <td>30636.0000</td>\n",
       "    </tr>\n",
       "    <tr>\n",
       "      <th>3</th>\n",
       "      <td>Apple</td>\n",
       "      <td>Ultrabook</td>\n",
       "      <td>15.4</td>\n",
       "      <td>IPS Panel Retina Display 2880x1800</td>\n",
       "      <td>Intel Core i7 2.7GHz</td>\n",
       "      <td>16GB</td>\n",
       "      <td>512GB SSD</td>\n",
       "      <td>AMD Radeon Pro 455</td>\n",
       "      <td>macOS</td>\n",
       "      <td>1.83kg</td>\n",
       "      <td>135195.3360</td>\n",
       "    </tr>\n",
       "    <tr>\n",
       "      <th>4</th>\n",
       "      <td>Apple</td>\n",
       "      <td>Ultrabook</td>\n",
       "      <td>13.3</td>\n",
       "      <td>IPS Panel Retina Display 2560x1600</td>\n",
       "      <td>Intel Core i5 3.1GHz</td>\n",
       "      <td>8GB</td>\n",
       "      <td>256GB SSD</td>\n",
       "      <td>Intel Iris Plus Graphics 650</td>\n",
       "      <td>macOS</td>\n",
       "      <td>1.37kg</td>\n",
       "      <td>96095.8080</td>\n",
       "    </tr>\n",
       "  </tbody>\n",
       "</table>\n",
       "</div>"
      ],
      "text/plain": [
       "  Company   TypeName  Inches                    ScreenResolution  \\\n",
       "0   Apple  Ultrabook    13.3  IPS Panel Retina Display 2560x1600   \n",
       "1   Apple  Ultrabook    13.3                            1440x900   \n",
       "2      HP   Notebook    15.6                   Full HD 1920x1080   \n",
       "3   Apple  Ultrabook    15.4  IPS Panel Retina Display 2880x1800   \n",
       "4   Apple  Ultrabook    13.3  IPS Panel Retina Display 2560x1600   \n",
       "\n",
       "                          Cpu   Ram               Memory  \\\n",
       "0        Intel Core i5 2.3GHz   8GB            128GB SSD   \n",
       "1        Intel Core i5 1.8GHz   8GB  128GB Flash Storage   \n",
       "2  Intel Core i5 7200U 2.5GHz   8GB            256GB SSD   \n",
       "3        Intel Core i7 2.7GHz  16GB            512GB SSD   \n",
       "4        Intel Core i5 3.1GHz   8GB            256GB SSD   \n",
       "\n",
       "                            Gpu  OpSys  Weight        Price  \n",
       "0  Intel Iris Plus Graphics 640  macOS  1.37kg   71378.6832  \n",
       "1        Intel HD Graphics 6000  macOS  1.34kg   47895.5232  \n",
       "2         Intel HD Graphics 620  No OS  1.86kg   30636.0000  \n",
       "3            AMD Radeon Pro 455  macOS  1.83kg  135195.3360  \n",
       "4  Intel Iris Plus Graphics 650  macOS  1.37kg   96095.8080  "
      ]
     },
     "execution_count": 3,
     "metadata": {},
     "output_type": "execute_result"
    }
   ],
   "source": [
    "df.head()"
   ]
  },
  {
   "cell_type": "code",
   "execution_count": 4,
   "id": "2e91196a-52e4-4194-a41f-e0ad52ccc0aa",
   "metadata": {},
   "outputs": [
    {
     "name": "stdout",
     "output_type": "stream",
     "text": [
      "<class 'pandas.core.frame.DataFrame'>\n",
      "Index: 1303 entries, 0 to 1302\n",
      "Data columns (total 11 columns):\n",
      " #   Column            Non-Null Count  Dtype  \n",
      "---  ------            --------------  -----  \n",
      " 0   Company           1303 non-null   object \n",
      " 1   TypeName          1303 non-null   object \n",
      " 2   Inches            1303 non-null   float64\n",
      " 3   ScreenResolution  1303 non-null   object \n",
      " 4   Cpu               1303 non-null   object \n",
      " 5   Ram               1303 non-null   object \n",
      " 6   Memory            1303 non-null   object \n",
      " 7   Gpu               1303 non-null   object \n",
      " 8   OpSys             1303 non-null   object \n",
      " 9   Weight            1303 non-null   object \n",
      " 10  Price             1303 non-null   float64\n",
      "dtypes: float64(2), object(9)\n",
      "memory usage: 122.2+ KB\n"
     ]
    }
   ],
   "source": [
    "df.info()"
   ]
  },
  {
   "cell_type": "code",
   "execution_count": 5,
   "id": "b91eb5f4-3aa5-4301-acf7-6ac13bc093d3",
   "metadata": {},
   "outputs": [
    {
     "data": {
      "text/plain": [
       "array(['Apple', 'HP', 'Acer', 'Asus', 'Dell', 'Lenovo', 'Chuwi', 'MSI',\n",
       "       'Microsoft', 'Toshiba', 'Huawei', 'Xiaomi', 'Vero', 'Razer',\n",
       "       'Mediacom', 'Samsung', 'Google', 'Fujitsu', 'LG'], dtype=object)"
      ]
     },
     "execution_count": 5,
     "metadata": {},
     "output_type": "execute_result"
    }
   ],
   "source": [
    "df[\"Company\"].unique()"
   ]
  },
  {
   "cell_type": "markdown",
   "id": "e4cd9c98-1b16-4c5d-8d36-2c0f454a3b80",
   "metadata": {},
   "source": [
    "Company alanı kategoriye çevrilerek dummy uygulaması yeterli olur"
   ]
  },
  {
   "cell_type": "code",
   "execution_count": 6,
   "id": "99f7ae99-b903-402a-a411-420d48f314e8",
   "metadata": {},
   "outputs": [
    {
     "data": {
      "text/plain": [
       "Company\n",
       "Dell         297\n",
       "Lenovo       297\n",
       "HP           274\n",
       "Asus         158\n",
       "Acer         103\n",
       "MSI           54\n",
       "Toshiba       48\n",
       "Apple         21\n",
       "Samsung        9\n",
       "Razer          7\n",
       "Mediacom       7\n",
       "Microsoft      6\n",
       "Xiaomi         4\n",
       "Vero           4\n",
       "Chuwi          3\n",
       "Google         3\n",
       "Fujitsu        3\n",
       "LG             3\n",
       "Huawei         2\n",
       "Name: count, dtype: int64"
      ]
     },
     "execution_count": 6,
     "metadata": {},
     "output_type": "execute_result"
    }
   ],
   "source": [
    "df[\"Company\"].value_counts()"
   ]
  },
  {
   "cell_type": "code",
   "execution_count": 7,
   "id": "f03dffba-bb81-4b4f-b800-7aa91d2442b2",
   "metadata": {},
   "outputs": [
    {
     "data": {
      "text/plain": [
       "TypeName\n",
       "Notebook              727\n",
       "Gaming                205\n",
       "Ultrabook             196\n",
       "2 in 1 Convertible    121\n",
       "Workstation            29\n",
       "Netbook                25\n",
       "Name: count, dtype: int64"
      ]
     },
     "execution_count": 7,
     "metadata": {},
     "output_type": "execute_result"
    }
   ],
   "source": [
    "df.TypeName.value_counts()"
   ]
  },
  {
   "cell_type": "markdown",
   "id": "97ca24d9-ad95-46f7-b670-3d3f00627dbb",
   "metadata": {},
   "source": [
    "TypeName alanı da kategoriye çevrilerek dummy uygulaması yeterli olur"
   ]
  },
  {
   "cell_type": "code",
   "execution_count": 8,
   "id": "760aea8a-c184-4ffd-88e7-619b5d1e9caf",
   "metadata": {},
   "outputs": [
    {
     "data": {
      "text/plain": [
       "Inches\n",
       "15.6    665\n",
       "14.0    197\n",
       "13.3    164\n",
       "17.3    164\n",
       "12.5     39\n",
       "11.6     33\n",
       "12.0      6\n",
       "13.5      6\n",
       "13.9      6\n",
       "12.3      5\n",
       "10.1      4\n",
       "15.4      4\n",
       "15.0      4\n",
       "13.0      2\n",
       "18.4      1\n",
       "17.0      1\n",
       "14.1      1\n",
       "11.3      1\n",
       "Name: count, dtype: int64"
      ]
     },
     "execution_count": 8,
     "metadata": {},
     "output_type": "execute_result"
    }
   ],
   "source": [
    "df.Inches.value_counts()"
   ]
  },
  {
   "cell_type": "code",
   "execution_count": 9,
   "id": "58db250e-5629-4ce8-8058-b81abd5467b4",
   "metadata": {},
   "outputs": [
    {
     "data": {
      "text/plain": [
       "ScreenResolution\n",
       "Full HD 1920x1080                                507\n",
       "1366x768                                         281\n",
       "IPS Panel Full HD 1920x1080                      230\n",
       "IPS Panel Full HD / Touchscreen 1920x1080         53\n",
       "Full HD / Touchscreen 1920x1080                   47\n",
       "1600x900                                          23\n",
       "Touchscreen 1366x768                              16\n",
       "Quad HD+ / Touchscreen 3200x1800                  15\n",
       "IPS Panel 4K Ultra HD 3840x2160                   12\n",
       "IPS Panel 4K Ultra HD / Touchscreen 3840x2160     11\n",
       "4K Ultra HD / Touchscreen 3840x2160               10\n",
       "4K Ultra HD 3840x2160                              7\n",
       "Touchscreen 2560x1440                              7\n",
       "IPS Panel 1366x768                                 7\n",
       "IPS Panel Quad HD+ / Touchscreen 3200x1800         6\n",
       "IPS Panel Retina Display 2560x1600                 6\n",
       "IPS Panel Retina Display 2304x1440                 6\n",
       "Touchscreen 2256x1504                              6\n",
       "IPS Panel Touchscreen 2560x1440                    5\n",
       "IPS Panel Retina Display 2880x1800                 4\n",
       "IPS Panel Touchscreen 1920x1200                    4\n",
       "1440x900                                           4\n",
       "IPS Panel 2560x1440                                4\n",
       "IPS Panel Quad HD+ 2560x1440                       3\n",
       "Quad HD+ 3200x1800                                 3\n",
       "1920x1080                                          3\n",
       "Touchscreen 2400x1600                              3\n",
       "2560x1440                                          3\n",
       "IPS Panel Touchscreen 1366x768                     3\n",
       "IPS Panel Touchscreen / 4K Ultra HD 3840x2160      2\n",
       "IPS Panel Full HD 2160x1440                        2\n",
       "IPS Panel Quad HD+ 3200x1800                       2\n",
       "IPS Panel Retina Display 2736x1824                 1\n",
       "IPS Panel Full HD 1920x1200                        1\n",
       "IPS Panel Full HD 2560x1440                        1\n",
       "IPS Panel Full HD 1366x768                         1\n",
       "Touchscreen / Full HD 1920x1080                    1\n",
       "Touchscreen / Quad HD+ 3200x1800                   1\n",
       "Touchscreen / 4K Ultra HD 3840x2160                1\n",
       "IPS Panel Touchscreen 2400x1600                    1\n",
       "Name: count, dtype: int64"
      ]
     },
     "execution_count": 9,
     "metadata": {},
     "output_type": "execute_result"
    }
   ],
   "source": [
    "df.ScreenResolution.value_counts()"
   ]
  },
  {
   "cell_type": "markdown",
   "id": "39b70edf-a37f-41f9-8291-94e66c79d38b",
   "metadata": {},
   "source": [
    "ScreenResolution alanı kullanılarak yeni alanlar oluşturulabilir:\n",
    "* IPS Panel (1/0)\n",
    "* Touchscreen (1/0)\n",
    "* HD (1/0) İhtiyaca göre burası çeşitlendirilebilir (Full HD / Ultra HD ..)\n",
    "* Resolution (2400*1600/10000=384)"
   ]
  },
  {
   "cell_type": "code",
   "execution_count": 10,
   "id": "9f80fe2c-4bac-4a7e-99b5-67cc7b17f4ef",
   "metadata": {},
   "outputs": [
    {
     "data": {
      "text/plain": [
       "Cpu\n",
       "Intel Core i5 7200U 2.5GHz       190\n",
       "Intel Core i7 7700HQ 2.8GHz      146\n",
       "Intel Core i7 7500U 2.7GHz       134\n",
       "Intel Core i7 8550U 1.8GHz        73\n",
       "Intel Core i5 8250U 1.6GHz        72\n",
       "                                ... \n",
       "Intel Core M M3-6Y30 0.9GHz        1\n",
       "AMD A9-Series 9420 2.9GHz          1\n",
       "Intel Core i3 6006U 2.2GHz         1\n",
       "AMD A6-Series 7310 2GHz            1\n",
       "Intel Xeon E3-1535M v6 3.1GHz      1\n",
       "Name: count, Length: 118, dtype: int64"
      ]
     },
     "execution_count": 10,
     "metadata": {},
     "output_type": "execute_result"
    }
   ],
   "source": [
    "df.Cpu.value_counts()"
   ]
  },
  {
   "cell_type": "markdown",
   "id": "da1a5b38-a1a9-4e93-9cb1-a24deff490c1",
   "metadata": {},
   "source": [
    "Cpu alanından yeni alanlar üretilebilir:\n",
    "* CpuBrand (Intel / AMD ...)\n",
    "* CpuModel (Core i5 7200U / A9-Series 9420 ...)\n",
    "* CpuFrequency (2.5Ghz ...)"
   ]
  },
  {
   "cell_type": "code",
   "execution_count": 11,
   "id": "82c3a18d-27e8-4992-93e9-be9bc0238131",
   "metadata": {},
   "outputs": [
    {
     "data": {
      "text/plain": [
       "Ram\n",
       "8GB     619\n",
       "4GB     375\n",
       "16GB    200\n",
       "6GB      41\n",
       "12GB     25\n",
       "2GB      22\n",
       "32GB     17\n",
       "24GB      3\n",
       "64GB      1\n",
       "Name: count, dtype: int64"
      ]
     },
     "execution_count": 11,
     "metadata": {},
     "output_type": "execute_result"
    }
   ],
   "source": [
    "df.Ram.value_counts()"
   ]
  },
  {
   "cell_type": "markdown",
   "id": "fe3cdde3-0a90-4ae8-8ed5-f62d8686f2e4",
   "metadata": {},
   "source": [
    "Ram alanının tamamı GB büyüklüğünde. Doğrudan sayıya çevrilebilir"
   ]
  },
  {
   "cell_type": "code",
   "execution_count": 12,
   "id": "03542f56-c259-4ced-ae5b-d8fc566fb2a3",
   "metadata": {},
   "outputs": [
    {
     "data": {
      "text/plain": [
       "Memory\n",
       "256GB SSD                        412\n",
       "1TB HDD                          223\n",
       "500GB HDD                        132\n",
       "512GB SSD                        118\n",
       "128GB SSD +  1TB HDD              94\n",
       "128GB SSD                         76\n",
       "256GB SSD +  1TB HDD              73\n",
       "32GB Flash Storage                38\n",
       "2TB HDD                           16\n",
       "64GB Flash Storage                15\n",
       "512GB SSD +  1TB HDD              14\n",
       "1TB SSD                           14\n",
       "256GB SSD +  2TB HDD              10\n",
       "1.0TB Hybrid                       9\n",
       "256GB Flash Storage                8\n",
       "16GB Flash Storage                 7\n",
       "32GB SSD                           6\n",
       "180GB SSD                          5\n",
       "128GB Flash Storage                4\n",
       "512GB SSD +  2TB HDD               3\n",
       "16GB SSD                           3\n",
       "512GB Flash Storage                2\n",
       "1TB SSD +  1TB HDD                 2\n",
       "256GB SSD +  500GB HDD             2\n",
       "128GB SSD +  2TB HDD               2\n",
       "256GB SSD +  256GB SSD             2\n",
       "512GB SSD +  256GB SSD             1\n",
       "512GB SSD +  512GB SSD             1\n",
       "64GB Flash Storage +  1TB HDD      1\n",
       "1TB HDD +  1TB HDD                 1\n",
       "32GB HDD                           1\n",
       "64GB SSD                           1\n",
       "128GB HDD                          1\n",
       "240GB SSD                          1\n",
       "8GB SSD                            1\n",
       "508GB Hybrid                       1\n",
       "1.0TB HDD                          1\n",
       "512GB SSD +  1.0TB Hybrid          1\n",
       "256GB SSD +  1.0TB Hybrid          1\n",
       "Name: count, dtype: int64"
      ]
     },
     "execution_count": 12,
     "metadata": {},
     "output_type": "execute_result"
    }
   ],
   "source": [
    "df.Memory.value_counts()"
   ]
  },
  {
   "cell_type": "markdown",
   "id": "7dee4a5f-2085-4ef2-a950-0530f8b58027",
   "metadata": {},
   "source": [
    "Memory alanından yeni alanlar üretilebilir:\n",
    "* MemoryHDD (0/1)\n",
    "* MemorySSD (0/1)\n",
    "* MemoryFlash (0/1)\n",
    "* MemoryHDDSize\n",
    "* MemorySSDSize\n",
    "* MemoryFlashSize"
   ]
  },
  {
   "cell_type": "code",
   "execution_count": 13,
   "id": "51076aa9-e077-4775-9765-39928d5bf031",
   "metadata": {},
   "outputs": [
    {
     "data": {
      "text/plain": [
       "Gpu\n",
       "Intel HD Graphics 620      281\n",
       "Intel HD Graphics 520      185\n",
       "Intel UHD Graphics 620      68\n",
       "Nvidia GeForce GTX 1050     66\n",
       "Nvidia GeForce GTX 1060     48\n",
       "                          ... \n",
       "AMD Radeon R5 520            1\n",
       "AMD Radeon R7                1\n",
       "Intel HD Graphics 540        1\n",
       "AMD Radeon 540               1\n",
       "ARM Mali T860 MP4            1\n",
       "Name: count, Length: 110, dtype: int64"
      ]
     },
     "execution_count": 13,
     "metadata": {},
     "output_type": "execute_result"
    }
   ],
   "source": [
    "df.Gpu.value_counts()"
   ]
  },
  {
   "cell_type": "markdown",
   "id": "e7247b82-8af8-4c24-a373-513affb7374e",
   "metadata": {},
   "source": [
    "Gpu alanı için de yeni alanlar oluşturulabilir:\n",
    "* GPuBrand\n",
    "* GpuModel"
   ]
  },
  {
   "cell_type": "code",
   "execution_count": 14,
   "id": "b230cf08-0f27-402d-a78c-5d2e9690f698",
   "metadata": {},
   "outputs": [
    {
     "data": {
      "text/plain": [
       "OpSys\n",
       "Windows 10      1072\n",
       "No OS             66\n",
       "Linux             62\n",
       "Windows 7         45\n",
       "Chrome OS         27\n",
       "macOS             13\n",
       "Mac OS X           8\n",
       "Windows 10 S       8\n",
       "Android            2\n",
       "Name: count, dtype: int64"
      ]
     },
     "execution_count": 14,
     "metadata": {},
     "output_type": "execute_result"
    }
   ],
   "source": [
    "df.OpSys.value_counts()"
   ]
  },
  {
   "cell_type": "markdown",
   "id": "1b3b3c39-8a7e-46e5-b20a-9fc80c6001a3",
   "metadata": {},
   "source": [
    "OpSys alanından yeni bir alan oluşturulabilir:\n",
    "* OpSysPrice (0/1) İşletim sistemi ücretli mi ücretsiz mi"
   ]
  },
  {
   "cell_type": "code",
   "execution_count": 15,
   "id": "373caf3d-0e8d-472f-a762-9d892f5d360c",
   "metadata": {},
   "outputs": [
    {
     "data": {
      "text/plain": [
       "Weight\n",
       "2.2kg     121\n",
       "2.1kg      58\n",
       "2.4kg      44\n",
       "2.3kg      41\n",
       "2.5kg      38\n",
       "         ... \n",
       "3.25kg      1\n",
       "4.7kg       1\n",
       "1.55kg      1\n",
       "1.18kg      1\n",
       "4.0kg       1\n",
       "Name: count, Length: 179, dtype: int64"
      ]
     },
     "execution_count": 15,
     "metadata": {},
     "output_type": "execute_result"
    }
   ],
   "source": [
    "df.Weight.value_counts()"
   ]
  },
  {
   "cell_type": "markdown",
   "id": "8f79bbdb-640a-4b60-a16b-f89e4fc15240",
   "metadata": {},
   "source": [
    "Weight alanı sayıya çevrilebilir"
   ]
  },
  {
   "cell_type": "markdown",
   "id": "da42e4eb-8b3e-4d56-bf59-39185a19cc75",
   "metadata": {},
   "source": [
    "### Feature Engineering\n",
    "1. Yeni alanlar oluşturma\n",
    "2. Object alanları Category türüne çevirme"
   ]
  },
  {
   "cell_type": "code",
   "execution_count": 16,
   "id": "44e6a64e-708e-49bd-aa28-38b32d913670",
   "metadata": {},
   "outputs": [],
   "source": [
    "import numpy as np"
   ]
  },
  {
   "cell_type": "code",
   "execution_count": 17,
   "id": "92e961a9-8a9b-434b-8251-879bb8605c8a",
   "metadata": {},
   "outputs": [],
   "source": [
    "# ScreenResolution alanı kullanılarak yeni alanlar oluşturalım:\n",
    "df['IPS_Panel'] = np.where(df[\"ScreenResolution\"].str.contains('IPS Panel'), 1, 0) \n",
    "df['Touchscreen'] = np.where(df[\"ScreenResolution\"].str.contains('Touchscreen'), 1, 0) \n",
    "df['HD'] = np.where(df[\"ScreenResolution\"].str.contains('HD'), 1, 0) \n",
    "df['Resolution']= df['ScreenResolution'].str.extract(r'(\\d+x\\d+)')\n",
    "df['Resolution'] = df['Resolution'].str.split('x').apply(lambda x: int(x[0]) * int(x[1]) / 10000)"
   ]
  },
  {
   "cell_type": "code",
   "execution_count": 18,
   "id": "6c5ac2f2-c253-4e93-a9db-636ae9735e18",
   "metadata": {},
   "outputs": [],
   "source": [
    "# Cpu alanından yeni alanlar oluşturalım:\n",
    "df['CpuBrand'] = df[\"Cpu\"].str.split().apply(lambda x: x[0])\n",
    "df['CpuModel'] = df[\"Cpu\"].str.split().apply(lambda x: ' '.join(x[1:-1]))\n",
    "df['CpuFrequency'] = df[\"Cpu\"].str.split().apply(lambda x: x[-1])"
   ]
  },
  {
   "cell_type": "code",
   "execution_count": 19,
   "id": "f6801c98-3ee7-40cb-96ce-142b01830980",
   "metadata": {},
   "outputs": [],
   "source": [
    "# Weight alanını sayıya çevirelim\n",
    "df['Weight'] = df['Weight'].apply(lambda x: float(x.split(\"kg\")[0]))"
   ]
  },
  {
   "cell_type": "code",
   "execution_count": 20,
   "id": "1a17e531-8398-41d7-9389-a2a4a146f1ac",
   "metadata": {},
   "outputs": [],
   "source": [
    "# Ram alanını sayıya çevirelim\n",
    "df['Ram'] = df['Ram'].apply(lambda x: int(x.split(\"GB\")[0]))"
   ]
  },
  {
   "cell_type": "code",
   "execution_count": 21,
   "id": "c3ddf554-18ea-4659-a57e-c5d2797445fa",
   "metadata": {},
   "outputs": [],
   "source": [
    "# Memory alanından yeni alanlar üretelim:\n",
    "df['SSD'] = df['Memory'].apply(lambda x: 1 if 'SSD' in x else 0)\n",
    "df['HDD'] = df['Memory'].apply(lambda x: 1 if 'HDD' in x else 0)\n",
    "df['FlashStorage'] = df['Memory'].apply(lambda x: 1 if 'Flash Storage' in x else 0)\n",
    "df['SSDCapacity'] = df['Memory'].apply(lambda x: ' '.join([part.strip() for part in x.split('SSD') if part.strip()]) if 'SSD' in x else '')\n",
    "df['HDDCapacity'] = df['Memory'].apply(lambda x: ' '.join([part.strip() for part in x.split('HDD') if part.strip()]) if 'HDD' in x else '')\n",
    "df['FlashCapacity'] = df['Memory'].apply(lambda x: ' '.join([part.strip() for part in x.split('Flash Storage') if part.strip()]) if 'Flash Storage' in x else '')"
   ]
  },
  {
   "cell_type": "code",
   "execution_count": 22,
   "id": "f54fce45-c0c8-4766-9512-c131f3977ea6",
   "metadata": {},
   "outputs": [],
   "source": [
    "# SSD kapasitelerini toplayalım ve GB cinsinden temsil edelim\n",
    "df['SSDCapacity'] = df['SSDCapacity'].apply(lambda x: sum([int(part.strip().replace('GB', '')) if 'GB' in part else int(part.strip().replace('TB', '')) * 1024 for part in str(x).split('+') if 'HDD' not in part and 'Hybrid' not in part]) if x and 'Flash Storage' not in str(x) else '')"
   ]
  },
  {
   "cell_type": "code",
   "execution_count": 23,
   "id": "161c37d2-e568-4a9e-8c2c-15028552714b",
   "metadata": {},
   "outputs": [],
   "source": [
    "# HDD kapasitelerini toplayalım ve GB cinsinden temsil edelim\n",
    "df['HDDCapacity'] = df['HDDCapacity'].apply(lambda x: sum([int(float(part.strip().replace('GB', ''))) if 'GB' in part else int(float(part.strip().replace('TB', ''))) * 1024 for part in str(x).split('+') if 'SSD' not in part and 'Hybrid' not in part]) if x and 'Flash Storage' not in str(x) else '')"
   ]
  },
  {
   "cell_type": "code",
   "execution_count": 24,
   "id": "83910fbb-ef03-482b-9155-6009536d060a",
   "metadata": {},
   "outputs": [],
   "source": [
    "# Flash Storage kapasitelerini toplayalım ve GB cinsinden temsil edelim\n",
    "df['FlashCapacity'] = df['FlashCapacity'].apply(lambda x: sum([int(float(part.strip().replace('GB', ''))) if 'GB' in part else int(float(part.strip().replace('TB', ''))) * 1024 for part in str(x).split('+') if 'SSD' not in part and 'HDD' not in part]) if x and 'Hybrid' not in str(x) else '')"
   ]
  },
  {
   "cell_type": "code",
   "execution_count": 25,
   "id": "8464cb95-c0e8-4d09-951c-48a2d8e83b0d",
   "metadata": {},
   "outputs": [],
   "source": [
    "# Object türündeki alanı sayıya çevirme\n",
    "df['SSDCapacity'] = pd.to_numeric(df['SSDCapacity'], errors='coerce')\n",
    "df['HDDCapacity'] = pd.to_numeric(df['HDDCapacity'], errors='coerce')\n",
    "df['FlashCapacity'] = pd.to_numeric(df['FlashCapacity'], errors='coerce')"
   ]
  },
  {
   "cell_type": "code",
   "execution_count": 26,
   "id": "6f243ed8-c16e-4c61-8d10-acc5023e1a55",
   "metadata": {},
   "outputs": [],
   "source": [
    "# Boşlukları 0 ile dolduralım\n",
    "df['SSDCapacity']   = df['SSDCapacity'].fillna(0)\n",
    "df['HDDCapacity']   = df['HDDCapacity'].fillna(0)\n",
    "df['FlashCapacity'] = df['FlashCapacity'].fillna(0)"
   ]
  },
  {
   "cell_type": "code",
   "execution_count": 27,
   "id": "988ad996-56d4-4bf7-98a5-9fc4601b5fdc",
   "metadata": {},
   "outputs": [],
   "source": [
    "# Gpu alanı için de yeni alanlar oluşturulabilir:\n",
    "df['GpuBrand'] = df['Gpu'].apply(lambda x: x.split()[0] if x else '')\n",
    "df['GpuModel'] = df['Gpu'].apply(lambda x: x.split()[1] if x else '')"
   ]
  },
  {
   "cell_type": "code",
   "execution_count": 28,
   "id": "c42a7029-99f8-41ec-b46b-ab829c8df2e5",
   "metadata": {},
   "outputs": [],
   "source": [
    "# İşletim sisteminin ücretli olup olmadığını ayıralım\n",
    "df['OsType'] = df['OpSys'].apply(lambda x: 0 if x in ['No OS', 'Linux', 'Chrome OS', 'Android'] else 1)"
   ]
  },
  {
   "cell_type": "code",
   "execution_count": 29,
   "id": "0d8df06c-eb04-447f-bc9c-4a638799e99a",
   "metadata": {},
   "outputs": [],
   "source": [
    "# Object türündeki alanları kategoriye çevirelim\n",
    "object_columns = [\"Company\", \"TypeName\", \"CpuBrand\", \"CpuModel\", \"CpuFrequency\", \"GpuBrand\", \"GpuModel\"] \n",
    "df[object_columns] = df[object_columns].astype('category')"
   ]
  },
  {
   "cell_type": "code",
   "execution_count": 30,
   "id": "e9980ec4-9892-4c3b-8c32-0daebc03ba3a",
   "metadata": {},
   "outputs": [],
   "source": [
    "# İhtiyaç kalmayan alanları kaldıralım\n",
    "drop_columns=[\"ScreenResolution\", \"Cpu\", \"Memory\", \"Gpu\", \"OpSys\", \"Resolution\"]\n",
    "df.drop(drop_columns, axis=1, inplace=True)"
   ]
  },
  {
   "cell_type": "code",
   "execution_count": 31,
   "id": "d27db189-ca3f-401b-a9f4-ce39e8af2ba8",
   "metadata": {},
   "outputs": [
    {
     "name": "stdout",
     "output_type": "stream",
     "text": [
      "<class 'pandas.core.frame.DataFrame'>\n",
      "Index: 1303 entries, 0 to 1302\n",
      "Data columns (total 21 columns):\n",
      " #   Column         Non-Null Count  Dtype   \n",
      "---  ------         --------------  -----   \n",
      " 0   Company        1303 non-null   category\n",
      " 1   TypeName       1303 non-null   category\n",
      " 2   Inches         1303 non-null   float64 \n",
      " 3   Ram            1303 non-null   int64   \n",
      " 4   Weight         1303 non-null   float64 \n",
      " 5   Price          1303 non-null   float64 \n",
      " 6   IPS_Panel      1303 non-null   int32   \n",
      " 7   Touchscreen    1303 non-null   int32   \n",
      " 8   HD             1303 non-null   int32   \n",
      " 9   CpuBrand       1303 non-null   category\n",
      " 10  CpuModel       1303 non-null   category\n",
      " 11  CpuFrequency   1303 non-null   category\n",
      " 12  SSD            1303 non-null   int64   \n",
      " 13  HDD            1303 non-null   int64   \n",
      " 14  FlashStorage   1303 non-null   int64   \n",
      " 15  SSDCapacity    1303 non-null   float64 \n",
      " 16  HDDCapacity    1303 non-null   float64 \n",
      " 17  FlashCapacity  1303 non-null   float64 \n",
      " 18  GpuBrand       1303 non-null   category\n",
      " 19  GpuModel       1303 non-null   category\n",
      " 20  OsType         1303 non-null   int64   \n",
      "dtypes: category(7), float64(6), int32(3), int64(5)\n",
      "memory usage: 152.0 KB\n"
     ]
    }
   ],
   "source": [
    "df.info()"
   ]
  },
  {
   "cell_type": "code",
   "execution_count": 32,
   "id": "2d1be3a0-f198-48e4-bdf2-7c705368bdeb",
   "metadata": {},
   "outputs": [
    {
     "data": {
      "text/plain": [
       "Price            1.000000\n",
       "Ram              0.743007\n",
       "SSDCapacity      0.670682\n",
       "SSD              0.513609\n",
       "HD               0.377209\n",
       "OsType           0.281860\n",
       "IPS_Panel        0.252208\n",
       "FlashStorage     0.210823\n",
       "Weight           0.210370\n",
       "Touchscreen      0.191226\n",
       "HDD              0.169901\n",
       "HDDCapacity      0.096733\n",
       "Inches           0.068197\n",
       "FlashCapacity    0.040511\n",
       "Name: Price, dtype: float64"
      ]
     },
     "execution_count": 32,
     "metadata": {},
     "output_type": "execute_result"
    }
   ],
   "source": [
    "abs(df.corr(numeric_only=True)['Price']).sort_values(ascending=False)"
   ]
  },
  {
   "cell_type": "markdown",
   "id": "93087953-0537-4d8f-a3b1-856d0173f68d",
   "metadata": {},
   "source": [
    "### Regresyon Modeli Oluşturalım"
   ]
  },
  {
   "cell_type": "code",
   "execution_count": 2,
   "id": "45362142-4244-4c8b-a4d5-6fdfc7c6bba5",
   "metadata": {},
   "outputs": [],
   "source": [
    "import pandas as pd\n",
    "import numpy as np\n",
    "import matplotlib.pyplot as plt\n",
    "import seaborn as sns\n",
    "import warnings\n",
    "warnings.filterwarnings(\"ignore\")\n",
    "pd.set_option(\"display.max_columns\",100)\n",
    "\n",
    "from sklearn.linear_model import LinearRegression\n",
    "from sklearn.linear_model import Ridge,Lasso\n",
    "from sklearn.linear_model import ElasticNet\n",
    "from sklearn.neighbors import KNeighborsRegressor\n",
    "from sklearn.ensemble import AdaBoostRegressor\n",
    "from sklearn.ensemble import GradientBoostingRegressor\n",
    "from sklearn.ensemble import RandomForestRegressor\n",
    "from sklearn.tree import ExtraTreeRegressor\n",
    "from sklearn.tree import DecisionTreeRegressor\n",
    "from xgboost import XGBRegressor\n",
    "from sklearn.model_selection import train_test_split\n",
    "from sklearn.metrics import mean_squared_error,r2_score,mean_absolute_error\n",
    "\n",
    "\n",
    "def algo_test(x,y):\n",
    "        #Bütün modelleri tanımlıyorum\n",
    "        L=LinearRegression()\n",
    "        R=Ridge()\n",
    "        Lass=Lasso()\n",
    "        E=ElasticNet()\n",
    "        ETR=ExtraTreeRegressor()\n",
    "        GBR=GradientBoostingRegressor()\n",
    "        kn=KNeighborsRegressor()\n",
    "        dt=DecisionTreeRegressor()\n",
    "        xgb=XGBRegressor()\n",
    "        ab=AdaBoostRegressor()\n",
    "        rf=RandomForestRegressor()\n",
    "       \n",
    "        \n",
    "        algos=[L,R,Lass,E,ETR,GBR,kn,dt,xgb,ab,rf]\n",
    "        algo_names=['Linear','Ridge','Lasso','ElasticNet','Extra Tree','Gradient Boosting',\n",
    "                    'KNeighbors','Decision Tree','XGBRegressor', 'AdaBoost', 'Random Forest']\n",
    "        \n",
    "        x_train, x_test, y_train, y_test=train_test_split(x,y,test_size=.2,random_state=42)\n",
    "        \n",
    "        r_squared= []\n",
    "        rmse= []\n",
    "        mae= []\n",
    "        \n",
    "        #Hata ve doğruluk oranlarını bir tablo haline getirmek için bir dataframe oluşturuyorum\n",
    "        result=pd.DataFrame(columns=['R_Squared','RMSE','MAE'],index=algo_names)\n",
    "        \n",
    "        \n",
    "        for algo in algos:\n",
    "            p=algo.fit(x_train,y_train).predict(x_test)\n",
    "            r_squared.append(r2_score(y_test,p))\n",
    "            rmse.append(mean_squared_error(y_test,p)**.5)\n",
    "            mae.append(mean_absolute_error(y_test,p))\n",
    "        \n",
    "            \n",
    "\n",
    "        #result adlı tabloya doğruluk ve hata oranlarımı yerleştiriyorum\n",
    "        result.R_Squared=r_squared\n",
    "        result.RMSE=rmse\n",
    "        result.MAE=mae\n",
    "        \n",
    "       #oluşturduğum result tablosunu doğruluk oranına (r2_score) göre sıralayıp dönüyor\n",
    "        rtable=result.sort_values('R_Squared',ascending=False)\n",
    "        return rtable"
   ]
  },
  {
   "cell_type": "code",
   "execution_count": 34,
   "id": "50698732-685c-4df7-8ddb-9db391fec3cb",
   "metadata": {},
   "outputs": [
    {
     "data": {
      "text/plain": [
       "((1303, 171), (1303, 1))"
      ]
     },
     "execution_count": 34,
     "metadata": {},
     "output_type": "execute_result"
    }
   ],
   "source": [
    "x=df.drop([\"Price\", \"FlashCapacity\"], axis=1)\n",
    "y=df[[\"Price\"]]\n",
    "\n",
    "x=pd.get_dummies(x, drop_first=True)\n",
    "x.shape, y.shape"
   ]
  },
  {
   "cell_type": "code",
   "execution_count": 35,
   "id": "a3363ab1-bc07-446f-8c50-06d4d2caf05e",
   "metadata": {},
   "outputs": [
    {
     "data": {
      "text/html": [
       "<div>\n",
       "<style scoped>\n",
       "    .dataframe tbody tr th:only-of-type {\n",
       "        vertical-align: middle;\n",
       "    }\n",
       "\n",
       "    .dataframe tbody tr th {\n",
       "        vertical-align: top;\n",
       "    }\n",
       "\n",
       "    .dataframe thead th {\n",
       "        text-align: right;\n",
       "    }\n",
       "</style>\n",
       "<table border=\"1\" class=\"dataframe\">\n",
       "  <thead>\n",
       "    <tr style=\"text-align: right;\">\n",
       "      <th></th>\n",
       "      <th>R_Squared</th>\n",
       "      <th>RMSE</th>\n",
       "      <th>MAE</th>\n",
       "    </tr>\n",
       "  </thead>\n",
       "  <tbody>\n",
       "    <tr>\n",
       "      <th>Random Forest</th>\n",
       "      <td>0.815517</td>\n",
       "      <td>16309.602468</td>\n",
       "      <td>10128.389358</td>\n",
       "    </tr>\n",
       "    <tr>\n",
       "      <th>Gradient Boosting</th>\n",
       "      <td>0.814957</td>\n",
       "      <td>16334.305498</td>\n",
       "      <td>10627.400649</td>\n",
       "    </tr>\n",
       "    <tr>\n",
       "      <th>XGBRegressor</th>\n",
       "      <td>0.803610</td>\n",
       "      <td>16827.671001</td>\n",
       "      <td>9949.947296</td>\n",
       "    </tr>\n",
       "    <tr>\n",
       "      <th>Ridge</th>\n",
       "      <td>0.799451</td>\n",
       "      <td>17004.927648</td>\n",
       "      <td>12005.215781</td>\n",
       "    </tr>\n",
       "    <tr>\n",
       "      <th>Linear</th>\n",
       "      <td>0.797280</td>\n",
       "      <td>17096.719082</td>\n",
       "      <td>12286.907961</td>\n",
       "    </tr>\n",
       "    <tr>\n",
       "      <th>Lasso</th>\n",
       "      <td>0.796962</td>\n",
       "      <td>17110.132414</td>\n",
       "      <td>12225.940675</td>\n",
       "    </tr>\n",
       "    <tr>\n",
       "      <th>Decision Tree</th>\n",
       "      <td>0.722703</td>\n",
       "      <td>19995.721398</td>\n",
       "      <td>12375.524221</td>\n",
       "    </tr>\n",
       "    <tr>\n",
       "      <th>KNeighbors</th>\n",
       "      <td>0.688140</td>\n",
       "      <td>21205.320535</td>\n",
       "      <td>11685.094830</td>\n",
       "    </tr>\n",
       "    <tr>\n",
       "      <th>Extra Tree</th>\n",
       "      <td>0.681762</td>\n",
       "      <td>21421.053985</td>\n",
       "      <td>12974.637407</td>\n",
       "    </tr>\n",
       "    <tr>\n",
       "      <th>ElasticNet</th>\n",
       "      <td>0.681551</td>\n",
       "      <td>21428.152696</td>\n",
       "      <td>14677.800676</td>\n",
       "    </tr>\n",
       "    <tr>\n",
       "      <th>AdaBoost</th>\n",
       "      <td>0.605698</td>\n",
       "      <td>23844.008845</td>\n",
       "      <td>19341.326212</td>\n",
       "    </tr>\n",
       "  </tbody>\n",
       "</table>\n",
       "</div>"
      ],
      "text/plain": [
       "                   R_Squared          RMSE           MAE\n",
       "Random Forest       0.815517  16309.602468  10128.389358\n",
       "Gradient Boosting   0.814957  16334.305498  10627.400649\n",
       "XGBRegressor        0.803610  16827.671001   9949.947296\n",
       "Ridge               0.799451  17004.927648  12005.215781\n",
       "Linear              0.797280  17096.719082  12286.907961\n",
       "Lasso               0.796962  17110.132414  12225.940675\n",
       "Decision Tree       0.722703  19995.721398  12375.524221\n",
       "KNeighbors          0.688140  21205.320535  11685.094830\n",
       "Extra Tree          0.681762  21421.053985  12974.637407\n",
       "ElasticNet          0.681551  21428.152696  14677.800676\n",
       "AdaBoost            0.605698  23844.008845  19341.326212"
      ]
     },
     "execution_count": 35,
     "metadata": {},
     "output_type": "execute_result"
    }
   ],
   "source": [
    "algo_test(x,y)"
   ]
  },
  {
   "cell_type": "markdown",
   "id": "bf54c001-6792-4a72-8fc1-0dcbcc328688",
   "metadata": {},
   "source": [
    "### İnce Ayar Yapalım"
   ]
  },
  {
   "cell_type": "code",
   "execution_count": 36,
   "id": "8accfb75-d53b-4a8b-8be8-ad844cbba3fa",
   "metadata": {},
   "outputs": [],
   "source": [
    "import seaborn as sns"
   ]
  },
  {
   "cell_type": "code",
   "execution_count": 37,
   "id": "e12e9401-e42f-4734-a3f7-8232ece5cd1f",
   "metadata": {},
   "outputs": [
    {
     "data": {
      "text/plain": [
       "Price            1.000000\n",
       "Ram              0.743007\n",
       "SSDCapacity      0.670682\n",
       "SSD              0.513609\n",
       "HD               0.377209\n",
       "OsType           0.281860\n",
       "IPS_Panel        0.252208\n",
       "FlashStorage     0.210823\n",
       "Weight           0.210370\n",
       "Touchscreen      0.191226\n",
       "HDD              0.169901\n",
       "HDDCapacity      0.096733\n",
       "Inches           0.068197\n",
       "FlashCapacity    0.040511\n",
       "Name: Price, dtype: float64"
      ]
     },
     "execution_count": 37,
     "metadata": {},
     "output_type": "execute_result"
    }
   ],
   "source": [
    "abs(df.corr(numeric_only=True)['Price']).sort_values(ascending=False)"
   ]
  },
  {
   "cell_type": "code",
   "execution_count": 38,
   "id": "7210eb3b-1d0c-474a-a852-2c2a16175f23",
   "metadata": {},
   "outputs": [
    {
     "data": {
      "text/html": [
       "<div>\n",
       "<style scoped>\n",
       "    .dataframe tbody tr th:only-of-type {\n",
       "        vertical-align: middle;\n",
       "    }\n",
       "\n",
       "    .dataframe tbody tr th {\n",
       "        vertical-align: top;\n",
       "    }\n",
       "\n",
       "    .dataframe thead th {\n",
       "        text-align: right;\n",
       "    }\n",
       "</style>\n",
       "<table border=\"1\" class=\"dataframe\">\n",
       "  <thead>\n",
       "    <tr style=\"text-align: right;\">\n",
       "      <th></th>\n",
       "      <th>count</th>\n",
       "      <th>mean</th>\n",
       "      <th>std</th>\n",
       "      <th>min</th>\n",
       "      <th>25%</th>\n",
       "      <th>50%</th>\n",
       "      <th>75%</th>\n",
       "      <th>max</th>\n",
       "    </tr>\n",
       "  </thead>\n",
       "  <tbody>\n",
       "    <tr>\n",
       "      <th>Inches</th>\n",
       "      <td>1303.0</td>\n",
       "      <td>15.017191</td>\n",
       "      <td>1.426304</td>\n",
       "      <td>10.10</td>\n",
       "      <td>14.00</td>\n",
       "      <td>15.60</td>\n",
       "      <td>15.6000</td>\n",
       "      <td>18.40</td>\n",
       "    </tr>\n",
       "    <tr>\n",
       "      <th>Ram</th>\n",
       "      <td>1303.0</td>\n",
       "      <td>8.382195</td>\n",
       "      <td>5.084665</td>\n",
       "      <td>2.00</td>\n",
       "      <td>4.00</td>\n",
       "      <td>8.00</td>\n",
       "      <td>8.0000</td>\n",
       "      <td>64.00</td>\n",
       "    </tr>\n",
       "    <tr>\n",
       "      <th>Weight</th>\n",
       "      <td>1303.0</td>\n",
       "      <td>2.038734</td>\n",
       "      <td>0.665475</td>\n",
       "      <td>0.69</td>\n",
       "      <td>1.50</td>\n",
       "      <td>2.04</td>\n",
       "      <td>2.3000</td>\n",
       "      <td>4.70</td>\n",
       "    </tr>\n",
       "    <tr>\n",
       "      <th>Price</th>\n",
       "      <td>1303.0</td>\n",
       "      <td>59870.042910</td>\n",
       "      <td>37243.201786</td>\n",
       "      <td>9270.72</td>\n",
       "      <td>31914.72</td>\n",
       "      <td>52054.56</td>\n",
       "      <td>79274.2464</td>\n",
       "      <td>324954.72</td>\n",
       "    </tr>\n",
       "    <tr>\n",
       "      <th>IPS_Panel</th>\n",
       "      <td>1303.0</td>\n",
       "      <td>0.280123</td>\n",
       "      <td>0.449231</td>\n",
       "      <td>0.00</td>\n",
       "      <td>0.00</td>\n",
       "      <td>0.00</td>\n",
       "      <td>1.0000</td>\n",
       "      <td>1.00</td>\n",
       "    </tr>\n",
       "    <tr>\n",
       "      <th>Touchscreen</th>\n",
       "      <td>1303.0</td>\n",
       "      <td>0.147352</td>\n",
       "      <td>0.354593</td>\n",
       "      <td>0.00</td>\n",
       "      <td>0.00</td>\n",
       "      <td>0.00</td>\n",
       "      <td>0.0000</td>\n",
       "      <td>1.00</td>\n",
       "    </tr>\n",
       "    <tr>\n",
       "      <th>HD</th>\n",
       "      <td>1303.0</td>\n",
       "      <td>0.702993</td>\n",
       "      <td>0.457115</td>\n",
       "      <td>0.00</td>\n",
       "      <td>0.00</td>\n",
       "      <td>1.00</td>\n",
       "      <td>1.0000</td>\n",
       "      <td>1.00</td>\n",
       "    </tr>\n",
       "    <tr>\n",
       "      <th>SSD</th>\n",
       "      <td>1303.0</td>\n",
       "      <td>0.646969</td>\n",
       "      <td>0.478096</td>\n",
       "      <td>0.00</td>\n",
       "      <td>0.00</td>\n",
       "      <td>1.00</td>\n",
       "      <td>1.0000</td>\n",
       "      <td>1.00</td>\n",
       "    </tr>\n",
       "    <tr>\n",
       "      <th>HDD</th>\n",
       "      <td>1303.0</td>\n",
       "      <td>0.442057</td>\n",
       "      <td>0.496822</td>\n",
       "      <td>0.00</td>\n",
       "      <td>0.00</td>\n",
       "      <td>0.00</td>\n",
       "      <td>1.0000</td>\n",
       "      <td>1.00</td>\n",
       "    </tr>\n",
       "    <tr>\n",
       "      <th>FlashStorage</th>\n",
       "      <td>1303.0</td>\n",
       "      <td>0.057559</td>\n",
       "      <td>0.232998</td>\n",
       "      <td>0.00</td>\n",
       "      <td>0.00</td>\n",
       "      <td>0.00</td>\n",
       "      <td>0.0000</td>\n",
       "      <td>1.00</td>\n",
       "    </tr>\n",
       "    <tr>\n",
       "      <th>SSDCapacity</th>\n",
       "      <td>1303.0</td>\n",
       "      <td>184.027629</td>\n",
       "      <td>188.268689</td>\n",
       "      <td>0.00</td>\n",
       "      <td>0.00</td>\n",
       "      <td>256.00</td>\n",
       "      <td>256.0000</td>\n",
       "      <td>1024.00</td>\n",
       "    </tr>\n",
       "    <tr>\n",
       "      <th>HDDCapacity</th>\n",
       "      <td>1303.0</td>\n",
       "      <td>421.691481</td>\n",
       "      <td>527.872349</td>\n",
       "      <td>0.00</td>\n",
       "      <td>0.00</td>\n",
       "      <td>0.00</td>\n",
       "      <td>1024.0000</td>\n",
       "      <td>2048.00</td>\n",
       "    </tr>\n",
       "    <tr>\n",
       "      <th>FlashCapacity</th>\n",
       "      <td>1303.0</td>\n",
       "      <td>4.555641</td>\n",
       "      <td>30.274090</td>\n",
       "      <td>0.00</td>\n",
       "      <td>0.00</td>\n",
       "      <td>0.00</td>\n",
       "      <td>0.0000</td>\n",
       "      <td>512.00</td>\n",
       "    </tr>\n",
       "    <tr>\n",
       "      <th>OsType</th>\n",
       "      <td>1303.0</td>\n",
       "      <td>0.879509</td>\n",
       "      <td>0.325660</td>\n",
       "      <td>0.00</td>\n",
       "      <td>1.00</td>\n",
       "      <td>1.00</td>\n",
       "      <td>1.0000</td>\n",
       "      <td>1.00</td>\n",
       "    </tr>\n",
       "  </tbody>\n",
       "</table>\n",
       "</div>"
      ],
      "text/plain": [
       "                count          mean           std      min       25%  \\\n",
       "Inches         1303.0     15.017191      1.426304    10.10     14.00   \n",
       "Ram            1303.0      8.382195      5.084665     2.00      4.00   \n",
       "Weight         1303.0      2.038734      0.665475     0.69      1.50   \n",
       "Price          1303.0  59870.042910  37243.201786  9270.72  31914.72   \n",
       "IPS_Panel      1303.0      0.280123      0.449231     0.00      0.00   \n",
       "Touchscreen    1303.0      0.147352      0.354593     0.00      0.00   \n",
       "HD             1303.0      0.702993      0.457115     0.00      0.00   \n",
       "SSD            1303.0      0.646969      0.478096     0.00      0.00   \n",
       "HDD            1303.0      0.442057      0.496822     0.00      0.00   \n",
       "FlashStorage   1303.0      0.057559      0.232998     0.00      0.00   \n",
       "SSDCapacity    1303.0    184.027629    188.268689     0.00      0.00   \n",
       "HDDCapacity    1303.0    421.691481    527.872349     0.00      0.00   \n",
       "FlashCapacity  1303.0      4.555641     30.274090     0.00      0.00   \n",
       "OsType         1303.0      0.879509      0.325660     0.00      1.00   \n",
       "\n",
       "                    50%         75%        max  \n",
       "Inches            15.60     15.6000      18.40  \n",
       "Ram                8.00      8.0000      64.00  \n",
       "Weight             2.04      2.3000       4.70  \n",
       "Price          52054.56  79274.2464  324954.72  \n",
       "IPS_Panel          0.00      1.0000       1.00  \n",
       "Touchscreen        0.00      0.0000       1.00  \n",
       "HD                 1.00      1.0000       1.00  \n",
       "SSD                1.00      1.0000       1.00  \n",
       "HDD                0.00      1.0000       1.00  \n",
       "FlashStorage       0.00      0.0000       1.00  \n",
       "SSDCapacity      256.00    256.0000    1024.00  \n",
       "HDDCapacity        0.00   1024.0000    2048.00  \n",
       "FlashCapacity      0.00      0.0000     512.00  \n",
       "OsType             1.00      1.0000       1.00  "
      ]
     },
     "execution_count": 38,
     "metadata": {},
     "output_type": "execute_result"
    }
   ],
   "source": [
    "df.describe().T"
   ]
  },
  {
   "cell_type": "code",
   "execution_count": 39,
   "id": "067db398-5404-4ce9-a4d8-891f97d82731",
   "metadata": {},
   "outputs": [
    {
     "data": {
      "text/plain": [
       "<Axes: xlabel='Ram'>"
      ]
     },
     "execution_count": 39,
     "metadata": {},
     "output_type": "execute_result"
    },
    {
     "data": {
      "image/png": "[encoded data removed]",
      "text/plain": [
       "<Figure size 640x480 with 1 Axes>"
      ]
     },
     "metadata": {},
     "output_type": "display_data"
    }
   ],
   "source": [
    "sns.boxplot(x=df[\"Ram\"])"
   ]
  },
  {
   "cell_type": "code",
   "execution_count": 40,
   "id": "03c9ef1f-e7f0-42a3-8b47-cc73c35f81da",
   "metadata": {},
   "outputs": [],
   "source": [
    "df=df[df[\"Ram\"]<30]"
   ]
  },
  {
   "cell_type": "code",
   "execution_count": 41,
   "id": "699df799-8077-4ed3-b04b-5b64e52f1830",
   "metadata": {},
   "outputs": [
    {
     "data": {
      "text/plain": [
       "<Axes: xlabel='Weight'>"
      ]
     },
     "execution_count": 41,
     "metadata": {},
     "output_type": "execute_result"
    },
    {
     "data": {
      "image/png": "[encoded data removed]",
      "text/plain": [
       "<Figure size 640x480 with 1 Axes>"
      ]
     },
     "metadata": {},
     "output_type": "display_data"
    }
   ],
   "source": [
    "sns.boxplot(x=df[\"Weight\"])"
   ]
  },
  {
   "cell_type": "code",
   "execution_count": 42,
   "id": "216ca84e-454d-43d3-a0aa-ca4e8c840b9f",
   "metadata": {},
   "outputs": [],
   "source": [
    "df=df[df[\"Weight\"]<4.1]"
   ]
  },
  {
   "cell_type": "code",
   "execution_count": 43,
   "id": "4e3a89f2-d85c-4032-9845-7b96e95f7766",
   "metadata": {},
   "outputs": [
    {
     "data": {
      "text/html": [
       "<div>\n",
       "<style scoped>\n",
       "    .dataframe tbody tr th:only-of-type {\n",
       "        vertical-align: middle;\n",
       "    }\n",
       "\n",
       "    .dataframe tbody tr th {\n",
       "        vertical-align: top;\n",
       "    }\n",
       "\n",
       "    .dataframe thead th {\n",
       "        text-align: right;\n",
       "    }\n",
       "</style>\n",
       "<table border=\"1\" class=\"dataframe\">\n",
       "  <thead>\n",
       "    <tr style=\"text-align: right;\">\n",
       "      <th></th>\n",
       "      <th>R_Squared</th>\n",
       "      <th>RMSE</th>\n",
       "      <th>MAE</th>\n",
       "    </tr>\n",
       "  </thead>\n",
       "  <tbody>\n",
       "    <tr>\n",
       "      <th>XGBRegressor</th>\n",
       "      <td>0.847324</td>\n",
       "      <td>12542.841399</td>\n",
       "      <td>7960.322451</td>\n",
       "    </tr>\n",
       "    <tr>\n",
       "      <th>Random Forest</th>\n",
       "      <td>0.838490</td>\n",
       "      <td>12900.598674</td>\n",
       "      <td>8417.584073</td>\n",
       "    </tr>\n",
       "    <tr>\n",
       "      <th>Gradient Boosting</th>\n",
       "      <td>0.791907</td>\n",
       "      <td>14643.301106</td>\n",
       "      <td>10297.357896</td>\n",
       "    </tr>\n",
       "    <tr>\n",
       "      <th>Ridge</th>\n",
       "      <td>0.765213</td>\n",
       "      <td>15554.172346</td>\n",
       "      <td>10829.797362</td>\n",
       "    </tr>\n",
       "    <tr>\n",
       "      <th>Lasso</th>\n",
       "      <td>0.761817</td>\n",
       "      <td>15666.254243</td>\n",
       "      <td>11034.983536</td>\n",
       "    </tr>\n",
       "    <tr>\n",
       "      <th>Linear</th>\n",
       "      <td>0.759169</td>\n",
       "      <td>15753.122504</td>\n",
       "      <td>11133.272413</td>\n",
       "    </tr>\n",
       "    <tr>\n",
       "      <th>Decision Tree</th>\n",
       "      <td>0.749012</td>\n",
       "      <td>16081.879014</td>\n",
       "      <td>10919.098957</td>\n",
       "    </tr>\n",
       "    <tr>\n",
       "      <th>KNeighbors</th>\n",
       "      <td>0.721429</td>\n",
       "      <td>16942.513082</td>\n",
       "      <td>11398.743417</td>\n",
       "    </tr>\n",
       "    <tr>\n",
       "      <th>Extra Tree</th>\n",
       "      <td>0.702539</td>\n",
       "      <td>17507.546911</td>\n",
       "      <td>12078.756057</td>\n",
       "    </tr>\n",
       "    <tr>\n",
       "      <th>ElasticNet</th>\n",
       "      <td>0.679360</td>\n",
       "      <td>18176.872218</td>\n",
       "      <td>13609.505426</td>\n",
       "    </tr>\n",
       "    <tr>\n",
       "      <th>AdaBoost</th>\n",
       "      <td>0.635487</td>\n",
       "      <td>19380.561534</td>\n",
       "      <td>15707.911570</td>\n",
       "    </tr>\n",
       "  </tbody>\n",
       "</table>\n",
       "</div>"
      ],
      "text/plain": [
       "                   R_Squared          RMSE           MAE\n",
       "XGBRegressor        0.847324  12542.841399   7960.322451\n",
       "Random Forest       0.838490  12900.598674   8417.584073\n",
       "Gradient Boosting   0.791907  14643.301106  10297.357896\n",
       "Ridge               0.765213  15554.172346  10829.797362\n",
       "Lasso               0.761817  15666.254243  11034.983536\n",
       "Linear              0.759169  15753.122504  11133.272413\n",
       "Decision Tree       0.749012  16081.879014  10919.098957\n",
       "KNeighbors          0.721429  16942.513082  11398.743417\n",
       "Extra Tree          0.702539  17507.546911  12078.756057\n",
       "ElasticNet          0.679360  18176.872218  13609.505426\n",
       "AdaBoost            0.635487  19380.561534  15707.911570"
      ]
     },
     "execution_count": 43,
     "metadata": {},
     "output_type": "execute_result"
    }
   ],
   "source": [
    "x=df.drop([\"Price\", \"FlashCapacity\"], axis=1)\n",
    "y=df[[\"Price\"]]\n",
    "x=pd.get_dummies(x, drop_first=True)\n",
    "algo_test(x,y)"
   ]
  },
  {
   "cell_type": "code",
   "execution_count": 44,
   "id": "08d4e7b0-a218-4f30-8976-9727a6731dcf",
   "metadata": {},
   "outputs": [
    {
     "data": {
      "text/plain": [
       "{'max_depth': 7, 'min_samples_split': 2, 'n_estimators': 200}"
      ]
     },
     "execution_count": 44,
     "metadata": {},
     "output_type": "execute_result"
    }
   ],
   "source": [
    "# GridSearchCV kullanarak Random Forest için en iyi parametreleri test edelim\n",
    "\n",
    "from sklearn.ensemble import RandomForestRegressor\n",
    "from sklearn.model_selection import GridSearchCV\n",
    "\n",
    "rf = RandomForestRegressor()\n",
    "param_grid = {\n",
    "    'n_estimators': [100, 200, 300],\n",
    "    'max_depth': [3, 5, 7],\n",
    "    'min_samples_split': [2, 4, 6]\n",
    "}\n",
    "\n",
    "grid_search = GridSearchCV(estimator=rf, param_grid=param_grid, cv=5, scoring='neg_mean_squared_error')\n",
    "grid_search.fit(x, y)\n",
    "\n",
    "# En iyi hiperparametre değerlerini ve en iyi skoru alın\n",
    "best_params = grid_search.best_params_\n",
    "best_score = grid_search.best_score_\n",
    "\n",
    "best_params"
   ]
  },
  {
   "cell_type": "code",
   "execution_count": 45,
   "id": "6590819a-2654-40dc-a744-e4bbe30a915e",
   "metadata": {},
   "outputs": [],
   "source": [
    "r=RandomForestRegressor(max_depth=7, min_samples_split=4, n_estimators=200)"
   ]
  },
  {
   "cell_type": "code",
   "execution_count": 46,
   "id": "c4b6322d-6527-4649-8354-c74e3e424d2c",
   "metadata": {},
   "outputs": [],
   "source": [
    "x_train, x_test, y_train, y_test=train_test_split(x,y,test_size=.2,random_state=42)"
   ]
  },
  {
   "cell_type": "code",
   "execution_count": 47,
   "id": "aa05622d-7a95-4685-bd86-4365e336e8a2",
   "metadata": {},
   "outputs": [],
   "source": [
    "model=r.fit(x_train, y_train)"
   ]
  },
  {
   "cell_type": "code",
   "execution_count": 48,
   "id": "4faacb0d-4935-40d5-818a-6b816036b9cb",
   "metadata": {},
   "outputs": [],
   "source": [
    "tahmin=model.predict(x_test)"
   ]
  },
  {
   "cell_type": "code",
   "execution_count": 49,
   "id": "b31df7b1-610c-48de-a17f-5ac7d3153032",
   "metadata": {},
   "outputs": [
    {
     "data": {
      "text/plain": [
       "0.78789832412276"
      ]
     },
     "execution_count": 49,
     "metadata": {},
     "output_type": "execute_result"
    }
   ],
   "source": [
    "r2_score(y_test, tahmin)"
   ]
  },
  {
   "cell_type": "code",
   "execution_count": 50,
   "id": "157f0fc3-3683-45c9-aa1d-329eed57c0dc",
   "metadata": {},
   "outputs": [
    {
     "data": {
      "text/plain": [
       "14783.66757156628"
      ]
     },
     "execution_count": 50,
     "metadata": {},
     "output_type": "execute_result"
    }
   ],
   "source": [
    "mean_squared_error(tahmin, y_test)**.5"
   ]
  },
  {
   "cell_type": "markdown",
   "id": "321c9be8-0f03-4afd-870f-004e8698c3d4",
   "metadata": {},
   "source": [
    "Random Forest için yeni parametrelerle daha düşük başarı elde edildi <br>\n",
    "Parametresiz daha iyiymiş :)"
   ]
  },
  {
   "cell_type": "code",
   "execution_count": 51,
   "id": "a59a67ec-29c5-4f24-a96d-dac4d0900752",
   "metadata": {},
   "outputs": [
    {
     "data": {
      "text/plain": [
       "{'gamma': 0, 'learning_rate': 0.1, 'max_depth': 5, 'n_estimators': 300}"
      ]
     },
     "execution_count": 51,
     "metadata": {},
     "output_type": "execute_result"
    }
   ],
   "source": [
    "# GridSearchCV kullanarak bir de yukarıdaki en iyi sonucu veren modelin parametrelerini deneyelim\n",
    "\n",
    "import xgboost as xgb\n",
    "from sklearn.model_selection import GridSearchCV\n",
    "\n",
    "xgb_model = xgb.XGBRegressor()\n",
    "param_grid = {\n",
    "    'n_estimators': [100, 200, 300],\n",
    "    'learning_rate': [0.1, 0.05, 0.01],\n",
    "    'max_depth': [3, 5, 7],\n",
    "    'gamma': [0, 0.1, 0.2]\n",
    "}\n",
    "grid_search = GridSearchCV(estimator=xgb_model, param_grid=param_grid, cv=5, scoring='neg_mean_squared_error')\n",
    "grid_search.fit(x, y)\n",
    "\n",
    "# En iyi hiperparametre değerlerini ve en iyi skoru alın\n",
    "best_params = grid_search.best_params_\n",
    "best_score = grid_search.best_score_\n",
    "best_params"
   ]
  },
  {
   "cell_type": "code",
   "execution_count": 66,
   "id": "3a389f8a-b3a8-4361-a7e6-94e9537e2b2f",
   "metadata": {},
   "outputs": [],
   "source": [
    "xgb=XGBRegressor(gamma=0, learning_rate=0.1, max_depth=5, n_estimators=300)"
   ]
  },
  {
   "cell_type": "code",
   "execution_count": 67,
   "id": "3bf9752d-1e86-4133-9da0-ff8818946c82",
   "metadata": {},
   "outputs": [],
   "source": [
    "model=xgb.fit(x_train, y_train)"
   ]
  },
  {
   "cell_type": "code",
   "execution_count": 68,
   "id": "6d6341ec-be0b-4680-8c86-12a85fc65011",
   "metadata": {},
   "outputs": [],
   "source": [
    "tahmin=model.predict(x_test)"
   ]
  },
  {
   "cell_type": "code",
   "execution_count": 69,
   "id": "f80e670d-56a7-43db-8e87-af3e8f23178f",
   "metadata": {},
   "outputs": [
    {
     "data": {
      "text/plain": [
       "0.8408208808384507"
      ]
     },
     "execution_count": 69,
     "metadata": {},
     "output_type": "execute_result"
    }
   ],
   "source": [
    "r2_score(y_test, tahmin)"
   ]
  },
  {
   "cell_type": "code",
   "execution_count": 70,
   "id": "16c59233-1923-4502-a502-7a00c47796bf",
   "metadata": {},
   "outputs": [
    {
     "data": {
      "text/plain": [
       "12807.170371980828"
      ]
     },
     "execution_count": 70,
     "metadata": {},
     "output_type": "execute_result"
    }
   ],
   "source": [
    "mean_squared_error(y_test, tahmin) ** 0.5"
   ]
  },
  {
   "cell_type": "markdown",
   "id": "1cac6ea8-322c-4e21-9e66-f2bacd38c7dd",
   "metadata": {},
   "source": [
    "XGBRegressor modeli için de yeni parametrelerle daha düşük başarı elde edildi."
   ]
  },
  {
   "cell_type": "markdown",
   "id": "638f0232",
   "metadata": {},
   "source": [
    "## Sonuç\n",
    "\n",
    "Bu projede farklı modeller denenerek Laptop fiyatları tahmin eden regression modelleri geliştiridi."
   ]
  }
 ],
 "metadata": {
  "kernelspec": {
   "display_name": "Python 3 (ipykernel)",
   "language": "python",
   "name": "python3"
  },
  "language_info": {
   "codemirror_mode": {
    "name": "ipython",
    "version": 3
   },
   "file_extension": ".py",
   "mimetype": "text/x-python",
   "name": "python",
   "nbconvert_exporter": "python",
   "pygments_lexer": "ipython3",
   "version": "3.9.19"
  }
 },
 "nbformat": 4,
 "nbformat_minor": 5
}
