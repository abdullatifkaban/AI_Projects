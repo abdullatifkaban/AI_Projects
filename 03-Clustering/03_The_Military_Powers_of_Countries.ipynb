{
 "cells": [
  {
   "cell_type": "markdown",
   "id": "cc82dd47-c6c6-4405-a1fa-d3fed02184bf",
   "metadata": {
    "id": "cc82dd47-c6c6-4405-a1fa-d3fed02184bf"
   },
   "source": [
    "# CLUSTERING THE MILITARY POWERS OF COUNTRIES"
   ]
  },
  {
   "cell_type": "code",
   "execution_count": 1,
   "id": "a28118b5-b42c-498d-a331-b81aae30f6b7",
   "metadata": {
    "id": "a28118b5-b42c-498d-a331-b81aae30f6b7"
   },
   "outputs": [],
   "source": [
    "import pandas as pd\n",
    "pd.set_option(\"display.max_columns\",100)\n",
    "\n",
    "import warnings\n",
    "warnings.simplefilter(\"ignore\")"
   ]
  },
  {
   "cell_type": "code",
   "execution_count": 2,
   "id": "6d2c092d-84d8-4416-ae15-0bd7407d281e",
   "metadata": {
    "id": "6d2c092d-84d8-4416-ae15-0bd7407d281e"
   },
   "outputs": [],
   "source": [
    "df=pd.read_excel(\"../Data/World military power.xlsx\", skiprows=1)"
   ]
  },
  {
   "cell_type": "code",
   "execution_count": 3,
   "id": "abceb9d5-7f93-4622-ab2b-a266eacae96a",
   "metadata": {
    "colab": {
     "base_uri": "https://localhost:8080/",
     "height": 295
    },
    "id": "abceb9d5-7f93-4622-ab2b-a266eacae96a",
    "outputId": "04d2b0ee-cfa0-40f7-957e-66740a43e433"
   },
   "outputs": [
    {
     "data": {
      "text/html": [
       "<div>\n",
       "<style scoped>\n",
       "    .dataframe tbody tr th:only-of-type {\n",
       "        vertical-align: middle;\n",
       "    }\n",
       "\n",
       "    .dataframe tbody tr th {\n",
       "        vertical-align: top;\n",
       "    }\n",
       "\n",
       "    .dataframe thead th {\n",
       "        text-align: right;\n",
       "    }\n",
       "</style>\n",
       "<table border=\"1\" class=\"dataframe\">\n",
       "  <thead>\n",
       "    <tr style=\"text-align: right;\">\n",
       "      <th></th>\n",
       "      <th>Military Strength</th>\n",
       "      <th>Military Strength Power Index</th>\n",
       "      <th>Aircraft Strength</th>\n",
       "      <th>Aircraft Strength value</th>\n",
       "      <th>Fighter/Interceptor Strength</th>\n",
       "      <th>Fighter/Interceptor Strength value</th>\n",
       "      <th>Attack Aircraft Strength</th>\n",
       "      <th>Attack Aircraft Strength value</th>\n",
       "      <th>Transport Aircraft Fleet Strength</th>\n",
       "      <th>Transport Aircraft Fleet Strength value</th>\n",
       "      <th>Trainer Aircraft Fleet</th>\n",
       "      <th>Trainer Aircraft Fleet value</th>\n",
       "      <th>Helicopter Fleet Strength</th>\n",
       "      <th>Helicopter Fleet Strength value</th>\n",
       "      <th>Attack Helicopter Fleet Strength</th>\n",
       "      <th>Attack Helicopter Fleet Strength value</th>\n",
       "      <th>Tank Strength</th>\n",
       "      <th>Tank Strength value</th>\n",
       "      <th>AFV/APC Strength</th>\n",
       "      <th>AFV/APC Strength value</th>\n",
       "      <th>Self-Propelled Artillery Strength</th>\n",
       "      <th>Self-Propelled Artillery Strength value</th>\n",
       "      <th>Towed Artillery Strength</th>\n",
       "      <th>Towed Artillery Strength value</th>\n",
       "      <th>Rocket Projector Strength</th>\n",
       "      <th>Rocket Projector Strength value</th>\n",
       "      <th>Navy Fleet Strengths</th>\n",
       "      <th>Navy Fleet Strengths value</th>\n",
       "      <th>Aircraft Carrier Fleet Strength</th>\n",
       "      <th>Aircraft Carrier Fleet Strength value</th>\n",
       "      <th>Submarine Fleet Strength</th>\n",
       "      <th>Submarine Fleet Strength value</th>\n",
       "      <th>Destroyer Fleet Strength</th>\n",
       "      <th>Destroyer Fleet Strength value</th>\n",
       "      <th>Frigate Fleet Strength</th>\n",
       "      <th>Frigate Fleet Strength value</th>\n",
       "      <th>defense spending budget</th>\n",
       "      <th>defense spending budget value</th>\n",
       "      <th>External Debt</th>\n",
       "      <th>External Debt value</th>\n",
       "      <th>Airport Totals</th>\n",
       "      <th>Airport Totals value</th>\n",
       "      <th>Oil Production</th>\n",
       "      <th>Oil Production value</th>\n",
       "      <th>Oil Consumption</th>\n",
       "      <th>Oil Consumption value</th>\n",
       "      <th>Proven Oil Reserves</th>\n",
       "      <th>Proven Oil Reserves value</th>\n",
       "      <th>Available Manpower</th>\n",
       "      <th>Available Manpower value</th>\n",
       "      <th>Total Population</th>\n",
       "      <th>Total Population value</th>\n",
       "      <th>Total Square Land Area</th>\n",
       "      <th>Total Square Land Area value</th>\n",
       "      <th>Total Coastline Coverage</th>\n",
       "      <th>Total Coastline Coverage value</th>\n",
       "      <th>Total Waterway Coverage</th>\n",
       "      <th>Total Waterway Coverage value</th>\n",
       "      <th>Total Border Coverage</th>\n",
       "      <th>Total Border Coverage value</th>\n",
       "    </tr>\n",
       "  </thead>\n",
       "  <tbody>\n",
       "    <tr>\n",
       "      <th>0</th>\n",
       "      <td>Afghanistan</td>\n",
       "      <td>1.3444</td>\n",
       "      <td>Afghanistan</td>\n",
       "      <td>260</td>\n",
       "      <td>Afghanistan</td>\n",
       "      <td>0</td>\n",
       "      <td>Afghanistan</td>\n",
       "      <td>25</td>\n",
       "      <td>Afghanistan</td>\n",
       "      <td>30</td>\n",
       "      <td>Afghanistan</td>\n",
       "      <td>0</td>\n",
       "      <td>Afghanistan</td>\n",
       "      <td>187</td>\n",
       "      <td>Afghanistan</td>\n",
       "      <td>0</td>\n",
       "      <td>Afghanistan</td>\n",
       "      <td>0</td>\n",
       "      <td>Afghanistan</td>\n",
       "      <td>1062</td>\n",
       "      <td>Afghanistan</td>\n",
       "      <td>0</td>\n",
       "      <td>Afghanistan</td>\n",
       "      <td>176</td>\n",
       "      <td>Afghanistan</td>\n",
       "      <td>50</td>\n",
       "      <td>Afghanistan</td>\n",
       "      <td>0.0</td>\n",
       "      <td>Afghanistan</td>\n",
       "      <td>0.0</td>\n",
       "      <td>Afghanistan</td>\n",
       "      <td>0.0</td>\n",
       "      <td>Afghanistan</td>\n",
       "      <td>0.0</td>\n",
       "      <td>Afghanistan</td>\n",
       "      <td>0.0</td>\n",
       "      <td>Afghanistan</td>\n",
       "      <td>12,00,00,00,000</td>\n",
       "      <td>Afghanistan</td>\n",
       "      <td>2,84,00,00,000</td>\n",
       "      <td>Afghanistan</td>\n",
       "      <td>43</td>\n",
       "      <td>Afghanistan</td>\n",
       "      <td>0</td>\n",
       "      <td>Afghanistan</td>\n",
       "      <td>5500</td>\n",
       "      <td>Afghanistan</td>\n",
       "      <td>0</td>\n",
       "      <td>Afghanistan</td>\n",
       "      <td>1,43,25,743</td>\n",
       "      <td>Afghanistan</td>\n",
       "      <td>3,49,40,837</td>\n",
       "      <td>Afghanistan</td>\n",
       "      <td>6,52,230</td>\n",
       "      <td>Afghanistan</td>\n",
       "      <td>0</td>\n",
       "      <td>Afghanistan</td>\n",
       "      <td>1200</td>\n",
       "      <td>Afghanistan</td>\n",
       "      <td>5987.0</td>\n",
       "    </tr>\n",
       "    <tr>\n",
       "      <th>1</th>\n",
       "      <td>Albania</td>\n",
       "      <td>2.3137</td>\n",
       "      <td>Albania</td>\n",
       "      <td>19</td>\n",
       "      <td>Albania</td>\n",
       "      <td>0</td>\n",
       "      <td>Albania</td>\n",
       "      <td>0</td>\n",
       "      <td>Albania</td>\n",
       "      <td>0</td>\n",
       "      <td>Albania</td>\n",
       "      <td>0</td>\n",
       "      <td>Albania</td>\n",
       "      <td>19</td>\n",
       "      <td>Albania</td>\n",
       "      <td>0</td>\n",
       "      <td>Albania</td>\n",
       "      <td>0</td>\n",
       "      <td>Albania</td>\n",
       "      <td>467</td>\n",
       "      <td>Albania</td>\n",
       "      <td>0</td>\n",
       "      <td>Albania</td>\n",
       "      <td>0</td>\n",
       "      <td>Albania</td>\n",
       "      <td>0</td>\n",
       "      <td>Albania</td>\n",
       "      <td>38.0</td>\n",
       "      <td>Albania</td>\n",
       "      <td>0.0</td>\n",
       "      <td>Albania</td>\n",
       "      <td>0.0</td>\n",
       "      <td>Albania</td>\n",
       "      <td>0.0</td>\n",
       "      <td>Albania</td>\n",
       "      <td>0.0</td>\n",
       "      <td>Albania</td>\n",
       "      <td>25,00,00,000</td>\n",
       "      <td>Albania</td>\n",
       "      <td>9,50,50,00,000</td>\n",
       "      <td>Albania</td>\n",
       "      <td>4</td>\n",
       "      <td>Albania</td>\n",
       "      <td>16000</td>\n",
       "      <td>Albania</td>\n",
       "      <td>42500</td>\n",
       "      <td>Albania</td>\n",
       "      <td>16,83,00,000</td>\n",
       "      <td>Albania</td>\n",
       "      <td>15,19,438</td>\n",
       "      <td>Albania</td>\n",
       "      <td>30,57,220</td>\n",
       "      <td>Albania</td>\n",
       "      <td>28748</td>\n",
       "      <td>Albania</td>\n",
       "      <td>362</td>\n",
       "      <td>Albania</td>\n",
       "      <td>41</td>\n",
       "      <td>Albania</td>\n",
       "      <td>691.0</td>\n",
       "    </tr>\n",
       "    <tr>\n",
       "      <th>2</th>\n",
       "      <td>Algeria</td>\n",
       "      <td>0.4659</td>\n",
       "      <td>Algeria</td>\n",
       "      <td>551</td>\n",
       "      <td>Algeria</td>\n",
       "      <td>103</td>\n",
       "      <td>Algeria</td>\n",
       "      <td>22</td>\n",
       "      <td>Algeria</td>\n",
       "      <td>59</td>\n",
       "      <td>Algeria</td>\n",
       "      <td>87</td>\n",
       "      <td>Algeria</td>\n",
       "      <td>257</td>\n",
       "      <td>Algeria</td>\n",
       "      <td>45</td>\n",
       "      <td>Algeria</td>\n",
       "      <td>880</td>\n",
       "      <td>Algeria</td>\n",
       "      <td>7361</td>\n",
       "      <td>Algeria</td>\n",
       "      <td>320</td>\n",
       "      <td>Algeria</td>\n",
       "      <td>240</td>\n",
       "      <td>Algeria</td>\n",
       "      <td>316</td>\n",
       "      <td>Algeria</td>\n",
       "      <td>201.0</td>\n",
       "      <td>Algeria</td>\n",
       "      <td>0.0</td>\n",
       "      <td>Algeria</td>\n",
       "      <td>6.0</td>\n",
       "      <td>Algeria</td>\n",
       "      <td>0.0</td>\n",
       "      <td>Algeria</td>\n",
       "      <td>5.0</td>\n",
       "      <td>Algeria</td>\n",
       "      <td>13,00,00,00,000</td>\n",
       "      <td>Algeria</td>\n",
       "      <td>6,26,00,00,000</td>\n",
       "      <td>Algeria</td>\n",
       "      <td>157</td>\n",
       "      <td>Algeria</td>\n",
       "      <td>13,06,000</td>\n",
       "      <td>Algeria</td>\n",
       "      <td>3,25,000</td>\n",
       "      <td>Algeria</td>\n",
       "      <td>12,20,00,00,000</td>\n",
       "      <td>Algeria</td>\n",
       "      <td>2,07,41,263</td>\n",
       "      <td>Algeria</td>\n",
       "      <td>4,16,57,488</td>\n",
       "      <td>Algeria</td>\n",
       "      <td>23,81,741</td>\n",
       "      <td>Algeria</td>\n",
       "      <td>998</td>\n",
       "      <td>Algeria</td>\n",
       "      <td>0</td>\n",
       "      <td>Algeria</td>\n",
       "      <td>6734.0</td>\n",
       "    </tr>\n",
       "    <tr>\n",
       "      <th>3</th>\n",
       "      <td>Angola</td>\n",
       "      <td>0.8379</td>\n",
       "      <td>Angola</td>\n",
       "      <td>295</td>\n",
       "      <td>Angola</td>\n",
       "      <td>72</td>\n",
       "      <td>Angola</td>\n",
       "      <td>18</td>\n",
       "      <td>Angola</td>\n",
       "      <td>30</td>\n",
       "      <td>Angola</td>\n",
       "      <td>47</td>\n",
       "      <td>Angola</td>\n",
       "      <td>126</td>\n",
       "      <td>Angola</td>\n",
       "      <td>15</td>\n",
       "      <td>Angola</td>\n",
       "      <td>379</td>\n",
       "      <td>Angola</td>\n",
       "      <td>595</td>\n",
       "      <td>Angola</td>\n",
       "      <td>28</td>\n",
       "      <td>Angola</td>\n",
       "      <td>357</td>\n",
       "      <td>Angola</td>\n",
       "      <td>115</td>\n",
       "      <td>Angola</td>\n",
       "      <td>57.0</td>\n",
       "      <td>Angola</td>\n",
       "      <td>0.0</td>\n",
       "      <td>Angola</td>\n",
       "      <td>0.0</td>\n",
       "      <td>Angola</td>\n",
       "      <td>0.0</td>\n",
       "      <td>Angola</td>\n",
       "      <td>0.0</td>\n",
       "      <td>Angola</td>\n",
       "      <td>7,00,00,00,000</td>\n",
       "      <td>Angola</td>\n",
       "      <td>42,08,00,00,000</td>\n",
       "      <td>Angola</td>\n",
       "      <td>176</td>\n",
       "      <td>Angola</td>\n",
       "      <td>16,66,000</td>\n",
       "      <td>Angola</td>\n",
       "      <td>82300</td>\n",
       "      <td>Angola</td>\n",
       "      <td>8,27,30,00,000</td>\n",
       "      <td>Angola</td>\n",
       "      <td>62,44,205</td>\n",
       "      <td>Angola</td>\n",
       "      <td>3,03,55,880</td>\n",
       "      <td>Angola</td>\n",
       "      <td>12,46,700</td>\n",
       "      <td>Angola</td>\n",
       "      <td>1600</td>\n",
       "      <td>Angola</td>\n",
       "      <td>1300</td>\n",
       "      <td>Angola</td>\n",
       "      <td>5369.0</td>\n",
       "    </tr>\n",
       "    <tr>\n",
       "      <th>4</th>\n",
       "      <td>Argentina</td>\n",
       "      <td>0.6521</td>\n",
       "      <td>Argentina</td>\n",
       "      <td>227</td>\n",
       "      <td>Argentina</td>\n",
       "      <td>24</td>\n",
       "      <td>Argentina</td>\n",
       "      <td>7</td>\n",
       "      <td>Argentina</td>\n",
       "      <td>9</td>\n",
       "      <td>Argentina</td>\n",
       "      <td>64</td>\n",
       "      <td>Argentina</td>\n",
       "      <td>100</td>\n",
       "      <td>Argentina</td>\n",
       "      <td>0</td>\n",
       "      <td>Argentina</td>\n",
       "      <td>370</td>\n",
       "      <td>Argentina</td>\n",
       "      <td>739</td>\n",
       "      <td>Argentina</td>\n",
       "      <td>83</td>\n",
       "      <td>Argentina</td>\n",
       "      <td>172</td>\n",
       "      <td>Argentina</td>\n",
       "      <td>26</td>\n",
       "      <td>Argentina</td>\n",
       "      <td>49.0</td>\n",
       "      <td>Argentina</td>\n",
       "      <td>0.0</td>\n",
       "      <td>Argentina</td>\n",
       "      <td>2.0</td>\n",
       "      <td>Argentina</td>\n",
       "      <td>4.0</td>\n",
       "      <td>Argentina</td>\n",
       "      <td>0.0</td>\n",
       "      <td>Argentina</td>\n",
       "      <td>4,20,00,00,000</td>\n",
       "      <td>Argentina</td>\n",
       "      <td>2,14,90,00,00,000</td>\n",
       "      <td>Argentina</td>\n",
       "      <td>1138</td>\n",
       "      <td>Argentina</td>\n",
       "      <td>4,79,400</td>\n",
       "      <td>Argentina</td>\n",
       "      <td>6,85,000</td>\n",
       "      <td>Argentina</td>\n",
       "      <td>2,18,50,00,000</td>\n",
       "      <td>Argentina</td>\n",
       "      <td>2,01,79,430</td>\n",
       "      <td>Argentina</td>\n",
       "      <td>4,46,94,198</td>\n",
       "      <td>Argentina</td>\n",
       "      <td>27,80,400</td>\n",
       "      <td>Argentina</td>\n",
       "      <td>4989</td>\n",
       "      <td>Argentina</td>\n",
       "      <td>11000</td>\n",
       "      <td>Argentina</td>\n",
       "      <td>11968.0</td>\n",
       "    </tr>\n",
       "  </tbody>\n",
       "</table>\n",
       "</div>"
      ],
      "text/plain": [
       "  Military Strength  Military Strength Power Index Aircraft Strength  \\\n",
       "0       Afghanistan                         1.3444       Afghanistan   \n",
       "1           Albania                         2.3137           Albania   \n",
       "2           Algeria                         0.4659           Algeria   \n",
       "3            Angola                         0.8379            Angola   \n",
       "4         Argentina                         0.6521         Argentina   \n",
       "\n",
       "   Aircraft Strength value Fighter/Interceptor Strength  \\\n",
       "0                      260                  Afghanistan   \n",
       "1                       19                      Albania   \n",
       "2                      551                      Algeria   \n",
       "3                      295                       Angola   \n",
       "4                      227                    Argentina   \n",
       "\n",
       "   Fighter/Interceptor Strength value Attack Aircraft Strength  \\\n",
       "0                                   0              Afghanistan   \n",
       "1                                   0                  Albania   \n",
       "2                                 103                  Algeria   \n",
       "3                                  72                   Angola   \n",
       "4                                  24                Argentina   \n",
       "\n",
       "   Attack Aircraft Strength value Transport Aircraft Fleet Strength  \\\n",
       "0                              25                       Afghanistan   \n",
       "1                               0                           Albania   \n",
       "2                              22                           Algeria   \n",
       "3                              18                            Angola   \n",
       "4                               7                         Argentina   \n",
       "\n",
       "   Transport Aircraft Fleet Strength value Trainer Aircraft Fleet  \\\n",
       "0                                       30            Afghanistan   \n",
       "1                                        0                Albania   \n",
       "2                                       59                Algeria   \n",
       "3                                       30                 Angola   \n",
       "4                                        9              Argentina   \n",
       "\n",
       "   Trainer Aircraft Fleet value Helicopter Fleet Strength  \\\n",
       "0                             0               Afghanistan   \n",
       "1                             0                   Albania   \n",
       "2                            87                   Algeria   \n",
       "3                            47                    Angola   \n",
       "4                            64                 Argentina   \n",
       "\n",
       "   Helicopter Fleet Strength value Attack Helicopter Fleet Strength  \\\n",
       "0                              187                      Afghanistan   \n",
       "1                               19                          Albania   \n",
       "2                              257                          Algeria   \n",
       "3                              126                           Angola   \n",
       "4                              100                        Argentina   \n",
       "\n",
       "   Attack Helicopter Fleet Strength value Tank Strength  Tank Strength value  \\\n",
       "0                                       0   Afghanistan                    0   \n",
       "1                                       0       Albania                    0   \n",
       "2                                      45       Algeria                  880   \n",
       "3                                      15        Angola                  379   \n",
       "4                                       0     Argentina                  370   \n",
       "\n",
       "  AFV/APC Strength  AFV/APC Strength value Self-Propelled Artillery Strength  \\\n",
       "0      Afghanistan                    1062                       Afghanistan   \n",
       "1          Albania                     467                           Albania   \n",
       "2          Algeria                    7361                           Algeria   \n",
       "3           Angola                     595                            Angola   \n",
       "4        Argentina                     739                         Argentina   \n",
       "\n",
       "   Self-Propelled Artillery Strength value Towed Artillery Strength  \\\n",
       "0                                        0              Afghanistan   \n",
       "1                                        0                  Albania   \n",
       "2                                      320                  Algeria   \n",
       "3                                       28                   Angola   \n",
       "4                                       83                Argentina   \n",
       "\n",
       "   Towed Artillery Strength value Rocket Projector Strength  \\\n",
       "0                             176               Afghanistan   \n",
       "1                               0                   Albania   \n",
       "2                             240                   Algeria   \n",
       "3                             357                    Angola   \n",
       "4                             172                 Argentina   \n",
       "\n",
       "   Rocket Projector Strength value Navy Fleet Strengths  \\\n",
       "0                               50          Afghanistan   \n",
       "1                                0              Albania   \n",
       "2                              316              Algeria   \n",
       "3                              115               Angola   \n",
       "4                               26            Argentina   \n",
       "\n",
       "   Navy Fleet Strengths value Aircraft Carrier Fleet Strength  \\\n",
       "0                         0.0                     Afghanistan   \n",
       "1                        38.0                         Albania   \n",
       "2                       201.0                         Algeria   \n",
       "3                        57.0                          Angola   \n",
       "4                        49.0                       Argentina   \n",
       "\n",
       "   Aircraft Carrier Fleet Strength value Submarine Fleet Strength  \\\n",
       "0                                    0.0              Afghanistan   \n",
       "1                                    0.0                  Albania   \n",
       "2                                    0.0                  Algeria   \n",
       "3                                    0.0                   Angola   \n",
       "4                                    0.0                Argentina   \n",
       "\n",
       "   Submarine Fleet Strength value Destroyer Fleet Strength  \\\n",
       "0                             0.0              Afghanistan   \n",
       "1                             0.0                  Albania   \n",
       "2                             6.0                  Algeria   \n",
       "3                             0.0                   Angola   \n",
       "4                             2.0                Argentina   \n",
       "\n",
       "   Destroyer Fleet Strength value Frigate Fleet Strength  \\\n",
       "0                             0.0            Afghanistan   \n",
       "1                             0.0                Albania   \n",
       "2                             0.0                Algeria   \n",
       "3                             0.0                 Angola   \n",
       "4                             4.0              Argentina   \n",
       "\n",
       "   Frigate Fleet Strength value defense spending budget  \\\n",
       "0                           0.0             Afghanistan   \n",
       "1                           0.0                 Albania   \n",
       "2                           5.0                 Algeria   \n",
       "3                           0.0                  Angola   \n",
       "4                           0.0               Argentina   \n",
       "\n",
       "  defense spending budget value External Debt External Debt value  \\\n",
       "0               12,00,00,00,000   Afghanistan      2,84,00,00,000   \n",
       "1                  25,00,00,000       Albania      9,50,50,00,000   \n",
       "2               13,00,00,00,000       Algeria      6,26,00,00,000   \n",
       "3                7,00,00,00,000        Angola     42,08,00,00,000   \n",
       "4                4,20,00,00,000     Argentina   2,14,90,00,00,000   \n",
       "\n",
       "  Airport Totals  Airport Totals value Oil Production Oil Production value  \\\n",
       "0    Afghanistan                    43    Afghanistan                    0   \n",
       "1        Albania                     4        Albania                16000   \n",
       "2        Algeria                   157        Algeria            13,06,000   \n",
       "3         Angola                   176         Angola            16,66,000   \n",
       "4      Argentina                  1138      Argentina             4,79,400   \n",
       "\n",
       "  Oil Consumption Oil Consumption value Proven Oil Reserves  \\\n",
       "0     Afghanistan                  5500         Afghanistan   \n",
       "1         Albania                 42500             Albania   \n",
       "2         Algeria              3,25,000             Algeria   \n",
       "3          Angola                 82300              Angola   \n",
       "4       Argentina              6,85,000           Argentina   \n",
       "\n",
       "  Proven Oil Reserves value Available Manpower Available Manpower value  \\\n",
       "0                         0        Afghanistan              1,43,25,743   \n",
       "1              16,83,00,000            Albania                15,19,438   \n",
       "2           12,20,00,00,000            Algeria              2,07,41,263   \n",
       "3            8,27,30,00,000             Angola                62,44,205   \n",
       "4            2,18,50,00,000          Argentina              2,01,79,430   \n",
       "\n",
       "  Total Population Total Population value Total Square Land Area  \\\n",
       "0      Afghanistan            3,49,40,837            Afghanistan   \n",
       "1          Albania              30,57,220                Albania   \n",
       "2          Algeria            4,16,57,488                Algeria   \n",
       "3           Angola            3,03,55,880                 Angola   \n",
       "4        Argentina            4,46,94,198              Argentina   \n",
       "\n",
       "  Total Square Land Area value Total Coastline Coverage  \\\n",
       "0                     6,52,230              Afghanistan   \n",
       "1                        28748                  Albania   \n",
       "2                    23,81,741                  Algeria   \n",
       "3                    12,46,700                   Angola   \n",
       "4                    27,80,400                Argentina   \n",
       "\n",
       "  Total Coastline Coverage value Total Waterway Coverage  \\\n",
       "0                              0             Afghanistan   \n",
       "1                            362                 Albania   \n",
       "2                            998                 Algeria   \n",
       "3                           1600                  Angola   \n",
       "4                           4989               Argentina   \n",
       "\n",
       "  Total Waterway Coverage value Total Border Coverage  \\\n",
       "0                          1200           Afghanistan   \n",
       "1                            41               Albania   \n",
       "2                             0               Algeria   \n",
       "3                          1300                Angola   \n",
       "4                         11000             Argentina   \n",
       "\n",
       "   Total Border Coverage value  \n",
       "0                       5987.0  \n",
       "1                        691.0  \n",
       "2                       6734.0  \n",
       "3                       5369.0  \n",
       "4                      11968.0  "
      ]
     },
     "execution_count": 3,
     "metadata": {},
     "output_type": "execute_result"
    }
   ],
   "source": [
    "df.head()"
   ]
  },
  {
   "cell_type": "code",
   "execution_count": 4,
   "id": "5d2428f6-34c1-4c4c-b55e-4e79b7b0f1b7",
   "metadata": {
    "colab": {
     "base_uri": "https://localhost:8080/",
     "height": 295
    },
    "id": "5d2428f6-34c1-4c4c-b55e-4e79b7b0f1b7",
    "outputId": "5512566d-c5bd-4aaa-fac2-fe6bbf9fc6b7"
   },
   "outputs": [],
   "source": [
    "# Ülke isimlerinin tekrarı olan alanlardan kurtulalım\n",
    "df1 = df.iloc[:, 0:2] # İlk 2 sütunu alalım\n",
    "df2 = df.filter(like='value') # Sütun adında value olanları alalım\n",
    "df=pd.concat([df1, df2], axis=1) # Bu ikisini birleştirelim"
   ]
  },
  {
   "cell_type": "code",
   "execution_count": 5,
   "id": "8021c643-3b2c-483f-8eb5-85b6a9a7d6e1",
   "metadata": {
    "colab": {
     "base_uri": "https://localhost:8080/"
    },
    "id": "8021c643-3b2c-483f-8eb5-85b6a9a7d6e1",
    "outputId": "b7bb893e-4e59-43a9-e2f8-8ef6b66b67aa"
   },
   "outputs": [
    {
     "name": "stdout",
     "output_type": "stream",
     "text": [
      "<class 'pandas.core.frame.DataFrame'>\n",
      "RangeIndex: 138 entries, 0 to 137\n",
      "Data columns (total 31 columns):\n",
      " #   Column                                   Non-Null Count  Dtype  \n",
      "---  ------                                   --------------  -----  \n",
      " 0   Military Strength                        138 non-null    object \n",
      " 1   Military Strength Power Index            138 non-null    float64\n",
      " 2   Aircraft Strength value                  138 non-null    int64  \n",
      " 3   Fighter/Interceptor Strength value       138 non-null    int64  \n",
      " 4   Attack Aircraft Strength value           138 non-null    int64  \n",
      " 5   Transport Aircraft Fleet Strength value  138 non-null    int64  \n",
      " 6   Trainer Aircraft Fleet value             138 non-null    int64  \n",
      " 7   Helicopter Fleet Strength value          138 non-null    int64  \n",
      " 8   Attack Helicopter Fleet Strength value   138 non-null    int64  \n",
      " 9   Tank Strength value                      138 non-null    int64  \n",
      " 10  AFV/APC Strength value                   138 non-null    int64  \n",
      " 11  Self-Propelled Artillery Strength value  138 non-null    int64  \n",
      " 12  Towed Artillery Strength value           138 non-null    int64  \n",
      " 13  Rocket Projector Strength value          138 non-null    int64  \n",
      " 14  Navy Fleet Strengths value               124 non-null    float64\n",
      " 15  Aircraft Carrier Fleet Strength value    115 non-null    float64\n",
      " 16  Submarine Fleet Strength value           115 non-null    float64\n",
      " 17  Destroyer Fleet Strength value           115 non-null    float64\n",
      " 18  Frigate Fleet Strength value             115 non-null    float64\n",
      " 19  defense spending budget value            138 non-null    object \n",
      " 20  External Debt value                      138 non-null    object \n",
      " 21  Airport Totals value                     138 non-null    int64  \n",
      " 22  Oil Production value                     138 non-null    object \n",
      " 23  Oil Consumption value                    138 non-null    object \n",
      " 24  Proven Oil Reserves value                138 non-null    object \n",
      " 25  Available Manpower value                 138 non-null    object \n",
      " 26  Total Population value                   138 non-null    object \n",
      " 27  Total Square Land Area value             138 non-null    object \n",
      " 28  Total Coastline Coverage value           109 non-null    object \n",
      " 29  Total Waterway Coverage value            138 non-null    object \n",
      " 30  Total Border Coverage value              129 non-null    float64\n",
      "dtypes: float64(7), int64(13), object(11)\n",
      "memory usage: 33.6+ KB\n"
     ]
    }
   ],
   "source": [
    "df.info()"
   ]
  },
  {
   "cell_type": "code",
   "execution_count": 6,
   "id": "1eb6f0f0-a70e-44f3-960c-c50f4d4c4292",
   "metadata": {
    "id": "1eb6f0f0-a70e-44f3-960c-c50f4d4c4292"
   },
   "outputs": [],
   "source": [
    "df[\"defense spending budget value\"]= df[\"defense spending budget value\"].str.replace(\",\",\"\").astype(float)\n",
    "df[\"External Debt value\"]= df[\"External Debt value\"].str.replace(\",\",\"\").astype(float)\n",
    "df[\"Oil Production value\"]= df[\"Oil Production value\"].str.replace(\",\",\"\").astype(float)\n",
    "df[\"Proven Oil Reserves value\"]= df[\"Proven Oil Reserves value\"].str.replace(\",\",\"\").astype(float)\n",
    "df[\"Total Population value\"]= df[\"Total Population value\"].str.replace(\",\",\"\").astype(float)\n",
    "df[\"Total Coastline Coverage value\"]= df[\"Total Coastline Coverage value\"].str.replace(\",\",\"\").astype(float)\n",
    "df[\"Total Waterway Coverage value\"]= df[\"Total Waterway Coverage value\"].str.replace(\",\",\"\").astype(float)"
   ]
  },
  {
   "cell_type": "code",
   "execution_count": 7,
   "id": "8ac173cc-6063-4ee8-84ee-af0e1d668afe",
   "metadata": {
    "id": "8ac173cc-6063-4ee8-84ee-af0e1d668afe"
   },
   "outputs": [],
   "source": [
    "df[\"Total Square Land Area value\"]= df[\"Total Square Land Area value\"].str.replace(\",\",\"\").astype(float)\n",
    "df[\"Oil Consumption value\"]= df[\"Oil Consumption value\"].str.replace(\",\",\"\").astype(float)\n",
    "df[\"Available Manpower value\"]= df[\"Available Manpower value\"].str.replace(\",\",\"\").astype(float)"
   ]
  },
  {
   "cell_type": "code",
   "execution_count": 8,
   "id": "f4aec3d8-cddf-4128-b530-cbd2ed48e7fd",
   "metadata": {
    "id": "f4aec3d8-cddf-4128-b530-cbd2ed48e7fd"
   },
   "outputs": [],
   "source": [
    "df.fillna(0, inplace=True)"
   ]
  },
  {
   "cell_type": "code",
   "execution_count": 9,
   "id": "adc16d5f-7c91-4e15-85a4-a55b60af87b5",
   "metadata": {
    "colab": {
     "base_uri": "https://localhost:8080/",
     "height": 295
    },
    "id": "adc16d5f-7c91-4e15-85a4-a55b60af87b5",
    "outputId": "b5b8de03-be25-4899-9865-d24a25ac96b6"
   },
   "outputs": [
    {
     "data": {
      "text/html": [
       "<div>\n",
       "<style scoped>\n",
       "    .dataframe tbody tr th:only-of-type {\n",
       "        vertical-align: middle;\n",
       "    }\n",
       "\n",
       "    .dataframe tbody tr th {\n",
       "        vertical-align: top;\n",
       "    }\n",
       "\n",
       "    .dataframe thead th {\n",
       "        text-align: right;\n",
       "    }\n",
       "</style>\n",
       "<table border=\"1\" class=\"dataframe\">\n",
       "  <thead>\n",
       "    <tr style=\"text-align: right;\">\n",
       "      <th></th>\n",
       "      <th>Military Strength</th>\n",
       "      <th>Military Strength Power Index</th>\n",
       "      <th>Aircraft Strength value</th>\n",
       "      <th>Fighter/Interceptor Strength value</th>\n",
       "      <th>Attack Aircraft Strength value</th>\n",
       "      <th>Transport Aircraft Fleet Strength value</th>\n",
       "      <th>Trainer Aircraft Fleet value</th>\n",
       "      <th>Helicopter Fleet Strength value</th>\n",
       "      <th>Attack Helicopter Fleet Strength value</th>\n",
       "      <th>Tank Strength value</th>\n",
       "      <th>AFV/APC Strength value</th>\n",
       "      <th>Self-Propelled Artillery Strength value</th>\n",
       "      <th>Towed Artillery Strength value</th>\n",
       "      <th>Rocket Projector Strength value</th>\n",
       "      <th>Navy Fleet Strengths value</th>\n",
       "      <th>Aircraft Carrier Fleet Strength value</th>\n",
       "      <th>Submarine Fleet Strength value</th>\n",
       "      <th>Destroyer Fleet Strength value</th>\n",
       "      <th>Frigate Fleet Strength value</th>\n",
       "      <th>defense spending budget value</th>\n",
       "      <th>External Debt value</th>\n",
       "      <th>Airport Totals value</th>\n",
       "      <th>Oil Production value</th>\n",
       "      <th>Oil Consumption value</th>\n",
       "      <th>Proven Oil Reserves value</th>\n",
       "      <th>Available Manpower value</th>\n",
       "      <th>Total Population value</th>\n",
       "      <th>Total Square Land Area value</th>\n",
       "      <th>Total Coastline Coverage value</th>\n",
       "      <th>Total Waterway Coverage value</th>\n",
       "      <th>Total Border Coverage value</th>\n",
       "    </tr>\n",
       "  </thead>\n",
       "  <tbody>\n",
       "    <tr>\n",
       "      <th>0</th>\n",
       "      <td>Afghanistan</td>\n",
       "      <td>1.3444</td>\n",
       "      <td>260</td>\n",
       "      <td>0</td>\n",
       "      <td>25</td>\n",
       "      <td>30</td>\n",
       "      <td>0</td>\n",
       "      <td>187</td>\n",
       "      <td>0</td>\n",
       "      <td>0</td>\n",
       "      <td>1062</td>\n",
       "      <td>0</td>\n",
       "      <td>176</td>\n",
       "      <td>50</td>\n",
       "      <td>0.0</td>\n",
       "      <td>0.0</td>\n",
       "      <td>0.0</td>\n",
       "      <td>0.0</td>\n",
       "      <td>0.0</td>\n",
       "      <td>1.200000e+10</td>\n",
       "      <td>2.840000e+09</td>\n",
       "      <td>43</td>\n",
       "      <td>0.0</td>\n",
       "      <td>0.0</td>\n",
       "      <td>0.000000e+00</td>\n",
       "      <td>14325743.0</td>\n",
       "      <td>34940837.0</td>\n",
       "      <td>652230.0</td>\n",
       "      <td>0.0</td>\n",
       "      <td>0.0</td>\n",
       "      <td>5987.0</td>\n",
       "    </tr>\n",
       "    <tr>\n",
       "      <th>1</th>\n",
       "      <td>Albania</td>\n",
       "      <td>2.3137</td>\n",
       "      <td>19</td>\n",
       "      <td>0</td>\n",
       "      <td>0</td>\n",
       "      <td>0</td>\n",
       "      <td>0</td>\n",
       "      <td>19</td>\n",
       "      <td>0</td>\n",
       "      <td>0</td>\n",
       "      <td>467</td>\n",
       "      <td>0</td>\n",
       "      <td>0</td>\n",
       "      <td>0</td>\n",
       "      <td>38.0</td>\n",
       "      <td>0.0</td>\n",
       "      <td>0.0</td>\n",
       "      <td>0.0</td>\n",
       "      <td>0.0</td>\n",
       "      <td>2.500000e+08</td>\n",
       "      <td>9.505000e+09</td>\n",
       "      <td>4</td>\n",
       "      <td>0.0</td>\n",
       "      <td>0.0</td>\n",
       "      <td>1.683000e+08</td>\n",
       "      <td>1519438.0</td>\n",
       "      <td>3057220.0</td>\n",
       "      <td>0.0</td>\n",
       "      <td>0.0</td>\n",
       "      <td>0.0</td>\n",
       "      <td>691.0</td>\n",
       "    </tr>\n",
       "    <tr>\n",
       "      <th>2</th>\n",
       "      <td>Algeria</td>\n",
       "      <td>0.4659</td>\n",
       "      <td>551</td>\n",
       "      <td>103</td>\n",
       "      <td>22</td>\n",
       "      <td>59</td>\n",
       "      <td>87</td>\n",
       "      <td>257</td>\n",
       "      <td>45</td>\n",
       "      <td>880</td>\n",
       "      <td>7361</td>\n",
       "      <td>320</td>\n",
       "      <td>240</td>\n",
       "      <td>316</td>\n",
       "      <td>201.0</td>\n",
       "      <td>0.0</td>\n",
       "      <td>6.0</td>\n",
       "      <td>0.0</td>\n",
       "      <td>5.0</td>\n",
       "      <td>1.300000e+10</td>\n",
       "      <td>6.260000e+09</td>\n",
       "      <td>157</td>\n",
       "      <td>1306000.0</td>\n",
       "      <td>325000.0</td>\n",
       "      <td>1.220000e+10</td>\n",
       "      <td>20741263.0</td>\n",
       "      <td>41657488.0</td>\n",
       "      <td>2381741.0</td>\n",
       "      <td>0.0</td>\n",
       "      <td>0.0</td>\n",
       "      <td>6734.0</td>\n",
       "    </tr>\n",
       "    <tr>\n",
       "      <th>3</th>\n",
       "      <td>Angola</td>\n",
       "      <td>0.8379</td>\n",
       "      <td>295</td>\n",
       "      <td>72</td>\n",
       "      <td>18</td>\n",
       "      <td>30</td>\n",
       "      <td>47</td>\n",
       "      <td>126</td>\n",
       "      <td>15</td>\n",
       "      <td>379</td>\n",
       "      <td>595</td>\n",
       "      <td>28</td>\n",
       "      <td>357</td>\n",
       "      <td>115</td>\n",
       "      <td>57.0</td>\n",
       "      <td>0.0</td>\n",
       "      <td>0.0</td>\n",
       "      <td>0.0</td>\n",
       "      <td>0.0</td>\n",
       "      <td>7.000000e+09</td>\n",
       "      <td>4.208000e+10</td>\n",
       "      <td>176</td>\n",
       "      <td>1666000.0</td>\n",
       "      <td>0.0</td>\n",
       "      <td>8.273000e+09</td>\n",
       "      <td>6244205.0</td>\n",
       "      <td>30355880.0</td>\n",
       "      <td>1246700.0</td>\n",
       "      <td>0.0</td>\n",
       "      <td>0.0</td>\n",
       "      <td>5369.0</td>\n",
       "    </tr>\n",
       "    <tr>\n",
       "      <th>4</th>\n",
       "      <td>Argentina</td>\n",
       "      <td>0.6521</td>\n",
       "      <td>227</td>\n",
       "      <td>24</td>\n",
       "      <td>7</td>\n",
       "      <td>9</td>\n",
       "      <td>64</td>\n",
       "      <td>100</td>\n",
       "      <td>0</td>\n",
       "      <td>370</td>\n",
       "      <td>739</td>\n",
       "      <td>83</td>\n",
       "      <td>172</td>\n",
       "      <td>26</td>\n",
       "      <td>49.0</td>\n",
       "      <td>0.0</td>\n",
       "      <td>2.0</td>\n",
       "      <td>4.0</td>\n",
       "      <td>0.0</td>\n",
       "      <td>4.200000e+09</td>\n",
       "      <td>2.149000e+11</td>\n",
       "      <td>1138</td>\n",
       "      <td>479400.0</td>\n",
       "      <td>685000.0</td>\n",
       "      <td>2.185000e+09</td>\n",
       "      <td>20179430.0</td>\n",
       "      <td>44694198.0</td>\n",
       "      <td>2780400.0</td>\n",
       "      <td>0.0</td>\n",
       "      <td>0.0</td>\n",
       "      <td>11968.0</td>\n",
       "    </tr>\n",
       "  </tbody>\n",
       "</table>\n",
       "</div>"
      ],
      "text/plain": [
       "  Military Strength  Military Strength Power Index  Aircraft Strength value  \\\n",
       "0       Afghanistan                         1.3444                      260   \n",
       "1           Albania                         2.3137                       19   \n",
       "2           Algeria                         0.4659                      551   \n",
       "3            Angola                         0.8379                      295   \n",
       "4         Argentina                         0.6521                      227   \n",
       "\n",
       "   Fighter/Interceptor Strength value  Attack Aircraft Strength value  \\\n",
       "0                                   0                              25   \n",
       "1                                   0                               0   \n",
       "2                                 103                              22   \n",
       "3                                  72                              18   \n",
       "4                                  24                               7   \n",
       "\n",
       "   Transport Aircraft Fleet Strength value  Trainer Aircraft Fleet value  \\\n",
       "0                                       30                             0   \n",
       "1                                        0                             0   \n",
       "2                                       59                            87   \n",
       "3                                       30                            47   \n",
       "4                                        9                            64   \n",
       "\n",
       "   Helicopter Fleet Strength value  Attack Helicopter Fleet Strength value  \\\n",
       "0                              187                                       0   \n",
       "1                               19                                       0   \n",
       "2                              257                                      45   \n",
       "3                              126                                      15   \n",
       "4                              100                                       0   \n",
       "\n",
       "   Tank Strength value  AFV/APC Strength value  \\\n",
       "0                    0                    1062   \n",
       "1                    0                     467   \n",
       "2                  880                    7361   \n",
       "3                  379                     595   \n",
       "4                  370                     739   \n",
       "\n",
       "   Self-Propelled Artillery Strength value  Towed Artillery Strength value  \\\n",
       "0                                        0                             176   \n",
       "1                                        0                               0   \n",
       "2                                      320                             240   \n",
       "3                                       28                             357   \n",
       "4                                       83                             172   \n",
       "\n",
       "   Rocket Projector Strength value  Navy Fleet Strengths value  \\\n",
       "0                               50                         0.0   \n",
       "1                                0                        38.0   \n",
       "2                              316                       201.0   \n",
       "3                              115                        57.0   \n",
       "4                               26                        49.0   \n",
       "\n",
       "   Aircraft Carrier Fleet Strength value  Submarine Fleet Strength value  \\\n",
       "0                                    0.0                             0.0   \n",
       "1                                    0.0                             0.0   \n",
       "2                                    0.0                             6.0   \n",
       "3                                    0.0                             0.0   \n",
       "4                                    0.0                             2.0   \n",
       "\n",
       "   Destroyer Fleet Strength value  Frigate Fleet Strength value  \\\n",
       "0                             0.0                           0.0   \n",
       "1                             0.0                           0.0   \n",
       "2                             0.0                           5.0   \n",
       "3                             0.0                           0.0   \n",
       "4                             4.0                           0.0   \n",
       "\n",
       "   defense spending budget value  External Debt value  Airport Totals value  \\\n",
       "0                   1.200000e+10         2.840000e+09                    43   \n",
       "1                   2.500000e+08         9.505000e+09                     4   \n",
       "2                   1.300000e+10         6.260000e+09                   157   \n",
       "3                   7.000000e+09         4.208000e+10                   176   \n",
       "4                   4.200000e+09         2.149000e+11                  1138   \n",
       "\n",
       "   Oil Production value  Oil Consumption value  Proven Oil Reserves value  \\\n",
       "0                   0.0                    0.0               0.000000e+00   \n",
       "1                   0.0                    0.0               1.683000e+08   \n",
       "2             1306000.0               325000.0               1.220000e+10   \n",
       "3             1666000.0                    0.0               8.273000e+09   \n",
       "4              479400.0               685000.0               2.185000e+09   \n",
       "\n",
       "   Available Manpower value  Total Population value  \\\n",
       "0                14325743.0              34940837.0   \n",
       "1                 1519438.0               3057220.0   \n",
       "2                20741263.0              41657488.0   \n",
       "3                 6244205.0              30355880.0   \n",
       "4                20179430.0              44694198.0   \n",
       "\n",
       "   Total Square Land Area value  Total Coastline Coverage value  \\\n",
       "0                      652230.0                             0.0   \n",
       "1                           0.0                             0.0   \n",
       "2                     2381741.0                             0.0   \n",
       "3                     1246700.0                             0.0   \n",
       "4                     2780400.0                             0.0   \n",
       "\n",
       "   Total Waterway Coverage value  Total Border Coverage value  \n",
       "0                            0.0                       5987.0  \n",
       "1                            0.0                        691.0  \n",
       "2                            0.0                       6734.0  \n",
       "3                            0.0                       5369.0  \n",
       "4                            0.0                      11968.0  "
      ]
     },
     "execution_count": 9,
     "metadata": {},
     "output_type": "execute_result"
    }
   ],
   "source": [
    "df.head()"
   ]
  },
  {
   "cell_type": "code",
   "execution_count": 10,
   "id": "556b17d8-3e93-4a14-8063-ceb08febac5d",
   "metadata": {
    "id": "556b17d8-3e93-4a14-8063-ceb08febac5d"
   },
   "outputs": [],
   "source": [
    "# Hava kuvvetlerini toplayıp yeni bir sütun yapalım\n",
    "h1=df['Aircraft Strength value']\n",
    "h2=df['Fighter/Interceptor Strength value']\n",
    "h3=df['Attack Aircraft Strength value']\n",
    "h4=df['Transport Aircraft Fleet Strength value']\n",
    "h5=df['Trainer Aircraft Fleet value']\n",
    "h6=df['Helicopter Fleet Strength value']\n",
    "h7=df['Attack Helicopter Fleet Strength value']\n",
    "df[\"AirForce Strength\"]=h1+h2+h3+h4+h5+h6+h7"
   ]
  },
  {
   "cell_type": "code",
   "execution_count": 11,
   "id": "2f7ba255-e057-4855-ade2-05e45afaf160",
   "metadata": {
    "colab": {
     "base_uri": "https://localhost:8080/"
    },
    "id": "2f7ba255-e057-4855-ade2-05e45afaf160",
    "outputId": "d30509bf-faf5-443d-fe3f-66e736a4ae99"
   },
   "outputs": [
    {
     "data": {
      "text/plain": [
       "Index(['Military Strength', 'Military Strength Power Index',\n",
       "       'Aircraft Strength value', 'Fighter/Interceptor Strength value',\n",
       "       'Attack Aircraft Strength value',\n",
       "       'Transport Aircraft Fleet Strength value',\n",
       "       'Trainer Aircraft Fleet value', 'Helicopter Fleet Strength value',\n",
       "       'Attack Helicopter Fleet Strength value', 'Tank Strength value',\n",
       "       'AFV/APC Strength value', 'Self-Propelled Artillery Strength value',\n",
       "       'Towed Artillery Strength value', 'Rocket Projector Strength value',\n",
       "       'Navy Fleet Strengths value', 'Aircraft Carrier Fleet Strength value',\n",
       "       'Submarine Fleet Strength value', 'Destroyer Fleet Strength value',\n",
       "       'Frigate Fleet Strength value', 'defense spending budget value',\n",
       "       'External Debt value', 'Airport Totals value', 'Oil Production value',\n",
       "       'Oil Consumption value', 'Proven Oil Reserves value',\n",
       "       'Available Manpower value', 'Total Population value',\n",
       "       'Total Square Land Area value', 'Total Coastline Coverage value',\n",
       "       'Total Waterway Coverage value', 'Total Border Coverage value',\n",
       "       'AirForce Strength'],\n",
       "      dtype='object')"
      ]
     },
     "execution_count": 11,
     "metadata": {},
     "output_type": "execute_result"
    }
   ],
   "source": [
    "df.columns"
   ]
  },
  {
   "cell_type": "code",
   "execution_count": 12,
   "id": "b179726f-dd77-4962-94f6-36552d77bbcf",
   "metadata": {
    "id": "b179726f-dd77-4962-94f6-36552d77bbcf"
   },
   "outputs": [],
   "source": [
    "# Kara kuvvetlerini toplayıp yeni bir sütun yapalım\n",
    "k1=df['Tank Strength value']\n",
    "k2=df['AFV/APC Strength value']\n",
    "k3=df['Self-Propelled Artillery Strength value']\n",
    "k4=df['Towed Artillery Strength value']\n",
    "k5=df['Rocket Projector Strength value']\n",
    "df[\"Land Strength\"]=k1+k2+k3+k4+k5"
   ]
  },
  {
   "cell_type": "code",
   "execution_count": 13,
   "id": "153e7607-ce7f-4ce5-b37f-2afc061fb011",
   "metadata": {
    "id": "153e7607-ce7f-4ce5-b37f-2afc061fb011"
   },
   "outputs": [],
   "source": [
    "# Deniz kuvvetlerini toplayıp yeni bir sütun yapalım\n",
    "d1=df['Navy Fleet Strengths value']\n",
    "d2=df['Aircraft Carrier Fleet Strength value']\n",
    "d3=df['Submarine Fleet Strength value']\n",
    "d4=df['Destroyer Fleet Strength value']\n",
    "d5=df['Frigate Fleet Strength value']\n",
    "df[\"Navy Strength\"]=d1+d2+d3+d4+d5"
   ]
  },
  {
   "cell_type": "code",
   "execution_count": 14,
   "id": "109afff5-6ce2-4594-8b09-bc2815263ed6",
   "metadata": {
    "colab": {
     "base_uri": "https://localhost:8080/",
     "height": 295
    },
    "id": "109afff5-6ce2-4594-8b09-bc2815263ed6",
    "outputId": "ed798704-4e99-40b4-989e-8b4df0d1f780"
   },
   "outputs": [
    {
     "data": {
      "text/html": [
       "<div>\n",
       "<style scoped>\n",
       "    .dataframe tbody tr th:only-of-type {\n",
       "        vertical-align: middle;\n",
       "    }\n",
       "\n",
       "    .dataframe tbody tr th {\n",
       "        vertical-align: top;\n",
       "    }\n",
       "\n",
       "    .dataframe thead th {\n",
       "        text-align: right;\n",
       "    }\n",
       "</style>\n",
       "<table border=\"1\" class=\"dataframe\">\n",
       "  <thead>\n",
       "    <tr style=\"text-align: right;\">\n",
       "      <th></th>\n",
       "      <th>Military Strength</th>\n",
       "      <th>Military Strength Power Index</th>\n",
       "      <th>Aircraft Strength value</th>\n",
       "      <th>Fighter/Interceptor Strength value</th>\n",
       "      <th>Attack Aircraft Strength value</th>\n",
       "      <th>Transport Aircraft Fleet Strength value</th>\n",
       "      <th>Trainer Aircraft Fleet value</th>\n",
       "      <th>Helicopter Fleet Strength value</th>\n",
       "      <th>Attack Helicopter Fleet Strength value</th>\n",
       "      <th>Tank Strength value</th>\n",
       "      <th>AFV/APC Strength value</th>\n",
       "      <th>Self-Propelled Artillery Strength value</th>\n",
       "      <th>Towed Artillery Strength value</th>\n",
       "      <th>Rocket Projector Strength value</th>\n",
       "      <th>Navy Fleet Strengths value</th>\n",
       "      <th>Aircraft Carrier Fleet Strength value</th>\n",
       "      <th>Submarine Fleet Strength value</th>\n",
       "      <th>Destroyer Fleet Strength value</th>\n",
       "      <th>Frigate Fleet Strength value</th>\n",
       "      <th>defense spending budget value</th>\n",
       "      <th>External Debt value</th>\n",
       "      <th>Airport Totals value</th>\n",
       "      <th>Oil Production value</th>\n",
       "      <th>Oil Consumption value</th>\n",
       "      <th>Proven Oil Reserves value</th>\n",
       "      <th>Available Manpower value</th>\n",
       "      <th>Total Population value</th>\n",
       "      <th>Total Square Land Area value</th>\n",
       "      <th>Total Coastline Coverage value</th>\n",
       "      <th>Total Waterway Coverage value</th>\n",
       "      <th>Total Border Coverage value</th>\n",
       "      <th>AirForce Strength</th>\n",
       "      <th>Land Strength</th>\n",
       "      <th>Navy Strength</th>\n",
       "    </tr>\n",
       "  </thead>\n",
       "  <tbody>\n",
       "    <tr>\n",
       "      <th>0</th>\n",
       "      <td>Afghanistan</td>\n",
       "      <td>1.3444</td>\n",
       "      <td>260</td>\n",
       "      <td>0</td>\n",
       "      <td>25</td>\n",
       "      <td>30</td>\n",
       "      <td>0</td>\n",
       "      <td>187</td>\n",
       "      <td>0</td>\n",
       "      <td>0</td>\n",
       "      <td>1062</td>\n",
       "      <td>0</td>\n",
       "      <td>176</td>\n",
       "      <td>50</td>\n",
       "      <td>0.0</td>\n",
       "      <td>0.0</td>\n",
       "      <td>0.0</td>\n",
       "      <td>0.0</td>\n",
       "      <td>0.0</td>\n",
       "      <td>1.200000e+10</td>\n",
       "      <td>2.840000e+09</td>\n",
       "      <td>43</td>\n",
       "      <td>0.0</td>\n",
       "      <td>0.0</td>\n",
       "      <td>0.000000e+00</td>\n",
       "      <td>14325743.0</td>\n",
       "      <td>34940837.0</td>\n",
       "      <td>652230.0</td>\n",
       "      <td>0.0</td>\n",
       "      <td>0.0</td>\n",
       "      <td>5987.0</td>\n",
       "      <td>502</td>\n",
       "      <td>1288</td>\n",
       "      <td>0.0</td>\n",
       "    </tr>\n",
       "    <tr>\n",
       "      <th>1</th>\n",
       "      <td>Albania</td>\n",
       "      <td>2.3137</td>\n",
       "      <td>19</td>\n",
       "      <td>0</td>\n",
       "      <td>0</td>\n",
       "      <td>0</td>\n",
       "      <td>0</td>\n",
       "      <td>19</td>\n",
       "      <td>0</td>\n",
       "      <td>0</td>\n",
       "      <td>467</td>\n",
       "      <td>0</td>\n",
       "      <td>0</td>\n",
       "      <td>0</td>\n",
       "      <td>38.0</td>\n",
       "      <td>0.0</td>\n",
       "      <td>0.0</td>\n",
       "      <td>0.0</td>\n",
       "      <td>0.0</td>\n",
       "      <td>2.500000e+08</td>\n",
       "      <td>9.505000e+09</td>\n",
       "      <td>4</td>\n",
       "      <td>0.0</td>\n",
       "      <td>0.0</td>\n",
       "      <td>1.683000e+08</td>\n",
       "      <td>1519438.0</td>\n",
       "      <td>3057220.0</td>\n",
       "      <td>0.0</td>\n",
       "      <td>0.0</td>\n",
       "      <td>0.0</td>\n",
       "      <td>691.0</td>\n",
       "      <td>38</td>\n",
       "      <td>467</td>\n",
       "      <td>38.0</td>\n",
       "    </tr>\n",
       "    <tr>\n",
       "      <th>2</th>\n",
       "      <td>Algeria</td>\n",
       "      <td>0.4659</td>\n",
       "      <td>551</td>\n",
       "      <td>103</td>\n",
       "      <td>22</td>\n",
       "      <td>59</td>\n",
       "      <td>87</td>\n",
       "      <td>257</td>\n",
       "      <td>45</td>\n",
       "      <td>880</td>\n",
       "      <td>7361</td>\n",
       "      <td>320</td>\n",
       "      <td>240</td>\n",
       "      <td>316</td>\n",
       "      <td>201.0</td>\n",
       "      <td>0.0</td>\n",
       "      <td>6.0</td>\n",
       "      <td>0.0</td>\n",
       "      <td>5.0</td>\n",
       "      <td>1.300000e+10</td>\n",
       "      <td>6.260000e+09</td>\n",
       "      <td>157</td>\n",
       "      <td>1306000.0</td>\n",
       "      <td>325000.0</td>\n",
       "      <td>1.220000e+10</td>\n",
       "      <td>20741263.0</td>\n",
       "      <td>41657488.0</td>\n",
       "      <td>2381741.0</td>\n",
       "      <td>0.0</td>\n",
       "      <td>0.0</td>\n",
       "      <td>6734.0</td>\n",
       "      <td>1124</td>\n",
       "      <td>9117</td>\n",
       "      <td>212.0</td>\n",
       "    </tr>\n",
       "    <tr>\n",
       "      <th>3</th>\n",
       "      <td>Angola</td>\n",
       "      <td>0.8379</td>\n",
       "      <td>295</td>\n",
       "      <td>72</td>\n",
       "      <td>18</td>\n",
       "      <td>30</td>\n",
       "      <td>47</td>\n",
       "      <td>126</td>\n",
       "      <td>15</td>\n",
       "      <td>379</td>\n",
       "      <td>595</td>\n",
       "      <td>28</td>\n",
       "      <td>357</td>\n",
       "      <td>115</td>\n",
       "      <td>57.0</td>\n",
       "      <td>0.0</td>\n",
       "      <td>0.0</td>\n",
       "      <td>0.0</td>\n",
       "      <td>0.0</td>\n",
       "      <td>7.000000e+09</td>\n",
       "      <td>4.208000e+10</td>\n",
       "      <td>176</td>\n",
       "      <td>1666000.0</td>\n",
       "      <td>0.0</td>\n",
       "      <td>8.273000e+09</td>\n",
       "      <td>6244205.0</td>\n",
       "      <td>30355880.0</td>\n",
       "      <td>1246700.0</td>\n",
       "      <td>0.0</td>\n",
       "      <td>0.0</td>\n",
       "      <td>5369.0</td>\n",
       "      <td>603</td>\n",
       "      <td>1474</td>\n",
       "      <td>57.0</td>\n",
       "    </tr>\n",
       "    <tr>\n",
       "      <th>4</th>\n",
       "      <td>Argentina</td>\n",
       "      <td>0.6521</td>\n",
       "      <td>227</td>\n",
       "      <td>24</td>\n",
       "      <td>7</td>\n",
       "      <td>9</td>\n",
       "      <td>64</td>\n",
       "      <td>100</td>\n",
       "      <td>0</td>\n",
       "      <td>370</td>\n",
       "      <td>739</td>\n",
       "      <td>83</td>\n",
       "      <td>172</td>\n",
       "      <td>26</td>\n",
       "      <td>49.0</td>\n",
       "      <td>0.0</td>\n",
       "      <td>2.0</td>\n",
       "      <td>4.0</td>\n",
       "      <td>0.0</td>\n",
       "      <td>4.200000e+09</td>\n",
       "      <td>2.149000e+11</td>\n",
       "      <td>1138</td>\n",
       "      <td>479400.0</td>\n",
       "      <td>685000.0</td>\n",
       "      <td>2.185000e+09</td>\n",
       "      <td>20179430.0</td>\n",
       "      <td>44694198.0</td>\n",
       "      <td>2780400.0</td>\n",
       "      <td>0.0</td>\n",
       "      <td>0.0</td>\n",
       "      <td>11968.0</td>\n",
       "      <td>431</td>\n",
       "      <td>1390</td>\n",
       "      <td>55.0</td>\n",
       "    </tr>\n",
       "  </tbody>\n",
       "</table>\n",
       "</div>"
      ],
      "text/plain": [
       "  Military Strength  Military Strength Power Index  Aircraft Strength value  \\\n",
       "0       Afghanistan                         1.3444                      260   \n",
       "1           Albania                         2.3137                       19   \n",
       "2           Algeria                         0.4659                      551   \n",
       "3            Angola                         0.8379                      295   \n",
       "4         Argentina                         0.6521                      227   \n",
       "\n",
       "   Fighter/Interceptor Strength value  Attack Aircraft Strength value  \\\n",
       "0                                   0                              25   \n",
       "1                                   0                               0   \n",
       "2                                 103                              22   \n",
       "3                                  72                              18   \n",
       "4                                  24                               7   \n",
       "\n",
       "   Transport Aircraft Fleet Strength value  Trainer Aircraft Fleet value  \\\n",
       "0                                       30                             0   \n",
       "1                                        0                             0   \n",
       "2                                       59                            87   \n",
       "3                                       30                            47   \n",
       "4                                        9                            64   \n",
       "\n",
       "   Helicopter Fleet Strength value  Attack Helicopter Fleet Strength value  \\\n",
       "0                              187                                       0   \n",
       "1                               19                                       0   \n",
       "2                              257                                      45   \n",
       "3                              126                                      15   \n",
       "4                              100                                       0   \n",
       "\n",
       "   Tank Strength value  AFV/APC Strength value  \\\n",
       "0                    0                    1062   \n",
       "1                    0                     467   \n",
       "2                  880                    7361   \n",
       "3                  379                     595   \n",
       "4                  370                     739   \n",
       "\n",
       "   Self-Propelled Artillery Strength value  Towed Artillery Strength value  \\\n",
       "0                                        0                             176   \n",
       "1                                        0                               0   \n",
       "2                                      320                             240   \n",
       "3                                       28                             357   \n",
       "4                                       83                             172   \n",
       "\n",
       "   Rocket Projector Strength value  Navy Fleet Strengths value  \\\n",
       "0                               50                         0.0   \n",
       "1                                0                        38.0   \n",
       "2                              316                       201.0   \n",
       "3                              115                        57.0   \n",
       "4                               26                        49.0   \n",
       "\n",
       "   Aircraft Carrier Fleet Strength value  Submarine Fleet Strength value  \\\n",
       "0                                    0.0                             0.0   \n",
       "1                                    0.0                             0.0   \n",
       "2                                    0.0                             6.0   \n",
       "3                                    0.0                             0.0   \n",
       "4                                    0.0                             2.0   \n",
       "\n",
       "   Destroyer Fleet Strength value  Frigate Fleet Strength value  \\\n",
       "0                             0.0                           0.0   \n",
       "1                             0.0                           0.0   \n",
       "2                             0.0                           5.0   \n",
       "3                             0.0                           0.0   \n",
       "4                             4.0                           0.0   \n",
       "\n",
       "   defense spending budget value  External Debt value  Airport Totals value  \\\n",
       "0                   1.200000e+10         2.840000e+09                    43   \n",
       "1                   2.500000e+08         9.505000e+09                     4   \n",
       "2                   1.300000e+10         6.260000e+09                   157   \n",
       "3                   7.000000e+09         4.208000e+10                   176   \n",
       "4                   4.200000e+09         2.149000e+11                  1138   \n",
       "\n",
       "   Oil Production value  Oil Consumption value  Proven Oil Reserves value  \\\n",
       "0                   0.0                    0.0               0.000000e+00   \n",
       "1                   0.0                    0.0               1.683000e+08   \n",
       "2             1306000.0               325000.0               1.220000e+10   \n",
       "3             1666000.0                    0.0               8.273000e+09   \n",
       "4              479400.0               685000.0               2.185000e+09   \n",
       "\n",
       "   Available Manpower value  Total Population value  \\\n",
       "0                14325743.0              34940837.0   \n",
       "1                 1519438.0               3057220.0   \n",
       "2                20741263.0              41657488.0   \n",
       "3                 6244205.0              30355880.0   \n",
       "4                20179430.0              44694198.0   \n",
       "\n",
       "   Total Square Land Area value  Total Coastline Coverage value  \\\n",
       "0                      652230.0                             0.0   \n",
       "1                           0.0                             0.0   \n",
       "2                     2381741.0                             0.0   \n",
       "3                     1246700.0                             0.0   \n",
       "4                     2780400.0                             0.0   \n",
       "\n",
       "   Total Waterway Coverage value  Total Border Coverage value  \\\n",
       "0                            0.0                       5987.0   \n",
       "1                            0.0                        691.0   \n",
       "2                            0.0                       6734.0   \n",
       "3                            0.0                       5369.0   \n",
       "4                            0.0                      11968.0   \n",
       "\n",
       "   AirForce Strength  Land Strength  Navy Strength  \n",
       "0                502           1288            0.0  \n",
       "1                 38            467           38.0  \n",
       "2               1124           9117          212.0  \n",
       "3                603           1474           57.0  \n",
       "4                431           1390           55.0  "
      ]
     },
     "execution_count": 14,
     "metadata": {},
     "output_type": "execute_result"
    }
   ],
   "source": [
    "df.head()"
   ]
  },
  {
   "cell_type": "code",
   "execution_count": 15,
   "id": "2120ad54-ec94-4043-880b-c56e02ce1ab9",
   "metadata": {
    "colab": {
     "base_uri": "https://localhost:8080/",
     "height": 503
    },
    "id": "2120ad54-ec94-4043-880b-c56e02ce1ab9",
    "outputId": "d28995c2-f5a4-4c7d-e889-a3bd72105ea0"
   },
   "outputs": [
    {
     "data": {
      "image/png": "[encoded data removed]",
      "text/plain": [
       "<Figure size 640x480 with 1 Axes>"
      ]
     },
     "metadata": {},
     "output_type": "display_data"
    }
   ],
   "source": [
    "import seaborn as sns\n",
    "sns.scatterplot(x=df['Land Strength'], y=df['Navy Strength']);"
   ]
  },
  {
   "cell_type": "markdown",
   "id": "ce8bf43f-f5e0-45f3-85d5-bb2ff12fee86",
   "metadata": {
    "id": "ce8bf43f-f5e0-45f3-85d5-bb2ff12fee86"
   },
   "source": [
    "## Modelleme"
   ]
  },
  {
   "cell_type": "code",
   "execution_count": 16,
   "id": "e5ce9612-f67f-4a95-960a-a2faec305ecc",
   "metadata": {
    "id": "e5ce9612-f67f-4a95-960a-a2faec305ecc"
   },
   "outputs": [],
   "source": [
    "from sklearn.cluster import KMeans\n",
    "from sklearn.metrics import silhouette_score\n",
    "from yellowbrick.cluster import KElbowVisualizer"
   ]
  },
  {
   "cell_type": "code",
   "execution_count": 17,
   "id": "2bcc9618-4770-472d-9744-518f07f54ef2",
   "metadata": {
    "colab": {
     "base_uri": "https://localhost:8080/"
    },
    "id": "2bcc9618-4770-472d-9744-518f07f54ef2",
    "outputId": "5586adf9-9792-485a-e940-ac5f609091f0"
   },
   "outputs": [
    {
     "data": {
      "text/plain": [
       "Index(['Military Strength', 'Military Strength Power Index',\n",
       "       'Aircraft Strength value', 'Fighter/Interceptor Strength value',\n",
       "       'Attack Aircraft Strength value',\n",
       "       'Transport Aircraft Fleet Strength value',\n",
       "       'Trainer Aircraft Fleet value', 'Helicopter Fleet Strength value',\n",
       "       'Attack Helicopter Fleet Strength value', 'Tank Strength value',\n",
       "       'AFV/APC Strength value', 'Self-Propelled Artillery Strength value',\n",
       "       'Towed Artillery Strength value', 'Rocket Projector Strength value',\n",
       "       'Navy Fleet Strengths value', 'Aircraft Carrier Fleet Strength value',\n",
       "       'Submarine Fleet Strength value', 'Destroyer Fleet Strength value',\n",
       "       'Frigate Fleet Strength value', 'defense spending budget value',\n",
       "       'External Debt value', 'Airport Totals value', 'Oil Production value',\n",
       "       'Oil Consumption value', 'Proven Oil Reserves value',\n",
       "       'Available Manpower value', 'Total Population value',\n",
       "       'Total Square Land Area value', 'Total Coastline Coverage value',\n",
       "       'Total Waterway Coverage value', 'Total Border Coverage value',\n",
       "       'AirForce Strength', 'Land Strength', 'Navy Strength'],\n",
       "      dtype='object')"
      ]
     },
     "execution_count": 17,
     "metadata": {},
     "output_type": "execute_result"
    }
   ],
   "source": [
    "df.columns"
   ]
  },
  {
   "cell_type": "code",
   "execution_count": 18,
   "id": "9abcac8a-8a32-4e2d-8d64-c9e12c257738",
   "metadata": {
    "id": "9abcac8a-8a32-4e2d-8d64-c9e12c257738"
   },
   "outputs": [],
   "source": [
    "cols=[\"Military Strength Power Index\", \"AirForce Strength\", \"Land Strength\", \"Navy Strength\"] #\"defense spending budget value\",\n",
    "     #\"Airport Totals value\", \"Available Manpower value\"]\n",
    "x = df[cols]"
   ]
  },
  {
   "cell_type": "code",
   "execution_count": 19,
   "id": "aa040833-1e1b-4b15-a799-4342e488e5b5",
   "metadata": {
    "colab": {
     "base_uri": "https://localhost:8080/",
     "height": 541
    },
    "id": "aa040833-1e1b-4b15-a799-4342e488e5b5",
    "outputId": "79902edb-1bc0-491d-bc88-038923f63c7e"
   },
   "outputs": [
    {
     "data": {
      "image/png": "[encoded data removed]",
      "text/plain": [
       "<Figure size 800x550 with 2 Axes>"
      ]
     },
     "metadata": {},
     "output_type": "display_data"
    },
    {
     "data": {
      "text/plain": [
       "<Axes: title={'center': 'Distortion Score Elbow for KMeans Clustering'}, xlabel='k', ylabel='distortion score'>"
      ]
     },
     "execution_count": 19,
     "metadata": {},
     "output_type": "execute_result"
    }
   ],
   "source": [
    "# Instantiate the clustering model and visualizer\n",
    "km = KMeans(random_state=42)\n",
    "visualizer = KElbowVisualizer(km, k=(2,10))\n",
    "\n",
    "visualizer.fit(x) # Fit the data to the visualizer\n",
    "visualizer.show() # Finalize and render the figure"
   ]
  },
  {
   "cell_type": "code",
   "execution_count": 20,
   "id": "bf2fe523-021b-4e94-8b84-bef2b8a7af2d",
   "metadata": {
    "colab": {
     "base_uri": "https://localhost:8080/"
    },
    "id": "bf2fe523-021b-4e94-8b84-bef2b8a7af2d",
    "outputId": "8804b23f-5fb5-4e1b-f964-e869be21fe04"
   },
   "outputs": [
    {
     "data": {
      "text/plain": [
       "0.8240400253448312"
      ]
     },
     "execution_count": 20,
     "metadata": {},
     "output_type": "execute_result"
    }
   ],
   "source": [
    "model=KMeans(3)\n",
    "model=model.fit(x)\n",
    "pred=model.predict(x)\n",
    "x[\"Cluster\"]=pred\n",
    "silhouette_score(x, pred)"
   ]
  },
  {
   "cell_type": "code",
   "execution_count": 21,
   "id": "ef236e3c-07e5-4838-9fbd-9acd01309d5a",
   "metadata": {
    "colab": {
     "base_uri": "https://localhost:8080/",
     "height": 206
    },
    "id": "ef236e3c-07e5-4838-9fbd-9acd01309d5a",
    "outputId": "9ee4616f-d053-4f4a-f954-93b574e59e02"
   },
   "outputs": [
    {
     "data": {
      "text/html": [
       "<div>\n",
       "<style scoped>\n",
       "    .dataframe tbody tr th:only-of-type {\n",
       "        vertical-align: middle;\n",
       "    }\n",
       "\n",
       "    .dataframe tbody tr th {\n",
       "        vertical-align: top;\n",
       "    }\n",
       "\n",
       "    .dataframe thead th {\n",
       "        text-align: right;\n",
       "    }\n",
       "</style>\n",
       "<table border=\"1\" class=\"dataframe\">\n",
       "  <thead>\n",
       "    <tr style=\"text-align: right;\">\n",
       "      <th></th>\n",
       "      <th>Military Strength Power Index</th>\n",
       "      <th>AirForce Strength</th>\n",
       "      <th>Land Strength</th>\n",
       "      <th>Navy Strength</th>\n",
       "      <th>Cluster</th>\n",
       "    </tr>\n",
       "  </thead>\n",
       "  <tbody>\n",
       "    <tr>\n",
       "      <th>0</th>\n",
       "      <td>1.3444</td>\n",
       "      <td>502</td>\n",
       "      <td>1288</td>\n",
       "      <td>0.0</td>\n",
       "      <td>1</td>\n",
       "    </tr>\n",
       "    <tr>\n",
       "      <th>1</th>\n",
       "      <td>2.3137</td>\n",
       "      <td>38</td>\n",
       "      <td>467</td>\n",
       "      <td>38.0</td>\n",
       "      <td>1</td>\n",
       "    </tr>\n",
       "    <tr>\n",
       "      <th>2</th>\n",
       "      <td>0.4659</td>\n",
       "      <td>1124</td>\n",
       "      <td>9117</td>\n",
       "      <td>212.0</td>\n",
       "      <td>0</td>\n",
       "    </tr>\n",
       "    <tr>\n",
       "      <th>3</th>\n",
       "      <td>0.8379</td>\n",
       "      <td>603</td>\n",
       "      <td>1474</td>\n",
       "      <td>57.0</td>\n",
       "      <td>1</td>\n",
       "    </tr>\n",
       "    <tr>\n",
       "      <th>4</th>\n",
       "      <td>0.6521</td>\n",
       "      <td>431</td>\n",
       "      <td>1390</td>\n",
       "      <td>55.0</td>\n",
       "      <td>1</td>\n",
       "    </tr>\n",
       "  </tbody>\n",
       "</table>\n",
       "</div>"
      ],
      "text/plain": [
       "   Military Strength Power Index  AirForce Strength  Land Strength  \\\n",
       "0                         1.3444                502           1288   \n",
       "1                         2.3137                 38            467   \n",
       "2                         0.4659               1124           9117   \n",
       "3                         0.8379                603           1474   \n",
       "4                         0.6521                431           1390   \n",
       "\n",
       "   Navy Strength  Cluster  \n",
       "0            0.0        1  \n",
       "1           38.0        1  \n",
       "2          212.0        0  \n",
       "3           57.0        1  \n",
       "4           55.0        1  "
      ]
     },
     "execution_count": 21,
     "metadata": {},
     "output_type": "execute_result"
    }
   ],
   "source": [
    "x.head()"
   ]
  },
  {
   "cell_type": "code",
   "execution_count": 22,
   "id": "161f7b81-3bf0-4c7b-bdf9-6c03c2e92de3",
   "metadata": {
    "id": "161f7b81-3bf0-4c7b-bdf9-6c03c2e92de3"
   },
   "outputs": [],
   "source": [
    "import matplotlib.pyplot as plt"
   ]
  },
  {
   "cell_type": "code",
   "execution_count": 23,
   "id": "cc83ca67-a239-4365-8c35-b26508cd6884",
   "metadata": {
    "colab": {
     "base_uri": "https://localhost:8080/",
     "height": 528
    },
    "id": "cc83ca67-a239-4365-8c35-b26508cd6884",
    "outputId": "b8b12db9-c492-471d-fdd5-65b45deab6cd"
   },
   "outputs": [
    {
     "data": {
      "image/png": "[encoded data removed]",
      "text/plain": [
       "<Figure size 1000x600 with 2 Axes>"
      ]
     },
     "metadata": {},
     "output_type": "display_data"
    }
   ],
   "source": [
    "plt.figure(figsize=(10,6))\n",
    "plt.scatter(x['AirForce Strength'], x['Land Strength'], c=pred)\n",
    "plt.colorbar();"
   ]
  },
  {
   "cell_type": "code",
   "execution_count": 24,
   "id": "R5tSgWwAVowV",
   "metadata": {
    "id": "R5tSgWwAVowV"
   },
   "outputs": [],
   "source": [
    "#pip install pycaret"
   ]
  },
  {
   "cell_type": "code",
   "execution_count": 25,
   "id": "7874c81a-47c9-4a07-ac9e-60be5452069f",
   "metadata": {
    "id": "7874c81a-47c9-4a07-ac9e-60be5452069f"
   },
   "outputs": [],
   "source": [
    "from pycaret.clustering import *"
   ]
  },
  {
   "cell_type": "code",
   "execution_count": 26,
   "id": "b4b0fa07-48c0-4c4a-b743-bb1ea11b716e",
   "metadata": {
    "colab": {
     "base_uri": "https://localhost:8080/",
     "height": 568
    },
    "id": "b4b0fa07-48c0-4c4a-b743-bb1ea11b716e",
    "outputId": "55c80c42-c73f-482c-a69a-47b2e2acf3ef"
   },
   "outputs": [
    {
     "data": {
      "text/html": [
       "<style type=\"text/css\">\n",
       "#T_df1fa_row5_col1 {\n",
       "  background-color: lightgreen;\n",
       "}\n",
       "</style>\n",
       "<table id=\"T_df1fa\">\n",
       "  <thead>\n",
       "    <tr>\n",
       "      <th class=\"blank level0\" >&nbsp;</th>\n",
       "      <th id=\"T_df1fa_level0_col0\" class=\"col_heading level0 col0\" >Description</th>\n",
       "      <th id=\"T_df1fa_level0_col1\" class=\"col_heading level0 col1\" >Value</th>\n",
       "    </tr>\n",
       "  </thead>\n",
       "  <tbody>\n",
       "    <tr>\n",
       "      <th id=\"T_df1fa_level0_row0\" class=\"row_heading level0 row0\" >0</th>\n",
       "      <td id=\"T_df1fa_row0_col0\" class=\"data row0 col0\" >Session id</td>\n",
       "      <td id=\"T_df1fa_row0_col1\" class=\"data row0 col1\" >2247</td>\n",
       "    </tr>\n",
       "    <tr>\n",
       "      <th id=\"T_df1fa_level0_row1\" class=\"row_heading level0 row1\" >1</th>\n",
       "      <td id=\"T_df1fa_row1_col0\" class=\"data row1 col0\" >Original data shape</td>\n",
       "      <td id=\"T_df1fa_row1_col1\" class=\"data row1 col1\" >(138, 34)</td>\n",
       "    </tr>\n",
       "    <tr>\n",
       "      <th id=\"T_df1fa_level0_row2\" class=\"row_heading level0 row2\" >2</th>\n",
       "      <td id=\"T_df1fa_row2_col0\" class=\"data row2 col0\" >Transformed data shape</td>\n",
       "      <td id=\"T_df1fa_row2_col1\" class=\"data row2 col1\" >(138, 171)</td>\n",
       "    </tr>\n",
       "    <tr>\n",
       "      <th id=\"T_df1fa_level0_row3\" class=\"row_heading level0 row3\" >3</th>\n",
       "      <td id=\"T_df1fa_row3_col0\" class=\"data row3 col0\" >Numeric features</td>\n",
       "      <td id=\"T_df1fa_row3_col1\" class=\"data row3 col1\" >33</td>\n",
       "    </tr>\n",
       "    <tr>\n",
       "      <th id=\"T_df1fa_level0_row4\" class=\"row_heading level0 row4\" >4</th>\n",
       "      <td id=\"T_df1fa_row4_col0\" class=\"data row4 col0\" >Categorical features</td>\n",
       "      <td id=\"T_df1fa_row4_col1\" class=\"data row4 col1\" >1</td>\n",
       "    </tr>\n",
       "    <tr>\n",
       "      <th id=\"T_df1fa_level0_row5\" class=\"row_heading level0 row5\" >5</th>\n",
       "      <td id=\"T_df1fa_row5_col0\" class=\"data row5 col0\" >Preprocess</td>\n",
       "      <td id=\"T_df1fa_row5_col1\" class=\"data row5 col1\" >True</td>\n",
       "    </tr>\n",
       "    <tr>\n",
       "      <th id=\"T_df1fa_level0_row6\" class=\"row_heading level0 row6\" >6</th>\n",
       "      <td id=\"T_df1fa_row6_col0\" class=\"data row6 col0\" >Imputation type</td>\n",
       "      <td id=\"T_df1fa_row6_col1\" class=\"data row6 col1\" >simple</td>\n",
       "    </tr>\n",
       "    <tr>\n",
       "      <th id=\"T_df1fa_level0_row7\" class=\"row_heading level0 row7\" >7</th>\n",
       "      <td id=\"T_df1fa_row7_col0\" class=\"data row7 col0\" >Numeric imputation</td>\n",
       "      <td id=\"T_df1fa_row7_col1\" class=\"data row7 col1\" >mean</td>\n",
       "    </tr>\n",
       "    <tr>\n",
       "      <th id=\"T_df1fa_level0_row8\" class=\"row_heading level0 row8\" >8</th>\n",
       "      <td id=\"T_df1fa_row8_col0\" class=\"data row8 col0\" >Categorical imputation</td>\n",
       "      <td id=\"T_df1fa_row8_col1\" class=\"data row8 col1\" >mode</td>\n",
       "    </tr>\n",
       "    <tr>\n",
       "      <th id=\"T_df1fa_level0_row9\" class=\"row_heading level0 row9\" >9</th>\n",
       "      <td id=\"T_df1fa_row9_col0\" class=\"data row9 col0\" >Maximum one-hot encoding</td>\n",
       "      <td id=\"T_df1fa_row9_col1\" class=\"data row9 col1\" >-1</td>\n",
       "    </tr>\n",
       "    <tr>\n",
       "      <th id=\"T_df1fa_level0_row10\" class=\"row_heading level0 row10\" >10</th>\n",
       "      <td id=\"T_df1fa_row10_col0\" class=\"data row10 col0\" >Encoding method</td>\n",
       "      <td id=\"T_df1fa_row10_col1\" class=\"data row10 col1\" >None</td>\n",
       "    </tr>\n",
       "    <tr>\n",
       "      <th id=\"T_df1fa_level0_row11\" class=\"row_heading level0 row11\" >11</th>\n",
       "      <td id=\"T_df1fa_row11_col0\" class=\"data row11 col0\" >CPU Jobs</td>\n",
       "      <td id=\"T_df1fa_row11_col1\" class=\"data row11 col1\" >-1</td>\n",
       "    </tr>\n",
       "    <tr>\n",
       "      <th id=\"T_df1fa_level0_row12\" class=\"row_heading level0 row12\" >12</th>\n",
       "      <td id=\"T_df1fa_row12_col0\" class=\"data row12 col0\" >Use GPU</td>\n",
       "      <td id=\"T_df1fa_row12_col1\" class=\"data row12 col1\" >False</td>\n",
       "    </tr>\n",
       "    <tr>\n",
       "      <th id=\"T_df1fa_level0_row13\" class=\"row_heading level0 row13\" >13</th>\n",
       "      <td id=\"T_df1fa_row13_col0\" class=\"data row13 col0\" >Log Experiment</td>\n",
       "      <td id=\"T_df1fa_row13_col1\" class=\"data row13 col1\" >False</td>\n",
       "    </tr>\n",
       "    <tr>\n",
       "      <th id=\"T_df1fa_level0_row14\" class=\"row_heading level0 row14\" >14</th>\n",
       "      <td id=\"T_df1fa_row14_col0\" class=\"data row14 col0\" >Experiment Name</td>\n",
       "      <td id=\"T_df1fa_row14_col1\" class=\"data row14 col1\" >cluster-default-name</td>\n",
       "    </tr>\n",
       "    <tr>\n",
       "      <th id=\"T_df1fa_level0_row15\" class=\"row_heading level0 row15\" >15</th>\n",
       "      <td id=\"T_df1fa_row15_col0\" class=\"data row15 col0\" >USI</td>\n",
       "      <td id=\"T_df1fa_row15_col1\" class=\"data row15 col1\" >94c7</td>\n",
       "    </tr>\n",
       "  </tbody>\n",
       "</table>\n"
      ],
      "text/plain": [
       "<pandas.io.formats.style.Styler at 0x74fbbf9d8ed0>"
      ]
     },
     "metadata": {},
     "output_type": "display_data"
    },
    {
     "data": {
      "text/plain": [
       "<pycaret.clustering.oop.ClusteringExperiment at 0x74fbb4348bd0>"
      ]
     },
     "execution_count": 26,
     "metadata": {},
     "output_type": "execute_result"
    }
   ],
   "source": [
    "setup(df)"
   ]
  },
  {
   "cell_type": "code",
   "execution_count": 27,
   "id": "vlbu9Y7TWYIB",
   "metadata": {
    "colab": {
     "base_uri": "https://localhost:8080/",
     "height": 81,
     "referenced_widgets": [
      "a2de7b22f1f94a06817b1a4e9310bba3",
      "2a9ab9b6e8d74659b1f8deff63b90518",
      "0bedfd8607654cb386877f16fad7ef57",
      "37992d1e1fdb40d4a4f1bd4019417055",
      "5ea22d7fab8e4267963475b686f64b7d",
      "4d54e208dfcb4c5cadaf2ca4b1b2bff4",
      "fc33d4e11aca4ee58dcbcdcd9248a069",
      "ad87cb41ab43413d90fbcefa90578c63",
      "a44733037f26405fb0533b48124338eb",
      "cb4e37608ad445db9359d69d04eb346e",
      "f7e2667f60cf4697b3c7e45c5312e287"
     ]
    },
    "id": "vlbu9Y7TWYIB",
    "outputId": "89c02a4b-9a76-47dd-9609-f00e8f6c42d9"
   },
   "outputs": [
    {
     "data": {
      "text/html": [],
      "text/plain": [
       "<IPython.core.display.HTML object>"
      ]
     },
     "metadata": {},
     "output_type": "display_data"
    },
    {
     "data": {
      "text/html": [
       "<style type=\"text/css\">\n",
       "</style>\n",
       "<table id=\"T_6d324\">\n",
       "  <thead>\n",
       "    <tr>\n",
       "      <th class=\"blank level0\" >&nbsp;</th>\n",
       "      <th id=\"T_6d324_level0_col0\" class=\"col_heading level0 col0\" >Silhouette</th>\n",
       "      <th id=\"T_6d324_level0_col1\" class=\"col_heading level0 col1\" >Calinski-Harabasz</th>\n",
       "      <th id=\"T_6d324_level0_col2\" class=\"col_heading level0 col2\" >Davies-Bouldin</th>\n",
       "      <th id=\"T_6d324_level0_col3\" class=\"col_heading level0 col3\" >Homogeneity</th>\n",
       "      <th id=\"T_6d324_level0_col4\" class=\"col_heading level0 col4\" >Rand Index</th>\n",
       "      <th id=\"T_6d324_level0_col5\" class=\"col_heading level0 col5\" >Completeness</th>\n",
       "    </tr>\n",
       "  </thead>\n",
       "  <tbody>\n",
       "    <tr>\n",
       "      <th id=\"T_6d324_level0_row0\" class=\"row_heading level0 row0\" >0</th>\n",
       "      <td id=\"T_6d324_row0_col0\" class=\"data row0 col0\" >0.8995</td>\n",
       "      <td id=\"T_6d324_row0_col1\" class=\"data row0 col1\" >683.6690</td>\n",
       "      <td id=\"T_6d324_row0_col2\" class=\"data row0 col2\" >0.2368</td>\n",
       "      <td id=\"T_6d324_row0_col3\" class=\"data row0 col3\" >0</td>\n",
       "      <td id=\"T_6d324_row0_col4\" class=\"data row0 col4\" >0</td>\n",
       "      <td id=\"T_6d324_row0_col5\" class=\"data row0 col5\" >0</td>\n",
       "    </tr>\n",
       "  </tbody>\n",
       "</table>\n"
      ],
      "text/plain": [
       "<pandas.io.formats.style.Styler at 0x74fbb4218b10>"
      ]
     },
     "metadata": {},
     "output_type": "display_data"
    },
    {
     "data": {
      "text/html": [],
      "text/plain": [
       "<IPython.core.display.HTML object>"
      ]
     },
     "metadata": {},
     "output_type": "display_data"
    }
   ],
   "source": [
    "kmeans=create_model(\"kmeans\", 3)"
   ]
  },
  {
   "cell_type": "code",
   "execution_count": 28,
   "id": "3rFzYcNfWewW",
   "metadata": {
    "colab": {
     "base_uri": "https://localhost:8080/",
     "height": 617
    },
    "id": "3rFzYcNfWewW",
    "outputId": "a9aa29fe-180a-4d65-d701-99d9e2753db0"
   },
   "outputs": [
    {
     "data": {
      "text/html": [],
      "text/plain": [
       "<IPython.core.display.HTML object>"
      ]
     },
     "metadata": {},
     "output_type": "display_data"
    },
    {
     "data": {
      "application/vnd.plotly.v1+json": {
       "config": {
        "plotlyServerURL": "https://plot.ly"
       },
       "data": [
        {
         "customdata": [
          [
           "Afghanistan"
          ],
          [
           "Republic of the Congo"
          ],
          [
           "Qatar"
          ],
          [
           "Portugal"
          ],
          [
           "Poland"
          ],
          [
           "Philippines"
          ],
          [
           "Peru"
          ],
          [
           "Paraguay"
          ],
          [
           "Panama"
          ],
          [
           "Pakistan"
          ],
          [
           "Oman"
          ],
          [
           "Norway"
          ],
          [
           "North Macedonia"
          ],
          [
           "North Korea"
          ],
          [
           "Nigeria"
          ],
          [
           "Romania"
          ],
          [
           "Niger"
          ],
          [
           "New Zealand"
          ],
          [
           "Nepal"
          ],
          [
           "Namibia"
          ],
          [
           "Myanmar"
          ],
          [
           "Mozambique"
          ],
          [
           "Morocco"
          ],
          [
           "Montenegro"
          ],
          [
           "Mongolia"
          ],
          [
           "Moldova"
          ],
          [
           "Mexico"
          ],
          [
           "Mauritania"
          ],
          [
           "Mali"
          ],
          [
           "Malaysia"
          ],
          [
           "Madagascar"
          ],
          [
           "Nicaragua"
          ],
          [
           "Zambia"
          ],
          [
           "Russia"
          ],
          [
           "Serbia"
          ],
          [
           "Yemen"
          ],
          [
           "Vietnam"
          ],
          [
           "Venezuela"
          ],
          [
           "Uzbekistan"
          ],
          [
           "Uruguay"
          ],
          [
           "United Arab Emirates"
          ],
          [
           "Ukraine"
          ],
          [
           "Uganda"
          ],
          [
           "Turkmenistan"
          ],
          [
           "Turkey"
          ],
          [
           "Tunisia"
          ],
          [
           "Thailand"
          ],
          [
           "Tanzania"
          ],
          [
           "Tajikistan"
          ],
          [
           "Saudi Arabia"
          ],
          [
           "Taiwan"
          ],
          [
           "Switzerland"
          ],
          [
           "Sweden"
          ],
          [
           "Suriname"
          ],
          [
           "Sudan"
          ],
          [
           "Sri Lanka"
          ],
          [
           "Spain"
          ],
          [
           "South Sudan"
          ],
          [
           "South Korea"
          ],
          [
           "South Africa"
          ],
          [
           "Somalia"
          ],
          [
           "Slovenia"
          ],
          [
           "Slovakia"
          ],
          [
           "Singapore"
          ],
          [
           "Sierra Leone"
          ],
          [
           "Syria"
          ],
          [
           "Libya"
          ],
          [
           "Lithuania"
          ],
          [
           "Lebanon"
          ],
          [
           "Czechia"
          ],
          [
           "Cuba"
          ],
          [
           "Croatia"
          ],
          [
           "Colombia"
          ],
          [
           "China"
          ],
          [
           "Chile"
          ],
          [
           "Chad"
          ],
          [
           "Central African Republic"
          ],
          [
           "Canada"
          ],
          [
           "Cameroon"
          ],
          [
           "Cambodia"
          ],
          [
           "Burkina Faso"
          ],
          [
           "Bulgaria"
          ],
          [
           "Brazil"
          ],
          [
           "Democratic Republic of the Congo"
          ],
          [
           "Botswana"
          ],
          [
           "Bolivia"
          ],
          [
           "Bhutan"
          ],
          [
           "Belgium"
          ],
          [
           "Belarus"
          ],
          [
           "Bangladesh"
          ],
          [
           "Bahrain"
          ],
          [
           "Azerbaijan"
          ],
          [
           "Austria"
          ],
          [
           "Australia"
          ],
          [
           "Armenia"
          ],
          [
           "Argentina"
          ],
          [
           "Angola"
          ],
          [
           "Algeria"
          ],
          [
           "Albania"
          ],
          [
           "Bosnia and Herzegovina"
          ],
          [
           "Liberia"
          ],
          [
           "Denmark"
          ],
          [
           "Ecuador"
          ],
          [
           "Latvia"
          ],
          [
           "Laos"
          ],
          [
           "Kyrgyzstan"
          ],
          [
           "Kuwait"
          ],
          [
           "Kenya"
          ],
          [
           "Kazakhstan"
          ],
          [
           "Jordan"
          ],
          [
           "Ivory Coast"
          ],
          [
           "Italy"
          ],
          [
           "Israel"
          ],
          [
           "Ireland"
          ],
          [
           "Iraq"
          ],
          [
           "Dominican Republic"
          ],
          [
           "Indonesia"
          ],
          [
           "Iran"
          ],
          [
           "Hungary"
          ],
          [
           "Egypt"
          ],
          [
           "El Salvador"
          ],
          [
           "Estonia"
          ],
          [
           "Ethiopia"
          ],
          [
           "Finland"
          ],
          [
           "India"
          ],
          [
           "Gabon"
          ],
          [
           "Ghana"
          ],
          [
           "Greece"
          ],
          [
           "Guatemala"
          ],
          [
           "Honduras"
          ],
          [
           "Georgia"
          ],
          [
           "Zimbabwe"
          ]
         ],
         "hovertemplate": "Cluster=Cluster 0<br>PCA1=%{x}<br>PCA2=%{y}<br>Feature=%{customdata[0]}<extra></extra>",
         "legendgroup": "Cluster 0",
         "marker": {
          "color": "#636efa",
          "opacity": 0.5,
          "symbol": "circle"
         },
         "mode": "markers",
         "name": "Cluster 0",
         "orientation": "v",
         "showlegend": true,
         "textposition": "top center",
         "type": "scatter",
         "x": [
          -516485446678.4175,
          -515065811245.14526,
          -351768281736.7892,
          -70799687160.7288,
          -278437179431.7544,
          -443441095165.6181,
          -453394064471.75055,
          -501992374585.0179,
          -428189383797.0858,
          -437190829825.7639,
          -473173436715.10785,
          122531393381.22667,
          -510902536054.7825,
          -514645054242.82495,
          -478657863756.7502,
          -423611647221.94446,
          -515955405766.39966,
          -427982978154.3567,
          -513838942196.43866,
          -511710993186.8751,
          -513019535094.54816,
          -508779338464.9752,
          -467929556780.92957,
          -517174911385.3445,
          -494368867781.0356,
          -513144877203.8147,
          -73881056903.58871,
          -515542115754.6373,
          -515499544919.065,
          -302468550268.154,
          -515601117935.1483,
          -508382743231.33044,
          -508035970661.13184,
          21183750936.319244,
          -490177732195.0244,
          -512581960396.7194,
          -422985370076.9714,
          -419196197627.50354,
          -502769354907.5988,
          -491183405564.7605,
          -281434781835.50226,
          -389587052826.1617,
          -508866322989.476,
          -519146009204.4135,
          -66921847373.04494,
          -489498738727.85565,
          -387535917881.7924,
          -502033181550.38983,
          -513895397893.0174,
          -312422497241.563,
          -337548588118.6297,
          1143679974492.4104,
          419960734365.5982,
          -517990528116.2888,
          -463588722919.89417,
          -467919423818.5764,
          1573787607288.4688,
          -517437587562.14136,
          -133924418266.04774,
          -363334053660.22314,
          -514392304577.08167,
          -473395664800.0935,
          -444621955339.731,
          46485508614.89446,
          -518075166454.04474,
          -514648095977.5822,
          -516545910881.5987,
          -485193991157.8717,
          -480333589465.60254,
          -314497119987.8839,
          -489630430155.7847,
          -471589749842.1222,
          -394824049065.7777,
          1084836792756.5918,
          -336247535277.5887,
          -517961307851.4712,
          -518911574512.18567,
          1088366342693.9348,
          -510310347438.842,
          -507808791842.47736,
          -516633173385.1484,
          -477618405921.34796,
          28312337430.48379,
          -514727855340.03625,
          -517491962720.2308,
          -506867363116.2281,
          -517021205787.97473,
          760857423804.0282,
          -479771215060.5413,
          -469338889552.12335,
          -467522770811.812,
          -502198854032.7018,
          110915622462.42982,
          1194310364129.318,
          -509244181134.97864,
          -304762379097.505,
          -477410998155.41003,
          -513027506903.9516,
          -510183402675.8057,
          -508821771313.81537,
          -518655809262.1494,
          -34973201366.52567,
          -480337543656.11505,
          -479668334570.943,
          -504798151471.11993,
          -511530913122.3225,
          -472190500230.6049,
          -492110968969.6723,
          -352125922341.4938,
          -490285849611.4429,
          -506610936356.926,
          1924012585702.9375,
          -430460666326.6205,
          1949174962350.2417,
          -446548920735.7633,
          -490522133039.28143,
          -175218264264.53827,
          -510984339270.8135,
          -381592836526.87744,
          -441911785293.6392,
          -504183888930.15497,
          -500629682250.2966,
          -493643228888.7121,
          -369053071373.2366,
          -16455204207.657045,
          -513200765272.36945,
          -497539884924.06445,
          -13181222938.685898,
          -496775071606.70026,
          -511064490778.2715,
          -502699656449.9879,
          -510336051763.4949
         ],
         "xaxis": "x",
         "y": [
          -5404799018.002321,
          -8256639024.536359,
          13588486507.727947,
          -14226468216.125883,
          -8225152061.024462,
          -9441239001.831123,
          -9356703599.009996,
          -10074909675.490295,
          -10893255869.496304,
          -6291843982.715043,
          -2242128209.8492103,
          -9050453238.6626,
          -10018792159.487715,
          -9402274685.406548,
          24614101851.622314,
          -8656502007.531487,
          -9734709463.644957,
          -9390938910.97403,
          -9942337929.925125,
          -9857113591.578257,
          -8892628292.414364,
          -9992765332.119,
          -6769786392.582018,
          -9957615844.613308,
          -10205620367.254772,
          -10020892867.660406,
          -5735655094.852733,
          -9964985618.832882,
          -9976437126.044937,
          -7785365269.989464,
          -9957975124.530859,
          -10037819540.825554,
          -10080323838.552198,
          75629559974.29485,
          -9898492192.738325,
          -6731745428.851344,
          -4980365926.779022,
          267171863594.88623,
          -9239231101.65828,
          -8412508561.151038,
          86178801963.69737,
          -9133495425.76159,
          -7417545589.84613,
          -9327107515.764734,
          -7937316582.1217375,
          -9722185711.133682,
          -8507872472.965795,
          -10084689503.954443,
          -9400481427.979307,
          259608949343.38614,
          -8105629882.59135,
          -28637605404.867287,
          -19168798376.940216,
          -9870668769.11885,
          -5081131856.257687,
          -9636909362.711533,
          -29964863889.894356,
          -6482983892.182406,
          2087818131.6295967,
          -10238564083.182838,
          -9993134670.181782,
          -10302519604.50584,
          -10061627977.998356,
          -12681730716.203423,
          -9942451122.966312,
          -7015379256.89756,
          35849176301.87698,
          -9944305264.74841,
          -9483200734.790474,
          -11343613692.91019,
          -10017839499.590624,
          -10175566465.456905,
          -5596161954.95157,
          84435363644.46878,
          -10459939884.342121,
          -8510016347.327449,
          -9953305111.693592,
          135567211559.07431,
          -9749990022.063435,
          -9867586349.524935,
          -9939467319.6574,
          -10046037600.564402,
          5901885010.352475,
          -9808123790.331432,
          -9806548919.066353,
          -9662384111.195114,
          -9974760411.684643,
          -23927374590.137897,
          -10024260276.09998,
          -9096508697.649025,
          -9941352684.49261,
          -2626686718.0245247,
          -16428469194.633492,
          -19441175635.057606,
          -9551339940.60726,
          -8988215951.958485,
          -153899569.76056528,
          6209445838.7332115,
          -9817947053.104565,
          -10022830287.246992,
          -9959148127.896418,
          -13680889348.808252,
          -1837482598.6567833,
          -10170194623.264175,
          -10128641015.100084,
          -10007731368.659172,
          85874471213.58939,
          -10246538242.335947,
          17227617923.377068,
          -9320818261.243351,
          -9810632506.22351,
          -29072069066.241844,
          -3400838067.3729715,
          -40190309322.17008,
          121498463654.61221,
          -10022028755.130041,
          -8326984856.509478,
          143820270822.58075,
          -10843205123.344816,
          -2567574673.2496433,
          -10079494204.425938,
          -9925539719.259644,
          -10139603367.053726,
          -10452233677.559378,
          11401892541.403809,
          -8151605958.979326,
          -9344271711.129942,
          -14362784286.610126,
          -10066558105.146925,
          -9979767835.923536,
          -10004379410.71865,
          -10028913287.224323
         ],
         "yaxis": "y"
        },
        {
         "customdata": [
          [
           "Japan"
          ],
          [
           "Germany"
          ],
          [
           "France"
          ],
          [
           "United Kingdom"
          ],
          [
           "Netherlands"
          ]
         ],
         "hovertemplate": "Cluster=Cluster 1<br>PCA1=%{x}<br>PCA2=%{y}<br>Feature=%{customdata[0]}<extra></extra>",
         "legendgroup": "Cluster 1",
         "marker": {
          "color": "#EF553B",
          "opacity": 0.5,
          "symbol": "circle"
         },
         "mode": "markers",
         "name": "Cluster 1",
         "orientation": "v",
         "showlegend": true,
         "textposition": "top center",
         "type": "scatter",
         "x": [
          2720287847205.5166,
          4805339107608.956,
          4839062775929.096,
          7604182146504.627,
          3541780836356.8696
         ],
         "xaxis": "x",
         "y": [
          -31303626454.165062,
          -56646684815.87789,
          -60380336105.325005,
          -87119931219.91812,
          -55392820836.050316
         ],
         "yaxis": "y"
        },
        {
         "customdata": [
          [
           "United States"
          ]
         ],
         "hovertemplate": "Cluster=Cluster 2<br>PCA1=%{x}<br>PCA2=%{y}<br>Feature=%{customdata[0]}<extra></extra>",
         "legendgroup": "Cluster 2",
         "marker": {
          "color": "#00cc96",
          "opacity": 0.5,
          "symbol": "circle"
         },
         "mode": "markers",
         "name": "Cluster 2",
         "orientation": "v",
         "showlegend": true,
         "textposition": "top center",
         "type": "scatter",
         "x": [
          17404900989954.729
         ],
         "xaxis": "x",
         "y": [
          88478332815.7025
         ],
         "yaxis": "y"
        }
       ],
       "layout": {
        "height": 600,
        "legend": {
         "title": {
          "text": "Cluster"
         },
         "tracegroupgap": 0
        },
        "margin": {
         "t": 60
        },
        "plot_bgcolor": "rgb(240,240,240)",
        "template": {
         "data": {
          "bar": [
           {
            "error_x": {
             "color": "#2a3f5f"
            },
            "error_y": {
             "color": "#2a3f5f"
            },
            "marker": {
             "line": {
              "color": "#E5ECF6",
              "width": 0.5
             },
             "pattern": {
              "fillmode": "overlay",
              "size": 10,
              "solidity": 0.2
             }
            },
            "type": "bar"
           }
          ],
          "barpolar": [
           {
            "marker": {
             "line": {
              "color": "#E5ECF6",
              "width": 0.5
             },
             "pattern": {
              "fillmode": "overlay",
              "size": 10,
              "solidity": 0.2
             }
            },
            "type": "barpolar"
           }
          ],
          "carpet": [
           {
            "aaxis": {
             "endlinecolor": "#2a3f5f",
             "gridcolor": "white",
             "linecolor": "white",
             "minorgridcolor": "white",
             "startlinecolor": "#2a3f5f"
            },
            "baxis": {
             "endlinecolor": "#2a3f5f",
             "gridcolor": "white",
             "linecolor": "white",
             "minorgridcolor": "white",
             "startlinecolor": "#2a3f5f"
            },
            "type": "carpet"
           }
          ],
          "choropleth": [
           {
            "colorbar": {
             "outlinewidth": 0,
             "ticks": ""
            },
            "type": "choropleth"
           }
          ],
          "contour": [
           {
            "colorbar": {
             "outlinewidth": 0,
             "ticks": ""
            },
            "colorscale": [
             [
              0,
              "#0d0887"
             ],
             [
              0.1111111111111111,
              "#46039f"
             ],
             [
              0.2222222222222222,
              "#7201a8"
             ],
             [
              0.3333333333333333,
              "#9c179e"
             ],
             [
              0.4444444444444444,
              "#bd3786"
             ],
             [
              0.5555555555555556,
              "#d8576b"
             ],
             [
              0.6666666666666666,
              "#ed7953"
             ],
             [
              0.7777777777777778,
              "#fb9f3a"
             ],
             [
              0.8888888888888888,
              "#fdca26"
             ],
             [
              1,
              "#f0f921"
             ]
            ],
            "type": "contour"
           }
          ],
          "contourcarpet": [
           {
            "colorbar": {
             "outlinewidth": 0,
             "ticks": ""
            },
            "type": "contourcarpet"
           }
          ],
          "heatmap": [
           {
            "colorbar": {
             "outlinewidth": 0,
             "ticks": ""
            },
            "colorscale": [
             [
              0,
              "#0d0887"
             ],
             [
              0.1111111111111111,
              "#46039f"
             ],
             [
              0.2222222222222222,
              "#7201a8"
             ],
             [
              0.3333333333333333,
              "#9c179e"
             ],
             [
              0.4444444444444444,
              "#bd3786"
             ],
             [
              0.5555555555555556,
              "#d8576b"
             ],
             [
              0.6666666666666666,
              "#ed7953"
             ],
             [
              0.7777777777777778,
              "#fb9f3a"
             ],
             [
              0.8888888888888888,
              "#fdca26"
             ],
             [
              1,
              "#f0f921"
             ]
            ],
            "type": "heatmap"
           }
          ],
          "heatmapgl": [
           {
            "colorbar": {
             "outlinewidth": 0,
             "ticks": ""
            },
            "colorscale": [
             [
              0,
              "#0d0887"
             ],
             [
              0.1111111111111111,
              "#46039f"
             ],
             [
              0.2222222222222222,
              "#7201a8"
             ],
             [
              0.3333333333333333,
              "#9c179e"
             ],
             [
              0.4444444444444444,
              "#bd3786"
             ],
             [
              0.5555555555555556,
              "#d8576b"
             ],
             [
              0.6666666666666666,
              "#ed7953"
             ],
             [
              0.7777777777777778,
              "#fb9f3a"
             ],
             [
              0.8888888888888888,
              "#fdca26"
             ],
             [
              1,
              "#f0f921"
             ]
            ],
            "type": "heatmapgl"
           }
          ],
          "histogram": [
           {
            "marker": {
             "pattern": {
              "fillmode": "overlay",
              "size": 10,
              "solidity": 0.2
             }
            },
            "type": "histogram"
           }
          ],
          "histogram2d": [
           {
            "colorbar": {
             "outlinewidth": 0,
             "ticks": ""
            },
            "colorscale": [
             [
              0,
              "#0d0887"
             ],
             [
              0.1111111111111111,
              "#46039f"
             ],
             [
              0.2222222222222222,
              "#7201a8"
             ],
             [
              0.3333333333333333,
              "#9c179e"
             ],
             [
              0.4444444444444444,
              "#bd3786"
             ],
             [
              0.5555555555555556,
              "#d8576b"
             ],
             [
              0.6666666666666666,
              "#ed7953"
             ],
             [
              0.7777777777777778,
              "#fb9f3a"
             ],
             [
              0.8888888888888888,
              "#fdca26"
             ],
             [
              1,
              "#f0f921"
             ]
            ],
            "type": "histogram2d"
           }
          ],
          "histogram2dcontour": [
           {
            "colorbar": {
             "outlinewidth": 0,
             "ticks": ""
            },
            "colorscale": [
             [
              0,
              "#0d0887"
             ],
             [
              0.1111111111111111,
              "#46039f"
             ],
             [
              0.2222222222222222,
              "#7201a8"
             ],
             [
              0.3333333333333333,
              "#9c179e"
             ],
             [
              0.4444444444444444,
              "#bd3786"
             ],
             [
              0.5555555555555556,
              "#d8576b"
             ],
             [
              0.6666666666666666,
              "#ed7953"
             ],
             [
              0.7777777777777778,
              "#fb9f3a"
             ],
             [
              0.8888888888888888,
              "#fdca26"
             ],
             [
              1,
              "#f0f921"
             ]
            ],
            "type": "histogram2dcontour"
           }
          ],
          "mesh3d": [
           {
            "colorbar": {
             "outlinewidth": 0,
             "ticks": ""
            },
            "type": "mesh3d"
           }
          ],
          "parcoords": [
           {
            "line": {
             "colorbar": {
              "outlinewidth": 0,
              "ticks": ""
             }
            },
            "type": "parcoords"
           }
          ],
          "pie": [
           {
            "automargin": true,
            "type": "pie"
           }
          ],
          "scatter": [
           {
            "fillpattern": {
             "fillmode": "overlay",
             "size": 10,
             "solidity": 0.2
            },
            "type": "scatter"
           }
          ],
          "scatter3d": [
           {
            "line": {
             "colorbar": {
              "outlinewidth": 0,
              "ticks": ""
             }
            },
            "marker": {
             "colorbar": {
              "outlinewidth": 0,
              "ticks": ""
             }
            },
            "type": "scatter3d"
           }
          ],
          "scattercarpet": [
           {
            "marker": {
             "colorbar": {
              "outlinewidth": 0,
              "ticks": ""
             }
            },
            "type": "scattercarpet"
           }
          ],
          "scattergeo": [
           {
            "marker": {
             "colorbar": {
              "outlinewidth": 0,
              "ticks": ""
             }
            },
            "type": "scattergeo"
           }
          ],
          "scattergl": [
           {
            "marker": {
             "colorbar": {
              "outlinewidth": 0,
              "ticks": ""
             }
            },
            "type": "scattergl"
           }
          ],
          "scattermapbox": [
           {
            "marker": {
             "colorbar": {
              "outlinewidth": 0,
              "ticks": ""
             }
            },
            "type": "scattermapbox"
           }
          ],
          "scatterpolar": [
           {
            "marker": {
             "colorbar": {
              "outlinewidth": 0,
              "ticks": ""
             }
            },
            "type": "scatterpolar"
           }
          ],
          "scatterpolargl": [
           {
            "marker": {
             "colorbar": {
              "outlinewidth": 0,
              "ticks": ""
             }
            },
            "type": "scatterpolargl"
           }
          ],
          "scatterternary": [
           {
            "marker": {
             "colorbar": {
              "outlinewidth": 0,
              "ticks": ""
             }
            },
            "type": "scatterternary"
           }
          ],
          "surface": [
           {
            "colorbar": {
             "outlinewidth": 0,
             "ticks": ""
            },
            "colorscale": [
             [
              0,
              "#0d0887"
             ],
             [
              0.1111111111111111,
              "#46039f"
             ],
             [
              0.2222222222222222,
              "#7201a8"
             ],
             [
              0.3333333333333333,
              "#9c179e"
             ],
             [
              0.4444444444444444,
              "#bd3786"
             ],
             [
              0.5555555555555556,
              "#d8576b"
             ],
             [
              0.6666666666666666,
              "#ed7953"
             ],
             [
              0.7777777777777778,
              "#fb9f3a"
             ],
             [
              0.8888888888888888,
              "#fdca26"
             ],
             [
              1,
              "#f0f921"
             ]
            ],
            "type": "surface"
           }
          ],
          "table": [
           {
            "cells": {
             "fill": {
              "color": "#EBF0F8"
             },
             "line": {
              "color": "white"
             }
            },
            "header": {
             "fill": {
              "color": "#C8D4E3"
             },
             "line": {
              "color": "white"
             }
            },
            "type": "table"
           }
          ]
         },
         "layout": {
          "annotationdefaults": {
           "arrowcolor": "#2a3f5f",
           "arrowhead": 0,
           "arrowwidth": 1
          },
          "autotypenumbers": "strict",
          "coloraxis": {
           "colorbar": {
            "outlinewidth": 0,
            "ticks": ""
           }
          },
          "colorscale": {
           "diverging": [
            [
             0,
             "#8e0152"
            ],
            [
             0.1,
             "#c51b7d"
            ],
            [
             0.2,
             "#de77ae"
            ],
            [
             0.3,
             "#f1b6da"
            ],
            [
             0.4,
             "#fde0ef"
            ],
            [
             0.5,
             "#f7f7f7"
            ],
            [
             0.6,
             "#e6f5d0"
            ],
            [
             0.7,
             "#b8e186"
            ],
            [
             0.8,
             "#7fbc41"
            ],
            [
             0.9,
             "#4d9221"
            ],
            [
             1,
             "#276419"
            ]
           ],
           "sequential": [
            [
             0,
             "#0d0887"
            ],
            [
             0.1111111111111111,
             "#46039f"
            ],
            [
             0.2222222222222222,
             "#7201a8"
            ],
            [
             0.3333333333333333,
             "#9c179e"
            ],
            [
             0.4444444444444444,
             "#bd3786"
            ],
            [
             0.5555555555555556,
             "#d8576b"
            ],
            [
             0.6666666666666666,
             "#ed7953"
            ],
            [
             0.7777777777777778,
             "#fb9f3a"
            ],
            [
             0.8888888888888888,
             "#fdca26"
            ],
            [
             1,
             "#f0f921"
            ]
           ],
           "sequentialminus": [
            [
             0,
             "#0d0887"
            ],
            [
             0.1111111111111111,
             "#46039f"
            ],
            [
             0.2222222222222222,
             "#7201a8"
            ],
            [
             0.3333333333333333,
             "#9c179e"
            ],
            [
             0.4444444444444444,
             "#bd3786"
            ],
            [
             0.5555555555555556,
             "#d8576b"
            ],
            [
             0.6666666666666666,
             "#ed7953"
            ],
            [
             0.7777777777777778,
             "#fb9f3a"
            ],
            [
             0.8888888888888888,
             "#fdca26"
            ],
            [
             1,
             "#f0f921"
            ]
           ]
          },
          "colorway": [
           "#636efa",
           "#EF553B",
           "#00cc96",
           "#ab63fa",
           "#FFA15A",
           "#19d3f3",
           "#FF6692",
           "#B6E880",
           "#FF97FF",
           "#FECB52"
          ],
          "font": {
           "color": "#2a3f5f"
          },
          "geo": {
           "bgcolor": "white",
           "lakecolor": "white",
           "landcolor": "#E5ECF6",
           "showlakes": true,
           "showland": true,
           "subunitcolor": "white"
          },
          "hoverlabel": {
           "align": "left"
          },
          "hovermode": "closest",
          "mapbox": {
           "style": "light"
          },
          "paper_bgcolor": "white",
          "plot_bgcolor": "#E5ECF6",
          "polar": {
           "angularaxis": {
            "gridcolor": "white",
            "linecolor": "white",
            "ticks": ""
           },
           "bgcolor": "#E5ECF6",
           "radialaxis": {
            "gridcolor": "white",
            "linecolor": "white",
            "ticks": ""
           }
          },
          "scene": {
           "xaxis": {
            "backgroundcolor": "#E5ECF6",
            "gridcolor": "white",
            "gridwidth": 2,
            "linecolor": "white",
            "showbackground": true,
            "ticks": "",
            "zerolinecolor": "white"
           },
           "yaxis": {
            "backgroundcolor": "#E5ECF6",
            "gridcolor": "white",
            "gridwidth": 2,
            "linecolor": "white",
            "showbackground": true,
            "ticks": "",
            "zerolinecolor": "white"
           },
           "zaxis": {
            "backgroundcolor": "#E5ECF6",
            "gridcolor": "white",
            "gridwidth": 2,
            "linecolor": "white",
            "showbackground": true,
            "ticks": "",
            "zerolinecolor": "white"
           }
          },
          "shapedefaults": {
           "line": {
            "color": "#2a3f5f"
           }
          },
          "ternary": {
           "aaxis": {
            "gridcolor": "white",
            "linecolor": "white",
            "ticks": ""
           },
           "baxis": {
            "gridcolor": "white",
            "linecolor": "white",
            "ticks": ""
           },
           "bgcolor": "#E5ECF6",
           "caxis": {
            "gridcolor": "white",
            "linecolor": "white",
            "ticks": ""
           }
          },
          "title": {
           "x": 0.05
          },
          "xaxis": {
           "automargin": true,
           "gridcolor": "white",
           "linecolor": "white",
           "ticks": "",
           "title": {
            "standoff": 15
           },
           "zerolinecolor": "white",
           "zerolinewidth": 2
          },
          "yaxis": {
           "automargin": true,
           "gridcolor": "white",
           "linecolor": "white",
           "ticks": "",
           "title": {
            "standoff": 15
           },
           "zerolinecolor": "white",
           "zerolinewidth": 2
          }
         }
        },
        "title": {
         "text": "2D Cluster PCA Plot"
        },
        "xaxis": {
         "anchor": "y",
         "domain": [
          0,
          1
         ],
         "title": {
          "text": "PCA1"
         }
        },
        "yaxis": {
         "anchor": "x",
         "domain": [
          0,
          1
         ],
         "title": {
          "text": "PCA2"
         }
        }
       }
      }
     },
     "metadata": {},
     "output_type": "display_data"
    }
   ],
   "source": [
    "plot_model(kmeans)"
   ]
  },
  {
   "cell_type": "markdown",
   "id": "65d659cc",
   "metadata": {},
   "source": [
    "## Sonuç\n",
    "\n",
    "Bu projede ek olarak `pycaret` ile kümeleme yapıyoruz."
   ]
  }
 ],
 "metadata": {
  "colab": {
   "provenance": []
  },
  "kernelspec": {
   "display_name": "pycaret",
   "language": "python",
   "name": "python3"
  },
  "language_info": {
   "codemirror_mode": {
    "name": "ipython",
    "version": 3
   },
   "file_extension": ".py",
   "mimetype": "text/x-python",
   "name": "python",
   "nbconvert_exporter": "python",
   "pygments_lexer": "ipython3",
   "version": "3.11.11"
  },
  "widgets": {
   "application/vnd.jupyter.widget-state+json": {
    "0bedfd8607654cb386877f16fad7ef57": {
     "model_module": "@jupyter-widgets/controls",
     "model_module_version": "1.5.0",
     "model_name": "FloatProgressModel",
     "state": {
      "_dom_classes": [],
      "_model_module": "@jupyter-widgets/controls",
      "_model_module_version": "1.5.0",
      "_model_name": "FloatProgressModel",
      "_view_count": null,
      "_view_module": "@jupyter-widgets/controls",
      "_view_module_version": "1.5.0",
      "_view_name": "ProgressView",
      "bar_style": "",
      "description": "",
      "description_tooltip": null,
      "layout": "IPY_MODEL_ad87cb41ab43413d90fbcefa90578c63",
      "max": 3,
      "min": 0,
      "orientation": "horizontal",
      "style": "IPY_MODEL_a44733037f26405fb0533b48124338eb",
      "value": 3
     }
    },
    "2a9ab9b6e8d74659b1f8deff63b90518": {
     "model_module": "@jupyter-widgets/controls",
     "model_module_version": "1.5.0",
     "model_name": "HTMLModel",
     "state": {
      "_dom_classes": [],
      "_model_module": "@jupyter-widgets/controls",
      "_model_module_version": "1.5.0",
      "_model_name": "HTMLModel",
      "_view_count": null,
      "_view_module": "@jupyter-widgets/controls",
      "_view_module_version": "1.5.0",
      "_view_name": "HTMLView",
      "description": "",
      "description_tooltip": null,
      "layout": "IPY_MODEL_4d54e208dfcb4c5cadaf2ca4b1b2bff4",
      "placeholder": "​",
      "style": "IPY_MODEL_fc33d4e11aca4ee58dcbcdcd9248a069",
      "value": "Processing:   0%"
     }
    },
    "37992d1e1fdb40d4a4f1bd4019417055": {
     "model_module": "@jupyter-widgets/controls",
     "model_module_version": "1.5.0",
     "model_name": "HTMLModel",
     "state": {
      "_dom_classes": [],
      "_model_module": "@jupyter-widgets/controls",
      "_model_module_version": "1.5.0",
      "_model_name": "HTMLModel",
      "_view_count": null,
      "_view_module": "@jupyter-widgets/controls",
      "_view_module_version": "1.5.0",
      "_view_name": "HTMLView",
      "description": "",
      "description_tooltip": null,
      "layout": "IPY_MODEL_cb4e37608ad445db9359d69d04eb346e",
      "placeholder": "​",
      "style": "IPY_MODEL_f7e2667f60cf4697b3c7e45c5312e287",
      "value": " 0/3 [00:00&lt;?, ?it/s]"
     }
    },
    "4d54e208dfcb4c5cadaf2ca4b1b2bff4": {
     "model_module": "@jupyter-widgets/base",
     "model_module_version": "1.2.0",
     "model_name": "LayoutModel",
     "state": {
      "_model_module": "@jupyter-widgets/base",
      "_model_module_version": "1.2.0",
      "_model_name": "LayoutModel",
      "_view_count": null,
      "_view_module": "@jupyter-widgets/base",
      "_view_module_version": "1.2.0",
      "_view_name": "LayoutView",
      "align_content": null,
      "align_items": null,
      "align_self": null,
      "border": null,
      "bottom": null,
      "display": null,
      "flex": null,
      "flex_flow": null,
      "grid_area": null,
      "grid_auto_columns": null,
      "grid_auto_flow": null,
      "grid_auto_rows": null,
      "grid_column": null,
      "grid_gap": null,
      "grid_row": null,
      "grid_template_areas": null,
      "grid_template_columns": null,
      "grid_template_rows": null,
      "height": null,
      "justify_content": null,
      "justify_items": null,
      "left": null,
      "margin": null,
      "max_height": null,
      "max_width": null,
      "min_height": null,
      "min_width": null,
      "object_fit": null,
      "object_position": null,
      "order": null,
      "overflow": null,
      "overflow_x": null,
      "overflow_y": null,
      "padding": null,
      "right": null,
      "top": null,
      "visibility": null,
      "width": null
     }
    },
    "5ea22d7fab8e4267963475b686f64b7d": {
     "model_module": "@jupyter-widgets/base",
     "model_module_version": "1.2.0",
     "model_name": "LayoutModel",
     "state": {
      "_model_module": "@jupyter-widgets/base",
      "_model_module_version": "1.2.0",
      "_model_name": "LayoutModel",
      "_view_count": null,
      "_view_module": "@jupyter-widgets/base",
      "_view_module_version": "1.2.0",
      "_view_name": "LayoutView",
      "align_content": null,
      "align_items": null,
      "align_self": null,
      "border": null,
      "bottom": null,
      "display": null,
      "flex": null,
      "flex_flow": null,
      "grid_area": null,
      "grid_auto_columns": null,
      "grid_auto_flow": null,
      "grid_auto_rows": null,
      "grid_column": null,
      "grid_gap": null,
      "grid_row": null,
      "grid_template_areas": null,
      "grid_template_columns": null,
      "grid_template_rows": null,
      "height": null,
      "justify_content": null,
      "justify_items": null,
      "left": null,
      "margin": null,
      "max_height": null,
      "max_width": null,
      "min_height": null,
      "min_width": null,
      "object_fit": null,
      "object_position": null,
      "order": null,
      "overflow": null,
      "overflow_x": null,
      "overflow_y": null,
      "padding": null,
      "right": null,
      "top": null,
      "visibility": "hidden",
      "width": null
     }
    },
    "a2de7b22f1f94a06817b1a4e9310bba3": {
     "model_module": "@jupyter-widgets/controls",
     "model_module_version": "1.5.0",
     "model_name": "HBoxModel",
     "state": {
      "_dom_classes": [],
      "_model_module": "@jupyter-widgets/controls",
      "_model_module_version": "1.5.0",
      "_model_name": "HBoxModel",
      "_view_count": null,
      "_view_module": "@jupyter-widgets/controls",
      "_view_module_version": "1.5.0",
      "_view_name": "HBoxView",
      "box_style": "",
      "children": [
       "IPY_MODEL_2a9ab9b6e8d74659b1f8deff63b90518",
       "IPY_MODEL_0bedfd8607654cb386877f16fad7ef57",
       "IPY_MODEL_37992d1e1fdb40d4a4f1bd4019417055"
      ],
      "layout": "IPY_MODEL_5ea22d7fab8e4267963475b686f64b7d"
     }
    },
    "a44733037f26405fb0533b48124338eb": {
     "model_module": "@jupyter-widgets/controls",
     "model_module_version": "1.5.0",
     "model_name": "ProgressStyleModel",
     "state": {
      "_model_module": "@jupyter-widgets/controls",
      "_model_module_version": "1.5.0",
      "_model_name": "ProgressStyleModel",
      "_view_count": null,
      "_view_module": "@jupyter-widgets/base",
      "_view_module_version": "1.2.0",
      "_view_name": "StyleView",
      "bar_color": null,
      "description_width": ""
     }
    },
    "ad87cb41ab43413d90fbcefa90578c63": {
     "model_module": "@jupyter-widgets/base",
     "model_module_version": "1.2.0",
     "model_name": "LayoutModel",
     "state": {
      "_model_module": "@jupyter-widgets/base",
      "_model_module_version": "1.2.0",
      "_model_name": "LayoutModel",
      "_view_count": null,
      "_view_module": "@jupyter-widgets/base",
      "_view_module_version": "1.2.0",
      "_view_name": "LayoutView",
      "align_content": null,
      "align_items": null,
      "align_self": null,
      "border": null,
      "bottom": null,
      "display": null,
      "flex": null,
      "flex_flow": null,
      "grid_area": null,
      "grid_auto_columns": null,
      "grid_auto_flow": null,
      "grid_auto_rows": null,
      "grid_column": null,
      "grid_gap": null,
      "grid_row": null,
      "grid_template_areas": null,
      "grid_template_columns": null,
      "grid_template_rows": null,
      "height": null,
      "justify_content": null,
      "justify_items": null,
      "left": null,
      "margin": null,
      "max_height": null,
      "max_width": null,
      "min_height": null,
      "min_width": null,
      "object_fit": null,
      "object_position": null,
      "order": null,
      "overflow": null,
      "overflow_x": null,
      "overflow_y": null,
      "padding": null,
      "right": null,
      "top": null,
      "visibility": null,
      "width": null
     }
    },
    "cb4e37608ad445db9359d69d04eb346e": {
     "model_module": "@jupyter-widgets/base",
     "model_module_version": "1.2.0",
     "model_name": "LayoutModel",
     "state": {
      "_model_module": "@jupyter-widgets/base",
      "_model_module_version": "1.2.0",
      "_model_name": "LayoutModel",
      "_view_count": null,
      "_view_module": "@jupyter-widgets/base",
      "_view_module_version": "1.2.0",
      "_view_name": "LayoutView",
      "align_content": null,
      "align_items": null,
      "align_self": null,
      "border": null,
      "bottom": null,
      "display": null,
      "flex": null,
      "flex_flow": null,
      "grid_area": null,
      "grid_auto_columns": null,
      "grid_auto_flow": null,
      "grid_auto_rows": null,
      "grid_column": null,
      "grid_gap": null,
      "grid_row": null,
      "grid_template_areas": null,
      "grid_template_columns": null,
      "grid_template_rows": null,
      "height": null,
      "justify_content": null,
      "justify_items": null,
      "left": null,
      "margin": null,
      "max_height": null,
      "max_width": null,
      "min_height": null,
      "min_width": null,
      "object_fit": null,
      "object_position": null,
      "order": null,
      "overflow": null,
      "overflow_x": null,
      "overflow_y": null,
      "padding": null,
      "right": null,
      "top": null,
      "visibility": null,
      "width": null
     }
    },
    "f7e2667f60cf4697b3c7e45c5312e287": {
     "model_module": "@jupyter-widgets/controls",
     "model_module_version": "1.5.0",
     "model_name": "DescriptionStyleModel",
     "state": {
      "_model_module": "@jupyter-widgets/controls",
      "_model_module_version": "1.5.0",
      "_model_name": "DescriptionStyleModel",
      "_view_count": null,
      "_view_module": "@jupyter-widgets/base",
      "_view_module_version": "1.2.0",
      "_view_name": "StyleView",
      "description_width": ""
     }
    },
    "fc33d4e11aca4ee58dcbcdcd9248a069": {
     "model_module": "@jupyter-widgets/controls",
     "model_module_version": "1.5.0",
     "model_name": "DescriptionStyleModel",
     "state": {
      "_model_module": "@jupyter-widgets/controls",
      "_model_module_version": "1.5.0",
      "_model_name": "DescriptionStyleModel",
      "_view_count": null,
      "_view_module": "@jupyter-widgets/base",
      "_view_module_version": "1.2.0",
      "_view_name": "StyleView",
      "description_width": ""
     }
    }
   }
  }
 },
 "nbformat": 4,
 "nbformat_minor": 5
}
