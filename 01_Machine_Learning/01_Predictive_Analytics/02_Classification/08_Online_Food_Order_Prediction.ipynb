{
 "cells": [
  {
   "cell_type": "markdown",
   "id": "2cdeb84e-6863-44af-9b30-43d51fb3e71b",
   "metadata": {},
   "source": [
    "# Online Food Order Prediction\n",
    "Bu projede Online Yemek Siparişi veren müşterilerin yeniden sipariş verip vermeyeceğini tahmin eden modeli geliştiriliyor.<br>\n",
    "Bu modelde kullanılan veriler <a href=\"https://thecleverprogrammer.com/2022/06/07/online-food-order-prediction-with-machine-learning/\"\n",
    "target=\"_blank\">buradan</a> indirilmiştir.<br><br>\n",
    "\n",
    "<img src=\"https://cdn.webtekno.com/media/cache/content_detail_v2/article/92887/yemek-siparisi-android-iphone-ios-1590433195.jpg\" wi4th=\"300px\">\n"
   ]
  },
  {
   "cell_type": "code",
   "execution_count": 1,
   "id": "6470e72a-9554-4b67-858d-0c10ecaa7b2e",
   "metadata": {},
   "outputs": [],
   "source": [
    "import pandas as pd\n",
    "import numpy as np\n",
    "import seaborn as sns\n",
    "import matplotlib.pyplot as plt\n",
    "import warnings\n",
    "warnings.filterwarnings(\"ignore\")"
   ]
  },
  {
   "cell_type": "code",
   "execution_count": 17,
   "id": "5eb78957-f210-42b1-b8d2-2393979176bd",
   "metadata": {},
   "outputs": [],
   "source": [
    "df=pd.read_csv(\"onlinefoods.txt\")"
   ]
  },
  {
   "cell_type": "markdown",
   "id": "a00df338-816c-494e-9819-3348adfa21a9",
   "metadata": {},
   "source": [
    "### Keşfedici Veri Analizi (EDA)"
   ]
  },
  {
   "cell_type": "code",
   "execution_count": 59,
   "id": "d8e635b7-4c65-4854-859d-9dc9fe5a2fdc",
   "metadata": {},
   "outputs": [
    {
     "data": {
      "text/html": [
       "<div>\n",
       "<style scoped>\n",
       "    .dataframe tbody tr th:only-of-type {\n",
       "        vertical-align: middle;\n",
       "    }\n",
       "\n",
       "    .dataframe tbody tr th {\n",
       "        vertical-align: top;\n",
       "    }\n",
       "\n",
       "    .dataframe thead th {\n",
       "        text-align: right;\n",
       "    }\n",
       "</style>\n",
       "<table border=\"1\" class=\"dataframe\">\n",
       "  <thead>\n",
       "    <tr style=\"text-align: right;\">\n",
       "      <th></th>\n",
       "      <th>Age</th>\n",
       "      <th>Gender</th>\n",
       "      <th>Marital Status</th>\n",
       "      <th>Occupation</th>\n",
       "      <th>Monthly Income</th>\n",
       "      <th>Educational Qualifications</th>\n",
       "      <th>Family size</th>\n",
       "      <th>latitude</th>\n",
       "      <th>longitude</th>\n",
       "      <th>Pin code</th>\n",
       "      <th>Output</th>\n",
       "      <th>Feedback</th>\n",
       "      <th>Unnamed: 12</th>\n",
       "    </tr>\n",
       "  </thead>\n",
       "  <tbody>\n",
       "    <tr>\n",
       "      <th>91</th>\n",
       "      <td>26</td>\n",
       "      <td>1</td>\n",
       "      <td>1</td>\n",
       "      <td>2</td>\n",
       "      <td>25000</td>\n",
       "      <td>4</td>\n",
       "      <td>1</td>\n",
       "      <td>12.9698</td>\n",
       "      <td>77.7500</td>\n",
       "      <td>560066</td>\n",
       "      <td>0</td>\n",
       "      <td>1</td>\n",
       "      <td>No</td>\n",
       "    </tr>\n",
       "    <tr>\n",
       "      <th>387</th>\n",
       "      <td>23</td>\n",
       "      <td>1</td>\n",
       "      <td>1</td>\n",
       "      <td>1</td>\n",
       "      <td>0</td>\n",
       "      <td>3</td>\n",
       "      <td>5</td>\n",
       "      <td>12.8988</td>\n",
       "      <td>77.5764</td>\n",
       "      <td>560078</td>\n",
       "      <td>1</td>\n",
       "      <td>1</td>\n",
       "      <td>Yes</td>\n",
       "    </tr>\n",
       "    <tr>\n",
       "      <th>8</th>\n",
       "      <td>23</td>\n",
       "      <td>0</td>\n",
       "      <td>1</td>\n",
       "      <td>1</td>\n",
       "      <td>0</td>\n",
       "      <td>3</td>\n",
       "      <td>2</td>\n",
       "      <td>12.9766</td>\n",
       "      <td>77.5993</td>\n",
       "      <td>560001</td>\n",
       "      <td>1</td>\n",
       "      <td>1</td>\n",
       "      <td>Yes</td>\n",
       "    </tr>\n",
       "    <tr>\n",
       "      <th>135</th>\n",
       "      <td>27</td>\n",
       "      <td>0</td>\n",
       "      <td>2</td>\n",
       "      <td>3</td>\n",
       "      <td>50000</td>\n",
       "      <td>3</td>\n",
       "      <td>2</td>\n",
       "      <td>12.9698</td>\n",
       "      <td>77.7500</td>\n",
       "      <td>560066</td>\n",
       "      <td>0</td>\n",
       "      <td>1</td>\n",
       "      <td>No</td>\n",
       "    </tr>\n",
       "    <tr>\n",
       "      <th>273</th>\n",
       "      <td>24</td>\n",
       "      <td>0</td>\n",
       "      <td>2</td>\n",
       "      <td>3</td>\n",
       "      <td>25000</td>\n",
       "      <td>3</td>\n",
       "      <td>2</td>\n",
       "      <td>12.9561</td>\n",
       "      <td>77.5921</td>\n",
       "      <td>560027</td>\n",
       "      <td>1</td>\n",
       "      <td>1</td>\n",
       "      <td>Yes</td>\n",
       "    </tr>\n",
       "  </tbody>\n",
       "</table>\n",
       "</div>"
      ],
      "text/plain": [
       "     Age  Gender  Marital Status  Occupation  Monthly Income  \\\n",
       "91    26       1               1           2           25000   \n",
       "387   23       1               1           1               0   \n",
       "8     23       0               1           1               0   \n",
       "135   27       0               2           3           50000   \n",
       "273   24       0               2           3           25000   \n",
       "\n",
       "     Educational Qualifications  Family size  latitude  longitude  Pin code  \\\n",
       "91                            4            1   12.9698    77.7500    560066   \n",
       "387                           3            5   12.8988    77.5764    560078   \n",
       "8                             3            2   12.9766    77.5993    560001   \n",
       "135                           3            2   12.9698    77.7500    560066   \n",
       "273                           3            2   12.9561    77.5921    560027   \n",
       "\n",
       "     Output  Feedback Unnamed: 12  \n",
       "91        0         1          No  \n",
       "387       1         1         Yes  \n",
       "8         1         1         Yes  \n",
       "135       0         1          No  \n",
       "273       1         1         Yes  "
      ]
     },
     "execution_count": 59,
     "metadata": {},
     "output_type": "execute_result"
    }
   ],
   "source": [
    "df.sample(5)"
   ]
  },
  {
   "cell_type": "code",
   "execution_count": 37,
   "id": "ea80a215-526d-4d54-b228-c412195f52af",
   "metadata": {},
   "outputs": [
    {
     "name": "stdout",
     "output_type": "stream",
     "text": [
      "<class 'pandas.core.frame.DataFrame'>\n",
      "RangeIndex: 388 entries, 0 to 387\n",
      "Data columns (total 13 columns):\n",
      " #   Column                      Non-Null Count  Dtype  \n",
      "---  ------                      --------------  -----  \n",
      " 0   Age                         388 non-null    int64  \n",
      " 1   Gender                      388 non-null    int32  \n",
      " 2   Marital Status              388 non-null    int64  \n",
      " 3   Occupation                  388 non-null    int64  \n",
      " 4   Monthly Income              388 non-null    int64  \n",
      " 5   Educational Qualifications  388 non-null    int64  \n",
      " 6   Family size                 388 non-null    int64  \n",
      " 7   latitude                    388 non-null    float64\n",
      " 8   longitude                   388 non-null    float64\n",
      " 9   Pin code                    388 non-null    int64  \n",
      " 10  Output                      388 non-null    object \n",
      " 11  Feedback                    388 non-null    int32  \n",
      " 12  Unnamed: 12                 388 non-null    object \n",
      "dtypes: float64(2), int32(2), int64(7), object(2)\n",
      "memory usage: 36.5+ KB\n"
     ]
    }
   ],
   "source": [
    "df.info()"
   ]
  },
  {
   "cell_type": "markdown",
   "id": "1515138c-72c0-484e-bef7-911fce76d929",
   "metadata": {},
   "source": [
    "### Kategorik alanları sayıya dönüştürme\n",
    "Yukarıda hiç bir alanda boş veri olmadığı görülmektedir. Bu nedenle sadece alanları sayıya çevirmek yeterli olacaktır."
   ]
  },
  {
   "cell_type": "code",
   "execution_count": 20,
   "id": "e015d3ae-22e8-435f-b614-7187fdad3ea8",
   "metadata": {},
   "outputs": [
    {
     "data": {
      "text/plain": [
       "Gender\n",
       "Male      222\n",
       "Female    166\n",
       "Name: count, dtype: int64"
      ]
     },
     "execution_count": 20,
     "metadata": {},
     "output_type": "execute_result"
    }
   ],
   "source": [
    "df[\"Gender\"].value_counts()"
   ]
  },
  {
   "cell_type": "code",
   "execution_count": 21,
   "id": "b95685e4-9271-4025-a925-df95d35cdbf8",
   "metadata": {},
   "outputs": [],
   "source": [
    "df[\"Gender\"]=np.where(df[\"Gender\"]==\"Male\", 1,0)"
   ]
  },
  {
   "cell_type": "code",
   "execution_count": 22,
   "id": "698e8192-02ac-42b8-bad8-c23413eeb7ed",
   "metadata": {},
   "outputs": [
    {
     "data": {
      "text/plain": [
       "Marital Status\n",
       "Single               268\n",
       "Married              108\n",
       "Prefer not to say     12\n",
       "Name: count, dtype: int64"
      ]
     },
     "execution_count": 22,
     "metadata": {},
     "output_type": "execute_result"
    }
   ],
   "source": [
    "df[\"Marital Status\"].value_counts()"
   ]
  },
  {
   "cell_type": "code",
   "execution_count": 23,
   "id": "b797ce03-5caf-40c6-8de9-2ad5c4a94458",
   "metadata": {},
   "outputs": [],
   "source": [
    "d={\"Prefer not to say\":0, \"Single\":1, \"Married\":2}\n",
    "df[\"Marital Status\"]=df[\"Marital Status\"].map(d)"
   ]
  },
  {
   "cell_type": "code",
   "execution_count": 24,
   "id": "58b1958d-31c4-447a-b94f-dbbae3e2eb05",
   "metadata": {},
   "outputs": [
    {
     "data": {
      "text/plain": [
       "Occupation\n",
       "Student           207\n",
       "Employee          118\n",
       "Self Employeed     54\n",
       "House wife          9\n",
       "Name: count, dtype: int64"
      ]
     },
     "execution_count": 24,
     "metadata": {},
     "output_type": "execute_result"
    }
   ],
   "source": [
    "df[\"Occupation\"].value_counts()"
   ]
  },
  {
   "cell_type": "code",
   "execution_count": 25,
   "id": "438253e6-084d-4396-ac8d-6e33551f9480",
   "metadata": {},
   "outputs": [],
   "source": [
    "d={\"House wife\":0, \"Student\":1, \"Self Employeed\":2, \"Employee\":3}\n",
    "df[\"Occupation\"]=df[\"Occupation\"].map(d)"
   ]
  },
  {
   "cell_type": "code",
   "execution_count": 29,
   "id": "a184defb-be2d-4fe9-b051-514ce9794403",
   "metadata": {},
   "outputs": [
    {
     "data": {
      "text/plain": [
       "Monthly Income\n",
       "0        187\n",
       "50000     69\n",
       "75000     62\n",
       "25000     45\n",
       "10000     25\n",
       "Name: count, dtype: int64"
      ]
     },
     "execution_count": 29,
     "metadata": {},
     "output_type": "execute_result"
    }
   ],
   "source": [
    "df[\"Monthly Income\"].value_counts()"
   ]
  },
  {
   "cell_type": "code",
   "execution_count": 27,
   "id": "e254f42f-053d-4a31-beb0-fb9319544075",
   "metadata": {},
   "outputs": [],
   "source": [
    "d={\"No Income\":0, \"25001 to 50000\":50000, \"More than 50000\":75000, \"10001 to 25000\":25000, \"Below Rs.10000\":10000}\n",
    "df[\"Monthly Income\"]=df[\"Monthly Income\"].map(d)"
   ]
  },
  {
   "cell_type": "code",
   "execution_count": 30,
   "id": "e69de8b0-d00b-4785-8e8d-5feceafb9164",
   "metadata": {},
   "outputs": [
    {
     "data": {
      "text/plain": [
       "Educational Qualifications\n",
       "Graduate         177\n",
       "Post Graduate    174\n",
       "Ph.D              23\n",
       "School            12\n",
       "Uneducated         2\n",
       "Name: count, dtype: int64"
      ]
     },
     "execution_count": 30,
     "metadata": {},
     "output_type": "execute_result"
    }
   ],
   "source": [
    "df[\"Educational Qualifications\"].value_counts()"
   ]
  },
  {
   "cell_type": "code",
   "execution_count": 31,
   "id": "598718a2-0796-42b6-9e70-e165db28ff4d",
   "metadata": {},
   "outputs": [],
   "source": [
    "d={\"Uneducated\":0,  \"School\":1, \"Graduate\":2, \"Post Graduate\":3, \"Ph.D\":4}\n",
    "df[\"Educational Qualifications\"]=df[\"Educational Qualifications\"].map(d)"
   ]
  },
  {
   "cell_type": "code",
   "execution_count": 34,
   "id": "abc76155-0004-4726-9c6c-ddeb01e0ba96",
   "metadata": {},
   "outputs": [
    {
     "data": {
      "text/plain": [
       "Feedback\n",
       "1    317\n",
       "0     71\n",
       "Name: count, dtype: int64"
      ]
     },
     "execution_count": 34,
     "metadata": {},
     "output_type": "execute_result"
    }
   ],
   "source": [
    "df[\"Feedback\"].value_counts(dropna=False)"
   ]
  },
  {
   "cell_type": "code",
   "execution_count": 33,
   "id": "6bcfbeb2-86da-4d7b-a57e-03ea44ebcc8c",
   "metadata": {},
   "outputs": [],
   "source": [
    "df[\"Feedback\"]=np.where(df[\"Feedback\"]==\"Positive\", 1,0)"
   ]
  },
  {
   "cell_type": "code",
   "execution_count": 39,
   "id": "f57d55be-c532-4577-9a9f-ed142b26f445",
   "metadata": {},
   "outputs": [
    {
     "data": {
      "text/plain": [
       "Output\n",
       "1    301\n",
       "0     87\n",
       "Name: count, dtype: int64"
      ]
     },
     "execution_count": 39,
     "metadata": {},
     "output_type": "execute_result"
    }
   ],
   "source": [
    "df[\"Output\"].value_counts(dropna=False)"
   ]
  },
  {
   "cell_type": "code",
   "execution_count": 38,
   "id": "5c23b973-d534-4bc0-a7c9-67ff5dc73f59",
   "metadata": {},
   "outputs": [],
   "source": [
    "df[\"Output\"]=np.where(df[\"Output\"]==\"Yes\", 1,0)"
   ]
  },
  {
   "cell_type": "code",
   "execution_count": 47,
   "id": "b378ed00-7c69-43c8-ad82-9440df1b2c59",
   "metadata": {},
   "outputs": [
    {
     "data": {
      "image/png": "[encoded data removed]",
      "text/plain": [
       "<Figure size 300x300 with 1 Axes>"
      ]
     },
     "metadata": {},
     "output_type": "display_data"
    }
   ],
   "source": [
    "plt.figure(figsize=(3,3))\n",
    "sns.set_palette('pastel')\n",
    "plt.pie(df[\"Output\"].value_counts(), labels=[\"Hayır\", \"Evet\"], autopct='%1.1f%%', startangle=90)\n",
    "plt.axis('equal')\n",
    "plt.title('Yeniden Sipariş Verme Durum Oranları')\n",
    "plt.show()"
   ]
  },
  {
   "cell_type": "markdown",
   "id": "2b418247-408c-434e-bb16-bb607c60a2fa",
   "metadata": {},
   "source": [
    "Sınıf dağılımında dengesizlik var. Modellemeden önce dengelemek gerekir."
   ]
  },
  {
   "cell_type": "markdown",
   "id": "bd505695-4ebb-4191-8215-422e830d1943",
   "metadata": {},
   "source": [
    "## Modelleme"
   ]
  },
  {
   "cell_type": "code",
   "execution_count": 45,
   "id": "608eaeb1-8196-4c61-9d78-57b1b26b7aa5",
   "metadata": {},
   "outputs": [],
   "source": [
    "from sklearn.naive_bayes import GaussianNB\n",
    "from sklearn.naive_bayes import BernoulliNB\n",
    "from sklearn.linear_model import LogisticRegression\n",
    "from sklearn.tree import DecisionTreeClassifier\n",
    "from sklearn.ensemble import RandomForestClassifier\n",
    "from sklearn.ensemble import GradientBoostingClassifier\n",
    "from sklearn.neighbors import KNeighborsClassifier\n",
    "\n",
    "from sklearn.metrics import accuracy_score, precision_score, recall_score\n",
    "from sklearn.metrics import f1_score, confusion_matrix, classification_report\n",
    "from sklearn.model_selection import train_test_split\n",
    "\n",
    "g = GaussianNB()\n",
    "b = BernoulliNB()\n",
    "l = LogisticRegression()\n",
    "d = DecisionTreeClassifier()\n",
    "r = RandomForestClassifier()\n",
    "gb= GradientBoostingClassifier()\n",
    "kn= KNeighborsClassifier()\n",
    "\n",
    "def algo_test(x, y):\n",
    "    modeller=[g, b, l, d, r, gb, kn]\n",
    "    isimler=[\"GaussianNB\", \"BernoulliNB\", \"LogisticRegression\", \"DecisionTreeClassifier\", \n",
    "             \"RandomForestClassifier\", \"GradientBoostingClassifier\", \"KNeighborsClassifier\"]\n",
    "\n",
    "    x_train, x_test, y_train, y_test = train_test_split(x, y, test_size=.3, random_state = 42)\n",
    "    \n",
    "    accuracy = []\n",
    "    precision = []\n",
    "    recall = []\n",
    "    f1 = []\n",
    "    mdl=[]\n",
    "\n",
    "    print(\"Veriler hazır modeller deneniyor\")\n",
    "    for model in modeller:\n",
    "        print(model, \" modeli eğitiliyor!..\")\n",
    "        model=model.fit(x_train,y_train)\n",
    "        tahmin=model.predict(np.array(x_test) if model==kn else x_test)\n",
    "        mdl.append(model)\n",
    "        accuracy.append(accuracy_score(y_test, tahmin))\n",
    "        precision.append(precision_score(y_test, tahmin, average=\"micro\"))\n",
    "        recall.append(recall_score(y_test, tahmin, average=\"micro\"))\n",
    "        f1.append(f1_score(y_test, tahmin, average=\"micro\"))\n",
    "        print(confusion_matrix(y_test, tahmin))\n",
    "\n",
    "    print(\"Eğitim tamamlandı.\")\n",
    "    \n",
    "    metrics=pd.DataFrame(columns=[\"Accuracy\", \"Precision\", \"Recall\", \"F1\", \"Model\"], index=isimler)\n",
    "    metrics[\"Accuracy\"] = accuracy\n",
    "    metrics[\"Precision\"] = precision  \n",
    "    metrics[\"Recall\"] = recall\n",
    "    metrics[\"F1\"] = f1\n",
    "    metrics[\"Model\"]=mdl\n",
    "\n",
    "    metrics.sort_values(\"F1\", ascending=False, inplace=True)\n",
    "\n",
    "    print(\"En başarılı model: \", metrics.iloc[0].name)\n",
    "    model=metrics.iloc[0,-1]\n",
    "    tahmin=model.predict(np.array(x_test) if model==kn else x_test)\n",
    "    print(\"Confusion Matrix:\")\n",
    "    print(confusion_matrix(y_test, tahmin))\n",
    "    print(\"classification Report:\")\n",
    "    print(classification_report(y_test, tahmin))\n",
    "    print(\"Diğer Modeller:\")\n",
    "    \n",
    "    return metrics.drop(\"Model\", axis=1)"
   ]
  },
  {
   "cell_type": "code",
   "execution_count": 40,
   "id": "4ee2458b-dafc-462d-8d08-3c2b280a0378",
   "metadata": {},
   "outputs": [
    {
     "name": "stdout",
     "output_type": "stream",
     "text": [
      "<class 'pandas.core.frame.DataFrame'>\n",
      "RangeIndex: 388 entries, 0 to 387\n",
      "Data columns (total 13 columns):\n",
      " #   Column                      Non-Null Count  Dtype  \n",
      "---  ------                      --------------  -----  \n",
      " 0   Age                         388 non-null    int64  \n",
      " 1   Gender                      388 non-null    int32  \n",
      " 2   Marital Status              388 non-null    int64  \n",
      " 3   Occupation                  388 non-null    int64  \n",
      " 4   Monthly Income              388 non-null    int64  \n",
      " 5   Educational Qualifications  388 non-null    int64  \n",
      " 6   Family size                 388 non-null    int64  \n",
      " 7   latitude                    388 non-null    float64\n",
      " 8   longitude                   388 non-null    float64\n",
      " 9   Pin code                    388 non-null    int64  \n",
      " 10  Output                      388 non-null    int32  \n",
      " 11  Feedback                    388 non-null    int32  \n",
      " 12  Unnamed: 12                 388 non-null    object \n",
      "dtypes: float64(2), int32(3), int64(7), object(1)\n",
      "memory usage: 35.0+ KB\n"
     ]
    }
   ],
   "source": [
    "df.info()"
   ]
  },
  {
   "cell_type": "code",
   "execution_count": 36,
   "id": "2c614bc1-bc8d-4323-9cf3-6fa3c975a4d5",
   "metadata": {},
   "outputs": [
    {
     "data": {
      "text/plain": [
       "Index(['Age', 'Gender', 'Marital Status', 'Occupation', 'Monthly Income',\n",
       "       'Educational Qualifications', 'Family size', 'latitude', 'longitude',\n",
       "       'Pin code', 'Output', 'Feedback', 'Unnamed: 12'],\n",
       "      dtype='object')"
      ]
     },
     "execution_count": 36,
     "metadata": {},
     "output_type": "execute_result"
    }
   ],
   "source": [
    "df.columns"
   ]
  },
  {
   "cell_type": "code",
   "execution_count": 41,
   "id": "28e24280-f8f6-4506-a374-e9f3cac7f892",
   "metadata": {},
   "outputs": [],
   "source": [
    "x=df.drop([\"latitude\", \"longitude\", \"Unnamed: 12\", \"Output\"], axis=1)\n",
    "y=df[[\"Output\"]]"
   ]
  },
  {
   "cell_type": "code",
   "execution_count": 50,
   "id": "dc893d0d-7b5e-457d-aaea-f420ab26e1c5",
   "metadata": {},
   "outputs": [],
   "source": [
    "# Verilerdeki dengesizliği giderelim\n",
    "from imblearn.over_sampling import SMOTE\n",
    "\n",
    "oversample = SMOTE(random_state=42)\n",
    "x, y = oversample.fit_resample(x, y)"
   ]
  },
  {
   "cell_type": "code",
   "execution_count": 51,
   "id": "90494232-58de-4376-b354-f0bb80bc91d0",
   "metadata": {},
   "outputs": [
    {
     "name": "stdout",
     "output_type": "stream",
     "text": [
      "<class 'pandas.core.frame.DataFrame'>\n",
      "RangeIndex: 602 entries, 0 to 601\n",
      "Data columns (total 9 columns):\n",
      " #   Column                      Non-Null Count  Dtype\n",
      "---  ------                      --------------  -----\n",
      " 0   Age                         602 non-null    int64\n",
      " 1   Gender                      602 non-null    int32\n",
      " 2   Marital Status              602 non-null    int64\n",
      " 3   Occupation                  602 non-null    int64\n",
      " 4   Monthly Income              602 non-null    int64\n",
      " 5   Educational Qualifications  602 non-null    int64\n",
      " 6   Family size                 602 non-null    int64\n",
      " 7   Pin code                    602 non-null    int64\n",
      " 8   Feedback                    602 non-null    int32\n",
      "dtypes: int32(2), int64(7)\n",
      "memory usage: 37.8 KB\n"
     ]
    }
   ],
   "source": [
    "x.info()"
   ]
  },
  {
   "cell_type": "code",
   "execution_count": 57,
   "id": "c6222a1d-f8b5-4a8b-bd10-71a1c6e782d0",
   "metadata": {},
   "outputs": [
    {
     "data": {
      "text/html": [
       "<div>\n",
       "<style scoped>\n",
       "    .dataframe tbody tr th:only-of-type {\n",
       "        vertical-align: middle;\n",
       "    }\n",
       "\n",
       "    .dataframe tbody tr th {\n",
       "        vertical-align: top;\n",
       "    }\n",
       "\n",
       "    .dataframe thead th {\n",
       "        text-align: right;\n",
       "    }\n",
       "</style>\n",
       "<table border=\"1\" class=\"dataframe\">\n",
       "  <thead>\n",
       "    <tr style=\"text-align: right;\">\n",
       "      <th></th>\n",
       "      <th>Age</th>\n",
       "      <th>Gender</th>\n",
       "      <th>Marital Status</th>\n",
       "      <th>Occupation</th>\n",
       "      <th>Monthly Income</th>\n",
       "      <th>Educational Qualifications</th>\n",
       "      <th>Family size</th>\n",
       "      <th>Pin code</th>\n",
       "      <th>Feedback</th>\n",
       "    </tr>\n",
       "  </thead>\n",
       "  <tbody>\n",
       "    <tr>\n",
       "      <th>count</th>\n",
       "      <td>602.000000</td>\n",
       "      <td>602.000000</td>\n",
       "      <td>602.000000</td>\n",
       "      <td>602.000000</td>\n",
       "      <td>602.000000</td>\n",
       "      <td>602.000000</td>\n",
       "      <td>602.000000</td>\n",
       "      <td>602.000000</td>\n",
       "      <td>602.000000</td>\n",
       "    </tr>\n",
       "    <tr>\n",
       "      <th>mean</th>\n",
       "      <td>25.014950</td>\n",
       "      <td>0.486711</td>\n",
       "      <td>1.259136</td>\n",
       "      <td>1.843854</td>\n",
       "      <td>28073.089701</td>\n",
       "      <td>2.408638</td>\n",
       "      <td>3.209302</td>\n",
       "      <td>560041.244186</td>\n",
       "      <td>0.569767</td>\n",
       "    </tr>\n",
       "    <tr>\n",
       "      <th>std</th>\n",
       "      <td>2.935486</td>\n",
       "      <td>0.500239</td>\n",
       "      <td>0.528040</td>\n",
       "      <td>0.902319</td>\n",
       "      <td>28467.945720</td>\n",
       "      <td>0.646860</td>\n",
       "      <td>1.337808</td>\n",
       "      <td>31.073289</td>\n",
       "      <td>0.495520</td>\n",
       "    </tr>\n",
       "    <tr>\n",
       "      <th>min</th>\n",
       "      <td>18.000000</td>\n",
       "      <td>0.000000</td>\n",
       "      <td>0.000000</td>\n",
       "      <td>0.000000</td>\n",
       "      <td>0.000000</td>\n",
       "      <td>0.000000</td>\n",
       "      <td>1.000000</td>\n",
       "      <td>560001.000000</td>\n",
       "      <td>0.000000</td>\n",
       "    </tr>\n",
       "    <tr>\n",
       "      <th>25%</th>\n",
       "      <td>23.000000</td>\n",
       "      <td>0.000000</td>\n",
       "      <td>1.000000</td>\n",
       "      <td>1.000000</td>\n",
       "      <td>0.000000</td>\n",
       "      <td>2.000000</td>\n",
       "      <td>2.000000</td>\n",
       "      <td>560013.000000</td>\n",
       "      <td>0.000000</td>\n",
       "    </tr>\n",
       "    <tr>\n",
       "      <th>50%</th>\n",
       "      <td>25.000000</td>\n",
       "      <td>0.000000</td>\n",
       "      <td>1.000000</td>\n",
       "      <td>2.000000</td>\n",
       "      <td>25000.000000</td>\n",
       "      <td>2.000000</td>\n",
       "      <td>3.000000</td>\n",
       "      <td>560035.000000</td>\n",
       "      <td>1.000000</td>\n",
       "    </tr>\n",
       "    <tr>\n",
       "      <th>75%</th>\n",
       "      <td>27.000000</td>\n",
       "      <td>1.000000</td>\n",
       "      <td>2.000000</td>\n",
       "      <td>3.000000</td>\n",
       "      <td>50000.000000</td>\n",
       "      <td>3.000000</td>\n",
       "      <td>4.000000</td>\n",
       "      <td>560068.000000</td>\n",
       "      <td>1.000000</td>\n",
       "    </tr>\n",
       "    <tr>\n",
       "      <th>max</th>\n",
       "      <td>33.000000</td>\n",
       "      <td>1.000000</td>\n",
       "      <td>2.000000</td>\n",
       "      <td>3.000000</td>\n",
       "      <td>75000.000000</td>\n",
       "      <td>4.000000</td>\n",
       "      <td>6.000000</td>\n",
       "      <td>560109.000000</td>\n",
       "      <td>1.000000</td>\n",
       "    </tr>\n",
       "  </tbody>\n",
       "</table>\n",
       "</div>"
      ],
      "text/plain": [
       "              Age      Gender  Marital Status  Occupation  Monthly Income  \\\n",
       "count  602.000000  602.000000      602.000000  602.000000      602.000000   \n",
       "mean    25.014950    0.486711        1.259136    1.843854    28073.089701   \n",
       "std      2.935486    0.500239        0.528040    0.902319    28467.945720   \n",
       "min     18.000000    0.000000        0.000000    0.000000        0.000000   \n",
       "25%     23.000000    0.000000        1.000000    1.000000        0.000000   \n",
       "50%     25.000000    0.000000        1.000000    2.000000    25000.000000   \n",
       "75%     27.000000    1.000000        2.000000    3.000000    50000.000000   \n",
       "max     33.000000    1.000000        2.000000    3.000000    75000.000000   \n",
       "\n",
       "       Educational Qualifications  Family size       Pin code    Feedback  \n",
       "count                  602.000000   602.000000     602.000000  602.000000  \n",
       "mean                     2.408638     3.209302  560041.244186    0.569767  \n",
       "std                      0.646860     1.337808      31.073289    0.495520  \n",
       "min                      0.000000     1.000000  560001.000000    0.000000  \n",
       "25%                      2.000000     2.000000  560013.000000    0.000000  \n",
       "50%                      2.000000     3.000000  560035.000000    1.000000  \n",
       "75%                      3.000000     4.000000  560068.000000    1.000000  \n",
       "max                      4.000000     6.000000  560109.000000    1.000000  "
      ]
     },
     "execution_count": 57,
     "metadata": {},
     "output_type": "execute_result"
    }
   ],
   "source": [
    "x.describe()"
   ]
  },
  {
   "cell_type": "code",
   "execution_count": 52,
   "id": "809df19b-0c22-48e1-85e2-5326944c95ee",
   "metadata": {},
   "outputs": [
    {
     "data": {
      "text/plain": [
       "((602, 9), (602, 1))"
      ]
     },
     "execution_count": 52,
     "metadata": {},
     "output_type": "execute_result"
    }
   ],
   "source": [
    "x.shape, y.shape"
   ]
  },
  {
   "cell_type": "code",
   "execution_count": 53,
   "id": "ae82e1f6-b9ae-4aff-9708-121192df43d0",
   "metadata": {},
   "outputs": [
    {
     "name": "stdout",
     "output_type": "stream",
     "text": [
      "Veriler hazır modeller deneniyor\n",
      "GaussianNB()  modeli eğitiliyor!..\n",
      "[[62 31]\n",
      " [18 70]]\n",
      "BernoulliNB()  modeli eğitiliyor!..\n",
      "[[78 15]\n",
      " [ 7 81]]\n",
      "LogisticRegression()  modeli eğitiliyor!..\n",
      "[[75 18]\n",
      " [ 7 81]]\n",
      "DecisionTreeClassifier()  modeli eğitiliyor!..\n",
      "[[77 16]\n",
      " [10 78]]\n",
      "RandomForestClassifier()  modeli eğitiliyor!..\n",
      "[[82 11]\n",
      " [11 77]]\n",
      "GradientBoostingClassifier()  modeli eğitiliyor!..\n",
      "[[80 13]\n",
      " [ 8 80]]\n",
      "KNeighborsClassifier()  modeli eğitiliyor!..\n",
      "[[71 22]\n",
      " [21 67]]\n",
      "Eğitim tamamlandı.\n",
      "En başarılı model:  GradientBoostingClassifier\n",
      "Confusion Matrix:\n",
      "[[80 13]\n",
      " [ 8 80]]\n",
      "classification Report:\n",
      "              precision    recall  f1-score   support\n",
      "\n",
      "           0       0.91      0.86      0.88        93\n",
      "           1       0.86      0.91      0.88        88\n",
      "\n",
      "    accuracy                           0.88       181\n",
      "   macro avg       0.88      0.88      0.88       181\n",
      "weighted avg       0.89      0.88      0.88       181\n",
      "\n",
      "Diğer Modeller:\n"
     ]
    },
    {
     "data": {
      "text/html": [
       "<div>\n",
       "<style scoped>\n",
       "    .dataframe tbody tr th:only-of-type {\n",
       "        vertical-align: middle;\n",
       "    }\n",
       "\n",
       "    .dataframe tbody tr th {\n",
       "        vertical-align: top;\n",
       "    }\n",
       "\n",
       "    .dataframe thead th {\n",
       "        text-align: right;\n",
       "    }\n",
       "</style>\n",
       "<table border=\"1\" class=\"dataframe\">\n",
       "  <thead>\n",
       "    <tr style=\"text-align: right;\">\n",
       "      <th></th>\n",
       "      <th>Accuracy</th>\n",
       "      <th>Precision</th>\n",
       "      <th>Recall</th>\n",
       "      <th>F1</th>\n",
       "    </tr>\n",
       "  </thead>\n",
       "  <tbody>\n",
       "    <tr>\n",
       "      <th>GradientBoostingClassifier</th>\n",
       "      <td>0.883978</td>\n",
       "      <td>0.883978</td>\n",
       "      <td>0.883978</td>\n",
       "      <td>0.883978</td>\n",
       "    </tr>\n",
       "    <tr>\n",
       "      <th>BernoulliNB</th>\n",
       "      <td>0.878453</td>\n",
       "      <td>0.878453</td>\n",
       "      <td>0.878453</td>\n",
       "      <td>0.878453</td>\n",
       "    </tr>\n",
       "    <tr>\n",
       "      <th>RandomForestClassifier</th>\n",
       "      <td>0.878453</td>\n",
       "      <td>0.878453</td>\n",
       "      <td>0.878453</td>\n",
       "      <td>0.878453</td>\n",
       "    </tr>\n",
       "    <tr>\n",
       "      <th>LogisticRegression</th>\n",
       "      <td>0.861878</td>\n",
       "      <td>0.861878</td>\n",
       "      <td>0.861878</td>\n",
       "      <td>0.861878</td>\n",
       "    </tr>\n",
       "    <tr>\n",
       "      <th>DecisionTreeClassifier</th>\n",
       "      <td>0.856354</td>\n",
       "      <td>0.856354</td>\n",
       "      <td>0.856354</td>\n",
       "      <td>0.856354</td>\n",
       "    </tr>\n",
       "    <tr>\n",
       "      <th>KNeighborsClassifier</th>\n",
       "      <td>0.762431</td>\n",
       "      <td>0.762431</td>\n",
       "      <td>0.762431</td>\n",
       "      <td>0.762431</td>\n",
       "    </tr>\n",
       "    <tr>\n",
       "      <th>GaussianNB</th>\n",
       "      <td>0.729282</td>\n",
       "      <td>0.729282</td>\n",
       "      <td>0.729282</td>\n",
       "      <td>0.729282</td>\n",
       "    </tr>\n",
       "  </tbody>\n",
       "</table>\n",
       "</div>"
      ],
      "text/plain": [
       "                            Accuracy  Precision    Recall        F1\n",
       "GradientBoostingClassifier  0.883978   0.883978  0.883978  0.883978\n",
       "BernoulliNB                 0.878453   0.878453  0.878453  0.878453\n",
       "RandomForestClassifier      0.878453   0.878453  0.878453  0.878453\n",
       "LogisticRegression          0.861878   0.861878  0.861878  0.861878\n",
       "DecisionTreeClassifier      0.856354   0.856354  0.856354  0.856354\n",
       "KNeighborsClassifier        0.762431   0.762431  0.762431  0.762431\n",
       "GaussianNB                  0.729282   0.729282  0.729282  0.729282"
      ]
     },
     "execution_count": 53,
     "metadata": {},
     "output_type": "execute_result"
    }
   ],
   "source": [
    "algo_test(x,y)"
   ]
  },
  {
   "cell_type": "markdown",
   "id": "1a9b7ad0-68ea-4791-92b0-f1a99ac61cbf",
   "metadata": {},
   "source": [
    "# Sonuç\n",
    "Müşteri bilgileri kullanılarak bir sonraki siparişi verip vermeyeceğini tahmin eden model geliştirildi. Sipariş veren ve vermeyen müşteri sayılarında dengesizlik olduğu için Over Sampling metodu ile denge sağlandı. Denenen sınıflandırma modelleri başarısı %73 ila %88 arasında değişmektedir. İçerisinde en yüksek başarı <b>GradientBoostingClassifier</b> modeli ile %88.3 oranında sağlandı.<br><br>\n",
    "En başarılı model kaydedip Streamlit uygulamasında kullanalım."
   ]
  },
  {
   "cell_type": "code",
   "execution_count": 54,
   "id": "0cc046ff-2bb2-4c81-9ad5-890c725edbef",
   "metadata": {},
   "outputs": [],
   "source": [
    "gbc=GradientBoostingClassifier()"
   ]
  },
  {
   "cell_type": "code",
   "execution_count": 55,
   "id": "5f6a5914-33ee-46c1-a42a-b83f45be3c3f",
   "metadata": {},
   "outputs": [],
   "source": [
    "model=gbc.fit(x,y)"
   ]
  },
  {
   "cell_type": "code",
   "execution_count": 56,
   "id": "e9021a93-b683-4573-b9a1-595c129ce1ae",
   "metadata": {},
   "outputs": [],
   "source": [
    "import pickle\n",
    "pickle.dump(model, open('order_model.pkl', 'wb'))"
   ]
  },
  {
   "cell_type": "markdown",
   "id": "da1f8af5-5bf0-4de9-a865-ca1c27394e2f",
   "metadata": {},
   "source": [
    "Bu projede oluşturulan uygulamaya <a href=\"https://huggingface.co/spaces/abdullatifkaban/Order_Classifier\" target=_blank>\n",
    "<u>Hugging Face</u></a> üzerinden ulaşılabilir."
   ]
  }
 ],
 "metadata": {
  "kernelspec": {
   "display_name": "Python 3 (ipykernel)",
   "language": "python",
   "name": "python3"
  },
  "language_info": {
   "codemirror_mode": {
    "name": "ipython",
    "version": 3
   },
   "file_extension": ".py",
   "mimetype": "text/x-python",
   "name": "python",
   "nbconvert_exporter": "python",
   "pygments_lexer": "ipython3",
   "version": "3.9.19"
  }
 },
 "nbformat": 4,
 "nbformat_minor": 5
}
