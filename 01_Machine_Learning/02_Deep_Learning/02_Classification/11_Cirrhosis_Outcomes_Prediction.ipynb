{
 "cells": [
  {
   "cell_type": "code",
   "execution_count": 24,
   "metadata": {
    "_cell_guid": "b1076dfc-b9ad-4769-8c92-a6c4dae69d19",
    "_uuid": "8f2839f25d086af736a60e9eeb907d3b93b6e0e5",
    "execution": {
     "iopub.execute_input": "2024-06-04T12:10:57.553546Z",
     "iopub.status.busy": "2024-06-04T12:10:57.552816Z",
     "iopub.status.idle": "2024-06-04T12:10:57.563231Z",
     "shell.execute_reply": "2024-06-04T12:10:57.561996Z",
     "shell.execute_reply.started": "2024-06-04T12:10:57.553511Z"
    },
    "trusted": true
   },
   "outputs": [
    {
     "name": "stdout",
     "output_type": "stream",
     "text": [
      "/kaggle/input/playground-series-s3e26/sample_submission.csv\n",
      "/kaggle/input/playground-series-s3e26/train.csv\n",
      "/kaggle/input/playground-series-s3e26/test.csv\n"
     ]
    }
   ],
   "source": [
    "# This Python 3 environment comes with many helpful analytics libraries installed\n",
    "# It is defined by the kaggle/python Docker image: https://github.com/kaggle/docker-python\n",
    "# For example, here's several helpful packages to load\n",
    "\n",
    "import numpy as np # linear algebra\n",
    "import pandas as pd # data processing, CSV file I/O (e.g. pd.read_csv)\n",
    "\n",
    "# Input data files are available in the read-only \"../input/\" directory\n",
    "# For example, running this (by clicking run or pressing Shift+Enter) will list all files under the input directory\n",
    "\n",
    "import os\n",
    "for dirname, _, filenames in os.walk('/kaggle/input'):\n",
    "    for filename in filenames:\n",
    "        print(os.path.join(dirname, filename))\n",
    "\n",
    "# You can write up to 20GB to the current directory (/kaggle/working/) that gets preserved as output when you create a version using \"Save & Run All\" \n",
    "# You can also write temporary files to /kaggle/temp/, but they won't be saved outside of the current session"
   ]
  },
  {
   "cell_type": "markdown",
   "metadata": {},
   "source": [
    "# Multi-Class Prediction of Cirrhosis Outcomes\n",
    "Bu projede sirozlu hastaların bazı değerlerini tahmin etmek için çok sınıflı bir model geliştirilmektedir.<br><br>\n",
    "<img src=\"https://encrypted-tbn0.gstatic.com/images?q=tbn:ANd9GcTWbjgG5snU-nw7o-CleB2I3ABifduJxZgHzL7VZHNTNHW-q2gZpH-7wyaX3qMbl3iPoyU&usqp=CAU\">\n",
    "\n",
    "Projede kullanılan veriler [buradan](https://www.kaggle.com/competitions/playground-series-s3e26/data) temin edilmiştir."
   ]
  },
  {
   "cell_type": "code",
   "execution_count": 25,
   "metadata": {
    "execution": {
     "iopub.execute_input": "2024-06-04T12:10:57.565772Z",
     "iopub.status.busy": "2024-06-04T12:10:57.565397Z",
     "iopub.status.idle": "2024-06-04T12:10:57.633060Z",
     "shell.execute_reply": "2024-06-04T12:10:57.632078Z",
     "shell.execute_reply.started": "2024-06-04T12:10:57.565740Z"
    },
    "trusted": true
   },
   "outputs": [
    {
     "data": {
      "text/html": [
       "<div>\n",
       "<style scoped>\n",
       "    .dataframe tbody tr th:only-of-type {\n",
       "        vertical-align: middle;\n",
       "    }\n",
       "\n",
       "    .dataframe tbody tr th {\n",
       "        vertical-align: top;\n",
       "    }\n",
       "\n",
       "    .dataframe thead th {\n",
       "        text-align: right;\n",
       "    }\n",
       "</style>\n",
       "<table border=\"1\" class=\"dataframe\">\n",
       "  <thead>\n",
       "    <tr style=\"text-align: right;\">\n",
       "      <th></th>\n",
       "      <th>id</th>\n",
       "      <th>N_Days</th>\n",
       "      <th>Drug</th>\n",
       "      <th>Age</th>\n",
       "      <th>Sex</th>\n",
       "      <th>Ascites</th>\n",
       "      <th>Hepatomegaly</th>\n",
       "      <th>Spiders</th>\n",
       "      <th>Edema</th>\n",
       "      <th>Bilirubin</th>\n",
       "      <th>Cholesterol</th>\n",
       "      <th>Albumin</th>\n",
       "      <th>Copper</th>\n",
       "      <th>Alk_Phos</th>\n",
       "      <th>SGOT</th>\n",
       "      <th>Tryglicerides</th>\n",
       "      <th>Platelets</th>\n",
       "      <th>Prothrombin</th>\n",
       "      <th>Stage</th>\n",
       "      <th>Status</th>\n",
       "    </tr>\n",
       "  </thead>\n",
       "  <tbody>\n",
       "    <tr>\n",
       "      <th>0</th>\n",
       "      <td>0</td>\n",
       "      <td>999</td>\n",
       "      <td>D-penicillamine</td>\n",
       "      <td>21532</td>\n",
       "      <td>M</td>\n",
       "      <td>N</td>\n",
       "      <td>N</td>\n",
       "      <td>N</td>\n",
       "      <td>N</td>\n",
       "      <td>2.3</td>\n",
       "      <td>316.0</td>\n",
       "      <td>3.35</td>\n",
       "      <td>172.0</td>\n",
       "      <td>1601.0</td>\n",
       "      <td>179.80</td>\n",
       "      <td>63.0</td>\n",
       "      <td>394.0</td>\n",
       "      <td>9.7</td>\n",
       "      <td>3.0</td>\n",
       "      <td>D</td>\n",
       "    </tr>\n",
       "    <tr>\n",
       "      <th>1</th>\n",
       "      <td>1</td>\n",
       "      <td>2574</td>\n",
       "      <td>Placebo</td>\n",
       "      <td>19237</td>\n",
       "      <td>F</td>\n",
       "      <td>N</td>\n",
       "      <td>N</td>\n",
       "      <td>N</td>\n",
       "      <td>N</td>\n",
       "      <td>0.9</td>\n",
       "      <td>364.0</td>\n",
       "      <td>3.54</td>\n",
       "      <td>63.0</td>\n",
       "      <td>1440.0</td>\n",
       "      <td>134.85</td>\n",
       "      <td>88.0</td>\n",
       "      <td>361.0</td>\n",
       "      <td>11.0</td>\n",
       "      <td>3.0</td>\n",
       "      <td>C</td>\n",
       "    </tr>\n",
       "    <tr>\n",
       "      <th>2</th>\n",
       "      <td>2</td>\n",
       "      <td>3428</td>\n",
       "      <td>Placebo</td>\n",
       "      <td>13727</td>\n",
       "      <td>F</td>\n",
       "      <td>N</td>\n",
       "      <td>Y</td>\n",
       "      <td>Y</td>\n",
       "      <td>Y</td>\n",
       "      <td>3.3</td>\n",
       "      <td>299.0</td>\n",
       "      <td>3.55</td>\n",
       "      <td>131.0</td>\n",
       "      <td>1029.0</td>\n",
       "      <td>119.35</td>\n",
       "      <td>50.0</td>\n",
       "      <td>199.0</td>\n",
       "      <td>11.7</td>\n",
       "      <td>4.0</td>\n",
       "      <td>D</td>\n",
       "    </tr>\n",
       "    <tr>\n",
       "      <th>3</th>\n",
       "      <td>3</td>\n",
       "      <td>2576</td>\n",
       "      <td>Placebo</td>\n",
       "      <td>18460</td>\n",
       "      <td>F</td>\n",
       "      <td>N</td>\n",
       "      <td>N</td>\n",
       "      <td>N</td>\n",
       "      <td>N</td>\n",
       "      <td>0.6</td>\n",
       "      <td>256.0</td>\n",
       "      <td>3.50</td>\n",
       "      <td>58.0</td>\n",
       "      <td>1653.0</td>\n",
       "      <td>71.30</td>\n",
       "      <td>96.0</td>\n",
       "      <td>269.0</td>\n",
       "      <td>10.7</td>\n",
       "      <td>3.0</td>\n",
       "      <td>C</td>\n",
       "    </tr>\n",
       "    <tr>\n",
       "      <th>4</th>\n",
       "      <td>4</td>\n",
       "      <td>788</td>\n",
       "      <td>Placebo</td>\n",
       "      <td>16658</td>\n",
       "      <td>F</td>\n",
       "      <td>N</td>\n",
       "      <td>Y</td>\n",
       "      <td>N</td>\n",
       "      <td>N</td>\n",
       "      <td>1.1</td>\n",
       "      <td>346.0</td>\n",
       "      <td>3.65</td>\n",
       "      <td>63.0</td>\n",
       "      <td>1181.0</td>\n",
       "      <td>125.55</td>\n",
       "      <td>96.0</td>\n",
       "      <td>298.0</td>\n",
       "      <td>10.6</td>\n",
       "      <td>4.0</td>\n",
       "      <td>C</td>\n",
       "    </tr>\n",
       "  </tbody>\n",
       "</table>\n",
       "</div>"
      ],
      "text/plain": [
       "   id  N_Days             Drug    Age Sex Ascites Hepatomegaly Spiders Edema  \\\n",
       "0   0     999  D-penicillamine  21532   M       N            N       N     N   \n",
       "1   1    2574          Placebo  19237   F       N            N       N     N   \n",
       "2   2    3428          Placebo  13727   F       N            Y       Y     Y   \n",
       "3   3    2576          Placebo  18460   F       N            N       N     N   \n",
       "4   4     788          Placebo  16658   F       N            Y       N     N   \n",
       "\n",
       "   Bilirubin  Cholesterol  Albumin  Copper  Alk_Phos    SGOT  Tryglicerides  \\\n",
       "0        2.3        316.0     3.35   172.0    1601.0  179.80           63.0   \n",
       "1        0.9        364.0     3.54    63.0    1440.0  134.85           88.0   \n",
       "2        3.3        299.0     3.55   131.0    1029.0  119.35           50.0   \n",
       "3        0.6        256.0     3.50    58.0    1653.0   71.30           96.0   \n",
       "4        1.1        346.0     3.65    63.0    1181.0  125.55           96.0   \n",
       "\n",
       "   Platelets  Prothrombin  Stage Status  \n",
       "0      394.0          9.7    3.0      D  \n",
       "1      361.0         11.0    3.0      C  \n",
       "2      199.0         11.7    4.0      D  \n",
       "3      269.0         10.7    3.0      C  \n",
       "4      298.0         10.6    4.0      C  "
      ]
     },
     "execution_count": 25,
     "metadata": {},
     "output_type": "execute_result"
    }
   ],
   "source": [
    "import seaborn as sns\n",
    "import matplotlib.pyplot as plt\n",
    "\n",
    "train=pd.read_csv(\"/kaggle/input/playground-series-s3e26/train.csv\")\n",
    "test=pd.read_csv(\"/kaggle/input/playground-series-s3e26/test.csv\")\n",
    "\n",
    "df=pd.concat([train, test], axis=0)\n",
    "\n",
    "df.head()"
   ]
  },
  {
   "cell_type": "code",
   "execution_count": 26,
   "metadata": {
    "execution": {
     "iopub.execute_input": "2024-06-04T12:10:57.634307Z",
     "iopub.status.busy": "2024-06-04T12:10:57.634057Z",
     "iopub.status.idle": "2024-06-04T12:10:57.639942Z",
     "shell.execute_reply": "2024-06-04T12:10:57.639122Z",
     "shell.execute_reply.started": "2024-06-04T12:10:57.634286Z"
    },
    "trusted": true
   },
   "outputs": [
    {
     "data": {
      "text/plain": [
       "((7905, 20), (5271, 19))"
      ]
     },
     "execution_count": 26,
     "metadata": {},
     "output_type": "execute_result"
    }
   ],
   "source": [
    "train.shape, test.shape"
   ]
  },
  {
   "cell_type": "code",
   "execution_count": 27,
   "metadata": {
    "execution": {
     "iopub.execute_input": "2024-06-04T12:10:57.641203Z",
     "iopub.status.busy": "2024-06-04T12:10:57.640933Z",
     "iopub.status.idle": "2024-06-04T12:10:57.672278Z",
     "shell.execute_reply": "2024-06-04T12:10:57.671263Z",
     "shell.execute_reply.started": "2024-06-04T12:10:57.641181Z"
    },
    "trusted": true
   },
   "outputs": [
    {
     "name": "stdout",
     "output_type": "stream",
     "text": [
      "<class 'pandas.core.frame.DataFrame'>\n",
      "Index: 13176 entries, 0 to 5270\n",
      "Data columns (total 20 columns):\n",
      " #   Column         Non-Null Count  Dtype  \n",
      "---  ------         --------------  -----  \n",
      " 0   id             13176 non-null  int64  \n",
      " 1   N_Days         13176 non-null  int64  \n",
      " 2   Drug           13176 non-null  object \n",
      " 3   Age            13176 non-null  int64  \n",
      " 4   Sex            13176 non-null  object \n",
      " 5   Ascites        13176 non-null  object \n",
      " 6   Hepatomegaly   13176 non-null  object \n",
      " 7   Spiders        13176 non-null  object \n",
      " 8   Edema          13176 non-null  object \n",
      " 9   Bilirubin      13176 non-null  float64\n",
      " 10  Cholesterol    13176 non-null  float64\n",
      " 11  Albumin        13176 non-null  float64\n",
      " 12  Copper         13176 non-null  float64\n",
      " 13  Alk_Phos       13176 non-null  float64\n",
      " 14  SGOT           13176 non-null  float64\n",
      " 15  Tryglicerides  13176 non-null  float64\n",
      " 16  Platelets      13176 non-null  float64\n",
      " 17  Prothrombin    13176 non-null  float64\n",
      " 18  Stage          13176 non-null  float64\n",
      " 19  Status         7905 non-null   object \n",
      "dtypes: float64(10), int64(3), object(7)\n",
      "memory usage: 2.1+ MB\n"
     ]
    }
   ],
   "source": [
    "df.info()"
   ]
  },
  {
   "cell_type": "code",
   "execution_count": 28,
   "metadata": {
    "execution": {
     "iopub.execute_input": "2024-06-04T12:10:57.676207Z",
     "iopub.status.busy": "2024-06-04T12:10:57.675574Z",
     "iopub.status.idle": "2024-06-04T12:10:57.904600Z",
     "shell.execute_reply": "2024-06-04T12:10:57.903767Z",
     "shell.execute_reply.started": "2024-06-04T12:10:57.676180Z"
    },
    "trusted": true
   },
   "outputs": [
    {
     "data": {
      "text/plain": [
       "<Axes: xlabel='Drug', ylabel='count'>"
      ]
     },
     "execution_count": 28,
     "metadata": {},
     "output_type": "execute_result"
    },
    {
     "data": {
      "image/png": "[encoded data removed]",
      "text/plain": [
       "<Figure size 640x480 with 1 Axes>"
      ]
     },
     "metadata": {},
     "output_type": "display_data"
    }
   ],
   "source": [
    "sns.countplot(x=df[\"Drug\"])"
   ]
  },
  {
   "cell_type": "code",
   "execution_count": 29,
   "metadata": {
    "execution": {
     "iopub.execute_input": "2024-06-04T12:10:57.906182Z",
     "iopub.status.busy": "2024-06-04T12:10:57.905834Z",
     "iopub.status.idle": "2024-06-04T12:10:57.914628Z",
     "shell.execute_reply": "2024-06-04T12:10:57.913670Z",
     "shell.execute_reply.started": "2024-06-04T12:10:57.906152Z"
    },
    "trusted": true
   },
   "outputs": [],
   "source": [
    "df[\"Drug\"]=np.where(df[\"Drug\"]==\"D-penicillamine\", 1, 0)"
   ]
  },
  {
   "cell_type": "code",
   "execution_count": 30,
   "metadata": {
    "execution": {
     "iopub.execute_input": "2024-06-04T12:10:57.916061Z",
     "iopub.status.busy": "2024-06-04T12:10:57.915798Z",
     "iopub.status.idle": "2024-06-04T12:10:57.929537Z",
     "shell.execute_reply": "2024-06-04T12:10:57.928680Z",
     "shell.execute_reply.started": "2024-06-04T12:10:57.916038Z"
    },
    "trusted": true
   },
   "outputs": [
    {
     "data": {
      "text/plain": [
       "Drug\n",
       "0    6704\n",
       "1    6472\n",
       "Name: count, dtype: int64"
      ]
     },
     "execution_count": 30,
     "metadata": {},
     "output_type": "execute_result"
    }
   ],
   "source": [
    "df[\"Drug\"].value_counts()"
   ]
  },
  {
   "cell_type": "code",
   "execution_count": 31,
   "metadata": {
    "execution": {
     "iopub.execute_input": "2024-06-04T12:10:57.930860Z",
     "iopub.status.busy": "2024-06-04T12:10:57.930569Z",
     "iopub.status.idle": "2024-06-04T12:10:58.094077Z",
     "shell.execute_reply": "2024-06-04T12:10:58.093025Z",
     "shell.execute_reply.started": "2024-06-04T12:10:57.930830Z"
    },
    "trusted": true
   },
   "outputs": [
    {
     "data": {
      "text/plain": [
       "<Axes: xlabel='Sex', ylabel='count'>"
      ]
     },
     "execution_count": 31,
     "metadata": {},
     "output_type": "execute_result"
    },
    {
     "data": {
      "image/png": "[encoded data removed]",
      "text/plain": [
       "<Figure size 640x480 with 1 Axes>"
      ]
     },
     "metadata": {},
     "output_type": "display_data"
    }
   ],
   "source": [
    "sns.countplot(x=df[\"Sex\"])"
   ]
  },
  {
   "cell_type": "code",
   "execution_count": 32,
   "metadata": {
    "execution": {
     "iopub.execute_input": "2024-06-04T12:10:58.096028Z",
     "iopub.status.busy": "2024-06-04T12:10:58.095331Z",
     "iopub.status.idle": "2024-06-04T12:10:58.104698Z",
     "shell.execute_reply": "2024-06-04T12:10:58.103807Z",
     "shell.execute_reply.started": "2024-06-04T12:10:58.095983Z"
    },
    "trusted": true
   },
   "outputs": [],
   "source": [
    "df[\"Sex\"]=np.where(df[\"Sex\"]==\"F\", 1, 0)"
   ]
  },
  {
   "cell_type": "code",
   "execution_count": 33,
   "metadata": {
    "execution": {
     "iopub.execute_input": "2024-06-04T12:10:58.106895Z",
     "iopub.status.busy": "2024-06-04T12:10:58.106103Z",
     "iopub.status.idle": "2024-06-04T12:10:58.710786Z",
     "shell.execute_reply": "2024-06-04T12:10:58.709916Z",
     "shell.execute_reply.started": "2024-06-04T12:10:58.106863Z"
    },
    "trusted": true
   },
   "outputs": [
    {
     "data": {
      "image/png": "[encoded data removed]",
      "text/plain": [
       "<Figure size 1200x800 with 4 Axes>"
      ]
     },
     "metadata": {},
     "output_type": "display_data"
    }
   ],
   "source": [
    "fig, axes = plt.subplots(2, 2, figsize=(12, 8))\n",
    "\n",
    "feature_names=[\"Ascites\", \"Hepatomegaly\", \"Spiders\", \"Edema\"]\n",
    "for i, ax in enumerate(axes.flat):\n",
    "    sns.countplot(x=feature_names[i], data=df[feature_names], ax=ax)\n",
    "\n",
    "plt.tight_layout()\n",
    "plt.show()"
   ]
  },
  {
   "cell_type": "code",
   "execution_count": 34,
   "metadata": {
    "execution": {
     "iopub.execute_input": "2024-06-04T12:10:58.712702Z",
     "iopub.status.busy": "2024-06-04T12:10:58.712167Z",
     "iopub.status.idle": "2024-06-04T12:10:58.729354Z",
     "shell.execute_reply": "2024-06-04T12:10:58.728465Z",
     "shell.execute_reply.started": "2024-06-04T12:10:58.712666Z"
    },
    "trusted": true
   },
   "outputs": [],
   "source": [
    "df[\"Ascites\"]=np.where(df[\"Ascites\"]==\"Y\", 1, 0)\n",
    "df[\"Hepatomegaly\"]=np.where(df[\"Hepatomegaly\"]==\"Y\", 1, 0)\n",
    "df[\"Spiders\"]=np.where(df[\"Spiders\"]==\"Y\", 1, 0)\n",
    "d={\"N\":0, \"Y\":1, \"S\":2}\n",
    "df[\"Edema\"]=df[\"Edema\"].map(d)"
   ]
  },
  {
   "cell_type": "code",
   "execution_count": 35,
   "metadata": {
    "execution": {
     "iopub.execute_input": "2024-06-04T12:10:58.730988Z",
     "iopub.status.busy": "2024-06-04T12:10:58.730607Z",
     "iopub.status.idle": "2024-06-04T12:10:58.902280Z",
     "shell.execute_reply": "2024-06-04T12:10:58.901391Z",
     "shell.execute_reply.started": "2024-06-04T12:10:58.730947Z"
    },
    "trusted": true
   },
   "outputs": [
    {
     "data": {
      "text/plain": [
       "<Axes: xlabel='Status', ylabel='count'>"
      ]
     },
     "execution_count": 35,
     "metadata": {},
     "output_type": "execute_result"
    },
    {
     "data": {
      "image/png": "[encoded data removed]",
      "text/plain": [
       "<Figure size 640x480 with 1 Axes>"
      ]
     },
     "metadata": {},
     "output_type": "display_data"
    }
   ],
   "source": [
    "sns.countplot(x=df[\"Status\"])"
   ]
  },
  {
   "cell_type": "code",
   "execution_count": 39,
   "metadata": {
    "execution": {
     "iopub.execute_input": "2024-06-04T12:14:15.385222Z",
     "iopub.status.busy": "2024-06-04T12:14:15.384423Z",
     "iopub.status.idle": "2024-06-04T12:14:15.393960Z",
     "shell.execute_reply": "2024-06-04T12:14:15.393048Z",
     "shell.execute_reply.started": "2024-06-04T12:14:15.385185Z"
    },
    "trusted": true
   },
   "outputs": [],
   "source": [
    "classes=[\"C\",\"CL\",\"D\"]\n",
    "d_class={\"C\":0,\"CL\":1,\"D\":2}\n",
    "df[\"Status\"]=df[\"Status\"].map(d_class)\n",
    "df[\"Status\"] = df[\"Status\"].fillna(-1).astype(int)"
   ]
  },
  {
   "cell_type": "code",
   "execution_count": 40,
   "metadata": {
    "execution": {
     "iopub.execute_input": "2024-06-04T12:14:21.414042Z",
     "iopub.status.busy": "2024-06-04T12:14:21.413462Z",
     "iopub.status.idle": "2024-06-04T12:14:21.421972Z",
     "shell.execute_reply": "2024-06-04T12:14:21.421028Z",
     "shell.execute_reply.started": "2024-06-04T12:14:21.414009Z"
    },
    "trusted": true
   },
   "outputs": [
    {
     "data": {
      "text/plain": [
       "Status\n",
       "-1    5271\n",
       " 0    4965\n",
       " 2    2665\n",
       " 1     275\n",
       "Name: count, dtype: int64"
      ]
     },
     "execution_count": 40,
     "metadata": {},
     "output_type": "execute_result"
    }
   ],
   "source": [
    "df[\"Status\"].value_counts()"
   ]
  },
  {
   "cell_type": "code",
   "execution_count": 41,
   "metadata": {
    "execution": {
     "iopub.execute_input": "2024-06-04T12:14:30.403750Z",
     "iopub.status.busy": "2024-06-04T12:14:30.403394Z",
     "iopub.status.idle": "2024-06-04T12:14:30.417814Z",
     "shell.execute_reply": "2024-06-04T12:14:30.416918Z",
     "shell.execute_reply.started": "2024-06-04T12:14:30.403721Z"
    },
    "trusted": true
   },
   "outputs": [
    {
     "name": "stdout",
     "output_type": "stream",
     "text": [
      "<class 'pandas.core.frame.DataFrame'>\n",
      "Index: 13176 entries, 0 to 5270\n",
      "Data columns (total 20 columns):\n",
      " #   Column         Non-Null Count  Dtype  \n",
      "---  ------         --------------  -----  \n",
      " 0   id             13176 non-null  int64  \n",
      " 1   N_Days         13176 non-null  int64  \n",
      " 2   Drug           13176 non-null  int64  \n",
      " 3   Age            13176 non-null  int64  \n",
      " 4   Sex            13176 non-null  int64  \n",
      " 5   Ascites        13176 non-null  int64  \n",
      " 6   Hepatomegaly   13176 non-null  int64  \n",
      " 7   Spiders        13176 non-null  int64  \n",
      " 8   Edema          13176 non-null  int64  \n",
      " 9   Bilirubin      13176 non-null  float64\n",
      " 10  Cholesterol    13176 non-null  float64\n",
      " 11  Albumin        13176 non-null  float64\n",
      " 12  Copper         13176 non-null  float64\n",
      " 13  Alk_Phos       13176 non-null  float64\n",
      " 14  SGOT           13176 non-null  float64\n",
      " 15  Tryglicerides  13176 non-null  float64\n",
      " 16  Platelets      13176 non-null  float64\n",
      " 17  Prothrombin    13176 non-null  float64\n",
      " 18  Stage          13176 non-null  float64\n",
      " 19  Status         13176 non-null  int64  \n",
      "dtypes: float64(10), int64(10)\n",
      "memory usage: 2.1 MB\n"
     ]
    }
   ],
   "source": [
    "df.info()"
   ]
  },
  {
   "cell_type": "code",
   "execution_count": 43,
   "metadata": {
    "execution": {
     "iopub.execute_input": "2024-06-04T12:21:45.527868Z",
     "iopub.status.busy": "2024-06-04T12:21:45.527249Z",
     "iopub.status.idle": "2024-06-04T12:21:45.534916Z",
     "shell.execute_reply": "2024-06-04T12:21:45.533908Z",
     "shell.execute_reply.started": "2024-06-04T12:21:45.527837Z"
    },
    "trusted": true
   },
   "outputs": [
    {
     "data": {
      "text/plain": [
       "((7905, 20), (5271, 20))"
      ]
     },
     "execution_count": 43,
     "metadata": {},
     "output_type": "execute_result"
    }
   ],
   "source": [
    "train=df.iloc[:7905]\n",
    "test=df.iloc[7905:]\n",
    "\n",
    "train.shape, test.shape"
   ]
  },
  {
   "cell_type": "markdown",
   "metadata": {},
   "source": [
    "# Modelleme"
   ]
  },
  {
   "cell_type": "code",
   "execution_count": 116,
   "metadata": {
    "execution": {
     "iopub.execute_input": "2024-06-04T13:12:00.585258Z",
     "iopub.status.busy": "2024-06-04T13:12:00.584779Z",
     "iopub.status.idle": "2024-06-04T13:12:00.591762Z",
     "shell.execute_reply": "2024-06-04T13:12:00.590764Z",
     "shell.execute_reply.started": "2024-06-04T13:12:00.585219Z"
    },
    "trusted": true
   },
   "outputs": [],
   "source": [
    "import tensorflow as tf\n",
    "from tensorflow.keras.models import Sequential\n",
    "from tensorflow.keras.layers import Dense, Dropout, BatchNormalization\n",
    "from tensorflow.keras.optimizers import Adam\n",
    "\n",
    "from sklearn.metrics import accuracy_score, precision_score, recall_score\n",
    "from sklearn.metrics import f1_score, confusion_matrix, classification_report\n",
    "from sklearn.model_selection import train_test_split\n",
    "\n",
    "from imblearn.over_sampling import SMOTE"
   ]
  },
  {
   "cell_type": "code",
   "execution_count": 149,
   "metadata": {
    "execution": {
     "iopub.execute_input": "2024-06-04T13:29:31.201402Z",
     "iopub.status.busy": "2024-06-04T13:29:31.200728Z",
     "iopub.status.idle": "2024-06-04T13:29:31.251754Z",
     "shell.execute_reply": "2024-06-04T13:29:31.250936Z",
     "shell.execute_reply.started": "2024-06-04T13:29:31.201367Z"
    },
    "trusted": true
   },
   "outputs": [],
   "source": [
    "x=train.drop([\"id\", \"Status\"], axis=1)\n",
    "y=train[[\"Status\"]]\n",
    "\n",
    "smote = SMOTE(random_state=42)\n",
    "x, y = smote.fit_resample(x, y)"
   ]
  },
  {
   "cell_type": "code",
   "execution_count": 150,
   "metadata": {
    "execution": {
     "iopub.execute_input": "2024-06-04T13:29:32.015689Z",
     "iopub.status.busy": "2024-06-04T13:29:32.014910Z",
     "iopub.status.idle": "2024-06-04T13:29:32.022821Z",
     "shell.execute_reply": "2024-06-04T13:29:32.021852Z",
     "shell.execute_reply.started": "2024-06-04T13:29:32.015658Z"
    },
    "trusted": true
   },
   "outputs": [
    {
     "data": {
      "text/plain": [
       "Status\n",
       "2    4965\n",
       "0    4965\n",
       "1    4965\n",
       "Name: count, dtype: int64"
      ]
     },
     "execution_count": 150,
     "metadata": {},
     "output_type": "execute_result"
    }
   ],
   "source": [
    "y[\"Status\"].value_counts()"
   ]
  },
  {
   "cell_type": "code",
   "execution_count": 151,
   "metadata": {
    "execution": {
     "iopub.execute_input": "2024-06-04T13:29:32.669032Z",
     "iopub.status.busy": "2024-06-04T13:29:32.668221Z",
     "iopub.status.idle": "2024-06-04T13:29:32.676449Z",
     "shell.execute_reply": "2024-06-04T13:29:32.675550Z",
     "shell.execute_reply.started": "2024-06-04T13:29:32.668993Z"
    },
    "trusted": true
   },
   "outputs": [
    {
     "data": {
      "text/plain": [
       "array([[0., 0., 1.],\n",
       "       [1., 0., 0.],\n",
       "       [0., 0., 1.],\n",
       "       ...,\n",
       "       [0., 0., 1.],\n",
       "       [0., 0., 1.],\n",
       "       [0., 0., 1.]])"
      ]
     },
     "execution_count": 151,
     "metadata": {},
     "output_type": "execute_result"
    }
   ],
   "source": [
    "#y = np.eye(3)[y]\n",
    "y = np.array(tf.keras.utils.to_categorical(y, num_classes=3))\n",
    "y"
   ]
  },
  {
   "cell_type": "code",
   "execution_count": 152,
   "metadata": {
    "execution": {
     "iopub.execute_input": "2024-06-04T13:29:33.320694Z",
     "iopub.status.busy": "2024-06-04T13:29:33.320371Z",
     "iopub.status.idle": "2024-06-04T13:29:33.334730Z",
     "shell.execute_reply": "2024-06-04T13:29:33.333728Z",
     "shell.execute_reply.started": "2024-06-04T13:29:33.320667Z"
    },
    "trusted": true
   },
   "outputs": [
    {
     "data": {
      "text/plain": [
       "((10426, 18), (10426, 3), (4469, 18), (4469, 3))"
      ]
     },
     "execution_count": 152,
     "metadata": {},
     "output_type": "execute_result"
    }
   ],
   "source": [
    "x_train, x_test, y_train, y_test = train_test_split(x, y, test_size=.3, random_state = 42)\n",
    "#y_train = np.squeeze(y_train, axis=1)\n",
    "#y_test = np.squeeze(y_test, axis=1)\n",
    "\n",
    "x_train.shape, y_train.shape, x_test.shape, y_test.shape"
   ]
  },
  {
   "cell_type": "code",
   "execution_count": 153,
   "metadata": {
    "execution": {
     "iopub.execute_input": "2024-06-04T13:29:34.182959Z",
     "iopub.status.busy": "2024-06-04T13:29:34.182324Z",
     "iopub.status.idle": "2024-06-04T13:29:34.377332Z",
     "shell.execute_reply": "2024-06-04T13:29:34.376368Z",
     "shell.execute_reply.started": "2024-06-04T13:29:34.182931Z"
    },
    "trusted": true
   },
   "outputs": [
    {
     "name": "stderr",
     "output_type": "stream",
     "text": [
      "/opt/conda/lib/python3.10/site-packages/keras/src/layers/core/dense.py:87: UserWarning: Do not pass an `input_shape`/`input_dim` argument to a layer. When using Sequential models, prefer using an `Input(shape)` object as the first layer in the model instead.\n",
      "  super().__init__(activity_regularizer=activity_regularizer, **kwargs)\n"
     ]
    }
   ],
   "source": [
    "model = Sequential()\n",
    "model.add(Dense(1024, activation='relu', input_shape=(18,)))\n",
    "model.add(BatchNormalization())\n",
    "model.add(Dropout(0.2))\n",
    "model.add(Dense(512, activation='relu'))\n",
    "model.add(BatchNormalization())\n",
    "model.add(Dropout(0.2))\n",
    "model.add(Dense(256, activation='relu'))\n",
    "model.add(BatchNormalization())\n",
    "model.add(Dropout(0.2))\n",
    "model.add(Dense(128, activation='relu'))\n",
    "model.add(BatchNormalization())\n",
    "model.add(Dropout(0.2))\n",
    "model.add(Dense(64, activation='relu'))\n",
    "model.add(BatchNormalization())\n",
    "model.add(Dropout(0.2))\n",
    "model.add(Dense(3, activation='softmax'))\n",
    "\n",
    "model.compile(optimizer=\"adam\", loss='categorical_crossentropy', metrics=['accuracy'])"
   ]
  },
  {
   "cell_type": "code",
   "execution_count": 186,
   "metadata": {
    "execution": {
     "iopub.execute_input": "2024-06-04T13:40:49.966866Z",
     "iopub.status.busy": "2024-06-04T13:40:49.966247Z",
     "iopub.status.idle": "2024-06-04T13:41:02.033841Z",
     "shell.execute_reply": "2024-06-04T13:41:02.033019Z",
     "shell.execute_reply.started": "2024-06-04T13:40:49.966834Z"
    },
    "trusted": true
   },
   "outputs": [
    {
     "name": "stdout",
     "output_type": "stream",
     "text": [
      "Epoch 1/10\n",
      "\u001b[1m326/326\u001b[0m \u001b[32m━━━━━━━━━━━━━━━━━━━━\u001b[0m\u001b[37m\u001b[0m \u001b[1m1s\u001b[0m 4ms/step - accuracy: 0.7535 - loss: 0.5859 - val_accuracy: 0.7800 - val_loss: 0.6107\n",
      "Epoch 2/10\n",
      "\u001b[1m326/326\u001b[0m \u001b[32m━━━━━━━━━━━━━━━━━━━━\u001b[0m\u001b[37m\u001b[0m \u001b[1m1s\u001b[0m 4ms/step - accuracy: 0.7486 - loss: 0.5964 - val_accuracy: 0.8089 - val_loss: 0.5549\n",
      "Epoch 3/10\n",
      "\u001b[1m326/326\u001b[0m \u001b[32m━━━━━━━━━━━━━━━━━━━━\u001b[0m\u001b[37m\u001b[0m \u001b[1m1s\u001b[0m 4ms/step - accuracy: 0.7562 - loss: 0.5840 - val_accuracy: 0.7838 - val_loss: 0.6050\n",
      "Epoch 4/10\n",
      "\u001b[1m326/326\u001b[0m \u001b[32m━━━━━━━━━━━━━━━━━━━━\u001b[0m\u001b[37m\u001b[0m \u001b[1m1s\u001b[0m 4ms/step - accuracy: 0.7571 - loss: 0.5837 - val_accuracy: 0.7747 - val_loss: 0.6253\n",
      "Epoch 5/10\n",
      "\u001b[1m326/326\u001b[0m \u001b[32m━━━━━━━━━━━━━━━━━━━━\u001b[0m\u001b[37m\u001b[0m \u001b[1m1s\u001b[0m 4ms/step - accuracy: 0.7481 - loss: 0.6002 - val_accuracy: 0.7962 - val_loss: 0.5890\n",
      "Epoch 6/10\n",
      "\u001b[1m326/326\u001b[0m \u001b[32m━━━━━━━━━━━━━━━━━━━━\u001b[0m\u001b[37m\u001b[0m \u001b[1m1s\u001b[0m 4ms/step - accuracy: 0.7582 - loss: 0.5928 - val_accuracy: 0.7375 - val_loss: 0.7059\n",
      "Epoch 7/10\n",
      "\u001b[1m326/326\u001b[0m \u001b[32m━━━━━━━━━━━━━━━━━━━━\u001b[0m\u001b[37m\u001b[0m \u001b[1m1s\u001b[0m 4ms/step - accuracy: 0.7560 - loss: 0.5860 - val_accuracy: 0.7749 - val_loss: 0.6325\n",
      "Epoch 8/10\n",
      "\u001b[1m326/326\u001b[0m \u001b[32m━━━━━━━━━━━━━━━━━━━━\u001b[0m\u001b[37m\u001b[0m \u001b[1m1s\u001b[0m 4ms/step - accuracy: 0.7468 - loss: 0.5976 - val_accuracy: 0.7702 - val_loss: 0.6443\n",
      "Epoch 9/10\n",
      "\u001b[1m326/326\u001b[0m \u001b[32m━━━━━━━━━━━━━━━━━━━━\u001b[0m\u001b[37m\u001b[0m \u001b[1m1s\u001b[0m 4ms/step - accuracy: 0.7464 - loss: 0.6008 - val_accuracy: 0.6576 - val_loss: 0.8680\n",
      "Epoch 10/10\n",
      "\u001b[1m326/326\u001b[0m \u001b[32m━━━━━━━━━━━━━━━━━━━━\u001b[0m\u001b[37m\u001b[0m \u001b[1m1s\u001b[0m 4ms/step - accuracy: 0.7474 - loss: 0.5935 - val_accuracy: 0.8071 - val_loss: 0.5596\n"
     ]
    }
   ],
   "source": [
    "history=model.fit(x_train, y_train, epochs=10, batch_size=32, validation_data=(x_test, y_test))"
   ]
  },
  {
   "cell_type": "code",
   "execution_count": 187,
   "metadata": {
    "execution": {
     "iopub.execute_input": "2024-06-04T13:41:06.256998Z",
     "iopub.status.busy": "2024-06-04T13:41:06.256231Z",
     "iopub.status.idle": "2024-06-04T13:41:06.567599Z",
     "shell.execute_reply": "2024-06-04T13:41:06.566687Z",
     "shell.execute_reply.started": "2024-06-04T13:41:06.256966Z"
    },
    "trusted": true
   },
   "outputs": [
    {
     "name": "stdout",
     "output_type": "stream",
     "text": [
      "\u001b[1m140/140\u001b[0m \u001b[32m━━━━━━━━━━━━━━━━━━━━\u001b[0m\u001b[37m\u001b[0m \u001b[1m0s\u001b[0m 2ms/step - accuracy: 0.8196 - loss: 0.5052\n"
     ]
    },
    {
     "data": {
      "text/plain": [
       "(0.5596097111701965, 0.8071156740188599)"
      ]
     },
     "execution_count": 187,
     "metadata": {},
     "output_type": "execute_result"
    }
   ],
   "source": [
    "loss, accuracy = model.evaluate(x_test, y_test)\n",
    "loss, accuracy"
   ]
  },
  {
   "cell_type": "code",
   "execution_count": 170,
   "metadata": {
    "execution": {
     "iopub.execute_input": "2024-06-04T13:34:56.870608Z",
     "iopub.status.busy": "2024-06-04T13:34:56.869947Z",
     "iopub.status.idle": "2024-06-04T13:34:56.879842Z",
     "shell.execute_reply": "2024-06-04T13:34:56.879064Z",
     "shell.execute_reply.started": "2024-06-04T13:34:56.870567Z"
    },
    "trusted": true
   },
   "outputs": [
    {
     "data": {
      "text/plain": [
       "(5271, 18)"
      ]
     },
     "execution_count": 170,
     "metadata": {},
     "output_type": "execute_result"
    }
   ],
   "source": [
    "xt=test[['N_Days', 'Drug', 'Age', 'Sex', 'Ascites', 'Hepatomegaly',\n",
    "       'Spiders', 'Edema', 'Bilirubin', 'Cholesterol', 'Albumin', 'Copper',\n",
    "       'Alk_Phos', 'SGOT', 'Tryglicerides', 'Platelets', 'Prothrombin',\n",
    "       'Stage']]\n",
    "xt.shape"
   ]
  },
  {
   "cell_type": "code",
   "execution_count": 188,
   "metadata": {
    "execution": {
     "iopub.execute_input": "2024-06-04T13:41:10.678800Z",
     "iopub.status.busy": "2024-06-04T13:41:10.678471Z",
     "iopub.status.idle": "2024-06-04T13:41:11.050971Z",
     "shell.execute_reply": "2024-06-04T13:41:11.050256Z",
     "shell.execute_reply.started": "2024-06-04T13:41:10.678775Z"
    },
    "trusted": true
   },
   "outputs": [
    {
     "name": "stdout",
     "output_type": "stream",
     "text": [
      "\u001b[1m165/165\u001b[0m \u001b[32m━━━━━━━━━━━━━━━━━━━━\u001b[0m\u001b[37m\u001b[0m \u001b[1m0s\u001b[0m 1ms/step\n"
     ]
    }
   ],
   "source": [
    "pred=model.predict(xt)"
   ]
  },
  {
   "cell_type": "code",
   "execution_count": 189,
   "metadata": {
    "execution": {
     "iopub.execute_input": "2024-06-04T13:41:14.249992Z",
     "iopub.status.busy": "2024-06-04T13:41:14.249628Z",
     "iopub.status.idle": "2024-06-04T13:41:14.257448Z",
     "shell.execute_reply": "2024-06-04T13:41:14.256346Z",
     "shell.execute_reply.started": "2024-06-04T13:41:14.249963Z"
    },
    "trusted": true
   },
   "outputs": [
    {
     "data": {
      "text/plain": [
       "(array([[0.845329  , 0.00547047, 0.14920051],\n",
       "        [0.41653937, 0.4094279 , 0.17403269],\n",
       "        [0.02246796, 0.13946794, 0.83806413],\n",
       "        ...,\n",
       "        [0.8452046 , 0.05034215, 0.10445327],\n",
       "        [0.708848  , 0.2795968 , 0.01155524],\n",
       "        [0.1399088 , 0.09540824, 0.76468307]], dtype=float32),\n",
       " (5271, 3))"
      ]
     },
     "execution_count": 189,
     "metadata": {},
     "output_type": "execute_result"
    }
   ],
   "source": [
    "pred, pred.shape"
   ]
  },
  {
   "cell_type": "code",
   "execution_count": 190,
   "metadata": {
    "execution": {
     "iopub.execute_input": "2024-06-04T13:41:17.647395Z",
     "iopub.status.busy": "2024-06-04T13:41:17.647014Z",
     "iopub.status.idle": "2024-06-04T13:41:17.678776Z",
     "shell.execute_reply": "2024-06-04T13:41:17.677764Z",
     "shell.execute_reply.started": "2024-06-04T13:41:17.647368Z"
    },
    "trusted": true
   },
   "outputs": [
    {
     "name": "stderr",
     "output_type": "stream",
     "text": [
      "/tmp/ipykernel_34/3158045951.py:1: SettingWithCopyWarning: \n",
      "A value is trying to be set on a copy of a slice from a DataFrame.\n",
      "Try using .loc[row_indexer,col_indexer] = value instead\n",
      "\n",
      "See the caveats in the documentation: https://pandas.pydata.org/pandas-docs/stable/user_guide/indexing.html#returning-a-view-versus-a-copy\n",
      "  test['Status_C'] = pred[:,0]\n",
      "/tmp/ipykernel_34/3158045951.py:2: SettingWithCopyWarning: \n",
      "A value is trying to be set on a copy of a slice from a DataFrame.\n",
      "Try using .loc[row_indexer,col_indexer] = value instead\n",
      "\n",
      "See the caveats in the documentation: https://pandas.pydata.org/pandas-docs/stable/user_guide/indexing.html#returning-a-view-versus-a-copy\n",
      "  test['Status_CL'] = pred[:,1]\n",
      "/tmp/ipykernel_34/3158045951.py:3: SettingWithCopyWarning: \n",
      "A value is trying to be set on a copy of a slice from a DataFrame.\n",
      "Try using .loc[row_indexer,col_indexer] = value instead\n",
      "\n",
      "See the caveats in the documentation: https://pandas.pydata.org/pandas-docs/stable/user_guide/indexing.html#returning-a-view-versus-a-copy\n",
      "  test['Status_D'] = pred[:,2]\n"
     ]
    },
    {
     "data": {
      "text/html": [
       "<div>\n",
       "<style scoped>\n",
       "    .dataframe tbody tr th:only-of-type {\n",
       "        vertical-align: middle;\n",
       "    }\n",
       "\n",
       "    .dataframe tbody tr th {\n",
       "        vertical-align: top;\n",
       "    }\n",
       "\n",
       "    .dataframe thead th {\n",
       "        text-align: right;\n",
       "    }\n",
       "</style>\n",
       "<table border=\"1\" class=\"dataframe\">\n",
       "  <thead>\n",
       "    <tr style=\"text-align: right;\">\n",
       "      <th></th>\n",
       "      <th>id</th>\n",
       "      <th>N_Days</th>\n",
       "      <th>Drug</th>\n",
       "      <th>Age</th>\n",
       "      <th>Sex</th>\n",
       "      <th>Ascites</th>\n",
       "      <th>Hepatomegaly</th>\n",
       "      <th>Spiders</th>\n",
       "      <th>Edema</th>\n",
       "      <th>Bilirubin</th>\n",
       "      <th>...</th>\n",
       "      <th>Alk_Phos</th>\n",
       "      <th>SGOT</th>\n",
       "      <th>Tryglicerides</th>\n",
       "      <th>Platelets</th>\n",
       "      <th>Prothrombin</th>\n",
       "      <th>Stage</th>\n",
       "      <th>Status</th>\n",
       "      <th>Status_C</th>\n",
       "      <th>Status_CL</th>\n",
       "      <th>Status_D</th>\n",
       "    </tr>\n",
       "  </thead>\n",
       "  <tbody>\n",
       "    <tr>\n",
       "      <th>0</th>\n",
       "      <td>7905</td>\n",
       "      <td>3839</td>\n",
       "      <td>1</td>\n",
       "      <td>19724</td>\n",
       "      <td>1</td>\n",
       "      <td>0</td>\n",
       "      <td>1</td>\n",
       "      <td>0</td>\n",
       "      <td>0</td>\n",
       "      <td>1.2</td>\n",
       "      <td>...</td>\n",
       "      <td>1636.0</td>\n",
       "      <td>151.90</td>\n",
       "      <td>90.0</td>\n",
       "      <td>430.0</td>\n",
       "      <td>10.6</td>\n",
       "      <td>2.0</td>\n",
       "      <td>-1</td>\n",
       "      <td>0.845329</td>\n",
       "      <td>0.005470</td>\n",
       "      <td>0.149201</td>\n",
       "    </tr>\n",
       "    <tr>\n",
       "      <th>1</th>\n",
       "      <td>7906</td>\n",
       "      <td>2468</td>\n",
       "      <td>1</td>\n",
       "      <td>14975</td>\n",
       "      <td>1</td>\n",
       "      <td>0</td>\n",
       "      <td>0</td>\n",
       "      <td>0</td>\n",
       "      <td>0</td>\n",
       "      <td>1.1</td>\n",
       "      <td>...</td>\n",
       "      <td>1257.0</td>\n",
       "      <td>151.90</td>\n",
       "      <td>155.0</td>\n",
       "      <td>227.0</td>\n",
       "      <td>10.0</td>\n",
       "      <td>2.0</td>\n",
       "      <td>-1</td>\n",
       "      <td>0.416539</td>\n",
       "      <td>0.409428</td>\n",
       "      <td>0.174033</td>\n",
       "    </tr>\n",
       "    <tr>\n",
       "      <th>2</th>\n",
       "      <td>7907</td>\n",
       "      <td>51</td>\n",
       "      <td>0</td>\n",
       "      <td>13149</td>\n",
       "      <td>1</td>\n",
       "      <td>0</td>\n",
       "      <td>1</td>\n",
       "      <td>0</td>\n",
       "      <td>1</td>\n",
       "      <td>2.0</td>\n",
       "      <td>...</td>\n",
       "      <td>961.0</td>\n",
       "      <td>69.75</td>\n",
       "      <td>101.0</td>\n",
       "      <td>213.0</td>\n",
       "      <td>13.0</td>\n",
       "      <td>4.0</td>\n",
       "      <td>-1</td>\n",
       "      <td>0.022468</td>\n",
       "      <td>0.139468</td>\n",
       "      <td>0.838064</td>\n",
       "    </tr>\n",
       "    <tr>\n",
       "      <th>3</th>\n",
       "      <td>7908</td>\n",
       "      <td>2330</td>\n",
       "      <td>1</td>\n",
       "      <td>20510</td>\n",
       "      <td>1</td>\n",
       "      <td>0</td>\n",
       "      <td>0</td>\n",
       "      <td>0</td>\n",
       "      <td>0</td>\n",
       "      <td>0.6</td>\n",
       "      <td>...</td>\n",
       "      <td>554.0</td>\n",
       "      <td>125.55</td>\n",
       "      <td>56.0</td>\n",
       "      <td>270.0</td>\n",
       "      <td>10.6</td>\n",
       "      <td>2.0</td>\n",
       "      <td>-1</td>\n",
       "      <td>0.829699</td>\n",
       "      <td>0.010052</td>\n",
       "      <td>0.160250</td>\n",
       "    </tr>\n",
       "    <tr>\n",
       "      <th>4</th>\n",
       "      <td>7909</td>\n",
       "      <td>1615</td>\n",
       "      <td>1</td>\n",
       "      <td>21904</td>\n",
       "      <td>1</td>\n",
       "      <td>0</td>\n",
       "      <td>1</td>\n",
       "      <td>0</td>\n",
       "      <td>0</td>\n",
       "      <td>1.4</td>\n",
       "      <td>...</td>\n",
       "      <td>1110.0</td>\n",
       "      <td>125.00</td>\n",
       "      <td>126.0</td>\n",
       "      <td>221.0</td>\n",
       "      <td>9.8</td>\n",
       "      <td>1.0</td>\n",
       "      <td>-1</td>\n",
       "      <td>0.786991</td>\n",
       "      <td>0.065564</td>\n",
       "      <td>0.147445</td>\n",
       "    </tr>\n",
       "  </tbody>\n",
       "</table>\n",
       "<p>5 rows × 23 columns</p>\n",
       "</div>"
      ],
      "text/plain": [
       "     id  N_Days  Drug    Age  Sex  Ascites  Hepatomegaly  Spiders  Edema  \\\n",
       "0  7905    3839     1  19724    1        0             1        0      0   \n",
       "1  7906    2468     1  14975    1        0             0        0      0   \n",
       "2  7907      51     0  13149    1        0             1        0      1   \n",
       "3  7908    2330     1  20510    1        0             0        0      0   \n",
       "4  7909    1615     1  21904    1        0             1        0      0   \n",
       "\n",
       "   Bilirubin  ...  Alk_Phos    SGOT  Tryglicerides  Platelets  Prothrombin  \\\n",
       "0        1.2  ...    1636.0  151.90           90.0      430.0         10.6   \n",
       "1        1.1  ...    1257.0  151.90          155.0      227.0         10.0   \n",
       "2        2.0  ...     961.0   69.75          101.0      213.0         13.0   \n",
       "3        0.6  ...     554.0  125.55           56.0      270.0         10.6   \n",
       "4        1.4  ...    1110.0  125.00          126.0      221.0          9.8   \n",
       "\n",
       "   Stage  Status  Status_C  Status_CL  Status_D  \n",
       "0    2.0      -1  0.845329   0.005470  0.149201  \n",
       "1    2.0      -1  0.416539   0.409428  0.174033  \n",
       "2    4.0      -1  0.022468   0.139468  0.838064  \n",
       "3    2.0      -1  0.829699   0.010052  0.160250  \n",
       "4    1.0      -1  0.786991   0.065564  0.147445  \n",
       "\n",
       "[5 rows x 23 columns]"
      ]
     },
     "execution_count": 190,
     "metadata": {},
     "output_type": "execute_result"
    }
   ],
   "source": [
    "test['Status_C'] = pred[:,0]\n",
    "test['Status_CL'] = pred[:,1] \n",
    "test['Status_D'] = pred[:,2]\n",
    "\n",
    "test.head()"
   ]
  },
  {
   "cell_type": "code",
   "execution_count": 191,
   "metadata": {
    "execution": {
     "iopub.execute_input": "2024-06-04T13:41:22.476077Z",
     "iopub.status.busy": "2024-06-04T13:41:22.475442Z",
     "iopub.status.idle": "2024-06-04T13:41:22.510622Z",
     "shell.execute_reply": "2024-06-04T13:41:22.509711Z",
     "shell.execute_reply.started": "2024-06-04T13:41:22.476044Z"
    },
    "trusted": true
   },
   "outputs": [],
   "source": [
    "test[[\"id\", \"Status_C\", \"Status_CL\", \"Status_D\"]].to_csv(\"submission.csv\", index=False)"
   ]
  },
  {
   "cell_type": "markdown",
   "metadata": {},
   "source": [
    "## Sonuç\n",
    "\n",
    "Geliştirilen model ile ilk denemede Kaggle Score: 0.90140 sonrakilerde en başarılı skor 0.60581 elde edildi. Yarışma 1.sinin skoru: 0.39104"
   ]
  }
 ],
 "metadata": {
  "kaggle": {
   "accelerator": "nvidiaTeslaT4",
   "dataSources": [
    {
     "databundleVersionId": 7000181,
     "sourceId": 60893,
     "sourceType": "competition"
    }
   ],
   "dockerImageVersionId": 30716,
   "isGpuEnabled": true,
   "isInternetEnabled": true,
   "language": "python",
   "sourceType": "notebook"
  },
  "kernelspec": {
   "display_name": "Python 3",
   "language": "python",
   "name": "python3"
  },
  "language_info": {
   "codemirror_mode": {
    "name": "ipython",
    "version": 3
   },
   "file_extension": ".py",
   "mimetype": "text/x-python",
   "name": "python",
   "nbconvert_exporter": "python",
   "pygments_lexer": "ipython3",
   "version": "3.10.13"
  }
 },
 "nbformat": 4,
 "nbformat_minor": 4
}
