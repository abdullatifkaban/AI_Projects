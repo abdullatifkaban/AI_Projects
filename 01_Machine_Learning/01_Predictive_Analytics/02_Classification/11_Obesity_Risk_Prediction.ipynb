{
 "cells": [
  {
   "cell_type": "markdown",
   "metadata": {},
   "source": [
    "## Multi-Class Prediction of Obesity Risk\n",
    "\n",
    "Bu projede obezite riskini tahmin edecek çok sınıflı tahmin modeli geliştirilmektedir. Bir Kaggle yarışması olan projede kullanılan veriler [buradan](https://www.kaggle.com/competitions/playground-series-s4e2/data) temin edilmiştir."
   ]
  },
  {
   "cell_type": "code",
   "execution_count": 1,
   "metadata": {
    "_cell_guid": "b1076dfc-b9ad-4769-8c92-a6c4dae69d19",
    "_uuid": "8f2839f25d086af736a60e9eeb907d3b93b6e0e5",
    "execution": {
     "iopub.execute_input": "2024-05-12T10:32:07.989614Z",
     "iopub.status.busy": "2024-05-12T10:32:07.988884Z",
     "iopub.status.idle": "2024-05-12T10:32:09.437709Z",
     "shell.execute_reply": "2024-05-12T10:32:09.435841Z",
     "shell.execute_reply.started": "2024-05-12T10:32:07.989569Z"
    }
   },
   "outputs": [
    {
     "name": "stdout",
     "output_type": "stream",
     "text": [
      "/kaggle/input/playground-series-s4e2/sample_submission.csv\n",
      "/kaggle/input/playground-series-s4e2/train.csv\n",
      "/kaggle/input/playground-series-s4e2/test.csv\n"
     ]
    }
   ],
   "source": [
    "# This Python 3 environment comes with many helpful analytics libraries installed\n",
    "# It is defined by the kaggle/python Docker image: https://github.com/kaggle/docker-python\n",
    "# For example, here's several helpful packages to load\n",
    "\n",
    "import numpy as np # linear algebra\n",
    "import pandas as pd # data processing, CSV file I/O (e.g. pd.read_csv)\n",
    "\n",
    "# Input data files are available in the read-only \"../input/\" directory\n",
    "# For example, running this (by clicking run or pressing Shift+Enter) will list all files under the input directory\n",
    "\n",
    "import os\n",
    "for dirname, _, filenames in os.walk('/kaggle/input'):\n",
    "    for filename in filenames:\n",
    "        print(os.path.join(dirname, filename))\n",
    "\n",
    "# You can write up to 20GB to the current directory (/kaggle/working/) that gets preserved as output when you create a version using \"Save & Run All\" \n",
    "# You can also write temporary files to /kaggle/temp/, but they won't be saved outside of the current session"
   ]
  },
  {
   "cell_type": "code",
   "execution_count": 19,
   "metadata": {
    "execution": {
     "iopub.execute_input": "2024-05-12T10:41:38.234099Z",
     "iopub.status.busy": "2024-05-12T10:41:38.233601Z",
     "iopub.status.idle": "2024-05-12T10:41:38.244189Z",
     "shell.execute_reply": "2024-05-12T10:41:38.241903Z",
     "shell.execute_reply.started": "2024-05-12T10:41:38.234036Z"
    }
   },
   "outputs": [],
   "source": [
    "import seaborn as sns\n",
    "import matplotlib.pyplot as plt"
   ]
  },
  {
   "cell_type": "code",
   "execution_count": 3,
   "metadata": {
    "execution": {
     "iopub.execute_input": "2024-05-12T10:32:41.048677Z",
     "iopub.status.busy": "2024-05-12T10:32:41.048066Z",
     "iopub.status.idle": "2024-05-12T10:32:41.226246Z",
     "shell.execute_reply": "2024-05-12T10:32:41.224587Z",
     "shell.execute_reply.started": "2024-05-12T10:32:41.048640Z"
    }
   },
   "outputs": [
    {
     "data": {
      "text/html": [
       "<div>\n",
       "<style scoped>\n",
       "    .dataframe tbody tr th:only-of-type {\n",
       "        vertical-align: middle;\n",
       "    }\n",
       "\n",
       "    .dataframe tbody tr th {\n",
       "        vertical-align: top;\n",
       "    }\n",
       "\n",
       "    .dataframe thead th {\n",
       "        text-align: right;\n",
       "    }\n",
       "</style>\n",
       "<table border=\"1\" class=\"dataframe\">\n",
       "  <thead>\n",
       "    <tr style=\"text-align: right;\">\n",
       "      <th></th>\n",
       "      <th>id</th>\n",
       "      <th>Gender</th>\n",
       "      <th>Age</th>\n",
       "      <th>Height</th>\n",
       "      <th>Weight</th>\n",
       "      <th>family_history_with_overweight</th>\n",
       "      <th>FAVC</th>\n",
       "      <th>FCVC</th>\n",
       "      <th>NCP</th>\n",
       "      <th>CAEC</th>\n",
       "      <th>SMOKE</th>\n",
       "      <th>CH2O</th>\n",
       "      <th>SCC</th>\n",
       "      <th>FAF</th>\n",
       "      <th>TUE</th>\n",
       "      <th>CALC</th>\n",
       "      <th>MTRANS</th>\n",
       "      <th>NObeyesdad</th>\n",
       "    </tr>\n",
       "  </thead>\n",
       "  <tbody>\n",
       "    <tr>\n",
       "      <th>0</th>\n",
       "      <td>0</td>\n",
       "      <td>Male</td>\n",
       "      <td>24.443011</td>\n",
       "      <td>1.699998</td>\n",
       "      <td>81.669950</td>\n",
       "      <td>yes</td>\n",
       "      <td>yes</td>\n",
       "      <td>2.000000</td>\n",
       "      <td>2.983297</td>\n",
       "      <td>Sometimes</td>\n",
       "      <td>no</td>\n",
       "      <td>2.763573</td>\n",
       "      <td>no</td>\n",
       "      <td>0.000000</td>\n",
       "      <td>0.976473</td>\n",
       "      <td>Sometimes</td>\n",
       "      <td>Public_Transportation</td>\n",
       "      <td>Overweight_Level_II</td>\n",
       "    </tr>\n",
       "    <tr>\n",
       "      <th>1</th>\n",
       "      <td>1</td>\n",
       "      <td>Female</td>\n",
       "      <td>18.000000</td>\n",
       "      <td>1.560000</td>\n",
       "      <td>57.000000</td>\n",
       "      <td>yes</td>\n",
       "      <td>yes</td>\n",
       "      <td>2.000000</td>\n",
       "      <td>3.000000</td>\n",
       "      <td>Frequently</td>\n",
       "      <td>no</td>\n",
       "      <td>2.000000</td>\n",
       "      <td>no</td>\n",
       "      <td>1.000000</td>\n",
       "      <td>1.000000</td>\n",
       "      <td>no</td>\n",
       "      <td>Automobile</td>\n",
       "      <td>Normal_Weight</td>\n",
       "    </tr>\n",
       "    <tr>\n",
       "      <th>2</th>\n",
       "      <td>2</td>\n",
       "      <td>Female</td>\n",
       "      <td>18.000000</td>\n",
       "      <td>1.711460</td>\n",
       "      <td>50.165754</td>\n",
       "      <td>yes</td>\n",
       "      <td>yes</td>\n",
       "      <td>1.880534</td>\n",
       "      <td>1.411685</td>\n",
       "      <td>Sometimes</td>\n",
       "      <td>no</td>\n",
       "      <td>1.910378</td>\n",
       "      <td>no</td>\n",
       "      <td>0.866045</td>\n",
       "      <td>1.673584</td>\n",
       "      <td>no</td>\n",
       "      <td>Public_Transportation</td>\n",
       "      <td>Insufficient_Weight</td>\n",
       "    </tr>\n",
       "    <tr>\n",
       "      <th>3</th>\n",
       "      <td>3</td>\n",
       "      <td>Female</td>\n",
       "      <td>20.952737</td>\n",
       "      <td>1.710730</td>\n",
       "      <td>131.274851</td>\n",
       "      <td>yes</td>\n",
       "      <td>yes</td>\n",
       "      <td>3.000000</td>\n",
       "      <td>3.000000</td>\n",
       "      <td>Sometimes</td>\n",
       "      <td>no</td>\n",
       "      <td>1.674061</td>\n",
       "      <td>no</td>\n",
       "      <td>1.467863</td>\n",
       "      <td>0.780199</td>\n",
       "      <td>Sometimes</td>\n",
       "      <td>Public_Transportation</td>\n",
       "      <td>Obesity_Type_III</td>\n",
       "    </tr>\n",
       "    <tr>\n",
       "      <th>4</th>\n",
       "      <td>4</td>\n",
       "      <td>Male</td>\n",
       "      <td>31.641081</td>\n",
       "      <td>1.914186</td>\n",
       "      <td>93.798055</td>\n",
       "      <td>yes</td>\n",
       "      <td>yes</td>\n",
       "      <td>2.679664</td>\n",
       "      <td>1.971472</td>\n",
       "      <td>Sometimes</td>\n",
       "      <td>no</td>\n",
       "      <td>1.979848</td>\n",
       "      <td>no</td>\n",
       "      <td>1.967973</td>\n",
       "      <td>0.931721</td>\n",
       "      <td>Sometimes</td>\n",
       "      <td>Public_Transportation</td>\n",
       "      <td>Overweight_Level_II</td>\n",
       "    </tr>\n",
       "  </tbody>\n",
       "</table>\n",
       "</div>"
      ],
      "text/plain": [
       "   id  Gender        Age    Height      Weight family_history_with_overweight  \\\n",
       "0   0    Male  24.443011  1.699998   81.669950                            yes   \n",
       "1   1  Female  18.000000  1.560000   57.000000                            yes   \n",
       "2   2  Female  18.000000  1.711460   50.165754                            yes   \n",
       "3   3  Female  20.952737  1.710730  131.274851                            yes   \n",
       "4   4    Male  31.641081  1.914186   93.798055                            yes   \n",
       "\n",
       "  FAVC      FCVC       NCP        CAEC SMOKE      CH2O SCC       FAF  \\\n",
       "0  yes  2.000000  2.983297   Sometimes    no  2.763573  no  0.000000   \n",
       "1  yes  2.000000  3.000000  Frequently    no  2.000000  no  1.000000   \n",
       "2  yes  1.880534  1.411685   Sometimes    no  1.910378  no  0.866045   \n",
       "3  yes  3.000000  3.000000   Sometimes    no  1.674061  no  1.467863   \n",
       "4  yes  2.679664  1.971472   Sometimes    no  1.979848  no  1.967973   \n",
       "\n",
       "        TUE       CALC                 MTRANS           NObeyesdad  \n",
       "0  0.976473  Sometimes  Public_Transportation  Overweight_Level_II  \n",
       "1  1.000000         no             Automobile        Normal_Weight  \n",
       "2  1.673584         no  Public_Transportation  Insufficient_Weight  \n",
       "3  0.780199  Sometimes  Public_Transportation     Obesity_Type_III  \n",
       "4  0.931721  Sometimes  Public_Transportation  Overweight_Level_II  "
      ]
     },
     "execution_count": 3,
     "metadata": {},
     "output_type": "execute_result"
    }
   ],
   "source": [
    "df=pd.read_csv(\"/kaggle/input/playground-series-s4e2/train.csv\")\n",
    "df.head()"
   ]
  },
  {
   "cell_type": "markdown",
   "metadata": {},
   "source": [
    "## Keşfedici Veri Analizi (EDA)"
   ]
  },
  {
   "cell_type": "code",
   "execution_count": 4,
   "metadata": {
    "execution": {
     "iopub.execute_input": "2024-05-12T10:32:47.628654Z",
     "iopub.status.busy": "2024-05-12T10:32:47.628188Z",
     "iopub.status.idle": "2024-05-12T10:32:47.678102Z",
     "shell.execute_reply": "2024-05-12T10:32:47.676590Z",
     "shell.execute_reply.started": "2024-05-12T10:32:47.628620Z"
    }
   },
   "outputs": [
    {
     "name": "stdout",
     "output_type": "stream",
     "text": [
      "<class 'pandas.core.frame.DataFrame'>\n",
      "RangeIndex: 20758 entries, 0 to 20757\n",
      "Data columns (total 18 columns):\n",
      " #   Column                          Non-Null Count  Dtype  \n",
      "---  ------                          --------------  -----  \n",
      " 0   id                              20758 non-null  int64  \n",
      " 1   Gender                          20758 non-null  object \n",
      " 2   Age                             20758 non-null  float64\n",
      " 3   Height                          20758 non-null  float64\n",
      " 4   Weight                          20758 non-null  float64\n",
      " 5   family_history_with_overweight  20758 non-null  object \n",
      " 6   FAVC                            20758 non-null  object \n",
      " 7   FCVC                            20758 non-null  float64\n",
      " 8   NCP                             20758 non-null  float64\n",
      " 9   CAEC                            20758 non-null  object \n",
      " 10  SMOKE                           20758 non-null  object \n",
      " 11  CH2O                            20758 non-null  float64\n",
      " 12  SCC                             20758 non-null  object \n",
      " 13  FAF                             20758 non-null  float64\n",
      " 14  TUE                             20758 non-null  float64\n",
      " 15  CALC                            20758 non-null  object \n",
      " 16  MTRANS                          20758 non-null  object \n",
      " 17  NObeyesdad                      20758 non-null  object \n",
      "dtypes: float64(8), int64(1), object(9)\n",
      "memory usage: 2.9+ MB\n"
     ]
    }
   ],
   "source": [
    "df.info()"
   ]
  },
  {
   "cell_type": "code",
   "execution_count": 5,
   "metadata": {
    "execution": {
     "iopub.execute_input": "2024-05-12T10:33:56.950651Z",
     "iopub.status.busy": "2024-05-12T10:33:56.950228Z",
     "iopub.status.idle": "2024-05-12T10:33:57.053932Z",
     "shell.execute_reply": "2024-05-12T10:33:57.052495Z",
     "shell.execute_reply.started": "2024-05-12T10:33:56.950621Z"
    }
   },
   "outputs": [
    {
     "data": {
      "text/html": [
       "<div>\n",
       "<style scoped>\n",
       "    .dataframe tbody tr th:only-of-type {\n",
       "        vertical-align: middle;\n",
       "    }\n",
       "\n",
       "    .dataframe tbody tr th {\n",
       "        vertical-align: top;\n",
       "    }\n",
       "\n",
       "    .dataframe thead th {\n",
       "        text-align: right;\n",
       "    }\n",
       "</style>\n",
       "<table border=\"1\" class=\"dataframe\">\n",
       "  <thead>\n",
       "    <tr style=\"text-align: right;\">\n",
       "      <th></th>\n",
       "      <th>id</th>\n",
       "      <th>Gender</th>\n",
       "      <th>Age</th>\n",
       "      <th>Height</th>\n",
       "      <th>Weight</th>\n",
       "      <th>family_history_with_overweight</th>\n",
       "      <th>FAVC</th>\n",
       "      <th>FCVC</th>\n",
       "      <th>NCP</th>\n",
       "      <th>CAEC</th>\n",
       "      <th>SMOKE</th>\n",
       "      <th>CH2O</th>\n",
       "      <th>SCC</th>\n",
       "      <th>FAF</th>\n",
       "      <th>TUE</th>\n",
       "      <th>CALC</th>\n",
       "      <th>MTRANS</th>\n",
       "    </tr>\n",
       "  </thead>\n",
       "  <tbody>\n",
       "    <tr>\n",
       "      <th>0</th>\n",
       "      <td>20758</td>\n",
       "      <td>Male</td>\n",
       "      <td>26.899886</td>\n",
       "      <td>1.848294</td>\n",
       "      <td>120.644178</td>\n",
       "      <td>yes</td>\n",
       "      <td>yes</td>\n",
       "      <td>2.938616</td>\n",
       "      <td>3.000000</td>\n",
       "      <td>Sometimes</td>\n",
       "      <td>no</td>\n",
       "      <td>2.825629</td>\n",
       "      <td>no</td>\n",
       "      <td>0.855400</td>\n",
       "      <td>0.000000</td>\n",
       "      <td>Sometimes</td>\n",
       "      <td>Public_Transportation</td>\n",
       "    </tr>\n",
       "    <tr>\n",
       "      <th>1</th>\n",
       "      <td>20759</td>\n",
       "      <td>Female</td>\n",
       "      <td>21.000000</td>\n",
       "      <td>1.600000</td>\n",
       "      <td>66.000000</td>\n",
       "      <td>yes</td>\n",
       "      <td>yes</td>\n",
       "      <td>2.000000</td>\n",
       "      <td>1.000000</td>\n",
       "      <td>Sometimes</td>\n",
       "      <td>no</td>\n",
       "      <td>3.000000</td>\n",
       "      <td>no</td>\n",
       "      <td>1.000000</td>\n",
       "      <td>0.000000</td>\n",
       "      <td>Sometimes</td>\n",
       "      <td>Public_Transportation</td>\n",
       "    </tr>\n",
       "    <tr>\n",
       "      <th>2</th>\n",
       "      <td>20760</td>\n",
       "      <td>Female</td>\n",
       "      <td>26.000000</td>\n",
       "      <td>1.643355</td>\n",
       "      <td>111.600553</td>\n",
       "      <td>yes</td>\n",
       "      <td>yes</td>\n",
       "      <td>3.000000</td>\n",
       "      <td>3.000000</td>\n",
       "      <td>Sometimes</td>\n",
       "      <td>no</td>\n",
       "      <td>2.621877</td>\n",
       "      <td>no</td>\n",
       "      <td>0.000000</td>\n",
       "      <td>0.250502</td>\n",
       "      <td>Sometimes</td>\n",
       "      <td>Public_Transportation</td>\n",
       "    </tr>\n",
       "    <tr>\n",
       "      <th>3</th>\n",
       "      <td>20761</td>\n",
       "      <td>Male</td>\n",
       "      <td>20.979254</td>\n",
       "      <td>1.553127</td>\n",
       "      <td>103.669116</td>\n",
       "      <td>yes</td>\n",
       "      <td>yes</td>\n",
       "      <td>2.000000</td>\n",
       "      <td>2.977909</td>\n",
       "      <td>Sometimes</td>\n",
       "      <td>no</td>\n",
       "      <td>2.786417</td>\n",
       "      <td>no</td>\n",
       "      <td>0.094851</td>\n",
       "      <td>0.000000</td>\n",
       "      <td>Sometimes</td>\n",
       "      <td>Public_Transportation</td>\n",
       "    </tr>\n",
       "    <tr>\n",
       "      <th>4</th>\n",
       "      <td>20762</td>\n",
       "      <td>Female</td>\n",
       "      <td>26.000000</td>\n",
       "      <td>1.627396</td>\n",
       "      <td>104.835346</td>\n",
       "      <td>yes</td>\n",
       "      <td>yes</td>\n",
       "      <td>3.000000</td>\n",
       "      <td>3.000000</td>\n",
       "      <td>Sometimes</td>\n",
       "      <td>no</td>\n",
       "      <td>2.653531</td>\n",
       "      <td>no</td>\n",
       "      <td>0.000000</td>\n",
       "      <td>0.741069</td>\n",
       "      <td>Sometimes</td>\n",
       "      <td>Public_Transportation</td>\n",
       "    </tr>\n",
       "  </tbody>\n",
       "</table>\n",
       "</div>"
      ],
      "text/plain": [
       "      id  Gender        Age    Height      Weight  \\\n",
       "0  20758    Male  26.899886  1.848294  120.644178   \n",
       "1  20759  Female  21.000000  1.600000   66.000000   \n",
       "2  20760  Female  26.000000  1.643355  111.600553   \n",
       "3  20761    Male  20.979254  1.553127  103.669116   \n",
       "4  20762  Female  26.000000  1.627396  104.835346   \n",
       "\n",
       "  family_history_with_overweight FAVC      FCVC       NCP       CAEC SMOKE  \\\n",
       "0                            yes  yes  2.938616  3.000000  Sometimes    no   \n",
       "1                            yes  yes  2.000000  1.000000  Sometimes    no   \n",
       "2                            yes  yes  3.000000  3.000000  Sometimes    no   \n",
       "3                            yes  yes  2.000000  2.977909  Sometimes    no   \n",
       "4                            yes  yes  3.000000  3.000000  Sometimes    no   \n",
       "\n",
       "       CH2O SCC       FAF       TUE       CALC                 MTRANS  \n",
       "0  2.825629  no  0.855400  0.000000  Sometimes  Public_Transportation  \n",
       "1  3.000000  no  1.000000  0.000000  Sometimes  Public_Transportation  \n",
       "2  2.621877  no  0.000000  0.250502  Sometimes  Public_Transportation  \n",
       "3  2.786417  no  0.094851  0.000000  Sometimes  Public_Transportation  \n",
       "4  2.653531  no  0.000000  0.741069  Sometimes  Public_Transportation  "
      ]
     },
     "execution_count": 5,
     "metadata": {},
     "output_type": "execute_result"
    }
   ],
   "source": [
    "test=pd.read_csv(\"/kaggle/input/playground-series-s4e2/test.csv\")\n",
    "test.head()"
   ]
  },
  {
   "cell_type": "code",
   "execution_count": 6,
   "metadata": {
    "execution": {
     "iopub.execute_input": "2024-05-12T10:34:50.357438Z",
     "iopub.status.busy": "2024-05-12T10:34:50.357021Z",
     "iopub.status.idle": "2024-05-12T10:34:50.391731Z",
     "shell.execute_reply": "2024-05-12T10:34:50.390226Z",
     "shell.execute_reply.started": "2024-05-12T10:34:50.357405Z"
    }
   },
   "outputs": [
    {
     "name": "stdout",
     "output_type": "stream",
     "text": [
      "<class 'pandas.core.frame.DataFrame'>\n",
      "RangeIndex: 13840 entries, 0 to 13839\n",
      "Data columns (total 17 columns):\n",
      " #   Column                          Non-Null Count  Dtype  \n",
      "---  ------                          --------------  -----  \n",
      " 0   id                              13840 non-null  int64  \n",
      " 1   Gender                          13840 non-null  object \n",
      " 2   Age                             13840 non-null  float64\n",
      " 3   Height                          13840 non-null  float64\n",
      " 4   Weight                          13840 non-null  float64\n",
      " 5   family_history_with_overweight  13840 non-null  object \n",
      " 6   FAVC                            13840 non-null  object \n",
      " 7   FCVC                            13840 non-null  float64\n",
      " 8   NCP                             13840 non-null  float64\n",
      " 9   CAEC                            13840 non-null  object \n",
      " 10  SMOKE                           13840 non-null  object \n",
      " 11  CH2O                            13840 non-null  float64\n",
      " 12  SCC                             13840 non-null  object \n",
      " 13  FAF                             13840 non-null  float64\n",
      " 14  TUE                             13840 non-null  float64\n",
      " 15  CALC                            13840 non-null  object \n",
      " 16  MTRANS                          13840 non-null  object \n",
      "dtypes: float64(8), int64(1), object(8)\n",
      "memory usage: 1.8+ MB\n"
     ]
    }
   ],
   "source": [
    "test.info()"
   ]
  },
  {
   "cell_type": "code",
   "execution_count": 7,
   "metadata": {
    "execution": {
     "iopub.execute_input": "2024-05-12T10:35:02.000069Z",
     "iopub.status.busy": "2024-05-12T10:35:01.999093Z",
     "iopub.status.idle": "2024-05-12T10:35:02.057037Z",
     "shell.execute_reply": "2024-05-12T10:35:02.055801Z",
     "shell.execute_reply.started": "2024-05-12T10:35:02.000023Z"
    }
   },
   "outputs": [
    {
     "name": "stdout",
     "output_type": "stream",
     "text": [
      "<class 'pandas.core.frame.DataFrame'>\n",
      "RangeIndex: 34598 entries, 0 to 34597\n",
      "Data columns (total 18 columns):\n",
      " #   Column                          Non-Null Count  Dtype  \n",
      "---  ------                          --------------  -----  \n",
      " 0   id                              34598 non-null  int64  \n",
      " 1   Gender                          34598 non-null  object \n",
      " 2   Age                             34598 non-null  float64\n",
      " 3   Height                          34598 non-null  float64\n",
      " 4   Weight                          34598 non-null  float64\n",
      " 5   family_history_with_overweight  34598 non-null  object \n",
      " 6   FAVC                            34598 non-null  object \n",
      " 7   FCVC                            34598 non-null  float64\n",
      " 8   NCP                             34598 non-null  float64\n",
      " 9   CAEC                            34598 non-null  object \n",
      " 10  SMOKE                           34598 non-null  object \n",
      " 11  CH2O                            34598 non-null  float64\n",
      " 12  SCC                             34598 non-null  object \n",
      " 13  FAF                             34598 non-null  float64\n",
      " 14  TUE                             34598 non-null  float64\n",
      " 15  CALC                            34598 non-null  object \n",
      " 16  MTRANS                          34598 non-null  object \n",
      " 17  NObeyesdad                      20758 non-null  object \n",
      "dtypes: float64(8), int64(1), object(9)\n",
      "memory usage: 4.8+ MB\n"
     ]
    }
   ],
   "source": [
    "df=pd.concat([df,test], ignore_index=True)\n",
    "df.info()"
   ]
  },
  {
   "cell_type": "code",
   "execution_count": 10,
   "metadata": {
    "execution": {
     "iopub.execute_input": "2024-05-12T10:36:47.141611Z",
     "iopub.status.busy": "2024-05-12T10:36:47.141173Z",
     "iopub.status.idle": "2024-05-12T10:36:47.481215Z",
     "shell.execute_reply": "2024-05-12T10:36:47.480038Z",
     "shell.execute_reply.started": "2024-05-12T10:36:47.141578Z"
    }
   },
   "outputs": [
    {
     "data": {
      "text/plain": [
       "<Axes: xlabel='Gender', ylabel='count'>"
      ]
     },
     "execution_count": 10,
     "metadata": {},
     "output_type": "execute_result"
    },
    {
     "data": {
      "image/png": "[encoded data removed]",
      "text/plain": [
       "<Figure size 640x480 with 1 Axes>"
      ]
     },
     "metadata": {},
     "output_type": "display_data"
    }
   ],
   "source": [
    "sns.countplot(x=df[\"Gender\"])"
   ]
  },
  {
   "cell_type": "code",
   "execution_count": 11,
   "metadata": {
    "execution": {
     "iopub.execute_input": "2024-05-12T10:37:41.975549Z",
     "iopub.status.busy": "2024-05-12T10:37:41.975090Z",
     "iopub.status.idle": "2024-05-12T10:37:41.992158Z",
     "shell.execute_reply": "2024-05-12T10:37:41.990293Z",
     "shell.execute_reply.started": "2024-05-12T10:37:41.975514Z"
    }
   },
   "outputs": [],
   "source": [
    "df[\"Gender\"]=np.where(df[\"Gender\"]==\"Male\", 1, 0)"
   ]
  },
  {
   "cell_type": "code",
   "execution_count": 15,
   "metadata": {
    "execution": {
     "iopub.execute_input": "2024-05-12T10:39:19.174230Z",
     "iopub.status.busy": "2024-05-12T10:39:19.173820Z",
     "iopub.status.idle": "2024-05-12T10:39:19.548473Z",
     "shell.execute_reply": "2024-05-12T10:39:19.547039Z",
     "shell.execute_reply.started": "2024-05-12T10:39:19.174197Z"
    }
   },
   "outputs": [
    {
     "name": "stderr",
     "output_type": "stream",
     "text": [
      "/opt/conda/lib/python3.10/site-packages/seaborn/_oldcore.py:1119: FutureWarning: use_inf_as_na option is deprecated and will be removed in a future version. Convert inf values to NaN before operating instead.\n",
      "  with pd.option_context('mode.use_inf_as_na', True):\n"
     ]
    },
    {
     "data": {
      "image/png": "[encoded data removed]",
      "text/plain": [
       "<Figure size 640x480 with 1 Axes>"
      ]
     },
     "metadata": {},
     "output_type": "display_data"
    }
   ],
   "source": [
    "sns.histplot(x=df[\"Age\"], bins=30);"
   ]
  },
  {
   "cell_type": "code",
   "execution_count": 23,
   "metadata": {
    "execution": {
     "iopub.execute_input": "2024-05-12T10:43:35.327802Z",
     "iopub.status.busy": "2024-05-12T10:43:35.326554Z",
     "iopub.status.idle": "2024-05-12T10:43:35.344275Z",
     "shell.execute_reply": "2024-05-12T10:43:35.342704Z",
     "shell.execute_reply.started": "2024-05-12T10:43:35.327747Z"
    }
   },
   "outputs": [
    {
     "data": {
      "text/plain": [
       "family_history_with_overweight\n",
       "yes    28398\n",
       "no      6200\n",
       "Name: count, dtype: int64"
      ]
     },
     "execution_count": 23,
     "metadata": {},
     "output_type": "execute_result"
    }
   ],
   "source": [
    "df[\"family_history_with_overweight\"].value_counts()"
   ]
  },
  {
   "cell_type": "code",
   "execution_count": 22,
   "metadata": {
    "execution": {
     "iopub.execute_input": "2024-05-12T10:43:22.274272Z",
     "iopub.status.busy": "2024-05-12T10:43:22.273843Z",
     "iopub.status.idle": "2024-05-12T10:43:22.415575Z",
     "shell.execute_reply": "2024-05-12T10:43:22.412546Z",
     "shell.execute_reply.started": "2024-05-12T10:43:22.274238Z"
    }
   },
   "outputs": [
    {
     "data": {
      "image/png": "[encoded data removed]",
      "text/plain": [
       "<Figure size 640x480 with 1 Axes>"
      ]
     },
     "metadata": {},
     "output_type": "display_data"
    }
   ],
   "source": [
    "plt.pie(x=df[\"family_history_with_overweight\"].value_counts(), labels=[\"Yes\", \"No\"]);"
   ]
  },
  {
   "cell_type": "code",
   "execution_count": 25,
   "metadata": {
    "execution": {
     "iopub.execute_input": "2024-05-12T10:47:50.542500Z",
     "iopub.status.busy": "2024-05-12T10:47:50.541967Z",
     "iopub.status.idle": "2024-05-12T10:47:50.691935Z",
     "shell.execute_reply": "2024-05-12T10:47:50.690676Z",
     "shell.execute_reply.started": "2024-05-12T10:47:50.542452Z"
    }
   },
   "outputs": [
    {
     "data": {
      "image/png": "[encoded data removed]",
      "text/plain": [
       "<Figure size 640x480 with 1 Axes>"
      ]
     },
     "metadata": {},
     "output_type": "display_data"
    }
   ],
   "source": [
    "plt.pie(x=df[\"FAVC\"].value_counts(), labels=[\"Yes\", \"No\"]);"
   ]
  },
  {
   "cell_type": "code",
   "execution_count": 30,
   "metadata": {
    "execution": {
     "iopub.execute_input": "2024-05-12T10:49:00.888454Z",
     "iopub.status.busy": "2024-05-12T10:49:00.887949Z",
     "iopub.status.idle": "2024-05-12T10:49:01.039442Z",
     "shell.execute_reply": "2024-05-12T10:49:01.037758Z",
     "shell.execute_reply.started": "2024-05-12T10:49:00.888416Z"
    }
   },
   "outputs": [
    {
     "name": "stdout",
     "output_type": "stream",
     "text": [
      "SMOKE\n",
      "no     34173\n",
      "yes      425\n",
      "Name: count, dtype: int64\n"
     ]
    },
    {
     "data": {
      "image/png": "[encoded data removed]",
      "text/plain": [
       "<Figure size 640x480 with 1 Axes>"
      ]
     },
     "metadata": {},
     "output_type": "display_data"
    }
   ],
   "source": [
    "print(df[\"SMOKE\"].value_counts())\n",
    "plt.pie(x=df[\"SMOKE\"].value_counts(), labels=[\"No\", \"Yes\"]);"
   ]
  },
  {
   "cell_type": "code",
   "execution_count": 31,
   "metadata": {
    "execution": {
     "iopub.execute_input": "2024-05-12T10:49:39.987501Z",
     "iopub.status.busy": "2024-05-12T10:49:39.987053Z",
     "iopub.status.idle": "2024-05-12T10:49:40.135213Z",
     "shell.execute_reply": "2024-05-12T10:49:40.133695Z",
     "shell.execute_reply.started": "2024-05-12T10:49:39.987470Z"
    }
   },
   "outputs": [
    {
     "name": "stdout",
     "output_type": "stream",
     "text": [
      "SCC\n",
      "no     33447\n",
      "yes     1151\n",
      "Name: count, dtype: int64\n"
     ]
    },
    {
     "data": {
      "image/png": "[encoded data removed]",
      "text/plain": [
       "<Figure size 640x480 with 1 Axes>"
      ]
     },
     "metadata": {},
     "output_type": "display_data"
    }
   ],
   "source": [
    "print(df[\"SCC\"].value_counts())\n",
    "plt.pie(x=df[\"SCC\"].value_counts(), labels=[\"No\", \"Yes\"]);"
   ]
  },
  {
   "cell_type": "code",
   "execution_count": null,
   "metadata": {},
   "outputs": [],
   "source": [
    "df[\"family_history_with_overweight\"]=np.where(df[\"family_history_with_overweight\"]==\"yes\", 1, 0)\n",
    "df[\"FAVC\"]=np.where(df[\"FAVC\"]==\"yes\", 1, 0)\n",
    "df[\"SMOKE\"]=np.where(df[\"SMOKE\"]==\"yes\", 1, 0)\n",
    "df[\"SCC\"]=np.where(df[\"SCC\"]==\"yes\", 1, 0)"
   ]
  },
  {
   "cell_type": "code",
   "execution_count": 34,
   "metadata": {
    "execution": {
     "iopub.execute_input": "2024-05-12T10:51:22.999551Z",
     "iopub.status.busy": "2024-05-12T10:51:22.998995Z",
     "iopub.status.idle": "2024-05-12T10:51:23.188583Z",
     "shell.execute_reply": "2024-05-12T10:51:23.187564Z",
     "shell.execute_reply.started": "2024-05-12T10:51:22.999510Z"
    }
   },
   "outputs": [
    {
     "name": "stdout",
     "output_type": "stream",
     "text": [
      "CAEC\n",
      "Sometimes     29218\n",
      "Frequently     4089\n",
      "Always          837\n",
      "no              454\n",
      "Name: count, dtype: int64\n"
     ]
    },
    {
     "data": {
      "image/png": "[encoded data removed]",
      "text/plain": [
       "<Figure size 640x480 with 1 Axes>"
      ]
     },
     "metadata": {},
     "output_type": "display_data"
    }
   ],
   "source": [
    "print(df[\"CAEC\"].value_counts())\n",
    "plt.pie(x=df[\"CAEC\"].value_counts(), labels=df[\"CAEC\"].value_counts().index, );"
   ]
  },
  {
   "cell_type": "code",
   "execution_count": 36,
   "metadata": {
    "execution": {
     "iopub.execute_input": "2024-05-12T10:55:08.137164Z",
     "iopub.status.busy": "2024-05-12T10:55:08.136692Z",
     "iopub.status.idle": "2024-05-12T10:55:08.152493Z",
     "shell.execute_reply": "2024-05-12T10:55:08.150130Z",
     "shell.execute_reply.started": "2024-05-12T10:55:08.137130Z"
    }
   },
   "outputs": [],
   "source": [
    "d={\"Sometimes\":1, \"Frequently\":2, \"Always\":4, \"no\":0}\n",
    "df[\"CAEC\"]=df[\"CAEC\"].map(d)"
   ]
  },
  {
   "cell_type": "code",
   "execution_count": 38,
   "metadata": {
    "execution": {
     "iopub.execute_input": "2024-05-12T10:55:57.548745Z",
     "iopub.status.busy": "2024-05-12T10:55:57.548263Z",
     "iopub.status.idle": "2024-05-12T10:55:57.732168Z",
     "shell.execute_reply": "2024-05-12T10:55:57.730209Z",
     "shell.execute_reply.started": "2024-05-12T10:55:57.548712Z"
    }
   },
   "outputs": [
    {
     "name": "stdout",
     "output_type": "stream",
     "text": [
      "CALC\n",
      "Sometimes     25045\n",
      "no             8676\n",
      "Frequently      875\n",
      "Always            2\n",
      "Name: count, dtype: int64\n"
     ]
    },
    {
     "data": {
      "image/png": "[encoded data removed]",
      "text/plain": [
       "<Figure size 640x480 with 1 Axes>"
      ]
     },
     "metadata": {},
     "output_type": "display_data"
    }
   ],
   "source": [
    "print(df[\"CALC\"].value_counts())\n",
    "plt.pie(x=df[\"CALC\"].value_counts(), labels=df[\"CALC\"].value_counts().index, );"
   ]
  },
  {
   "cell_type": "code",
   "execution_count": 39,
   "metadata": {
    "execution": {
     "iopub.execute_input": "2024-05-12T10:56:27.314766Z",
     "iopub.status.busy": "2024-05-12T10:56:27.314226Z",
     "iopub.status.idle": "2024-05-12T10:56:27.329282Z",
     "shell.execute_reply": "2024-05-12T10:56:27.327461Z",
     "shell.execute_reply.started": "2024-05-12T10:56:27.314727Z"
    }
   },
   "outputs": [],
   "source": [
    "d={\"Sometimes\":1, \"Frequently\":2, \"Always\":4, \"no\":0}\n",
    "df[\"CALC\"]=df[\"CALC\"].map(d)"
   ]
  },
  {
   "cell_type": "code",
   "execution_count": 40,
   "metadata": {
    "execution": {
     "iopub.execute_input": "2024-05-12T10:57:07.293204Z",
     "iopub.status.busy": "2024-05-12T10:57:07.292747Z",
     "iopub.status.idle": "2024-05-12T10:57:07.491161Z",
     "shell.execute_reply": "2024-05-12T10:57:07.489732Z",
     "shell.execute_reply.started": "2024-05-12T10:57:07.293163Z"
    }
   },
   "outputs": [
    {
     "name": "stdout",
     "output_type": "stream",
     "text": [
      "MTRANS\n",
      "Public_Transportation    27798\n",
      "Automobile                5939\n",
      "Walking                    747\n",
      "Motorbike                   57\n",
      "Bike                        57\n",
      "Name: count, dtype: int64\n"
     ]
    },
    {
     "data": {
      "image/png": "[encoded data removed]",
      "text/plain": [
       "<Figure size 640x480 with 1 Axes>"
      ]
     },
     "metadata": {},
     "output_type": "display_data"
    }
   ],
   "source": [
    "print(df[\"MTRANS\"].value_counts())\n",
    "plt.pie(x=df[\"MTRANS\"].value_counts(), labels=df[\"MTRANS\"].value_counts().index, );"
   ]
  },
  {
   "cell_type": "code",
   "execution_count": 42,
   "metadata": {
    "execution": {
     "iopub.execute_input": "2024-05-12T10:59:44.292113Z",
     "iopub.status.busy": "2024-05-12T10:59:44.291692Z",
     "iopub.status.idle": "2024-05-12T10:59:44.306981Z",
     "shell.execute_reply": "2024-05-12T10:59:44.305453Z",
     "shell.execute_reply.started": "2024-05-12T10:59:44.292082Z"
    }
   },
   "outputs": [],
   "source": [
    "df[\"Walking\"]=np.where(df[\"MTRANS\"]==\"Walking\", 0, 1)"
   ]
  },
  {
   "cell_type": "code",
   "execution_count": 44,
   "metadata": {
    "execution": {
     "iopub.execute_input": "2024-05-12T11:00:40.880796Z",
     "iopub.status.busy": "2024-05-12T11:00:40.880279Z",
     "iopub.status.idle": "2024-05-12T11:00:41.091656Z",
     "shell.execute_reply": "2024-05-12T11:00:41.089713Z",
     "shell.execute_reply.started": "2024-05-12T11:00:40.880759Z"
    }
   },
   "outputs": [
    {
     "name": "stdout",
     "output_type": "stream",
     "text": [
      "NObeyesdad\n",
      "Obesity_Type_III       4046\n",
      "Obesity_Type_II        3248\n",
      "Normal_Weight          3082\n",
      "Obesity_Type_I         2910\n",
      "Insufficient_Weight    2523\n",
      "Overweight_Level_II    2522\n",
      "Overweight_Level_I     2427\n",
      "Name: count, dtype: int64\n"
     ]
    },
    {
     "data": {
      "image/png": "[encoded data removed]",
      "text/plain": [
       "<Figure size 640x480 with 1 Axes>"
      ]
     },
     "metadata": {},
     "output_type": "display_data"
    }
   ],
   "source": [
    "print(df[\"NObeyesdad\"].value_counts())\n",
    "plt.pie(x=df[\"NObeyesdad\"].value_counts(), labels=df[\"NObeyesdad\"].value_counts().index, );"
   ]
  },
  {
   "cell_type": "code",
   "execution_count": 45,
   "metadata": {
    "execution": {
     "iopub.execute_input": "2024-05-12T11:04:47.294265Z",
     "iopub.status.busy": "2024-05-12T11:04:47.293813Z",
     "iopub.status.idle": "2024-05-12T11:04:47.310026Z",
     "shell.execute_reply": "2024-05-12T11:04:47.308722Z",
     "shell.execute_reply.started": "2024-05-12T11:04:47.294233Z"
    }
   },
   "outputs": [],
   "source": [
    "d={\n",
    "    \"Insufficient_Weight\":0,\n",
    "    \"Normal_Weight\":1,\n",
    "    \"Overweight_Level_I\":2,\n",
    "    \"Overweight_Level_II\":3,\n",
    "    \"Obesity_Type_I\":4,\n",
    "    \"Obesity_Type_II\":5,\n",
    "    \"Obesity_Type_III\":6\n",
    "}\n",
    "df[\"Class\"]=df[\"NObeyesdad\"].map(d)"
   ]
  },
  {
   "cell_type": "code",
   "execution_count": 47,
   "metadata": {
    "execution": {
     "iopub.execute_input": "2024-05-12T11:05:08.142798Z",
     "iopub.status.busy": "2024-05-12T11:05:08.140626Z",
     "iopub.status.idle": "2024-05-12T11:05:08.177608Z",
     "shell.execute_reply": "2024-05-12T11:05:08.176395Z",
     "shell.execute_reply.started": "2024-05-12T11:05:08.142741Z"
    }
   },
   "outputs": [
    {
     "data": {
      "text/html": [
       "<div>\n",
       "<style scoped>\n",
       "    .dataframe tbody tr th:only-of-type {\n",
       "        vertical-align: middle;\n",
       "    }\n",
       "\n",
       "    .dataframe tbody tr th {\n",
       "        vertical-align: top;\n",
       "    }\n",
       "\n",
       "    .dataframe thead th {\n",
       "        text-align: right;\n",
       "    }\n",
       "</style>\n",
       "<table border=\"1\" class=\"dataframe\">\n",
       "  <thead>\n",
       "    <tr style=\"text-align: right;\">\n",
       "      <th></th>\n",
       "      <th>id</th>\n",
       "      <th>Gender</th>\n",
       "      <th>Age</th>\n",
       "      <th>Height</th>\n",
       "      <th>Weight</th>\n",
       "      <th>family_history_with_overweight</th>\n",
       "      <th>FAVC</th>\n",
       "      <th>FCVC</th>\n",
       "      <th>NCP</th>\n",
       "      <th>CAEC</th>\n",
       "      <th>SMOKE</th>\n",
       "      <th>CH2O</th>\n",
       "      <th>SCC</th>\n",
       "      <th>FAF</th>\n",
       "      <th>TUE</th>\n",
       "      <th>CALC</th>\n",
       "      <th>MTRANS</th>\n",
       "      <th>NObeyesdad</th>\n",
       "      <th>Walking</th>\n",
       "      <th>Class</th>\n",
       "    </tr>\n",
       "  </thead>\n",
       "  <tbody>\n",
       "    <tr>\n",
       "      <th>18370</th>\n",
       "      <td>18370</td>\n",
       "      <td>1</td>\n",
       "      <td>21.000000</td>\n",
       "      <td>1.690000</td>\n",
       "      <td>64.400000</td>\n",
       "      <td>1</td>\n",
       "      <td>1</td>\n",
       "      <td>3.000000</td>\n",
       "      <td>3.000000</td>\n",
       "      <td>1</td>\n",
       "      <td>0</td>\n",
       "      <td>1.000000</td>\n",
       "      <td>0</td>\n",
       "      <td>0.000000</td>\n",
       "      <td>0.000000</td>\n",
       "      <td>1</td>\n",
       "      <td>Walking</td>\n",
       "      <td>Normal_Weight</td>\n",
       "      <td>0</td>\n",
       "      <td>1.0</td>\n",
       "    </tr>\n",
       "    <tr>\n",
       "      <th>4287</th>\n",
       "      <td>4287</td>\n",
       "      <td>0</td>\n",
       "      <td>21.282530</td>\n",
       "      <td>1.742500</td>\n",
       "      <td>133.554686</td>\n",
       "      <td>1</td>\n",
       "      <td>1</td>\n",
       "      <td>3.000000</td>\n",
       "      <td>3.000000</td>\n",
       "      <td>1</td>\n",
       "      <td>0</td>\n",
       "      <td>1.716590</td>\n",
       "      <td>0</td>\n",
       "      <td>1.464674</td>\n",
       "      <td>0.764717</td>\n",
       "      <td>1</td>\n",
       "      <td>Public_Transportation</td>\n",
       "      <td>Obesity_Type_III</td>\n",
       "      <td>1</td>\n",
       "      <td>6.0</td>\n",
       "    </tr>\n",
       "    <tr>\n",
       "      <th>31673</th>\n",
       "      <td>31673</td>\n",
       "      <td>0</td>\n",
       "      <td>26.000000</td>\n",
       "      <td>1.580000</td>\n",
       "      <td>73.000000</td>\n",
       "      <td>1</td>\n",
       "      <td>0</td>\n",
       "      <td>3.000000</td>\n",
       "      <td>3.000000</td>\n",
       "      <td>1</td>\n",
       "      <td>0</td>\n",
       "      <td>3.000000</td>\n",
       "      <td>0</td>\n",
       "      <td>2.000000</td>\n",
       "      <td>1.000000</td>\n",
       "      <td>1</td>\n",
       "      <td>Public_Transportation</td>\n",
       "      <td>NaN</td>\n",
       "      <td>1</td>\n",
       "      <td>NaN</td>\n",
       "    </tr>\n",
       "    <tr>\n",
       "      <th>31632</th>\n",
       "      <td>31632</td>\n",
       "      <td>1</td>\n",
       "      <td>22.000000</td>\n",
       "      <td>1.600000</td>\n",
       "      <td>94.000000</td>\n",
       "      <td>1</td>\n",
       "      <td>1</td>\n",
       "      <td>3.000000</td>\n",
       "      <td>3.000000</td>\n",
       "      <td>1</td>\n",
       "      <td>0</td>\n",
       "      <td>2.000000</td>\n",
       "      <td>0</td>\n",
       "      <td>0.000000</td>\n",
       "      <td>1.000000</td>\n",
       "      <td>1</td>\n",
       "      <td>Public_Transportation</td>\n",
       "      <td>NaN</td>\n",
       "      <td>1</td>\n",
       "      <td>NaN</td>\n",
       "    </tr>\n",
       "    <tr>\n",
       "      <th>20639</th>\n",
       "      <td>20639</td>\n",
       "      <td>1</td>\n",
       "      <td>19.000000</td>\n",
       "      <td>1.800000</td>\n",
       "      <td>85.000000</td>\n",
       "      <td>0</td>\n",
       "      <td>1</td>\n",
       "      <td>2.000000</td>\n",
       "      <td>4.000000</td>\n",
       "      <td>2</td>\n",
       "      <td>0</td>\n",
       "      <td>3.000000</td>\n",
       "      <td>1</td>\n",
       "      <td>2.000000</td>\n",
       "      <td>1.000000</td>\n",
       "      <td>0</td>\n",
       "      <td>Walking</td>\n",
       "      <td>Overweight_Level_I</td>\n",
       "      <td>0</td>\n",
       "      <td>2.0</td>\n",
       "    </tr>\n",
       "    <tr>\n",
       "      <th>9536</th>\n",
       "      <td>9536</td>\n",
       "      <td>1</td>\n",
       "      <td>22.580038</td>\n",
       "      <td>1.825718</td>\n",
       "      <td>121.560938</td>\n",
       "      <td>1</td>\n",
       "      <td>1</td>\n",
       "      <td>3.000000</td>\n",
       "      <td>2.272801</td>\n",
       "      <td>1</td>\n",
       "      <td>0</td>\n",
       "      <td>1.850344</td>\n",
       "      <td>0</td>\n",
       "      <td>0.344013</td>\n",
       "      <td>0.000000</td>\n",
       "      <td>1</td>\n",
       "      <td>Public_Transportation</td>\n",
       "      <td>Obesity_Type_II</td>\n",
       "      <td>1</td>\n",
       "      <td>5.0</td>\n",
       "    </tr>\n",
       "    <tr>\n",
       "      <th>24620</th>\n",
       "      <td>24620</td>\n",
       "      <td>0</td>\n",
       "      <td>21.000000</td>\n",
       "      <td>1.630000</td>\n",
       "      <td>66.000000</td>\n",
       "      <td>1</td>\n",
       "      <td>1</td>\n",
       "      <td>3.000000</td>\n",
       "      <td>1.000000</td>\n",
       "      <td>1</td>\n",
       "      <td>0</td>\n",
       "      <td>3.000000</td>\n",
       "      <td>0</td>\n",
       "      <td>1.000000</td>\n",
       "      <td>0.000000</td>\n",
       "      <td>1</td>\n",
       "      <td>Public_Transportation</td>\n",
       "      <td>NaN</td>\n",
       "      <td>1</td>\n",
       "      <td>NaN</td>\n",
       "    </tr>\n",
       "    <tr>\n",
       "      <th>6184</th>\n",
       "      <td>6184</td>\n",
       "      <td>0</td>\n",
       "      <td>22.829753</td>\n",
       "      <td>1.732951</td>\n",
       "      <td>133.043941</td>\n",
       "      <td>1</td>\n",
       "      <td>1</td>\n",
       "      <td>3.000000</td>\n",
       "      <td>3.000000</td>\n",
       "      <td>1</td>\n",
       "      <td>0</td>\n",
       "      <td>2.675567</td>\n",
       "      <td>0</td>\n",
       "      <td>1.601950</td>\n",
       "      <td>0.265790</td>\n",
       "      <td>1</td>\n",
       "      <td>Public_Transportation</td>\n",
       "      <td>Obesity_Type_III</td>\n",
       "      <td>1</td>\n",
       "      <td>6.0</td>\n",
       "    </tr>\n",
       "    <tr>\n",
       "      <th>17132</th>\n",
       "      <td>17132</td>\n",
       "      <td>1</td>\n",
       "      <td>31.386405</td>\n",
       "      <td>1.764140</td>\n",
       "      <td>119.081804</td>\n",
       "      <td>1</td>\n",
       "      <td>1</td>\n",
       "      <td>2.964319</td>\n",
       "      <td>3.000000</td>\n",
       "      <td>1</td>\n",
       "      <td>1</td>\n",
       "      <td>1.971774</td>\n",
       "      <td>0</td>\n",
       "      <td>0.945220</td>\n",
       "      <td>0.360370</td>\n",
       "      <td>1</td>\n",
       "      <td>Automobile</td>\n",
       "      <td>Obesity_Type_II</td>\n",
       "      <td>1</td>\n",
       "      <td>5.0</td>\n",
       "    </tr>\n",
       "    <tr>\n",
       "      <th>20377</th>\n",
       "      <td>20377</td>\n",
       "      <td>0</td>\n",
       "      <td>21.000000</td>\n",
       "      <td>1.630000</td>\n",
       "      <td>68.000000</td>\n",
       "      <td>1</td>\n",
       "      <td>1</td>\n",
       "      <td>2.000000</td>\n",
       "      <td>3.000000</td>\n",
       "      <td>1</td>\n",
       "      <td>0</td>\n",
       "      <td>3.000000</td>\n",
       "      <td>0</td>\n",
       "      <td>2.000000</td>\n",
       "      <td>1.000000</td>\n",
       "      <td>1</td>\n",
       "      <td>Automobile</td>\n",
       "      <td>Overweight_Level_I</td>\n",
       "      <td>1</td>\n",
       "      <td>2.0</td>\n",
       "    </tr>\n",
       "  </tbody>\n",
       "</table>\n",
       "</div>"
      ],
      "text/plain": [
       "          id  Gender        Age    Height      Weight  \\\n",
       "18370  18370       1  21.000000  1.690000   64.400000   \n",
       "4287    4287       0  21.282530  1.742500  133.554686   \n",
       "31673  31673       0  26.000000  1.580000   73.000000   \n",
       "31632  31632       1  22.000000  1.600000   94.000000   \n",
       "20639  20639       1  19.000000  1.800000   85.000000   \n",
       "9536    9536       1  22.580038  1.825718  121.560938   \n",
       "24620  24620       0  21.000000  1.630000   66.000000   \n",
       "6184    6184       0  22.829753  1.732951  133.043941   \n",
       "17132  17132       1  31.386405  1.764140  119.081804   \n",
       "20377  20377       0  21.000000  1.630000   68.000000   \n",
       "\n",
       "       family_history_with_overweight  FAVC      FCVC       NCP  CAEC  SMOKE  \\\n",
       "18370                               1     1  3.000000  3.000000     1      0   \n",
       "4287                                1     1  3.000000  3.000000     1      0   \n",
       "31673                               1     0  3.000000  3.000000     1      0   \n",
       "31632                               1     1  3.000000  3.000000     1      0   \n",
       "20639                               0     1  2.000000  4.000000     2      0   \n",
       "9536                                1     1  3.000000  2.272801     1      0   \n",
       "24620                               1     1  3.000000  1.000000     1      0   \n",
       "6184                                1     1  3.000000  3.000000     1      0   \n",
       "17132                               1     1  2.964319  3.000000     1      1   \n",
       "20377                               1     1  2.000000  3.000000     1      0   \n",
       "\n",
       "           CH2O  SCC       FAF       TUE  CALC                 MTRANS  \\\n",
       "18370  1.000000    0  0.000000  0.000000     1                Walking   \n",
       "4287   1.716590    0  1.464674  0.764717     1  Public_Transportation   \n",
       "31673  3.000000    0  2.000000  1.000000     1  Public_Transportation   \n",
       "31632  2.000000    0  0.000000  1.000000     1  Public_Transportation   \n",
       "20639  3.000000    1  2.000000  1.000000     0                Walking   \n",
       "9536   1.850344    0  0.344013  0.000000     1  Public_Transportation   \n",
       "24620  3.000000    0  1.000000  0.000000     1  Public_Transportation   \n",
       "6184   2.675567    0  1.601950  0.265790     1  Public_Transportation   \n",
       "17132  1.971774    0  0.945220  0.360370     1             Automobile   \n",
       "20377  3.000000    0  2.000000  1.000000     1             Automobile   \n",
       "\n",
       "               NObeyesdad  Walking  Class  \n",
       "18370       Normal_Weight        0    1.0  \n",
       "4287     Obesity_Type_III        1    6.0  \n",
       "31673                 NaN        1    NaN  \n",
       "31632                 NaN        1    NaN  \n",
       "20639  Overweight_Level_I        0    2.0  \n",
       "9536      Obesity_Type_II        1    5.0  \n",
       "24620                 NaN        1    NaN  \n",
       "6184     Obesity_Type_III        1    6.0  \n",
       "17132     Obesity_Type_II        1    5.0  \n",
       "20377  Overweight_Level_I        1    2.0  "
      ]
     },
     "execution_count": 47,
     "metadata": {},
     "output_type": "execute_result"
    }
   ],
   "source": [
    "df.sample(10)"
   ]
  },
  {
   "cell_type": "markdown",
   "metadata": {},
   "source": [
    "## Modelleme"
   ]
  },
  {
   "cell_type": "code",
   "execution_count": 48,
   "metadata": {
    "execution": {
     "iopub.execute_input": "2024-05-12T11:08:50.097833Z",
     "iopub.status.busy": "2024-05-12T11:08:50.097396Z",
     "iopub.status.idle": "2024-05-12T11:08:50.608175Z",
     "shell.execute_reply": "2024-05-12T11:08:50.606667Z",
     "shell.execute_reply.started": "2024-05-12T11:08:50.097800Z"
    }
   },
   "outputs": [],
   "source": [
    "from sklearn.naive_bayes import GaussianNB\n",
    "from sklearn.naive_bayes import BernoulliNB\n",
    "from sklearn.linear_model import LogisticRegression\n",
    "from sklearn.tree import DecisionTreeClassifier\n",
    "from sklearn.ensemble import RandomForestClassifier\n",
    "from sklearn.ensemble import GradientBoostingClassifier\n",
    "from sklearn.neighbors import KNeighborsClassifier\n",
    "\n",
    "from sklearn.metrics import accuracy_score, precision_score, recall_score\n",
    "from sklearn.metrics import f1_score, confusion_matrix, classification_report\n",
    "from sklearn.model_selection import train_test_split\n",
    "\n",
    "g = GaussianNB()\n",
    "b = BernoulliNB()\n",
    "l = LogisticRegression()\n",
    "d = DecisionTreeClassifier()\n",
    "r = RandomForestClassifier()\n",
    "gb= GradientBoostingClassifier()\n",
    "kn= KNeighborsClassifier()\n",
    "\n",
    "def algo_test(x, y):\n",
    "    modeller=[g, b, l, d, r, gb, kn]\n",
    "    isimler=[\"GaussianNB\", \"BernoulliNB\", \"LogisticRegression\", \"DecisionTreeClassifier\", \n",
    "             \"RandomForestClassifier\", \"GradientBoostingClassifier\", \"KNeighborsClassifier\"]\n",
    "\n",
    "    x_train, x_test, y_train, y_test = train_test_split(x, y, test_size=.3, random_state = 42)\n",
    "    \n",
    "    accuracy = []\n",
    "    precision = []\n",
    "    recall = []\n",
    "    f1 = []\n",
    "    mdl=[]\n",
    "\n",
    "    print(\"Veriler hazır modeller deneniyor\")\n",
    "    for model in modeller:\n",
    "        print(model, \" modeli eğitiliyor!..\")\n",
    "        model=model.fit(x_train,y_train)\n",
    "        tahmin=model.predict(np.array(x_test) if model==kn else x_test)\n",
    "        mdl.append(model)\n",
    "        accuracy.append(accuracy_score(y_test, tahmin))\n",
    "        precision.append(precision_score(y_test, tahmin, average=\"micro\"))\n",
    "        recall.append(recall_score(y_test, tahmin, average=\"micro\"))\n",
    "        f1.append(f1_score(y_test, tahmin, average=\"micro\"))\n",
    "        print(confusion_matrix(y_test, tahmin))\n",
    "\n",
    "    print(\"Eğitim tamamlandı.\")\n",
    "    \n",
    "    metrics=pd.DataFrame(columns=[\"Accuracy\", \"Precision\", \"Recall\", \"F1\", \"Model\"], index=isimler)\n",
    "    metrics[\"Accuracy\"] = accuracy\n",
    "    metrics[\"Precision\"] = precision  \n",
    "    metrics[\"Recall\"] = recall\n",
    "    metrics[\"F1\"] = f1\n",
    "    metrics[\"Model\"]=mdl\n",
    "\n",
    "    metrics.sort_values(\"F1\", ascending=False, inplace=True)\n",
    "\n",
    "    print(\"En başarılı model: \", metrics.iloc[0].name)\n",
    "    model=metrics.iloc[0,-1]\n",
    "    tahmin=model.predict(np.array(x_test) if model==kn else x_test)\n",
    "    print(\"Confusion Matrix:\")\n",
    "    print(confusion_matrix(y_test, tahmin))\n",
    "    print(\"classification Report:\")\n",
    "    print(classification_report(y_test, tahmin))\n",
    "    print(\"Diğer Modeller:\")\n",
    "    \n",
    "    return metrics.drop(\"Model\", axis=1)"
   ]
  },
  {
   "cell_type": "code",
   "execution_count": 49,
   "metadata": {
    "execution": {
     "iopub.execute_input": "2024-05-12T11:08:54.265250Z",
     "iopub.status.busy": "2024-05-12T11:08:54.264189Z",
     "iopub.status.idle": "2024-05-12T11:08:54.288080Z",
     "shell.execute_reply": "2024-05-12T11:08:54.286907Z",
     "shell.execute_reply.started": "2024-05-12T11:08:54.265209Z"
    }
   },
   "outputs": [
    {
     "name": "stdout",
     "output_type": "stream",
     "text": [
      "<class 'pandas.core.frame.DataFrame'>\n",
      "RangeIndex: 34598 entries, 0 to 34597\n",
      "Data columns (total 20 columns):\n",
      " #   Column                          Non-Null Count  Dtype  \n",
      "---  ------                          --------------  -----  \n",
      " 0   id                              34598 non-null  int64  \n",
      " 1   Gender                          34598 non-null  int64  \n",
      " 2   Age                             34598 non-null  float64\n",
      " 3   Height                          34598 non-null  float64\n",
      " 4   Weight                          34598 non-null  float64\n",
      " 5   family_history_with_overweight  34598 non-null  int64  \n",
      " 6   FAVC                            34598 non-null  int64  \n",
      " 7   FCVC                            34598 non-null  float64\n",
      " 8   NCP                             34598 non-null  float64\n",
      " 9   CAEC                            34598 non-null  int64  \n",
      " 10  SMOKE                           34598 non-null  int64  \n",
      " 11  CH2O                            34598 non-null  float64\n",
      " 12  SCC                             34598 non-null  int64  \n",
      " 13  FAF                             34598 non-null  float64\n",
      " 14  TUE                             34598 non-null  float64\n",
      " 15  CALC                            34598 non-null  int64  \n",
      " 16  MTRANS                          34598 non-null  object \n",
      " 17  NObeyesdad                      20758 non-null  object \n",
      " 18  Walking                         34598 non-null  int64  \n",
      " 19  Class                           20758 non-null  float64\n",
      "dtypes: float64(9), int64(9), object(2)\n",
      "memory usage: 5.3+ MB\n"
     ]
    }
   ],
   "source": [
    "df.info()"
   ]
  },
  {
   "cell_type": "code",
   "execution_count": 50,
   "metadata": {
    "execution": {
     "iopub.execute_input": "2024-05-12T11:10:36.989076Z",
     "iopub.status.busy": "2024-05-12T11:10:36.988600Z",
     "iopub.status.idle": "2024-05-12T11:10:36.997113Z",
     "shell.execute_reply": "2024-05-12T11:10:36.995566Z",
     "shell.execute_reply.started": "2024-05-12T11:10:36.989043Z"
    }
   },
   "outputs": [],
   "source": [
    "train=df.iloc[:20758]\n",
    "test=df.iloc[20758:]"
   ]
  },
  {
   "cell_type": "code",
   "execution_count": 54,
   "metadata": {
    "execution": {
     "iopub.execute_input": "2024-05-12T11:14:03.644926Z",
     "iopub.status.busy": "2024-05-12T11:14:03.643280Z",
     "iopub.status.idle": "2024-05-12T11:14:03.662319Z",
     "shell.execute_reply": "2024-05-12T11:14:03.660777Z",
     "shell.execute_reply.started": "2024-05-12T11:14:03.644873Z"
    }
   },
   "outputs": [
    {
     "data": {
      "text/plain": [
       "((20758, 16), (20758, 1), (13840, 16))"
      ]
     },
     "execution_count": 54,
     "metadata": {},
     "output_type": "execute_result"
    }
   ],
   "source": [
    "x=train.drop([\"id\", \"MTRANS\", \"NObeyesdad\", \"Class\"], axis=1)\n",
    "y=train[[\"Class\"]]\n",
    "xt=test.drop([\"id\", \"MTRANS\", \"NObeyesdad\", \"Class\"], axis=1)\n",
    "x.shape, y.shape, xt.shape"
   ]
  },
  {
   "cell_type": "code",
   "execution_count": 53,
   "metadata": {
    "execution": {
     "iopub.execute_input": "2024-05-12T11:12:27.737974Z",
     "iopub.status.busy": "2024-05-12T11:12:27.737464Z",
     "iopub.status.idle": "2024-05-12T11:12:51.602873Z",
     "shell.execute_reply": "2024-05-12T11:12:51.601679Z",
     "shell.execute_reply.started": "2024-05-12T11:12:27.737934Z"
    }
   },
   "outputs": [
    {
     "name": "stdout",
     "output_type": "stream",
     "text": [
      "Veriler hazır modeller deneniyor\n",
      "GaussianNB()  modeli eğitiliyor!..\n",
      "[[ 657   63    1    0   27    0    7]\n",
      " [ 282  339   65   28  151    3   39]\n",
      " [  25   92  213   35  322   36   10]\n",
      " [   4   55   40  149  405  108    2]\n",
      " [   2   13   18   34  516  261   14]\n",
      " [   0    1    2   12   49  941    0]\n",
      " [   1    0    2    1    0    1 1202]]\n",
      "BernoulliNB()  modeli eğitiliyor!..\n",
      "[[ 321  123   24   14  149   88   36]\n",
      " [ 199  196  101   68  178   96   69]\n",
      " [ 118   75  190   26   95  162   67]\n",
      " [  33   45   26  123  253  245   38]\n",
      " [   8   18   64   23  493  174   78]\n",
      " [   0    4    1   10  223  767    0]\n",
      " [   1    1    5    0    1    1 1198]]\n",
      "LogisticRegression()  modeli eğitiliyor!..\n"
     ]
    },
    {
     "name": "stderr",
     "output_type": "stream",
     "text": [
      "/opt/conda/lib/python3.10/site-packages/sklearn/utils/validation.py:1143: DataConversionWarning: A column-vector y was passed when a 1d array was expected. Please change the shape of y to (n_samples, ), for example using ravel().\n",
      "  y = column_or_1d(y, warn=True)\n",
      "/opt/conda/lib/python3.10/site-packages/sklearn/utils/validation.py:1143: DataConversionWarning: A column-vector y was passed when a 1d array was expected. Please change the shape of y to (n_samples, ), for example using ravel().\n",
      "  y = column_or_1d(y, warn=True)\n",
      "/opt/conda/lib/python3.10/site-packages/sklearn/utils/validation.py:1143: DataConversionWarning: A column-vector y was passed when a 1d array was expected. Please change the shape of y to (n_samples, ), for example using ravel().\n",
      "  y = column_or_1d(y, warn=True)\n",
      "/opt/conda/lib/python3.10/site-packages/sklearn/linear_model/_logistic.py:458: ConvergenceWarning: lbfgs failed to converge (status=1):\n",
      "STOP: TOTAL NO. of ITERATIONS REACHED LIMIT.\n",
      "\n",
      "Increase the number of iterations (max_iter) or scale the data as shown in:\n",
      "    https://scikit-learn.org/stable/modules/preprocessing.html\n",
      "Please also refer to the documentation for alternative solver options:\n",
      "    https://scikit-learn.org/stable/modules/linear_model.html#logistic-regression\n",
      "  n_iter_i = _check_optimize_result(\n"
     ]
    },
    {
     "name": "stdout",
     "output_type": "stream",
     "text": [
      "[[ 590  149   13    2    0    0    1]\n",
      " [ 170  559  128   26   16    3    5]\n",
      " [   5  159  348   92   83   27   19]\n",
      " [   2   50  161  285  186   61   18]\n",
      " [   0   12   93  131  419  143   60]\n",
      " [   0    0    0   12   85  900    8]\n",
      " [   1    0    0    0    5    7 1194]]\n",
      "DecisionTreeClassifier()  modeli eğitiliyor!..\n",
      "[[ 660   83    7    4    1    0    0]\n",
      " [  67  712  107   19    2    0    0]\n",
      " [   5   87  502  100   34    2    3]\n",
      " [   1   21  114  518   99   10    0]\n",
      " [   2    4   40   92  682   31    7]\n",
      " [   0    0    0    5   45  951    4]\n",
      " [   1    0    0    0    5    1 1200]]\n",
      "RandomForestClassifier()  modeli eğitiliyor!..\n"
     ]
    },
    {
     "name": "stderr",
     "output_type": "stream",
     "text": [
      "/tmp/ipykernel_33/3015561559.py:37: DataConversionWarning: A column-vector y was passed when a 1d array was expected. Please change the shape of y to (n_samples,), for example using ravel().\n",
      "  model=model.fit(x_train,y_train)\n"
     ]
    },
    {
     "name": "stdout",
     "output_type": "stream",
     "text": [
      "[[ 683   68    3    1    0    0    0]\n",
      " [  40  806   48   13    0    0    0]\n",
      " [   3   67  553   92   18    0    0]\n",
      " [   0   16   73  604   64    6    0]\n",
      " [   2    2   27   57  743   24    3]\n",
      " [   0    0    0    4   19  980    2]\n",
      " [   1    0    1    0    0    1 1204]]\n",
      "GradientBoostingClassifier()  modeli eğitiliyor!..\n"
     ]
    },
    {
     "name": "stderr",
     "output_type": "stream",
     "text": [
      "/opt/conda/lib/python3.10/site-packages/sklearn/ensemble/_gb.py:437: DataConversionWarning: A column-vector y was passed when a 1d array was expected. Please change the shape of y to (n_samples, ), for example using ravel().\n",
      "  y = column_or_1d(y, warn=True)\n"
     ]
    },
    {
     "name": "stdout",
     "output_type": "stream",
     "text": [
      "[[ 698   52    3    1    1    0    0]\n",
      " [  33  802   62   10    0    0    0]\n",
      " [   2   54  579   78   20    0    0]\n",
      " [   0   14   75  600   64   10    0]\n",
      " [   2    2   23   51  757   20    3]\n",
      " [   0    0    0    2   21  980    2]\n",
      " [   1    0    0    0    1    1 1204]]\n",
      "KNeighborsClassifier()  modeli eğitiliyor!..\n"
     ]
    },
    {
     "name": "stderr",
     "output_type": "stream",
     "text": [
      "/opt/conda/lib/python3.10/site-packages/sklearn/neighbors/_classification.py:215: DataConversionWarning: A column-vector y was passed when a 1d array was expected. Please change the shape of y to (n_samples,), for example using ravel().\n",
      "  return self._fit(X, y)\n",
      "/opt/conda/lib/python3.10/site-packages/sklearn/base.py:439: UserWarning: X does not have valid feature names, but KNeighborsClassifier was fitted with feature names\n",
      "  warnings.warn(\n"
     ]
    },
    {
     "name": "stdout",
     "output_type": "stream",
     "text": [
      "[[ 677   74    2    0    2    0    0]\n",
      " [ 130  660   92   24    1    0    0]\n",
      " [   3   92  512  103   23    0    0]\n",
      " [   0   31  114  512   98    8    0]\n",
      " [   2    1   35   96  688   32    4]\n",
      " [   0    0    0    7   21  972    5]\n",
      " [   1    0    0    0    6    9 1191]]\n",
      "Eğitim tamamlandı.\n",
      "En başarılı model:  GradientBoostingClassifier\n",
      "Confusion Matrix:\n",
      "[[ 698   52    3    1    1    0    0]\n",
      " [  33  802   62   10    0    0    0]\n",
      " [   2   54  579   78   20    0    0]\n",
      " [   0   14   75  600   64   10    0]\n",
      " [   2    2   23   51  757   20    3]\n",
      " [   0    0    0    2   21  980    2]\n",
      " [   1    0    0    0    1    1 1204]]\n",
      "classification Report:\n",
      "              precision    recall  f1-score   support\n",
      "\n",
      "         0.0       0.95      0.92      0.94       755\n",
      "         1.0       0.87      0.88      0.88       907\n",
      "         2.0       0.78      0.79      0.79       733\n",
      "         3.0       0.81      0.79      0.80       763\n",
      "         4.0       0.88      0.88      0.88       858\n",
      "         5.0       0.97      0.98      0.97      1005\n",
      "         6.0       1.00      1.00      1.00      1207\n",
      "\n",
      "    accuracy                           0.90      6228\n",
      "   macro avg       0.89      0.89      0.89      6228\n",
      "weighted avg       0.90      0.90      0.90      6228\n",
      "\n",
      "Diğer Modeller:\n"
     ]
    },
    {
     "data": {
      "text/html": [
       "<div>\n",
       "<style scoped>\n",
       "    .dataframe tbody tr th:only-of-type {\n",
       "        vertical-align: middle;\n",
       "    }\n",
       "\n",
       "    .dataframe tbody tr th {\n",
       "        vertical-align: top;\n",
       "    }\n",
       "\n",
       "    .dataframe thead th {\n",
       "        text-align: right;\n",
       "    }\n",
       "</style>\n",
       "<table border=\"1\" class=\"dataframe\">\n",
       "  <thead>\n",
       "    <tr style=\"text-align: right;\">\n",
       "      <th></th>\n",
       "      <th>Accuracy</th>\n",
       "      <th>Precision</th>\n",
       "      <th>Recall</th>\n",
       "      <th>F1</th>\n",
       "    </tr>\n",
       "  </thead>\n",
       "  <tbody>\n",
       "    <tr>\n",
       "      <th>GradientBoostingClassifier</th>\n",
       "      <td>0.902376</td>\n",
       "      <td>0.902376</td>\n",
       "      <td>0.902376</td>\n",
       "      <td>0.902376</td>\n",
       "    </tr>\n",
       "    <tr>\n",
       "      <th>RandomForestClassifier</th>\n",
       "      <td>0.894830</td>\n",
       "      <td>0.894830</td>\n",
       "      <td>0.894830</td>\n",
       "      <td>0.894830</td>\n",
       "    </tr>\n",
       "    <tr>\n",
       "      <th>DecisionTreeClassifier</th>\n",
       "      <td>0.838953</td>\n",
       "      <td>0.838953</td>\n",
       "      <td>0.838953</td>\n",
       "      <td>0.838953</td>\n",
       "    </tr>\n",
       "    <tr>\n",
       "      <th>KNeighborsClassifier</th>\n",
       "      <td>0.836866</td>\n",
       "      <td>0.836866</td>\n",
       "      <td>0.836866</td>\n",
       "      <td>0.836866</td>\n",
       "    </tr>\n",
       "    <tr>\n",
       "      <th>LogisticRegression</th>\n",
       "      <td>0.689627</td>\n",
       "      <td>0.689627</td>\n",
       "      <td>0.689627</td>\n",
       "      <td>0.689627</td>\n",
       "    </tr>\n",
       "    <tr>\n",
       "      <th>GaussianNB</th>\n",
       "      <td>0.644990</td>\n",
       "      <td>0.644990</td>\n",
       "      <td>0.644990</td>\n",
       "      <td>0.644990</td>\n",
       "    </tr>\n",
       "    <tr>\n",
       "      <th>BernoulliNB</th>\n",
       "      <td>0.527938</td>\n",
       "      <td>0.527938</td>\n",
       "      <td>0.527938</td>\n",
       "      <td>0.527938</td>\n",
       "    </tr>\n",
       "  </tbody>\n",
       "</table>\n",
       "</div>"
      ],
      "text/plain": [
       "                            Accuracy  Precision    Recall        F1\n",
       "GradientBoostingClassifier  0.902376   0.902376  0.902376  0.902376\n",
       "RandomForestClassifier      0.894830   0.894830  0.894830  0.894830\n",
       "DecisionTreeClassifier      0.838953   0.838953  0.838953  0.838953\n",
       "KNeighborsClassifier        0.836866   0.836866  0.836866  0.836866\n",
       "LogisticRegression          0.689627   0.689627  0.689627  0.689627\n",
       "GaussianNB                  0.644990   0.644990  0.644990  0.644990\n",
       "BernoulliNB                 0.527938   0.527938  0.527938  0.527938"
      ]
     },
     "execution_count": 53,
     "metadata": {},
     "output_type": "execute_result"
    }
   ],
   "source": [
    "algo_test(x,y)"
   ]
  },
  {
   "cell_type": "code",
   "execution_count": 55,
   "metadata": {
    "execution": {
     "iopub.execute_input": "2024-05-12T11:14:32.720613Z",
     "iopub.status.busy": "2024-05-12T11:14:32.720123Z",
     "iopub.status.idle": "2024-05-12T11:14:59.642691Z",
     "shell.execute_reply": "2024-05-12T11:14:59.640940Z",
     "shell.execute_reply.started": "2024-05-12T11:14:32.720579Z"
    }
   },
   "outputs": [
    {
     "name": "stderr",
     "output_type": "stream",
     "text": [
      "/opt/conda/lib/python3.10/site-packages/sklearn/ensemble/_gb.py:437: DataConversionWarning: A column-vector y was passed when a 1d array was expected. Please change the shape of y to (n_samples, ), for example using ravel().\n",
      "  y = column_or_1d(y, warn=True)\n"
     ]
    }
   ],
   "source": [
    "gb=GradientBoostingClassifier()\n",
    "model=gb.fit(x,y)\n",
    "pred=model.predict(xt)"
   ]
  },
  {
   "cell_type": "code",
   "execution_count": 56,
   "metadata": {
    "execution": {
     "iopub.execute_input": "2024-05-12T11:15:00.823140Z",
     "iopub.status.busy": "2024-05-12T11:15:00.821731Z",
     "iopub.status.idle": "2024-05-12T11:15:00.831226Z",
     "shell.execute_reply": "2024-05-12T11:15:00.829824Z",
     "shell.execute_reply.started": "2024-05-12T11:15:00.823100Z"
    }
   },
   "outputs": [
    {
     "data": {
      "text/plain": [
       "array([5., 2., 6., ..., 0., 1., 5.])"
      ]
     },
     "execution_count": 56,
     "metadata": {},
     "output_type": "execute_result"
    }
   ],
   "source": [
    "pred"
   ]
  },
  {
   "cell_type": "code",
   "execution_count": 57,
   "metadata": {
    "execution": {
     "iopub.execute_input": "2024-05-12T11:16:01.825073Z",
     "iopub.status.busy": "2024-05-12T11:16:01.823832Z",
     "iopub.status.idle": "2024-05-12T11:16:01.859593Z",
     "shell.execute_reply": "2024-05-12T11:16:01.858056Z",
     "shell.execute_reply.started": "2024-05-12T11:16:01.825016Z"
    }
   },
   "outputs": [
    {
     "name": "stderr",
     "output_type": "stream",
     "text": [
      "/tmp/ipykernel_33/2729555432.py:1: SettingWithCopyWarning: \n",
      "A value is trying to be set on a copy of a slice from a DataFrame.\n",
      "Try using .loc[row_indexer,col_indexer] = value instead\n",
      "\n",
      "See the caveats in the documentation: https://pandas.pydata.org/pandas-docs/stable/user_guide/indexing.html#returning-a-view-versus-a-copy\n",
      "  test[\"Class\"]=pred\n"
     ]
    },
    {
     "data": {
      "text/html": [
       "<div>\n",
       "<style scoped>\n",
       "    .dataframe tbody tr th:only-of-type {\n",
       "        vertical-align: middle;\n",
       "    }\n",
       "\n",
       "    .dataframe tbody tr th {\n",
       "        vertical-align: top;\n",
       "    }\n",
       "\n",
       "    .dataframe thead th {\n",
       "        text-align: right;\n",
       "    }\n",
       "</style>\n",
       "<table border=\"1\" class=\"dataframe\">\n",
       "  <thead>\n",
       "    <tr style=\"text-align: right;\">\n",
       "      <th></th>\n",
       "      <th>id</th>\n",
       "      <th>Gender</th>\n",
       "      <th>Age</th>\n",
       "      <th>Height</th>\n",
       "      <th>Weight</th>\n",
       "      <th>family_history_with_overweight</th>\n",
       "      <th>FAVC</th>\n",
       "      <th>FCVC</th>\n",
       "      <th>NCP</th>\n",
       "      <th>CAEC</th>\n",
       "      <th>SMOKE</th>\n",
       "      <th>CH2O</th>\n",
       "      <th>SCC</th>\n",
       "      <th>FAF</th>\n",
       "      <th>TUE</th>\n",
       "      <th>CALC</th>\n",
       "      <th>MTRANS</th>\n",
       "      <th>NObeyesdad</th>\n",
       "      <th>Walking</th>\n",
       "      <th>Class</th>\n",
       "    </tr>\n",
       "  </thead>\n",
       "  <tbody>\n",
       "    <tr>\n",
       "      <th>20758</th>\n",
       "      <td>20758</td>\n",
       "      <td>1</td>\n",
       "      <td>26.899886</td>\n",
       "      <td>1.848294</td>\n",
       "      <td>120.644178</td>\n",
       "      <td>1</td>\n",
       "      <td>1</td>\n",
       "      <td>2.938616</td>\n",
       "      <td>3.000000</td>\n",
       "      <td>1</td>\n",
       "      <td>0</td>\n",
       "      <td>2.825629</td>\n",
       "      <td>0</td>\n",
       "      <td>0.855400</td>\n",
       "      <td>0.000000</td>\n",
       "      <td>1</td>\n",
       "      <td>Public_Transportation</td>\n",
       "      <td>NaN</td>\n",
       "      <td>1</td>\n",
       "      <td>5.0</td>\n",
       "    </tr>\n",
       "    <tr>\n",
       "      <th>20759</th>\n",
       "      <td>20759</td>\n",
       "      <td>0</td>\n",
       "      <td>21.000000</td>\n",
       "      <td>1.600000</td>\n",
       "      <td>66.000000</td>\n",
       "      <td>1</td>\n",
       "      <td>1</td>\n",
       "      <td>2.000000</td>\n",
       "      <td>1.000000</td>\n",
       "      <td>1</td>\n",
       "      <td>0</td>\n",
       "      <td>3.000000</td>\n",
       "      <td>0</td>\n",
       "      <td>1.000000</td>\n",
       "      <td>0.000000</td>\n",
       "      <td>1</td>\n",
       "      <td>Public_Transportation</td>\n",
       "      <td>NaN</td>\n",
       "      <td>1</td>\n",
       "      <td>2.0</td>\n",
       "    </tr>\n",
       "    <tr>\n",
       "      <th>20760</th>\n",
       "      <td>20760</td>\n",
       "      <td>0</td>\n",
       "      <td>26.000000</td>\n",
       "      <td>1.643355</td>\n",
       "      <td>111.600553</td>\n",
       "      <td>1</td>\n",
       "      <td>1</td>\n",
       "      <td>3.000000</td>\n",
       "      <td>3.000000</td>\n",
       "      <td>1</td>\n",
       "      <td>0</td>\n",
       "      <td>2.621877</td>\n",
       "      <td>0</td>\n",
       "      <td>0.000000</td>\n",
       "      <td>0.250502</td>\n",
       "      <td>1</td>\n",
       "      <td>Public_Transportation</td>\n",
       "      <td>NaN</td>\n",
       "      <td>1</td>\n",
       "      <td>6.0</td>\n",
       "    </tr>\n",
       "    <tr>\n",
       "      <th>20761</th>\n",
       "      <td>20761</td>\n",
       "      <td>1</td>\n",
       "      <td>20.979254</td>\n",
       "      <td>1.553127</td>\n",
       "      <td>103.669116</td>\n",
       "      <td>1</td>\n",
       "      <td>1</td>\n",
       "      <td>2.000000</td>\n",
       "      <td>2.977909</td>\n",
       "      <td>1</td>\n",
       "      <td>0</td>\n",
       "      <td>2.786417</td>\n",
       "      <td>0</td>\n",
       "      <td>0.094851</td>\n",
       "      <td>0.000000</td>\n",
       "      <td>1</td>\n",
       "      <td>Public_Transportation</td>\n",
       "      <td>NaN</td>\n",
       "      <td>1</td>\n",
       "      <td>4.0</td>\n",
       "    </tr>\n",
       "    <tr>\n",
       "      <th>20762</th>\n",
       "      <td>20762</td>\n",
       "      <td>0</td>\n",
       "      <td>26.000000</td>\n",
       "      <td>1.627396</td>\n",
       "      <td>104.835346</td>\n",
       "      <td>1</td>\n",
       "      <td>1</td>\n",
       "      <td>3.000000</td>\n",
       "      <td>3.000000</td>\n",
       "      <td>1</td>\n",
       "      <td>0</td>\n",
       "      <td>2.653531</td>\n",
       "      <td>0</td>\n",
       "      <td>0.000000</td>\n",
       "      <td>0.741069</td>\n",
       "      <td>1</td>\n",
       "      <td>Public_Transportation</td>\n",
       "      <td>NaN</td>\n",
       "      <td>1</td>\n",
       "      <td>6.0</td>\n",
       "    </tr>\n",
       "  </tbody>\n",
       "</table>\n",
       "</div>"
      ],
      "text/plain": [
       "          id  Gender        Age    Height      Weight  \\\n",
       "20758  20758       1  26.899886  1.848294  120.644178   \n",
       "20759  20759       0  21.000000  1.600000   66.000000   \n",
       "20760  20760       0  26.000000  1.643355  111.600553   \n",
       "20761  20761       1  20.979254  1.553127  103.669116   \n",
       "20762  20762       0  26.000000  1.627396  104.835346   \n",
       "\n",
       "       family_history_with_overweight  FAVC      FCVC       NCP  CAEC  SMOKE  \\\n",
       "20758                               1     1  2.938616  3.000000     1      0   \n",
       "20759                               1     1  2.000000  1.000000     1      0   \n",
       "20760                               1     1  3.000000  3.000000     1      0   \n",
       "20761                               1     1  2.000000  2.977909     1      0   \n",
       "20762                               1     1  3.000000  3.000000     1      0   \n",
       "\n",
       "           CH2O  SCC       FAF       TUE  CALC                 MTRANS  \\\n",
       "20758  2.825629    0  0.855400  0.000000     1  Public_Transportation   \n",
       "20759  3.000000    0  1.000000  0.000000     1  Public_Transportation   \n",
       "20760  2.621877    0  0.000000  0.250502     1  Public_Transportation   \n",
       "20761  2.786417    0  0.094851  0.000000     1  Public_Transportation   \n",
       "20762  2.653531    0  0.000000  0.741069     1  Public_Transportation   \n",
       "\n",
       "      NObeyesdad  Walking  Class  \n",
       "20758        NaN        1    5.0  \n",
       "20759        NaN        1    2.0  \n",
       "20760        NaN        1    6.0  \n",
       "20761        NaN        1    4.0  \n",
       "20762        NaN        1    6.0  "
      ]
     },
     "execution_count": 57,
     "metadata": {},
     "output_type": "execute_result"
    }
   ],
   "source": [
    "test[\"Class\"]=pred\n",
    "test.head()"
   ]
  },
  {
   "cell_type": "code",
   "execution_count": 58,
   "metadata": {
    "execution": {
     "iopub.execute_input": "2024-05-12T11:19:20.447718Z",
     "iopub.status.busy": "2024-05-12T11:19:20.447218Z",
     "iopub.status.idle": "2024-05-12T11:19:20.460746Z",
     "shell.execute_reply": "2024-05-12T11:19:20.458621Z",
     "shell.execute_reply.started": "2024-05-12T11:19:20.447678Z"
    }
   },
   "outputs": [
    {
     "name": "stderr",
     "output_type": "stream",
     "text": [
      "/tmp/ipykernel_33/1207028703.py:10: SettingWithCopyWarning: \n",
      "A value is trying to be set on a copy of a slice from a DataFrame.\n",
      "Try using .loc[row_indexer,col_indexer] = value instead\n",
      "\n",
      "See the caveats in the documentation: https://pandas.pydata.org/pandas-docs/stable/user_guide/indexing.html#returning-a-view-versus-a-copy\n",
      "  test[\"NObeyesdad\"]=test[\"Class\"].map(d)\n"
     ]
    }
   ],
   "source": [
    "d={\n",
    "    0.0:\"Insufficient_Weight\",\n",
    "    1.0:\"Normal_Weight\",\n",
    "    2.0:\"Overweight_Level_I\",\n",
    "    3.0:\"Overweight_Level_II\",\n",
    "    4.0:\"Obesity_Type_I\",\n",
    "    5.0:\"Obesity_Type_II\",\n",
    "    6.0:\"Obesity_Type_III\"\n",
    "}\n",
    "test[\"NObeyesdad\"]=test[\"Class\"].map(d)"
   ]
  },
  {
   "cell_type": "code",
   "execution_count": 59,
   "metadata": {
    "execution": {
     "iopub.execute_input": "2024-05-12T11:19:44.162909Z",
     "iopub.status.busy": "2024-05-12T11:19:44.162445Z",
     "iopub.status.idle": "2024-05-12T11:19:44.193934Z",
     "shell.execute_reply": "2024-05-12T11:19:44.192684Z",
     "shell.execute_reply.started": "2024-05-12T11:19:44.162878Z"
    }
   },
   "outputs": [
    {
     "data": {
      "text/html": [
       "<div>\n",
       "<style scoped>\n",
       "    .dataframe tbody tr th:only-of-type {\n",
       "        vertical-align: middle;\n",
       "    }\n",
       "\n",
       "    .dataframe tbody tr th {\n",
       "        vertical-align: top;\n",
       "    }\n",
       "\n",
       "    .dataframe thead th {\n",
       "        text-align: right;\n",
       "    }\n",
       "</style>\n",
       "<table border=\"1\" class=\"dataframe\">\n",
       "  <thead>\n",
       "    <tr style=\"text-align: right;\">\n",
       "      <th></th>\n",
       "      <th>id</th>\n",
       "      <th>Gender</th>\n",
       "      <th>Age</th>\n",
       "      <th>Height</th>\n",
       "      <th>Weight</th>\n",
       "      <th>family_history_with_overweight</th>\n",
       "      <th>FAVC</th>\n",
       "      <th>FCVC</th>\n",
       "      <th>NCP</th>\n",
       "      <th>CAEC</th>\n",
       "      <th>SMOKE</th>\n",
       "      <th>CH2O</th>\n",
       "      <th>SCC</th>\n",
       "      <th>FAF</th>\n",
       "      <th>TUE</th>\n",
       "      <th>CALC</th>\n",
       "      <th>MTRANS</th>\n",
       "      <th>NObeyesdad</th>\n",
       "      <th>Walking</th>\n",
       "      <th>Class</th>\n",
       "    </tr>\n",
       "  </thead>\n",
       "  <tbody>\n",
       "    <tr>\n",
       "      <th>26085</th>\n",
       "      <td>26085</td>\n",
       "      <td>0</td>\n",
       "      <td>22.000000</td>\n",
       "      <td>1.660000</td>\n",
       "      <td>60.000000</td>\n",
       "      <td>1</td>\n",
       "      <td>0</td>\n",
       "      <td>2.000000</td>\n",
       "      <td>1.0</td>\n",
       "      <td>1</td>\n",
       "      <td>0</td>\n",
       "      <td>2.000000</td>\n",
       "      <td>0</td>\n",
       "      <td>0.00000</td>\n",
       "      <td>0.000000</td>\n",
       "      <td>0</td>\n",
       "      <td>Public_Transportation</td>\n",
       "      <td>Normal_Weight</td>\n",
       "      <td>1</td>\n",
       "      <td>1.0</td>\n",
       "    </tr>\n",
       "    <tr>\n",
       "      <th>30701</th>\n",
       "      <td>30701</td>\n",
       "      <td>0</td>\n",
       "      <td>19.434709</td>\n",
       "      <td>1.525691</td>\n",
       "      <td>42.000000</td>\n",
       "      <td>1</td>\n",
       "      <td>1</td>\n",
       "      <td>3.000000</td>\n",
       "      <td>1.0</td>\n",
       "      <td>2</td>\n",
       "      <td>0</td>\n",
       "      <td>1.895876</td>\n",
       "      <td>0</td>\n",
       "      <td>0.00000</td>\n",
       "      <td>0.560887</td>\n",
       "      <td>1</td>\n",
       "      <td>Public_Transportation</td>\n",
       "      <td>Insufficient_Weight</td>\n",
       "      <td>1</td>\n",
       "      <td>0.0</td>\n",
       "    </tr>\n",
       "    <tr>\n",
       "      <th>21140</th>\n",
       "      <td>21140</td>\n",
       "      <td>1</td>\n",
       "      <td>31.000000</td>\n",
       "      <td>1.710000</td>\n",
       "      <td>72.000000</td>\n",
       "      <td>1</td>\n",
       "      <td>1</td>\n",
       "      <td>2.000000</td>\n",
       "      <td>3.0</td>\n",
       "      <td>1</td>\n",
       "      <td>1</td>\n",
       "      <td>2.000000</td>\n",
       "      <td>0</td>\n",
       "      <td>1.00000</td>\n",
       "      <td>0.000000</td>\n",
       "      <td>1</td>\n",
       "      <td>Automobile</td>\n",
       "      <td>Normal_Weight</td>\n",
       "      <td>1</td>\n",
       "      <td>1.0</td>\n",
       "    </tr>\n",
       "    <tr>\n",
       "      <th>29904</th>\n",
       "      <td>29904</td>\n",
       "      <td>1</td>\n",
       "      <td>21.000000</td>\n",
       "      <td>1.800000</td>\n",
       "      <td>97.000000</td>\n",
       "      <td>1</td>\n",
       "      <td>1</td>\n",
       "      <td>2.000000</td>\n",
       "      <td>3.0</td>\n",
       "      <td>1</td>\n",
       "      <td>0</td>\n",
       "      <td>2.000000</td>\n",
       "      <td>1</td>\n",
       "      <td>1.00000</td>\n",
       "      <td>1.000000</td>\n",
       "      <td>1</td>\n",
       "      <td>Public_Transportation</td>\n",
       "      <td>Overweight_Level_II</td>\n",
       "      <td>1</td>\n",
       "      <td>3.0</td>\n",
       "    </tr>\n",
       "    <tr>\n",
       "      <th>26116</th>\n",
       "      <td>26116</td>\n",
       "      <td>0</td>\n",
       "      <td>21.798856</td>\n",
       "      <td>1.719913</td>\n",
       "      <td>132.145549</td>\n",
       "      <td>1</td>\n",
       "      <td>1</td>\n",
       "      <td>3.000000</td>\n",
       "      <td>3.0</td>\n",
       "      <td>1</td>\n",
       "      <td>0</td>\n",
       "      <td>2.720050</td>\n",
       "      <td>0</td>\n",
       "      <td>1.52001</td>\n",
       "      <td>0.906247</td>\n",
       "      <td>1</td>\n",
       "      <td>Public_Transportation</td>\n",
       "      <td>Obesity_Type_III</td>\n",
       "      <td>1</td>\n",
       "      <td>6.0</td>\n",
       "    </tr>\n",
       "    <tr>\n",
       "      <th>21688</th>\n",
       "      <td>21688</td>\n",
       "      <td>1</td>\n",
       "      <td>30.255744</td>\n",
       "      <td>1.750085</td>\n",
       "      <td>112.348722</td>\n",
       "      <td>1</td>\n",
       "      <td>1</td>\n",
       "      <td>2.699282</td>\n",
       "      <td>3.0</td>\n",
       "      <td>1</td>\n",
       "      <td>0</td>\n",
       "      <td>1.038128</td>\n",
       "      <td>0</td>\n",
       "      <td>1.00000</td>\n",
       "      <td>0.000000</td>\n",
       "      <td>1</td>\n",
       "      <td>Public_Transportation</td>\n",
       "      <td>Obesity_Type_II</td>\n",
       "      <td>1</td>\n",
       "      <td>5.0</td>\n",
       "    </tr>\n",
       "    <tr>\n",
       "      <th>31955</th>\n",
       "      <td>31955</td>\n",
       "      <td>1</td>\n",
       "      <td>21.000000</td>\n",
       "      <td>1.712061</td>\n",
       "      <td>75.000000</td>\n",
       "      <td>1</td>\n",
       "      <td>1</td>\n",
       "      <td>2.000000</td>\n",
       "      <td>3.0</td>\n",
       "      <td>1</td>\n",
       "      <td>0</td>\n",
       "      <td>1.333707</td>\n",
       "      <td>0</td>\n",
       "      <td>1.00000</td>\n",
       "      <td>1.000000</td>\n",
       "      <td>1</td>\n",
       "      <td>Public_Transportation</td>\n",
       "      <td>Overweight_Level_I</td>\n",
       "      <td>1</td>\n",
       "      <td>2.0</td>\n",
       "    </tr>\n",
       "    <tr>\n",
       "      <th>21035</th>\n",
       "      <td>21035</td>\n",
       "      <td>0</td>\n",
       "      <td>21.000000</td>\n",
       "      <td>1.650000</td>\n",
       "      <td>67.000000</td>\n",
       "      <td>1</td>\n",
       "      <td>1</td>\n",
       "      <td>2.000000</td>\n",
       "      <td>3.0</td>\n",
       "      <td>1</td>\n",
       "      <td>0</td>\n",
       "      <td>2.000000</td>\n",
       "      <td>0</td>\n",
       "      <td>1.00000</td>\n",
       "      <td>1.000000</td>\n",
       "      <td>1</td>\n",
       "      <td>Public_Transportation</td>\n",
       "      <td>Normal_Weight</td>\n",
       "      <td>1</td>\n",
       "      <td>1.0</td>\n",
       "    </tr>\n",
       "    <tr>\n",
       "      <th>30810</th>\n",
       "      <td>30810</td>\n",
       "      <td>0</td>\n",
       "      <td>18.000000</td>\n",
       "      <td>1.700000</td>\n",
       "      <td>50.000000</td>\n",
       "      <td>0</td>\n",
       "      <td>1</td>\n",
       "      <td>1.000000</td>\n",
       "      <td>3.0</td>\n",
       "      <td>2</td>\n",
       "      <td>0</td>\n",
       "      <td>2.000000</td>\n",
       "      <td>0</td>\n",
       "      <td>1.00000</td>\n",
       "      <td>1.000000</td>\n",
       "      <td>1</td>\n",
       "      <td>Public_Transportation</td>\n",
       "      <td>Insufficient_Weight</td>\n",
       "      <td>1</td>\n",
       "      <td>0.0</td>\n",
       "    </tr>\n",
       "    <tr>\n",
       "      <th>33782</th>\n",
       "      <td>33782</td>\n",
       "      <td>0</td>\n",
       "      <td>22.000000</td>\n",
       "      <td>1.550000</td>\n",
       "      <td>53.000000</td>\n",
       "      <td>1</td>\n",
       "      <td>1</td>\n",
       "      <td>2.000000</td>\n",
       "      <td>3.0</td>\n",
       "      <td>1</td>\n",
       "      <td>0</td>\n",
       "      <td>2.000000</td>\n",
       "      <td>0</td>\n",
       "      <td>3.00000</td>\n",
       "      <td>1.000000</td>\n",
       "      <td>1</td>\n",
       "      <td>Public_Transportation</td>\n",
       "      <td>Normal_Weight</td>\n",
       "      <td>1</td>\n",
       "      <td>1.0</td>\n",
       "    </tr>\n",
       "  </tbody>\n",
       "</table>\n",
       "</div>"
      ],
      "text/plain": [
       "          id  Gender        Age    Height      Weight  \\\n",
       "26085  26085       0  22.000000  1.660000   60.000000   \n",
       "30701  30701       0  19.434709  1.525691   42.000000   \n",
       "21140  21140       1  31.000000  1.710000   72.000000   \n",
       "29904  29904       1  21.000000  1.800000   97.000000   \n",
       "26116  26116       0  21.798856  1.719913  132.145549   \n",
       "21688  21688       1  30.255744  1.750085  112.348722   \n",
       "31955  31955       1  21.000000  1.712061   75.000000   \n",
       "21035  21035       0  21.000000  1.650000   67.000000   \n",
       "30810  30810       0  18.000000  1.700000   50.000000   \n",
       "33782  33782       0  22.000000  1.550000   53.000000   \n",
       "\n",
       "       family_history_with_overweight  FAVC      FCVC  NCP  CAEC  SMOKE  \\\n",
       "26085                               1     0  2.000000  1.0     1      0   \n",
       "30701                               1     1  3.000000  1.0     2      0   \n",
       "21140                               1     1  2.000000  3.0     1      1   \n",
       "29904                               1     1  2.000000  3.0     1      0   \n",
       "26116                               1     1  3.000000  3.0     1      0   \n",
       "21688                               1     1  2.699282  3.0     1      0   \n",
       "31955                               1     1  2.000000  3.0     1      0   \n",
       "21035                               1     1  2.000000  3.0     1      0   \n",
       "30810                               0     1  1.000000  3.0     2      0   \n",
       "33782                               1     1  2.000000  3.0     1      0   \n",
       "\n",
       "           CH2O  SCC      FAF       TUE  CALC                 MTRANS  \\\n",
       "26085  2.000000    0  0.00000  0.000000     0  Public_Transportation   \n",
       "30701  1.895876    0  0.00000  0.560887     1  Public_Transportation   \n",
       "21140  2.000000    0  1.00000  0.000000     1             Automobile   \n",
       "29904  2.000000    1  1.00000  1.000000     1  Public_Transportation   \n",
       "26116  2.720050    0  1.52001  0.906247     1  Public_Transportation   \n",
       "21688  1.038128    0  1.00000  0.000000     1  Public_Transportation   \n",
       "31955  1.333707    0  1.00000  1.000000     1  Public_Transportation   \n",
       "21035  2.000000    0  1.00000  1.000000     1  Public_Transportation   \n",
       "30810  2.000000    0  1.00000  1.000000     1  Public_Transportation   \n",
       "33782  2.000000    0  3.00000  1.000000     1  Public_Transportation   \n",
       "\n",
       "                NObeyesdad  Walking  Class  \n",
       "26085        Normal_Weight        1    1.0  \n",
       "30701  Insufficient_Weight        1    0.0  \n",
       "21140        Normal_Weight        1    1.0  \n",
       "29904  Overweight_Level_II        1    3.0  \n",
       "26116     Obesity_Type_III        1    6.0  \n",
       "21688      Obesity_Type_II        1    5.0  \n",
       "31955   Overweight_Level_I        1    2.0  \n",
       "21035        Normal_Weight        1    1.0  \n",
       "30810  Insufficient_Weight        1    0.0  \n",
       "33782        Normal_Weight        1    1.0  "
      ]
     },
     "execution_count": 59,
     "metadata": {},
     "output_type": "execute_result"
    }
   ],
   "source": [
    "test.sample(10)"
   ]
  },
  {
   "cell_type": "code",
   "execution_count": 61,
   "metadata": {
    "execution": {
     "iopub.execute_input": "2024-05-12T11:20:56.260570Z",
     "iopub.status.busy": "2024-05-12T11:20:56.260042Z",
     "iopub.status.idle": "2024-05-12T11:20:56.303200Z",
     "shell.execute_reply": "2024-05-12T11:20:56.301155Z",
     "shell.execute_reply.started": "2024-05-12T11:20:56.260532Z"
    }
   },
   "outputs": [],
   "source": [
    "test[[\"id\", \"NObeyesdad\"]].to_csv('submission.csv', index=False)"
   ]
  },
  {
   "cell_type": "markdown",
   "metadata": {},
   "source": [
    "## Sonuç\n",
    "\n",
    "Obezite riskini tahmin etmek amacıyla geliştirilen çok sınıflı makine öğrenmesi modellerinde `GradientBoostingClassifier` ile %90 başarı elde edilmiştir."
   ]
  }
 ],
 "metadata": {
  "kaggle": {
   "accelerator": "none",
   "dataSources": [
    {
     "databundleVersionId": 7609535,
     "sourceId": 68479,
     "sourceType": "competition"
    }
   ],
   "dockerImageVersionId": 30698,
   "isGpuEnabled": false,
   "isInternetEnabled": true,
   "language": "python",
   "sourceType": "notebook"
  },
  "kernelspec": {
   "display_name": "Python 3 (ipykernel)",
   "language": "python",
   "name": "python3"
  },
  "language_info": {
   "codemirror_mode": {
    "name": "ipython",
    "version": 3
   },
   "file_extension": ".py",
   "mimetype": "text/x-python",
   "name": "python",
   "nbconvert_exporter": "python",
   "pygments_lexer": "ipython3",
   "version": "3.9.19"
  }
 },
 "nbformat": 4,
 "nbformat_minor": 4
}
