{
 "cells": [
  {
   "cell_type": "markdown",
   "id": "c281b193-3aa1-481c-8185-d1369ce8905d",
   "metadata": {},
   "source": [
    "# Three Generations Seeking Romance\n",
    "\n",
    "<img src=\"https://teknodestek.com.tr/wp-content/uploads/2023/05/Okcupid-Hesap-Nasil-Silinir.png\" width=\"300px\">\n",
    "\n",
    "Online randevulara ait yaşa ve nesile göre profil oluşturulaması projesi. Bu projede aşağıdaki sorulara yanıt aranacaktır:\n",
    "\n",
    "1. Flört profiliniz yaşınızı tahmin edebilir mi?\n",
    "2. Flört profiliniz ait olduğunuz kuşağı tahmin edebiliyor mu? (Y Kuşağı-Millennial, X Kuşağı-Gen X-er veya Boomers)\n",
    "<br>\n",
    "\n",
    "Arkadaşlık platformu OKCupid'den yaklaşık 60.000 anonimleştirilmiş girişten oluşan bir veri kümesi kullanarak, yukarıdaki soruları denetimli makine öğrenimi tekniklerini kullanarak keşfedeceğiz. Bu projede iki model kullanacağız:\n",
    "* `Regression`: İlk soruyu ele almak için regresyon teknikleri kullanacağız.\n",
    "* `Classification`: İkinci soruyu ele almak için ise sınıflandırma modellerini kullanacağız.\n",
    "\n",
    "- \"last_online\" özelliğinin minimum ve maksimum değerleri incelenerek OKCupid veri kümesinin 2011 veya 2012 civarına tarihlendiği sonucuna varılabilir. \n",
    "- O zamanlar kuşaklar aşağıdaki gibidir:\n",
    "  - Y Kuşağı 18-32\n",
    "  - X kuşağı 33-47 \n",
    "  - Boomers  48-70uşağı 33-47 \n",
    "  - Boomers  48-70e kadar.dar."
   ]
  },
  {
   "cell_type": "markdown",
   "id": "115a19de-c569-49dc-a9c3-00b5c1e18c01",
   "metadata": {},
   "source": [
    "### Veri Setini İnceleyelim"
   ]
  },
  {
   "cell_type": "code",
   "execution_count": 1,
   "id": "5c792125-af23-471c-92c4-86e39afe8dfb",
   "metadata": {},
   "outputs": [],
   "source": [
    "import pandas as pd\n",
    "pd.set_option('display.max_columns', 100)\n",
    "pd.options.display.max_rows = 100\n",
    "\n",
    "import warnings\n",
    "warnings.filterwarnings('ignore')\n",
    "\n",
    "import numpy as np"
   ]
  },
  {
   "cell_type": "code",
   "execution_count": 2,
   "id": "7e6a7a10-a8a5-4534-9b07-dfd53e88d313",
   "metadata": {},
   "outputs": [
    {
     "data": {
      "text/html": [
       "<div>\n",
       "<style scoped>\n",
       "    .dataframe tbody tr th:only-of-type {\n",
       "        vertical-align: middle;\n",
       "    }\n",
       "\n",
       "    .dataframe tbody tr th {\n",
       "        vertical-align: top;\n",
       "    }\n",
       "\n",
       "    .dataframe thead th {\n",
       "        text-align: right;\n",
       "    }\n",
       "</style>\n",
       "<table border=\"1\" class=\"dataframe\">\n",
       "  <thead>\n",
       "    <tr style=\"text-align: right;\">\n",
       "      <th></th>\n",
       "      <th>age</th>\n",
       "      <th>body_type</th>\n",
       "      <th>diet</th>\n",
       "      <th>drinks</th>\n",
       "      <th>drugs</th>\n",
       "      <th>education</th>\n",
       "      <th>essay0</th>\n",
       "      <th>essay1</th>\n",
       "      <th>essay2</th>\n",
       "      <th>essay3</th>\n",
       "      <th>essay4</th>\n",
       "      <th>essay5</th>\n",
       "      <th>essay6</th>\n",
       "      <th>essay7</th>\n",
       "      <th>essay8</th>\n",
       "      <th>essay9</th>\n",
       "      <th>ethnicity</th>\n",
       "      <th>height</th>\n",
       "      <th>income</th>\n",
       "      <th>job</th>\n",
       "      <th>last_online</th>\n",
       "      <th>location</th>\n",
       "      <th>offspring</th>\n",
       "      <th>orientation</th>\n",
       "      <th>pets</th>\n",
       "      <th>religion</th>\n",
       "      <th>sex</th>\n",
       "      <th>sign</th>\n",
       "      <th>smokes</th>\n",
       "      <th>speaks</th>\n",
       "      <th>status</th>\n",
       "    </tr>\n",
       "  </thead>\n",
       "  <tbody>\n",
       "    <tr>\n",
       "      <th>0</th>\n",
       "      <td>22.0</td>\n",
       "      <td>a little extra</td>\n",
       "      <td>strictly anything</td>\n",
       "      <td>socially</td>\n",
       "      <td>never</td>\n",
       "      <td>working on college/university</td>\n",
       "      <td>about me:&lt;br /&gt;\\n&lt;br /&gt;\\ni would love to think...</td>\n",
       "      <td>currently working as an international agent fo...</td>\n",
       "      <td>making people laugh.&lt;br /&gt;\\nranting about a go...</td>\n",
       "      <td>the way i look. i am a six foot half asian, ha...</td>\n",
       "      <td>books:&lt;br /&gt;\\nabsurdistan, the republic, of mi...</td>\n",
       "      <td>food.&lt;br /&gt;\\nwater.&lt;br /&gt;\\ncell phone.&lt;br /&gt;\\n...</td>\n",
       "      <td>duality and humorous things</td>\n",
       "      <td>trying to find someone to hang out with. i am ...</td>\n",
       "      <td>i am new to california and looking for someone...</td>\n",
       "      <td>you want to be swept off your feet!&lt;br /&gt;\\nyou...</td>\n",
       "      <td>asian, white</td>\n",
       "      <td>75.0</td>\n",
       "      <td>-1.0</td>\n",
       "      <td>transportation</td>\n",
       "      <td>2012-06-28-20-30</td>\n",
       "      <td>south san francisco, california</td>\n",
       "      <td>doesn&amp;rsquo;t have kids, but might want them</td>\n",
       "      <td>straight</td>\n",
       "      <td>likes dogs and likes cats</td>\n",
       "      <td>agnosticism and very serious about it</td>\n",
       "      <td>m</td>\n",
       "      <td>gemini</td>\n",
       "      <td>sometimes</td>\n",
       "      <td>english</td>\n",
       "      <td>single</td>\n",
       "    </tr>\n",
       "    <tr>\n",
       "      <th>1</th>\n",
       "      <td>35.0</td>\n",
       "      <td>average</td>\n",
       "      <td>mostly other</td>\n",
       "      <td>often</td>\n",
       "      <td>sometimes</td>\n",
       "      <td>working on space camp</td>\n",
       "      <td>i am a chef: this is what that means.&lt;br /&gt;\\n1...</td>\n",
       "      <td>dedicating everyday to being an unbelievable b...</td>\n",
       "      <td>being silly. having ridiculous amonts of fun w...</td>\n",
       "      <td>NaN</td>\n",
       "      <td>i am die hard christopher moore fan. i don't r...</td>\n",
       "      <td>delicious porkness in all of its glories.&lt;br /...</td>\n",
       "      <td>NaN</td>\n",
       "      <td>NaN</td>\n",
       "      <td>i am very open and will share just about anyth...</td>\n",
       "      <td>NaN</td>\n",
       "      <td>white</td>\n",
       "      <td>70.0</td>\n",
       "      <td>80000.0</td>\n",
       "      <td>hospitality / travel</td>\n",
       "      <td>2012-06-29-21-41</td>\n",
       "      <td>oakland, california</td>\n",
       "      <td>doesn&amp;rsquo;t have kids, but might want them</td>\n",
       "      <td>straight</td>\n",
       "      <td>likes dogs and likes cats</td>\n",
       "      <td>agnosticism but not too serious about it</td>\n",
       "      <td>m</td>\n",
       "      <td>cancer</td>\n",
       "      <td>no</td>\n",
       "      <td>english (fluently), spanish (poorly), french (...</td>\n",
       "      <td>single</td>\n",
       "    </tr>\n",
       "    <tr>\n",
       "      <th>2</th>\n",
       "      <td>38.0</td>\n",
       "      <td>thin</td>\n",
       "      <td>anything</td>\n",
       "      <td>socially</td>\n",
       "      <td>NaN</td>\n",
       "      <td>graduated from masters program</td>\n",
       "      <td>i'm not ashamed of much, but writing public te...</td>\n",
       "      <td>i make nerdy software for musicians, artists, ...</td>\n",
       "      <td>improvising in different contexts. alternating...</td>\n",
       "      <td>my large jaw and large glasses are the physica...</td>\n",
       "      <td>okay this is where the cultural matrix gets so...</td>\n",
       "      <td>movement&lt;br /&gt;\\nconversation&lt;br /&gt;\\ncreation&lt;b...</td>\n",
       "      <td>NaN</td>\n",
       "      <td>viewing. listening. dancing. talking. drinking...</td>\n",
       "      <td>when i was five years old, i was known as \"the...</td>\n",
       "      <td>you are bright, open, intense, silly, ironic, ...</td>\n",
       "      <td>NaN</td>\n",
       "      <td>68.0</td>\n",
       "      <td>-1.0</td>\n",
       "      <td>NaN</td>\n",
       "      <td>2012-06-27-09-10</td>\n",
       "      <td>san francisco, california</td>\n",
       "      <td>NaN</td>\n",
       "      <td>straight</td>\n",
       "      <td>has cats</td>\n",
       "      <td>NaN</td>\n",
       "      <td>m</td>\n",
       "      <td>pisces but it doesn&amp;rsquo;t matter</td>\n",
       "      <td>no</td>\n",
       "      <td>english, french, c++</td>\n",
       "      <td>available</td>\n",
       "    </tr>\n",
       "    <tr>\n",
       "      <th>3</th>\n",
       "      <td>23.0</td>\n",
       "      <td>thin</td>\n",
       "      <td>vegetarian</td>\n",
       "      <td>socially</td>\n",
       "      <td>NaN</td>\n",
       "      <td>working on college/university</td>\n",
       "      <td>i work in a library and go to school. . .</td>\n",
       "      <td>reading things written by old dead people</td>\n",
       "      <td>playing synthesizers and organizing books acco...</td>\n",
       "      <td>socially awkward but i do my best</td>\n",
       "      <td>bataille, celine, beckett. . .&lt;br /&gt;\\nlynch, j...</td>\n",
       "      <td>NaN</td>\n",
       "      <td>cats and german philosophy</td>\n",
       "      <td>NaN</td>\n",
       "      <td>NaN</td>\n",
       "      <td>you feel so inclined.</td>\n",
       "      <td>white</td>\n",
       "      <td>71.0</td>\n",
       "      <td>20000.0</td>\n",
       "      <td>student</td>\n",
       "      <td>2012-06-28-14-22</td>\n",
       "      <td>berkeley, california</td>\n",
       "      <td>doesn&amp;rsquo;t want kids</td>\n",
       "      <td>straight</td>\n",
       "      <td>likes cats</td>\n",
       "      <td>NaN</td>\n",
       "      <td>m</td>\n",
       "      <td>pisces</td>\n",
       "      <td>no</td>\n",
       "      <td>english, german (poorly)</td>\n",
       "      <td>single</td>\n",
       "    </tr>\n",
       "    <tr>\n",
       "      <th>4</th>\n",
       "      <td>29.0</td>\n",
       "      <td>athletic</td>\n",
       "      <td>NaN</td>\n",
       "      <td>socially</td>\n",
       "      <td>never</td>\n",
       "      <td>graduated from college/university</td>\n",
       "      <td>hey how's it going? currently vague on the pro...</td>\n",
       "      <td>work work work work + play</td>\n",
       "      <td>creating imagery to look at:&lt;br /&gt;\\nhttp://bag...</td>\n",
       "      <td>i smile a lot and my inquisitive nature</td>\n",
       "      <td>music: bands, rappers, musicians&lt;br /&gt;\\nat the...</td>\n",
       "      <td>NaN</td>\n",
       "      <td>NaN</td>\n",
       "      <td>NaN</td>\n",
       "      <td>NaN</td>\n",
       "      <td>NaN</td>\n",
       "      <td>asian, black, other</td>\n",
       "      <td>66.0</td>\n",
       "      <td>-1.0</td>\n",
       "      <td>artistic / musical / writer</td>\n",
       "      <td>2012-06-27-21-26</td>\n",
       "      <td>san francisco, california</td>\n",
       "      <td>NaN</td>\n",
       "      <td>straight</td>\n",
       "      <td>likes dogs and likes cats</td>\n",
       "      <td>NaN</td>\n",
       "      <td>m</td>\n",
       "      <td>aquarius</td>\n",
       "      <td>no</td>\n",
       "      <td>english</td>\n",
       "      <td>single</td>\n",
       "    </tr>\n",
       "  </tbody>\n",
       "</table>\n",
       "</div>"
      ],
      "text/plain": [
       "    age       body_type               diet    drinks      drugs  \\\n",
       "0  22.0  a little extra  strictly anything  socially      never   \n",
       "1  35.0         average       mostly other     often  sometimes   \n",
       "2  38.0            thin           anything  socially        NaN   \n",
       "3  23.0            thin         vegetarian  socially        NaN   \n",
       "4  29.0        athletic                NaN  socially      never   \n",
       "\n",
       "                           education  \\\n",
       "0      working on college/university   \n",
       "1              working on space camp   \n",
       "2     graduated from masters program   \n",
       "3      working on college/university   \n",
       "4  graduated from college/university   \n",
       "\n",
       "                                              essay0  \\\n",
       "0  about me:<br />\\n<br />\\ni would love to think...   \n",
       "1  i am a chef: this is what that means.<br />\\n1...   \n",
       "2  i'm not ashamed of much, but writing public te...   \n",
       "3          i work in a library and go to school. . .   \n",
       "4  hey how's it going? currently vague on the pro...   \n",
       "\n",
       "                                              essay1  \\\n",
       "0  currently working as an international agent fo...   \n",
       "1  dedicating everyday to being an unbelievable b...   \n",
       "2  i make nerdy software for musicians, artists, ...   \n",
       "3          reading things written by old dead people   \n",
       "4                         work work work work + play   \n",
       "\n",
       "                                              essay2  \\\n",
       "0  making people laugh.<br />\\nranting about a go...   \n",
       "1  being silly. having ridiculous amonts of fun w...   \n",
       "2  improvising in different contexts. alternating...   \n",
       "3  playing synthesizers and organizing books acco...   \n",
       "4  creating imagery to look at:<br />\\nhttp://bag...   \n",
       "\n",
       "                                              essay3  \\\n",
       "0  the way i look. i am a six foot half asian, ha...   \n",
       "1                                                NaN   \n",
       "2  my large jaw and large glasses are the physica...   \n",
       "3                  socially awkward but i do my best   \n",
       "4            i smile a lot and my inquisitive nature   \n",
       "\n",
       "                                              essay4  \\\n",
       "0  books:<br />\\nabsurdistan, the republic, of mi...   \n",
       "1  i am die hard christopher moore fan. i don't r...   \n",
       "2  okay this is where the cultural matrix gets so...   \n",
       "3  bataille, celine, beckett. . .<br />\\nlynch, j...   \n",
       "4  music: bands, rappers, musicians<br />\\nat the...   \n",
       "\n",
       "                                              essay5  \\\n",
       "0  food.<br />\\nwater.<br />\\ncell phone.<br />\\n...   \n",
       "1  delicious porkness in all of its glories.<br /...   \n",
       "2  movement<br />\\nconversation<br />\\ncreation<b...   \n",
       "3                                                NaN   \n",
       "4                                                NaN   \n",
       "\n",
       "                        essay6  \\\n",
       "0  duality and humorous things   \n",
       "1                          NaN   \n",
       "2                          NaN   \n",
       "3   cats and german philosophy   \n",
       "4                          NaN   \n",
       "\n",
       "                                              essay7  \\\n",
       "0  trying to find someone to hang out with. i am ...   \n",
       "1                                                NaN   \n",
       "2  viewing. listening. dancing. talking. drinking...   \n",
       "3                                                NaN   \n",
       "4                                                NaN   \n",
       "\n",
       "                                              essay8  \\\n",
       "0  i am new to california and looking for someone...   \n",
       "1  i am very open and will share just about anyth...   \n",
       "2  when i was five years old, i was known as \"the...   \n",
       "3                                                NaN   \n",
       "4                                                NaN   \n",
       "\n",
       "                                              essay9            ethnicity  \\\n",
       "0  you want to be swept off your feet!<br />\\nyou...         asian, white   \n",
       "1                                                NaN                white   \n",
       "2  you are bright, open, intense, silly, ironic, ...                  NaN   \n",
       "3                              you feel so inclined.                white   \n",
       "4                                                NaN  asian, black, other   \n",
       "\n",
       "   height   income                          job       last_online  \\\n",
       "0    75.0     -1.0               transportation  2012-06-28-20-30   \n",
       "1    70.0  80000.0         hospitality / travel  2012-06-29-21-41   \n",
       "2    68.0     -1.0                          NaN  2012-06-27-09-10   \n",
       "3    71.0  20000.0                      student  2012-06-28-14-22   \n",
       "4    66.0     -1.0  artistic / musical / writer  2012-06-27-21-26   \n",
       "\n",
       "                          location  \\\n",
       "0  south san francisco, california   \n",
       "1              oakland, california   \n",
       "2        san francisco, california   \n",
       "3             berkeley, california   \n",
       "4        san francisco, california   \n",
       "\n",
       "                                      offspring orientation  \\\n",
       "0  doesn&rsquo;t have kids, but might want them    straight   \n",
       "1  doesn&rsquo;t have kids, but might want them    straight   \n",
       "2                                           NaN    straight   \n",
       "3                       doesn&rsquo;t want kids    straight   \n",
       "4                                           NaN    straight   \n",
       "\n",
       "                        pets                                  religion sex  \\\n",
       "0  likes dogs and likes cats     agnosticism and very serious about it   m   \n",
       "1  likes dogs and likes cats  agnosticism but not too serious about it   m   \n",
       "2                   has cats                                       NaN   m   \n",
       "3                 likes cats                                       NaN   m   \n",
       "4  likes dogs and likes cats                                       NaN   m   \n",
       "\n",
       "                                 sign     smokes  \\\n",
       "0                              gemini  sometimes   \n",
       "1                              cancer         no   \n",
       "2  pisces but it doesn&rsquo;t matter         no   \n",
       "3                              pisces         no   \n",
       "4                            aquarius         no   \n",
       "\n",
       "                                              speaks     status  \n",
       "0                                            english     single  \n",
       "1  english (fluently), spanish (poorly), french (...     single  \n",
       "2                               english, french, c++  available  \n",
       "3                           english, german (poorly)     single  \n",
       "4                                            english     single  "
      ]
     },
     "execution_count": 2,
     "metadata": {},
     "output_type": "execute_result"
    }
   ],
   "source": [
    "df=pd.read_csv(\"profiles.csv\")\n",
    "df.head()"
   ]
  },
  {
   "cell_type": "code",
   "execution_count": 3,
   "id": "ab321cc6-eea9-4b0a-8df8-dd655c88a4a9",
   "metadata": {},
   "outputs": [
    {
     "name": "stdout",
     "output_type": "stream",
     "text": [
      "<class 'pandas.core.frame.DataFrame'>\n",
      "RangeIndex: 60552 entries, 0 to 60551\n",
      "Data columns (total 31 columns):\n",
      " #   Column       Non-Null Count  Dtype  \n",
      "---  ------       --------------  -----  \n",
      " 0   age          9514 non-null   float64\n",
      " 1   body_type    8666 non-null   object \n",
      " 2   diet         5761 non-null   object \n",
      " 3   drinks       9012 non-null   object \n",
      " 4   drugs        7215 non-null   object \n",
      " 5   education    8459 non-null   object \n",
      " 6   essay0       8667 non-null   object \n",
      " 7   essay1       8347 non-null   object \n",
      " 8   essay2       8049 non-null   object \n",
      " 9   essay3       7690 non-null   object \n",
      " 10  essay4       7879 non-null   object \n",
      " 11  essay5       7814 non-null   object \n",
      " 12  essay6       7352 non-null   object \n",
      " 13  essay7       7553 non-null   object \n",
      " 14  essay8       6361 non-null   object \n",
      " 15  essay9       7554 non-null   object \n",
      " 16  ethnicity    8565 non-null   object \n",
      " 17  height       9514 non-null   float64\n",
      " 18  income       9514 non-null   float64\n",
      " 19  job          8183 non-null   object \n",
      " 20  last_online  9514 non-null   object \n",
      " 21  location     9514 non-null   object \n",
      " 22  offspring    3886 non-null   object \n",
      " 23  orientation  9514 non-null   object \n",
      " 24  pets         6352 non-null   object \n",
      " 25  religion     6261 non-null   object \n",
      " 26  sex          9514 non-null   object \n",
      " 27  sign         7776 non-null   object \n",
      " 28  smokes       8596 non-null   object \n",
      " 29  speaks       9508 non-null   object \n",
      " 30  status       9514 non-null   object \n",
      "dtypes: float64(3), object(28)\n",
      "memory usage: 14.3+ MB\n"
     ]
    }
   ],
   "source": [
    "df.info()"
   ]
  },
  {
   "cell_type": "code",
   "execution_count": 4,
   "id": "fc0f15db-0f26-4695-91c3-ba0bc094c5ea",
   "metadata": {},
   "outputs": [
    {
     "data": {
      "text/plain": [
       "age            51038\n",
       "body_type      51886\n",
       "diet           54791\n",
       "drinks         51540\n",
       "drugs          53337\n",
       "education      52093\n",
       "essay0         51885\n",
       "essay1         52205\n",
       "essay2         52503\n",
       "essay3         52862\n",
       "essay4         52673\n",
       "essay5         52738\n",
       "essay6         53200\n",
       "essay7         52999\n",
       "essay8         54191\n",
       "essay9         52998\n",
       "ethnicity      51987\n",
       "height         51038\n",
       "income         51038\n",
       "job            52369\n",
       "last_online    51038\n",
       "location       51038\n",
       "offspring      56666\n",
       "orientation    51038\n",
       "pets           54200\n",
       "religion       54291\n",
       "sex            51038\n",
       "sign           52776\n",
       "smokes         51956\n",
       "speaks         51044\n",
       "status         51038\n",
       "dtype: int64"
      ]
     },
     "execution_count": 4,
     "metadata": {},
     "output_type": "execute_result"
    }
   ],
   "source": [
    "# Neredeyse hiç dolu alan yok. Bu veri seti çok uğraştıracağa benziyor :)\n",
    "df.isnull().sum()"
   ]
  },
  {
   "cell_type": "code",
   "execution_count": 5,
   "id": "e5bc83b9-969a-4ff0-a8ad-811c10bf8923",
   "metadata": {},
   "outputs": [],
   "source": [
    "# Önce tüm alanları boş olan satırları silelim\n",
    "df = df.dropna(how='all')"
   ]
  },
  {
   "cell_type": "code",
   "execution_count": 6,
   "id": "4c92f51a-9e27-4cf8-a43f-dfd53423d998",
   "metadata": {},
   "outputs": [
    {
     "data": {
      "text/plain": [
       "body_type     848\n",
       "diet         3753\n",
       "drinks        502\n",
       "drugs        2299\n",
       "education    1055\n",
       "essay0        847\n",
       "essay1       1167\n",
       "essay2       1465\n",
       "essay3       1824\n",
       "essay4       1635\n",
       "essay5       1700\n",
       "essay6       2162\n",
       "essay7       1961\n",
       "essay8       3153\n",
       "essay9       1960\n",
       "ethnicity     949\n",
       "job          1331\n",
       "offspring    5628\n",
       "pets         3162\n",
       "religion     3253\n",
       "sign         1738\n",
       "smokes        918\n",
       "speaks          6\n",
       "dtype: int64"
      ]
     },
     "execution_count": 6,
     "metadata": {},
     "output_type": "execute_result"
    }
   ],
   "source": [
    "# Bakalım hangi alanda kaç adet boş kayıt var, sonucu 0 olmayan alanlar\n",
    "miss = df.isna().sum()\n",
    "miss[miss > 0]"
   ]
  },
  {
   "cell_type": "markdown",
   "id": "f714c75d-4464-4677-b06f-03500fed8cf0",
   "metadata": {},
   "source": [
    "Şimdi oldu. Artık işimize bakabiliriz"
   ]
  },
  {
   "cell_type": "markdown",
   "id": "73d2d2f6-8e2d-47cf-aec8-06562a81f3ae",
   "metadata": {},
   "source": [
    "### EDA - Keşfedici Veri Analizi\n",
    "Bu aşamada her bir alan için aşağıdaki işlemler yapılacaktır:\n",
    "* Veri yapısını incele\n",
    "* Boşlukları doldur\n",
    "* Özellik mühendisliği ile yeni alanlar oluştur\n",
    "* Object türünü kategoriye çevir"
   ]
  },
  {
   "cell_type": "code",
   "execution_count": 7,
   "id": "41a8890d-6b60-454e-9e9b-9cfb9f9f5ab1",
   "metadata": {},
   "outputs": [],
   "source": [
    "# Veri tanıma sürecinde belirlenen bazı alanlara toplu işlem yapılması planlanmaktadır.\n",
    "# Bu amaçla aşağıdaki dizilere eklenecek alanlar Veri ön işleme aşamasında kullanılacaktır\n",
    "obj_cols=[] # Toplu bir şekilde bu listedeki alanlar kategoriye çevrilecektir\n",
    "drp_cols=[] # Bu listedeki alanlar modele (x) dahil edilmeyeceklerdir"
   ]
  },
  {
   "cell_type": "code",
   "execution_count": 8,
   "id": "75059458-8316-49eb-ad4c-a74f49dfe164",
   "metadata": {},
   "outputs": [
    {
     "data": {
      "text/plain": [
       "body_type\n",
       "average           2274\n",
       "fit               2040\n",
       "athletic          1888\n",
       "thin               740\n",
       "curvy              626\n",
       "a little extra     430\n",
       "skinny             269\n",
       "full figured       181\n",
       "overweight          69\n",
       "jacked              64\n",
       "used up             47\n",
       "rather not say      38\n",
       "Name: count, dtype: int64"
      ]
     },
     "execution_count": 8,
     "metadata": {},
     "output_type": "execute_result"
    }
   ],
   "source": [
    "df[\"body_type\"].value_counts()"
   ]
  },
  {
   "cell_type": "code",
   "execution_count": 9,
   "id": "416bc9d8-76cf-423c-89d0-d4394a0e3f01",
   "metadata": {},
   "outputs": [],
   "source": [
    "# Boşlukları önce \"rather not say\" ile dolduralım. Sonra gruplayalım\n",
    "df.body_type.fillna(\"rather not say\", inplace=True)\n",
    "body_type_mapping = {\n",
    "    'average': 'athletic',\n",
    "    'fit': 'athletic',\n",
    "    'athletic': 'athletic',\n",
    "    'thin': 'thin',\n",
    "    'curvy': 'curvy',\n",
    "    'a little extra': 'curvy',\n",
    "    'skinny': 'thin',\n",
    "    'full figured': 'curvy',\n",
    "    'overweight': 'curvy',\n",
    "    'jacked': 'athletic',\n",
    "    'used up': 'curvy',\n",
    "    'rather not say': 'other'\n",
    "}\n",
    "df['body_type'] = df['body_type'].map(body_type_mapping)\n",
    "obj_cols.append(\"body_type\")"
   ]
  },
  {
   "cell_type": "code",
   "execution_count": 10,
   "id": "cd8154bb-c436-44f2-a08e-e7b3e4537297",
   "metadata": {},
   "outputs": [
    {
     "data": {
      "text/plain": [
       "diet\n",
       "mostly anything        2621\n",
       "anything               1067\n",
       "strictly anything       835\n",
       "mostly vegetarian       568\n",
       "mostly other            154\n",
       "strictly vegetarian     135\n",
       "vegetarian              111\n",
       "strictly other           64\n",
       "mostly vegan             52\n",
       "other                    52\n",
       "strictly vegan           40\n",
       "vegan                    28\n",
       "mostly halal             13\n",
       "mostly kosher            12\n",
       "strictly halal            4\n",
       "strictly kosher           2\n",
       "kosher                    2\n",
       "halal                     1\n",
       "Name: count, dtype: int64"
      ]
     },
     "execution_count": 10,
     "metadata": {},
     "output_type": "execute_result"
    }
   ],
   "source": [
    "df[\"diet\"].value_counts()"
   ]
  },
  {
   "cell_type": "code",
   "execution_count": 11,
   "id": "cd392b2d-06bc-4940-8e50-a76240f2d255",
   "metadata": {},
   "outputs": [],
   "source": [
    "# Önce diet alanındaki \"mostly\" ve \"strictly\" ifadelerini silelim\n",
    "df['diet'] = df['diet'].str.replace('mostly ', '').str.replace('strictly ', '')\n",
    "# Boşlukları önce \"anything\" sonra da \"other\" ile doldurup başarı durumuna bakalım\n",
    "df.diet.fillna(\"other\", inplace=True)\n",
    "obj_cols.append(\"diet\")"
   ]
  },
  {
   "cell_type": "code",
   "execution_count": 12,
   "id": "208e1f23-c554-4b6b-8fbc-8f67c161fd60",
   "metadata": {},
   "outputs": [
    {
     "data": {
      "text/plain": [
       "drinks\n",
       "socially       6679\n",
       "rarely          911\n",
       "often           809\n",
       "not at all      509\n",
       "very often       54\n",
       "desperately      50\n",
       "Name: count, dtype: int64"
      ]
     },
     "execution_count": 12,
     "metadata": {},
     "output_type": "execute_result"
    }
   ],
   "source": [
    "df['drinks'].value_counts()"
   ]
  },
  {
   "cell_type": "code",
   "execution_count": 13,
   "id": "996bf649-3215-4be0-b9bb-3e567241187d",
   "metadata": {},
   "outputs": [],
   "source": [
    "# Sayı olarak işe yaramadı bir de kategori deneyelim\n",
    "#df.drinks.fillna(\"not at all\", inplace=True)\n",
    "#df['drinks'] = df['drinks'].apply(lambda x: 0 if pd.isnull(x) or x == 'not at all' else 1)\n",
    "df.drinks.fillna(\"socially\", inplace=True)\n",
    "obj_cols.append(\"drinks\")"
   ]
  },
  {
   "cell_type": "code",
   "execution_count": 14,
   "id": "708ab533-056f-499c-b1f2-70efcbcd2925",
   "metadata": {},
   "outputs": [
    {
     "data": {
      "text/plain": [
       "drugs\n",
       "never        5972\n",
       "sometimes    1181\n",
       "often          62\n",
       "Name: count, dtype: int64"
      ]
     },
     "execution_count": 14,
     "metadata": {},
     "output_type": "execute_result"
    }
   ],
   "source": [
    "df.drugs.value_counts()"
   ]
  },
  {
   "cell_type": "code",
   "execution_count": 15,
   "id": "a1dd0d6f-236d-4503-9cea-aeb25a1b5511",
   "metadata": {},
   "outputs": [],
   "source": [
    "df.drugs.fillna(\"never\", inplace=True)\n",
    "obj_cols.append(\"drugs\")\n",
    "#df[\"drugs\"]=np.where(df[\"drugs\"]==\"never\",0,1)"
   ]
  },
  {
   "cell_type": "code",
   "execution_count": 16,
   "id": "d8283e28-a4a5-405a-a54a-3a45b094a218",
   "metadata": {},
   "outputs": [
    {
     "data": {
      "text/plain": [
       "education\n",
       "graduated from college/university    3770\n",
       "graduated from masters program       1402\n",
       "working on college/university         969\n",
       "working on masters program            251\n",
       "graduated from two-year college       245\n",
       "graduated from high school            205\n",
       "graduated from ph.d program           203\n",
       "graduated from law school             177\n",
       "working on two-year college           159\n",
       "working on ph.d program               159\n",
       "dropped out of college/university     149\n",
       "college/university                    134\n",
       "graduated from space camp             104\n",
       "dropped out of space camp              87\n",
       "working on space camp                  73\n",
       "graduated from med school              73\n",
       "working on law school                  55\n",
       "two-year college                       43\n",
       "working on med school                  41\n",
       "dropped out of two-year college        34\n",
       "masters program                        21\n",
       "working on high school                 20\n",
       "dropped out of ph.d program            19\n",
       "dropped out of masters program         16\n",
       "dropped out of high school             13\n",
       "high school                            13\n",
       "space camp                             10\n",
       "ph.d program                            5\n",
       "law school                              4\n",
       "dropped out of law school               3\n",
       "dropped out of med school               2\n",
       "Name: count, dtype: int64"
      ]
     },
     "execution_count": 16,
     "metadata": {},
     "output_type": "execute_result"
    }
   ],
   "source": [
    "df.education.value_counts()"
   ]
  },
  {
   "cell_type": "code",
   "execution_count": 17,
   "id": "8fd8765e-7655-4456-9557-e82e6cec105b",
   "metadata": {},
   "outputs": [],
   "source": [
    "# Eğitim düzeyini kategorilere ayırma\n",
    "df['education_category'] = df['education'].replace({\n",
    "    'graduated from college/university': 'Higher Education',\n",
    "    'graduated from masters program': 'Higher Education',\n",
    "    'working on college/university': 'Higher Education',\n",
    "    'working on masters program': 'Higher Education',\n",
    "    'graduated from two-year college': 'Higher Education',\n",
    "    'graduated from high school': 'Secondary Education',\n",
    "    'graduated from ph.d program': 'Higher Education',\n",
    "    'graduated from law school': 'Higher Education',\n",
    "    'working on two-year college': 'Higher Education',\n",
    "    'working on ph.d program': 'Higher Education',\n",
    "    'dropped out of college/university': 'Higher Education',\n",
    "    'college/university': 'Higher Education',\n",
    "    'graduated from space camp': 'Other',\n",
    "    'dropped out of space camp': 'Other',\n",
    "    'working on space camp': 'Other',\n",
    "    'graduated from med school': 'Other',\n",
    "    'working on law school': 'Other',\n",
    "    'two-year college': 'Higher Education',\n",
    "    'working on med school': 'Other',\n",
    "    'dropped out of two-year college': 'Higher Education',\n",
    "    'masters program': 'Higher Education',\n",
    "    'working on high school': 'Secondary Education',\n",
    "    'dropped out of ph.d program': 'Higher Education',\n",
    "    'dropped out of masters program': 'Higher Education',\n",
    "    'dropped out of high school': 'Secondary Education',\n",
    "    'high school': 'Secondary Education',\n",
    "    'space camp': 'Other',\n",
    "    'ph.d program': 'Higher Education',\n",
    "    'law school': 'Other',\n",
    "    'dropped out of law school': 'Other',\n",
    "    'dropped out of med school': 'Other'\n",
    "})"
   ]
  },
  {
   "cell_type": "code",
   "execution_count": 18,
   "id": "79ec8f07-b1f0-4f5b-ad0b-aac224ec0a70",
   "metadata": {},
   "outputs": [
    {
     "data": {
      "text/plain": [
       "education_category\n",
       "Higher Education       7756\n",
       "Other                   452\n",
       "Secondary Education     251\n",
       "Name: count, dtype: int64"
      ]
     },
     "execution_count": 18,
     "metadata": {},
     "output_type": "execute_result"
    }
   ],
   "source": [
    "df['education_category'].value_counts()"
   ]
  },
  {
   "cell_type": "code",
   "execution_count": 19,
   "id": "bd9df43e-c8d9-4a9a-96a3-5da3b7b631cc",
   "metadata": {},
   "outputs": [],
   "source": [
    "df['education_category'].fillna(\"Other\", inplace=True)"
   ]
  },
  {
   "cell_type": "code",
   "execution_count": 20,
   "id": "f6ff6894-9996-4d0f-88f7-034fa76fb410",
   "metadata": {},
   "outputs": [],
   "source": [
    "# Eğitim durumu için yeni bir alan oluşturalım ama hata verdiği için önce alanı stringe çevirelim\n",
    "df['education'] = df['education'].astype(str)\n",
    "df['education_status'] = df['education'].apply(lambda x: 'graduated' if 'graduated' in x\n",
    "                                               else ('working on' if 'working on' in x\n",
    "                                                     else 'dropped out of' if 'dropped out' in x\n",
    "                                                     else 'unknown'))"
   ]
  },
  {
   "cell_type": "code",
   "execution_count": 21,
   "id": "f75ca95b-76fe-4761-95ec-5ac331d85051",
   "metadata": {},
   "outputs": [
    {
     "data": {
      "text/plain": [
       "education_status\n",
       "graduated         6179\n",
       "working on        1727\n",
       "unknown           1285\n",
       "dropped out of     323\n",
       "Name: count, dtype: int64"
      ]
     },
     "execution_count": 21,
     "metadata": {},
     "output_type": "execute_result"
    }
   ],
   "source": [
    "df['education_status'].value_counts()"
   ]
  },
  {
   "cell_type": "code",
   "execution_count": 22,
   "id": "8d8da768-2d8e-4c75-99c5-d76768c0b9dc",
   "metadata": {},
   "outputs": [],
   "source": [
    "drp_cols.append(\"education\")\n",
    "obj_cols.append(\"education_category\")\n",
    "obj_cols.append(\"education_status\")"
   ]
  },
  {
   "cell_type": "code",
   "execution_count": 23,
   "id": "e31bcc66-6862-49e1-b933-cffad186b3f2",
   "metadata": {},
   "outputs": [
    {
     "data": {
      "text/plain": [
       "ethnicity\n",
       "white                                                                5278\n",
       "asian                                                                 863\n",
       "hispanic / latin                                                      426\n",
       "black                                                                 326\n",
       "other                                                                 319\n",
       "                                                                     ... \n",
       "native american, pacific islander, hispanic / latin, white, other       1\n",
       "indian, pacific islander                                                1\n",
       "asian, middle eastern, black                                            1\n",
       "asian, middle eastern, indian                                           1\n",
       "middle eastern, hispanic / latin, white, other                          1\n",
       "Name: count, Length: 112, dtype: int64"
      ]
     },
     "execution_count": 23,
     "metadata": {},
     "output_type": "execute_result"
    }
   ],
   "source": [
    " df['ethnicity'].value_counts()"
   ]
  },
  {
   "cell_type": "code",
   "execution_count": 24,
   "id": "1841759b-b3db-4c1c-874d-bf27bee3b9c0",
   "metadata": {},
   "outputs": [
    {
     "data": {
      "text/plain": [
       "primary_ethnic_group\n",
       "white               5384\n",
       "asian               1143\n",
       "nan                  949\n",
       "hispanic / latin     668\n",
       "black                496\n",
       "other                319\n",
       "indian               205\n",
       "middle eastern       141\n",
       "native american      111\n",
       "pacific islander      98\n",
       "Name: count, dtype: int64"
      ]
     },
     "execution_count": 24,
     "metadata": {},
     "output_type": "execute_result"
    }
   ],
   "source": [
    "# Liste kalabalık biraz törpüleyelim\n",
    "# Ana Etnik Grup bize yeter gibi\n",
    "df['ethnicity'] = df['ethnicity'].astype(str)\n",
    "df['primary_ethnic_group'] = df['ethnicity'].apply(lambda x: x.split(', ')[0])\n",
    "df['primary_ethnic_group'].value_counts()"
   ]
  },
  {
   "cell_type": "code",
   "execution_count": 25,
   "id": "95bd3df0-0bc9-4936-aec4-eb1941bc698e",
   "metadata": {},
   "outputs": [],
   "source": [
    "# Alanı stringe çevirince boşluklar \"nan\" olmuş. Boşlukları önce white sonra other ile dolduralım\n",
    "df['primary_ethnic_group']=df['primary_ethnic_group'].str.replace(\"nan\", \"white\")"
   ]
  },
  {
   "cell_type": "code",
   "execution_count": 26,
   "id": "ec21b7cc-de21-4df9-8907-ebf2ee8aa6b6",
   "metadata": {},
   "outputs": [],
   "source": [
    "drp_cols.append(\"ethnicity\")\n",
    "obj_cols.append(\"primary_ethnic_group\")"
   ]
  },
  {
   "cell_type": "code",
   "execution_count": 27,
   "id": "d6cbd2fe-8341-4c36-8aa4-605e9a26e517",
   "metadata": {},
   "outputs": [
    {
     "data": {
      "text/plain": [
       "job\n",
       "other                                1153\n",
       "student                               807\n",
       "science / tech / engineering          780\n",
       "artistic / musical / writer           715\n",
       "computer / hardware / software        709\n",
       "sales / marketing / biz dev           709\n",
       "medicine / health                     613\n",
       "education / academia                  538\n",
       "executive / management                378\n",
       "entertainment / media                 356\n",
       "banking / financial / real estate     353\n",
       "hospitality / travel                  217\n",
       "law / legal services                  200\n",
       "construction / craftsmanship          178\n",
       "clerical / administrative             117\n",
       "political / government                105\n",
       "rather not say                         68\n",
       "transportation                         64\n",
       "unemployed                             56\n",
       "retired                                38\n",
       "military                               29\n",
       "Name: count, dtype: int64"
      ]
     },
     "execution_count": 27,
     "metadata": {},
     "output_type": "execute_result"
    }
   ],
   "source": [
    "df.job.value_counts()"
   ]
  },
  {
   "cell_type": "code",
   "execution_count": 28,
   "id": "bd65eb5c-1427-4e21-b928-0adb5877c512",
   "metadata": {},
   "outputs": [],
   "source": [
    "# Durumu daha özet hale getiren yeni bir alan oluşturalım\n",
    "df['job_status'] = np.where(df['job'] == 'student', 'Student', np.where(df['job'] == 'unemployed', 'Unemployed', 'Employed'))"
   ]
  },
  {
   "cell_type": "code",
   "execution_count": 29,
   "id": "809d62c0-6a5e-415c-9d7a-986729a6fc01",
   "metadata": {},
   "outputs": [
    {
     "data": {
      "text/plain": [
       "job_status\n",
       "Employed      8651\n",
       "Student        807\n",
       "Unemployed      56\n",
       "Name: count, dtype: int64"
      ]
     },
     "execution_count": 29,
     "metadata": {},
     "output_type": "execute_result"
    }
   ],
   "source": [
    "df.job_status.value_counts()"
   ]
  },
  {
   "cell_type": "code",
   "execution_count": 30,
   "id": "a74b5403-786e-4cdc-a64b-6798a89d7333",
   "metadata": {},
   "outputs": [],
   "source": [
    "drp_cols.append(\"job\")\n",
    "obj_cols.append(\"job_status\")"
   ]
  },
  {
   "cell_type": "code",
   "execution_count": 31,
   "id": "06f31953-4522-4865-80d6-7ce227887e90",
   "metadata": {},
   "outputs": [
    {
     "data": {
      "text/plain": [
       "offspring\n",
       "doesn&rsquo;t have kids                                1224\n",
       "doesn&rsquo;t have kids, but might want them            620\n",
       "doesn&rsquo;t have kids, but wants them                 578\n",
       "doesn&rsquo;t want kids                                 454\n",
       "has a kid                                               304\n",
       "has kids                                                291\n",
       "doesn&rsquo;t have kids, and doesn&rsquo;t want any     172\n",
       "has kids, but doesn&rsquo;t want more                    68\n",
       "has a kid, but doesn&rsquo;t want more                   41\n",
       "has a kid, and might want more                           36\n",
       "wants kids                                               29\n",
       "might want kids                                          28\n",
       "has kids, and might want more                            24\n",
       "has a kid, and wants more                                12\n",
       "has kids, and wants more                                  5\n",
       "Name: count, dtype: int64"
      ]
     },
     "execution_count": 31,
     "metadata": {},
     "output_type": "execute_result"
    }
   ],
   "source": [
    "df.offspring.value_counts()"
   ]
  },
  {
   "cell_type": "code",
   "execution_count": 32,
   "id": "48aafb46-831f-4cf8-83e0-28962c7f8167",
   "metadata": {},
   "outputs": [],
   "source": [
    "# Önce boşlukları dolduralım\n",
    "df['offspring'].fillna(\"doesn&rsquo;t have kids\", inplace=True)"
   ]
  },
  {
   "cell_type": "code",
   "execution_count": 33,
   "id": "ec2be50c-a21f-4792-b9a4-0646e7b6fe1a",
   "metadata": {},
   "outputs": [],
   "source": [
    "# Yine liste Uzun kısaltalım.\n",
    "df['has_kid'] = 0\n",
    "df['wants_kid'] = 1\n",
    "\n",
    "# \"has children\" ve \"doesn't have kids, but wants them\" değerlerini 1 olarak güncelleme\n",
    "df.loc[df['offspring'].str.contains('has'), 'has_kid'] = 1\n",
    "df.loc[df['offspring'].str.contains('doesn&rsquo;t want'), 'wants_kid'] = 0"
   ]
  },
  {
   "cell_type": "code",
   "execution_count": 34,
   "id": "e681df3d-c165-4765-8c32-0f56b463975a",
   "metadata": {},
   "outputs": [],
   "source": [
    "drp_cols.append(\"offspring\")"
   ]
  },
  {
   "cell_type": "code",
   "execution_count": 35,
   "id": "701db685-6a02-4f1b-b8e1-9095d391bd37",
   "metadata": {},
   "outputs": [
    {
     "data": {
      "text/plain": [
       "pets\n",
       "likes dogs and likes cats          2314\n",
       "likes dogs                         1152\n",
       "has dogs                            683\n",
       "likes dogs and has cats             674\n",
       "has dogs and likes cats             384\n",
       "likes dogs and dislikes cats        301\n",
       "has dogs and has cats               226\n",
       "has cats                            221\n",
       "likes cats                          200\n",
       "has dogs and dislikes cats           82\n",
       "dislikes dogs and dislikes cats      42\n",
       "dislikes dogs and likes cats         36\n",
       "dislikes cats                        20\n",
       "dislikes dogs and has cats           13\n",
       "dislikes dogs                         4\n",
       "Name: count, dtype: int64"
      ]
     },
     "execution_count": 35,
     "metadata": {},
     "output_type": "execute_result"
    }
   ],
   "source": [
    "df.pets.value_counts()"
   ]
  },
  {
   "cell_type": "code",
   "execution_count": 36,
   "id": "56501360-dfab-4962-8754-8b37404eb00c",
   "metadata": {},
   "outputs": [],
   "source": [
    "# Hayvan sever ve sahip olma durumlarını ayıralım\n",
    "df['likes_animals'] = 0\n",
    "df['has_pets'] = 0\n",
    "df['pets'] = df['pets'].astype(str)\n",
    "\n",
    "# \"likes\" ifadesini içeren değerleri 1 olarak güncelleme\n",
    "df.loc[df['pets'].str.contains('likes|has'), 'likes_animals'] = 1\n",
    "\n",
    "# \"has\" ifadesini içeren değerleri 1 olarak güncelleme\n",
    "df.loc[df['pets'].str.contains('has'), 'has_pets'] = 1"
   ]
  },
  {
   "cell_type": "code",
   "execution_count": 37,
   "id": "051cb6ce-20c0-4b3e-9937-3e8647190ad2",
   "metadata": {},
   "outputs": [],
   "source": [
    "drp_cols.append(\"pets\")"
   ]
  },
  {
   "cell_type": "code",
   "execution_count": 38,
   "id": "470811aa-276a-4e2c-80d5-acae49c55a6c",
   "metadata": {},
   "outputs": [
    {
     "data": {
      "text/plain": [
       "religion\n",
       "agnosticism                                   448\n",
       "other                                         417\n",
       "agnosticism but not too serious about it      400\n",
       "agnosticism and laughing about it             386\n",
       "catholicism but not too serious about it      367\n",
       "atheism                                       363\n",
       "atheism and laughing about it                 329\n",
       "other and laughing about it                   325\n",
       "christianity but not too serious about it     320\n",
       "christianity                                  297\n",
       "other but not too serious about it            243\n",
       "judaism but not too serious about it          232\n",
       "atheism but not too serious about it          200\n",
       "catholicism                                   165\n",
       "atheism and somewhat serious about it         138\n",
       "christianity and somewhat serious about it    133\n",
       "other and somewhat serious about it           122\n",
       "catholicism and laughing about it             117\n",
       "judaism and laughing about it                 113\n",
       "agnosticism and somewhat serious about it     105\n",
       "atheism and very serious about it             101\n",
       "buddhism but not too serious about it          97\n",
       "christianity and very serious about it         96\n",
       "catholicism and somewhat serious about it      93\n",
       "judaism                                        93\n",
       "other and very serious about it                86\n",
       "buddhism                                       72\n",
       "christianity and laughing about it             59\n",
       "buddhism and laughing about it                 55\n",
       "buddhism and somewhat serious about it         52\n",
       "judaism and somewhat serious about it          49\n",
       "agnosticism and very serious about it          42\n",
       "hinduism but not too serious about it          40\n",
       "catholicism and very serious about it          20\n",
       "hinduism                                       17\n",
       "islam                                          12\n",
       "islam but not too serious about it             12\n",
       "buddhism and very serious about it             12\n",
       "hinduism and somewhat serious about it         11\n",
       "hinduism and laughing about it                  9\n",
       "hinduism and very serious about it              5\n",
       "islam and very serious about it                 3\n",
       "judaism and very serious about it               3\n",
       "islam and laughing about it                     1\n",
       "islam and somewhat serious about it             1\n",
       "Name: count, dtype: int64"
      ]
     },
     "execution_count": 38,
     "metadata": {},
     "output_type": "execute_result"
    }
   ],
   "source": [
    "df.religion.value_counts()"
   ]
  },
  {
   "cell_type": "code",
   "execution_count": 39,
   "id": "87c36bd1-c7e9-4026-86ac-c87c919f890b",
   "metadata": {},
   "outputs": [
    {
     "data": {
      "text/plain": [
       "religion\n",
       "other           4446\n",
       "agnosticism     1381\n",
       "atheism         1131\n",
       "christianity     905\n",
       "catholicism      762\n",
       "judaism          490\n",
       "buddhism         288\n",
       "hinduism          82\n",
       "islam             29\n",
       "Name: count, dtype: int64"
      ]
     },
     "execution_count": 39,
     "metadata": {},
     "output_type": "execute_result"
    }
   ],
   "source": [
    "# Önce boşlukları other ile dolduralım\n",
    "df.religion.fillna(\"other\", inplace=True)\n",
    "# Sadece din kısmını alalım\n",
    "df['religion'] = df['religion'].apply(lambda x: x.split()[0])\n",
    "df['religion'].value_counts()"
   ]
  },
  {
   "cell_type": "code",
   "execution_count": 40,
   "id": "aa146ee1-a07e-45cb-ac24-202a6d7a1b35",
   "metadata": {},
   "outputs": [],
   "source": [
    "obj_cols.append(\"religion\")"
   ]
  },
  {
   "cell_type": "code",
   "execution_count": 41,
   "id": "b070397a-6d06-426b-9e34-d5dba8e61b4c",
   "metadata": {},
   "outputs": [
    {
     "data": {
      "text/plain": [
       "smokes\n",
       "no                7011\n",
       "sometimes          565\n",
       "when drinking      480\n",
       "yes                307\n",
       "trying to quit     233\n",
       "Name: count, dtype: int64"
      ]
     },
     "execution_count": 41,
     "metadata": {},
     "output_type": "execute_result"
    }
   ],
   "source": [
    "df.smokes.value_counts()"
   ]
  },
  {
   "cell_type": "code",
   "execution_count": 42,
   "id": "59d3bf0c-0907-45ff-9a4b-6776b22e4adf",
   "metadata": {},
   "outputs": [
    {
     "data": {
      "text/plain": [
       "0           sometimes\n",
       "1                  no\n",
       "2                  no\n",
       "3                  no\n",
       "4                  no\n",
       "            ...      \n",
       "9509               no\n",
       "9510        sometimes\n",
       "9511    when drinking\n",
       "9512               no\n",
       "9513               no\n",
       "Name: smokes, Length: 9514, dtype: object"
      ]
     },
     "execution_count": 42,
     "metadata": {},
     "output_type": "execute_result"
    }
   ],
   "source": [
    "df.smokes.fillna(\"no\")"
   ]
  },
  {
   "cell_type": "code",
   "execution_count": 43,
   "id": "dacd91b8-ba99-4f85-9f04-1f85f3a157cc",
   "metadata": {},
   "outputs": [],
   "source": [
    "# Sigara içenlere 1, içmeyenlere 0 verelim\n",
    "df['smokes'] = (df['smokes'] != 'no').astype(int)\n",
    "# Bu kısımda boşlukları da 1 ile doldurmuş olduk. Daha sonra buraya dönüp 0 ile doldurmak gerekebilir"
   ]
  },
  {
   "cell_type": "code",
   "execution_count": 44,
   "id": "e3c971d9-a0b1-4984-bd37-1c312cee9b90",
   "metadata": {},
   "outputs": [
    {
     "data": {
      "text/plain": [
       "essay0     847\n",
       "essay1    1167\n",
       "essay2    1465\n",
       "essay3    1824\n",
       "essay4    1635\n",
       "essay5    1700\n",
       "essay6    2162\n",
       "essay7    1961\n",
       "essay8    3153\n",
       "essay9    1960\n",
       "job       1331\n",
       "sign      1738\n",
       "speaks       6\n",
       "dtype: int64"
      ]
     },
     "execution_count": 44,
     "metadata": {},
     "output_type": "execute_result"
    }
   ],
   "source": [
    "miss = df.isna().sum()\n",
    "miss[miss > 0]"
   ]
  },
  {
   "cell_type": "code",
   "execution_count": 45,
   "id": "0946c72d-c188-4cef-aa16-8c22af65bf64",
   "metadata": {},
   "outputs": [
    {
     "data": {
      "text/plain": [
       "['education',\n",
       " 'ethnicity',\n",
       " 'job',\n",
       " 'offspring',\n",
       " 'pets',\n",
       " 'essay0',\n",
       " 'essay1',\n",
       " 'essay2',\n",
       " 'essay3',\n",
       " 'essay4',\n",
       " 'essay5',\n",
       " 'essay6',\n",
       " 'essay7',\n",
       " 'essay8',\n",
       " 'essay9',\n",
       " 'sign',\n",
       " 'speaks']"
      ]
     },
     "execution_count": 45,
     "metadata": {},
     "output_type": "execute_result"
    }
   ],
   "source": [
    "# Şimdilik yukarıdaki alanları da modele dahil etmeyelim. Sonra duruma göre bakarız.\n",
    "drp_cols.extend([\"essay0\", \"essay1\", \"essay2\", \"essay3\", \"essay4\", \"essay5\", \"essay6\", \"essay7\", \"essay8\", \"essay9\", \"sign\", \"speaks\"])\n",
    "drp_cols"
   ]
  },
  {
   "cell_type": "code",
   "execution_count": 46,
   "id": "e6a5b45b-21c4-4374-8667-0a95823983a3",
   "metadata": {},
   "outputs": [
    {
     "data": {
      "text/plain": [
       "orientation\n",
       "straight    8191\n",
       "gay          897\n",
       "bisexual     426\n",
       "Name: count, dtype: int64"
      ]
     },
     "execution_count": 46,
     "metadata": {},
     "output_type": "execute_result"
    }
   ],
   "source": [
    "df.orientation.value_counts()"
   ]
  },
  {
   "cell_type": "code",
   "execution_count": 47,
   "id": "df6bd91a-f33f-4e85-be4b-76b8e429f423",
   "metadata": {},
   "outputs": [],
   "source": [
    "obj_cols.append(\"orientation\")"
   ]
  },
  {
   "cell_type": "code",
   "execution_count": 48,
   "id": "2dc33c43-ad25-46ea-9a1c-0cdc7684a117",
   "metadata": {},
   "outputs": [
    {
     "data": {
      "text/plain": [
       "sex\n",
       "m    5675\n",
       "f    3839\n",
       "Name: count, dtype: int64"
      ]
     },
     "execution_count": 48,
     "metadata": {},
     "output_type": "execute_result"
    }
   ],
   "source": [
    "df.sex.value_counts()"
   ]
  },
  {
   "cell_type": "code",
   "execution_count": 49,
   "id": "1be7866d-54e6-4a38-a84b-d7b9e9021418",
   "metadata": {},
   "outputs": [],
   "source": [
    "obj_cols.append(\"sex\")"
   ]
  },
  {
   "cell_type": "code",
   "execution_count": 50,
   "id": "4b2a88a9-d5b4-40b4-b81f-322c80b66d2a",
   "metadata": {},
   "outputs": [
    {
     "name": "stdout",
     "output_type": "stream",
     "text": [
      "<class 'pandas.core.frame.DataFrame'>\n",
      "Index: 9514 entries, 0 to 9513\n",
      "Data columns (total 20 columns):\n",
      " #   Column                Non-Null Count  Dtype   \n",
      "---  ------                --------------  -----   \n",
      " 0   age                   9514 non-null   float64 \n",
      " 1   body_type             9514 non-null   category\n",
      " 2   diet                  9514 non-null   category\n",
      " 3   drinks                9514 non-null   category\n",
      " 4   drugs                 9514 non-null   category\n",
      " 5   height                9514 non-null   float64 \n",
      " 6   income                9514 non-null   float64 \n",
      " 7   orientation           9514 non-null   category\n",
      " 8   religion              9514 non-null   category\n",
      " 9   sex                   9514 non-null   category\n",
      " 10  smokes                9514 non-null   int32   \n",
      " 11  status                9514 non-null   object  \n",
      " 12  education_category    9514 non-null   category\n",
      " 13  education_status      9514 non-null   category\n",
      " 14  primary_ethnic_group  9514 non-null   category\n",
      " 15  job_status            9514 non-null   category\n",
      " 16  has_kid               9514 non-null   int64   \n",
      " 17  wants_kid             9514 non-null   int64   \n",
      " 18  likes_animals         9514 non-null   int64   \n",
      " 19  has_pets              9514 non-null   int64   \n",
      "dtypes: category(11), float64(3), int32(1), int64(4), object(1)\n",
      "memory usage: 810.5+ KB\n"
     ]
    }
   ],
   "source": [
    "# Birkaç alanı daha ihmal edelim\n",
    "drp_cols.extend([\"last_online\", \"location\"])\n",
    "# Gereksiz alanları veri setinden çıkaralım\n",
    "df.drop(drp_cols, axis=1, inplace=True)\n",
    "# Tüm objeleri kategori yapalım\n",
    "df[obj_cols] = df[obj_cols].astype('category')\n",
    "df.info()"
   ]
  },
  {
   "cell_type": "code",
   "execution_count": 51,
   "id": "fc530590-893e-4032-bec2-3296f5f404d9",
   "metadata": {},
   "outputs": [],
   "source": [
    "# 60000 kayıtlı dosyanın height alanında eksik var\n",
    "# df['height'].fillna(df.groupby('sex')['height'].transform('median'), inplace=True)"
   ]
  },
  {
   "cell_type": "markdown",
   "id": "ea5be0d8-b96c-4a1c-a688-90410c7e443d",
   "metadata": {},
   "source": [
    "### Modelleme\n",
    "Bu aşamada iki model deneyeceğiz:\n",
    "1. Regression ile yaş tahmini yapacağız\n",
    "2. Classification ile nesil sınıflandırması yapacağız.\n",
    "\n",
    "#### 1. Yaş Tahmini"
   ]
  },
  {
   "cell_type": "code",
   "execution_count": 61,
   "id": "5231e941-0895-4e7c-96b3-38ae9c00f64a",
   "metadata": {},
   "outputs": [],
   "source": [
    "import pandas as pd\n",
    "import numpy as np\n",
    "import matplotlib.pyplot as plt\n",
    "import seaborn as sns\n",
    "import warnings\n",
    "warnings.filterwarnings(\"ignore\")\n",
    "pd.set_option(\"display.max_columns\",100)\n",
    "\n",
    "from sklearn.linear_model import LinearRegression\n",
    "from sklearn.linear_model import Ridge,Lasso\n",
    "from sklearn.linear_model import ElasticNet\n",
    "from sklearn.neighbors import KNeighborsRegressor\n",
    "from sklearn.ensemble import AdaBoostRegressor\n",
    "from sklearn.ensemble import GradientBoostingRegressor\n",
    "from sklearn.ensemble import RandomForestRegressor\n",
    "from sklearn.tree import ExtraTreeRegressor\n",
    "from sklearn.tree import DecisionTreeRegressor\n",
    "from xgboost import XGBRegressor\n",
    "from sklearn.model_selection import train_test_split\n",
    "from sklearn.metrics import mean_squared_error,r2_score,mean_absolute_error\n",
    "\n",
    "def algo_regression(x,y):\n",
    "        #Bütün modelleri tanımlıyorum\n",
    "        L=LinearRegression()\n",
    "        R=Ridge()\n",
    "        Lass=Lasso()\n",
    "        E=ElasticNet()\n",
    "        ETR=ExtraTreeRegressor()\n",
    "        GBR=GradientBoostingRegressor()\n",
    "        kn=KNeighborsRegressor()\n",
    "        dt=DecisionTreeRegressor()\n",
    "        xgb=XGBRegressor()\n",
    "        ab=AdaBoostRegressor()\n",
    "        rf=RandomForestRegressor()\n",
    "       \n",
    "        \n",
    "        algos=[L,R,Lass,E,ETR,GBR,kn,dt,xgb,ab,rf]\n",
    "        algo_names=['Linear','Ridge','Lasso','ElasticNet','Extra Tree','Gradient Boosting',\n",
    "                    'KNeighbors','Decision Tree','XGBRegressor', 'AdaBoost', 'Random Forest']\n",
    "        \n",
    "        x_train, x_test, y_train, y_test=train_test_split(x,y,test_size=.2,random_state=42)\n",
    "        \n",
    "        r_squared= []\n",
    "        rmse= []\n",
    "        mae= []\n",
    "        \n",
    "        #Hata ve doğruluk oranlarını bir tablo haline getirmek için bir dataframe oluşturuyorum\n",
    "        result=pd.DataFrame(columns=['R_Squared','RMSE','MAE'],index=algo_names)\n",
    "                \n",
    "        for algo in algos:\n",
    "            p=algo.fit(x_train,y_train).predict(x_test)\n",
    "            r_squared.append(r2_score(y_test,p))\n",
    "            rmse.append(mean_squared_error(y_test,p)**.5)\n",
    "            mae.append(mean_absolute_error(y_test,p))\n",
    "        \n",
    "        #result adlı tabloya doğruluk ve hata oranlarımı yerleştiriyorum\n",
    "        result.R_Squared=r_squared\n",
    "        result.RMSE=rmse\n",
    "        result.MAE=mae\n",
    "        \n",
    "       #oluşturduğum result tablosunu doğruluk oranına (r2_score) göre sıralayıp dönüyor\n",
    "        rtable=result.sort_values('R_Squared',ascending=False)\n",
    "        return rtable"
   ]
  },
  {
   "cell_type": "code",
   "execution_count": 53,
   "id": "4b936c76-5751-48cd-be24-a703a6adf541",
   "metadata": {},
   "outputs": [
    {
     "data": {
      "text/plain": [
       "((9514, 51), (9514, 1))"
      ]
     },
     "execution_count": 53,
     "metadata": {},
     "output_type": "execute_result"
    }
   ],
   "source": [
    "x=df.drop(\"age\", axis=1)\n",
    "y=df[[\"age\"]]\n",
    "x=pd.get_dummies(x, drop_first=True)\n",
    "x.shape, y.shape"
   ]
  },
  {
   "cell_type": "code",
   "execution_count": 54,
   "id": "299c5c1d-8fd7-4b18-aa49-a497478bd549",
   "metadata": {},
   "outputs": [
    {
     "data": {
      "text/html": [
       "<div>\n",
       "<style scoped>\n",
       "    .dataframe tbody tr th:only-of-type {\n",
       "        vertical-align: middle;\n",
       "    }\n",
       "\n",
       "    .dataframe tbody tr th {\n",
       "        vertical-align: top;\n",
       "    }\n",
       "\n",
       "    .dataframe thead th {\n",
       "        text-align: right;\n",
       "    }\n",
       "</style>\n",
       "<table border=\"1\" class=\"dataframe\">\n",
       "  <thead>\n",
       "    <tr style=\"text-align: right;\">\n",
       "      <th></th>\n",
       "      <th>R_Squared</th>\n",
       "      <th>RMSE</th>\n",
       "      <th>MAE</th>\n",
       "    </tr>\n",
       "  </thead>\n",
       "  <tbody>\n",
       "    <tr>\n",
       "      <th>Gradient Boosting</th>\n",
       "      <td>0.345624</td>\n",
       "      <td>7.711872</td>\n",
       "      <td>5.711485</td>\n",
       "    </tr>\n",
       "    <tr>\n",
       "      <th>Ridge</th>\n",
       "      <td>0.328827</td>\n",
       "      <td>7.810218</td>\n",
       "      <td>5.846177</td>\n",
       "    </tr>\n",
       "    <tr>\n",
       "      <th>Linear</th>\n",
       "      <td>0.328810</td>\n",
       "      <td>7.810318</td>\n",
       "      <td>5.847140</td>\n",
       "    </tr>\n",
       "    <tr>\n",
       "      <th>XGBRegressor</th>\n",
       "      <td>0.294024</td>\n",
       "      <td>8.010154</td>\n",
       "      <td>5.936407</td>\n",
       "    </tr>\n",
       "    <tr>\n",
       "      <th>Random Forest</th>\n",
       "      <td>0.251740</td>\n",
       "      <td>8.246549</td>\n",
       "      <td>6.107857</td>\n",
       "    </tr>\n",
       "    <tr>\n",
       "      <th>KNeighbors</th>\n",
       "      <td>0.121393</td>\n",
       "      <td>8.936003</td>\n",
       "      <td>6.590436</td>\n",
       "    </tr>\n",
       "    <tr>\n",
       "      <th>ElasticNet</th>\n",
       "      <td>0.050845</td>\n",
       "      <td>9.287836</td>\n",
       "      <td>7.010954</td>\n",
       "    </tr>\n",
       "    <tr>\n",
       "      <th>Lasso</th>\n",
       "      <td>0.026473</td>\n",
       "      <td>9.406326</td>\n",
       "      <td>7.096842</td>\n",
       "    </tr>\n",
       "    <tr>\n",
       "      <th>AdaBoost</th>\n",
       "      <td>-0.254174</td>\n",
       "      <td>10.676401</td>\n",
       "      <td>8.989670</td>\n",
       "    </tr>\n",
       "    <tr>\n",
       "      <th>Decision Tree</th>\n",
       "      <td>-0.306766</td>\n",
       "      <td>10.897952</td>\n",
       "      <td>7.864947</td>\n",
       "    </tr>\n",
       "    <tr>\n",
       "      <th>Extra Tree</th>\n",
       "      <td>-0.315684</td>\n",
       "      <td>10.935077</td>\n",
       "      <td>7.792597</td>\n",
       "    </tr>\n",
       "  </tbody>\n",
       "</table>\n",
       "</div>"
      ],
      "text/plain": [
       "                   R_Squared       RMSE       MAE\n",
       "Gradient Boosting   0.345624   7.711872  5.711485\n",
       "Ridge               0.328827   7.810218  5.846177\n",
       "Linear              0.328810   7.810318  5.847140\n",
       "XGBRegressor        0.294024   8.010154  5.936407\n",
       "Random Forest       0.251740   8.246549  6.107857\n",
       "KNeighbors          0.121393   8.936003  6.590436\n",
       "ElasticNet          0.050845   9.287836  7.010954\n",
       "Lasso               0.026473   9.406326  7.096842\n",
       "AdaBoost           -0.254174  10.676401  8.989670\n",
       "Decision Tree      -0.306766  10.897952  7.864947\n",
       "Extra Tree         -0.315684  10.935077  7.792597"
      ]
     },
     "execution_count": 54,
     "metadata": {},
     "output_type": "execute_result"
    }
   ],
   "source": [
    "algo_regression(x,y)"
   ]
  },
  {
   "cell_type": "code",
   "execution_count": 55,
   "id": "c8a7f939-497f-488c-b155-032a3528dfaa",
   "metadata": {},
   "outputs": [],
   "source": [
    "# Gradient Boosting\t0.345544\t7.712339\t5.712359"
   ]
  },
  {
   "cell_type": "markdown",
   "id": "da04a0c9-97de-4ed9-81c1-681019d343b5",
   "metadata": {},
   "source": [
    "#### 2. Sınıflandırma"
   ]
  },
  {
   "cell_type": "code",
   "execution_count": 56,
   "id": "6bd5e1fd-d36a-49e1-a19a-9fdc4ed7aa61",
   "metadata": {},
   "outputs": [],
   "source": [
    "df=df[(df['age'] <= 70) & (df['age'] >= 18)]\n",
    "df.loc[(df['age'] >= 18) & (df['age'] <= 32), 'generation'] = 1 \n",
    "df.loc[(df['age'] >= 22) & (df['age'] <= 47), 'generation'] = 2 \n",
    "df.loc[(df['age'] >= 48) & (df['age'] <= 70), 'generation'] = 3"
   ]
  },
  {
   "cell_type": "code",
   "execution_count": 57,
   "id": "58bd1a92-577a-40ad-bad3-a8c91ee8e38d",
   "metadata": {},
   "outputs": [
    {
     "name": "stdout",
     "output_type": "stream",
     "text": [
      "<class 'pandas.core.frame.DataFrame'>\n",
      "Index: 9513 entries, 0 to 9513\n",
      "Data columns (total 21 columns):\n",
      " #   Column                Non-Null Count  Dtype   \n",
      "---  ------                --------------  -----   \n",
      " 0   age                   9513 non-null   float64 \n",
      " 1   body_type             9513 non-null   category\n",
      " 2   diet                  9513 non-null   category\n",
      " 3   drinks                9513 non-null   category\n",
      " 4   drugs                 9513 non-null   category\n",
      " 5   height                9513 non-null   float64 \n",
      " 6   income                9513 non-null   float64 \n",
      " 7   orientation           9513 non-null   category\n",
      " 8   religion              9513 non-null   category\n",
      " 9   sex                   9513 non-null   category\n",
      " 10  smokes                9513 non-null   int32   \n",
      " 11  status                9513 non-null   object  \n",
      " 12  education_category    9513 non-null   category\n",
      " 13  education_status      9513 non-null   category\n",
      " 14  primary_ethnic_group  9513 non-null   category\n",
      " 15  job_status            9513 non-null   category\n",
      " 16  has_kid               9513 non-null   int64   \n",
      " 17  wants_kid             9513 non-null   int64   \n",
      " 18  likes_animals         9513 non-null   int64   \n",
      " 19  has_pets              9513 non-null   int64   \n",
      " 20  generation            9513 non-null   float64 \n",
      "dtypes: category(11), float64(4), int32(1), int64(4), object(1)\n",
      "memory usage: 884.7+ KB\n"
     ]
    }
   ],
   "source": [
    "df.info()"
   ]
  },
  {
   "cell_type": "code",
   "execution_count": 93,
   "id": "23bd6320-bc1f-4caf-a43f-82c4dab2d01c",
   "metadata": {},
   "outputs": [],
   "source": [
    "from sklearn.naive_bayes import GaussianNB\n",
    "from sklearn.naive_bayes import BernoulliNB\n",
    "from sklearn.linear_model import LogisticRegression\n",
    "from sklearn.tree import DecisionTreeClassifier\n",
    "from sklearn.ensemble import RandomForestClassifier\n",
    "from sklearn.ensemble import GradientBoostingClassifier\n",
    "from sklearn.neighbors import KNeighborsClassifier\n",
    "\n",
    "from sklearn.metrics import accuracy_score, precision_score, recall_score\n",
    "from sklearn.metrics import f1_score, confusion_matrix, classification_report\n",
    "from sklearn.model_selection import train_test_split\n",
    "\n",
    "g = GaussianNB(priors=None, var_smoothing=1e-09)\n",
    "b = BernoulliNB()\n",
    "l = LogisticRegression()\n",
    "d = DecisionTreeClassifier()\n",
    "r = RandomForestClassifier()\n",
    "gb= GradientBoostingClassifier()\n",
    "kn= KNeighborsClassifier()\n",
    "\n",
    "def algo_classification(x, y):\n",
    "    modeller=[g, b, l, d, r, gb, kn]\n",
    "    isimler=[\"GaussianNB\", \"BernoulliNB\", \"LogisticRegression\", \"DecisionTreeClassifier\", \n",
    "             \"RandomForestClassifier\", \"GradientBoostingClassifier\", \"KNeighborsClassifier\"]\n",
    "\n",
    "    x_train, x_test, y_train, y_test = train_test_split(x, y, test_size=.2, random_state = 42)\n",
    "    \n",
    "    accuracy = []\n",
    "    precision = []\n",
    "    recall = []\n",
    "    f1 = []\n",
    "    mdl=[]\n",
    "\n",
    "    print(\"Veriler hazır modeller deneniyor\")\n",
    "    for model in modeller:\n",
    "        print(model, \" modeli eğitiliyor!..\")\n",
    "        model=model.fit(x_train,y_train)\n",
    "        tahmin=model.predict((np.array(x_test) if model==kn else x_test))\n",
    "        mdl.append(model)\n",
    "        accuracy.append(accuracy_score(tahmin, y_test))\n",
    "        precision.append(precision_score(tahmin, y_test, average='weighted'))\n",
    "        recall.append(recall_score(tahmin, y_test, average='weighted'))\n",
    "        f1.append(f1_score(tahmin, y_test, average='weighted'))\n",
    "        print(confusion_matrix(tahmin, y_test))\n",
    "\n",
    "    print(\"Eğitim tamamlandı.\")\n",
    "    \n",
    "    metrics=pd.DataFrame(columns=[\"Accuracy\", \"Precision\", \"Recall\", \"F1\", \"Model\"], index=isimler)\n",
    "    metrics[\"Accuracy\"] = accuracy\n",
    "    metrics[\"Precision\"] = precision  \n",
    "    metrics[\"Recall\"] = recall\n",
    "    metrics[\"F1\"] = f1\n",
    "    metrics[\"Model\"]=mdl\n",
    "\n",
    "    metrics.sort_values(\"F1\", ascending=False, inplace=True)\n",
    "\n",
    "    print(\"\")\n",
    "    print(\"##########################################\")\n",
    "    print(\"En başarılı model: \", metrics.iloc[0].name)\n",
    "    model=metrics.iloc[0,-1]\n",
    "    tahmin=model.predict(np.array(x_test) if model==kn else x_test)\n",
    "    print(\"Confusion Matrix:\")\n",
    "    print(confusion_matrix(tahmin, y_test))\n",
    "    print(\"classification Report:\")\n",
    "    print(classification_report(tahmin, y_test))\n",
    "    print(\"Diğer Modeller:\")\n",
    "    \n",
    "    return metrics.drop(\"Model\", axis=1)"
   ]
  },
  {
   "cell_type": "code",
   "execution_count": 85,
   "id": "83414bc8-6357-418d-86c5-f4054502cb00",
   "metadata": {},
   "outputs": [
    {
     "data": {
      "text/plain": [
       "((9513, 51), (9513, 1))"
      ]
     },
     "execution_count": 85,
     "metadata": {},
     "output_type": "execute_result"
    }
   ],
   "source": [
    "x=df.drop([\"age\", \"generation\"], axis=1)\n",
    "y=df[[\"generation\"]]\n",
    "x=pd.get_dummies(x, drop_first=True)\n",
    "x.shape, y.shape"
   ]
  },
  {
   "cell_type": "code",
   "execution_count": 87,
   "id": "c0d7f8d1-ba85-443b-a54c-a63a5fdfb4ab",
   "metadata": {},
   "outputs": [
    {
     "data": {
      "text/plain": [
       "generation\n",
       "2.0    8234\n",
       "3.0     745\n",
       "1.0     534\n",
       "Name: count, dtype: int64"
      ]
     },
     "execution_count": 87,
     "metadata": {},
     "output_type": "execute_result"
    }
   ],
   "source": [
    "y[\"generation\"].value_counts()"
   ]
  },
  {
   "cell_type": "code",
   "execution_count": 89,
   "id": "ebfa5781-e62a-47cb-9e72-adc56402b149",
   "metadata": {},
   "outputs": [],
   "source": [
    "from imblearn.over_sampling import SMOTE\n",
    "\n",
    "smote = SMOTE()\n",
    "x2, y2 = smote.fit_resample(x, y)"
   ]
  },
  {
   "cell_type": "code",
   "execution_count": 94,
   "id": "9e4f36ca-1d82-4ffd-866d-731054370117",
   "metadata": {},
   "outputs": [
    {
     "name": "stdout",
     "output_type": "stream",
     "text": [
      "Veriler hazır modeller deneniyor\n",
      "GaussianNB()  modeli eğitiliyor!..\n",
      "[[   7    2    2]\n",
      " [  20  109  132]\n",
      " [1591 1566 1512]]\n",
      "BernoulliNB()  modeli eğitiliyor!..\n",
      "[[1412  282   43]\n",
      " [ 129  993  226]\n",
      " [  77  402 1377]]\n",
      "LogisticRegression()  modeli eğitiliyor!..\n",
      "[[1455 1420 1311]\n",
      " [ 163  257  335]\n",
      " [   0    0    0]]\n",
      "DecisionTreeClassifier()  modeli eğitiliyor!..\n",
      "[[1551  129   16]\n",
      " [  59 1378   97]\n",
      " [   8  170 1533]]\n",
      "RandomForestClassifier()  modeli eğitiliyor!..\n",
      "[[1577   97    8]\n",
      " [  36 1469   73]\n",
      " [   5  111 1565]]\n",
      "GradientBoostingClassifier()  modeli eğitiliyor!..\n",
      "[[1514  226   79]\n",
      " [  55 1230  189]\n",
      " [  49  221 1378]]\n",
      "KNeighborsClassifier()  modeli eğitiliyor!..\n",
      "[[1589  158   13]\n",
      " [  20 1288   52]\n",
      " [   9  231 1581]]\n",
      "Eğitim tamamlandı.\n",
      "\n",
      "##########################################\n",
      "En başarılı model:  RandomForestClassifier\n",
      "Confusion Matrix:\n",
      "[[1577   97    8]\n",
      " [  36 1469   73]\n",
      " [   5  111 1565]]\n",
      "classification Report:\n",
      "              precision    recall  f1-score   support\n",
      "\n",
      "         1.0       0.97      0.94      0.96      1682\n",
      "         2.0       0.88      0.93      0.90      1578\n",
      "         3.0       0.95      0.93      0.94      1681\n",
      "\n",
      "    accuracy                           0.93      4941\n",
      "   macro avg       0.93      0.93      0.93      4941\n",
      "weighted avg       0.94      0.93      0.93      4941\n",
      "\n",
      "Diğer Modeller:\n"
     ]
    },
    {
     "data": {
      "text/html": [
       "<div>\n",
       "<style scoped>\n",
       "    .dataframe tbody tr th:only-of-type {\n",
       "        vertical-align: middle;\n",
       "    }\n",
       "\n",
       "    .dataframe tbody tr th {\n",
       "        vertical-align: top;\n",
       "    }\n",
       "\n",
       "    .dataframe thead th {\n",
       "        text-align: right;\n",
       "    }\n",
       "</style>\n",
       "<table border=\"1\" class=\"dataframe\">\n",
       "  <thead>\n",
       "    <tr style=\"text-align: right;\">\n",
       "      <th></th>\n",
       "      <th>Accuracy</th>\n",
       "      <th>Precision</th>\n",
       "      <th>Recall</th>\n",
       "      <th>F1</th>\n",
       "    </tr>\n",
       "  </thead>\n",
       "  <tbody>\n",
       "    <tr>\n",
       "      <th>RandomForestClassifier</th>\n",
       "      <td>0.933212</td>\n",
       "      <td>0.935020</td>\n",
       "      <td>0.933212</td>\n",
       "      <td>0.933691</td>\n",
       "    </tr>\n",
       "    <tr>\n",
       "      <th>KNeighborsClassifier</th>\n",
       "      <td>0.902247</td>\n",
       "      <td>0.915215</td>\n",
       "      <td>0.902247</td>\n",
       "      <td>0.904707</td>\n",
       "    </tr>\n",
       "    <tr>\n",
       "      <th>DecisionTreeClassifier</th>\n",
       "      <td>0.903056</td>\n",
       "      <td>0.906659</td>\n",
       "      <td>0.903056</td>\n",
       "      <td>0.904031</td>\n",
       "    </tr>\n",
       "    <tr>\n",
       "      <th>GradientBoostingClassifier</th>\n",
       "      <td>0.834244</td>\n",
       "      <td>0.842514</td>\n",
       "      <td>0.834244</td>\n",
       "      <td>0.836295</td>\n",
       "    </tr>\n",
       "    <tr>\n",
       "      <th>BernoulliNB</th>\n",
       "      <td>0.765432</td>\n",
       "      <td>0.782578</td>\n",
       "      <td>0.765432</td>\n",
       "      <td>0.770422</td>\n",
       "    </tr>\n",
       "    <tr>\n",
       "      <th>GaussianNB</th>\n",
       "      <td>0.329488</td>\n",
       "      <td>0.871465</td>\n",
       "      <td>0.329488</td>\n",
       "      <td>0.458460</td>\n",
       "    </tr>\n",
       "    <tr>\n",
       "      <th>LogisticRegression</th>\n",
       "      <td>0.346489</td>\n",
       "      <td>0.785266</td>\n",
       "      <td>0.346489</td>\n",
       "      <td>0.457061</td>\n",
       "    </tr>\n",
       "  </tbody>\n",
       "</table>\n",
       "</div>"
      ],
      "text/plain": [
       "                            Accuracy  Precision    Recall        F1\n",
       "RandomForestClassifier      0.933212   0.935020  0.933212  0.933691\n",
       "KNeighborsClassifier        0.902247   0.915215  0.902247  0.904707\n",
       "DecisionTreeClassifier      0.903056   0.906659  0.903056  0.904031\n",
       "GradientBoostingClassifier  0.834244   0.842514  0.834244  0.836295\n",
       "BernoulliNB                 0.765432   0.782578  0.765432  0.770422\n",
       "GaussianNB                  0.329488   0.871465  0.329488  0.458460\n",
       "LogisticRegression          0.346489   0.785266  0.346489  0.457061"
      ]
     },
     "execution_count": 94,
     "metadata": {},
     "output_type": "execute_result"
    }
   ],
   "source": [
    "algo_classification(x2,y2)"
   ]
  },
  {
   "cell_type": "markdown",
   "id": "eaad1a18",
   "metadata": {},
   "source": [
    "## Sonuç\n",
    "\n",
    "Bu projede hem yaş (regression) hem de çağ (classification) modelleri geliştirilmiştir."
   ]
  }
 ],
 "metadata": {
  "kernelspec": {
   "display_name": "Python 3 (ipykernel)",
   "language": "python",
   "name": "python3"
  },
  "language_info": {
   "codemirror_mode": {
    "name": "ipython",
    "version": 3
   },
   "file_extension": ".py",
   "mimetype": "text/x-python",
   "name": "python",
   "nbconvert_exporter": "python",
   "pygments_lexer": "ipython3",
   "version": "3.11.5"
  }
 },
 "nbformat": 4,
 "nbformat_minor": 5
}
