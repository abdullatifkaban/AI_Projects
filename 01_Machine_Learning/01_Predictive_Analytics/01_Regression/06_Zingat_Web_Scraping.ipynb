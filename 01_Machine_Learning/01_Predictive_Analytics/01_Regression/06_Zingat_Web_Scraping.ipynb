{
 "cells": [
  {
   "cell_type": "markdown",
   "id": "206a6489-5ad1-4ed5-a11a-94fc91c53072",
   "metadata": {},
   "source": [
    "# Regression - Final Project\n",
    "\n",
    "Bu projede www.zingat.com sitesinde yayımlanan ev kirası ilanlarını webscraping ile alarak, Regression algoritmaları ile ev kira fiyatlarını tahmin eden bir model geliştiriyoruz.\n",
    "\n",
    "<img src=\"https://media-blog.zingat.com/uploads/2021/02/Zingat_logo.beyaz_.1.jpg\" width=\"400\">\n",
    "\n",
    "### İlan Listesini Oluşturalım"
   ]
  },
  {
   "cell_type": "code",
   "execution_count": 232,
   "id": "e79b6ffd-0787-4c81-8b54-1183d4fb34b4",
   "metadata": {},
   "outputs": [],
   "source": [
    "from bs4 import BeautifulSoup\n",
    "import requests\n",
    "import pandas as pd\n",
    "import numpy as np\n",
    "import seaborn as sns\n",
    "\n",
    "import warnings\n",
    "warnings.filterwarnings(\"ignore\")"
   ]
  },
  {
   "cell_type": "code",
   "execution_count": 12,
   "id": "68dc8342-c4fb-46bb-b88b-f22d2ddaee48",
   "metadata": {},
   "outputs": [],
   "source": [
    "# Site içerik vermeyi reddedince tarayıcıdan bağlanmaya çalışalım.\n",
    "headers = {\n",
    "    \"User-Agent\": \"Mozilla/5.0 (Windows NT 10.0; Win64; x64) AppleWebKit/537.36 (KHTML, like Gecko) Chrome/90.0.4430.212 Safari/537.36\"\n",
    "}\n",
    "\n",
    "sehir=\"ankara\"\n",
    "# Önce zingat sayfasında arama yaparak ilan sayısını ve kaç sayfadan oluştuğunu belirledikten sonra\n",
    "# Aşağıya bu ilanlardan kaç sayfa istediğimizi belirtiyoruz.\n",
    "sayfa=22\n",
    "# Her bir sayfadaki ilanların linklerinden ayrı bir liste oluşturalım\n",
    "linkler=[]\n",
    "for i in range(sayfa):\n",
    "    url=\"https://www.zingat.com/\"+sehir+\"-kiralik?page=\"+str(i+1)\n",
    "    response=requests.get(url, headers=headers)\n",
    "    soup = BeautifulSoup(response.text, \"html.parser\")\n",
    "    ul_liste = soup.find(\"ul\", class_=\"zc-viewport\")\n",
    "    li_liste = ul_liste.find_all(\"li\")\n",
    "    \n",
    "    for li in li_liste:\n",
    "        link = li.find(\"a\", class_=\"zl-card-inner\")[\"href\"]\n",
    "        linkler.append(link)"
   ]
  },
  {
   "cell_type": "code",
   "execution_count": 13,
   "id": "6a42e440-d089-4f7b-b67f-0d383f812cef",
   "metadata": {},
   "outputs": [
    {
     "name": "stdout",
     "output_type": "stream",
     "text": [
      "443\n"
     ]
    },
    {
     "data": {
      "text/plain": [
       "['/demet-hastane-metro-yani-cogu-sektore-uygun-kiralik-200m2-dukkan-5037997i',\n",
       " '/ankara-cankaya-emekli-subay-evlerinde-kiralik-daire-5002604i',\n",
       " '/dora-park-sifir-sitede-yerden-isitmali-kiralik-genis-3-1-daire-5037957i',\n",
       " '/yenimahalle-metro-ve-sehir-hastanesi-yakini-1-1-kiralik-daire-5038030i',\n",
       " '/meva-sehir-de-3-1-esyali-en-az-3-aylik-kiralik-daire-5002892i',\n",
       " '/sincan-torekent-mah-3-1-2-kat-4979071i',\n",
       " '/incesuda-katta-bakimli-mantolamali-3-1-kiralik-daire-4846593i',\n",
       " '/kolej-metrosuna-5-dk-mesafede-acik-terasli-esyali-2-1-kiralik-4856296i',\n",
       " '/oz-inoks-tan-kolej-topraklik-mah-80-m2-wc-li-kose-basi-5038755i',\n",
       " '/oz-inoks-tan-kolej-topraklik-mah-40-m2-wc-li-kombili-5038757i']"
      ]
     },
     "execution_count": 13,
     "metadata": {},
     "output_type": "execute_result"
    }
   ],
   "source": [
    "# Kaç adet ilan elde ettik.\n",
    "print(len(linkler))\n",
    "linkler[:10]"
   ]
  },
  {
   "cell_type": "markdown",
   "id": "5b6e8a23-f35f-4712-8d81-ef968d47ab34",
   "metadata": {},
   "source": [
    "### Her ilanın özelliklerini alalım"
   ]
  },
  {
   "cell_type": "code",
   "execution_count": 17,
   "id": "86e86162-76ad-4728-b31b-45b5a4b05bdf",
   "metadata": {},
   "outputs": [],
   "source": [
    "#İlan detay sayfasından gelecek tüm alanlar için boş bir DataFrame oluşturalım\n",
    "df=pd.DataFrame()\n",
    "\n",
    "for link in linkler:\n",
    "    url=\"https://www.zingat.com\" + link\n",
    "    response=requests.get(url, headers=headers)\n",
    "    soup = BeautifulSoup(response.text, \"html.parser\")\n",
    "    # Her ilan için boş bir satır oluşturup içini dolduralım\n",
    "    row={}\n",
    "    row['Fiyat']=soup.find(\"strong\", itemprop=\"price\").get(\"content\")\n",
    "    poi_map_div = soup.find('div', id='poiMap')\n",
    "    # Harita konumu varsa alalım\n",
    "    if poi_map_div:\n",
    "        row['Lon']=soup.find('div', id='poiMap')['data-lon']\n",
    "        row['Lat']=soup.find('div', id='poiMap')['data-lat']\n",
    "    # Liste halindeki detay bilgileri de alalım\n",
    "    for li in soup.find(\"ul\", class_=\"row attribute-detail-list\").findAll('li', class_=\"col-md-6\"):\n",
    "        row[li.find('strong').text.strip()]= li.find('span').text.strip()\n",
    "        #print(li.find('strong').text.strip(), li.find('span').text.strip())\n",
    "    \n",
    "    # İçini doldurduğumuz satırı data frame içerisine ekleyelim\n",
    "    df = pd.concat([df, pd.DataFrame([row])], ignore_index=True)"
   ]
  },
  {
   "cell_type": "code",
   "execution_count": 19,
   "id": "bcff6c59-c50b-4dae-8c91-3d34b45af96e",
   "metadata": {},
   "outputs": [],
   "source": [
    "#df.to_csv(sehir+\".csv\", index=False)"
   ]
  },
  {
   "cell_type": "code",
   "execution_count": 259,
   "id": "5b6e70e2-51bb-4dce-9365-8f780ea7496e",
   "metadata": {},
   "outputs": [],
   "source": [
    "from bs4 import BeautifulSoup\n",
    "import requests\n",
    "import pandas as pd\n",
    "import numpy as np\n",
    "import seaborn as sns\n",
    "\n",
    "import warnings\n",
    "warnings.filterwarnings(\"ignore\")"
   ]
  },
  {
   "cell_type": "code",
   "execution_count": 260,
   "id": "1d7f3092-5023-437b-b781-b70f206abbdb",
   "metadata": {},
   "outputs": [],
   "source": [
    "sehir=\"ankara\"\n",
    "df=pd.read_csv(sehir+\".csv\")"
   ]
  },
  {
   "cell_type": "code",
   "execution_count": 261,
   "id": "1039f839-74d0-493f-b62a-1be38b4d8266",
   "metadata": {},
   "outputs": [],
   "source": [
    "#df[\"Link\"]=linkler"
   ]
  },
  {
   "cell_type": "markdown",
   "id": "54a3a655-0f29-4ef4-94ae-921d99e2d91a",
   "metadata": {},
   "source": [
    "### EDA"
   ]
  },
  {
   "cell_type": "code",
   "execution_count": 262,
   "id": "1abd0cc7-0378-41f0-9023-ac6cfd60409b",
   "metadata": {},
   "outputs": [
    {
     "name": "stdout",
     "output_type": "stream",
     "text": [
      "<class 'pandas.core.frame.DataFrame'>\n",
      "RangeIndex: 443 entries, 0 to 442\n",
      "Data columns (total 41 columns):\n",
      " #   Column                     Non-Null Count  Dtype  \n",
      "---  ------                     --------------  -----  \n",
      " 0   Fiyat                      443 non-null    int64  \n",
      " 1   Lon                        428 non-null    float64\n",
      " 2   Lat                        428 non-null    float64\n",
      " 3   İlan Tarihi                443 non-null    object \n",
      " 4   İlan no                    443 non-null    int64  \n",
      " 5   m²                         141 non-null    object \n",
      " 6   Net m²                     387 non-null    object \n",
      " 7   Bölüm/Oda Sayısı           72 non-null     float64\n",
      " 8   Isıtma Tipi                349 non-null    object \n",
      " 9   Bina Yaşı                  359 non-null    object \n",
      " 10  Kullanım Durumu            321 non-null    object \n",
      " 11  Aidat                      306 non-null    object \n",
      " 12  Depozito                   342 non-null    object \n",
      " 13  Kimden                     180 non-null    object \n",
      " 14  Krediye Uygun              443 non-null    object \n",
      " 15  Brüt m²                    302 non-null    object \n",
      " 16  Oda Sayısı                 291 non-null    object \n",
      " 17  Banyo Sayısı               290 non-null    object \n",
      " 18  Binadaki Kat Sayısı        341 non-null    object \n",
      " 19  Bulunduğu Kat              321 non-null    object \n",
      " 20  Mobilya Durumu             231 non-null    object \n",
      " 21  Konut Şekli                134 non-null    object \n",
      " 22  Görüntülü Ev Gezintisi\n",
      "?   112 non-null    object \n",
      " 23  Tapu Durumu                120 non-null    object \n",
      " 24  Yapının Durumu             190 non-null    object \n",
      " 25  Hayvan Dostu Patili Evler  30 non-null     object \n",
      " 26  Kapasite                   7 non-null      object \n",
      " 27  Devren                     13 non-null     object \n",
      " 28  Dış Cephe                  6 non-null      object \n",
      " 29  Otopark                    2 non-null      object \n",
      " 30  Bahçe                      5 non-null      object \n",
      " 31  Yapı Tipi                  5 non-null      object \n",
      " 32  Kapalı Alan                6 non-null      object \n",
      " 33  Zemin Etüdlü               8 non-null      object \n",
      " 34  Arsa Alanı                 1 non-null      object \n",
      " 35  Tavan Yüksekliği           1 non-null      object \n",
      " 36  Takasa Uygun               2 non-null      object \n",
      " 37  İmar Durumu                2 non-null      object \n",
      " 38  Parselli                   2 non-null      object \n",
      " 39  Ada                        2 non-null      float64\n",
      " 40  Parsel                     2 non-null      float64\n",
      "dtypes: float64(5), int64(2), object(34)\n",
      "memory usage: 142.0+ KB\n"
     ]
    }
   ],
   "source": [
    "df.info()"
   ]
  },
  {
   "cell_type": "code",
   "execution_count": 263,
   "id": "2a55e722-c54d-48b3-a778-06922fb93ca3",
   "metadata": {},
   "outputs": [
    {
     "data": {
      "text/plain": [
       "Index(['Fiyat', 'Lon', 'Lat', 'İlan Tarihi', 'İlan no', 'm²', 'Net m²',\n",
       "       'Bölüm/Oda Sayısı', 'Isıtma Tipi', 'Bina Yaşı', 'Kullanım Durumu',\n",
       "       'Aidat', 'Depozito', 'Kimden', 'Krediye Uygun', 'Brüt m²', 'Oda Sayısı',\n",
       "       'Banyo Sayısı', 'Binadaki Kat Sayısı', 'Bulunduğu Kat',\n",
       "       'Mobilya Durumu', 'Konut Şekli', 'Görüntülü Ev Gezintisi\\n?',\n",
       "       'Tapu Durumu', 'Yapının Durumu', 'Hayvan Dostu Patili Evler',\n",
       "       'Kapasite', 'Devren', 'Dış Cephe', 'Otopark', 'Bahçe', 'Yapı Tipi',\n",
       "       'Kapalı Alan', 'Zemin Etüdlü', 'Arsa Alanı', 'Tavan Yüksekliği',\n",
       "       'Takasa Uygun', 'İmar Durumu', 'Parselli', 'Ada', 'Parsel'],\n",
       "      dtype='object')"
      ]
     },
     "execution_count": 263,
     "metadata": {},
     "output_type": "execute_result"
    }
   ],
   "source": [
    "# Değeri az ve gereksiz alanları veri setinden çıkaralım\n",
    "df.columns"
   ]
  },
  {
   "cell_type": "code",
   "execution_count": 264,
   "id": "61f5b906-0a53-4ea7-84b1-dec544fecc91",
   "metadata": {},
   "outputs": [],
   "source": [
    "df.drop(['İlan Tarihi', 'İlan no', 'Görüntülü Ev Gezintisi\\n?', 'Kapasite', 'Devren', 'Dış Cephe', 'Otopark', 'Bahçe', 'Yapı Tipi',\n",
    "       'Kapalı Alan', 'Zemin Etüdlü', 'Arsa Alanı', 'Tavan Yüksekliği',\n",
    "       'Takasa Uygun', 'İmar Durumu', 'Parselli', 'Ada', 'Parsel'], axis=1, inplace=True)"
   ]
  },
  {
   "cell_type": "code",
   "execution_count": 265,
   "id": "bf87003c-5693-4359-8d19-38a850c1851b",
   "metadata": {},
   "outputs": [
    {
     "name": "stdout",
     "output_type": "stream",
     "text": [
      "<class 'pandas.core.frame.DataFrame'>\n",
      "RangeIndex: 443 entries, 0 to 442\n",
      "Data columns (total 23 columns):\n",
      " #   Column                     Non-Null Count  Dtype  \n",
      "---  ------                     --------------  -----  \n",
      " 0   Fiyat                      443 non-null    int64  \n",
      " 1   Lon                        428 non-null    float64\n",
      " 2   Lat                        428 non-null    float64\n",
      " 3   m²                         141 non-null    object \n",
      " 4   Net m²                     387 non-null    object \n",
      " 5   Bölüm/Oda Sayısı           72 non-null     float64\n",
      " 6   Isıtma Tipi                349 non-null    object \n",
      " 7   Bina Yaşı                  359 non-null    object \n",
      " 8   Kullanım Durumu            321 non-null    object \n",
      " 9   Aidat                      306 non-null    object \n",
      " 10  Depozito                   342 non-null    object \n",
      " 11  Kimden                     180 non-null    object \n",
      " 12  Krediye Uygun              443 non-null    object \n",
      " 13  Brüt m²                    302 non-null    object \n",
      " 14  Oda Sayısı                 291 non-null    object \n",
      " 15  Banyo Sayısı               290 non-null    object \n",
      " 16  Binadaki Kat Sayısı        341 non-null    object \n",
      " 17  Bulunduğu Kat              321 non-null    object \n",
      " 18  Mobilya Durumu             231 non-null    object \n",
      " 19  Konut Şekli                134 non-null    object \n",
      " 20  Tapu Durumu                120 non-null    object \n",
      " 21  Yapının Durumu             190 non-null    object \n",
      " 22  Hayvan Dostu Patili Evler  30 non-null     object \n",
      "dtypes: float64(3), int64(1), object(19)\n",
      "memory usage: 79.7+ KB\n"
     ]
    }
   ],
   "source": [
    "df.info()"
   ]
  },
  {
   "cell_type": "code",
   "execution_count": 266,
   "id": "4d8ca72e-d968-447e-875a-b519457a6861",
   "metadata": {},
   "outputs": [
    {
     "data": {
      "text/plain": [
       "Fiyat\n",
       "15000     39\n",
       "18000     21\n",
       "20000     18\n",
       "10000     17\n",
       "11000     16\n",
       "          ..\n",
       "19900      1\n",
       "475000     1\n",
       "47500      1\n",
       "25250      1\n",
       "510000     1\n",
       "Name: count, Length: 137, dtype: int64"
      ]
     },
     "execution_count": 266,
     "metadata": {},
     "output_type": "execute_result"
    }
   ],
   "source": [
    "df[\"Fiyat\"].value_counts()"
   ]
  },
  {
   "cell_type": "code",
   "execution_count": 267,
   "id": "2b3aab69-a23b-47c7-a9a6-62be50ae207b",
   "metadata": {},
   "outputs": [
    {
     "data": {
      "text/plain": [
       "<Axes: ylabel='Fiyat'>"
      ]
     },
     "execution_count": 267,
     "metadata": {},
     "output_type": "execute_result"
    },
    {
     "data": {
      "image/png": "[encoded data removed]",
      "text/plain": [
       "<Figure size 640x480 with 1 Axes>"
      ]
     },
     "metadata": {},
     "output_type": "display_data"
    }
   ],
   "source": [
    "sns.boxplot(y=df[\"Fiyat\"])"
   ]
  },
  {
   "cell_type": "code",
   "execution_count": 268,
   "id": "d1c65e2f-6105-4a4d-83de-ff3904d625ab",
   "metadata": {},
   "outputs": [],
   "source": [
    "df=df[df[\"Fiyat\"]<30000]"
   ]
  },
  {
   "cell_type": "code",
   "execution_count": 269,
   "id": "c9322fd2-5bac-451d-bf66-227739c85b71",
   "metadata": {},
   "outputs": [
    {
     "data": {
      "text/plain": [
       "array([nan, '80m²', '40m²', '105m²', '160m²', '95m²', '130m²', '90m²',\n",
       "       '55m²', '112m²', '110m²', '70m²', '78m²', '60m²', '250m²', '180m²',\n",
       "       '28m²', '100m²', '45m²', '125m²', '230m²', '50m²', '350m²',\n",
       "       '120m²', '240m²', '115m²', '175m²', '72m²', '155m²', '17m²',\n",
       "       '30m²', '3070m²', '85m²', '1265m²', '140m²', '550m²'], dtype=object)"
      ]
     },
     "execution_count": 269,
     "metadata": {},
     "output_type": "execute_result"
    }
   ],
   "source": [
    "df[\"m²\"].unique()"
   ]
  },
  {
   "cell_type": "code",
   "execution_count": 270,
   "id": "416fa6f3-69d6-4650-a61b-48f3e4e18592",
   "metadata": {},
   "outputs": [],
   "source": [
    "# Şimdilik boşlukları 0 ile doldurup sayıya çevirelim. Sonra tekrar boşaltalım.\n",
    "df[\"m²\"] = df[\"m²\"].str.replace(\"m²\", \"\").fillna(0).astype(int)\n",
    "df[\"m²\"] = df[\"m²\"].replace(0, np.nan)"
   ]
  },
  {
   "cell_type": "code",
   "execution_count": 271,
   "id": "ce65d04c-3d37-4b72-a78e-2a10834321de",
   "metadata": {},
   "outputs": [],
   "source": [
    "# Şimdilik boşlukları 0 ile doldurup sayıya çevirelim. Sonra tekrar boşaltalım.\n",
    "df[\"Net m²\"] = df[\"Net m²\"].str.replace(\"-\", \"0\").fillna(0).astype(int)\n",
    "df[\"Net m²\"] = df[\"Net m²\"].replace(0, np.nan)"
   ]
  },
  {
   "cell_type": "code",
   "execution_count": 272,
   "id": "c5134fdf-8af5-4bae-83a0-9a25ba706f8f",
   "metadata": {},
   "outputs": [
    {
     "data": {
      "text/plain": [
       "array(['110m²', '140m²', '55m²', '130m²', '95m²', nan, '200m²', '210m²',\n",
       "       '135m²', '90m²', '120m²', '145m²', '60m²', '15000m²', '125m²',\n",
       "       '155m²', '220m²', '65m²', '143m²', '175m²', '105m²', '131m²',\n",
       "       '50m²', '180m²', '160m²', '80m²', '100m²', '123m²', '115m²',\n",
       "       '240m²', '42m²', '45m²', '150m²', '75m²', '47m²', '85m²', '170m²',\n",
       "       '52m²', '70m²', '185m²', '96m²', '67m²', '98m²', '230m²', '280m²',\n",
       "       '158m²', '72m²', '162m²', '116m²', '102m²'], dtype=object)"
      ]
     },
     "execution_count": 272,
     "metadata": {},
     "output_type": "execute_result"
    }
   ],
   "source": [
    "df[\"Brüt m²\"].unique()\n",
    "# Alan için Net m2 alanını kullanacağım için bu alan ihtiyaç yok gibi."
   ]
  },
  {
   "cell_type": "code",
   "execution_count": 273,
   "id": "458f081c-b164-42f2-bf60-1d370d27d9cb",
   "metadata": {},
   "outputs": [
    {
     "data": {
      "text/html": [
       "<div>\n",
       "<style scoped>\n",
       "    .dataframe tbody tr th:only-of-type {\n",
       "        vertical-align: middle;\n",
       "    }\n",
       "\n",
       "    .dataframe tbody tr th {\n",
       "        vertical-align: top;\n",
       "    }\n",
       "\n",
       "    .dataframe thead th {\n",
       "        text-align: right;\n",
       "    }\n",
       "</style>\n",
       "<table border=\"1\" class=\"dataframe\">\n",
       "  <thead>\n",
       "    <tr style=\"text-align: right;\">\n",
       "      <th></th>\n",
       "      <th>Fiyat</th>\n",
       "      <th>Lon</th>\n",
       "      <th>Lat</th>\n",
       "      <th>m²</th>\n",
       "      <th>Net m²</th>\n",
       "      <th>Bölüm/Oda Sayısı</th>\n",
       "    </tr>\n",
       "  </thead>\n",
       "  <tbody>\n",
       "    <tr>\n",
       "      <th>Fiyat</th>\n",
       "      <td>1.000000</td>\n",
       "      <td>0.309041</td>\n",
       "      <td>0.215845</td>\n",
       "      <td>-0.161952</td>\n",
       "      <td>0.288055</td>\n",
       "      <td>0.208377</td>\n",
       "    </tr>\n",
       "    <tr>\n",
       "      <th>Lon</th>\n",
       "      <td>0.309041</td>\n",
       "      <td>1.000000</td>\n",
       "      <td>0.822839</td>\n",
       "      <td>0.075521</td>\n",
       "      <td>-0.106038</td>\n",
       "      <td>0.234998</td>\n",
       "    </tr>\n",
       "    <tr>\n",
       "      <th>Lat</th>\n",
       "      <td>0.215845</td>\n",
       "      <td>0.822839</td>\n",
       "      <td>1.000000</td>\n",
       "      <td>0.262649</td>\n",
       "      <td>-0.045966</td>\n",
       "      <td>0.236374</td>\n",
       "    </tr>\n",
       "    <tr>\n",
       "      <th>m²</th>\n",
       "      <td>-0.161952</td>\n",
       "      <td>0.075521</td>\n",
       "      <td>0.262649</td>\n",
       "      <td>1.000000</td>\n",
       "      <td>0.966398</td>\n",
       "      <td>0.330664</td>\n",
       "    </tr>\n",
       "    <tr>\n",
       "      <th>Net m²</th>\n",
       "      <td>0.288055</td>\n",
       "      <td>-0.106038</td>\n",
       "      <td>-0.045966</td>\n",
       "      <td>0.966398</td>\n",
       "      <td>1.000000</td>\n",
       "      <td>0.554372</td>\n",
       "    </tr>\n",
       "    <tr>\n",
       "      <th>Bölüm/Oda Sayısı</th>\n",
       "      <td>0.208377</td>\n",
       "      <td>0.234998</td>\n",
       "      <td>0.236374</td>\n",
       "      <td>0.330664</td>\n",
       "      <td>0.554372</td>\n",
       "      <td>1.000000</td>\n",
       "    </tr>\n",
       "  </tbody>\n",
       "</table>\n",
       "</div>"
      ],
      "text/plain": [
       "                     Fiyat       Lon       Lat        m²    Net m²  \\\n",
       "Fiyat             1.000000  0.309041  0.215845 -0.161952  0.288055   \n",
       "Lon               0.309041  1.000000  0.822839  0.075521 -0.106038   \n",
       "Lat               0.215845  0.822839  1.000000  0.262649 -0.045966   \n",
       "m²               -0.161952  0.075521  0.262649  1.000000  0.966398   \n",
       "Net m²            0.288055 -0.106038 -0.045966  0.966398  1.000000   \n",
       "Bölüm/Oda Sayısı  0.208377  0.234998  0.236374  0.330664  0.554372   \n",
       "\n",
       "                  Bölüm/Oda Sayısı  \n",
       "Fiyat                     0.208377  \n",
       "Lon                       0.234998  \n",
       "Lat                       0.236374  \n",
       "m²                        0.330664  \n",
       "Net m²                    0.554372  \n",
       "Bölüm/Oda Sayısı          1.000000  "
      ]
     },
     "execution_count": 273,
     "metadata": {},
     "output_type": "execute_result"
    }
   ],
   "source": [
    "df.corr(numeric_only=True)"
   ]
  },
  {
   "cell_type": "code",
   "execution_count": 274,
   "id": "0dcb43bf-4628-4394-940b-f21ae9960117",
   "metadata": {
    "scrolled": true
   },
   "outputs": [],
   "source": [
    "# Arada güçlü bir ilişki var. m2 ile Net m2 alanını lineer regression ile doldurabiliriz.\n",
    "import pandas as pd\n",
    "from sklearn.linear_model import LinearRegression\n",
    "\n",
    "subset = df.dropna(subset=['m²', 'Net m²'])\n",
    "X = subset['m²'].values.reshape(-1, 1)\n",
    "y = subset['Net m²'].values\n",
    "model = LinearRegression()\n",
    "model.fit(X, y)\n",
    "missing_data = df[df['Net m²'].isnull()]['m²'].values.reshape(-1, 1)\n",
    "predict = model.predict(missing_data)\n",
    "df.loc[df['Net m²'].isnull(), 'Net m²'] = predict"
   ]
  },
  {
   "cell_type": "code",
   "execution_count": 275,
   "id": "e8aba393-9771-4b85-9b68-1dcb4d7cedb2",
   "metadata": {},
   "outputs": [],
   "source": [
    "df.drop(['m²', 'Brüt m²'], axis=1, inplace=True)"
   ]
  },
  {
   "cell_type": "code",
   "execution_count": 276,
   "id": "4476f7c8-a56a-4827-a6e6-6cef6bac9b3e",
   "metadata": {},
   "outputs": [
    {
     "data": {
      "text/plain": [
       "array([nan,  1.,  2.,  3.,  4.])"
      ]
     },
     "execution_count": 276,
     "metadata": {},
     "output_type": "execute_result"
    }
   ],
   "source": [
    "df[\"Bölüm/Oda Sayısı\"].unique()"
   ]
  },
  {
   "cell_type": "code",
   "execution_count": 277,
   "id": "d535ea69-4fd3-46e8-a8ce-f29f8b2e415a",
   "metadata": {},
   "outputs": [
    {
     "data": {
      "text/plain": [
       "array(['2+1', '3+1', '1+1', nan, '4+1', '5+1'], dtype=object)"
      ]
     },
     "execution_count": 277,
     "metadata": {},
     "output_type": "execute_result"
    }
   ],
   "source": [
    "df[\"Oda Sayısı\"].unique()"
   ]
  },
  {
   "cell_type": "code",
   "execution_count": 278,
   "id": "56b3fb91-f950-485d-aab8-3a8d8bde2803",
   "metadata": {},
   "outputs": [],
   "source": [
    "df[\"Oda\"] = df[\"Oda Sayısı\"].str.split(\"+\").apply(lambda x: eval(\"+\".join(x)) if isinstance(x, list) else np.nan)"
   ]
  },
  {
   "cell_type": "code",
   "execution_count": 279,
   "id": "edcecf5b-0194-45c7-9918-7408cf8fccdd",
   "metadata": {},
   "outputs": [
    {
     "data": {
      "text/plain": [
       "Oda\n",
       "4.0    143\n",
       "3.0     46\n",
       "2.0     34\n",
       "5.0     18\n",
       "6.0     13\n",
       "Name: count, dtype: int64"
      ]
     },
     "execution_count": 279,
     "metadata": {},
     "output_type": "execute_result"
    }
   ],
   "source": [
    "df[\"Oda\"].value_counts()"
   ]
  },
  {
   "cell_type": "code",
   "execution_count": 280,
   "id": "71f6fb61-29ff-4a36-8e7b-79bf465c37df",
   "metadata": {},
   "outputs": [],
   "source": [
    "df[\"Oda\"].fillna(df[\"Bölüm/Oda Sayısı\"], inplace=True)\n",
    "df['Oda']=df['Oda'].fillna(df['Oda'].mode()[0])"
   ]
  },
  {
   "cell_type": "code",
   "execution_count": 281,
   "id": "0bc843ff-bb9b-449b-8567-3dad873e4e7a",
   "metadata": {},
   "outputs": [],
   "source": [
    "df.drop(['Bölüm/Oda Sayısı', 'Oda Sayısı'], axis=1, inplace=True)"
   ]
  },
  {
   "cell_type": "code",
   "execution_count": 282,
   "id": "782254ae-6f8b-4685-9208-0ae81e1636d0",
   "metadata": {},
   "outputs": [
    {
     "data": {
      "text/plain": [
       "array(['Kombi (Doğalgaz)', 'Yerden Isıtma', 'Merkezi Sistem',\n",
       "       'Kombi (Elektrikli)', nan, 'Merkezi Sistem (Isı Payı Ölçer)',\n",
       "       'Klima', 'Kalorifer (Doğalgaz)', 'Fancoil', 'Soba (Kömür)',\n",
       "       'Soba (Doğalgaz)', 'Yok'], dtype=object)"
      ]
     },
     "execution_count": 282,
     "metadata": {},
     "output_type": "execute_result"
    }
   ],
   "source": [
    "df[\"Isıtma Tipi\"].unique()"
   ]
  },
  {
   "cell_type": "code",
   "execution_count": 283,
   "id": "4ddfd771-d699-47f4-8051-aa7cbe7ae8ca",
   "metadata": {},
   "outputs": [
    {
     "data": {
      "text/plain": [
       "Isıtma Tipi\n",
       "Kombi (Doğalgaz)                   178\n",
       "Merkezi Sistem (Isı Payı Ölçer)     24\n",
       "Merkezi Sistem                      22\n",
       "Kombi (Elektrikli)                   6\n",
       "Kalorifer (Doğalgaz)                 5\n",
       "Klima                                3\n",
       "Fancoil                              3\n",
       "Yok                                  3\n",
       "Yerden Isıtma                        2\n",
       "Soba (Doğalgaz)                      2\n",
       "Soba (Kömür)                         1\n",
       "Name: count, dtype: int64"
      ]
     },
     "execution_count": 283,
     "metadata": {},
     "output_type": "execute_result"
    }
   ],
   "source": [
    "df[\"Isıtma Tipi\"].value_counts()"
   ]
  },
  {
   "cell_type": "code",
   "execution_count": 284,
   "id": "0cba209d-aa6e-4ec7-a267-51189374e8dd",
   "metadata": {},
   "outputs": [],
   "source": [
    "import pandas as pd\n",
    "\n",
    "# 'Isıtma Tipi' sütununu gruplamak için bir haritalama sözlüğü oluşturun\n",
    "gruplama_sozlugu = {\n",
    "    'Kombi (Doğalgaz)': 'Doğalgaz',\n",
    "    'Kombi (Elektrikli)': 'Elektrik',\n",
    "    'Merkezi Sistem': 'Doğalgaz',\n",
    "    'Merkezi Sistem (Isı Payı Ölçer)': 'Doğalgaz',\n",
    "    'Yerden Isıtma': 'Doğalgaz',\n",
    "    'Kalorifer (Doğalgaz)': 'Doğalgaz',\n",
    "    'Klima': 'Elektrik',\n",
    "    'Fancoil': 'Elektrik',\n",
    "    'Soba (Kömür)': 'Kömür',\n",
    "    'Soba (Doğalgaz)': 'Doğalgaz',\n",
    "    'Yok': 'Elektrik'\n",
    "}\n",
    "\n",
    "df['Isıtma'] = df['Isıtma Tipi'].map(gruplama_sozlugu)"
   ]
  },
  {
   "cell_type": "code",
   "execution_count": 285,
   "id": "16ded8e5-0fdc-4b15-bc5e-4fcc7737c2c1",
   "metadata": {},
   "outputs": [
    {
     "data": {
      "text/plain": [
       "Isıtma\n",
       "Doğalgaz    233\n",
       "Elektrik     15\n",
       "Kömür         1\n",
       "Name: count, dtype: int64"
      ]
     },
     "execution_count": 285,
     "metadata": {},
     "output_type": "execute_result"
    }
   ],
   "source": [
    "df['Isıtma'].value_counts()"
   ]
  },
  {
   "cell_type": "code",
   "execution_count": 286,
   "id": "cdd903ee-0dd0-43c7-84eb-47acd5a13c48",
   "metadata": {},
   "outputs": [],
   "source": [
    "df['Isıtma']=df['Isıtma'].fillna(df['Isıtma'].mode()[0])"
   ]
  },
  {
   "cell_type": "code",
   "execution_count": 287,
   "id": "52544d8a-0c9a-4c85-ae08-b1e45339e19d",
   "metadata": {},
   "outputs": [],
   "source": [
    "df.drop(['Isıtma Tipi'], axis=1, inplace=True)"
   ]
  },
  {
   "cell_type": "code",
   "execution_count": 288,
   "id": "c284522b-6918-4ff6-be85-7cd91b232c2f",
   "metadata": {},
   "outputs": [
    {
     "data": {
      "text/plain": [
       "array(['40 ve üzeri', '0', '26-30 arası', '16-20 arası', '36-40 arası',\n",
       "       nan, '11-15 arası', '21-25 arası', '4', '6-10 arası', '1', '3',\n",
       "       '2', '5', '31-35 arası'], dtype=object)"
      ]
     },
     "execution_count": 288,
     "metadata": {},
     "output_type": "execute_result"
    }
   ],
   "source": [
    "df[\"Bina Yaşı\"].unique()"
   ]
  },
  {
   "cell_type": "code",
   "execution_count": 289,
   "id": "695eded3-8330-4abe-a951-540a9b38d39a",
   "metadata": {},
   "outputs": [],
   "source": [
    "df['Bina Yaşı']=df['Bina Yaşı'].fillna(df['Bina Yaşı'].mode()[0])"
   ]
  },
  {
   "cell_type": "code",
   "execution_count": 290,
   "id": "57b94183-5be4-4dc8-b42a-19f28fa08d2e",
   "metadata": {},
   "outputs": [],
   "source": [
    "df['Yaş'] = np.where(df['Bina Yaşı'] == '40 ve üzeri', 0, np.where(df['Bina Yaşı'].str.contains('-'), 2, 4))"
   ]
  },
  {
   "cell_type": "code",
   "execution_count": 291,
   "id": "5c189e52-054d-4b60-ab7a-2ebb331fc774",
   "metadata": {},
   "outputs": [
    {
     "data": {
      "text/plain": [
       "Yaş\n",
       "2    260\n",
       "4     51\n",
       "0     11\n",
       "Name: count, dtype: int64"
      ]
     },
     "execution_count": 291,
     "metadata": {},
     "output_type": "execute_result"
    }
   ],
   "source": [
    "df['Yaş'].value_counts()"
   ]
  },
  {
   "cell_type": "code",
   "execution_count": 292,
   "id": "c91be4fa-6e9c-429f-b3c4-1f856a33b0f0",
   "metadata": {},
   "outputs": [],
   "source": [
    "df.drop(['Bina Yaşı'], axis=1, inplace=True)"
   ]
  },
  {
   "cell_type": "code",
   "execution_count": 293,
   "id": "79b5b1f2-d1bc-45fc-bf15-9f3a4f89ccf5",
   "metadata": {},
   "outputs": [
    {
     "data": {
      "text/plain": [
       "array(['0 TL (aylık)', '1.300 TL (aylık)', '450 TL (aylık)',\n",
       "       '200 TL (aylık)', '50 TL (aylık)', nan, '100 TL (aylık)',\n",
       "       '1.650 TL (aylık)', '1.800 TL (aylık)', '250 TL (aylık)',\n",
       "       '500 TL (aylık)', '150 TL (aylık)', '1.200 TL (aylık)',\n",
       "       '60 TL (aylık)', '70 TL (aylık)', '220 TL (aylık)',\n",
       "       '350 TL (aylık)', '2.000 TL (aylık)', '600 TL (aylık)',\n",
       "       '1 TL (aylık)', '650 TL (aylık)', '400 TL (aylık)',\n",
       "       '20.000 TL (aylık)', '375 TL (aylık)', '550 TL (aylık)',\n",
       "       '685 TL (aylık)', '11.700 TL (aylık)', '1.000 TL (aylık)',\n",
       "       '300 TL (aylık)', '110 TL (aylık)', '1.500 TL (aylık)',\n",
       "       '1.450 TL (aylık)', '80 TL (aylık)', '1.975 TL (aylık)',\n",
       "       '980 TL (aylık)', '900 TL (aylık)', '715 TL (aylık)',\n",
       "       '30 TL (aylık)', '225 TL (aylık)', '460 TL (aylık)',\n",
       "       '750 TL (aylık)', '1.100 TL (aylık)', '1.250 TL (aylık)',\n",
       "       '825 TL (aylık)', '35 TL (aylık)', '800 TL (aylık)',\n",
       "       '1.150 TL (aylık)', '125 TL (aylık)', '1.280 TL (aylık)',\n",
       "       '15.000 TL (aylık)', '890 TL (aylık)', '18.000 TL (aylık)',\n",
       "       '782 TL (aylık)', '1.400 TL (aylık)', '20 TL (aylık)',\n",
       "       '3.500 TL (aylık)'], dtype=object)"
      ]
     },
     "execution_count": 293,
     "metadata": {},
     "output_type": "execute_result"
    }
   ],
   "source": [
    "df['Aidat'].unique()"
   ]
  },
  {
   "cell_type": "code",
   "execution_count": 294,
   "id": "377c7d61-847e-472c-b715-52eed232c83b",
   "metadata": {},
   "outputs": [],
   "source": [
    "df['Aidat']=df['Aidat'].fillna(df['Aidat'].mode()[0])"
   ]
  },
  {
   "cell_type": "code",
   "execution_count": 295,
   "id": "1988bbf4-2c78-4565-9e5e-ef80d805fb62",
   "metadata": {},
   "outputs": [],
   "source": [
    "df[\"Aidat\"] = df[\"Aidat\"].str.replace(\".\", \"\").str.replace(\" TL (aylık)\", \"\").astype(int)"
   ]
  },
  {
   "cell_type": "code",
   "execution_count": 296,
   "id": "8c0256d3-354b-41c7-9c78-752f4e526cdf",
   "metadata": {},
   "outputs": [
    {
     "data": {
      "text/plain": [
       "array(['0 TL undefined', '25.500 TL', '13.000 TL', '15.000 TL undefined',\n",
       "       nan, '18.000 TL undefined', '11.000 TL', '7.500 TL', '15.000 TL',\n",
       "       '14.000 TL', '18.000 TL', '50.000 TL', '11.000 TL undefined',\n",
       "       '10.000 TL undefined', '22.500 TL', '19.500 TL', '10.000 TL',\n",
       "       '19.000 TL', '44.000 TL', '16.250 TL undefined',\n",
       "       '10.250 TL undefined', '11.500 TL', '46.000 TL',\n",
       "       '13.500 TL undefined', '0 TL', '20.000 TL', '25.000 TL undefined',\n",
       "       '10.250 TL', '40.000 TL', '30.000 TL', '14.500 TL', '13.500 TL',\n",
       "       '35.000 TL', '36.000 TL undefined', '12.000 TL', '25.000 TL',\n",
       "       '45.000 TL', '12.750 TL undefined', '36.000 TL', '17.000 TL',\n",
       "       '3.000 TL', '6.500 TL', '8.500 TL', '17.000 TL undefined',\n",
       "       '7.000 TL', '5.000 TL', '22.000 TL', '8.000 TL',\n",
       "       '11.500 TL undefined', '25.500 TL undefined', '31.000 TL',\n",
       "       '40.000 TL undefined', '16.000 TL', '50.000 TL undefined',\n",
       "       '5.000 TL undefined', '16.500 TL', '15.500 TL', '4.000 TL',\n",
       "       '12.950 TL undefined', '17.500 TL', '14.900 TL',\n",
       "       '9.000 TL undefined', '10.500 TL', '10 TL', '5.500 TL undefined',\n",
       "       '7.500 TL undefined', '8.000 TL undefined', '21.000 TL',\n",
       "       '29.000 TL', '30.000 TL undefined', '2.050 TL', '4.500 TL',\n",
       "       '12.000 TL undefined', '14.750 TL undefined', '9.500 TL undefined',\n",
       "       '45.000 TL undefined', '24.000 TL undefined',\n",
       "       '54.000 TL undefined', '12.500 TL', '20.000 TL undefined',\n",
       "       '23.000 TL', '24.000 TL', '26.000 TL undefined',\n",
       "       '21.000 TL undefined', '9.000 TL', '6.000 TL undefined'],\n",
       "      dtype=object)"
      ]
     },
     "execution_count": 296,
     "metadata": {},
     "output_type": "execute_result"
    }
   ],
   "source": [
    "df['Depozito'].unique()"
   ]
  },
  {
   "cell_type": "code",
   "execution_count": 297,
   "id": "41b99dc9-0367-4f19-9d79-09d4e3b596a1",
   "metadata": {},
   "outputs": [],
   "source": [
    "df[\"Depozito\"] = df[\"Depozito\"].str.replace(\" TL\", \"\").str.replace(\" undefined\", \"\").str.replace(\".\", \"\")"
   ]
  },
  {
   "cell_type": "code",
   "execution_count": 298,
   "id": "64b807ae-526d-41a1-8a02-b07de15bae29",
   "metadata": {},
   "outputs": [],
   "source": [
    "df['Depozito']=df['Depozito'].fillna(df['Depozito'].mode()[0])"
   ]
  },
  {
   "cell_type": "code",
   "execution_count": 299,
   "id": "c7cf3d5d-af83-46d8-b318-86aff93e4c57",
   "metadata": {},
   "outputs": [],
   "source": [
    "df['Depozito']=df['Depozito'].astype(int)"
   ]
  },
  {
   "cell_type": "code",
   "execution_count": 300,
   "id": "e9fdc0c1-d5c0-4b5e-9b27-7113a966fccd",
   "metadata": {},
   "outputs": [
    {
     "data": {
      "text/plain": [
       "Kimden\n",
       "Danışman              132\n",
       "İnşaat Geliştirici      1\n",
       "Name: count, dtype: int64"
      ]
     },
     "execution_count": 300,
     "metadata": {},
     "output_type": "execute_result"
    }
   ],
   "source": [
    "df[\"Kimden\"].value_counts()"
   ]
  },
  {
   "cell_type": "code",
   "execution_count": 301,
   "id": "45c76802-7d5c-4f55-a4c6-aec190ba0f51",
   "metadata": {},
   "outputs": [
    {
     "data": {
      "text/plain": [
       "Kullanım Durumu\n",
       "Boş            246\n",
       "Kiracılı         4\n",
       "Mülk Sahibi      1\n",
       "Name: count, dtype: int64"
      ]
     },
     "execution_count": 301,
     "metadata": {},
     "output_type": "execute_result"
    }
   ],
   "source": [
    "df[\"Kullanım Durumu\"].value_counts()"
   ]
  },
  {
   "cell_type": "code",
   "execution_count": 302,
   "id": "2d38ac52-6c67-4e6d-9856-53efa2d4c1de",
   "metadata": {},
   "outputs": [
    {
     "data": {
      "text/plain": [
       "Tapu Durumu\n",
       "Kat Mülkiyeti     71\n",
       "Kat İrtifakı       5\n",
       "İskanı Alınmış     5\n",
       "Arsa Tapulu        2\n",
       "Bilinmiyor         1\n",
       "Hisseli Tapu       1\n",
       "Name: count, dtype: int64"
      ]
     },
     "execution_count": 302,
     "metadata": {},
     "output_type": "execute_result"
    }
   ],
   "source": [
    "df[\"Tapu Durumu\"].value_counts()"
   ]
  },
  {
   "cell_type": "code",
   "execution_count": 303,
   "id": "a855dab5-10be-4ba7-8565-70b8162b4f33",
   "metadata": {},
   "outputs": [],
   "source": [
    "df.drop(['Kimden', 'Kullanım Durumu', 'Tapu Durumu', 'Hayvan Dostu Patili Evler'], axis=1, inplace=True)"
   ]
  },
  {
   "cell_type": "code",
   "execution_count": 304,
   "id": "9cbcc0be-c384-4470-a284-7e5bb2869469",
   "metadata": {},
   "outputs": [
    {
     "data": {
      "text/plain": [
       "array(['1', '2', nan, '3', '0', '4', '6 ve üzeri'], dtype=object)"
      ]
     },
     "execution_count": 304,
     "metadata": {},
     "output_type": "execute_result"
    }
   ],
   "source": [
    "df[\"Banyo Sayısı\"].unique()"
   ]
  },
  {
   "cell_type": "code",
   "execution_count": 305,
   "id": "b9cbfaba-bf4a-4b9c-be61-c4e0f36f0405",
   "metadata": {},
   "outputs": [],
   "source": [
    "df['Banyo Sayısı']=df['Banyo Sayısı'].fillna(df['Banyo Sayısı'].mode()[0])"
   ]
  },
  {
   "cell_type": "code",
   "execution_count": 306,
   "id": "2336fc1c-50f5-45c0-8a11-b672baaa3658",
   "metadata": {},
   "outputs": [],
   "source": [
    "df[\"Banyo\"] = np.where(df['Banyo Sayısı'] == '1', 0, np.where(df['Banyo Sayısı'] == '1', 2, 4))"
   ]
  },
  {
   "cell_type": "code",
   "execution_count": 307,
   "id": "420e370c-3918-41e0-a0b6-1508cb9d1d38",
   "metadata": {},
   "outputs": [],
   "source": [
    "df.drop(['Banyo Sayısı'], axis=1, inplace=True)"
   ]
  },
  {
   "cell_type": "code",
   "execution_count": 308,
   "id": "77cc2b45-78d4-4cee-b093-322d00ae5be6",
   "metadata": {},
   "outputs": [
    {
     "data": {
      "text/plain": [
       "array(['Eşyasız', 'Sadece Mutfak', 'Eşyalı (Mobilyalı)', nan,\n",
       "       'Sadece Beyaz Eşya'], dtype=object)"
      ]
     },
     "execution_count": 308,
     "metadata": {},
     "output_type": "execute_result"
    }
   ],
   "source": [
    "df['Mobilya Durumu'].unique()"
   ]
  },
  {
   "cell_type": "code",
   "execution_count": 309,
   "id": "5b05bf98-b3e0-459b-a5b2-789666b5fac8",
   "metadata": {},
   "outputs": [],
   "source": [
    "df[\"Eşyalı\"] = np.where(df['Mobilya Durumu'] == 'Eşyalı (Mobilyalı)', 1, 0)"
   ]
  },
  {
   "cell_type": "code",
   "execution_count": 310,
   "id": "581b157f-6004-4753-972c-77544de000e8",
   "metadata": {},
   "outputs": [],
   "source": [
    "df.drop(['Mobilya Durumu'], axis=1, inplace=True)"
   ]
  },
  {
   "cell_type": "code",
   "execution_count": 311,
   "id": "673c40d0-39ad-4e37-95e1-691025e09ff2",
   "metadata": {},
   "outputs": [
    {
     "data": {
      "text/plain": [
       "Konut Şekli\n",
       "Ara Kat           72\n",
       "En Üst Kat        20\n",
       "Giriş Kat         14\n",
       "Çatı Dubleksi      4\n",
       "Bahçe Dubleksi     2\n",
       "Teras Katı         1\n",
       "Dubleks            1\n",
       "Ters Dubleks       1\n",
       "Bahçe Katı         1\n",
       "Name: count, dtype: int64"
      ]
     },
     "execution_count": 311,
     "metadata": {},
     "output_type": "execute_result"
    }
   ],
   "source": [
    "df[\"Konut Şekli\"].value_counts()"
   ]
  },
  {
   "cell_type": "code",
   "execution_count": 312,
   "id": "22afe23a-d6a3-4ac3-8bb4-010ba92b2a00",
   "metadata": {},
   "outputs": [],
   "source": [
    "df['Konut Şekli']=df['Konut Şekli'].fillna(df['Konut Şekli'].mode()[0])"
   ]
  },
  {
   "cell_type": "code",
   "execution_count": 313,
   "id": "1923e82b-63c5-4653-b8b3-5903c0f8b10c",
   "metadata": {},
   "outputs": [],
   "source": [
    "gruplama_sozlugu = {\n",
    "    'Ara Kat': 'Ara Kat',\n",
    "    'En Üst Kat': 'En Üst Kat',\n",
    "    'Giriş Kat': 'En Alt Kat',\n",
    "    'Çatı Dubleksi':'En Üst Kat',\n",
    "    'Bahçe Dubleksi':'Ara Kat',\n",
    "    'Teras Katı':'En Üst Kat',\n",
    "    'Dubleks':'Ara Kat',\n",
    "    'Ters Dubleks':'Ara Kat',\n",
    "    'Bahçe Katı':'En Alt Kat'\n",
    "}\n",
    "\n",
    "# 'Gruplanmis Isitma Tipi' adında yeni bir sütun oluşturun\n",
    "df['Kat Tipi'] = df['Konut Şekli'].map(gruplama_sozlugu)"
   ]
  },
  {
   "cell_type": "code",
   "execution_count": 314,
   "id": "fddadbd5-d65e-4150-bbde-7d25d61e3a34",
   "metadata": {},
   "outputs": [
    {
     "data": {
      "text/plain": [
       "Yapının Durumu\n",
       "İkinci El    142\n",
       "Sıfır         16\n",
       "Name: count, dtype: int64"
      ]
     },
     "execution_count": 314,
     "metadata": {},
     "output_type": "execute_result"
    }
   ],
   "source": [
    "df[\"Yapının Durumu\"].value_counts()"
   ]
  },
  {
   "cell_type": "code",
   "execution_count": 315,
   "id": "6439f1cc-e45b-486b-8371-073da170ab74",
   "metadata": {},
   "outputs": [],
   "source": [
    "df[\"Yapının Durumu\"]=df[\"Yapının Durumu\"].str.replace('İkinci El', '0').str.replace(\"Sıfır\", \"1\")"
   ]
  },
  {
   "cell_type": "code",
   "execution_count": 316,
   "id": "b48bf2b4-e396-4196-ad9c-81ffd186dc89",
   "metadata": {},
   "outputs": [],
   "source": [
    "df[\"Yapının Durumu\"]=df[\"Yapının Durumu\"].fillna(0)"
   ]
  },
  {
   "cell_type": "code",
   "execution_count": 317,
   "id": "42956e72-a6a8-4c2b-8065-e73d9afc195a",
   "metadata": {},
   "outputs": [
    {
     "data": {
      "text/plain": [
       "Binadaki Kat Sayısı\n",
       "3              91\n",
       "4              56\n",
       "5              39\n",
       "10-20 arası    23\n",
       "2              15\n",
       "8              14\n",
       "6               7\n",
       "9               7\n",
       "20 ve üzeri     6\n",
       "7               5\n",
       "10              4\n",
       "1               1\n",
       "Name: count, dtype: int64"
      ]
     },
     "execution_count": 317,
     "metadata": {},
     "output_type": "execute_result"
    }
   ],
   "source": [
    "df[\"Binadaki Kat Sayısı\"].value_counts()"
   ]
  },
  {
   "cell_type": "code",
   "execution_count": 318,
   "id": "2acdbbc1-670b-4b67-94d0-508c22614257",
   "metadata": {},
   "outputs": [],
   "source": [
    "df['Binadaki Kat Sayısı']=df['Binadaki Kat Sayısı'].fillna(df['Binadaki Kat Sayısı'].mode()[0])"
   ]
  },
  {
   "cell_type": "code",
   "execution_count": 319,
   "id": "10d15861-3d82-44e0-89f6-5ef2a43034f9",
   "metadata": {},
   "outputs": [],
   "source": [
    "df[\"Binadaki Kat Sayısı\"] = df[\"Binadaki Kat Sayısı\"].str.replace(\"10-20 arası\", \"15\").str.replace(\"20 ve üzeri\", \"20\").astype(int)"
   ]
  },
  {
   "cell_type": "code",
   "execution_count": 320,
   "id": "758ddc82-1aab-41a2-ae9e-936d7f3d126e",
   "metadata": {},
   "outputs": [
    {
     "data": {
      "text/plain": [
       "Bulunduğu Kat\n",
       "3               53\n",
       "2               42\n",
       "1               31\n",
       "Giriş Katı      29\n",
       "4               18\n",
       "Yüksek Giriş    18\n",
       "5               10\n",
       "6                9\n",
       "Zemin Kat        6\n",
       "En Üst Kat       4\n",
       "Bahçe katı       4\n",
       "7                4\n",
       "8                4\n",
       "9                3\n",
       "11               3\n",
       "Kot 1            3\n",
       "13               2\n",
       "15               2\n",
       "Kot 2            2\n",
       "20 ve üzeri      2\n",
       "Teras Kat        1\n",
       "Müstakil         1\n",
       "14               1\n",
       "10               1\n",
       "12               1\n",
       "Kot 3            1\n",
       "Name: count, dtype: int64"
      ]
     },
     "execution_count": 320,
     "metadata": {},
     "output_type": "execute_result"
    }
   ],
   "source": [
    "df[\"Bulunduğu Kat\"].value_counts()"
   ]
  },
  {
   "cell_type": "code",
   "execution_count": 321,
   "id": "b070e07e-99b3-41af-964e-6f1ee7c26b97",
   "metadata": {},
   "outputs": [],
   "source": [
    "df['Bulunduğu Kat']=df['Bulunduğu Kat'].fillna(df['Bulunduğu Kat'].mode()[0])"
   ]
  },
  {
   "cell_type": "code",
   "execution_count": 322,
   "id": "602d44a0-b205-4068-8ce0-63efa4e180e5",
   "metadata": {},
   "outputs": [],
   "source": [
    "gruplama_sozlugu = {\n",
    "    'Giriş Katı': '0',\n",
    "    'Yüksek Giriş': '1',\n",
    "    'Zemin Kat': '0',\n",
    "    '20 ve üzeri':'20',\n",
    "    'En Üst Kat':'10',\n",
    "    'Bahçe katı':'0',\n",
    "    'Kot 1':'-1',\n",
    "    'Kot 2':'-2',\n",
    "    'Kot 3':'-3',\n",
    "    'Teras Kat':'10',\n",
    "    'Müstakil':'0',\n",
    "    'Komple':'1',\n",
    "    'Bodrum Kat':0\n",
    "}\n",
    "\n",
    "df['Bulunduğu Kat'] = df['Bulunduğu Kat'].replace(gruplama_sozlugu)\n",
    "#df['Bulunduğu Kat'] = df['Bulunduğu Kat'].map(gruplama_sozlugu, na_action='ignore')"
   ]
  },
  {
   "cell_type": "code",
   "execution_count": 323,
   "id": "dc8d3f44-c518-4707-a1e3-6e63b804f30a",
   "metadata": {},
   "outputs": [],
   "source": [
    "df['Bulunduğu Kat'] = df['Bulunduğu Kat'].astype(int)"
   ]
  },
  {
   "cell_type": "code",
   "execution_count": 324,
   "id": "f938344a-e5e0-4f1e-95eb-435d93407b36",
   "metadata": {},
   "outputs": [
    {
     "data": {
      "text/plain": [
       "Lon    14\n",
       "Lat    14\n",
       "dtype: int64"
      ]
     },
     "execution_count": 324,
     "metadata": {},
     "output_type": "execute_result"
    }
   ],
   "source": [
    "bos=df.isnull().sum()\n",
    "bos[bos>0]"
   ]
  },
  {
   "cell_type": "code",
   "execution_count": 325,
   "id": "b589a587-af33-422a-a3bd-7229ddb4ddb2",
   "metadata": {},
   "outputs": [],
   "source": [
    "df=df[df[\"Lon\"].notnull()]"
   ]
  },
  {
   "cell_type": "code",
   "execution_count": 326,
   "id": "6136bf3e-6335-4dac-ba60-4b6e8a53405c",
   "metadata": {},
   "outputs": [
    {
     "name": "stdout",
     "output_type": "stream",
     "text": [
      "<class 'pandas.core.frame.DataFrame'>\n",
      "Index: 308 entries, 1 to 440\n",
      "Data columns (total 17 columns):\n",
      " #   Column               Non-Null Count  Dtype  \n",
      "---  ------               --------------  -----  \n",
      " 0   Fiyat                308 non-null    int64  \n",
      " 1   Lon                  308 non-null    float64\n",
      " 2   Lat                  308 non-null    float64\n",
      " 3   Net m²               308 non-null    float64\n",
      " 4   Aidat                308 non-null    int32  \n",
      " 5   Depozito             308 non-null    int32  \n",
      " 6   Krediye Uygun        308 non-null    object \n",
      " 7   Binadaki Kat Sayısı  308 non-null    int32  \n",
      " 8   Bulunduğu Kat        308 non-null    int32  \n",
      " 9   Konut Şekli          308 non-null    object \n",
      " 10  Yapının Durumu       308 non-null    object \n",
      " 11  Oda                  308 non-null    float64\n",
      " 12  Isıtma               308 non-null    object \n",
      " 13  Yaş                  308 non-null    int32  \n",
      " 14  Banyo                308 non-null    int32  \n",
      " 15  Eşyalı               308 non-null    int32  \n",
      " 16  Kat Tipi             308 non-null    object \n",
      "dtypes: float64(4), int32(7), int64(1), object(5)\n",
      "memory usage: 34.9+ KB\n"
     ]
    }
   ],
   "source": [
    "df.info()"
   ]
  },
  {
   "cell_type": "code",
   "execution_count": 327,
   "id": "b1ac0e22-2aee-4fd1-a324-fe769b059bd4",
   "metadata": {},
   "outputs": [
    {
     "data": {
      "text/html": [
       "<div>\n",
       "<style scoped>\n",
       "    .dataframe tbody tr th:only-of-type {\n",
       "        vertical-align: middle;\n",
       "    }\n",
       "\n",
       "    .dataframe tbody tr th {\n",
       "        vertical-align: top;\n",
       "    }\n",
       "\n",
       "    .dataframe thead th {\n",
       "        text-align: right;\n",
       "    }\n",
       "</style>\n",
       "<table border=\"1\" class=\"dataframe\">\n",
       "  <thead>\n",
       "    <tr style=\"text-align: right;\">\n",
       "      <th></th>\n",
       "      <th>Fiyat</th>\n",
       "      <th>Lon</th>\n",
       "      <th>Lat</th>\n",
       "      <th>Net m²</th>\n",
       "      <th>Aidat</th>\n",
       "      <th>Depozito</th>\n",
       "      <th>Krediye Uygun</th>\n",
       "      <th>Binadaki Kat Sayısı</th>\n",
       "      <th>Bulunduğu Kat</th>\n",
       "      <th>Konut Şekli</th>\n",
       "      <th>Yapının Durumu</th>\n",
       "      <th>Oda</th>\n",
       "      <th>Isıtma</th>\n",
       "      <th>Yaş</th>\n",
       "      <th>Banyo</th>\n",
       "      <th>Eşyalı</th>\n",
       "      <th>Kat Tipi</th>\n",
       "    </tr>\n",
       "  </thead>\n",
       "  <tbody>\n",
       "    <tr>\n",
       "      <th>1</th>\n",
       "      <td>21000</td>\n",
       "      <td>32.841352</td>\n",
       "      <td>39.920196</td>\n",
       "      <td>90.0</td>\n",
       "      <td>0</td>\n",
       "      <td>0</td>\n",
       "      <td>Hayır</td>\n",
       "      <td>5</td>\n",
       "      <td>2</td>\n",
       "      <td>Ara Kat</td>\n",
       "      <td>0</td>\n",
       "      <td>3.0</td>\n",
       "      <td>Doğalgaz</td>\n",
       "      <td>0</td>\n",
       "      <td>0</td>\n",
       "      <td>0</td>\n",
       "      <td>Ara Kat</td>\n",
       "    </tr>\n",
       "    <tr>\n",
       "      <th>2</th>\n",
       "      <td>25500</td>\n",
       "      <td>32.628697</td>\n",
       "      <td>39.935342</td>\n",
       "      <td>130.0</td>\n",
       "      <td>1300</td>\n",
       "      <td>25500</td>\n",
       "      <td>Hayır</td>\n",
       "      <td>8</td>\n",
       "      <td>6</td>\n",
       "      <td>Ara Kat</td>\n",
       "      <td>0</td>\n",
       "      <td>4.0</td>\n",
       "      <td>Doğalgaz</td>\n",
       "      <td>4</td>\n",
       "      <td>4</td>\n",
       "      <td>0</td>\n",
       "      <td>Ara Kat</td>\n",
       "    </tr>\n",
       "    <tr>\n",
       "      <th>3</th>\n",
       "      <td>13000</td>\n",
       "      <td>32.802641</td>\n",
       "      <td>39.961014</td>\n",
       "      <td>50.0</td>\n",
       "      <td>450</td>\n",
       "      <td>13000</td>\n",
       "      <td>Hayır</td>\n",
       "      <td>6</td>\n",
       "      <td>3</td>\n",
       "      <td>Ara Kat</td>\n",
       "      <td>0</td>\n",
       "      <td>2.0</td>\n",
       "      <td>Doğalgaz</td>\n",
       "      <td>2</td>\n",
       "      <td>0</td>\n",
       "      <td>0</td>\n",
       "      <td>Ara Kat</td>\n",
       "    </tr>\n",
       "    <tr>\n",
       "      <th>5</th>\n",
       "      <td>15000</td>\n",
       "      <td>32.560561</td>\n",
       "      <td>39.990767</td>\n",
       "      <td>120.0</td>\n",
       "      <td>200</td>\n",
       "      <td>15000</td>\n",
       "      <td>Hayır</td>\n",
       "      <td>15</td>\n",
       "      <td>2</td>\n",
       "      <td>Ara Kat</td>\n",
       "      <td>0</td>\n",
       "      <td>4.0</td>\n",
       "      <td>Doğalgaz</td>\n",
       "      <td>2</td>\n",
       "      <td>0</td>\n",
       "      <td>0</td>\n",
       "      <td>Ara Kat</td>\n",
       "    </tr>\n",
       "    <tr>\n",
       "      <th>6</th>\n",
       "      <td>13000</td>\n",
       "      <td>32.879288</td>\n",
       "      <td>39.912581</td>\n",
       "      <td>120.0</td>\n",
       "      <td>50</td>\n",
       "      <td>0</td>\n",
       "      <td>Hayır</td>\n",
       "      <td>3</td>\n",
       "      <td>3</td>\n",
       "      <td>Ara Kat</td>\n",
       "      <td>0</td>\n",
       "      <td>4.0</td>\n",
       "      <td>Doğalgaz</td>\n",
       "      <td>2</td>\n",
       "      <td>0</td>\n",
       "      <td>0</td>\n",
       "      <td>Ara Kat</td>\n",
       "    </tr>\n",
       "  </tbody>\n",
       "</table>\n",
       "</div>"
      ],
      "text/plain": [
       "   Fiyat        Lon        Lat  Net m²  Aidat  Depozito Krediye Uygun  \\\n",
       "1  21000  32.841352  39.920196    90.0      0         0         Hayır   \n",
       "2  25500  32.628697  39.935342   130.0   1300     25500         Hayır   \n",
       "3  13000  32.802641  39.961014    50.0    450     13000         Hayır   \n",
       "5  15000  32.560561  39.990767   120.0    200     15000         Hayır   \n",
       "6  13000  32.879288  39.912581   120.0     50         0         Hayır   \n",
       "\n",
       "   Binadaki Kat Sayısı  Bulunduğu Kat Konut Şekli Yapının Durumu  Oda  \\\n",
       "1                    5              2     Ara Kat              0  3.0   \n",
       "2                    8              6     Ara Kat              0  4.0   \n",
       "3                    6              3     Ara Kat              0  2.0   \n",
       "5                   15              2     Ara Kat              0  4.0   \n",
       "6                    3              3     Ara Kat              0  4.0   \n",
       "\n",
       "     Isıtma  Yaş  Banyo  Eşyalı Kat Tipi  \n",
       "1  Doğalgaz    0      0       0  Ara Kat  \n",
       "2  Doğalgaz    4      4       0  Ara Kat  \n",
       "3  Doğalgaz    2      0       0  Ara Kat  \n",
       "5  Doğalgaz    2      0       0  Ara Kat  \n",
       "6  Doğalgaz    2      0       0  Ara Kat  "
      ]
     },
     "execution_count": 327,
     "metadata": {},
     "output_type": "execute_result"
    }
   ],
   "source": [
    "df.head()"
   ]
  },
  {
   "cell_type": "code",
   "execution_count": 328,
   "id": "0f5a75f5-b0e5-4c52-b07d-74858177f97b",
   "metadata": {},
   "outputs": [],
   "source": [
    "df[\"Lon\"]=df[\"Lon\"]-32\n",
    "df[\"Lat\"]=df[\"Lat\"]-39"
   ]
  },
  {
   "cell_type": "code",
   "execution_count": 329,
   "id": "5be63aea-0d18-4704-a375-0c928da7fbd1",
   "metadata": {},
   "outputs": [
    {
     "data": {
      "text/plain": [
       "Krediye Uygun\n",
       "Hayır    308\n",
       "Name: count, dtype: int64"
      ]
     },
     "execution_count": 329,
     "metadata": {},
     "output_type": "execute_result"
    }
   ],
   "source": [
    "df[\"Krediye Uygun\"].value_counts()"
   ]
  },
  {
   "cell_type": "code",
   "execution_count": 330,
   "id": "dff224eb-072f-45ef-9b35-aac51d55fa7c",
   "metadata": {},
   "outputs": [],
   "source": [
    "df.drop('Krediye Uygun', axis=1, inplace=True)"
   ]
  },
  {
   "cell_type": "markdown",
   "id": "2e2b9225-f536-4cfb-97ff-7c92f3521bf0",
   "metadata": {},
   "source": [
    "## Modelleme"
   ]
  },
  {
   "cell_type": "code",
   "execution_count": 331,
   "id": "1f66639a-6a75-4e30-8e5f-959f0b311d13",
   "metadata": {},
   "outputs": [
    {
     "data": {
      "text/plain": [
       "((308, 15), (308, 1))"
      ]
     },
     "execution_count": 331,
     "metadata": {},
     "output_type": "execute_result"
    }
   ],
   "source": [
    "y=df[[\"Fiyat\"]]\n",
    "x=df.drop(['Fiyat'], axis=1)\n",
    "x.shape, y.shape"
   ]
  },
  {
   "cell_type": "code",
   "execution_count": 332,
   "id": "32e661bf-ab16-4ab3-a473-3ec55d3891f3",
   "metadata": {},
   "outputs": [
    {
     "data": {
      "text/html": [
       "<div>\n",
       "<style scoped>\n",
       "    .dataframe tbody tr th:only-of-type {\n",
       "        vertical-align: middle;\n",
       "    }\n",
       "\n",
       "    .dataframe tbody tr th {\n",
       "        vertical-align: top;\n",
       "    }\n",
       "\n",
       "    .dataframe thead th {\n",
       "        text-align: right;\n",
       "    }\n",
       "</style>\n",
       "<table border=\"1\" class=\"dataframe\">\n",
       "  <thead>\n",
       "    <tr style=\"text-align: right;\">\n",
       "      <th></th>\n",
       "      <th>Lon</th>\n",
       "      <th>Lat</th>\n",
       "      <th>Net m²</th>\n",
       "      <th>Aidat</th>\n",
       "      <th>Depozito</th>\n",
       "      <th>Binadaki Kat Sayısı</th>\n",
       "      <th>Bulunduğu Kat</th>\n",
       "      <th>Oda</th>\n",
       "      <th>Yaş</th>\n",
       "      <th>Banyo</th>\n",
       "      <th>Eşyalı</th>\n",
       "      <th>Konut Şekli_Bahçe Dubleksi</th>\n",
       "      <th>Konut Şekli_Bahçe Katı</th>\n",
       "      <th>Konut Şekli_Dubleks</th>\n",
       "      <th>Konut Şekli_En Üst Kat</th>\n",
       "      <th>Konut Şekli_Giriş Kat</th>\n",
       "      <th>Konut Şekli_Teras Katı</th>\n",
       "      <th>Konut Şekli_Ters Dubleks</th>\n",
       "      <th>Konut Şekli_Çatı Dubleksi</th>\n",
       "      <th>Yapının Durumu_0</th>\n",
       "      <th>Yapının Durumu_1</th>\n",
       "      <th>Isıtma_Elektrik</th>\n",
       "      <th>Isıtma_Kömür</th>\n",
       "      <th>Kat Tipi_En Alt Kat</th>\n",
       "      <th>Kat Tipi_En Üst Kat</th>\n",
       "    </tr>\n",
       "  </thead>\n",
       "  <tbody>\n",
       "    <tr>\n",
       "      <th>1</th>\n",
       "      <td>0.841352</td>\n",
       "      <td>0.920196</td>\n",
       "      <td>90.0</td>\n",
       "      <td>0</td>\n",
       "      <td>0</td>\n",
       "      <td>5</td>\n",
       "      <td>2</td>\n",
       "      <td>3.0</td>\n",
       "      <td>0</td>\n",
       "      <td>0</td>\n",
       "      <td>0</td>\n",
       "      <td>False</td>\n",
       "      <td>False</td>\n",
       "      <td>False</td>\n",
       "      <td>False</td>\n",
       "      <td>False</td>\n",
       "      <td>False</td>\n",
       "      <td>False</td>\n",
       "      <td>False</td>\n",
       "      <td>False</td>\n",
       "      <td>False</td>\n",
       "      <td>False</td>\n",
       "      <td>False</td>\n",
       "      <td>False</td>\n",
       "      <td>False</td>\n",
       "    </tr>\n",
       "    <tr>\n",
       "      <th>2</th>\n",
       "      <td>0.628697</td>\n",
       "      <td>0.935342</td>\n",
       "      <td>130.0</td>\n",
       "      <td>1300</td>\n",
       "      <td>25500</td>\n",
       "      <td>8</td>\n",
       "      <td>6</td>\n",
       "      <td>4.0</td>\n",
       "      <td>4</td>\n",
       "      <td>4</td>\n",
       "      <td>0</td>\n",
       "      <td>False</td>\n",
       "      <td>False</td>\n",
       "      <td>False</td>\n",
       "      <td>False</td>\n",
       "      <td>False</td>\n",
       "      <td>False</td>\n",
       "      <td>False</td>\n",
       "      <td>False</td>\n",
       "      <td>False</td>\n",
       "      <td>False</td>\n",
       "      <td>False</td>\n",
       "      <td>False</td>\n",
       "      <td>False</td>\n",
       "      <td>False</td>\n",
       "    </tr>\n",
       "    <tr>\n",
       "      <th>3</th>\n",
       "      <td>0.802641</td>\n",
       "      <td>0.961014</td>\n",
       "      <td>50.0</td>\n",
       "      <td>450</td>\n",
       "      <td>13000</td>\n",
       "      <td>6</td>\n",
       "      <td>3</td>\n",
       "      <td>2.0</td>\n",
       "      <td>2</td>\n",
       "      <td>0</td>\n",
       "      <td>0</td>\n",
       "      <td>False</td>\n",
       "      <td>False</td>\n",
       "      <td>False</td>\n",
       "      <td>False</td>\n",
       "      <td>False</td>\n",
       "      <td>False</td>\n",
       "      <td>False</td>\n",
       "      <td>False</td>\n",
       "      <td>False</td>\n",
       "      <td>False</td>\n",
       "      <td>False</td>\n",
       "      <td>False</td>\n",
       "      <td>False</td>\n",
       "      <td>False</td>\n",
       "    </tr>\n",
       "    <tr>\n",
       "      <th>5</th>\n",
       "      <td>0.560561</td>\n",
       "      <td>0.990767</td>\n",
       "      <td>120.0</td>\n",
       "      <td>200</td>\n",
       "      <td>15000</td>\n",
       "      <td>15</td>\n",
       "      <td>2</td>\n",
       "      <td>4.0</td>\n",
       "      <td>2</td>\n",
       "      <td>0</td>\n",
       "      <td>0</td>\n",
       "      <td>False</td>\n",
       "      <td>False</td>\n",
       "      <td>False</td>\n",
       "      <td>False</td>\n",
       "      <td>False</td>\n",
       "      <td>False</td>\n",
       "      <td>False</td>\n",
       "      <td>False</td>\n",
       "      <td>True</td>\n",
       "      <td>False</td>\n",
       "      <td>False</td>\n",
       "      <td>False</td>\n",
       "      <td>False</td>\n",
       "      <td>False</td>\n",
       "    </tr>\n",
       "    <tr>\n",
       "      <th>6</th>\n",
       "      <td>0.879288</td>\n",
       "      <td>0.912581</td>\n",
       "      <td>120.0</td>\n",
       "      <td>50</td>\n",
       "      <td>0</td>\n",
       "      <td>3</td>\n",
       "      <td>3</td>\n",
       "      <td>4.0</td>\n",
       "      <td>2</td>\n",
       "      <td>0</td>\n",
       "      <td>0</td>\n",
       "      <td>False</td>\n",
       "      <td>False</td>\n",
       "      <td>False</td>\n",
       "      <td>False</td>\n",
       "      <td>False</td>\n",
       "      <td>False</td>\n",
       "      <td>False</td>\n",
       "      <td>False</td>\n",
       "      <td>True</td>\n",
       "      <td>False</td>\n",
       "      <td>False</td>\n",
       "      <td>False</td>\n",
       "      <td>False</td>\n",
       "      <td>False</td>\n",
       "    </tr>\n",
       "  </tbody>\n",
       "</table>\n",
       "</div>"
      ],
      "text/plain": [
       "        Lon       Lat  Net m²  Aidat  Depozito  Binadaki Kat Sayısı  \\\n",
       "1  0.841352  0.920196    90.0      0         0                    5   \n",
       "2  0.628697  0.935342   130.0   1300     25500                    8   \n",
       "3  0.802641  0.961014    50.0    450     13000                    6   \n",
       "5  0.560561  0.990767   120.0    200     15000                   15   \n",
       "6  0.879288  0.912581   120.0     50         0                    3   \n",
       "\n",
       "   Bulunduğu Kat  Oda  Yaş  Banyo  Eşyalı  Konut Şekli_Bahçe Dubleksi  \\\n",
       "1              2  3.0    0      0       0                       False   \n",
       "2              6  4.0    4      4       0                       False   \n",
       "3              3  2.0    2      0       0                       False   \n",
       "5              2  4.0    2      0       0                       False   \n",
       "6              3  4.0    2      0       0                       False   \n",
       "\n",
       "   Konut Şekli_Bahçe Katı  Konut Şekli_Dubleks  Konut Şekli_En Üst Kat  \\\n",
       "1                   False                False                   False   \n",
       "2                   False                False                   False   \n",
       "3                   False                False                   False   \n",
       "5                   False                False                   False   \n",
       "6                   False                False                   False   \n",
       "\n",
       "   Konut Şekli_Giriş Kat  Konut Şekli_Teras Katı  Konut Şekli_Ters Dubleks  \\\n",
       "1                  False                   False                     False   \n",
       "2                  False                   False                     False   \n",
       "3                  False                   False                     False   \n",
       "5                  False                   False                     False   \n",
       "6                  False                   False                     False   \n",
       "\n",
       "   Konut Şekli_Çatı Dubleksi  Yapının Durumu_0  Yapının Durumu_1  \\\n",
       "1                      False             False             False   \n",
       "2                      False             False             False   \n",
       "3                      False             False             False   \n",
       "5                      False              True             False   \n",
       "6                      False              True             False   \n",
       "\n",
       "   Isıtma_Elektrik  Isıtma_Kömür  Kat Tipi_En Alt Kat  Kat Tipi_En Üst Kat  \n",
       "1            False         False                False                False  \n",
       "2            False         False                False                False  \n",
       "3            False         False                False                False  \n",
       "5            False         False                False                False  \n",
       "6            False         False                False                False  "
      ]
     },
     "execution_count": 332,
     "metadata": {},
     "output_type": "execute_result"
    }
   ],
   "source": [
    "x = pd.get_dummies(x, drop_first = True)\n",
    "x.head()"
   ]
  },
  {
   "cell_type": "code",
   "execution_count": 333,
   "id": "9cd854fd-bf30-4f04-b3ab-4f8c34a42e49",
   "metadata": {},
   "outputs": [],
   "source": [
    "import pandas as pd\n",
    "import numpy as np\n",
    "import matplotlib.pyplot as plt\n",
    "import seaborn as sns\n",
    "import warnings\n",
    "warnings.filterwarnings(\"ignore\")\n",
    "pd.set_option(\"display.max_columns\",100)\n",
    "\n",
    "from sklearn.linear_model import LinearRegression\n",
    "from sklearn.linear_model import Ridge,Lasso\n",
    "from sklearn.linear_model import ElasticNet\n",
    "from sklearn.neighbors import KNeighborsRegressor\n",
    "from sklearn.ensemble import GradientBoostingRegressor\n",
    "from sklearn.ensemble import RandomForestRegressor\n",
    "from sklearn.tree import ExtraTreeRegressor\n",
    "from sklearn.tree import DecisionTreeRegressor\n",
    "from xgboost import XGBRegressor\n",
    "\n",
    "from sklearn.model_selection import train_test_split\n",
    "from sklearn.metrics import mean_squared_error,r2_score,mean_absolute_error\n",
    "\n",
    "\n",
    "def algo_test(x,y):\n",
    "        #Bütün modelleri tanımlıyorum\n",
    "        L=LinearRegression()\n",
    "        R=Ridge()\n",
    "        Lass=Lasso()\n",
    "        E=ElasticNet()\n",
    "        ETR=ExtraTreeRegressor()\n",
    "        GBR=GradientBoostingRegressor()\n",
    "        kn=KNeighborsRegressor()\n",
    "        dt=DecisionTreeRegressor()\n",
    "        xgb=XGBRegressor()\n",
    "        rf=RandomForestRegressor()\n",
    "       \n",
    "        \n",
    "        algos=[L,R,Lass,E,ETR,GBR,kn,dt,xgb,rf]\n",
    "        algo_names=['Linear','Ridge','Lasso','ElasticNet','Extra Tree','Gradient Boosting',\n",
    "                    'K Neighbors Regressor','Decision Tree','XGB Regressor',\"Random Forest Regressor\"]\n",
    "        \n",
    "        x_train, x_test, y_train, y_test=train_test_split(x,y,test_size=.2,random_state=23)\n",
    "        \n",
    "        r_squared= []\n",
    "        rmse= []\n",
    "        mae= []\n",
    "        \n",
    "        #Hata ve doğruluk oranlarını bir tablo haline getirmek için bir dataframe oluşturuyorum\n",
    "        result=pd.DataFrame(columns=['R_Squared','RMSE','MAE'],index=algo_names)\n",
    "        \n",
    "        \n",
    "        for algo in algos:\n",
    "            p=algo.fit(x_train,y_train).predict(x_test)\n",
    "            r_squared.append(r2_score(y_test,p))\n",
    "            rmse.append(mean_squared_error(y_test,p)**.5)\n",
    "            mae.append(mean_absolute_error(y_test,p))\n",
    "        \n",
    "        result.R_Squared=r_squared\n",
    "        result.RMSE=rmse\n",
    "        result.MAE=mae\n",
    "        \n",
    "        rtable=result.sort_values('R_Squared',ascending=False)\n",
    "        return rtable"
   ]
  },
  {
   "cell_type": "code",
   "execution_count": 334,
   "id": "34ea5784-2c05-468e-8607-69beda628290",
   "metadata": {},
   "outputs": [
    {
     "data": {
      "text/html": [
       "<div>\n",
       "<style scoped>\n",
       "    .dataframe tbody tr th:only-of-type {\n",
       "        vertical-align: middle;\n",
       "    }\n",
       "\n",
       "    .dataframe tbody tr th {\n",
       "        vertical-align: top;\n",
       "    }\n",
       "\n",
       "    .dataframe thead th {\n",
       "        text-align: right;\n",
       "    }\n",
       "</style>\n",
       "<table border=\"1\" class=\"dataframe\">\n",
       "  <thead>\n",
       "    <tr style=\"text-align: right;\">\n",
       "      <th></th>\n",
       "      <th>R_Squared</th>\n",
       "      <th>RMSE</th>\n",
       "      <th>MAE</th>\n",
       "    </tr>\n",
       "  </thead>\n",
       "  <tbody>\n",
       "    <tr>\n",
       "      <th>K Neighbors Regressor</th>\n",
       "      <td>0.814722</td>\n",
       "      <td>2449.896311</td>\n",
       "      <td>1652.419355</td>\n",
       "    </tr>\n",
       "    <tr>\n",
       "      <th>Gradient Boosting</th>\n",
       "      <td>0.771696</td>\n",
       "      <td>2719.521909</td>\n",
       "      <td>2179.325830</td>\n",
       "    </tr>\n",
       "    <tr>\n",
       "      <th>XGB Regressor</th>\n",
       "      <td>0.771489</td>\n",
       "      <td>2720.758707</td>\n",
       "      <td>2058.649131</td>\n",
       "    </tr>\n",
       "    <tr>\n",
       "      <th>Random Forest Regressor</th>\n",
       "      <td>0.763022</td>\n",
       "      <td>2770.704414</td>\n",
       "      <td>2211.000000</td>\n",
       "    </tr>\n",
       "    <tr>\n",
       "      <th>Extra Tree</th>\n",
       "      <td>0.565581</td>\n",
       "      <td>3751.376092</td>\n",
       "      <td>2396.774194</td>\n",
       "    </tr>\n",
       "    <tr>\n",
       "      <th>Ridge</th>\n",
       "      <td>0.397240</td>\n",
       "      <td>4418.842597</td>\n",
       "      <td>3650.559972</td>\n",
       "    </tr>\n",
       "    <tr>\n",
       "      <th>Linear</th>\n",
       "      <td>0.389096</td>\n",
       "      <td>4448.592503</td>\n",
       "      <td>3649.800603</td>\n",
       "    </tr>\n",
       "    <tr>\n",
       "      <th>Lasso</th>\n",
       "      <td>0.386929</td>\n",
       "      <td>4456.476318</td>\n",
       "      <td>3660.842828</td>\n",
       "    </tr>\n",
       "    <tr>\n",
       "      <th>ElasticNet</th>\n",
       "      <td>0.348763</td>\n",
       "      <td>4593.098314</td>\n",
       "      <td>3864.568703</td>\n",
       "    </tr>\n",
       "    <tr>\n",
       "      <th>Decision Tree</th>\n",
       "      <td>0.311357</td>\n",
       "      <td>4723.166994</td>\n",
       "      <td>3245.161290</td>\n",
       "    </tr>\n",
       "  </tbody>\n",
       "</table>\n",
       "</div>"
      ],
      "text/plain": [
       "                         R_Squared         RMSE          MAE\n",
       "K Neighbors Regressor     0.814722  2449.896311  1652.419355\n",
       "Gradient Boosting         0.771696  2719.521909  2179.325830\n",
       "XGB Regressor             0.771489  2720.758707  2058.649131\n",
       "Random Forest Regressor   0.763022  2770.704414  2211.000000\n",
       "Extra Tree                0.565581  3751.376092  2396.774194\n",
       "Ridge                     0.397240  4418.842597  3650.559972\n",
       "Linear                    0.389096  4448.592503  3649.800603\n",
       "Lasso                     0.386929  4456.476318  3660.842828\n",
       "ElasticNet                0.348763  4593.098314  3864.568703\n",
       "Decision Tree             0.311357  4723.166994  3245.161290"
      ]
     },
     "execution_count": 334,
     "metadata": {},
     "output_type": "execute_result"
    }
   ],
   "source": [
    "algo_test(x,y)"
   ]
  },
  {
   "cell_type": "markdown",
   "id": "d1d90dfe-9e1c-4c6c-9c20-ad3d523c9c09",
   "metadata": {},
   "source": [
    "#### Feature Importance\n",
    "* Normalde Linear Regression ile yapıyorduk. Ancak bu modelin başarısı düşük\n",
    "* Başarılı modellerden biri olan Random Forest Regressor ile yapalım"
   ]
  },
  {
   "cell_type": "code",
   "execution_count": 335,
   "id": "406bd0c3-c3e6-4362-a40e-cdfd08b747d3",
   "metadata": {},
   "outputs": [],
   "source": [
    "rf=RandomForestRegressor()"
   ]
  },
  {
   "cell_type": "code",
   "execution_count": 336,
   "id": "0147c4df-e33d-42dd-8732-fbfd6a2307d3",
   "metadata": {},
   "outputs": [],
   "source": [
    "x_train, x_test, y_train, y_test=train_test_split(x,y,test_size=.2,random_state=23)"
   ]
  },
  {
   "cell_type": "code",
   "execution_count": 337,
   "id": "e18a4881-ae98-4bc2-b552-27ce0c85100f",
   "metadata": {},
   "outputs": [],
   "source": [
    "model=rf.fit(x_train, y_train)"
   ]
  },
  {
   "cell_type": "code",
   "execution_count": 338,
   "id": "6fa6c69b-a678-47dd-b9c5-2d9467602c87",
   "metadata": {},
   "outputs": [],
   "source": [
    "tahmin = model.predict(x_test)"
   ]
  },
  {
   "cell_type": "code",
   "execution_count": 339,
   "id": "df422417-c867-4095-a295-20e76dff7550",
   "metadata": {},
   "outputs": [
    {
     "data": {
      "text/plain": [
       "0.7617018507315931"
      ]
     },
     "execution_count": 339,
     "metadata": {},
     "output_type": "execute_result"
    }
   ],
   "source": [
    "r2_score(y_test, tahmin)"
   ]
  },
  {
   "cell_type": "code",
   "execution_count": 340,
   "id": "db9cd30b-448e-4cd8-9fae-a89830b0a307",
   "metadata": {},
   "outputs": [
    {
     "data": {
      "text/plain": [
       "2778.411635762767"
      ]
     },
     "execution_count": 340,
     "metadata": {},
     "output_type": "execute_result"
    }
   ],
   "source": [
    "mean_squared_error(y_test, tahmin) ** .5"
   ]
  },
  {
   "cell_type": "code",
   "execution_count": 341,
   "id": "f5000b0c-3f29-4bf9-91ce-5ae22b1966db",
   "metadata": {},
   "outputs": [],
   "source": [
    "feature_importance = pd.DataFrame({'Feature': x_train.columns, 'Coefs': rf.feature_importances_})\n",
    "feature_importance = feature_importance.sort_values(by='Coefs', ascending=False)"
   ]
  },
  {
   "cell_type": "code",
   "execution_count": 342,
   "id": "bbdebb83-62e2-4f34-8b8a-d9f258cad229",
   "metadata": {},
   "outputs": [
    {
     "data": {
      "text/html": [
       "<div>\n",
       "<style scoped>\n",
       "    .dataframe tbody tr th:only-of-type {\n",
       "        vertical-align: middle;\n",
       "    }\n",
       "\n",
       "    .dataframe tbody tr th {\n",
       "        vertical-align: top;\n",
       "    }\n",
       "\n",
       "    .dataframe thead th {\n",
       "        text-align: right;\n",
       "    }\n",
       "</style>\n",
       "<table border=\"1\" class=\"dataframe\">\n",
       "  <thead>\n",
       "    <tr style=\"text-align: right;\">\n",
       "      <th></th>\n",
       "      <th>Feature</th>\n",
       "      <th>Coefs</th>\n",
       "    </tr>\n",
       "  </thead>\n",
       "  <tbody>\n",
       "    <tr>\n",
       "      <th>4</th>\n",
       "      <td>Depozito</td>\n",
       "      <td>0.371010</td>\n",
       "    </tr>\n",
       "    <tr>\n",
       "      <th>0</th>\n",
       "      <td>Lon</td>\n",
       "      <td>0.161847</td>\n",
       "    </tr>\n",
       "    <tr>\n",
       "      <th>1</th>\n",
       "      <td>Lat</td>\n",
       "      <td>0.152710</td>\n",
       "    </tr>\n",
       "    <tr>\n",
       "      <th>2</th>\n",
       "      <td>Net m²</td>\n",
       "      <td>0.145926</td>\n",
       "    </tr>\n",
       "    <tr>\n",
       "      <th>9</th>\n",
       "      <td>Banyo</td>\n",
       "      <td>0.046871</td>\n",
       "    </tr>\n",
       "    <tr>\n",
       "      <th>6</th>\n",
       "      <td>Bulunduğu Kat</td>\n",
       "      <td>0.026248</td>\n",
       "    </tr>\n",
       "    <tr>\n",
       "      <th>7</th>\n",
       "      <td>Oda</td>\n",
       "      <td>0.025669</td>\n",
       "    </tr>\n",
       "    <tr>\n",
       "      <th>5</th>\n",
       "      <td>Binadaki Kat Sayısı</td>\n",
       "      <td>0.021811</td>\n",
       "    </tr>\n",
       "    <tr>\n",
       "      <th>3</th>\n",
       "      <td>Aidat</td>\n",
       "      <td>0.017322</td>\n",
       "    </tr>\n",
       "    <tr>\n",
       "      <th>19</th>\n",
       "      <td>Yapının Durumu_0</td>\n",
       "      <td>0.008658</td>\n",
       "    </tr>\n",
       "    <tr>\n",
       "      <th>8</th>\n",
       "      <td>Yaş</td>\n",
       "      <td>0.007118</td>\n",
       "    </tr>\n",
       "    <tr>\n",
       "      <th>10</th>\n",
       "      <td>Eşyalı</td>\n",
       "      <td>0.004644</td>\n",
       "    </tr>\n",
       "    <tr>\n",
       "      <th>14</th>\n",
       "      <td>Konut Şekli_En Üst Kat</td>\n",
       "      <td>0.002316</td>\n",
       "    </tr>\n",
       "    <tr>\n",
       "      <th>24</th>\n",
       "      <td>Kat Tipi_En Üst Kat</td>\n",
       "      <td>0.002257</td>\n",
       "    </tr>\n",
       "    <tr>\n",
       "      <th>16</th>\n",
       "      <td>Konut Şekli_Teras Katı</td>\n",
       "      <td>0.002164</td>\n",
       "    </tr>\n",
       "    <tr>\n",
       "      <th>21</th>\n",
       "      <td>Isıtma_Elektrik</td>\n",
       "      <td>0.001395</td>\n",
       "    </tr>\n",
       "    <tr>\n",
       "      <th>15</th>\n",
       "      <td>Konut Şekli_Giriş Kat</td>\n",
       "      <td>0.000636</td>\n",
       "    </tr>\n",
       "    <tr>\n",
       "      <th>23</th>\n",
       "      <td>Kat Tipi_En Alt Kat</td>\n",
       "      <td>0.000634</td>\n",
       "    </tr>\n",
       "    <tr>\n",
       "      <th>20</th>\n",
       "      <td>Yapının Durumu_1</td>\n",
       "      <td>0.000606</td>\n",
       "    </tr>\n",
       "    <tr>\n",
       "      <th>11</th>\n",
       "      <td>Konut Şekli_Bahçe Dubleksi</td>\n",
       "      <td>0.000094</td>\n",
       "    </tr>\n",
       "    <tr>\n",
       "      <th>18</th>\n",
       "      <td>Konut Şekli_Çatı Dubleksi</td>\n",
       "      <td>0.000057</td>\n",
       "    </tr>\n",
       "    <tr>\n",
       "      <th>17</th>\n",
       "      <td>Konut Şekli_Ters Dubleks</td>\n",
       "      <td>0.000006</td>\n",
       "    </tr>\n",
       "    <tr>\n",
       "      <th>13</th>\n",
       "      <td>Konut Şekli_Dubleks</td>\n",
       "      <td>0.000000</td>\n",
       "    </tr>\n",
       "    <tr>\n",
       "      <th>22</th>\n",
       "      <td>Isıtma_Kömür</td>\n",
       "      <td>0.000000</td>\n",
       "    </tr>\n",
       "    <tr>\n",
       "      <th>12</th>\n",
       "      <td>Konut Şekli_Bahçe Katı</td>\n",
       "      <td>0.000000</td>\n",
       "    </tr>\n",
       "  </tbody>\n",
       "</table>\n",
       "</div>"
      ],
      "text/plain": [
       "                       Feature     Coefs\n",
       "4                     Depozito  0.371010\n",
       "0                          Lon  0.161847\n",
       "1                          Lat  0.152710\n",
       "2                       Net m²  0.145926\n",
       "9                        Banyo  0.046871\n",
       "6                Bulunduğu Kat  0.026248\n",
       "7                          Oda  0.025669\n",
       "5          Binadaki Kat Sayısı  0.021811\n",
       "3                        Aidat  0.017322\n",
       "19            Yapının Durumu_0  0.008658\n",
       "8                          Yaş  0.007118\n",
       "10                      Eşyalı  0.004644\n",
       "14      Konut Şekli_En Üst Kat  0.002316\n",
       "24         Kat Tipi_En Üst Kat  0.002257\n",
       "16      Konut Şekli_Teras Katı  0.002164\n",
       "21             Isıtma_Elektrik  0.001395\n",
       "15       Konut Şekli_Giriş Kat  0.000636\n",
       "23         Kat Tipi_En Alt Kat  0.000634\n",
       "20            Yapının Durumu_1  0.000606\n",
       "11  Konut Şekli_Bahçe Dubleksi  0.000094\n",
       "18   Konut Şekli_Çatı Dubleksi  0.000057\n",
       "17    Konut Şekli_Ters Dubleks  0.000006\n",
       "13         Konut Şekli_Dubleks  0.000000\n",
       "22                Isıtma_Kömür  0.000000\n",
       "12      Konut Şekli_Bahçe Katı  0.000000"
      ]
     },
     "execution_count": 342,
     "metadata": {},
     "output_type": "execute_result"
    }
   ],
   "source": [
    "feature_importance"
   ]
  },
  {
   "cell_type": "code",
   "execution_count": 343,
   "id": "1637f6ce-ff11-4dc2-8818-27d247bca0dd",
   "metadata": {},
   "outputs": [
    {
     "data": {
      "image/png": "[encoded data removed]",
      "text/plain": [
       "<Figure size 600x1500 with 1 Axes>"
      ]
     },
     "metadata": {},
     "output_type": "display_data"
    }
   ],
   "source": [
    "import matplotlib.pyplot as plt\n",
    "plt.figure(figsize=(6,15))\n",
    "plt.barh(feature_importance[\"Feature\"], feature_importance[\"Coefs\"]);\n",
    "plt.gca().invert_yaxis()"
   ]
  },
  {
   "cell_type": "code",
   "execution_count": 344,
   "id": "d907cab8-5908-4924-a629-1f1172cce276",
   "metadata": {},
   "outputs": [
    {
     "data": {
      "text/plain": [
       "267    1247.5\n",
       "264   -2124.5\n",
       "217     160.0\n",
       "318    5320.5\n",
       "396     -87.5\n",
       "        ...  \n",
       "268    -740.0\n",
       "414    2150.0\n",
       "26     3283.0\n",
       "106    1655.0\n",
       "299    1551.5\n",
       "Name: Fiyat, Length: 62, dtype: float64"
      ]
     },
     "execution_count": 344,
     "metadata": {},
     "output_type": "execute_result"
    }
   ],
   "source": [
    "residuals=y_test[\"Fiyat\"]-tahmin\n",
    "residuals"
   ]
  },
  {
   "cell_type": "code",
   "execution_count": 345,
   "id": "f23934b5-b055-4ed8-a638-54f0f76edc51",
   "metadata": {},
   "outputs": [
    {
     "data": {
      "text/plain": [
       "((62, 1), (62,))"
      ]
     },
     "execution_count": 345,
     "metadata": {},
     "output_type": "execute_result"
    }
   ],
   "source": [
    "y_test.shape, tahmin.shape"
   ]
  },
  {
   "cell_type": "code",
   "execution_count": 346,
   "id": "f00ac3fd-e90c-4d6e-b334-248caa5d7ffa",
   "metadata": {},
   "outputs": [
    {
     "data": {
      "text/plain": [
       "[     Fiyat\n",
       " 267  13000\n",
       " 264  16500\n",
       " 217  16300\n",
       " 318  26000\n",
       " 396  12000\n",
       " ..     ...\n",
       " 268  10250\n",
       " 414  26000\n",
       " 26   22500\n",
       " 106  15900\n",
       " 299  18000\n",
       " \n",
       " [62 rows x 1 columns]]"
      ]
     },
     "execution_count": 346,
     "metadata": {},
     "output_type": "execute_result"
    }
   ],
   "source": [
    "[y_test]"
   ]
  },
  {
   "cell_type": "markdown",
   "id": "ebe912ab-a882-46b3-92e9-c6913b92eca2",
   "metadata": {},
   "source": [
    "## Sonuç\n",
    "\n",
    "Bu projede Zingat üzerinden `web kazıma` yöntemi ile elde edilen veriler üzerinde regression modeli geliştirildi. Başarı biraz düşük oldu ama veri sayısı daha fazla olsaydı başarı yüksek çıkabilirdi."
   ]
  }
 ],
 "metadata": {
  "kernelspec": {
   "display_name": "Python 3 (ipykernel)",
   "language": "python",
   "name": "python3"
  },
  "language_info": {
   "codemirror_mode": {
    "name": "ipython",
    "version": 3
   },
   "file_extension": ".py",
   "mimetype": "text/x-python",
   "name": "python",
   "nbconvert_exporter": "python",
   "pygments_lexer": "ipython3",
   "version": "3.9.19"
  }
 },
 "nbformat": 4,
 "nbformat_minor": 5
}
