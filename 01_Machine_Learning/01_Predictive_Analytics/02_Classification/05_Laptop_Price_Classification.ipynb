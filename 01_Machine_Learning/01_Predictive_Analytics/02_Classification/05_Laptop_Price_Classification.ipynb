{
 "cells": [
  {
   "cell_type": "markdown",
   "id": "68a471ef-86cb-4642-8ba4-4bebcbcb5954",
   "metadata": {},
   "source": [
    "# Laptop Price Classification\n",
    "\n",
    "Bu projede diz üstü bilgisayarların fiyatlarını sınıflandıracak modeli geliştiriyoruz"
   ]
  },
  {
   "cell_type": "markdown",
   "id": "93cccb5f-ab90-4896-adb7-bcf8d90d4283",
   "metadata": {},
   "source": [
    "### Keşfedici Veri Analizi"
   ]
  },
  {
   "cell_type": "code",
   "execution_count": 1,
   "id": "69f00c4d-d548-4705-a35d-21c8c0381c38",
   "metadata": {},
   "outputs": [],
   "source": [
    "import pandas as pd\n",
    "pd.set_option(\"display.max_columns\", None)\n",
    "import warnings\n",
    "warnings.filterwarnings(\"ignore\")\n",
    "import numpy as np"
   ]
  },
  {
   "cell_type": "code",
   "execution_count": 2,
   "id": "93100d3a-0204-4afe-a1c7-c7cfc0b7d8f2",
   "metadata": {},
   "outputs": [],
   "source": [
    "df=pd.read_excel(\"data.xlsx\")"
   ]
  },
  {
   "cell_type": "code",
   "execution_count": 3,
   "id": "2e34b961-16d7-4136-814e-106c0de6434d",
   "metadata": {},
   "outputs": [
    {
     "data": {
      "text/html": [
       "<div>\n",
       "<style scoped>\n",
       "    .dataframe tbody tr th:only-of-type {\n",
       "        vertical-align: middle;\n",
       "    }\n",
       "\n",
       "    .dataframe tbody tr th {\n",
       "        vertical-align: top;\n",
       "    }\n",
       "\n",
       "    .dataframe thead th {\n",
       "        text-align: right;\n",
       "    }\n",
       "</style>\n",
       "<table border=\"1\" class=\"dataframe\">\n",
       "  <thead>\n",
       "    <tr style=\"text-align: right;\">\n",
       "      <th></th>\n",
       "      <th>Bellek Hızı</th>\n",
       "      <th>Cihaz Ağırlığı</th>\n",
       "      <th>Ekran Boyutu</th>\n",
       "      <th>Ekran Kartı Bellek Tipi</th>\n",
       "      <th>Ekran Kartı Hafızası</th>\n",
       "      <th>Ekran Kartı Tipi</th>\n",
       "      <th>Ekran Panel Tipi</th>\n",
       "      <th>İşlemci Nesli</th>\n",
       "      <th>İşlemci</th>\n",
       "      <th>İşletim Sistemi</th>\n",
       "      <th>Kart Okuyucu</th>\n",
       "      <th>Aydınlatma</th>\n",
       "      <th>Maksimum İşlemci Hızı</th>\n",
       "      <th>Max Ekran Çözünürlüğü</th>\n",
       "      <th>Parmak İzi Okuyucu</th>\n",
       "      <th>Ram (Sistem Belleği)</th>\n",
       "      <th>SSD Kapasitesi</th>\n",
       "      <th>Ürün Modeli</th>\n",
       "      <th>Fiyat</th>\n",
       "    </tr>\n",
       "  </thead>\n",
       "  <tbody>\n",
       "    <tr>\n",
       "      <th>0</th>\n",
       "      <td>1066 MHz</td>\n",
       "      <td>NaN</td>\n",
       "      <td>10 inç</td>\n",
       "      <td>NaN</td>\n",
       "      <td>1 GB</td>\n",
       "      <td>NaN</td>\n",
       "      <td>IPS</td>\n",
       "      <td>1.Nesil</td>\n",
       "      <td>1000M</td>\n",
       "      <td>Android</td>\n",
       "      <td>NaN</td>\n",
       "      <td>0</td>\n",
       "      <td>1,05 GHz</td>\n",
       "      <td>NaN</td>\n",
       "      <td>NaN</td>\n",
       "      <td>NaN</td>\n",
       "      <td>1 TB</td>\n",
       "      <td>Notebook</td>\n",
       "      <td>Çok Yüksek</td>\n",
       "    </tr>\n",
       "    <tr>\n",
       "      <th>1</th>\n",
       "      <td>1066 MHz</td>\n",
       "      <td>NaN</td>\n",
       "      <td>10 inç</td>\n",
       "      <td>NaN</td>\n",
       "      <td>1 GB</td>\n",
       "      <td>NaN</td>\n",
       "      <td>IPS</td>\n",
       "      <td>1.Nesil</td>\n",
       "      <td>1000M</td>\n",
       "      <td>Android</td>\n",
       "      <td>NaN</td>\n",
       "      <td>0</td>\n",
       "      <td>1,05 GHz</td>\n",
       "      <td>NaN</td>\n",
       "      <td>NaN</td>\n",
       "      <td>NaN</td>\n",
       "      <td>1 TB</td>\n",
       "      <td>Notebook</td>\n",
       "      <td>Çok Yüksek</td>\n",
       "    </tr>\n",
       "    <tr>\n",
       "      <th>2</th>\n",
       "      <td>1066 MHz</td>\n",
       "      <td>NaN</td>\n",
       "      <td>10 inç</td>\n",
       "      <td>NaN</td>\n",
       "      <td>1 GB</td>\n",
       "      <td>NaN</td>\n",
       "      <td>IPS</td>\n",
       "      <td>1.Nesil</td>\n",
       "      <td>1000M</td>\n",
       "      <td>Android</td>\n",
       "      <td>NaN</td>\n",
       "      <td>0</td>\n",
       "      <td>1,05 GHz</td>\n",
       "      <td>NaN</td>\n",
       "      <td>NaN</td>\n",
       "      <td>NaN</td>\n",
       "      <td>1 TB</td>\n",
       "      <td>Notebook</td>\n",
       "      <td>Orta</td>\n",
       "    </tr>\n",
       "    <tr>\n",
       "      <th>3</th>\n",
       "      <td>3200 MHz</td>\n",
       "      <td>1 - 2 kg</td>\n",
       "      <td>15,6 inç</td>\n",
       "      <td>GDDR4</td>\n",
       "      <td>2 GB</td>\n",
       "      <td>Harici Ekran Kartı</td>\n",
       "      <td>LED</td>\n",
       "      <td>10. Nesil</td>\n",
       "      <td>1035G1</td>\n",
       "      <td>Windows 10 Home</td>\n",
       "      <td>Var</td>\n",
       "      <td>0</td>\n",
       "      <td>3,6 GHz</td>\n",
       "      <td>1920 x 1080</td>\n",
       "      <td>Yok</td>\n",
       "      <td>8 GB</td>\n",
       "      <td>512 GB</td>\n",
       "      <td>Notebook</td>\n",
       "      <td>Düşük</td>\n",
       "    </tr>\n",
       "    <tr>\n",
       "      <th>4</th>\n",
       "      <td>3200 MHz</td>\n",
       "      <td>1 - 2 kg</td>\n",
       "      <td>15,6 inç</td>\n",
       "      <td>GDDR5</td>\n",
       "      <td>2 GB</td>\n",
       "      <td>Harici Ekran Kartı</td>\n",
       "      <td>LED</td>\n",
       "      <td>10. Nesil</td>\n",
       "      <td>1035G1</td>\n",
       "      <td>Windows 10 Home</td>\n",
       "      <td>Yok</td>\n",
       "      <td>0</td>\n",
       "      <td>3,6 GHz</td>\n",
       "      <td>1920 x 1080</td>\n",
       "      <td>Yok</td>\n",
       "      <td>12 GB</td>\n",
       "      <td>1 TB</td>\n",
       "      <td>Notebook</td>\n",
       "      <td>Düşük</td>\n",
       "    </tr>\n",
       "  </tbody>\n",
       "</table>\n",
       "</div>"
      ],
      "text/plain": [
       "  Bellek Hızı Cihaz Ağırlığı Ekran Boyutu Ekran Kartı Bellek Tipi  \\\n",
       "0    1066 MHz            NaN       10 inç                     NaN   \n",
       "1    1066 MHz            NaN       10 inç                     NaN   \n",
       "2    1066 MHz            NaN       10 inç                     NaN   \n",
       "3    3200 MHz       1 - 2 kg     15,6 inç                   GDDR4   \n",
       "4    3200 MHz       1 - 2 kg     15,6 inç                   GDDR5   \n",
       "\n",
       "  Ekran Kartı Hafızası    Ekran Kartı Tipi Ekran Panel Tipi İşlemci Nesli  \\\n",
       "0                 1 GB                 NaN              IPS       1.Nesil   \n",
       "1                 1 GB                 NaN              IPS       1.Nesil   \n",
       "2                 1 GB                 NaN              IPS       1.Nesil   \n",
       "3                 2 GB  Harici Ekran Kartı              LED     10. Nesil   \n",
       "4                 2 GB  Harici Ekran Kartı              LED     10. Nesil   \n",
       "\n",
       "  İşlemci  İşletim Sistemi Kart Okuyucu  Aydınlatma Maksimum İşlemci Hızı  \\\n",
       "0   1000M          Android          NaN           0              1,05 GHz   \n",
       "1   1000M          Android          NaN           0              1,05 GHz   \n",
       "2   1000M          Android          NaN           0              1,05 GHz   \n",
       "3  1035G1  Windows 10 Home          Var           0               3,6 GHz   \n",
       "4  1035G1  Windows 10 Home          Yok           0               3,6 GHz   \n",
       "\n",
       "  Max Ekran Çözünürlüğü Parmak İzi Okuyucu Ram (Sistem Belleği)  \\\n",
       "0                   NaN                NaN                  NaN   \n",
       "1                   NaN                NaN                  NaN   \n",
       "2                   NaN                NaN                  NaN   \n",
       "3           1920 x 1080                Yok                 8 GB   \n",
       "4           1920 x 1080                Yok                12 GB   \n",
       "\n",
       "  SSD Kapasitesi Ürün Modeli       Fiyat  \n",
       "0           1 TB    Notebook  Çok Yüksek  \n",
       "1           1 TB    Notebook  Çok Yüksek  \n",
       "2           1 TB    Notebook        Orta  \n",
       "3         512 GB    Notebook       Düşük  \n",
       "4           1 TB    Notebook       Düşük  "
      ]
     },
     "execution_count": 3,
     "metadata": {},
     "output_type": "execute_result"
    }
   ],
   "source": [
    "df.head()"
   ]
  },
  {
   "cell_type": "code",
   "execution_count": 4,
   "id": "5e94f957-3eaa-42d4-a100-2b24668dc023",
   "metadata": {},
   "outputs": [
    {
     "name": "stdout",
     "output_type": "stream",
     "text": [
      "<class 'pandas.core.frame.DataFrame'>\n",
      "RangeIndex: 994 entries, 0 to 993\n",
      "Data columns (total 19 columns):\n",
      " #   Column                   Non-Null Count  Dtype \n",
      "---  ------                   --------------  ----- \n",
      " 0   Bellek Hızı              888 non-null    object\n",
      " 1   Cihaz Ağırlığı           985 non-null    object\n",
      " 2   Ekran Boyutu             994 non-null    object\n",
      " 3   Ekran Kartı Bellek Tipi  884 non-null    object\n",
      " 4   Ekran Kartı Hafızası     946 non-null    object\n",
      " 5   Ekran Kartı Tipi         955 non-null    object\n",
      " 6   Ekran Panel Tipi         994 non-null    object\n",
      " 7   İşlemci Nesli            946 non-null    object\n",
      " 8   İşlemci                  979 non-null    object\n",
      " 9   İşletim Sistemi          994 non-null    object\n",
      " 10  Kart Okuyucu             864 non-null    object\n",
      " 11  Aydınlatma               994 non-null    int64 \n",
      " 12  Maksimum İşlemci Hızı    950 non-null    object\n",
      " 13  Max Ekran Çözünürlüğü    988 non-null    object\n",
      " 14  Parmak İzi Okuyucu       886 non-null    object\n",
      " 15  Ram (Sistem Belleği)     987 non-null    object\n",
      " 16  SSD Kapasitesi           991 non-null    object\n",
      " 17  Ürün Modeli              994 non-null    object\n",
      " 18  Fiyat                    994 non-null    object\n",
      "dtypes: int64(1), object(18)\n",
      "memory usage: 147.7+ KB\n"
     ]
    }
   ],
   "source": [
    "df.info()"
   ]
  },
  {
   "cell_type": "code",
   "execution_count": 5,
   "id": "435765cc-4b46-42aa-a9de-55d4830e9297",
   "metadata": {},
   "outputs": [
    {
     "data": {
      "text/plain": [
       "Bellek Hızı                106\n",
       "Cihaz Ağırlığı               9\n",
       "Ekran Kartı Bellek Tipi    110\n",
       "Ekran Kartı Hafızası        48\n",
       "Ekran Kartı Tipi            39\n",
       "İşlemci Nesli               48\n",
       "İşlemci                     15\n",
       "Kart Okuyucu               130\n",
       "Maksimum İşlemci Hızı       44\n",
       "Max Ekran Çözünürlüğü        6\n",
       "Parmak İzi Okuyucu         108\n",
       "Ram (Sistem Belleği)         7\n",
       "SSD Kapasitesi               3\n",
       "dtype: int64"
      ]
     },
     "execution_count": 5,
     "metadata": {},
     "output_type": "execute_result"
    }
   ],
   "source": [
    "# Hangi alanlarda boş veri var\n",
    "bos=df.isnull().sum()\n",
    "bos[bos>0]"
   ]
  },
  {
   "cell_type": "code",
   "execution_count": 6,
   "id": "b2207f5b-090f-4b06-9808-9372d133814b",
   "metadata": {},
   "outputs": [
    {
     "data": {
      "text/plain": [
       "Bellek Hızı\n",
       "3200 MHz    655\n",
       "4800 MHz    100\n",
       "2666 MHz     71\n",
       "2400 MHz     17\n",
       "2933 MHz     14\n",
       "5200 MHz      6\n",
       "4266 MHz      6\n",
       "4267 MHz      4\n",
       "1066 MHz      3\n",
       "3000 MHz      3\n",
       "3733 MHz      2\n",
       "5500 MHz      2\n",
       "2133 MHz      2\n",
       "6400 MHz      1\n",
       "1600 MHz      1\n",
       "1866 MHz      1\n",
       "Name: count, dtype: int64"
      ]
     },
     "execution_count": 6,
     "metadata": {},
     "output_type": "execute_result"
    }
   ],
   "source": [
    "df[\"Bellek Hızı\"].value_counts()\n",
    "# Bu alan sayıya çevrilebilir ve boş verileri en sık veri ile doldurulabilir"
   ]
  },
  {
   "cell_type": "code",
   "execution_count": 7,
   "id": "2adc05e6-6bb9-4d05-870f-d3a5edd6662e",
   "metadata": {},
   "outputs": [
    {
     "data": {
      "text/plain": [
       "Cihaz Ağırlığı\n",
       "1 - 2 kg        586\n",
       "2 - 4 kg        303\n",
       "2 kg ve Altı     95\n",
       "4 kg ve Üstü      1\n",
       "Name: count, dtype: int64"
      ]
     },
     "execution_count": 7,
     "metadata": {},
     "output_type": "execute_result"
    }
   ],
   "source": [
    "df[\"Cihaz Ağırlığı\"].value_counts()\n",
    "# Bu alan 2 ve 4 verilerine dönüştürülebilir ve boş veriler yine en sık veri ile doldurulabilir"
   ]
  },
  {
   "cell_type": "code",
   "execution_count": 8,
   "id": "aee8e378-9ba9-4452-b909-11b46be1ec65",
   "metadata": {},
   "outputs": [
    {
     "data": {
      "text/plain": [
       "Ekran Boyutu\n",
       "15,6 inç    681\n",
       "14 inç      136\n",
       "16 inç       38\n",
       "17,3 inç     36\n",
       "16,1 inç     30\n",
       "13 inç       20\n",
       "14,1 inç     20\n",
       "13,3 inç     15\n",
       "10 inç        3\n",
       "18,4 inç      3\n",
       "15 inç        2\n",
       "13,5 inç      2\n",
       "11,6 inç      2\n",
       "17 inç        2\n",
       "18 inç        2\n",
       "13,4 inç      1\n",
       "12,3 inç      1\n",
       "Name: count, dtype: int64"
      ]
     },
     "execution_count": 8,
     "metadata": {},
     "output_type": "execute_result"
    }
   ],
   "source": [
    "df[\"Ekran Boyutu\"].value_counts()\n",
    "# Bu alan sayıya çevrilebilir"
   ]
  },
  {
   "cell_type": "code",
   "execution_count": 9,
   "id": "cf4ccf1d-d079-4b92-bf7e-f0c80fcb6ce0",
   "metadata": {},
   "outputs": [
    {
     "data": {
      "text/plain": [
       "Ekran Kartı Bellek Tipi\n",
       "Onboard    529\n",
       "GDDR6      289\n",
       "GDDR5       45\n",
       "GDDR4       12\n",
       "DDR5         7\n",
       "DDR3         1\n",
       "GDDR6X       1\n",
       "Name: count, dtype: int64"
      ]
     },
     "execution_count": 9,
     "metadata": {},
     "output_type": "execute_result"
    }
   ],
   "source": [
    "df[\"Ekran Kartı Bellek Tipi\"].value_counts()\n",
    "# Bu alan verileri gruplandırılıp dummy uygulanabilir, boş veriler Onboard ile doldurulabilir"
   ]
  },
  {
   "cell_type": "code",
   "execution_count": 10,
   "id": "4755015e-f4b7-407b-a5ac-5162350d3ee2",
   "metadata": {},
   "outputs": [
    {
     "data": {
      "text/plain": [
       "Ekran Kartı Hafızası\n",
       "Paylaşımlı    597\n",
       "4 GB          142\n",
       "2 GB           82\n",
       "6 GB           72\n",
       "8 GB           37\n",
       "16 GB          10\n",
       "1 GB            3\n",
       "12 GB           3\n",
       "Name: count, dtype: int64"
      ]
     },
     "execution_count": 10,
     "metadata": {},
     "output_type": "execute_result"
    }
   ],
   "source": [
    "df[\"Ekran Kartı Hafızası\"].value_counts()\n",
    "# Bu alan verileri sayıya çevrilebilir. Paylaşımlı olanlar ve boş veriler 0 olarak değiştirilebilir"
   ]
  },
  {
   "cell_type": "code",
   "execution_count": 11,
   "id": "8812fdc6-cf39-4f36-95e2-4608aa4887f2",
   "metadata": {},
   "outputs": [
    {
     "data": {
      "text/plain": [
       "Ekran Kartı Tipi\n",
       "Dahili Ekran Kartı                  596\n",
       "Harici Ekran Kartı                  183\n",
       "Yüksek Seviye Harici Ekran Kartı    176\n",
       "Name: count, dtype: int64"
      ]
     },
     "execution_count": 11,
     "metadata": {},
     "output_type": "execute_result"
    }
   ],
   "source": [
    "df[\"Ekran Kartı Tipi\"].value_counts()\n",
    "# Dahili:0, Harici:1, Yüksek harici:2 olarak değiştirilebilir. Boş veriler 0 olur"
   ]
  },
  {
   "cell_type": "code",
   "execution_count": 12,
   "id": "2604ad6a-b6c7-46a1-8898-876552ee3cf6",
   "metadata": {},
   "outputs": [
    {
     "data": {
      "text/plain": [
       "Ekran Panel Tipi\n",
       "IPS                    625\n",
       "TN                     190\n",
       "WVA                     80\n",
       "LED                     54\n",
       "OLED                    14\n",
       "Liquid Retina XDR       14\n",
       "SVA                     10\n",
       "LTPS                     3\n",
       "Mini LED                 2\n",
       "Liquid Retina Ekran      2\n",
       "Name: count, dtype: int64"
      ]
     },
     "execution_count": 12,
     "metadata": {},
     "output_type": "execute_result"
    }
   ],
   "source": [
    "df[\"Ekran Panel Tipi\"].value_counts()\n",
    "# Bu panelleri pahalı ve ucuz olarak gruplayabiliriz. Pahalı olanlar 1 diğerleri 0\n",
    "# Pahalı olanlar: IPS, OLED, Liquid Retina XDR, LTPS, Mini LED\n",
    "# Ucuz olanlar: TN, WVA, LED, SVA"
   ]
  },
  {
   "cell_type": "code",
   "execution_count": 13,
   "id": "c722aefb-1141-4494-9544-5241cb2b20a0",
   "metadata": {},
   "outputs": [
    {
     "data": {
      "text/plain": [
       "İşlemci Nesli\n",
       "11.Nesil          341\n",
       "12.Nesil          246\n",
       "5.Nesil            90\n",
       "Ryzen              79\n",
       "13.Nesil           53\n",
       "10. Nesil          34\n",
       "10.Nesil           25\n",
       "4.Nesil            15\n",
       "7.Nesil            13\n",
       "6.Nesil            11\n",
       "Apple M2 Pro        8\n",
       "Apple M2            5\n",
       "M2                  4\n",
       "3.Nesil             3\n",
       "9.Nesil             3\n",
       "Apple M2 Max        3\n",
       "İntel N Serisi      3\n",
       "1.Nesil             3\n",
       "8.Nesil             2\n",
       "M2 Max              2\n",
       "M2 Pro              2\n",
       "Yok                 1\n",
       "Name: count, dtype: int64"
      ]
     },
     "execution_count": 13,
     "metadata": {},
     "output_type": "execute_result"
    }
   ],
   "source": [
    "df[\"İşlemci Nesli\"].value_counts()\n",
    "# Bu veriler Intel, AMD ve Apple olarak gruplandırılıp dummy yapılabilir. Boş veriler Intel ile doldurulur"
   ]
  },
  {
   "cell_type": "code",
   "execution_count": 14,
   "id": "7ccae5a3-7e16-41a9-8b28-03fad87f2931",
   "metadata": {
    "scrolled": true
   },
   "outputs": [
    {
     "data": {
      "text/plain": [
       "İşlemci\n",
       "1135G7          144\n",
       "1255U            79\n",
       "1235U            71\n",
       "1165G7           68\n",
       "1115G4           47\n",
       "               ... \n",
       "AMD R7-5700U      1\n",
       "6800HS            1\n",
       "N4150             1\n",
       "7Y57              1\n",
       "7320U             1\n",
       "Name: count, Length: 87, dtype: int64"
      ]
     },
     "execution_count": 14,
     "metadata": {},
     "output_type": "execute_result"
    }
   ],
   "source": [
    "df[\"İşlemci\"].value_counts()\n",
    "# Burada çeşit çok. Eğitimden çıkarılabilir"
   ]
  },
  {
   "cell_type": "code",
   "execution_count": 15,
   "id": "8a28ba95-1f8a-4027-b3a5-c9b57e64ad1d",
   "metadata": {},
   "outputs": [
    {
     "data": {
      "text/plain": [
       "İşletim Sistemi\n",
       "Yok (Free Dos)     478\n",
       "Windows 11 Home    198\n",
       "Windows 11 Pro     137\n",
       "Windows 10 Pro      55\n",
       "Windows 10 Home     47\n",
       "macOS               42\n",
       "Ubuntu              31\n",
       "Android              3\n",
       "Chrome OS            3\n",
       "Name: count, dtype: int64"
      ]
     },
     "execution_count": 15,
     "metadata": {},
     "output_type": "execute_result"
    }
   ],
   "source": [
    "df[\"İşletim Sistemi\"].value_counts()\n",
    "# Bu alan ücretli ücrestsiz olarak gruplandırılabilir. Boş veriler 0 olur"
   ]
  },
  {
   "cell_type": "code",
   "execution_count": 16,
   "id": "ec9aacaf-4f32-45f6-bdf8-5b41050a66d8",
   "metadata": {},
   "outputs": [
    {
     "data": {
      "text/plain": [
       "Kart Okuyucu\n",
       "Var    471\n",
       "Yok    393\n",
       "Name: count, dtype: int64"
      ]
     },
     "execution_count": 16,
     "metadata": {},
     "output_type": "execute_result"
    }
   ],
   "source": [
    "df[\"Kart Okuyucu\"].value_counts()\n",
    "# En sevdiğim. 1-0. Boş veriler çoğunluk olan 1 ile doldurulabilir"
   ]
  },
  {
   "cell_type": "code",
   "execution_count": 17,
   "id": "83235c46-8e7b-4670-8e25-af0030690da9",
   "metadata": {},
   "outputs": [
    {
     "data": {
      "text/plain": [
       "Aydınlatma\n",
       "0    752\n",
       "1    242\n",
       "Name: count, dtype: int64"
      ]
     },
     "execution_count": 17,
     "metadata": {},
     "output_type": "execute_result"
    }
   ],
   "source": [
    "df[\"Aydınlatma\"].value_counts()\n",
    "# Bu alana bir şey yapmaya gerek yok"
   ]
  },
  {
   "cell_type": "code",
   "execution_count": 18,
   "id": "2a9e8043-2c79-44e8-b17f-3a6a9c89aadd",
   "metadata": {},
   "outputs": [
    {
     "data": {
      "text/plain": [
       "Maksimum İşlemci Hızı\n",
       "4,7 GHz     226\n",
       "4,2 GHz     175\n",
       "4,5 GHz     108\n",
       "4,4 GHz     104\n",
       "4,1 GHz      53\n",
       "4,3 GHz      47\n",
       "5 GHz        37\n",
       "4,0 GHz      22\n",
       "4,6 GHz      20\n",
       "4 GHz        18\n",
       "2,6 GHz      16\n",
       "3,4 GHz      14\n",
       "2,8 GHz      14\n",
       "3,5 GHz      11\n",
       "4,9 GHz       9\n",
       "3,6 GHz       8\n",
       "3,9 GHz       7\n",
       "5,6 GHz       7\n",
       "5,4 GHz       6\n",
       "2,4 GHz       5\n",
       "3,1 GHz       5\n",
       "3,8 GHz       4\n",
       "3,7 GHz       4\n",
       "1,05 GHz      4\n",
       "4,8 GHz       4\n",
       "2,5 GHz       3\n",
       "1,1 GHz       3\n",
       "5,2 GHz       3\n",
       "5,5 Ghz       2\n",
       "2,3 GHz       2\n",
       "2,1 GHz       2\n",
       "2 GHz         2\n",
       "1,2 GHz       1\n",
       "3,2 GHz       1\n",
       "3 GHz         1\n",
       "2,2 GHz       1\n",
       "1,8 GHz       1\n",
       "Name: count, dtype: int64"
      ]
     },
     "execution_count": 18,
     "metadata": {},
     "output_type": "execute_result"
    }
   ],
   "source": [
    "df[\"Maksimum İşlemci Hızı\"].value_counts()\n",
    "# Bu alan sayıya çevrilip boşluklar ortalama veya 4,7 ile doldurulabilir"
   ]
  },
  {
   "cell_type": "code",
   "execution_count": 19,
   "id": "5a795288-1495-4162-9c9c-992b16cbcb19",
   "metadata": {},
   "outputs": [
    {
     "data": {
      "text/plain": [
       "Max Ekran Çözünürlüğü\n",
       "1920 x 1080    808\n",
       "1366 x 768      55\n",
       "2560 x 1600     42\n",
       "1920 x 1200     24\n",
       "1920 x 1280      9\n",
       "3456 x 2234      9\n",
       "3840 x 2160      6\n",
       "2560 x 1440      6\n",
       "2880 x 1800      4\n",
       "3024 x 1964      4\n",
       "2520 x 1680      3\n",
       "3072 x 1920      3\n",
       "1921 x 1080      3\n",
       "1926 x 1080      2\n",
       "1933 x 1080      2\n",
       "3840 x 2400      2\n",
       "1924 x 1080      2\n",
       "2880 x 1864      2\n",
       "1922 x 1080      1\n",
       "2880 x 1620      1\n",
       "Name: count, dtype: int64"
      ]
     },
     "execution_count": 19,
     "metadata": {},
     "output_type": "execute_result"
    }
   ],
   "source": [
    "df[\"Max Ekran Çözünürlüğü\"].value_counts()\n",
    "# Bu sayılar çarpılarak piksel sayıları hesaplanabilir. Boş veriler en sık ile doldurulur"
   ]
  },
  {
   "cell_type": "code",
   "execution_count": 20,
   "id": "767723f8-9365-43f4-b7cc-603100342c4f",
   "metadata": {},
   "outputs": [
    {
     "data": {
      "text/plain": [
       "Parmak İzi Okuyucu\n",
       "Yok    692\n",
       "Var    194\n",
       "Name: count, dtype: int64"
      ]
     },
     "execution_count": 20,
     "metadata": {},
     "output_type": "execute_result"
    }
   ],
   "source": [
    "df[\"Parmak İzi Okuyucu\"].value_counts()\n",
    "# Var:1, Yok:0, Boş veriler 0 ile doldurulur"
   ]
  },
  {
   "cell_type": "code",
   "execution_count": 21,
   "id": "a90857d4-3909-40d6-bf5a-f4a00acf4605",
   "metadata": {},
   "outputs": [
    {
     "data": {
      "text/plain": [
       "Ram (Sistem Belleği)\n",
       "16 GB     415\n",
       "8 GB      280\n",
       "32 GB     150\n",
       "4 GB       47\n",
       "64 GB      29\n",
       "12 GB      26\n",
       "24 GB      21\n",
       "20 GB       7\n",
       "40 GB       7\n",
       "36 GB       3\n",
       "8 GB        1\n",
       "128 GB      1\n",
       "Name: count, dtype: int64"
      ]
     },
     "execution_count": 21,
     "metadata": {},
     "output_type": "execute_result"
    }
   ],
   "source": [
    "df[\"Ram (Sistem Belleği)\"].value_counts()\n",
    "# Sayıya çevrilip boş veriler 16 ile doldurulabilir"
   ]
  },
  {
   "cell_type": "code",
   "execution_count": 22,
   "id": "091403af-e301-4a0e-858e-7cfdfcdce8be",
   "metadata": {},
   "outputs": [
    {
     "data": {
      "text/plain": [
       "SSD Kapasitesi\n",
       "512 GB    434\n",
       "1 TB      252\n",
       "256 GB    187\n",
       "2 TB       40\n",
       "500 GB     39\n",
       "0 GB       16\n",
       "128 GB     12\n",
       "120 GB      6\n",
       "4 TB        2\n",
       "250 GB      1\n",
       " 0 GB       1\n",
       "64 GB       1\n",
       "Name: count, dtype: int64"
      ]
     },
     "execution_count": 22,
     "metadata": {},
     "output_type": "execute_result"
    }
   ],
   "source": [
    "df[\"SSD Kapasitesi\"].value_counts()\n",
    "# Sayıya çevrilip boşlar 0 ile doldurulabilir"
   ]
  },
  {
   "cell_type": "code",
   "execution_count": 23,
   "id": "17e806e9-ab90-4e25-bd32-cfc054dd4ca8",
   "metadata": {},
   "outputs": [
    {
     "data": {
      "text/plain": [
       "Ürün Modeli\n",
       "Notebook               735\n",
       "Oyun Bilgisayarları    235\n",
       "İkisi Bir Arada         13\n",
       "Ultrabook               11\n",
       "Name: count, dtype: int64"
      ]
     },
     "execution_count": 23,
     "metadata": {},
     "output_type": "execute_result"
    }
   ],
   "source": [
    "df[\"Ürün Modeli\"].value_counts()\n",
    "# Dummy yapılabilir"
   ]
  },
  {
   "cell_type": "code",
   "execution_count": 24,
   "id": "2f7e15e6-cc69-48a5-bbf2-90e4e0fc8b5c",
   "metadata": {},
   "outputs": [
    {
     "data": {
      "text/plain": [
       "Fiyat\n",
       "Düşük         463\n",
       "Orta          226\n",
       "Yüksek        110\n",
       "Çok Düşük     102\n",
       "Çok Yüksek     93\n",
       "Name: count, dtype: int64"
      ]
     },
     "execution_count": 24,
     "metadata": {},
     "output_type": "execute_result"
    }
   ],
   "source": [
    "df[\"Fiyat\"].value_counts()\n",
    "# Fiyat 1-5 arası puanlanabilir"
   ]
  },
  {
   "cell_type": "markdown",
   "id": "40d3cf53-590d-4e54-b724-b0de0397e4d6",
   "metadata": {},
   "source": [
    "### Veri Ön İşleme Fonksiyonu"
   ]
  },
  {
   "cell_type": "code",
   "execution_count": 25,
   "id": "ef7b9cc8-2ad7-46bd-97e8-8c21211518de",
   "metadata": {
    "scrolled": true
   },
   "outputs": [],
   "source": [
    "def prep(df):\n",
    "    df['Bellek Hızı'] = df['Bellek Hızı'].str.replace(' MHz', '').astype(float)\n",
    "    df['Bellek Hızı'] = df['Bellek Hızı'].fillna(df['Bellek Hızı'].mode()[0])\n",
    "    d={\"1 - 2 kg\":2, \"2 kg ve Altı\":2, \"2 - 4 kg\":4, \"4 kg ve Üstü\":4}\n",
    "    df[\"Cihaz Ağırlığı\"]=df[\"Cihaz Ağırlığı\"].map(d)\n",
    "    df['Cihaz Ağırlığı'] = df['Cihaz Ağırlığı'].fillna(2)\n",
    "    df[\"Ekran Boyutu\"] = df[\"Ekran Boyutu\"].str.replace(\" inç\", \"\").str.replace(\",\", \".\").astype(float)\n",
    "    df[\"Ekran Kartı Bellek Tipi\"] = df[\"Ekran Kartı Bellek Tipi\"].fillna(df[\"Ekran Kartı Bellek Tipi\"].mode()[0])\n",
    "    df[\"Ekran Kartı Hafızası\"] = df[\"Ekran Kartı Hafızası\"].fillna(\"0\")\n",
    "    df[\"Ekran Kartı Hafızası\"] = df[\"Ekran Kartı Hafızası\"].str.replace(\" GB\", \"\").str.replace(\"Paylaşımlı\", \"0\").astype(int)\n",
    "    d={\"Dahili Ekran Kartı\":0, \"Harici Ekran Kartı\":1, \"Yüksek Seviye Harici Ekran Kartı\":2}\n",
    "    df[\"Ekran Kartı Tipi\"]=df[\"Ekran Kartı Tipi\"].map(d)\n",
    "    df[\"Ekran Kartı Tipi\"] = df[\"Ekran Kartı Tipi\"].fillna(0)\n",
    "    d={\"IPS\":1, \"OLED\":1, \"Liquid Retina XDR\":1, \"Liquid Retina Ekran\":1, \"LTPS\":1, \"Mini LED\":1}\n",
    "    df[\"Ekran Panel Tipi\"]=df[\"Ekran Panel Tipi\"].map(lambda x: d.get(x, 0))\n",
    "    df['İşlemci Nesli'] = df['İşlemci Nesli'].fillna(\"Intel\")\n",
    "    df['İşlemci Nesli'] = df['İşlemci Nesli'].map(lambda x: 'AMD' if x == 'Ryzen' else 'Apple' if 'M2' in x else 'Intel')\n",
    "    df.drop(\"İşlemci\", axis=1, inplace=True)\n",
    "    df['İşletim Sistemi'] = df['İşletim Sistemi'].map(lambda x: 1 if (\"Windows\" in x) or (\"macOS\" in x) else 0)\n",
    "    df['Kart Okuyucu'] = np.where(df['Kart Okuyucu'] == 'Var', 1, 0)\n",
    "    df[\"Maksimum İşlemci Hızı\"] = df[\"Maksimum İşlemci Hızı\"].fillna(\"4,7\")\n",
    "    df[\"Maksimum İşlemci Hızı\"] = df[\"Maksimum İşlemci Hızı\"].str.replace(\" GHz\", \"\").str.replace(\" Ghz\", \"\").str.replace(\",\",\".\").astype(float)\n",
    "    df['Max Ekran Çözünürlüğü'] = df['Max Ekran Çözünürlüğü'].fillna(\"1920 x 1080\")\n",
    "    df['Max Ekran Çözünürlüğü'] = df['Max Ekran Çözünürlüğü'].apply(lambda x: eval(x.replace(' x ', '*')))/1000000\n",
    "    df['Parmak İzi Okuyucu'] = np.where(df['Parmak İzi Okuyucu'] == 'Var', 1, 0)\n",
    "    df[\"Ram (Sistem Belleği)\"] = df[\"Ram (Sistem Belleği)\"].fillna(df[\"Ram (Sistem Belleği)\"].mode()[0])\n",
    "    df[\"Ram (Sistem Belleği)\"] = df[\"Ram (Sistem Belleği)\"].str.replace(\"GB\", \"\").astype(int)\n",
    "    df['SSD Kapasitesi'] = df['SSD Kapasitesi'].str.strip()\n",
    "    df[\"SSD Kapasitesi\"] = df[\"SSD Kapasitesi\"].fillna(\"0 TB\")\n",
    "    df['SSD Kapasitesi'] = df['SSD Kapasitesi'].map(lambda x: float(x.split(' ')[0]) \n",
    "                                                    if 'TB' in x else float(x.split(' ')[0]) / 1024)\n",
    "    d={'Çok Düşük': 0, 'Düşük': 1, 'Orta': 2, 'Yüksek': 3,  'Çok Yüksek': 4}\n",
    "    df[\"Fiyat\"]=df[\"Fiyat\"].map(d)"
   ]
  },
  {
   "cell_type": "code",
   "execution_count": 26,
   "id": "237d63fa-4c9d-435a-b83b-257197ca5d6f",
   "metadata": {},
   "outputs": [
    {
     "data": {
      "text/html": [
       "<div>\n",
       "<style scoped>\n",
       "    .dataframe tbody tr th:only-of-type {\n",
       "        vertical-align: middle;\n",
       "    }\n",
       "\n",
       "    .dataframe tbody tr th {\n",
       "        vertical-align: top;\n",
       "    }\n",
       "\n",
       "    .dataframe thead th {\n",
       "        text-align: right;\n",
       "    }\n",
       "</style>\n",
       "<table border=\"1\" class=\"dataframe\">\n",
       "  <thead>\n",
       "    <tr style=\"text-align: right;\">\n",
       "      <th></th>\n",
       "      <th>Bellek Hızı</th>\n",
       "      <th>Cihaz Ağırlığı</th>\n",
       "      <th>Ekran Boyutu</th>\n",
       "      <th>Ekran Kartı Bellek Tipi</th>\n",
       "      <th>Ekran Kartı Hafızası</th>\n",
       "      <th>Ekran Kartı Tipi</th>\n",
       "      <th>Ekran Panel Tipi</th>\n",
       "      <th>İşlemci Nesli</th>\n",
       "      <th>İşletim Sistemi</th>\n",
       "      <th>Kart Okuyucu</th>\n",
       "      <th>Aydınlatma</th>\n",
       "      <th>Maksimum İşlemci Hızı</th>\n",
       "      <th>Max Ekran Çözünürlüğü</th>\n",
       "      <th>Parmak İzi Okuyucu</th>\n",
       "      <th>Ram (Sistem Belleği)</th>\n",
       "      <th>SSD Kapasitesi</th>\n",
       "      <th>Ürün Modeli</th>\n",
       "      <th>Fiyat</th>\n",
       "    </tr>\n",
       "  </thead>\n",
       "  <tbody>\n",
       "    <tr>\n",
       "      <th>0</th>\n",
       "      <td>1066.0</td>\n",
       "      <td>2.0</td>\n",
       "      <td>10.0</td>\n",
       "      <td>Onboard</td>\n",
       "      <td>1</td>\n",
       "      <td>0.0</td>\n",
       "      <td>1</td>\n",
       "      <td>Intel</td>\n",
       "      <td>0</td>\n",
       "      <td>0</td>\n",
       "      <td>0</td>\n",
       "      <td>1.05</td>\n",
       "      <td>2.0736</td>\n",
       "      <td>0</td>\n",
       "      <td>16</td>\n",
       "      <td>1.0</td>\n",
       "      <td>Notebook</td>\n",
       "      <td>4</td>\n",
       "    </tr>\n",
       "    <tr>\n",
       "      <th>1</th>\n",
       "      <td>1066.0</td>\n",
       "      <td>2.0</td>\n",
       "      <td>10.0</td>\n",
       "      <td>Onboard</td>\n",
       "      <td>1</td>\n",
       "      <td>0.0</td>\n",
       "      <td>1</td>\n",
       "      <td>Intel</td>\n",
       "      <td>0</td>\n",
       "      <td>0</td>\n",
       "      <td>0</td>\n",
       "      <td>1.05</td>\n",
       "      <td>2.0736</td>\n",
       "      <td>0</td>\n",
       "      <td>16</td>\n",
       "      <td>1.0</td>\n",
       "      <td>Notebook</td>\n",
       "      <td>4</td>\n",
       "    </tr>\n",
       "    <tr>\n",
       "      <th>2</th>\n",
       "      <td>1066.0</td>\n",
       "      <td>2.0</td>\n",
       "      <td>10.0</td>\n",
       "      <td>Onboard</td>\n",
       "      <td>1</td>\n",
       "      <td>0.0</td>\n",
       "      <td>1</td>\n",
       "      <td>Intel</td>\n",
       "      <td>0</td>\n",
       "      <td>0</td>\n",
       "      <td>0</td>\n",
       "      <td>1.05</td>\n",
       "      <td>2.0736</td>\n",
       "      <td>0</td>\n",
       "      <td>16</td>\n",
       "      <td>1.0</td>\n",
       "      <td>Notebook</td>\n",
       "      <td>2</td>\n",
       "    </tr>\n",
       "    <tr>\n",
       "      <th>3</th>\n",
       "      <td>3200.0</td>\n",
       "      <td>2.0</td>\n",
       "      <td>15.6</td>\n",
       "      <td>GDDR4</td>\n",
       "      <td>2</td>\n",
       "      <td>1.0</td>\n",
       "      <td>0</td>\n",
       "      <td>Intel</td>\n",
       "      <td>1</td>\n",
       "      <td>1</td>\n",
       "      <td>0</td>\n",
       "      <td>3.60</td>\n",
       "      <td>2.0736</td>\n",
       "      <td>0</td>\n",
       "      <td>8</td>\n",
       "      <td>0.5</td>\n",
       "      <td>Notebook</td>\n",
       "      <td>1</td>\n",
       "    </tr>\n",
       "    <tr>\n",
       "      <th>4</th>\n",
       "      <td>3200.0</td>\n",
       "      <td>2.0</td>\n",
       "      <td>15.6</td>\n",
       "      <td>GDDR5</td>\n",
       "      <td>2</td>\n",
       "      <td>1.0</td>\n",
       "      <td>0</td>\n",
       "      <td>Intel</td>\n",
       "      <td>1</td>\n",
       "      <td>0</td>\n",
       "      <td>0</td>\n",
       "      <td>3.60</td>\n",
       "      <td>2.0736</td>\n",
       "      <td>0</td>\n",
       "      <td>12</td>\n",
       "      <td>1.0</td>\n",
       "      <td>Notebook</td>\n",
       "      <td>1</td>\n",
       "    </tr>\n",
       "  </tbody>\n",
       "</table>\n",
       "</div>"
      ],
      "text/plain": [
       "   Bellek Hızı  Cihaz Ağırlığı  Ekran Boyutu Ekran Kartı Bellek Tipi  \\\n",
       "0       1066.0             2.0          10.0                 Onboard   \n",
       "1       1066.0             2.0          10.0                 Onboard   \n",
       "2       1066.0             2.0          10.0                 Onboard   \n",
       "3       3200.0             2.0          15.6                   GDDR4   \n",
       "4       3200.0             2.0          15.6                   GDDR5   \n",
       "\n",
       "   Ekran Kartı Hafızası  Ekran Kartı Tipi  Ekran Panel Tipi İşlemci Nesli  \\\n",
       "0                     1               0.0                 1         Intel   \n",
       "1                     1               0.0                 1         Intel   \n",
       "2                     1               0.0                 1         Intel   \n",
       "3                     2               1.0                 0         Intel   \n",
       "4                     2               1.0                 0         Intel   \n",
       "\n",
       "   İşletim Sistemi  Kart Okuyucu  Aydınlatma  Maksimum İşlemci Hızı  \\\n",
       "0                0             0           0                   1.05   \n",
       "1                0             0           0                   1.05   \n",
       "2                0             0           0                   1.05   \n",
       "3                1             1           0                   3.60   \n",
       "4                1             0           0                   3.60   \n",
       "\n",
       "   Max Ekran Çözünürlüğü  Parmak İzi Okuyucu  Ram (Sistem Belleği)  \\\n",
       "0                 2.0736                   0                    16   \n",
       "1                 2.0736                   0                    16   \n",
       "2                 2.0736                   0                    16   \n",
       "3                 2.0736                   0                     8   \n",
       "4                 2.0736                   0                    12   \n",
       "\n",
       "   SSD Kapasitesi Ürün Modeli  Fiyat  \n",
       "0             1.0    Notebook      4  \n",
       "1             1.0    Notebook      4  \n",
       "2             1.0    Notebook      2  \n",
       "3             0.5    Notebook      1  \n",
       "4             1.0    Notebook      1  "
      ]
     },
     "execution_count": 26,
     "metadata": {},
     "output_type": "execute_result"
    }
   ],
   "source": [
    "prep(df)\n",
    "df.head()"
   ]
  },
  {
   "cell_type": "markdown",
   "id": "6ffd185c-0a68-4820-9837-f94106513037",
   "metadata": {},
   "source": [
    "### Sınıflandırma Modeli"
   ]
  },
  {
   "cell_type": "code",
   "execution_count": 36,
   "id": "760b817e-a1c6-4764-a8b7-ba602b7e518c",
   "metadata": {},
   "outputs": [],
   "source": [
    "from sklearn.naive_bayes import GaussianNB\n",
    "from sklearn.naive_bayes import BernoulliNB\n",
    "from sklearn.linear_model import LogisticRegression\n",
    "from sklearn.tree import DecisionTreeClassifier\n",
    "from sklearn.ensemble import RandomForestClassifier\n",
    "from sklearn.ensemble import GradientBoostingClassifier\n",
    "from sklearn.neighbors import KNeighborsClassifier\n",
    "\n",
    "from sklearn.metrics import accuracy_score, precision_score, recall_score\n",
    "from sklearn.metrics import f1_score, confusion_matrix, classification_report\n",
    "from sklearn.model_selection import train_test_split\n",
    "\n",
    "g = GaussianNB()\n",
    "b = BernoulliNB()\n",
    "l = LogisticRegression()\n",
    "d = DecisionTreeClassifier()\n",
    "r = RandomForestClassifier()\n",
    "gb= GradientBoostingClassifier()\n",
    "kn= KNeighborsClassifier()\n",
    "\n",
    "def algo_test(x, y):\n",
    "    modeller=[g, b, l, d, r, gb, kn]\n",
    "    isimler=[\"GaussianNB\", \"BernoulliNB\", \"LogisticRegression\", \"DecisionTreeClassifier\", \n",
    "             \"RandomForestClassifier\", \"GradientBoostingClassifier\", \"KNeighborsClassifier\"]\n",
    "\n",
    "    x_train, x_test, y_train, y_test = train_test_split(x, y, test_size=.2, random_state = 42)\n",
    "    \n",
    "    accuracy = []\n",
    "    precision = []\n",
    "    recall = []\n",
    "    f1 = []\n",
    "    mdl=[]\n",
    "\n",
    "    print(\"Veriler hazır modeller deneniyor\")\n",
    "    for model in modeller:\n",
    "        print(model, \" modeli eğitiliyor!..\")\n",
    "        model=model.fit(x_train,y_train)\n",
    "        tahmin=model.predict(np.array(x_test) if model==kn else x_test)\n",
    "        mdl.append(model)\n",
    "        accuracy.append(accuracy_score(y_test, tahmin))\n",
    "        precision.append(precision_score(y_test, tahmin, average='macro'))\n",
    "        recall.append(recall_score(y_test, tahmin, average='macro'))\n",
    "        f1.append(f1_score(y_test, tahmin, average='macro'))\n",
    "        print(confusion_matrix(y_test, tahmin))\n",
    "\n",
    "    print(\"Eğitim tamamlandı.\")\n",
    "    \n",
    "    metrics=pd.DataFrame(columns=[\"Accuracy\", \"Precision\", \"Recall\", \"F1\", \"Model\"], index=isimler)\n",
    "    metrics[\"Accuracy\"] = accuracy\n",
    "    metrics[\"Precision\"] = precision  \n",
    "    metrics[\"Recall\"] = recall\n",
    "    metrics[\"F1\"] = f1\n",
    "    metrics[\"Model\"]=mdl\n",
    "\n",
    "    metrics.sort_values(\"F1\", ascending=False, inplace=True)\n",
    "\n",
    "    print(\"En başarılı model: \", metrics.iloc[0].name)\n",
    "    model=metrics.iloc[0,-1]\n",
    "    tahmin=model.predict(np.array(x_test) if model==kn else x_test)\n",
    "    print(\"Confusion Matrix:\")\n",
    "    print(confusion_matrix(tahmin, y_test))\n",
    "    print(\"classification Report:\")\n",
    "    print(classification_report(tahmin, y_test))\n",
    "    print(\"Diğer Modeller:\")\n",
    "    \n",
    "    return metrics.drop(\"Model\", axis=1)"
   ]
  },
  {
   "cell_type": "code",
   "execution_count": 44,
   "id": "83739201-e29b-4164-ab9b-40190703ba2d",
   "metadata": {},
   "outputs": [
    {
     "data": {
      "text/plain": [
       "((994, 25), (994, 1))"
      ]
     },
     "execution_count": 44,
     "metadata": {},
     "output_type": "execute_result"
    }
   ],
   "source": [
    "x=df.drop([\"Fiyat\"], axis=1)\n",
    "y=df[[\"Fiyat\"]]\n",
    "\n",
    "x=pd.get_dummies(x, drop_first=True)\n",
    "x.shape, y.shape"
   ]
  },
  {
   "cell_type": "code",
   "execution_count": 37,
   "id": "11b75453-56a7-4f9d-9c12-1f344140940f",
   "metadata": {},
   "outputs": [
    {
     "name": "stdout",
     "output_type": "stream",
     "text": [
      "Veriler hazır modeller deneniyor\n",
      "GaussianNB()  modeli eğitiliyor!..\n",
      "[[18  1  1  0  0]\n",
      " [32 33 22  1  0]\n",
      " [ 2 10 32  0  3]\n",
      " [ 2  2 21  3  1]\n",
      " [ 0  0  2  2 11]]\n",
      "BernoulliNB()  modeli eğitiliyor!..\n",
      "[[ 6 14  0  0  0]\n",
      " [ 3 73 10  1  1]\n",
      " [ 1 25 13  7  1]\n",
      " [ 0  5 18  6  0]\n",
      " [ 0  2  3  3  7]]\n",
      "LogisticRegression()  modeli eğitiliyor!..\n",
      "[[ 3 17  0  0  0]\n",
      " [ 2 80  6  0  0]\n",
      " [ 1 31 13  0  2]\n",
      " [ 1  7 17  0  4]\n",
      " [ 0  7  1  0  7]]\n",
      "DecisionTreeClassifier()  modeli eğitiliyor!..\n",
      "[[15  5  0  0  0]\n",
      " [ 0 82  4  0  2]\n",
      " [ 0 15 29  3  0]\n",
      " [ 0  1  7 18  3]\n",
      " [ 0  0  0  1 14]]\n",
      "RandomForestClassifier()  modeli eğitiliyor!..\n",
      "[[18  2  0  0  0]\n",
      " [ 3 81  4  0  0]\n",
      " [ 0 16 30  1  0]\n",
      " [ 0  2  7 19  1]\n",
      " [ 0  0  0  1 14]]\n",
      "GradientBoostingClassifier()  modeli eğitiliyor!..\n",
      "[[18  2  0  0  0]\n",
      " [ 0 83  5  0  0]\n",
      " [ 0 22 23  2  0]\n",
      " [ 0  2  7 17  3]\n",
      " [ 0  0  1  1 13]]\n",
      "KNeighborsClassifier()  modeli eğitiliyor!..\n",
      "[[11  8  1  0  0]\n",
      " [ 4 83  1  0  0]\n",
      " [ 0 22 23  2  0]\n",
      " [ 0  8 10 10  1]\n",
      " [ 0  0  2  1 12]]\n",
      "Eğitim tamamlandı.\n",
      "En başarılı model:  RandomForestClassifier\n",
      "Confusion Matrix:\n",
      "[[18  3  0  0  0]\n",
      " [ 2 81 16  2  0]\n",
      " [ 0  4 30  7  0]\n",
      " [ 0  0  1 19  1]\n",
      " [ 0  0  0  1 14]]\n",
      "classification Report:\n",
      "              precision    recall  f1-score   support\n",
      "\n",
      "           0       0.90      0.86      0.88        21\n",
      "           1       0.92      0.80      0.86       101\n",
      "           2       0.64      0.73      0.68        41\n",
      "           3       0.66      0.90      0.76        21\n",
      "           4       0.93      0.93      0.93        15\n",
      "\n",
      "    accuracy                           0.81       199\n",
      "   macro avg       0.81      0.85      0.82       199\n",
      "weighted avg       0.83      0.81      0.82       199\n",
      "\n",
      "Diğer Modeller:\n"
     ]
    },
    {
     "data": {
      "text/html": [
       "<div>\n",
       "<style scoped>\n",
       "    .dataframe tbody tr th:only-of-type {\n",
       "        vertical-align: middle;\n",
       "    }\n",
       "\n",
       "    .dataframe tbody tr th {\n",
       "        vertical-align: top;\n",
       "    }\n",
       "\n",
       "    .dataframe thead th {\n",
       "        text-align: right;\n",
       "    }\n",
       "</style>\n",
       "<table border=\"1\" class=\"dataframe\">\n",
       "  <thead>\n",
       "    <tr style=\"text-align: right;\">\n",
       "      <th></th>\n",
       "      <th>Accuracy</th>\n",
       "      <th>Precision</th>\n",
       "      <th>Recall</th>\n",
       "      <th>F1</th>\n",
       "    </tr>\n",
       "  </thead>\n",
       "  <tbody>\n",
       "    <tr>\n",
       "      <th>RandomForestClassifier</th>\n",
       "      <td>0.814070</td>\n",
       "      <td>0.845785</td>\n",
       "      <td>0.809452</td>\n",
       "      <td>0.822069</td>\n",
       "    </tr>\n",
       "    <tr>\n",
       "      <th>DecisionTreeClassifier</th>\n",
       "      <td>0.793970</td>\n",
       "      <td>0.815228</td>\n",
       "      <td>0.770572</td>\n",
       "      <td>0.782372</td>\n",
       "    </tr>\n",
       "    <tr>\n",
       "      <th>GradientBoostingClassifier</th>\n",
       "      <td>0.773869</td>\n",
       "      <td>0.812571</td>\n",
       "      <td>0.757083</td>\n",
       "      <td>0.775362</td>\n",
       "    </tr>\n",
       "    <tr>\n",
       "      <th>KNeighborsClassifier</th>\n",
       "      <td>0.698492</td>\n",
       "      <td>0.746643</td>\n",
       "      <td>0.625474</td>\n",
       "      <td>0.660756</td>\n",
       "    </tr>\n",
       "    <tr>\n",
       "      <th>GaussianNB</th>\n",
       "      <td>0.487437</td>\n",
       "      <td>0.538863</td>\n",
       "      <td>0.558527</td>\n",
       "      <td>0.479157</td>\n",
       "    </tr>\n",
       "    <tr>\n",
       "      <th>BernoulliNB</th>\n",
       "      <td>0.527638</td>\n",
       "      <td>0.527924</td>\n",
       "      <td>0.415941</td>\n",
       "      <td>0.447046</td>\n",
       "    </tr>\n",
       "    <tr>\n",
       "      <th>LogisticRegression</th>\n",
       "      <td>0.517588</td>\n",
       "      <td>0.376353</td>\n",
       "      <td>0.360471</td>\n",
       "      <td>0.345480</td>\n",
       "    </tr>\n",
       "  </tbody>\n",
       "</table>\n",
       "</div>"
      ],
      "text/plain": [
       "                            Accuracy  Precision    Recall        F1\n",
       "RandomForestClassifier      0.814070   0.845785  0.809452  0.822069\n",
       "DecisionTreeClassifier      0.793970   0.815228  0.770572  0.782372\n",
       "GradientBoostingClassifier  0.773869   0.812571  0.757083  0.775362\n",
       "KNeighborsClassifier        0.698492   0.746643  0.625474  0.660756\n",
       "GaussianNB                  0.487437   0.538863  0.558527  0.479157\n",
       "BernoulliNB                 0.527638   0.527924  0.415941  0.447046\n",
       "LogisticRegression          0.517588   0.376353  0.360471  0.345480"
      ]
     },
     "execution_count": 37,
     "metadata": {},
     "output_type": "execute_result"
    }
   ],
   "source": [
    "algo_test(x,y)"
   ]
  },
  {
   "cell_type": "code",
   "execution_count": 38,
   "id": "0cd151dd-6caa-4084-8164-31e9ccc42c2b",
   "metadata": {},
   "outputs": [],
   "source": [
    "# En başarılı model ile yeniden eğitelim\n",
    "rf=RandomForestClassifier()"
   ]
  },
  {
   "cell_type": "code",
   "execution_count": 39,
   "id": "ffcd1910-3962-435b-97dc-ed413871acfb",
   "metadata": {},
   "outputs": [],
   "source": [
    "model = rf.fit(x,y)"
   ]
  },
  {
   "cell_type": "code",
   "execution_count": 41,
   "id": "d5cf3dd1-caea-44d9-90df-5f03ee1304e8",
   "metadata": {},
   "outputs": [],
   "source": [
    "import pickle\n",
    "# Modeli kaydedelim\n",
    "pickle.dump(model, open('LaptopPriceClass.pkl', 'wb'))\n",
    "\n",
    "# Modeli okuyalım\n",
    "LPCmodel = pickle.load(open('LaptopPriceClass.pkl', 'rb'))"
   ]
  },
  {
   "cell_type": "markdown",
   "id": "f0fe5e3b-de94-4bab-a3d3-f44c3d04290c",
   "metadata": {},
   "source": [
    "### Test Verisini Deneyelim"
   ]
  },
  {
   "cell_type": "code",
   "execution_count": 42,
   "id": "a1e3c268-a580-441b-8dca-ad4cac3d7835",
   "metadata": {},
   "outputs": [
    {
     "data": {
      "text/html": [
       "<div>\n",
       "<style scoped>\n",
       "    .dataframe tbody tr th:only-of-type {\n",
       "        vertical-align: middle;\n",
       "    }\n",
       "\n",
       "    .dataframe tbody tr th {\n",
       "        vertical-align: top;\n",
       "    }\n",
       "\n",
       "    .dataframe thead th {\n",
       "        text-align: right;\n",
       "    }\n",
       "</style>\n",
       "<table border=\"1\" class=\"dataframe\">\n",
       "  <thead>\n",
       "    <tr style=\"text-align: right;\">\n",
       "      <th></th>\n",
       "      <th>Bellek Hızı</th>\n",
       "      <th>Cihaz Ağırlığı</th>\n",
       "      <th>Ekran Boyutu</th>\n",
       "      <th>Ekran Kartı Bellek Tipi</th>\n",
       "      <th>Ekran Kartı Hafızası</th>\n",
       "      <th>Ekran Kartı Tipi</th>\n",
       "      <th>Ekran Panel Tipi</th>\n",
       "      <th>İşlemci Nesli</th>\n",
       "      <th>İşletim Sistemi</th>\n",
       "      <th>Kart Okuyucu</th>\n",
       "      <th>Aydınlatma</th>\n",
       "      <th>Maksimum İşlemci Hızı</th>\n",
       "      <th>Max Ekran Çözünürlüğü</th>\n",
       "      <th>Parmak İzi Okuyucu</th>\n",
       "      <th>Ram (Sistem Belleği)</th>\n",
       "      <th>SSD Kapasitesi</th>\n",
       "      <th>Ürün Modeli</th>\n",
       "      <th>Fiyat</th>\n",
       "    </tr>\n",
       "  </thead>\n",
       "  <tbody>\n",
       "    <tr>\n",
       "      <th>0</th>\n",
       "      <td>3200.0</td>\n",
       "      <td>2</td>\n",
       "      <td>15.6</td>\n",
       "      <td>GDDR6</td>\n",
       "      <td>6</td>\n",
       "      <td>2</td>\n",
       "      <td>0</td>\n",
       "      <td>Intel</td>\n",
       "      <td>0</td>\n",
       "      <td>0</td>\n",
       "      <td>1</td>\n",
       "      <td>4.4</td>\n",
       "      <td>2.073600</td>\n",
       "      <td>0</td>\n",
       "      <td>8</td>\n",
       "      <td>0.5</td>\n",
       "      <td>Oyun Bilgisayarları</td>\n",
       "      <td>2</td>\n",
       "    </tr>\n",
       "    <tr>\n",
       "      <th>1</th>\n",
       "      <td>3200.0</td>\n",
       "      <td>2</td>\n",
       "      <td>14.1</td>\n",
       "      <td>Onboard</td>\n",
       "      <td>0</td>\n",
       "      <td>0</td>\n",
       "      <td>1</td>\n",
       "      <td>Intel</td>\n",
       "      <td>0</td>\n",
       "      <td>1</td>\n",
       "      <td>0</td>\n",
       "      <td>4.7</td>\n",
       "      <td>2.073600</td>\n",
       "      <td>1</td>\n",
       "      <td>16</td>\n",
       "      <td>0.5</td>\n",
       "      <td>Notebook</td>\n",
       "      <td>1</td>\n",
       "    </tr>\n",
       "    <tr>\n",
       "      <th>2</th>\n",
       "      <td>3200.0</td>\n",
       "      <td>2</td>\n",
       "      <td>15.6</td>\n",
       "      <td>Onboard</td>\n",
       "      <td>0</td>\n",
       "      <td>0</td>\n",
       "      <td>0</td>\n",
       "      <td>AMD</td>\n",
       "      <td>0</td>\n",
       "      <td>1</td>\n",
       "      <td>0</td>\n",
       "      <td>4.3</td>\n",
       "      <td>2.073600</td>\n",
       "      <td>0</td>\n",
       "      <td>8</td>\n",
       "      <td>0.5</td>\n",
       "      <td>Notebook</td>\n",
       "      <td>0</td>\n",
       "    </tr>\n",
       "    <tr>\n",
       "      <th>3</th>\n",
       "      <td>3200.0</td>\n",
       "      <td>2</td>\n",
       "      <td>15.6</td>\n",
       "      <td>Onboard</td>\n",
       "      <td>0</td>\n",
       "      <td>0</td>\n",
       "      <td>1</td>\n",
       "      <td>Intel</td>\n",
       "      <td>1</td>\n",
       "      <td>1</td>\n",
       "      <td>0</td>\n",
       "      <td>4.7</td>\n",
       "      <td>2.073600</td>\n",
       "      <td>0</td>\n",
       "      <td>8</td>\n",
       "      <td>2.0</td>\n",
       "      <td>Notebook</td>\n",
       "      <td>2</td>\n",
       "    </tr>\n",
       "    <tr>\n",
       "      <th>4</th>\n",
       "      <td>2400.0</td>\n",
       "      <td>2</td>\n",
       "      <td>15.6</td>\n",
       "      <td>Onboard</td>\n",
       "      <td>0</td>\n",
       "      <td>0</td>\n",
       "      <td>0</td>\n",
       "      <td>Intel</td>\n",
       "      <td>0</td>\n",
       "      <td>1</td>\n",
       "      <td>0</td>\n",
       "      <td>2.6</td>\n",
       "      <td>1.049088</td>\n",
       "      <td>0</td>\n",
       "      <td>4</td>\n",
       "      <td>0.0</td>\n",
       "      <td>Notebook</td>\n",
       "      <td>0</td>\n",
       "    </tr>\n",
       "  </tbody>\n",
       "</table>\n",
       "</div>"
      ],
      "text/plain": [
       "   Bellek Hızı  Cihaz Ağırlığı  Ekran Boyutu Ekran Kartı Bellek Tipi  \\\n",
       "0       3200.0               2          15.6                   GDDR6   \n",
       "1       3200.0               2          14.1                 Onboard   \n",
       "2       3200.0               2          15.6                 Onboard   \n",
       "3       3200.0               2          15.6                 Onboard   \n",
       "4       2400.0               2          15.6                 Onboard   \n",
       "\n",
       "   Ekran Kartı Hafızası  Ekran Kartı Tipi  Ekran Panel Tipi İşlemci Nesli  \\\n",
       "0                     6                 2                 0         Intel   \n",
       "1                     0                 0                 1         Intel   \n",
       "2                     0                 0                 0           AMD   \n",
       "3                     0                 0                 1         Intel   \n",
       "4                     0                 0                 0         Intel   \n",
       "\n",
       "   İşletim Sistemi  Kart Okuyucu  Aydınlatma  Maksimum İşlemci Hızı  \\\n",
       "0                0             0           1                    4.4   \n",
       "1                0             1           0                    4.7   \n",
       "2                0             1           0                    4.3   \n",
       "3                1             1           0                    4.7   \n",
       "4                0             1           0                    2.6   \n",
       "\n",
       "   Max Ekran Çözünürlüğü  Parmak İzi Okuyucu  Ram (Sistem Belleği)  \\\n",
       "0               2.073600                   0                     8   \n",
       "1               2.073600                   1                    16   \n",
       "2               2.073600                   0                     8   \n",
       "3               2.073600                   0                     8   \n",
       "4               1.049088                   0                     4   \n",
       "\n",
       "   SSD Kapasitesi          Ürün Modeli  Fiyat  \n",
       "0             0.5  Oyun Bilgisayarları      2  \n",
       "1             0.5             Notebook      1  \n",
       "2             0.5             Notebook      0  \n",
       "3             2.0             Notebook      2  \n",
       "4             0.0             Notebook      0  "
      ]
     },
     "execution_count": 42,
     "metadata": {},
     "output_type": "execute_result"
    }
   ],
   "source": [
    "df_test=pd.read_excel(\"test.xlsx\")\n",
    "# Ön işleme basamaklarını test verisi için de çalıştıralım\n",
    "prep(df_test)\n",
    "df_test.head()"
   ]
  },
  {
   "cell_type": "code",
   "execution_count": 45,
   "id": "53fd0afe-a9be-4c2f-918c-67697d81b948",
   "metadata": {},
   "outputs": [
    {
     "data": {
      "text/plain": [
       "((249, 23), (249, 1))"
      ]
     },
     "execution_count": 45,
     "metadata": {},
     "output_type": "execute_result"
    }
   ],
   "source": [
    "x_test=df_test.drop([\"Fiyat\"], axis=1)\n",
    "y_test=df_test[[\"Fiyat\"]]\n",
    "\n",
    "x_test=pd.get_dummies(x_test, drop_first=True)\n",
    "x_test.shape, y_test.shape"
   ]
  },
  {
   "cell_type": "code",
   "execution_count": 47,
   "id": "71149099-00f0-48e0-a437-4d345e40c3df",
   "metadata": {},
   "outputs": [
    {
     "data": {
      "text/plain": [
       "['İşlemci Nesli_Apple', 'Ürün Modeli_Ultrabook']"
      ]
     },
     "execution_count": 47,
     "metadata": {},
     "output_type": "execute_result"
    }
   ],
   "source": [
    "# Sütunlarda eşleşmeyen var\n",
    "eksikler = list(set(x.columns) - set(x_test.columns))\n",
    "eksikler"
   ]
  },
  {
   "cell_type": "code",
   "execution_count": 50,
   "id": "63e5ecdc-4bbd-4a1c-b10f-d03a460d362e",
   "metadata": {},
   "outputs": [],
   "source": [
    "# Eksik alanları ekleyip değerleri False yapalım\n",
    "for column in eksikler:\n",
    "    x_test[column] = False"
   ]
  },
  {
   "cell_type": "code",
   "execution_count": 53,
   "id": "55006409-dba0-4003-80c5-5fea247698a8",
   "metadata": {},
   "outputs": [],
   "source": [
    "# Sütun sırasını dengeleyelim\n",
    "x_test = x_test[x.columns]"
   ]
  },
  {
   "cell_type": "code",
   "execution_count": 51,
   "id": "c6d7aea0-7148-4c26-8f3b-eb6ce08fe872",
   "metadata": {},
   "outputs": [
    {
     "data": {
      "text/plain": [
       "((249, 25), (249, 1))"
      ]
     },
     "execution_count": 51,
     "metadata": {},
     "output_type": "execute_result"
    }
   ],
   "source": [
    "x_test.shape, y_test.shape"
   ]
  },
  {
   "cell_type": "code",
   "execution_count": 54,
   "id": "6e50a8e0-8bc2-4a67-a79e-a9bf478e7371",
   "metadata": {},
   "outputs": [],
   "source": [
    "# Test verisini tahmin edelim\n",
    "tahmin = LPCmodel.predict(x_test)"
   ]
  },
  {
   "cell_type": "code",
   "execution_count": 55,
   "id": "ffcaab2f-4780-4d57-837a-1e4cda4daa64",
   "metadata": {},
   "outputs": [
    {
     "data": {
      "text/plain": [
       "0.7791164658634538"
      ]
     },
     "execution_count": 55,
     "metadata": {},
     "output_type": "execute_result"
    }
   ],
   "source": [
    "accuracy_score(y_test, tahmin)"
   ]
  },
  {
   "cell_type": "code",
   "execution_count": 56,
   "id": "b72551f5-6211-4880-b2ae-8a086a8baa8c",
   "metadata": {},
   "outputs": [
    {
     "data": {
      "text/plain": [
       "array([[12, 11,  0,  0,  0],\n",
       "       [ 2, 98, 15,  1,  0],\n",
       "       [ 0,  7, 46,  5,  0],\n",
       "       [ 0,  0,  4, 23,  1],\n",
       "       [ 0,  0,  0,  9, 15]])"
      ]
     },
     "execution_count": 56,
     "metadata": {},
     "output_type": "execute_result"
    }
   ],
   "source": [
    "confusion_matrix(y_test, tahmin)"
   ]
  },
  {
   "cell_type": "code",
   "execution_count": 59,
   "id": "e63b2e76-64ba-4059-a0b0-2123ce2d06a4",
   "metadata": {},
   "outputs": [
    {
     "name": "stdout",
     "output_type": "stream",
     "text": [
      "              precision    recall  f1-score   support\n",
      "\n",
      "           0       0.86      0.52      0.65        23\n",
      "           1       0.84      0.84      0.84       116\n",
      "           2       0.71      0.79      0.75        58\n",
      "           3       0.61      0.82      0.70        28\n",
      "           4       0.94      0.62      0.75        24\n",
      "\n",
      "    accuracy                           0.78       249\n",
      "   macro avg       0.79      0.72      0.74       249\n",
      "weighted avg       0.80      0.78      0.78       249\n",
      "\n"
     ]
    }
   ],
   "source": [
    "print(classification_report(y_test, tahmin))"
   ]
  },
  {
   "cell_type": "code",
   "execution_count": null,
   "id": "924006d4-fa8b-4f03-998e-838f0845134d",
   "metadata": {},
   "outputs": [],
   "source": []
  }
 ],
 "metadata": {
  "kernelspec": {
   "display_name": "Python 3 (ipykernel)",
   "language": "python",
   "name": "python3"
  },
  "language_info": {
   "codemirror_mode": {
    "name": "ipython",
    "version": 3
   },
   "file_extension": ".py",
   "mimetype": "text/x-python",
   "name": "python",
   "nbconvert_exporter": "python",
   "pygments_lexer": "ipython3",
   "version": "3.11.5"
  }
 },
 "nbformat": 4,
 "nbformat_minor": 5
}
