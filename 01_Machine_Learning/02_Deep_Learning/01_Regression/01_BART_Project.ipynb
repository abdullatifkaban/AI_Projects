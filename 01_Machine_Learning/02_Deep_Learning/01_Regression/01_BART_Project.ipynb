{
 "cells": [
  {
   "cell_type": "markdown",
   "metadata": {},
   "source": [
    "# Bay Area Rapid Transit (BART) Project\n",
    "\n",
    "![Bart System](https://www.bart.gov/sites/default/files/2025-01/BART-system-map-everyday-until-9pm.png)\n",
    "\n",
    "Bu projede BART Hattına ait `2022-2023` yılı transfer verilerine dayanarak aşağıdaki sorulara yanıt aranacaktır:\n",
    "\n",
    "* Veri Analitiği Soruları\n",
    "\t1. En yoğun BART istasyonu hangisidir?\n",
    "\t2. En az popüler olan BART rotası hangisidir?\n",
    "\t3. Bir koltuk bulmak istiyorsanız Berkeley'den SF'ye gitmek için en iyi zaman ne zamandır?\n",
    "\t4. Haftanın en yoğun günü hangisidir?\n",
    "\t5. Kaç kişi gece geç saatlerde BART'a biniyor?\n",
    "* Veri Bilimi Soruları\n",
    "\t1. Soru A: Her istasyon arasındaki düz çizgi mesafesini hesaplayın\n",
    "\t2. Soru B: Bart'ın herhangi 2 istasyon arasında işe gidip gelen kişi sayısını tahmin edebilecek bir model oluşturun:\n",
    "\t\t- Buna nasıl yaklaşırsınız?\n",
    "\t\t- Hangi ek verilere ihtiyacınız olacak?\n",
    "\t\t- Şehir veya Bart yetkililerinin verilerinizi nasıl kullanmasını istersiniz?\n",
    "\n",
    "Bu projede kullanılan verilere [buradan](https://www.kaggle.com/datasets/mrgeislinger/bart-ridership) erişilebilir."
   ]
  },
  {
   "cell_type": "markdown",
   "metadata": {},
   "source": [
    "### Veri Önişleme"
   ]
  },
  {
   "cell_type": "code",
   "execution_count": 1,
   "metadata": {},
   "outputs": [],
   "source": [
    "import pandas as pd\n",
    "pd.set_option(\"display.max_columns\",100)\n",
    "\n",
    "import warnings\n",
    "warnings.simplefilter('ignore')\n",
    "\n",
    "import matplotlib.pyplot as plt\n",
    "%matplotlib inline\n",
    "\n",
    "import seaborn as sns\n",
    "import numpy as np"
   ]
  },
  {
   "cell_type": "code",
   "execution_count": 2,
   "metadata": {},
   "outputs": [],
   "source": [
    "# Ödevde 2016 ve 2017 isteniyor ama ben son iki yılı almayı tercih ettim\n",
    "df22=pd.read_csv(\"date-hour-soo-dest-2022.csv\")\n",
    "df23=pd.read_csv(\"date-hour-soo-dest-2023.csv\")"
   ]
  },
  {
   "cell_type": "code",
   "execution_count": 3,
   "metadata": {},
   "outputs": [
    {
     "data": {
      "text/plain": [
       "((8245370, 5), (2815982, 5))"
      ]
     },
     "execution_count": 3,
     "metadata": {},
     "output_type": "execute_result"
    }
   ],
   "source": [
    "df22.shape, df23.shape, "
   ]
  },
  {
   "cell_type": "code",
   "execution_count": 4,
   "metadata": {},
   "outputs": [],
   "source": [
    "df=pd.concat([df22, df23])"
   ]
  },
  {
   "cell_type": "code",
   "execution_count": 5,
   "metadata": {},
   "outputs": [
    {
     "data": {
      "text/plain": [
       "(11061352, 5)"
      ]
     },
     "execution_count": 5,
     "metadata": {},
     "output_type": "execute_result"
    }
   ],
   "source": [
    "df.shape"
   ]
  },
  {
   "cell_type": "code",
   "execution_count": 6,
   "metadata": {},
   "outputs": [
    {
     "name": "stdout",
     "output_type": "stream",
     "text": [
      "<class 'pandas.core.frame.DataFrame'>\n",
      "Index: 11061352 entries, 0 to 2815981\n",
      "Data columns (total 5 columns):\n",
      " #   Column               Dtype \n",
      "---  ------               ----- \n",
      " 0   Date                 object\n",
      " 1   Hour                 int64 \n",
      " 2   Origin Station       object\n",
      " 3   Destination Station  object\n",
      " 4   Trip Count           int64 \n",
      "dtypes: int64(2), object(3)\n",
      "memory usage: 506.3+ MB\n"
     ]
    }
   ],
   "source": [
    "df.info()"
   ]
  },
  {
   "cell_type": "code",
   "execution_count": 7,
   "metadata": {},
   "outputs": [
    {
     "data": {
      "text/plain": [
       "Date                   0\n",
       "Hour                   0\n",
       "Origin Station         0\n",
       "Destination Station    0\n",
       "Trip Count             0\n",
       "dtype: int64"
      ]
     },
     "execution_count": 7,
     "metadata": {},
     "output_type": "execute_result"
    }
   ],
   "source": [
    "df.isnull().sum()"
   ]
  },
  {
   "cell_type": "code",
   "execution_count": 8,
   "metadata": {},
   "outputs": [
    {
     "data": {
      "text/html": [
       "<div>\n",
       "<style scoped>\n",
       "    .dataframe tbody tr th:only-of-type {\n",
       "        vertical-align: middle;\n",
       "    }\n",
       "\n",
       "    .dataframe tbody tr th {\n",
       "        vertical-align: top;\n",
       "    }\n",
       "\n",
       "    .dataframe thead th {\n",
       "        text-align: right;\n",
       "    }\n",
       "</style>\n",
       "<table border=\"1\" class=\"dataframe\">\n",
       "  <thead>\n",
       "    <tr style=\"text-align: right;\">\n",
       "      <th></th>\n",
       "      <th>Date</th>\n",
       "      <th>Hour</th>\n",
       "      <th>Origin Station</th>\n",
       "      <th>Destination Station</th>\n",
       "      <th>Trip Count</th>\n",
       "    </tr>\n",
       "  </thead>\n",
       "  <tbody>\n",
       "    <tr>\n",
       "      <th>0</th>\n",
       "      <td>2022-01-01</td>\n",
       "      <td>0</td>\n",
       "      <td>12TH</td>\n",
       "      <td>12TH</td>\n",
       "      <td>1</td>\n",
       "    </tr>\n",
       "    <tr>\n",
       "      <th>1</th>\n",
       "      <td>2022-01-01</td>\n",
       "      <td>0</td>\n",
       "      <td>12TH</td>\n",
       "      <td>16TH</td>\n",
       "      <td>1</td>\n",
       "    </tr>\n",
       "    <tr>\n",
       "      <th>2</th>\n",
       "      <td>2022-01-01</td>\n",
       "      <td>0</td>\n",
       "      <td>12TH</td>\n",
       "      <td>24TH</td>\n",
       "      <td>2</td>\n",
       "    </tr>\n",
       "    <tr>\n",
       "      <th>3</th>\n",
       "      <td>2022-01-01</td>\n",
       "      <td>0</td>\n",
       "      <td>12TH</td>\n",
       "      <td>ASHB</td>\n",
       "      <td>1</td>\n",
       "    </tr>\n",
       "    <tr>\n",
       "      <th>4</th>\n",
       "      <td>2022-01-01</td>\n",
       "      <td>0</td>\n",
       "      <td>12TH</td>\n",
       "      <td>MONT</td>\n",
       "      <td>1</td>\n",
       "    </tr>\n",
       "  </tbody>\n",
       "</table>\n",
       "</div>"
      ],
      "text/plain": [
       "         Date  Hour Origin Station Destination Station  Trip Count\n",
       "0  2022-01-01     0           12TH                12TH           1\n",
       "1  2022-01-01     0           12TH                16TH           1\n",
       "2  2022-01-01     0           12TH                24TH           2\n",
       "3  2022-01-01     0           12TH                ASHB           1\n",
       "4  2022-01-01     0           12TH                MONT           1"
      ]
     },
     "execution_count": 8,
     "metadata": {},
     "output_type": "execute_result"
    }
   ],
   "source": [
    "df.head()"
   ]
  },
  {
   "cell_type": "code",
   "execution_count": 9,
   "metadata": {},
   "outputs": [
    {
     "data": {
      "text/html": [
       "<div>\n",
       "<style scoped>\n",
       "    .dataframe tbody tr th:only-of-type {\n",
       "        vertical-align: middle;\n",
       "    }\n",
       "\n",
       "    .dataframe tbody tr th {\n",
       "        vertical-align: top;\n",
       "    }\n",
       "\n",
       "    .dataframe thead th {\n",
       "        text-align: right;\n",
       "    }\n",
       "</style>\n",
       "<table border=\"1\" class=\"dataframe\">\n",
       "  <thead>\n",
       "    <tr style=\"text-align: right;\">\n",
       "      <th></th>\n",
       "      <th>Date</th>\n",
       "      <th>Hour</th>\n",
       "      <th>Origin Station</th>\n",
       "      <th>Destination Station</th>\n",
       "      <th>Trip Count</th>\n",
       "    </tr>\n",
       "  </thead>\n",
       "  <tbody>\n",
       "    <tr>\n",
       "      <th>3723516</th>\n",
       "      <td>2022-06-20</td>\n",
       "      <td>14</td>\n",
       "      <td>POWL</td>\n",
       "      <td>DALY</td>\n",
       "      <td>493</td>\n",
       "    </tr>\n",
       "    <tr>\n",
       "      <th>4810178</th>\n",
       "      <td>2022-08-06</td>\n",
       "      <td>20</td>\n",
       "      <td>COLS</td>\n",
       "      <td>DUBL</td>\n",
       "      <td>480</td>\n",
       "    </tr>\n",
       "    <tr>\n",
       "      <th>3719518</th>\n",
       "      <td>2022-06-20</td>\n",
       "      <td>11</td>\n",
       "      <td>MLBR</td>\n",
       "      <td>POWL</td>\n",
       "      <td>453</td>\n",
       "    </tr>\n",
       "    <tr>\n",
       "      <th>3719274</th>\n",
       "      <td>2022-06-20</td>\n",
       "      <td>11</td>\n",
       "      <td>DUBL</td>\n",
       "      <td>MONT</td>\n",
       "      <td>405</td>\n",
       "    </tr>\n",
       "    <tr>\n",
       "      <th>3717978</th>\n",
       "      <td>2022-06-20</td>\n",
       "      <td>10</td>\n",
       "      <td>DALY</td>\n",
       "      <td>POWL</td>\n",
       "      <td>398</td>\n",
       "    </tr>\n",
       "  </tbody>\n",
       "</table>\n",
       "</div>"
      ],
      "text/plain": [
       "               Date  Hour Origin Station Destination Station  Trip Count\n",
       "3723516  2022-06-20    14           POWL                DALY         493\n",
       "4810178  2022-08-06    20           COLS                DUBL         480\n",
       "3719518  2022-06-20    11           MLBR                POWL         453\n",
       "3719274  2022-06-20    11           DUBL                MONT         405\n",
       "3717978  2022-06-20    10           DALY                POWL         398"
      ]
     },
     "execution_count": 9,
     "metadata": {},
     "output_type": "execute_result"
    }
   ],
   "source": [
    "df.sort_values(\"Trip Count\", ascending=False).head()"
   ]
  },
  {
   "cell_type": "code",
   "execution_count": 10,
   "metadata": {},
   "outputs": [
    {
     "data": {
      "text/plain": [
       "array(['12TH', '16TH', '19TH', '24TH', 'ANTC', 'ASHB', 'BALB', 'BAYF',\n",
       "       'CAST', 'CIVC', 'COLM', 'COLS', 'DALY', 'DBRK', 'DELN', 'DUBL',\n",
       "       'EMBR', 'FRMT', 'FTVL', 'GLEN', 'HAYW', 'LAFY', 'LAKE', 'MCAR',\n",
       "       'MLBR', 'MLPT', 'MONT', 'NBRK', 'OAKL', 'ORIN', 'PCTR', 'PHIL',\n",
       "       'PITT', 'PLZA', 'POWL', 'RICH', 'ROCK', 'SANL', 'SBRN', 'SFIA',\n",
       "       'SSAN', 'UCTY', 'WARM', 'WCRK', 'WOAK', 'BERY', 'CONC', 'NCON',\n",
       "       'SHAY', 'WDUB'], dtype=object)"
      ]
     },
     "execution_count": 10,
     "metadata": {},
     "output_type": "execute_result"
    }
   ],
   "source": [
    "df[\"Origin Station\"].unique()"
   ]
  },
  {
   "cell_type": "code",
   "execution_count": 11,
   "metadata": {},
   "outputs": [],
   "source": [
    "# Kalkış ve varış olarak aynı istasyon olan kayıtlar var. Bunları çıkaralım.\n",
    "df=df[df['Origin Station'] != df['Destination Station']]"
   ]
  },
  {
   "cell_type": "code",
   "execution_count": 12,
   "metadata": {},
   "outputs": [],
   "source": [
    "# İstasyon konumlarına bakalım\n",
    "dfs=pd.read_csv(\"bart_stations.csv\")"
   ]
  },
  {
   "cell_type": "code",
   "execution_count": 13,
   "metadata": {},
   "outputs": [
    {
     "data": {
      "text/html": [
       "<div>\n",
       "<style scoped>\n",
       "    .dataframe tbody tr th:only-of-type {\n",
       "        vertical-align: middle;\n",
       "    }\n",
       "\n",
       "    .dataframe tbody tr th {\n",
       "        vertical-align: top;\n",
       "    }\n",
       "\n",
       "    .dataframe thead th {\n",
       "        text-align: right;\n",
       "    }\n",
       "</style>\n",
       "<table border=\"1\" class=\"dataframe\">\n",
       "  <thead>\n",
       "    <tr style=\"text-align: right;\">\n",
       "      <th></th>\n",
       "      <th>name</th>\n",
       "      <th>id</th>\n",
       "      <th>abbr</th>\n",
       "      <th>gtfs_latitude</th>\n",
       "      <th>gtfs_longitude</th>\n",
       "      <th>address</th>\n",
       "      <th>city</th>\n",
       "      <th>county</th>\n",
       "      <th>state</th>\n",
       "      <th>zipcode</th>\n",
       "    </tr>\n",
       "  </thead>\n",
       "  <tbody>\n",
       "    <tr>\n",
       "      <th>0</th>\n",
       "      <td>12th St. Oakland City Center</td>\n",
       "      <td>12</td>\n",
       "      <td>12TH</td>\n",
       "      <td>37.803664</td>\n",
       "      <td>-122.271604</td>\n",
       "      <td>1245 Broadway</td>\n",
       "      <td>Oakland</td>\n",
       "      <td>alameda</td>\n",
       "      <td>CA</td>\n",
       "      <td>94612</td>\n",
       "    </tr>\n",
       "    <tr>\n",
       "      <th>1</th>\n",
       "      <td>16th St. Mission</td>\n",
       "      <td>16</td>\n",
       "      <td>16TH</td>\n",
       "      <td>37.765062</td>\n",
       "      <td>-122.419694</td>\n",
       "      <td>2000 Mission Street</td>\n",
       "      <td>San Francisco</td>\n",
       "      <td>sanfrancisco</td>\n",
       "      <td>CA</td>\n",
       "      <td>94110</td>\n",
       "    </tr>\n",
       "    <tr>\n",
       "      <th>2</th>\n",
       "      <td>19th St. Oakland</td>\n",
       "      <td>19</td>\n",
       "      <td>19TH</td>\n",
       "      <td>37.807870</td>\n",
       "      <td>-122.269029</td>\n",
       "      <td>1900 Broadway</td>\n",
       "      <td>Oakland</td>\n",
       "      <td>alameda</td>\n",
       "      <td>CA</td>\n",
       "      <td>94612</td>\n",
       "    </tr>\n",
       "    <tr>\n",
       "      <th>3</th>\n",
       "      <td>24th St. Mission</td>\n",
       "      <td>24</td>\n",
       "      <td>24TH</td>\n",
       "      <td>37.752254</td>\n",
       "      <td>-122.418466</td>\n",
       "      <td>2800 Mission Street</td>\n",
       "      <td>San Francisco</td>\n",
       "      <td>sanfrancisco</td>\n",
       "      <td>CA</td>\n",
       "      <td>94110</td>\n",
       "    </tr>\n",
       "    <tr>\n",
       "      <th>4</th>\n",
       "      <td>Ashby</td>\n",
       "      <td>AS</td>\n",
       "      <td>ASHB</td>\n",
       "      <td>37.853024</td>\n",
       "      <td>-122.269780</td>\n",
       "      <td>3100 Adeline Street</td>\n",
       "      <td>Berkeley</td>\n",
       "      <td>alameda</td>\n",
       "      <td>CA</td>\n",
       "      <td>94703</td>\n",
       "    </tr>\n",
       "  </tbody>\n",
       "</table>\n",
       "</div>"
      ],
      "text/plain": [
       "                           name  id  abbr  gtfs_latitude  gtfs_longitude  \\\n",
       "0  12th St. Oakland City Center  12  12TH      37.803664     -122.271604   \n",
       "1              16th St. Mission  16  16TH      37.765062     -122.419694   \n",
       "2              19th St. Oakland  19  19TH      37.807870     -122.269029   \n",
       "3              24th St. Mission  24  24TH      37.752254     -122.418466   \n",
       "4                         Ashby  AS  ASHB      37.853024     -122.269780   \n",
       "\n",
       "               address           city        county state  zipcode  \n",
       "0        1245 Broadway        Oakland       alameda    CA    94612  \n",
       "1  2000 Mission Street  San Francisco  sanfrancisco    CA    94110  \n",
       "2        1900 Broadway        Oakland       alameda    CA    94612  \n",
       "3  2800 Mission Street  San Francisco  sanfrancisco    CA    94110  \n",
       "4  3100 Adeline Street       Berkeley       alameda    CA    94703  "
      ]
     },
     "execution_count": 13,
     "metadata": {},
     "output_type": "execute_result"
    }
   ],
   "source": [
    "dfs.head()"
   ]
  },
  {
   "cell_type": "code",
   "execution_count": 14,
   "metadata": {},
   "outputs": [],
   "source": [
    "# İstasyon bilgilerini eklemek için sütunları oluşturma\n",
    "new_columns = ['Origin Name', 'Origin Latitude', 'Origin Longitude', 'Destination Name', 'Destination Latitude', 'Destination Longitude']\n",
    "\n",
    "# Kalkış istasyonu için sütunları ekleme\n",
    "df = df.merge(dfs[['abbr', 'name', 'gtfs_latitude', 'gtfs_longitude']], left_on='Origin Station', right_on='abbr', how='left')\n",
    "df = df.rename(columns={'name': 'Origin Name', 'gtfs_latitude': 'Origin Latitude', 'gtfs_longitude': 'Origin Longitude'})\n",
    "\n",
    "# Varış istasyonu için sütunları ekleme\n",
    "df = df.merge(dfs[['abbr', 'name', 'gtfs_latitude', 'gtfs_longitude']], left_on='Destination Station', right_on='abbr', how='left')\n",
    "df = df.rename(columns={'name': 'Destination Name', 'gtfs_latitude': 'Destination Latitude', 'gtfs_longitude': 'Destination Longitude'})\n",
    "\n",
    "# Gereksiz sütunları ve birleştirme için kullanılan abbr sütunlarını kaldırma\n",
    "df = df.drop(columns=['abbr_x', 'abbr_y'])"
   ]
  },
  {
   "cell_type": "code",
   "execution_count": 15,
   "metadata": {},
   "outputs": [
    {
     "data": {
      "text/html": [
       "<div>\n",
       "<style scoped>\n",
       "    .dataframe tbody tr th:only-of-type {\n",
       "        vertical-align: middle;\n",
       "    }\n",
       "\n",
       "    .dataframe tbody tr th {\n",
       "        vertical-align: top;\n",
       "    }\n",
       "\n",
       "    .dataframe thead th {\n",
       "        text-align: right;\n",
       "    }\n",
       "</style>\n",
       "<table border=\"1\" class=\"dataframe\">\n",
       "  <thead>\n",
       "    <tr style=\"text-align: right;\">\n",
       "      <th></th>\n",
       "      <th>Date</th>\n",
       "      <th>Hour</th>\n",
       "      <th>Origin Station</th>\n",
       "      <th>Destination Station</th>\n",
       "      <th>Trip Count</th>\n",
       "      <th>Origin Name</th>\n",
       "      <th>Origin Latitude</th>\n",
       "      <th>Origin Longitude</th>\n",
       "      <th>Destination Name</th>\n",
       "      <th>Destination Latitude</th>\n",
       "      <th>Destination Longitude</th>\n",
       "    </tr>\n",
       "  </thead>\n",
       "  <tbody>\n",
       "    <tr>\n",
       "      <th>0</th>\n",
       "      <td>2022-01-01</td>\n",
       "      <td>0</td>\n",
       "      <td>12TH</td>\n",
       "      <td>16TH</td>\n",
       "      <td>1</td>\n",
       "      <td>12th St. Oakland City Center</td>\n",
       "      <td>37.803664</td>\n",
       "      <td>-122.271604</td>\n",
       "      <td>16th St. Mission</td>\n",
       "      <td>37.765062</td>\n",
       "      <td>-122.419694</td>\n",
       "    </tr>\n",
       "    <tr>\n",
       "      <th>1</th>\n",
       "      <td>2022-01-01</td>\n",
       "      <td>0</td>\n",
       "      <td>12TH</td>\n",
       "      <td>24TH</td>\n",
       "      <td>2</td>\n",
       "      <td>12th St. Oakland City Center</td>\n",
       "      <td>37.803664</td>\n",
       "      <td>-122.271604</td>\n",
       "      <td>24th St. Mission</td>\n",
       "      <td>37.752254</td>\n",
       "      <td>-122.418466</td>\n",
       "    </tr>\n",
       "    <tr>\n",
       "      <th>2</th>\n",
       "      <td>2022-01-01</td>\n",
       "      <td>0</td>\n",
       "      <td>12TH</td>\n",
       "      <td>ASHB</td>\n",
       "      <td>1</td>\n",
       "      <td>12th St. Oakland City Center</td>\n",
       "      <td>37.803664</td>\n",
       "      <td>-122.271604</td>\n",
       "      <td>Ashby</td>\n",
       "      <td>37.853024</td>\n",
       "      <td>-122.269780</td>\n",
       "    </tr>\n",
       "    <tr>\n",
       "      <th>3</th>\n",
       "      <td>2022-01-01</td>\n",
       "      <td>0</td>\n",
       "      <td>12TH</td>\n",
       "      <td>MONT</td>\n",
       "      <td>1</td>\n",
       "      <td>12th St. Oakland City Center</td>\n",
       "      <td>37.803664</td>\n",
       "      <td>-122.271604</td>\n",
       "      <td>Montgomery St.</td>\n",
       "      <td>37.789256</td>\n",
       "      <td>-122.401407</td>\n",
       "    </tr>\n",
       "    <tr>\n",
       "      <th>4</th>\n",
       "      <td>2022-01-01</td>\n",
       "      <td>0</td>\n",
       "      <td>12TH</td>\n",
       "      <td>POWL</td>\n",
       "      <td>2</td>\n",
       "      <td>12th St. Oakland City Center</td>\n",
       "      <td>37.803664</td>\n",
       "      <td>-122.271604</td>\n",
       "      <td>Powell St.</td>\n",
       "      <td>37.784991</td>\n",
       "      <td>-122.406857</td>\n",
       "    </tr>\n",
       "  </tbody>\n",
       "</table>\n",
       "</div>"
      ],
      "text/plain": [
       "         Date  Hour Origin Station Destination Station  Trip Count  \\\n",
       "0  2022-01-01     0           12TH                16TH           1   \n",
       "1  2022-01-01     0           12TH                24TH           2   \n",
       "2  2022-01-01     0           12TH                ASHB           1   \n",
       "3  2022-01-01     0           12TH                MONT           1   \n",
       "4  2022-01-01     0           12TH                POWL           2   \n",
       "\n",
       "                    Origin Name  Origin Latitude  Origin Longitude  \\\n",
       "0  12th St. Oakland City Center        37.803664       -122.271604   \n",
       "1  12th St. Oakland City Center        37.803664       -122.271604   \n",
       "2  12th St. Oakland City Center        37.803664       -122.271604   \n",
       "3  12th St. Oakland City Center        37.803664       -122.271604   \n",
       "4  12th St. Oakland City Center        37.803664       -122.271604   \n",
       "\n",
       "   Destination Name  Destination Latitude  Destination Longitude  \n",
       "0  16th St. Mission             37.765062            -122.419694  \n",
       "1  24th St. Mission             37.752254            -122.418466  \n",
       "2             Ashby             37.853024            -122.269780  \n",
       "3    Montgomery St.             37.789256            -122.401407  \n",
       "4        Powell St.             37.784991            -122.406857  "
      ]
     },
     "execution_count": 15,
     "metadata": {},
     "output_type": "execute_result"
    }
   ],
   "source": [
    "df.head()"
   ]
  },
  {
   "cell_type": "markdown",
   "metadata": {},
   "source": [
    "## Veri Analitiği Soruları"
   ]
  },
  {
   "cell_type": "markdown",
   "metadata": {},
   "source": [
    "#### <font color=red>En yoğun BART istasyonu hangisidir?</font>"
   ]
  },
  {
   "cell_type": "code",
   "execution_count": 16,
   "metadata": {},
   "outputs": [
    {
     "data": {
      "text/html": [
       "<div>\n",
       "<style scoped>\n",
       "    .dataframe tbody tr th:only-of-type {\n",
       "        vertical-align: middle;\n",
       "    }\n",
       "\n",
       "    .dataframe tbody tr th {\n",
       "        vertical-align: top;\n",
       "    }\n",
       "\n",
       "    .dataframe thead tr th {\n",
       "        text-align: left;\n",
       "    }\n",
       "\n",
       "    .dataframe thead tr:last-of-type th {\n",
       "        text-align: right;\n",
       "    }\n",
       "</style>\n",
       "<table border=\"1\" class=\"dataframe\">\n",
       "  <thead>\n",
       "    <tr>\n",
       "      <th></th>\n",
       "      <th colspan=\"3\" halign=\"left\">Trip Count</th>\n",
       "    </tr>\n",
       "    <tr>\n",
       "      <th></th>\n",
       "      <th>size</th>\n",
       "      <th>sum</th>\n",
       "      <th>mean</th>\n",
       "    </tr>\n",
       "    <tr>\n",
       "      <th>Origin Name</th>\n",
       "      <th></th>\n",
       "      <th></th>\n",
       "      <th></th>\n",
       "    </tr>\n",
       "  </thead>\n",
       "  <tbody>\n",
       "    <tr>\n",
       "      <th>Embarcadero</th>\n",
       "      <td>386194</td>\n",
       "      <td>4647233</td>\n",
       "      <td>12.033416</td>\n",
       "    </tr>\n",
       "    <tr>\n",
       "      <th>Powell St.</th>\n",
       "      <td>407825</td>\n",
       "      <td>4808515</td>\n",
       "      <td>11.790633</td>\n",
       "    </tr>\n",
       "    <tr>\n",
       "      <th>Montgomery St.</th>\n",
       "      <td>367212</td>\n",
       "      <td>3729558</td>\n",
       "      <td>10.156416</td>\n",
       "    </tr>\n",
       "    <tr>\n",
       "      <th>Civic Center/UN Plaza</th>\n",
       "      <td>381057</td>\n",
       "      <td>3294533</td>\n",
       "      <td>8.645775</td>\n",
       "    </tr>\n",
       "    <tr>\n",
       "      <th>24th St. Mission</th>\n",
       "      <td>306540</td>\n",
       "      <td>1971200</td>\n",
       "      <td>6.430482</td>\n",
       "    </tr>\n",
       "  </tbody>\n",
       "</table>\n",
       "</div>"
      ],
      "text/plain": [
       "                      Trip Count                    \n",
       "                            size      sum       mean\n",
       "Origin Name                                         \n",
       "Embarcadero               386194  4647233  12.033416\n",
       "Powell St.                407825  4808515  11.790633\n",
       "Montgomery St.            367212  3729558  10.156416\n",
       "Civic Center/UN Plaza     381057  3294533   8.645775\n",
       "24th St. Mission          306540  1971200   6.430482"
      ]
     },
     "execution_count": 16,
     "metadata": {},
     "output_type": "execute_result"
    }
   ],
   "source": [
    "dfO=df.groupby(\"Origin Name\").agg({\"Trip Count\": [np.size, np.sum, np.mean]})\n",
    "dfO.sort_values((\"Trip Count\", \"mean\"), ascending=False).head()"
   ]
  },
  {
   "cell_type": "code",
   "execution_count": 17,
   "metadata": {},
   "outputs": [
    {
     "data": {
      "text/html": [
       "<div>\n",
       "<style scoped>\n",
       "    .dataframe tbody tr th:only-of-type {\n",
       "        vertical-align: middle;\n",
       "    }\n",
       "\n",
       "    .dataframe tbody tr th {\n",
       "        vertical-align: top;\n",
       "    }\n",
       "\n",
       "    .dataframe thead tr th {\n",
       "        text-align: left;\n",
       "    }\n",
       "\n",
       "    .dataframe thead tr:last-of-type th {\n",
       "        text-align: right;\n",
       "    }\n",
       "</style>\n",
       "<table border=\"1\" class=\"dataframe\">\n",
       "  <thead>\n",
       "    <tr>\n",
       "      <th></th>\n",
       "      <th colspan=\"3\" halign=\"left\">Trip Count</th>\n",
       "    </tr>\n",
       "    <tr>\n",
       "      <th></th>\n",
       "      <th>size</th>\n",
       "      <th>sum</th>\n",
       "      <th>mean</th>\n",
       "    </tr>\n",
       "    <tr>\n",
       "      <th>Destination Name</th>\n",
       "      <th></th>\n",
       "      <th></th>\n",
       "      <th></th>\n",
       "    </tr>\n",
       "  </thead>\n",
       "  <tbody>\n",
       "    <tr>\n",
       "      <th>Embarcadero</th>\n",
       "      <td>373402</td>\n",
       "      <td>5296972</td>\n",
       "      <td>14.185709</td>\n",
       "    </tr>\n",
       "    <tr>\n",
       "      <th>Montgomery St.</th>\n",
       "      <td>364168</td>\n",
       "      <td>4391440</td>\n",
       "      <td>12.058830</td>\n",
       "    </tr>\n",
       "    <tr>\n",
       "      <th>Powell St.</th>\n",
       "      <td>387779</td>\n",
       "      <td>4231016</td>\n",
       "      <td>10.910895</td>\n",
       "    </tr>\n",
       "    <tr>\n",
       "      <th>Civic Center/UN Plaza</th>\n",
       "      <td>367637</td>\n",
       "      <td>3077734</td>\n",
       "      <td>8.371666</td>\n",
       "    </tr>\n",
       "    <tr>\n",
       "      <th>24th St. Mission</th>\n",
       "      <td>302194</td>\n",
       "      <td>1973770</td>\n",
       "      <td>6.531467</td>\n",
       "    </tr>\n",
       "  </tbody>\n",
       "</table>\n",
       "</div>"
      ],
      "text/plain": [
       "                      Trip Count                    \n",
       "                            size      sum       mean\n",
       "Destination Name                                    \n",
       "Embarcadero               373402  5296972  14.185709\n",
       "Montgomery St.            364168  4391440  12.058830\n",
       "Powell St.                387779  4231016  10.910895\n",
       "Civic Center/UN Plaza     367637  3077734   8.371666\n",
       "24th St. Mission          302194  1973770   6.531467"
      ]
     },
     "execution_count": 17,
     "metadata": {},
     "output_type": "execute_result"
    }
   ],
   "source": [
    "dfD=df.groupby(\"Destination Name\").agg({\"Trip Count\": [np.size, np.sum, np.mean]})\n",
    "dfD.sort_values((\"Trip Count\", \"mean\"), ascending=False).head()"
   ]
  },
  {
   "cell_type": "code",
   "execution_count": 18,
   "metadata": {},
   "outputs": [
    {
     "name": "stdout",
     "output_type": "stream",
     "text": [
      "Embarcadero İstasyonu Başlangıç noktası olarak  12.0 Ortalama yolcu sayısı ile en kalabalık istasyondur\n",
      "Embarcadero İstasyonu Hedef noktası olarak  14.2 Ortalama yolcu sayısı ile en kalabalık istasyondur\n"
     ]
    }
   ],
   "source": [
    "print(dfO.sort_values((\"Trip Count\", \"mean\"), ascending=False)[:1].index[0], \"İstasyonu Başlangıç noktası olarak \",\n",
    "      round(dfO[\"Trip Count\"][\"mean\"].max(),1), \"Ortalama yolcu sayısı ile en kalabalık istasyondur\")\n",
    "print(dfD.sort_values((\"Trip Count\", \"mean\"), ascending=False)[:1].index[0], \"İstasyonu Hedef noktası olarak \",\n",
    "      round(dfD[\"Trip Count\"][\"mean\"].max(),1), \"Ortalama yolcu sayısı ile en kalabalık istasyondur\")"
   ]
  },
  {
   "cell_type": "markdown",
   "metadata": {},
   "source": [
    "#### <font color=red>En az popüler olan BART rotası nedir?</font>"
   ]
  },
  {
   "cell_type": "code",
   "execution_count": 19,
   "metadata": {},
   "outputs": [],
   "source": [
    "# Rota için kalkış-varış bilgisini içeren yeni bir sütun oluşturalım.\n",
    "df['Route'] = df['Origin Station'] + '-' + df['Destination Station']"
   ]
  },
  {
   "cell_type": "code",
   "execution_count": 20,
   "metadata": {},
   "outputs": [
    {
     "data": {
      "text/html": [
       "<div>\n",
       "<style scoped>\n",
       "    .dataframe tbody tr th:only-of-type {\n",
       "        vertical-align: middle;\n",
       "    }\n",
       "\n",
       "    .dataframe tbody tr th {\n",
       "        vertical-align: top;\n",
       "    }\n",
       "\n",
       "    .dataframe thead tr th {\n",
       "        text-align: left;\n",
       "    }\n",
       "\n",
       "    .dataframe thead tr:last-of-type th {\n",
       "        text-align: right;\n",
       "    }\n",
       "</style>\n",
       "<table border=\"1\" class=\"dataframe\">\n",
       "  <thead>\n",
       "    <tr>\n",
       "      <th></th>\n",
       "      <th colspan=\"3\" halign=\"left\">Trip Count</th>\n",
       "    </tr>\n",
       "    <tr>\n",
       "      <th></th>\n",
       "      <th>size</th>\n",
       "      <th>sum</th>\n",
       "      <th>mean</th>\n",
       "    </tr>\n",
       "    <tr>\n",
       "      <th>Route</th>\n",
       "      <th></th>\n",
       "      <th></th>\n",
       "      <th></th>\n",
       "    </tr>\n",
       "  </thead>\n",
       "  <tbody>\n",
       "    <tr>\n",
       "      <th>PCTR-WDUB</th>\n",
       "      <td>186</td>\n",
       "      <td>188</td>\n",
       "      <td>1.010753</td>\n",
       "    </tr>\n",
       "    <tr>\n",
       "      <th>WDUB-PCTR</th>\n",
       "      <td>210</td>\n",
       "      <td>214</td>\n",
       "      <td>1.019048</td>\n",
       "    </tr>\n",
       "    <tr>\n",
       "      <th>WARM-NCON</th>\n",
       "      <td>353</td>\n",
       "      <td>360</td>\n",
       "      <td>1.019830</td>\n",
       "    </tr>\n",
       "    <tr>\n",
       "      <th>WDUB-NCON</th>\n",
       "      <td>80</td>\n",
       "      <td>82</td>\n",
       "      <td>1.025000</td>\n",
       "    </tr>\n",
       "    <tr>\n",
       "      <th>WDUB-LAFY</th>\n",
       "      <td>154</td>\n",
       "      <td>158</td>\n",
       "      <td>1.025974</td>\n",
       "    </tr>\n",
       "  </tbody>\n",
       "</table>\n",
       "</div>"
      ],
      "text/plain": [
       "          Trip Count               \n",
       "                size  sum      mean\n",
       "Route                              \n",
       "PCTR-WDUB        186  188  1.010753\n",
       "WDUB-PCTR        210  214  1.019048\n",
       "WARM-NCON        353  360  1.019830\n",
       "WDUB-NCON         80   82  1.025000\n",
       "WDUB-LAFY        154  158  1.025974"
      ]
     },
     "execution_count": 20,
     "metadata": {},
     "output_type": "execute_result"
    }
   ],
   "source": [
    "dfR=df.groupby(\"Route\").agg({\"Trip Count\": [np.size, np.sum, np.mean]})\n",
    "dfR.sort_values((\"Trip Count\", \"mean\")).head()"
   ]
  },
  {
   "cell_type": "code",
   "execution_count": 21,
   "metadata": {},
   "outputs": [
    {
     "name": "stdout",
     "output_type": "stream",
     "text": [
      "PCTR-WDUB Rotası  35.9 Ortalama yolcu sayısı ile en az tercih edilen rotadır\n"
     ]
    }
   ],
   "source": [
    "print(dfR.sort_values((\"Trip Count\", \"mean\"))[:1].index[0], \"Rotası \",\n",
    "      round(dfR[\"Trip Count\"][\"mean\"].max(),1), \"Ortalama yolcu sayısı ile en az tercih edilen rotadır\")"
   ]
  },
  {
   "cell_type": "markdown",
   "metadata": {},
   "source": [
    "#### <font color=red>Bir koltuk bulmak istiyorsanız Berkeley'den SF'ye gitmek için en iyi zaman ne zamandır?</font>"
   ]
  },
  {
   "cell_type": "code",
   "execution_count": 22,
   "metadata": {},
   "outputs": [
    {
     "data": {
      "text/html": [
       "<div>\n",
       "<style scoped>\n",
       "    .dataframe tbody tr th:only-of-type {\n",
       "        vertical-align: middle;\n",
       "    }\n",
       "\n",
       "    .dataframe tbody tr th {\n",
       "        vertical-align: top;\n",
       "    }\n",
       "\n",
       "    .dataframe thead th {\n",
       "        text-align: right;\n",
       "    }\n",
       "</style>\n",
       "<table border=\"1\" class=\"dataframe\">\n",
       "  <thead>\n",
       "    <tr style=\"text-align: right;\">\n",
       "      <th></th>\n",
       "      <th>Date</th>\n",
       "      <th>Hour</th>\n",
       "      <th>Origin Station</th>\n",
       "      <th>Destination Station</th>\n",
       "      <th>Trip Count</th>\n",
       "      <th>Origin Name</th>\n",
       "      <th>Origin Latitude</th>\n",
       "      <th>Origin Longitude</th>\n",
       "      <th>Destination Name</th>\n",
       "      <th>Destination Latitude</th>\n",
       "      <th>Destination Longitude</th>\n",
       "      <th>Route</th>\n",
       "    </tr>\n",
       "  </thead>\n",
       "  <tbody>\n",
       "    <tr>\n",
       "      <th>598</th>\n",
       "      <td>2022-01-01</td>\n",
       "      <td>2</td>\n",
       "      <td>MONT</td>\n",
       "      <td>DBRK</td>\n",
       "      <td>1</td>\n",
       "      <td>Montgomery St.</td>\n",
       "      <td>37.789256</td>\n",
       "      <td>-122.401407</td>\n",
       "      <td>Downtown Berkeley</td>\n",
       "      <td>37.869867</td>\n",
       "      <td>-122.268045</td>\n",
       "      <td>MONT-DBRK</td>\n",
       "    </tr>\n",
       "    <tr>\n",
       "      <th>800</th>\n",
       "      <td>2022-01-01</td>\n",
       "      <td>6</td>\n",
       "      <td>MONT</td>\n",
       "      <td>DBRK</td>\n",
       "      <td>1</td>\n",
       "      <td>Montgomery St.</td>\n",
       "      <td>37.789256</td>\n",
       "      <td>-122.401407</td>\n",
       "      <td>Downtown Berkeley</td>\n",
       "      <td>37.869867</td>\n",
       "      <td>-122.268045</td>\n",
       "      <td>MONT-DBRK</td>\n",
       "    </tr>\n",
       "    <tr>\n",
       "      <th>2360</th>\n",
       "      <td>2022-01-01</td>\n",
       "      <td>9</td>\n",
       "      <td>MONT</td>\n",
       "      <td>DBRK</td>\n",
       "      <td>1</td>\n",
       "      <td>Montgomery St.</td>\n",
       "      <td>37.789256</td>\n",
       "      <td>-122.401407</td>\n",
       "      <td>Downtown Berkeley</td>\n",
       "      <td>37.869867</td>\n",
       "      <td>-122.268045</td>\n",
       "      <td>MONT-DBRK</td>\n",
       "    </tr>\n",
       "    <tr>\n",
       "      <th>3122</th>\n",
       "      <td>2022-01-01</td>\n",
       "      <td>10</td>\n",
       "      <td>MONT</td>\n",
       "      <td>DBRK</td>\n",
       "      <td>1</td>\n",
       "      <td>Montgomery St.</td>\n",
       "      <td>37.789256</td>\n",
       "      <td>-122.401407</td>\n",
       "      <td>Downtown Berkeley</td>\n",
       "      <td>37.869867</td>\n",
       "      <td>-122.268045</td>\n",
       "      <td>MONT-DBRK</td>\n",
       "    </tr>\n",
       "    <tr>\n",
       "      <th>3913</th>\n",
       "      <td>2022-01-01</td>\n",
       "      <td>11</td>\n",
       "      <td>MONT</td>\n",
       "      <td>DBRK</td>\n",
       "      <td>2</td>\n",
       "      <td>Montgomery St.</td>\n",
       "      <td>37.789256</td>\n",
       "      <td>-122.401407</td>\n",
       "      <td>Downtown Berkeley</td>\n",
       "      <td>37.869867</td>\n",
       "      <td>-122.268045</td>\n",
       "      <td>MONT-DBRK</td>\n",
       "    </tr>\n",
       "  </tbody>\n",
       "</table>\n",
       "</div>"
      ],
      "text/plain": [
       "            Date  Hour Origin Station Destination Station  Trip Count  \\\n",
       "598   2022-01-01     2           MONT                DBRK           1   \n",
       "800   2022-01-01     6           MONT                DBRK           1   \n",
       "2360  2022-01-01     9           MONT                DBRK           1   \n",
       "3122  2022-01-01    10           MONT                DBRK           1   \n",
       "3913  2022-01-01    11           MONT                DBRK           2   \n",
       "\n",
       "         Origin Name  Origin Latitude  Origin Longitude   Destination Name  \\\n",
       "598   Montgomery St.        37.789256       -122.401407  Downtown Berkeley   \n",
       "800   Montgomery St.        37.789256       -122.401407  Downtown Berkeley   \n",
       "2360  Montgomery St.        37.789256       -122.401407  Downtown Berkeley   \n",
       "3122  Montgomery St.        37.789256       -122.401407  Downtown Berkeley   \n",
       "3913  Montgomery St.        37.789256       -122.401407  Downtown Berkeley   \n",
       "\n",
       "      Destination Latitude  Destination Longitude      Route  \n",
       "598              37.869867            -122.268045  MONT-DBRK  \n",
       "800              37.869867            -122.268045  MONT-DBRK  \n",
       "2360             37.869867            -122.268045  MONT-DBRK  \n",
       "3122             37.869867            -122.268045  MONT-DBRK  \n",
       "3913             37.869867            -122.268045  MONT-DBRK  "
      ]
     },
     "execution_count": 22,
     "metadata": {},
     "output_type": "execute_result"
    }
   ],
   "source": [
    "# SF durağı olarak MONT, Berkeley için de DBRK duraklarını seçip sefer var mı bakalım:\n",
    "\n",
    "dfSf_Ber=df[(df[\"Origin Station\"]==\"MONT\")&(df[\"Destination Station\"]==\"DBRK\")]\n",
    "dfSf_Ber.head()"
   ]
  },
  {
   "cell_type": "code",
   "execution_count": 23,
   "metadata": {},
   "outputs": [
    {
     "data": {
      "text/plain": [
       "<Axes: xlabel='Hour', ylabel='Trip Count'>"
      ]
     },
     "execution_count": 23,
     "metadata": {},
     "output_type": "execute_result"
    },
    {
     "data": {
      "image/png": "[encoded data removed]",
      "text/plain": [
       "<Figure size 640x480 with 1 Axes>"
      ]
     },
     "metadata": {},
     "output_type": "display_data"
    }
   ],
   "source": [
    "dfSf_Ber=dfSf_Ber.groupby(\"Hour\").agg({\"Trip Count\": np.mean})\n",
    "sns.barplot(x=dfSf_Ber.index, y=dfSf_Ber[\"Trip Count\"])"
   ]
  },
  {
   "cell_type": "code",
   "execution_count": 24,
   "metadata": {},
   "outputs": [
    {
     "name": "stdout",
     "output_type": "stream",
     "text": [
      "Saat 5 ortalama 1.21 adet yolcu sayısı ile en fazla koltuk bulma imkanı olan saatir\n"
     ]
    }
   ],
   "source": [
    "print(\"Saat\", dfSf_Ber.sort_values(\"Trip Count\")[:1].index[0], \"ortalama\",\n",
    "      np.round(dfSf_Ber[\"Trip Count\"].min(),2), \"adet yolcu sayısı ile en fazla koltuk bulma imkanı olan saatir\")"
   ]
  },
  {
   "cell_type": "markdown",
   "metadata": {},
   "source": [
    "#### <font color=red>Haftanın en yoğun günü hangisidir?</font>"
   ]
  },
  {
   "cell_type": "code",
   "execution_count": 25,
   "metadata": {},
   "outputs": [],
   "source": [
    "import datetime as dt\n",
    "df['Date'] = pd.to_datetime(df['Date'])\n",
    "df['weekday'] = df['Date'].dt.day_name()"
   ]
  },
  {
   "cell_type": "code",
   "execution_count": 26,
   "metadata": {},
   "outputs": [
    {
     "data": {
      "text/plain": [
       "<Axes: xlabel='weekday', ylabel='Trip Count'>"
      ]
     },
     "execution_count": 26,
     "metadata": {},
     "output_type": "execute_result"
    },
    {
     "data": {
      "image/png": "[encoded data removed]",
      "text/plain": [
       "<Figure size 640x480 with 1 Axes>"
      ]
     },
     "metadata": {},
     "output_type": "display_data"
    }
   ],
   "source": [
    "dfw=df.groupby(\"weekday\").agg({\"Trip Count\": np.sum})\n",
    "sns.barplot(x=dfw.index, y=dfw[\"Trip Count\"])"
   ]
  },
  {
   "cell_type": "code",
   "execution_count": 27,
   "metadata": {},
   "outputs": [
    {
     "data": {
      "text/html": [
       "<div>\n",
       "<style scoped>\n",
       "    .dataframe tbody tr th:only-of-type {\n",
       "        vertical-align: middle;\n",
       "    }\n",
       "\n",
       "    .dataframe tbody tr th {\n",
       "        vertical-align: top;\n",
       "    }\n",
       "\n",
       "    .dataframe thead th {\n",
       "        text-align: right;\n",
       "    }\n",
       "</style>\n",
       "<table border=\"1\" class=\"dataframe\">\n",
       "  <thead>\n",
       "    <tr style=\"text-align: right;\">\n",
       "      <th></th>\n",
       "      <th>Trip Count</th>\n",
       "    </tr>\n",
       "    <tr>\n",
       "      <th>weekday</th>\n",
       "      <th></th>\n",
       "    </tr>\n",
       "  </thead>\n",
       "  <tbody>\n",
       "    <tr>\n",
       "      <th>Wednesday</th>\n",
       "      <td>10080816</td>\n",
       "    </tr>\n",
       "  </tbody>\n",
       "</table>\n",
       "</div>"
      ],
      "text/plain": [
       "           Trip Count\n",
       "weekday              \n",
       "Wednesday    10080816"
      ]
     },
     "execution_count": 27,
     "metadata": {},
     "output_type": "execute_result"
    }
   ],
   "source": [
    "dfw.sort_values(\"Trip Count\", ascending=False).head(1)"
   ]
  },
  {
   "cell_type": "code",
   "execution_count": 28,
   "metadata": {},
   "outputs": [
    {
     "name": "stdout",
     "output_type": "stream",
     "text": [
      "Wednesday Günü 10080816 adet yolcu sayısı ile toplamda en fazla yolcu taşınan gündür\n"
     ]
    }
   ],
   "source": [
    "print(dfw.sort_values(\"Trip Count\", ascending=False)[:1].index[0], \"Günü\",\n",
    "      dfw[\"Trip Count\"].max(), \"adet yolcu sayısı ile toplamda en fazla yolcu taşınan gündür\")"
   ]
  },
  {
   "cell_type": "markdown",
   "metadata": {},
   "source": [
    "#### <font color=red>Kaç kişi BART'ı gece geç saatte alıyor?</font>"
   ]
  },
  {
   "cell_type": "code",
   "execution_count": 29,
   "metadata": {},
   "outputs": [
    {
     "data": {
      "text/html": [
       "<div>\n",
       "<style scoped>\n",
       "    .dataframe tbody tr th:only-of-type {\n",
       "        vertical-align: middle;\n",
       "    }\n",
       "\n",
       "    .dataframe tbody tr th {\n",
       "        vertical-align: top;\n",
       "    }\n",
       "\n",
       "    .dataframe thead th {\n",
       "        text-align: right;\n",
       "    }\n",
       "</style>\n",
       "<table border=\"1\" class=\"dataframe\">\n",
       "  <thead>\n",
       "    <tr style=\"text-align: right;\">\n",
       "      <th></th>\n",
       "      <th>Trip Count</th>\n",
       "    </tr>\n",
       "    <tr>\n",
       "      <th>Hour</th>\n",
       "      <th></th>\n",
       "    </tr>\n",
       "  </thead>\n",
       "  <tbody>\n",
       "    <tr>\n",
       "      <th>0</th>\n",
       "      <td>436203</td>\n",
       "    </tr>\n",
       "    <tr>\n",
       "      <th>1</th>\n",
       "      <td>97148</td>\n",
       "    </tr>\n",
       "    <tr>\n",
       "      <th>2</th>\n",
       "      <td>9068</td>\n",
       "    </tr>\n",
       "    <tr>\n",
       "      <th>3</th>\n",
       "      <td>491</td>\n",
       "    </tr>\n",
       "    <tr>\n",
       "      <th>4</th>\n",
       "      <td>3015</td>\n",
       "    </tr>\n",
       "    <tr>\n",
       "      <th>5</th>\n",
       "      <td>579051</td>\n",
       "    </tr>\n",
       "  </tbody>\n",
       "</table>\n",
       "</div>"
      ],
      "text/plain": [
       "      Trip Count\n",
       "Hour            \n",
       "0         436203\n",
       "1          97148\n",
       "2           9068\n",
       "3            491\n",
       "4           3015\n",
       "5         579051"
      ]
     },
     "execution_count": 29,
     "metadata": {},
     "output_type": "execute_result"
    }
   ],
   "source": [
    "dfn=df.groupby(\"Hour\").agg({\"Trip Count\": np.sum})\n",
    "dfn[:6]"
   ]
  },
  {
   "cell_type": "code",
   "execution_count": 30,
   "metadata": {},
   "outputs": [
    {
     "name": "stdout",
     "output_type": "stream",
     "text": [
      "Gece 0.00-5.00 saatlerinde toplam  1124976 adet yolcu seyahat etmiştir\n"
     ]
    }
   ],
   "source": [
    "print(\"Gece 0.00-5.00 saatlerinde toplam \", list(dfn[:6].sum())[0], \"adet yolcu seyahat etmiştir\")"
   ]
  },
  {
   "cell_type": "markdown",
   "metadata": {},
   "source": [
    "## Veri Bilimi Soruları"
   ]
  },
  {
   "cell_type": "markdown",
   "metadata": {},
   "source": [
    "#### <font color=red>Soru A: Her istasyon arasındaki düz çizgi mesafesini hesaplayalım</font>"
   ]
  },
  {
   "cell_type": "code",
   "execution_count": 31,
   "metadata": {},
   "outputs": [],
   "source": [
    "import math\n",
    "\n",
    "# İki istasyon arasındaki doğru çizgi mesafesini hesaplama\n",
    "def compute_distance(row):\n",
    "    lat1 = row['Origin Latitude']\n",
    "    lon1 = row['Origin Longitude']\n",
    "    lat2 = row['Destination Latitude']\n",
    "    lon2 = row['Destination Longitude']\n",
    "\n",
    "    # Haversine formülü kullanarak doğru çizgi mesafesini hesaplama\n",
    "    R = 6371  # Yeryüzünün ortalama yarıçapı (km)\n",
    "    dlat = math.radians(lat2 - lat1)\n",
    "    dlon = math.radians(lon2 - lon1)\n",
    "    a = math.sin(dlat / 2) * math.sin(dlat / 2) + math.cos(math.radians(lat1)) * math.cos(math.radians(lat2)) * math.sin(dlon / 2) * math.sin(dlon / 2)\n",
    "    c = 2 * math.atan2(math.sqrt(a), math.sqrt(1 - a))\n",
    "    distance = R * c\n",
    "\n",
    "    return distance\n",
    "\n",
    "# Yeni bir \"Distance\" sütunu ekleyerek her bir istasyonun diğer istasyonlarla olan doğru çizgi mesafesini hesaplama\n",
    "df['Distance'] = df.apply(compute_distance, axis=1)"
   ]
  },
  {
   "cell_type": "code",
   "execution_count": 32,
   "metadata": {},
   "outputs": [
    {
     "data": {
      "text/html": [
       "<div>\n",
       "<style scoped>\n",
       "    .dataframe tbody tr th:only-of-type {\n",
       "        vertical-align: middle;\n",
       "    }\n",
       "\n",
       "    .dataframe tbody tr th {\n",
       "        vertical-align: top;\n",
       "    }\n",
       "\n",
       "    .dataframe thead th {\n",
       "        text-align: right;\n",
       "    }\n",
       "</style>\n",
       "<table border=\"1\" class=\"dataframe\">\n",
       "  <thead>\n",
       "    <tr style=\"text-align: right;\">\n",
       "      <th></th>\n",
       "      <th>Origin Name</th>\n",
       "      <th>Destination Name</th>\n",
       "      <th>Distance</th>\n",
       "    </tr>\n",
       "  </thead>\n",
       "  <tbody>\n",
       "    <tr>\n",
       "      <th>0</th>\n",
       "      <td>12th St. Oakland City Center</td>\n",
       "      <td>16th St. Mission</td>\n",
       "      <td>13.703707</td>\n",
       "    </tr>\n",
       "    <tr>\n",
       "      <th>1</th>\n",
       "      <td>12th St. Oakland City Center</td>\n",
       "      <td>24th St. Mission</td>\n",
       "      <td>14.116576</td>\n",
       "    </tr>\n",
       "    <tr>\n",
       "      <th>2</th>\n",
       "      <td>12th St. Oakland City Center</td>\n",
       "      <td>Ashby</td>\n",
       "      <td>5.490919</td>\n",
       "    </tr>\n",
       "    <tr>\n",
       "      <th>3</th>\n",
       "      <td>12th St. Oakland City Center</td>\n",
       "      <td>Montgomery St.</td>\n",
       "      <td>11.517171</td>\n",
       "    </tr>\n",
       "    <tr>\n",
       "      <th>4</th>\n",
       "      <td>12th St. Oakland City Center</td>\n",
       "      <td>Powell St.</td>\n",
       "      <td>12.064423</td>\n",
       "    </tr>\n",
       "    <tr>\n",
       "      <th>...</th>\n",
       "      <td>...</td>\n",
       "      <td>...</td>\n",
       "      <td>...</td>\n",
       "    </tr>\n",
       "    <tr>\n",
       "      <th>10782606</th>\n",
       "      <td>West Oakland</td>\n",
       "      <td>El Cerrito Plaza</td>\n",
       "      <td>10.947550</td>\n",
       "    </tr>\n",
       "    <tr>\n",
       "      <th>10782607</th>\n",
       "      <td>West Oakland</td>\n",
       "      <td>Powell St.</td>\n",
       "      <td>10.105173</td>\n",
       "    </tr>\n",
       "    <tr>\n",
       "      <th>10782608</th>\n",
       "      <td>West Oakland</td>\n",
       "      <td>Richmond</td>\n",
       "      <td>15.574707</td>\n",
       "    </tr>\n",
       "    <tr>\n",
       "      <th>10782609</th>\n",
       "      <td>West Oakland</td>\n",
       "      <td>San Leandro</td>\n",
       "      <td>14.849045</td>\n",
       "    </tr>\n",
       "    <tr>\n",
       "      <th>10782610</th>\n",
       "      <td>West Oakland</td>\n",
       "      <td>Walnut Creek</td>\n",
       "      <td>22.885744</td>\n",
       "    </tr>\n",
       "  </tbody>\n",
       "</table>\n",
       "<p>10782611 rows × 3 columns</p>\n",
       "</div>"
      ],
      "text/plain": [
       "                           Origin Name  Destination Name   Distance\n",
       "0         12th St. Oakland City Center  16th St. Mission  13.703707\n",
       "1         12th St. Oakland City Center  24th St. Mission  14.116576\n",
       "2         12th St. Oakland City Center             Ashby   5.490919\n",
       "3         12th St. Oakland City Center    Montgomery St.  11.517171\n",
       "4         12th St. Oakland City Center        Powell St.  12.064423\n",
       "...                                ...               ...        ...\n",
       "10782606                  West Oakland  El Cerrito Plaza  10.947550\n",
       "10782607                  West Oakland        Powell St.  10.105173\n",
       "10782608                  West Oakland          Richmond  15.574707\n",
       "10782609                  West Oakland       San Leandro  14.849045\n",
       "10782610                  West Oakland      Walnut Creek  22.885744\n",
       "\n",
       "[10782611 rows x 3 columns]"
      ]
     },
     "execution_count": 32,
     "metadata": {},
     "output_type": "execute_result"
    }
   ],
   "source": [
    "df[[\"Origin Name\", \"Destination Name\", \"Distance\"]]"
   ]
  },
  {
   "cell_type": "code",
   "execution_count": 34,
   "metadata": {},
   "outputs": [],
   "source": [
    "#df.to_csv(\"Bart_distance.csv\")"
   ]
  },
  {
   "cell_type": "markdown",
   "metadata": {},
   "source": [
    "#### <font color=red>Soru B: Bart'ın herhangi 2 istasyon arasında işe gidip gelen kişi sayısını tahmin edebilecek bir model oluşturalım</font>"
   ]
  },
  {
   "cell_type": "markdown",
   "metadata": {},
   "source": [
    "- Buna nasıl yaklaşırsınız?\n",
    "  <p>Burada Regression modeli kullanılabilir.</p>\n",
    "- Hangi ek verilere ihtiyacınız olacak?\n",
    "  <p>Veri setinde kalkış istasyon kodu, varış istasyon kodu, gün ve saat bilgileri input, Trip Count alanı output olarak seçilebilir. Başka ek veriye şimdilik ihtiyaç yoktur.</p>\n",
    "- Şehir veya Bart yetkililerinin verilerinizi nasıl kullanmasını istersiniz?\n",
    "  <p>Oluşturulan model bir web sayfasında veya cep telefonu uygulamasında yayımlanabilir. Böylece yetkililer, istasyon, gün ve saat bilgilerini girip tahmini yolcu sayısını bulabilir.</p>"
   ]
  },
  {
   "cell_type": "code",
   "execution_count": null,
   "metadata": {},
   "outputs": [],
   "source": []
  },
  {
   "cell_type": "code",
   "execution_count": 1,
   "metadata": {},
   "outputs": [
    {
     "name": "stdout",
     "output_type": "stream",
     "text": [
      "<class 'pandas.core.frame.DataFrame'>\n",
      "RangeIndex: 10782611 entries, 0 to 10782610\n",
      "Data columns (total 15 columns):\n",
      " #   Column                 Dtype  \n",
      "---  ------                 -----  \n",
      " 0   Unnamed: 0             int64  \n",
      " 1   Date                   object \n",
      " 2   Hour                   int64  \n",
      " 3   Origin Station         object \n",
      " 4   Destination Station    object \n",
      " 5   Trip Count             int64  \n",
      " 6   Origin Name            object \n",
      " 7   Origin Latitude        float64\n",
      " 8   Origin Longitude       float64\n",
      " 9   Destination Name       object \n",
      " 10  Destination Latitude   float64\n",
      " 11  Destination Longitude  float64\n",
      " 12  Route                  object \n",
      " 13  weekday                object \n",
      " 14  Distance               float64\n",
      "dtypes: float64(5), int64(3), object(7)\n",
      "memory usage: 1.2+ GB\n"
     ]
    }
   ],
   "source": [
    "import pandas as pd\n",
    "df=pd.read_csv(\"Bart_distance.csv\")\n",
    "df.info()"
   ]
  },
  {
   "cell_type": "code",
   "execution_count": 2,
   "metadata": {},
   "outputs": [],
   "source": [
    "from sklearn.preprocessing import LabelEncoder"
   ]
  },
  {
   "cell_type": "code",
   "execution_count": 3,
   "metadata": {},
   "outputs": [],
   "source": [
    "le = LabelEncoder()"
   ]
  },
  {
   "cell_type": "code",
   "execution_count": 4,
   "metadata": {},
   "outputs": [],
   "source": [
    "df[\"WeekdayN\"] = le.fit_transform(df[\"weekday\"])"
   ]
  },
  {
   "cell_type": "code",
   "execution_count": 5,
   "metadata": {},
   "outputs": [],
   "source": [
    "df[\"OriginStN\"] = le.fit_transform(df[\"Origin Station\"])\n",
    "df[\"DestinationStN\"] = le.fit_transform(df[\"Destination Station\"])"
   ]
  },
  {
   "cell_type": "code",
   "execution_count": 7,
   "metadata": {},
   "outputs": [
    {
     "data": {
      "text/html": [
       "<div>\n",
       "<style scoped>\n",
       "    .dataframe tbody tr th:only-of-type {\n",
       "        vertical-align: middle;\n",
       "    }\n",
       "\n",
       "    .dataframe tbody tr th {\n",
       "        vertical-align: top;\n",
       "    }\n",
       "\n",
       "    .dataframe thead th {\n",
       "        text-align: right;\n",
       "    }\n",
       "</style>\n",
       "<table border=\"1\" class=\"dataframe\">\n",
       "  <thead>\n",
       "    <tr style=\"text-align: right;\">\n",
       "      <th></th>\n",
       "      <th>Unnamed: 0</th>\n",
       "      <th>Date</th>\n",
       "      <th>Hour</th>\n",
       "      <th>Origin Station</th>\n",
       "      <th>Destination Station</th>\n",
       "      <th>Trip Count</th>\n",
       "      <th>Origin Name</th>\n",
       "      <th>Origin Latitude</th>\n",
       "      <th>Origin Longitude</th>\n",
       "      <th>Destination Name</th>\n",
       "      <th>Destination Latitude</th>\n",
       "      <th>Destination Longitude</th>\n",
       "      <th>Route</th>\n",
       "      <th>weekday</th>\n",
       "      <th>Distance</th>\n",
       "      <th>WeekdayN</th>\n",
       "      <th>OriginStN</th>\n",
       "      <th>DestinationStN</th>\n",
       "    </tr>\n",
       "  </thead>\n",
       "  <tbody>\n",
       "    <tr>\n",
       "      <th>6394510</th>\n",
       "      <td>6394510</td>\n",
       "      <td>2022-10-18</td>\n",
       "      <td>22</td>\n",
       "      <td>FRMT</td>\n",
       "      <td>SHAY</td>\n",
       "      <td>2</td>\n",
       "      <td>Fremont</td>\n",
       "      <td>37.557355</td>\n",
       "      <td>-121.976400</td>\n",
       "      <td>South Hayward</td>\n",
       "      <td>37.634800</td>\n",
       "      <td>-122.057551</td>\n",
       "      <td>FRMT-SHAY</td>\n",
       "      <td>Tuesday</td>\n",
       "      <td>11.192591</td>\n",
       "      <td>5</td>\n",
       "      <td>19</td>\n",
       "      <td>43</td>\n",
       "    </tr>\n",
       "    <tr>\n",
       "      <th>1023322</th>\n",
       "      <td>1023322</td>\n",
       "      <td>2022-02-22</td>\n",
       "      <td>18</td>\n",
       "      <td>COLS</td>\n",
       "      <td>24TH</td>\n",
       "      <td>2</td>\n",
       "      <td>Coliseum/Oakland Airport</td>\n",
       "      <td>37.754006</td>\n",
       "      <td>-122.197273</td>\n",
       "      <td>24th St. Mission</td>\n",
       "      <td>37.752254</td>\n",
       "      <td>-122.418466</td>\n",
       "      <td>COLS-24TH</td>\n",
       "      <td>Tuesday</td>\n",
       "      <td>19.447585</td>\n",
       "      <td>5</td>\n",
       "      <td>12</td>\n",
       "      <td>3</td>\n",
       "    </tr>\n",
       "    <tr>\n",
       "      <th>823568</th>\n",
       "      <td>823568</td>\n",
       "      <td>2022-02-12</td>\n",
       "      <td>23</td>\n",
       "      <td>BALB</td>\n",
       "      <td>ASHB</td>\n",
       "      <td>1</td>\n",
       "      <td>Balboa Park</td>\n",
       "      <td>37.721981</td>\n",
       "      <td>-122.447414</td>\n",
       "      <td>Ashby</td>\n",
       "      <td>37.853024</td>\n",
       "      <td>-122.269780</td>\n",
       "      <td>BALB-ASHB</td>\n",
       "      <td>Saturday</td>\n",
       "      <td>21.353903</td>\n",
       "      <td>2</td>\n",
       "      <td>6</td>\n",
       "      <td>5</td>\n",
       "    </tr>\n",
       "    <tr>\n",
       "      <th>4134609</th>\n",
       "      <td>4134609</td>\n",
       "      <td>2022-07-13</td>\n",
       "      <td>5</td>\n",
       "      <td>24TH</td>\n",
       "      <td>BALB</td>\n",
       "      <td>2</td>\n",
       "      <td>24th St. Mission</td>\n",
       "      <td>37.752254</td>\n",
       "      <td>-122.418466</td>\n",
       "      <td>Balboa Park</td>\n",
       "      <td>37.721981</td>\n",
       "      <td>-122.447414</td>\n",
       "      <td>24TH-BALB</td>\n",
       "      <td>Wednesday</td>\n",
       "      <td>4.220361</td>\n",
       "      <td>6</td>\n",
       "      <td>3</td>\n",
       "      <td>6</td>\n",
       "    </tr>\n",
       "    <tr>\n",
       "      <th>5686780</th>\n",
       "      <td>5686780</td>\n",
       "      <td>2022-09-19</td>\n",
       "      <td>10</td>\n",
       "      <td>DALY</td>\n",
       "      <td>SSAN</td>\n",
       "      <td>1</td>\n",
       "      <td>Daly City</td>\n",
       "      <td>37.706121</td>\n",
       "      <td>-122.469081</td>\n",
       "      <td>South San Francisco</td>\n",
       "      <td>37.664174</td>\n",
       "      <td>-122.444116</td>\n",
       "      <td>DALY-SSAN</td>\n",
       "      <td>Monday</td>\n",
       "      <td>5.155701</td>\n",
       "      <td>1</td>\n",
       "      <td>14</td>\n",
       "      <td>44</td>\n",
       "    </tr>\n",
       "    <tr>\n",
       "      <th>1395665</th>\n",
       "      <td>1395665</td>\n",
       "      <td>2022-03-11</td>\n",
       "      <td>19</td>\n",
       "      <td>RICH</td>\n",
       "      <td>EMBR</td>\n",
       "      <td>1</td>\n",
       "      <td>Richmond</td>\n",
       "      <td>37.936887</td>\n",
       "      <td>-122.353165</td>\n",
       "      <td>Embarcadero</td>\n",
       "      <td>37.792976</td>\n",
       "      <td>-122.396742</td>\n",
       "      <td>RICH-EMBR</td>\n",
       "      <td>Friday</td>\n",
       "      <td>16.453052</td>\n",
       "      <td>0</td>\n",
       "      <td>38</td>\n",
       "      <td>18</td>\n",
       "    </tr>\n",
       "    <tr>\n",
       "      <th>6269369</th>\n",
       "      <td>6269369</td>\n",
       "      <td>2022-10-13</td>\n",
       "      <td>14</td>\n",
       "      <td>BERY</td>\n",
       "      <td>RICH</td>\n",
       "      <td>1</td>\n",
       "      <td>NaN</td>\n",
       "      <td>NaN</td>\n",
       "      <td>NaN</td>\n",
       "      <td>Richmond</td>\n",
       "      <td>37.936887</td>\n",
       "      <td>-122.353165</td>\n",
       "      <td>BERY-RICH</td>\n",
       "      <td>Thursday</td>\n",
       "      <td>NaN</td>\n",
       "      <td>4</td>\n",
       "      <td>8</td>\n",
       "      <td>38</td>\n",
       "    </tr>\n",
       "    <tr>\n",
       "      <th>1332811</th>\n",
       "      <td>1332811</td>\n",
       "      <td>2022-03-09</td>\n",
       "      <td>8</td>\n",
       "      <td>SBRN</td>\n",
       "      <td>COLM</td>\n",
       "      <td>2</td>\n",
       "      <td>San Bruno</td>\n",
       "      <td>37.637753</td>\n",
       "      <td>-122.416038</td>\n",
       "      <td>Colma</td>\n",
       "      <td>37.684638</td>\n",
       "      <td>-122.466233</td>\n",
       "      <td>SBRN-COLM</td>\n",
       "      <td>Wednesday</td>\n",
       "      <td>6.833896</td>\n",
       "      <td>6</td>\n",
       "      <td>41</td>\n",
       "      <td>11</td>\n",
       "    </tr>\n",
       "    <tr>\n",
       "      <th>4903023</th>\n",
       "      <td>4903023</td>\n",
       "      <td>2022-08-16</td>\n",
       "      <td>9</td>\n",
       "      <td>RICH</td>\n",
       "      <td>19TH</td>\n",
       "      <td>2</td>\n",
       "      <td>Richmond</td>\n",
       "      <td>37.936887</td>\n",
       "      <td>-122.353165</td>\n",
       "      <td>19th St. Oakland</td>\n",
       "      <td>37.807870</td>\n",
       "      <td>-122.269029</td>\n",
       "      <td>RICH-19TH</td>\n",
       "      <td>Tuesday</td>\n",
       "      <td>16.135289</td>\n",
       "      <td>5</td>\n",
       "      <td>38</td>\n",
       "      <td>2</td>\n",
       "    </tr>\n",
       "    <tr>\n",
       "      <th>5802209</th>\n",
       "      <td>5802209</td>\n",
       "      <td>2022-09-23</td>\n",
       "      <td>19</td>\n",
       "      <td>COLS</td>\n",
       "      <td>12TH</td>\n",
       "      <td>1</td>\n",
       "      <td>Coliseum/Oakland Airport</td>\n",
       "      <td>37.754006</td>\n",
       "      <td>-122.197273</td>\n",
       "      <td>12th St. Oakland City Center</td>\n",
       "      <td>37.803664</td>\n",
       "      <td>-122.271604</td>\n",
       "      <td>COLS-12TH</td>\n",
       "      <td>Friday</td>\n",
       "      <td>8.553673</td>\n",
       "      <td>0</td>\n",
       "      <td>12</td>\n",
       "      <td>0</td>\n",
       "    </tr>\n",
       "  </tbody>\n",
       "</table>\n",
       "</div>"
      ],
      "text/plain": [
       "         Unnamed: 0        Date  Hour Origin Station Destination Station  \\\n",
       "6394510     6394510  2022-10-18    22           FRMT                SHAY   \n",
       "1023322     1023322  2022-02-22    18           COLS                24TH   \n",
       "823568       823568  2022-02-12    23           BALB                ASHB   \n",
       "4134609     4134609  2022-07-13     5           24TH                BALB   \n",
       "5686780     5686780  2022-09-19    10           DALY                SSAN   \n",
       "1395665     1395665  2022-03-11    19           RICH                EMBR   \n",
       "6269369     6269369  2022-10-13    14           BERY                RICH   \n",
       "1332811     1332811  2022-03-09     8           SBRN                COLM   \n",
       "4903023     4903023  2022-08-16     9           RICH                19TH   \n",
       "5802209     5802209  2022-09-23    19           COLS                12TH   \n",
       "\n",
       "         Trip Count               Origin Name  Origin Latitude  \\\n",
       "6394510           2                   Fremont        37.557355   \n",
       "1023322           2  Coliseum/Oakland Airport        37.754006   \n",
       "823568            1               Balboa Park        37.721981   \n",
       "4134609           2          24th St. Mission        37.752254   \n",
       "5686780           1                 Daly City        37.706121   \n",
       "1395665           1                  Richmond        37.936887   \n",
       "6269369           1                       NaN              NaN   \n",
       "1332811           2                 San Bruno        37.637753   \n",
       "4903023           2                  Richmond        37.936887   \n",
       "5802209           1  Coliseum/Oakland Airport        37.754006   \n",
       "\n",
       "         Origin Longitude              Destination Name  Destination Latitude  \\\n",
       "6394510       -121.976400                 South Hayward             37.634800   \n",
       "1023322       -122.197273              24th St. Mission             37.752254   \n",
       "823568        -122.447414                         Ashby             37.853024   \n",
       "4134609       -122.418466                   Balboa Park             37.721981   \n",
       "5686780       -122.469081           South San Francisco             37.664174   \n",
       "1395665       -122.353165                   Embarcadero             37.792976   \n",
       "6269369               NaN                      Richmond             37.936887   \n",
       "1332811       -122.416038                         Colma             37.684638   \n",
       "4903023       -122.353165              19th St. Oakland             37.807870   \n",
       "5802209       -122.197273  12th St. Oakland City Center             37.803664   \n",
       "\n",
       "         Destination Longitude      Route    weekday   Distance  WeekdayN  \\\n",
       "6394510            -122.057551  FRMT-SHAY    Tuesday  11.192591         5   \n",
       "1023322            -122.418466  COLS-24TH    Tuesday  19.447585         5   \n",
       "823568             -122.269780  BALB-ASHB   Saturday  21.353903         2   \n",
       "4134609            -122.447414  24TH-BALB  Wednesday   4.220361         6   \n",
       "5686780            -122.444116  DALY-SSAN     Monday   5.155701         1   \n",
       "1395665            -122.396742  RICH-EMBR     Friday  16.453052         0   \n",
       "6269369            -122.353165  BERY-RICH   Thursday        NaN         4   \n",
       "1332811            -122.466233  SBRN-COLM  Wednesday   6.833896         6   \n",
       "4903023            -122.269029  RICH-19TH    Tuesday  16.135289         5   \n",
       "5802209            -122.271604  COLS-12TH     Friday   8.553673         0   \n",
       "\n",
       "         OriginStN  DestinationStN  \n",
       "6394510         19              43  \n",
       "1023322         12               3  \n",
       "823568           6               5  \n",
       "4134609          3               6  \n",
       "5686780         14              44  \n",
       "1395665         38              18  \n",
       "6269369          8              38  \n",
       "1332811         41              11  \n",
       "4903023         38               2  \n",
       "5802209         12               0  "
      ]
     },
     "execution_count": 7,
     "metadata": {},
     "output_type": "execute_result"
    }
   ],
   "source": [
    "df.sample(10)"
   ]
  },
  {
   "cell_type": "code",
   "execution_count": 8,
   "metadata": {},
   "outputs": [],
   "source": [
    "dfN=df[[\"OriginStN\", \"DestinationStN\", \"Hour\", \"WeekdayN\", \"Trip Count\", \n",
    "        \"Origin Latitude\", \"Origin Longitude\", \"Destination Latitude\", \"Destination Longitude\"]]"
   ]
  },
  {
   "cell_type": "code",
   "execution_count": 9,
   "metadata": {},
   "outputs": [
    {
     "data": {
      "text/html": [
       "<div>\n",
       "<style scoped>\n",
       "    .dataframe tbody tr th:only-of-type {\n",
       "        vertical-align: middle;\n",
       "    }\n",
       "\n",
       "    .dataframe tbody tr th {\n",
       "        vertical-align: top;\n",
       "    }\n",
       "\n",
       "    .dataframe thead th {\n",
       "        text-align: right;\n",
       "    }\n",
       "</style>\n",
       "<table border=\"1\" class=\"dataframe\">\n",
       "  <thead>\n",
       "    <tr style=\"text-align: right;\">\n",
       "      <th></th>\n",
       "      <th>OriginStN</th>\n",
       "      <th>DestinationStN</th>\n",
       "      <th>Hour</th>\n",
       "      <th>WeekdayN</th>\n",
       "      <th>Trip Count</th>\n",
       "      <th>Origin Latitude</th>\n",
       "      <th>Origin Longitude</th>\n",
       "      <th>Destination Latitude</th>\n",
       "      <th>Destination Longitude</th>\n",
       "    </tr>\n",
       "  </thead>\n",
       "  <tbody>\n",
       "    <tr>\n",
       "      <th>5866114</th>\n",
       "      <td>2</td>\n",
       "      <td>16</td>\n",
       "      <td>19</td>\n",
       "      <td>1</td>\n",
       "      <td>10</td>\n",
       "      <td>37.807870</td>\n",
       "      <td>-122.269029</td>\n",
       "      <td>37.925655</td>\n",
       "      <td>-122.317269</td>\n",
       "    </tr>\n",
       "    <tr>\n",
       "      <th>2934941</th>\n",
       "      <td>22</td>\n",
       "      <td>24</td>\n",
       "      <td>19</td>\n",
       "      <td>4</td>\n",
       "      <td>1</td>\n",
       "      <td>37.670399</td>\n",
       "      <td>-122.087967</td>\n",
       "      <td>37.797484</td>\n",
       "      <td>-122.265609</td>\n",
       "    </tr>\n",
       "    <tr>\n",
       "      <th>8429301</th>\n",
       "      <td>10</td>\n",
       "      <td>39</td>\n",
       "      <td>22</td>\n",
       "      <td>4</td>\n",
       "      <td>2</td>\n",
       "      <td>37.779528</td>\n",
       "      <td>-122.413756</td>\n",
       "      <td>37.844601</td>\n",
       "      <td>-122.251793</td>\n",
       "    </tr>\n",
       "    <tr>\n",
       "      <th>3463380</th>\n",
       "      <td>21</td>\n",
       "      <td>42</td>\n",
       "      <td>6</td>\n",
       "      <td>1</td>\n",
       "      <td>1</td>\n",
       "      <td>37.732921</td>\n",
       "      <td>-122.434092</td>\n",
       "      <td>37.616035</td>\n",
       "      <td>-122.392612</td>\n",
       "    </tr>\n",
       "    <tr>\n",
       "      <th>1964216</th>\n",
       "      <td>8</td>\n",
       "      <td>25</td>\n",
       "      <td>17</td>\n",
       "      <td>6</td>\n",
       "      <td>1</td>\n",
       "      <td>NaN</td>\n",
       "      <td>NaN</td>\n",
       "      <td>37.828415</td>\n",
       "      <td>-122.267227</td>\n",
       "    </tr>\n",
       "    <tr>\n",
       "      <th>5907472</th>\n",
       "      <td>30</td>\n",
       "      <td>10</td>\n",
       "      <td>12</td>\n",
       "      <td>6</td>\n",
       "      <td>3</td>\n",
       "      <td>38.003275</td>\n",
       "      <td>-122.024597</td>\n",
       "      <td>37.779528</td>\n",
       "      <td>-122.413756</td>\n",
       "    </tr>\n",
       "    <tr>\n",
       "      <th>1806457</th>\n",
       "      <td>40</td>\n",
       "      <td>24</td>\n",
       "      <td>15</td>\n",
       "      <td>6</td>\n",
       "      <td>8</td>\n",
       "      <td>37.722619</td>\n",
       "      <td>-122.161311</td>\n",
       "      <td>37.797484</td>\n",
       "      <td>-122.265609</td>\n",
       "    </tr>\n",
       "    <tr>\n",
       "      <th>6564326</th>\n",
       "      <td>0</td>\n",
       "      <td>39</td>\n",
       "      <td>7</td>\n",
       "      <td>6</td>\n",
       "      <td>1</td>\n",
       "      <td>37.803664</td>\n",
       "      <td>-122.271604</td>\n",
       "      <td>37.844601</td>\n",
       "      <td>-122.251793</td>\n",
       "    </tr>\n",
       "    <tr>\n",
       "      <th>4078499</th>\n",
       "      <td>21</td>\n",
       "      <td>26</td>\n",
       "      <td>15</td>\n",
       "      <td>3</td>\n",
       "      <td>2</td>\n",
       "      <td>37.732921</td>\n",
       "      <td>-122.434092</td>\n",
       "      <td>37.599787</td>\n",
       "      <td>-122.386660</td>\n",
       "    </tr>\n",
       "    <tr>\n",
       "      <th>2374307</th>\n",
       "      <td>5</td>\n",
       "      <td>18</td>\n",
       "      <td>9</td>\n",
       "      <td>1</td>\n",
       "      <td>36</td>\n",
       "      <td>37.853024</td>\n",
       "      <td>-122.269780</td>\n",
       "      <td>37.792976</td>\n",
       "      <td>-122.396742</td>\n",
       "    </tr>\n",
       "  </tbody>\n",
       "</table>\n",
       "</div>"
      ],
      "text/plain": [
       "         OriginStN  DestinationStN  Hour  WeekdayN  Trip Count  \\\n",
       "5866114          2              16    19         1          10   \n",
       "2934941         22              24    19         4           1   \n",
       "8429301         10              39    22         4           2   \n",
       "3463380         21              42     6         1           1   \n",
       "1964216          8              25    17         6           1   \n",
       "5907472         30              10    12         6           3   \n",
       "1806457         40              24    15         6           8   \n",
       "6564326          0              39     7         6           1   \n",
       "4078499         21              26    15         3           2   \n",
       "2374307          5              18     9         1          36   \n",
       "\n",
       "         Origin Latitude  Origin Longitude  Destination Latitude  \\\n",
       "5866114        37.807870       -122.269029             37.925655   \n",
       "2934941        37.670399       -122.087967             37.797484   \n",
       "8429301        37.779528       -122.413756             37.844601   \n",
       "3463380        37.732921       -122.434092             37.616035   \n",
       "1964216              NaN               NaN             37.828415   \n",
       "5907472        38.003275       -122.024597             37.779528   \n",
       "1806457        37.722619       -122.161311             37.797484   \n",
       "6564326        37.803664       -122.271604             37.844601   \n",
       "4078499        37.732921       -122.434092             37.599787   \n",
       "2374307        37.853024       -122.269780             37.792976   \n",
       "\n",
       "         Destination Longitude  \n",
       "5866114            -122.317269  \n",
       "2934941            -122.265609  \n",
       "8429301            -122.251793  \n",
       "3463380            -122.392612  \n",
       "1964216            -122.267227  \n",
       "5907472            -122.413756  \n",
       "1806457            -122.265609  \n",
       "6564326            -122.251793  \n",
       "4078499            -122.386660  \n",
       "2374307            -122.396742  "
      ]
     },
     "execution_count": 9,
     "metadata": {},
     "output_type": "execute_result"
    }
   ],
   "source": [
    "dfN.sample(10)"
   ]
  },
  {
   "cell_type": "code",
   "execution_count": 10,
   "metadata": {},
   "outputs": [],
   "source": [
    "dfN.to_csv(\"BART_distanceN.csv\")"
   ]
  },
  {
   "cell_type": "code",
   "execution_count": 11,
   "metadata": {},
   "outputs": [
    {
     "data": {
      "text/plain": [
       "((10782611, 4), (10782611, 1))"
      ]
     },
     "execution_count": 11,
     "metadata": {},
     "output_type": "execute_result"
    }
   ],
   "source": [
    "x=df[[\"OriginStN\", \"DestinationStN\", \"Hour\", \"WeekdayN\"]]\n",
    "y=df[[\"Trip Count\"]]\n",
    "x.shape, y.shape"
   ]
  },
  {
   "cell_type": "code",
   "execution_count": 4,
   "metadata": {},
   "outputs": [],
   "source": [
    "#x=pd.get_dummies(x, drop_first=True)"
   ]
  },
  {
   "cell_type": "code",
   "execution_count": 13,
   "metadata": {},
   "outputs": [],
   "source": [
    "import pandas as pd\n",
    "import numpy as np\n",
    "import matplotlib.pyplot as plt\n",
    "import seaborn as sns\n",
    "import warnings\n",
    "warnings.filterwarnings(\"ignore\")\n",
    "pd.set_option(\"display.max_columns\",100)\n",
    "\n",
    "from sklearn.linear_model import LinearRegression\n",
    "from sklearn.linear_model import Ridge,Lasso\n",
    "from sklearn.linear_model import ElasticNet\n",
    "from sklearn.neighbors import KNeighborsRegressor\n",
    "from sklearn.ensemble import AdaBoostRegressor\n",
    "from sklearn.ensemble import GradientBoostingRegressor\n",
    "from sklearn.ensemble import RandomForestRegressor\n",
    "from sklearn.tree import ExtraTreeRegressor\n",
    "from sklearn.tree import DecisionTreeRegressor\n",
    "from xgboost import XGBRegressor\n",
    "from sklearn.model_selection import train_test_split\n",
    "from sklearn.metrics import mean_squared_error,r2_score,mean_absolute_error\n",
    "\n",
    "\n",
    "def algo_test(x,y):\n",
    "        #Bütün modelleri tanımlıyorum\n",
    "        L=LinearRegression()\n",
    "        R=Ridge()\n",
    "        Lass=Lasso()\n",
    "        E=ElasticNet()\n",
    "        ETR=ExtraTreeRegressor()\n",
    "        GBR=GradientBoostingRegressor()\n",
    "        kn=KNeighborsRegressor()\n",
    "        dt=DecisionTreeRegressor()\n",
    "        xgb=XGBRegressor()\n",
    "        ab=AdaBoostRegressor()\n",
    "        rf=RandomForestRegressor()\n",
    "       \n",
    "        \n",
    "        algos=[L,R,Lass,E,ETR,GBR,kn,dt,xgb,ab,rf]\n",
    "        algo_names=['Linear','Ridge','Lasso','ElasticNet','Extra Tree','Gradient Boosting',\n",
    "                    'KNeighbors','Decision Tree','XGBRegressor', 'AdaBoost', 'Random Forest']\n",
    "        \n",
    "        x_train, x_test, y_train, y_test=train_test_split(x,y,test_size=.2,random_state=42)\n",
    "        \n",
    "        r_squared= []\n",
    "        rmse= []\n",
    "        mae= []\n",
    "        \n",
    "        #Hata ve doğruluk oranlarını bir tablo haline getirmek için bir dataframe oluşturuyorum\n",
    "        result=pd.DataFrame(columns=['R_Squared','RMSE','MAE'],index=algo_names)\n",
    "        \n",
    "        \n",
    "        for algo in algos:\n",
    "            p=algo.fit(x_train,y_train).predict(x_test)\n",
    "            r_squared.append(r2_score(y_test,p))\n",
    "            rmse.append(mean_squared_error(y_test,p)**.5)\n",
    "            mae.append(mean_absolute_error(y_test,p))\n",
    "        \n",
    "            \n",
    "\n",
    "        #result adlı tabloya doğruluk ve hata oranlarımı yerleştiriyorum\n",
    "        result.R_Squared=r_squared\n",
    "        result.RMSE=rmse\n",
    "        result.MAE=mae\n",
    "        \n",
    "       #oluşturduğum result tablosunu doğruluk oranına (r2_score) göre sıralayıp dönüyor\n",
    "        rtable=result.sort_values('R_Squared',ascending=False)\n",
    "        return rtable"
   ]
  },
  {
   "cell_type": "code",
   "execution_count": 17,
   "metadata": {},
   "outputs": [
    {
     "data": {
      "text/html": [
       "<div>\n",
       "<style scoped>\n",
       "    .dataframe tbody tr th:only-of-type {\n",
       "        vertical-align: middle;\n",
       "    }\n",
       "\n",
       "    .dataframe tbody tr th {\n",
       "        vertical-align: top;\n",
       "    }\n",
       "\n",
       "    .dataframe thead th {\n",
       "        text-align: right;\n",
       "    }\n",
       "</style>\n",
       "<table border=\"1\" class=\"dataframe\">\n",
       "  <thead>\n",
       "    <tr style=\"text-align: right;\">\n",
       "      <th></th>\n",
       "      <th>R_Squared</th>\n",
       "      <th>RMSE</th>\n",
       "      <th>MAE</th>\n",
       "    </tr>\n",
       "  </thead>\n",
       "  <tbody>\n",
       "    <tr>\n",
       "      <th>Decision Tree</th>\n",
       "      <td>0.820185</td>\n",
       "      <td>4.189381</td>\n",
       "      <td>1.878891</td>\n",
       "    </tr>\n",
       "    <tr>\n",
       "      <th>Random Forest</th>\n",
       "      <td>0.820130</td>\n",
       "      <td>4.190025</td>\n",
       "      <td>1.879348</td>\n",
       "    </tr>\n",
       "    <tr>\n",
       "      <th>Extra Tree</th>\n",
       "      <td>0.820126</td>\n",
       "      <td>4.190071</td>\n",
       "      <td>1.879194</td>\n",
       "    </tr>\n",
       "    <tr>\n",
       "      <th>KNeighbors</th>\n",
       "      <td>0.786723</td>\n",
       "      <td>4.562561</td>\n",
       "      <td>2.045569</td>\n",
       "    </tr>\n",
       "    <tr>\n",
       "      <th>XGBRegressor</th>\n",
       "      <td>0.644154</td>\n",
       "      <td>5.893431</td>\n",
       "      <td>2.870752</td>\n",
       "    </tr>\n",
       "    <tr>\n",
       "      <th>Gradient Boosting</th>\n",
       "      <td>0.247300</td>\n",
       "      <td>8.571323</td>\n",
       "      <td>4.046115</td>\n",
       "    </tr>\n",
       "    <tr>\n",
       "      <th>AdaBoost</th>\n",
       "      <td>0.010469</td>\n",
       "      <td>9.827694</td>\n",
       "      <td>5.659802</td>\n",
       "    </tr>\n",
       "    <tr>\n",
       "      <th>Ridge</th>\n",
       "      <td>0.004703</td>\n",
       "      <td>9.856287</td>\n",
       "      <td>4.932879</td>\n",
       "    </tr>\n",
       "    <tr>\n",
       "      <th>Linear</th>\n",
       "      <td>0.004703</td>\n",
       "      <td>9.856287</td>\n",
       "      <td>4.932879</td>\n",
       "    </tr>\n",
       "    <tr>\n",
       "      <th>ElasticNet</th>\n",
       "      <td>0.003905</td>\n",
       "      <td>9.860238</td>\n",
       "      <td>4.930707</td>\n",
       "    </tr>\n",
       "    <tr>\n",
       "      <th>Lasso</th>\n",
       "      <td>0.002450</td>\n",
       "      <td>9.867436</td>\n",
       "      <td>4.933790</td>\n",
       "    </tr>\n",
       "  </tbody>\n",
       "</table>\n",
       "</div>"
      ],
      "text/plain": [
       "                   R_Squared      RMSE       MAE\n",
       "Decision Tree       0.820185  4.189381  1.878891\n",
       "Random Forest       0.820130  4.190025  1.879348\n",
       "Extra Tree          0.820126  4.190071  1.879194\n",
       "KNeighbors          0.786723  4.562561  2.045569\n",
       "XGBRegressor        0.644154  5.893431  2.870752\n",
       "Gradient Boosting   0.247300  8.571323  4.046115\n",
       "AdaBoost            0.010469  9.827694  5.659802\n",
       "Ridge               0.004703  9.856287  4.932879\n",
       "Linear              0.004703  9.856287  4.932879\n",
       "ElasticNet          0.003905  9.860238  4.930707\n",
       "Lasso               0.002450  9.867436  4.933790"
      ]
     },
     "execution_count": 17,
     "metadata": {},
     "output_type": "execute_result"
    }
   ],
   "source": [
    "algo_test(x,y)"
   ]
  },
  {
   "cell_type": "code",
   "execution_count": 18,
   "metadata": {},
   "outputs": [],
   "source": [
    "from sklearn.preprocessing import MinMaxScaler\n",
    "scaler = MinMaxScaler()"
   ]
  },
  {
   "cell_type": "code",
   "execution_count": 19,
   "metadata": {},
   "outputs": [],
   "source": [
    "X=scaler.fit_transform(x)"
   ]
  },
  {
   "cell_type": "code",
   "execution_count": 20,
   "metadata": {},
   "outputs": [],
   "source": [
    "x_train, x_test, y_train, y_test=train_test_split(X,y,test_size=.4,random_state=42)"
   ]
  },
  {
   "cell_type": "code",
   "execution_count": 21,
   "metadata": {},
   "outputs": [
    {
     "name": "stderr",
     "output_type": "stream",
     "text": [
      "2024-03-26 13:58:29.924348: I tensorflow/core/platform/cpu_feature_guard.cc:182] This TensorFlow binary is optimized to use available CPU instructions in performance-critical operations.\n",
      "To enable the following instructions: SSE4.1 SSE4.2 AVX AVX2 FMA, in other operations, rebuild TensorFlow with the appropriate compiler flags.\n"
     ]
    }
   ],
   "source": [
    "from tensorflow import keras\n",
    "from tensorflow.keras.models import Sequential\n",
    "from tensorflow.keras.layers import Dense, Dropout\n",
    "from sklearn.metrics import r2_score, mean_squared_error"
   ]
  },
  {
   "cell_type": "code",
   "execution_count": 22,
   "metadata": {},
   "outputs": [
    {
     "name": "stderr",
     "output_type": "stream",
     "text": [
      "2024-03-26 13:58:34.664859: I tensorflow/core/common_runtime/process_util.cc:146] Creating new thread pool with default inter op setting: 2. Tune using inter_op_parallelism_threads for best performance.\n"
     ]
    }
   ],
   "source": [
    "model=Sequential()\n",
    "model.add(Dense(120, activation=\"relu\"))\n",
    "model.add(Dense(80, activation=\"relu\"))\n",
    "model.add(Dense(64, activation=\"relu\"))\n",
    "model.add(Dense(30, activation=\"relu\"))\n",
    "model.add(Dense(20, activation=\"relu\"))\n",
    "model.add(Dense(4, activation=\"relu\"))\n",
    "model.add(Dense(1))\n",
    "model.compile(loss=\"mse\", optimizer=\"adam\")"
   ]
  },
  {
   "cell_type": "code",
   "execution_count": 26,
   "metadata": {},
   "outputs": [
    {
     "name": "stdout",
     "output_type": "stream",
     "text": [
      "Epoch 1/10\n",
      "50544/50544 [==============================] - 173s 3ms/step - loss: 77.1757 - val_loss: 80.5073\n",
      "Epoch 2/10\n",
      "50544/50544 [==============================] - 173s 3ms/step - loss: 70.0017 - val_loss: 64.5559\n",
      "Epoch 3/10\n",
      "50544/50544 [==============================] - 170s 3ms/step - loss: 60.9382 - val_loss: 49.4594\n",
      "Epoch 4/10\n",
      "50544/50544 [==============================] - 160s 3ms/step - loss: 53.9775 - val_loss: 57.0888\n",
      "Epoch 5/10\n",
      "50544/50544 [==============================] - 160s 3ms/step - loss: 52.0924 - val_loss: 45.7811\n",
      "Epoch 6/10\n",
      "50544/50544 [==============================] - 176s 3ms/step - loss: 52.6588 - val_loss: 52.9273\n",
      "Epoch 7/10\n",
      "50544/50544 [==============================] - 176s 3ms/step - loss: 48.3924 - val_loss: 52.2754\n",
      "Epoch 8/10\n",
      "50544/50544 [==============================] - 164s 3ms/step - loss: 46.8247 - val_loss: 55.7697\n",
      "Epoch 9/10\n",
      "50544/50544 [==============================] - 203s 4ms/step - loss: 45.6021 - val_loss: 52.1735\n",
      "Epoch 10/10\n",
      "50544/50544 [==============================] - 165s 3ms/step - loss: 44.8665 - val_loss: 38.4551\n"
     ]
    }
   ],
   "source": [
    "history=model.fit(x_train, y_train, validation_data=(x_test, y_test), batch_size=128, epochs=10, verbose=1) "
   ]
  },
  {
   "cell_type": "code",
   "execution_count": 27,
   "metadata": {},
   "outputs": [
    {
     "name": "stdout",
     "output_type": "stream",
     "text": [
      "134783/134783 [==============================] - 202s 1ms/step\n"
     ]
    }
   ],
   "source": [
    "tahmin=model.predict(x_test)"
   ]
  },
  {
   "cell_type": "code",
   "execution_count": 28,
   "metadata": {},
   "outputs": [
    {
     "data": {
      "text/plain": [
       "0.6070178745457802"
      ]
     },
     "execution_count": 28,
     "metadata": {},
     "output_type": "execute_result"
    }
   ],
   "source": [
    "r2_score(y_test, tahmin)"
   ]
  },
  {
   "cell_type": "code",
   "execution_count": 29,
   "metadata": {},
   "outputs": [
    {
     "data": {
      "text/plain": [
       "6.201215773965645"
      ]
     },
     "execution_count": 29,
     "metadata": {},
     "output_type": "execute_result"
    }
   ],
   "source": [
    "mean_squared_error(y_test, tahmin) ** .5"
   ]
  },
  {
   "cell_type": "code",
   "execution_count": 30,
   "metadata": {},
   "outputs": [],
   "source": [
    "loss_f=pd.DataFrame(history.history) "
   ]
  },
  {
   "cell_type": "code",
   "execution_count": 31,
   "metadata": {},
   "outputs": [
    {
     "data": {
      "text/plain": [
       "<Axes: >"
      ]
     },
     "execution_count": 31,
     "metadata": {},
     "output_type": "execute_result"
    },
    {
     "data": {
      "image/png": "[encoded data removed]",
      "text/plain": [
       "<Figure size 640x480 with 1 Axes>"
      ]
     },
     "metadata": {},
     "output_type": "display_data"
    }
   ],
   "source": [
    "loss_f.plot()"
   ]
  },
  {
   "cell_type": "markdown",
   "metadata": {},
   "source": [
    "## Sonuç\n",
    "\n",
    "Bu projede BART Hattına ait transfer verilerine dayanarak bazı sorulara yanıt aranmış ve bir sorunun çözümü olarak derin öğrenme modeli geliştirilmiştir."
   ]
  }
 ],
 "metadata": {
  "kernelspec": {
   "display_name": "Python 3 (ipykernel)",
   "language": "python",
   "name": "python3"
  },
  "language_info": {
   "codemirror_mode": {
    "name": "ipython",
    "version": 3
   },
   "file_extension": ".py",
   "mimetype": "text/x-python",
   "name": "python",
   "nbconvert_exporter": "python",
   "pygments_lexer": "ipython3",
   "version": "3.9.19"
  }
 },
 "nbformat": 4,
 "nbformat_minor": 4
}
