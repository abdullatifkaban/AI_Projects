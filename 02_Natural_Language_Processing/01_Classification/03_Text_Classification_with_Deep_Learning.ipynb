{
 "cells": [
  {
   "cell_type": "markdown",
   "id": "7e5b7303-6ce3-4046-a12c-39bd3a7ba074",
   "metadata": {},
   "source": [
    "# Text Classification with Deep Learning\n",
    "Bu projede IMDB yorumları kullanılarak metin sınıflandırma modeli geliştirilmiştir. <br>\n",
    "Bu proje fikri <a href=\"https://thecleverprogrammer.com/2020/08/31/text-classification-with-tensorflow-in-machine-learning/\" target=_blank>bu sayfadan</a> alınmıştır. Adı geçen web sayfasında verilerin elde edilmesi için tensorflow_datasets kütüphanesi kullanılmıştır. Ancak bu kütüphane ile veri çekme aşamasında sorun yaşanınca verilere <a href=\"https://ai.stanford.edu/~amaas/data/sentiment/\" target=_blank>buradan</a> erişilmiş ve kullanılmıştır.<br><br>\n",
    "Elde edilen veriler, 12500'er adet pozitif ve negatif train verisi, 12500'er adet yine pozitif ve negatif test verisi olmak üzere 5000 adet yorum içermektedir."
   ]
  },
  {
   "cell_type": "markdown",
   "id": "84bf4423-8be1-4b45-b5c1-0b8a5a3c525f",
   "metadata": {},
   "source": [
    "### Verilerin Elde Edilmesi"
   ]
  },
  {
   "cell_type": "code",
   "execution_count": 89,
   "id": "3f213169-9dcc-41ad-b3eb-87f1a3437c59",
   "metadata": {},
   "outputs": [],
   "source": [
    "import pandas as pd\n",
    "import os\n",
    "import seaborn as sns"
   ]
  },
  {
   "cell_type": "code",
   "execution_count": 90,
   "id": "2a75d6ab-358a-45b2-a493-58b758a0fa58",
   "metadata": {},
   "outputs": [],
   "source": [
    "groups = [\"train\", \"test\"]\n",
    "labels = [\"pos\", \"neg\"]\n",
    "txt_path=\"imdb/\""
   ]
  },
  {
   "cell_type": "code",
   "execution_count": 91,
   "id": "632a083c-bf5b-41bd-bcc2-9f6115bb1a5c",
   "metadata": {},
   "outputs": [],
   "source": [
    "txt_list=[]\n",
    "label_list=[]\n",
    "group_list=[]\n",
    "for group in groups:\n",
    "    for label in labels:\n",
    "        klasor=txt_path+group+\"/\"+label\n",
    "        for dosya in os.listdir(klasor):\n",
    "            txt_file = os.path.join(klasor, dosya)\n",
    "            with open(txt_file, \"r\", encoding=\"utf-8\") as f:\n",
    "                satirlar = f.readlines()\n",
    "            txt_list.extend(satirlar)            \n",
    "            label_list.append(label)\n",
    "            group_list.append(group)"
   ]
  },
  {
   "cell_type": "code",
   "execution_count": 92,
   "id": "430c010f-09e4-4a05-8c93-4ad00aae887a",
   "metadata": {},
   "outputs": [],
   "source": [
    "df=pd.DataFrame({\"group\":group_list, \"txt\":txt_list, \"label\":label_list})"
   ]
  },
  {
   "cell_type": "code",
   "execution_count": 93,
   "id": "c47ebef6-3681-4424-84b9-09f2aa9d5d07",
   "metadata": {},
   "outputs": [
    {
     "data": {
      "text/html": [
       "<div>\n",
       "<style scoped>\n",
       "    .dataframe tbody tr th:only-of-type {\n",
       "        vertical-align: middle;\n",
       "    }\n",
       "\n",
       "    .dataframe tbody tr th {\n",
       "        vertical-align: top;\n",
       "    }\n",
       "\n",
       "    .dataframe thead th {\n",
       "        text-align: right;\n",
       "    }\n",
       "</style>\n",
       "<table border=\"1\" class=\"dataframe\">\n",
       "  <thead>\n",
       "    <tr style=\"text-align: right;\">\n",
       "      <th></th>\n",
       "      <th>group</th>\n",
       "      <th>txt</th>\n",
       "      <th>label</th>\n",
       "    </tr>\n",
       "  </thead>\n",
       "  <tbody>\n",
       "    <tr>\n",
       "      <th>0</th>\n",
       "      <td>train</td>\n",
       "      <td>Bromwell High is a cartoon comedy. It ran at t...</td>\n",
       "      <td>pos</td>\n",
       "    </tr>\n",
       "    <tr>\n",
       "      <th>1</th>\n",
       "      <td>train</td>\n",
       "      <td>Homelessness (or Houselessness as George Carli...</td>\n",
       "      <td>pos</td>\n",
       "    </tr>\n",
       "    <tr>\n",
       "      <th>2</th>\n",
       "      <td>train</td>\n",
       "      <td>Brilliant over-acting by Lesley Ann Warren. Be...</td>\n",
       "      <td>pos</td>\n",
       "    </tr>\n",
       "    <tr>\n",
       "      <th>3</th>\n",
       "      <td>train</td>\n",
       "      <td>This is easily the most underrated film inn th...</td>\n",
       "      <td>pos</td>\n",
       "    </tr>\n",
       "    <tr>\n",
       "      <th>4</th>\n",
       "      <td>train</td>\n",
       "      <td>This is not the typical Mel Brooks film. It wa...</td>\n",
       "      <td>pos</td>\n",
       "    </tr>\n",
       "  </tbody>\n",
       "</table>\n",
       "</div>"
      ],
      "text/plain": [
       "   group                                                txt label\n",
       "0  train  Bromwell High is a cartoon comedy. It ran at t...   pos\n",
       "1  train  Homelessness (or Houselessness as George Carli...   pos\n",
       "2  train  Brilliant over-acting by Lesley Ann Warren. Be...   pos\n",
       "3  train  This is easily the most underrated film inn th...   pos\n",
       "4  train  This is not the typical Mel Brooks film. It wa...   pos"
      ]
     },
     "execution_count": 93,
     "metadata": {},
     "output_type": "execute_result"
    }
   ],
   "source": [
    "df.head()"
   ]
  },
  {
   "cell_type": "code",
   "execution_count": 94,
   "id": "90c33cd4-505e-4040-bb2d-458710f10497",
   "metadata": {},
   "outputs": [
    {
     "data": {
      "text/plain": [
       "group\n",
       "train    25000\n",
       "test     25000\n",
       "Name: count, dtype: int64"
      ]
     },
     "execution_count": 94,
     "metadata": {},
     "output_type": "execute_result"
    }
   ],
   "source": [
    "df[\"group\"].value_counts()"
   ]
  },
  {
   "cell_type": "code",
   "execution_count": 95,
   "id": "6de4867b-679c-4766-900b-de100f9e14ec",
   "metadata": {},
   "outputs": [
    {
     "data": {
      "text/plain": [
       "label\n",
       "pos    25000\n",
       "neg    25000\n",
       "Name: count, dtype: int64"
      ]
     },
     "execution_count": 95,
     "metadata": {},
     "output_type": "execute_result"
    }
   ],
   "source": [
    "df[\"label\"].value_counts()"
   ]
  },
  {
   "cell_type": "code",
   "execution_count": null,
   "id": "3443c8d1-7ccd-4939-ae18-6fecf3aed6b0",
   "metadata": {},
   "outputs": [],
   "source": [
    "df.to_csv(\"imdb.csv\")\n",
    "df[df[\"group\"]==\"train\"].to_csv(\"train.csv\")\n",
    "df[df[\"group\"]==\"test\"].to_csv(\"test.csv\")"
   ]
  },
  {
   "cell_type": "markdown",
   "id": "de297131-f02a-4ea9-9b76-6d49d6131b6a",
   "metadata": {},
   "source": [
    "### Veri Ön İşleme"
   ]
  },
  {
   "cell_type": "code",
   "execution_count": 1,
   "id": "ab1502cb-b494-445a-bda3-2f9340847750",
   "metadata": {},
   "outputs": [],
   "source": [
    "import pandas as pd\n",
    "import seaborn as sns\n",
    "import numpy as np"
   ]
  },
  {
   "cell_type": "code",
   "execution_count": 2,
   "id": "867767b4-9b4d-4472-9cdc-666682f874ff",
   "metadata": {},
   "outputs": [],
   "source": [
    "df=pd.read_csv(\"imdb.csv\")"
   ]
  },
  {
   "cell_type": "code",
   "execution_count": 3,
   "id": "9004fc24-56b8-4385-bf9c-3add229af092",
   "metadata": {},
   "outputs": [
    {
     "data": {
      "text/plain": [
       "<Axes: xlabel='group', ylabel='count'>"
      ]
     },
     "execution_count": 3,
     "metadata": {},
     "output_type": "execute_result"
    },
    {
     "data": {
      "image/png": "[encoded data removed]",
      "text/plain": [
       "<Figure size 640x480 with 1 Axes>"
      ]
     },
     "metadata": {},
     "output_type": "display_data"
    }
   ],
   "source": [
    "sns.countplot(x=df['group'], hue=df[\"label\"])"
   ]
  },
  {
   "cell_type": "code",
   "execution_count": 4,
   "id": "3c161f8a-4716-417b-b737-c541ab60b907",
   "metadata": {},
   "outputs": [],
   "source": [
    "d={\"neg\":0, \"pos\":1}\n",
    "df[\"class\"]=df[\"label\"].map(d)"
   ]
  },
  {
   "cell_type": "code",
   "execution_count": 5,
   "id": "dc475b13-98d1-4a1a-82c9-8717ae06043e",
   "metadata": {},
   "outputs": [
    {
     "data": {
      "text/html": [
       "<div>\n",
       "<style scoped>\n",
       "    .dataframe tbody tr th:only-of-type {\n",
       "        vertical-align: middle;\n",
       "    }\n",
       "\n",
       "    .dataframe tbody tr th {\n",
       "        vertical-align: top;\n",
       "    }\n",
       "\n",
       "    .dataframe thead th {\n",
       "        text-align: right;\n",
       "    }\n",
       "</style>\n",
       "<table border=\"1\" class=\"dataframe\">\n",
       "  <thead>\n",
       "    <tr style=\"text-align: right;\">\n",
       "      <th></th>\n",
       "      <th>Unnamed: 0</th>\n",
       "      <th>group</th>\n",
       "      <th>txt</th>\n",
       "      <th>label</th>\n",
       "      <th>class</th>\n",
       "    </tr>\n",
       "  </thead>\n",
       "  <tbody>\n",
       "    <tr>\n",
       "      <th>0</th>\n",
       "      <td>0</td>\n",
       "      <td>train</td>\n",
       "      <td>Bromwell High is a cartoon comedy. It ran at t...</td>\n",
       "      <td>pos</td>\n",
       "      <td>1</td>\n",
       "    </tr>\n",
       "    <tr>\n",
       "      <th>1</th>\n",
       "      <td>1</td>\n",
       "      <td>train</td>\n",
       "      <td>Homelessness (or Houselessness as George Carli...</td>\n",
       "      <td>pos</td>\n",
       "      <td>1</td>\n",
       "    </tr>\n",
       "    <tr>\n",
       "      <th>2</th>\n",
       "      <td>2</td>\n",
       "      <td>train</td>\n",
       "      <td>Brilliant over-acting by Lesley Ann Warren. Be...</td>\n",
       "      <td>pos</td>\n",
       "      <td>1</td>\n",
       "    </tr>\n",
       "    <tr>\n",
       "      <th>3</th>\n",
       "      <td>3</td>\n",
       "      <td>train</td>\n",
       "      <td>This is easily the most underrated film inn th...</td>\n",
       "      <td>pos</td>\n",
       "      <td>1</td>\n",
       "    </tr>\n",
       "    <tr>\n",
       "      <th>4</th>\n",
       "      <td>4</td>\n",
       "      <td>train</td>\n",
       "      <td>This is not the typical Mel Brooks film. It wa...</td>\n",
       "      <td>pos</td>\n",
       "      <td>1</td>\n",
       "    </tr>\n",
       "  </tbody>\n",
       "</table>\n",
       "</div>"
      ],
      "text/plain": [
       "   Unnamed: 0  group                                                txt label  \\\n",
       "0           0  train  Bromwell High is a cartoon comedy. It ran at t...   pos   \n",
       "1           1  train  Homelessness (or Houselessness as George Carli...   pos   \n",
       "2           2  train  Brilliant over-acting by Lesley Ann Warren. Be...   pos   \n",
       "3           3  train  This is easily the most underrated film inn th...   pos   \n",
       "4           4  train  This is not the typical Mel Brooks film. It wa...   pos   \n",
       "\n",
       "   class  \n",
       "0      1  \n",
       "1      1  \n",
       "2      1  \n",
       "3      1  \n",
       "4      1  "
      ]
     },
     "execution_count": 5,
     "metadata": {},
     "output_type": "execute_result"
    }
   ],
   "source": [
    "df.head()"
   ]
  },
  {
   "cell_type": "code",
   "execution_count": 6,
   "id": "d566ae50-2b1f-454b-8f87-d086eca9716d",
   "metadata": {},
   "outputs": [],
   "source": [
    "# Verileri önce karıştırıp sonra train test olarak yeniden sıralayalım\n",
    "df = df.sample(frac=1)  # frac=1 tüm satırları karıştırır\n",
    "df = df.sort_values(by=\"group\")\n",
    "df=df.reset_index(drop=True)"
   ]
  },
  {
   "cell_type": "code",
   "execution_count": 7,
   "id": "76f61e01-a582-470e-942c-a8b94bc056cc",
   "metadata": {},
   "outputs": [
    {
     "data": {
      "text/html": [
       "<div>\n",
       "<style scoped>\n",
       "    .dataframe tbody tr th:only-of-type {\n",
       "        vertical-align: middle;\n",
       "    }\n",
       "\n",
       "    .dataframe tbody tr th {\n",
       "        vertical-align: top;\n",
       "    }\n",
       "\n",
       "    .dataframe thead th {\n",
       "        text-align: right;\n",
       "    }\n",
       "</style>\n",
       "<table border=\"1\" class=\"dataframe\">\n",
       "  <thead>\n",
       "    <tr style=\"text-align: right;\">\n",
       "      <th></th>\n",
       "      <th>Unnamed: 0</th>\n",
       "      <th>group</th>\n",
       "      <th>txt</th>\n",
       "      <th>label</th>\n",
       "      <th>class</th>\n",
       "    </tr>\n",
       "  </thead>\n",
       "  <tbody>\n",
       "    <tr>\n",
       "      <th>0</th>\n",
       "      <td>41239</td>\n",
       "      <td>test</td>\n",
       "      <td>Will Spanner (David Byrnes, the fifth actor to...</td>\n",
       "      <td>neg</td>\n",
       "      <td>0</td>\n",
       "    </tr>\n",
       "    <tr>\n",
       "      <th>1</th>\n",
       "      <td>42652</td>\n",
       "      <td>test</td>\n",
       "      <td>I would like to know who conned the producers ...</td>\n",
       "      <td>neg</td>\n",
       "      <td>0</td>\n",
       "    </tr>\n",
       "    <tr>\n",
       "      <th>2</th>\n",
       "      <td>25970</td>\n",
       "      <td>test</td>\n",
       "      <td>I don't know if I'd go as far as to say that t...</td>\n",
       "      <td>pos</td>\n",
       "      <td>1</td>\n",
       "    </tr>\n",
       "    <tr>\n",
       "      <th>3</th>\n",
       "      <td>48265</td>\n",
       "      <td>test</td>\n",
       "      <td>This is supposed to be based on Wilkie Collins...</td>\n",
       "      <td>neg</td>\n",
       "      <td>0</td>\n",
       "    </tr>\n",
       "    <tr>\n",
       "      <th>4</th>\n",
       "      <td>32750</td>\n",
       "      <td>test</td>\n",
       "      <td>The Elegant Documentary -&lt;br /&gt;&lt;br /&gt;Don't wat...</td>\n",
       "      <td>pos</td>\n",
       "      <td>1</td>\n",
       "    </tr>\n",
       "  </tbody>\n",
       "</table>\n",
       "</div>"
      ],
      "text/plain": [
       "   Unnamed: 0 group                                                txt label  \\\n",
       "0       41239  test  Will Spanner (David Byrnes, the fifth actor to...   neg   \n",
       "1       42652  test  I would like to know who conned the producers ...   neg   \n",
       "2       25970  test  I don't know if I'd go as far as to say that t...   pos   \n",
       "3       48265  test  This is supposed to be based on Wilkie Collins...   neg   \n",
       "4       32750  test  The Elegant Documentary -<br /><br />Don't wat...   pos   \n",
       "\n",
       "   class  \n",
       "0      0  \n",
       "1      0  \n",
       "2      1  \n",
       "3      0  \n",
       "4      1  "
      ]
     },
     "execution_count": 7,
     "metadata": {},
     "output_type": "execute_result"
    }
   ],
   "source": [
    "df.head()"
   ]
  },
  {
   "cell_type": "code",
   "execution_count": 8,
   "id": "590b8e57-9c5b-4eff-a529-ee07a5b7cb42",
   "metadata": {},
   "outputs": [],
   "source": [
    "def clean_text(text):\n",
    "    text=text.str.lower()\n",
    "    text=text.str.replace('[^\\w\\s]', '', regex=True)\n",
    "    text=text.str.replace('\\d+', '', regex=True)\n",
    "    text=text.str.replace('\\n', '', regex=True)\n",
    "    text=text.str.replace('\\r', '', regex=True)\n",
    "    text=text.str.strip()\n",
    "    return text"
   ]
  },
  {
   "cell_type": "code",
   "execution_count": 9,
   "id": "30619871-19bb-488a-9b9f-436f4a0d0b1d",
   "metadata": {},
   "outputs": [],
   "source": [
    "from sklearn.feature_extraction.text import CountVectorizer\n",
    "from textblob import TextBlob\n",
    "from nltk.stem import PorterStemmer\n",
    "pr=PorterStemmer()"
   ]
  },
  {
   "cell_type": "code",
   "execution_count": 10,
   "id": "c21e6019-a218-42df-8f75-a28f65812277",
   "metadata": {},
   "outputs": [],
   "source": [
    "def lemmafn(text):\n",
    "    words=TextBlob(text).words\n",
    "    return [pr.stem(word) for word in words]"
   ]
  },
  {
   "cell_type": "code",
   "execution_count": 11,
   "id": "135b6270-d189-43dd-8e8e-beb5b2acefbb",
   "metadata": {},
   "outputs": [],
   "source": [
    "df[\"txt\"]=clean_text(df[\"txt\"])"
   ]
  },
  {
   "cell_type": "code",
   "execution_count": 12,
   "id": "b2e70559-fa26-44b0-acbb-4a1135f44262",
   "metadata": {},
   "outputs": [
    {
     "data": {
      "text/html": [
       "<div>\n",
       "<style scoped>\n",
       "    .dataframe tbody tr th:only-of-type {\n",
       "        vertical-align: middle;\n",
       "    }\n",
       "\n",
       "    .dataframe tbody tr th {\n",
       "        vertical-align: top;\n",
       "    }\n",
       "\n",
       "    .dataframe thead th {\n",
       "        text-align: right;\n",
       "    }\n",
       "</style>\n",
       "<table border=\"1\" class=\"dataframe\">\n",
       "  <thead>\n",
       "    <tr style=\"text-align: right;\">\n",
       "      <th></th>\n",
       "      <th>Unnamed: 0</th>\n",
       "      <th>group</th>\n",
       "      <th>txt</th>\n",
       "      <th>label</th>\n",
       "      <th>class</th>\n",
       "    </tr>\n",
       "  </thead>\n",
       "  <tbody>\n",
       "    <tr>\n",
       "      <th>0</th>\n",
       "      <td>41239</td>\n",
       "      <td>test</td>\n",
       "      <td>will spanner david byrnes the fifth actor to p...</td>\n",
       "      <td>neg</td>\n",
       "      <td>0</td>\n",
       "    </tr>\n",
       "    <tr>\n",
       "      <th>1</th>\n",
       "      <td>42652</td>\n",
       "      <td>test</td>\n",
       "      <td>i would like to know who conned the producers ...</td>\n",
       "      <td>neg</td>\n",
       "      <td>0</td>\n",
       "    </tr>\n",
       "    <tr>\n",
       "      <th>2</th>\n",
       "      <td>25970</td>\n",
       "      <td>test</td>\n",
       "      <td>i dont know if id go as far as to say that thi...</td>\n",
       "      <td>pos</td>\n",
       "      <td>1</td>\n",
       "    </tr>\n",
       "    <tr>\n",
       "      <th>3</th>\n",
       "      <td>48265</td>\n",
       "      <td>test</td>\n",
       "      <td>this is supposed to be based on wilkie collins...</td>\n",
       "      <td>neg</td>\n",
       "      <td>0</td>\n",
       "    </tr>\n",
       "    <tr>\n",
       "      <th>4</th>\n",
       "      <td>32750</td>\n",
       "      <td>test</td>\n",
       "      <td>the elegant documentary br br dont watch this ...</td>\n",
       "      <td>pos</td>\n",
       "      <td>1</td>\n",
       "    </tr>\n",
       "  </tbody>\n",
       "</table>\n",
       "</div>"
      ],
      "text/plain": [
       "   Unnamed: 0 group                                                txt label  \\\n",
       "0       41239  test  will spanner david byrnes the fifth actor to p...   neg   \n",
       "1       42652  test  i would like to know who conned the producers ...   neg   \n",
       "2       25970  test  i dont know if id go as far as to say that thi...   pos   \n",
       "3       48265  test  this is supposed to be based on wilkie collins...   neg   \n",
       "4       32750  test  the elegant documentary br br dont watch this ...   pos   \n",
       "\n",
       "   class  \n",
       "0      0  \n",
       "1      0  \n",
       "2      1  \n",
       "3      0  \n",
       "4      1  "
      ]
     },
     "execution_count": 12,
     "metadata": {},
     "output_type": "execute_result"
    }
   ],
   "source": [
    "df.head()"
   ]
  },
  {
   "cell_type": "code",
   "execution_count": 13,
   "id": "2788e05c-0fbb-42b0-882c-be76a270eba8",
   "metadata": {},
   "outputs": [
    {
     "data": {
      "text/plain": [
       "'the elegant documentary br br dont watch this movie  if youre an egotistical knowall student of physics this much less than one percent miniscule fraction of the population may find that this show just tells them what they have already learned and already knowbr br do watch this movie  if youre one of the massive majority of people that fall into the greater than  of the population that does not study or already have a sound knowledge of the theories of physics including relativity quantum string and mtheorybr br what a brilliantly architected documentary starting with some helpful historical background you will be lead step by elegant step into a universe of pure magic  and dimensions beyond i have always had a huge appreciation of mathematics this movie can easily give you an insight into what an exquisitely beautiful language mathematics is without making you feel like youre about to fail the gradebr br the show is repetitive at times as the original format was a miniseries split over three shows it therefore makes sense to give us polite little reminders of the principles being presented i found this immensely helpful as it kept reminding me of the multitude of questions and possible answers that make up this amazing tapestry of our very existencebr br we are all and everything around us is vibrationalenergy with a natural tendency towards harmony this movie may blow your mind  or at least help you realize that the universe is far far bigger than that which we see around us even with the hubble telescope and far far smaller than the protons and neutrons within the atoms we learned about in highschool mtheory holds many magnificent magnitudes of possibilitybr br it just seemed so appropriate that all of this elegance should by its very nature move by admission by the many brilliant scientists presenting out of the realm of science and into the realm of philisophybr br you do not have to be religious at all to feel like this movie brought you one step closer to godbr br bravo brian greene well done indeedbr br ps if youre interested in feeling even more comfortable and at home in your place in the universe and would like some more insight into the possibilities quantum mechanics blended with spirituality of all things can bring then i highly recommend that you also watch what the bleep  down the rabbit hole yes i know they make a few silly mistakes by suggesting a shaman may not be able to see a boat if he hasnt seen one before my eyes process light reflections just fine  i see things everyday that ive never seen before and brain cells are cells in the body that actually dont divide but if you can get over these little hurdles and put down the things you dont like and hang on to those that you do  there is a lot to like about this filmbr br then watch the secret  documentary about the law of attraction  search for imdb title tt this information just might change your life profoundly  forever if you search deeper you might even find the universe is talking to us with thought if youll listen  and some are  and that is truly incredible there is a modern day jesusmohammadbuddha those among others that history suggests have communicated with the nonphysical alive today and she lives in texas i know some of you know what im talking aboutbr br i do not consider myself religious by any traditional definition but i have never felt more at home or as comfortable in the universe as i do now'"
      ]
     },
     "execution_count": 13,
     "metadata": {},
     "output_type": "execute_result"
    }
   ],
   "source": [
    "df.iloc[4][\"txt\"]"
   ]
  },
  {
   "cell_type": "markdown",
   "id": "2aae79b4-cfcb-4c6c-88a1-b03662c421ef",
   "metadata": {},
   "source": [
    "### Veri Azaltma\n",
    "50000 adet veri derin öğrenme için çok fazla geldi. Her bir epoch 110 saat süre verdi. Bu yüzden veri %10'a düşürüldü. Buna rağmen eğitim yaklaşık 14 saat sürdü."
   ]
  },
  {
   "cell_type": "code",
   "execution_count": 14,
   "id": "3b7db011-14a4-4dc2-ab4a-6d5e28c46707",
   "metadata": {},
   "outputs": [],
   "source": [
    "train_pos = df[(df[\"group\"]==\"train\") & (df[\"class\"]==1)].sample(1250)\n",
    "train_neg = df[(df[\"group\"]==\"train\") & (df[\"class\"]==0)].sample(1250)\n",
    "test_pos = df[(df[\"group\"]==\"test\") & (df[\"class\"]==1)].sample(1250)\n",
    "test_neg = df[(df[\"group\"]==\"test\") & (df[\"class\"]==0)].sample(1250)\n",
    "train=pd.concat([train_pos, train_neg])\n",
    "train=train.reset_index(drop=True)\n",
    "test=pd.concat([test_pos, test_neg])\n",
    "test=test.reset_index(drop=True)\n",
    "df=pd.concat([train, test])\n",
    "df=df.reset_index(drop=True)"
   ]
  },
  {
   "cell_type": "code",
   "execution_count": 15,
   "id": "5f316df4-e741-4b4d-81a6-9e789afdffb1",
   "metadata": {},
   "outputs": [
    {
     "data": {
      "text/html": [
       "<div>\n",
       "<style scoped>\n",
       "    .dataframe tbody tr th:only-of-type {\n",
       "        vertical-align: middle;\n",
       "    }\n",
       "\n",
       "    .dataframe tbody tr th {\n",
       "        vertical-align: top;\n",
       "    }\n",
       "\n",
       "    .dataframe thead th {\n",
       "        text-align: right;\n",
       "    }\n",
       "</style>\n",
       "<table border=\"1\" class=\"dataframe\">\n",
       "  <thead>\n",
       "    <tr style=\"text-align: right;\">\n",
       "      <th></th>\n",
       "      <th>Unnamed: 0</th>\n",
       "      <th>group</th>\n",
       "      <th>txt</th>\n",
       "      <th>label</th>\n",
       "      <th>class</th>\n",
       "    </tr>\n",
       "  </thead>\n",
       "  <tbody>\n",
       "    <tr>\n",
       "      <th>0</th>\n",
       "      <td>12426</td>\n",
       "      <td>train</td>\n",
       "      <td>my name is domino harvery edit dizzying chop m...</td>\n",
       "      <td>pos</td>\n",
       "      <td>1</td>\n",
       "    </tr>\n",
       "    <tr>\n",
       "      <th>1</th>\n",
       "      <td>8807</td>\n",
       "      <td>train</td>\n",
       "      <td>i really didnt expect much from this movie but...</td>\n",
       "      <td>pos</td>\n",
       "      <td>1</td>\n",
       "    </tr>\n",
       "    <tr>\n",
       "      <th>2</th>\n",
       "      <td>2502</td>\n",
       "      <td>train</td>\n",
       "      <td>ive really enjoyed this adaptation of emmai ha...</td>\n",
       "      <td>pos</td>\n",
       "      <td>1</td>\n",
       "    </tr>\n",
       "    <tr>\n",
       "      <th>3</th>\n",
       "      <td>9742</td>\n",
       "      <td>train</td>\n",
       "      <td>the notorious bettie page   gretchen mol lilli...</td>\n",
       "      <td>pos</td>\n",
       "      <td>1</td>\n",
       "    </tr>\n",
       "    <tr>\n",
       "      <th>4</th>\n",
       "      <td>103</td>\n",
       "      <td>train</td>\n",
       "      <td>a beautiful shopgirl in london is swept off he...</td>\n",
       "      <td>pos</td>\n",
       "      <td>1</td>\n",
       "    </tr>\n",
       "  </tbody>\n",
       "</table>\n",
       "</div>"
      ],
      "text/plain": [
       "   Unnamed: 0  group                                                txt label  \\\n",
       "0       12426  train  my name is domino harvery edit dizzying chop m...   pos   \n",
       "1        8807  train  i really didnt expect much from this movie but...   pos   \n",
       "2        2502  train  ive really enjoyed this adaptation of emmai ha...   pos   \n",
       "3        9742  train  the notorious bettie page   gretchen mol lilli...   pos   \n",
       "4         103  train  a beautiful shopgirl in london is swept off he...   pos   \n",
       "\n",
       "   class  \n",
       "0      1  \n",
       "1      1  \n",
       "2      1  \n",
       "3      1  \n",
       "4      1  "
      ]
     },
     "execution_count": 15,
     "metadata": {},
     "output_type": "execute_result"
    }
   ],
   "source": [
    "train.head()"
   ]
  },
  {
   "cell_type": "code",
   "execution_count": 16,
   "id": "5de8fe7d-7fbf-4f6e-a4d9-df89132a36d9",
   "metadata": {},
   "outputs": [
    {
     "data": {
      "text/html": [
       "<div>\n",
       "<style scoped>\n",
       "    .dataframe tbody tr th:only-of-type {\n",
       "        vertical-align: middle;\n",
       "    }\n",
       "\n",
       "    .dataframe tbody tr th {\n",
       "        vertical-align: top;\n",
       "    }\n",
       "\n",
       "    .dataframe thead th {\n",
       "        text-align: right;\n",
       "    }\n",
       "</style>\n",
       "<table border=\"1\" class=\"dataframe\">\n",
       "  <thead>\n",
       "    <tr style=\"text-align: right;\">\n",
       "      <th></th>\n",
       "      <th>Unnamed: 0</th>\n",
       "      <th>group</th>\n",
       "      <th>txt</th>\n",
       "      <th>label</th>\n",
       "      <th>class</th>\n",
       "    </tr>\n",
       "  </thead>\n",
       "  <tbody>\n",
       "    <tr>\n",
       "      <th>0</th>\n",
       "      <td>33866</td>\n",
       "      <td>test</td>\n",
       "      <td>so after years and years i finally track this ...</td>\n",
       "      <td>pos</td>\n",
       "      <td>1</td>\n",
       "    </tr>\n",
       "    <tr>\n",
       "      <th>1</th>\n",
       "      <td>26054</td>\n",
       "      <td>test</td>\n",
       "      <td>one should not be too critical about the direc...</td>\n",
       "      <td>pos</td>\n",
       "      <td>1</td>\n",
       "    </tr>\n",
       "    <tr>\n",
       "      <th>2</th>\n",
       "      <td>36448</td>\n",
       "      <td>test</td>\n",
       "      <td>hick trek is clearly a film that is envious of...</td>\n",
       "      <td>pos</td>\n",
       "      <td>1</td>\n",
       "    </tr>\n",
       "    <tr>\n",
       "      <th>3</th>\n",
       "      <td>29315</td>\n",
       "      <td>test</td>\n",
       "      <td>chris penn is hilarious as the alltime stoner ...</td>\n",
       "      <td>pos</td>\n",
       "      <td>1</td>\n",
       "    </tr>\n",
       "    <tr>\n",
       "      <th>4</th>\n",
       "      <td>35838</td>\n",
       "      <td>test</td>\n",
       "      <td>i first saw this one when it was first shown s...</td>\n",
       "      <td>pos</td>\n",
       "      <td>1</td>\n",
       "    </tr>\n",
       "  </tbody>\n",
       "</table>\n",
       "</div>"
      ],
      "text/plain": [
       "   Unnamed: 0 group                                                txt label  \\\n",
       "0       33866  test  so after years and years i finally track this ...   pos   \n",
       "1       26054  test  one should not be too critical about the direc...   pos   \n",
       "2       36448  test  hick trek is clearly a film that is envious of...   pos   \n",
       "3       29315  test  chris penn is hilarious as the alltime stoner ...   pos   \n",
       "4       35838  test  i first saw this one when it was first shown s...   pos   \n",
       "\n",
       "   class  \n",
       "0      1  \n",
       "1      1  \n",
       "2      1  \n",
       "3      1  \n",
       "4      1  "
      ]
     },
     "execution_count": 16,
     "metadata": {},
     "output_type": "execute_result"
    }
   ],
   "source": [
    "test.head()"
   ]
  },
  {
   "cell_type": "code",
   "execution_count": 17,
   "id": "abdbb949-e17b-409f-9ebe-135dfdefdd57",
   "metadata": {},
   "outputs": [
    {
     "data": {
      "text/plain": [
       "(2500, 2500, 2500, 2500)"
      ]
     },
     "execution_count": 17,
     "metadata": {},
     "output_type": "execute_result"
    }
   ],
   "source": [
    "x_train=train[\"txt\"]\n",
    "y_train=train[\"class\"]\n",
    "x_test=test[\"txt\"]\n",
    "y_test=test[\"class\"]\n",
    "len(x_train), len(y_train), len(x_test), len(y_test)"
   ]
  },
  {
   "cell_type": "code",
   "execution_count": 18,
   "id": "d8da164d-882f-4031-8f15-bf5cc31deb49",
   "metadata": {},
   "outputs": [],
   "source": [
    "vect=CountVectorizer(stop_words=\"english\", analyzer=lemmafn)"
   ]
  },
  {
   "cell_type": "code",
   "execution_count": 19,
   "id": "bff9c92e-3f3e-4c00-9cf3-262d5818c39a",
   "metadata": {},
   "outputs": [
    {
     "name": "stderr",
     "output_type": "stream",
     "text": [
      "C:\\ProgramData\\anaconda3\\Lib\\site-packages\\sklearn\\feature_extraction\\text.py:550: UserWarning: The parameter 'stop_words' will not be used since 'analyzer' != 'word'\n",
      "  warnings.warn(\n"
     ]
    }
   ],
   "source": [
    "x_train=vect.fit_transform(x_train)"
   ]
  },
  {
   "cell_type": "code",
   "execution_count": 20,
   "id": "70f930a8-0a30-4002-89d3-80e9c2c3a3fc",
   "metadata": {},
   "outputs": [],
   "source": [
    "x_test=vect.fit_transform(x_test)"
   ]
  },
  {
   "cell_type": "markdown",
   "id": "960b1a07-887e-4520-a3d6-fb24de0d6e84",
   "metadata": {},
   "source": [
    "## Modelleme"
   ]
  },
  {
   "cell_type": "code",
   "execution_count": 21,
   "id": "ce6e4566-326e-4249-b59e-8c8dfb9418be",
   "metadata": {},
   "outputs": [],
   "source": [
    "import tensorflow as tf\n",
    "from keras.models import Sequential\n",
    "from keras.layers import Embedding, LSTM, Dense\n",
    "from tensorflow.keras.preprocessing.text import Tokenizer"
   ]
  },
  {
   "cell_type": "code",
   "execution_count": 22,
   "id": "4e6a19ce-0147-424d-bc49-d9aab9d542ef",
   "metadata": {},
   "outputs": [
    {
     "data": {
      "text/plain": [
       "51203"
      ]
     },
     "execution_count": 22,
     "metadata": {},
     "output_type": "execute_result"
    }
   ],
   "source": [
    "tokenizer = Tokenizer()\n",
    "tokenizer.fit_on_texts(df[\"txt\"])  # all_texts, veri setinizdeki tüm metinleri içeren liste\n",
    "vocabulary_size = len(tokenizer.word_index) + 1\n",
    "vocabulary_size"
   ]
  },
  {
   "cell_type": "code",
   "execution_count": 23,
   "id": "3ce180c5-ed31-4e0c-815f-3e4a576e3d30",
   "metadata": {},
   "outputs": [
    {
     "data": {
      "text/plain": [
       "1577"
      ]
     },
     "execution_count": 23,
     "metadata": {},
     "output_type": "execute_result"
    }
   ],
   "source": [
    "sequence_lengths = [len(text.split()) for text in df[\"txt\"]]  # all_texts, veri setinizdeki tüm metinleri içeren liste\n",
    "max_sequence_length = max(sequence_lengths)\n",
    "max_sequence_length"
   ]
  },
  {
   "cell_type": "code",
   "execution_count": 24,
   "id": "5a79d93c-24fa-4cb7-87a7-60b0fea68900",
   "metadata": {},
   "outputs": [
    {
     "name": "stderr",
     "output_type": "stream",
     "text": [
      "C:\\ProgramData\\anaconda3\\Lib\\site-packages\\keras\\src\\layers\\core\\embedding.py:81: UserWarning: Do not pass an `input_shape`/`input_dim` argument to a layer. When using Sequential models, prefer using an `Input(shape)` object as the first layer in the model instead.\n",
      "  super().__init__(**kwargs)\n"
     ]
    }
   ],
   "source": [
    "model = Sequential()\n",
    "model.add(Embedding(input_dim=vocabulary_size, output_dim=100, input_shape=(max_sequence_length,)))\n",
    "model.add(LSTM(units=128))\n",
    "model.add(Dense(units=1, activation='sigmoid'))\n",
    "\n",
    "model.compile(loss='binary_crossentropy', optimizer='adam', metrics=['accuracy'])"
   ]
  },
  {
   "cell_type": "code",
   "execution_count": 25,
   "id": "ba669865-1e91-45b7-9cf7-3d2876d0af19",
   "metadata": {},
   "outputs": [
    {
     "name": "stdout",
     "output_type": "stream",
     "text": [
      "Epoch 1/10\n",
      "\u001b[1m79/79\u001b[0m \u001b[32m━━━━━━━━━━━━━━━━━━━━\u001b[0m\u001b[37m\u001b[0m \u001b[1m3780s\u001b[0m 48s/step - accuracy: 0.4991 - loss: 0.6947 - val_accuracy: 0.5000 - val_loss: 0.6944\n",
      "Epoch 2/10\n",
      "\u001b[1m79/79\u001b[0m \u001b[32m━━━━━━━━━━━━━━━━━━━━\u001b[0m\u001b[37m\u001b[0m \u001b[1m4113s\u001b[0m 52s/step - accuracy: 0.5141 - loss: 0.6932 - val_accuracy: 0.5000 - val_loss: 0.6931\n",
      "Epoch 3/10\n",
      "\u001b[1m79/79\u001b[0m \u001b[32m━━━━━━━━━━━━━━━━━━━━\u001b[0m\u001b[37m\u001b[0m \u001b[1m4715s\u001b[0m 60s/step - accuracy: 0.5008 - loss: 0.6937 - val_accuracy: 0.5000 - val_loss: 0.6931\n",
      "Epoch 4/10\n",
      "\u001b[1m79/79\u001b[0m \u001b[32m━━━━━━━━━━━━━━━━━━━━\u001b[0m\u001b[37m\u001b[0m \u001b[1m4997s\u001b[0m 64s/step - accuracy: 0.5076 - loss: 0.6931 - val_accuracy: 0.5004 - val_loss: 0.6932\n",
      "Epoch 5/10\n",
      "\u001b[1m79/79\u001b[0m \u001b[32m━━━━━━━━━━━━━━━━━━━━\u001b[0m\u001b[37m\u001b[0m \u001b[1m5024s\u001b[0m 64s/step - accuracy: 0.4849 - loss: 0.6935 - val_accuracy: 0.5000 - val_loss: 0.6931\n",
      "Epoch 6/10\n",
      "\u001b[1m79/79\u001b[0m \u001b[32m━━━━━━━━━━━━━━━━━━━━\u001b[0m\u001b[37m\u001b[0m \u001b[1m5090s\u001b[0m 65s/step - accuracy: 0.5000 - loss: 0.6933 - val_accuracy: 0.4996 - val_loss: 0.6931\n",
      "Epoch 7/10\n",
      "\u001b[1m79/79\u001b[0m \u001b[32m━━━━━━━━━━━━━━━━━━━━\u001b[0m\u001b[37m\u001b[0m \u001b[1m5195s\u001b[0m 66s/step - accuracy: 0.5008 - loss: 0.6932 - val_accuracy: 0.4996 - val_loss: 0.6931\n",
      "Epoch 8/10\n",
      "\u001b[1m79/79\u001b[0m \u001b[32m━━━━━━━━━━━━━━━━━━━━\u001b[0m\u001b[37m\u001b[0m \u001b[1m5252s\u001b[0m 67s/step - accuracy: 0.5088 - loss: 0.6932 - val_accuracy: 0.5004 - val_loss: 0.6932\n",
      "Epoch 9/10\n",
      "\u001b[1m79/79\u001b[0m \u001b[32m━━━━━━━━━━━━━━━━━━━━\u001b[0m\u001b[37m\u001b[0m \u001b[1m5376s\u001b[0m 68s/step - accuracy: 0.5117 - loss: 0.6931 - val_accuracy: 0.5000 - val_loss: 0.6931\n",
      "Epoch 10/10\n",
      "\u001b[1m79/79\u001b[0m \u001b[32m━━━━━━━━━━━━━━━━━━━━\u001b[0m\u001b[37m\u001b[0m \u001b[1m5452s\u001b[0m 69s/step - accuracy: 0.4856 - loss: 0.6931 - val_accuracy: 0.5012 - val_loss: 0.6932\n"
     ]
    },
    {
     "data": {
      "text/plain": [
       "<keras.src.callbacks.history.History at 0x1b08dc749d0>"
      ]
     },
     "execution_count": 25,
     "metadata": {},
     "output_type": "execute_result"
    }
   ],
   "source": [
    "model.fit(x_train, y_train, epochs=10, batch_size=32, validation_data=(x_test, y_test), verbose=1)"
   ]
  },
  {
   "cell_type": "code",
   "execution_count": 88,
   "id": "ce0c9c02-928f-4691-ad93-393342dc65e6",
   "metadata": {},
   "outputs": [],
   "source": [
    "posstr1=\"\"\"Bromwell High is a cartoon comedy. It ran at the same time as some other programs about school life, such as \"\"Teachers\"\". \n",
    "My 35 years in the teaching profession lead me to believe that Bromwell High's satire is much closer to reality than is \"\"Teachers\"\". \n",
    "The scramble to survive financially, the insightful students who can see right through their pathetic teachers' pomp, the pettiness of the whole situation,\n",
    "all remind me of the schools I knew and their students. When I saw the episode in which a student repeatedly tried to burn down the school,\n",
    "I immediately recalled ......... at .......... High. \n",
    "A classic line: INSPECTOR: I'm here to sack one of your teachers. STUDENT: Welcome to Bromwell High. \n",
    "I expect that many adults of my age think that Bromwell High is far fetched. What a pity that it isn't!\"\"\"\n"
   ]
  },
  {
   "cell_type": "code",
   "execution_count": 45,
   "id": "45d8f585-f7ef-4ce2-a9cc-e7650b48b832",
   "metadata": {},
   "outputs": [],
   "source": [
    "str=\"\"\"Homelessness (or Houselessness as George Carlin stated) has been an issue for years but never a plan to help those on the street \n",
    "that were once considered human who did everything from going to school, work, or vote for the matter. Most people think of the homeless as \n",
    "just a lost cause while worrying about things such as racism, the war on Iraq, pressuring kids to succeed, technology, the elections, inflation,\n",
    "or worrying if they'll be next to end up on the streets.<br /><br />But what if you were given a bet to live on the streets for a month without\n",
    "the luxuries you once had from a home, the entertainment sets, a bathroom, pictures on the wall, a computer, and everything you once treasure \n",
    "to see what it's like to be homeless? That is Goddard Bolt's lesson.<br /><br />Mel Brooks (who directs) who stars as Bolt plays a rich man who\n",
    "has everything in the world until deciding to make a bet with a sissy rival (Jeffery Tambor) to see if he can live in the streets for thirty days\n",
    "without the luxuries; if Bolt succeeds, he can do what he wants with a future project of making more buildings. The bet's on where Bolt is thrown \n",
    "on the street with a bracelet on his leg to monitor his every move where he can't step off the sidewalk. He's given the nickname Pepto by a \n",
    "vagrant after it's written on his forehead where Bolt meets other characters including a woman by the name of Molly (Lesley Ann Warren) \n",
    "an ex-dancer who got divorce before losing her home, and her pals Sailor (Howard Morris) and Fumes (Teddy Wilson) who are already used \n",
    "to the streets. They're survivors. Bolt isn't. He's not used to reaching mutual agreements like he once did when being rich where it's \n",
    "fight or flight, kill or be killed.<br /><br />While the love connection between Molly and Bolt wasn't necessary to plot, I found \"\"Life \n",
    "Stinks\"\" to be one of Mel Brooks' observant films where prior to being a comedy, it shows a tender side compared to his slapstick work \n",
    "such as Blazing Saddles, Young Frankenstein, or Spaceballs for the matter, to show what it's like having something valuable before losing \n",
    "it the next day or on the other hand making a stupid bet like all rich people do when they don't know what to do with their money. Maybe\n",
    "they should give it to the homeless instead of using it like Monopoly money.<br /><br />Or maybe this film will inspire you to help others.\n",
    "\"\"\""
   ]
  },
  {
   "cell_type": "code",
   "execution_count": 61,
   "id": "f6931123-172e-441d-be80-0c6b2493d9d1",
   "metadata": {},
   "outputs": [],
   "source": [
    "str=\"The movie Titanic makes it much more then just a \"\"night to remember.\"\" It re writes a tragic history event that will always be talked about and will never been forgotten. Why so criticised? I have no idea. Could/will they ever make a movie like Titanic that is so moving and touching every time you watch it. Could they ever replace such an epic masterpiece. It will be almost impossible.<br /><br />The director no doubt had the major impact on the film. A simple disaster film (boring to watch) converted to an unbelievable romance. Yes I'm not the Romance type either, but that should not bother you, because you will never see a romance like this. Guaranteed! Everything to the amazing effects, to the music, to the sublime acting. <br /><br />The movie creates an amazing visual and a wonderful feeling. Everything looks very real and live. The legend herself \"\"TITANIC\"\" is shown brilliantly in all classes, too looks, too accommodation. The acting was the real effect. Dicaprio and Winslet are simply the best at playing there roles. No one could have done better. They are partly the reason why the film is so great. <br /><br />I guess it's not too much to talk about. The plot is simple, The acting is brilliant, based on a true story, Probably more then half of the consumers that watch the film will share tears, thanks to un imaginable ending which can never be forgotten. Well if you haven't seen this film your missing out on something Hesterical, and a film to idolise for Hollywood. Could it get better? No. Not at all. The most moving film of all time, don't listen to people, see for yourself then you will understand. A landmark. (don't be surprised if you cry too)\""
   ]
  },
  {
   "cell_type": "code",
   "execution_count": 80,
   "id": "dcd84317-a990-4140-9572-c45c1eb6e1e6",
   "metadata": {},
   "outputs": [],
   "source": [
    "str=\"Story starts slow and nothing funny happens for a while. All the action is in the end, but you won't have to laugh because the movie is funny, but because the story is pathetic.<br /><br />The funniest part is when Harvey 'I'm not Paranoia' Keitel really loses it and the judge starts a massacre. Oscars for this guy!\""
   ]
  },
  {
   "cell_type": "code",
   "execution_count": 81,
   "id": "90ca0a78-81a9-42b3-a816-18613ae6a301",
   "metadata": {},
   "outputs": [
    {
     "data": {
      "text/plain": [
       "\"Story starts slow and nothing funny happens for a while. All the action is in the end, but you won't have to laugh because the movie is funny, but because the story is pathetic.<br /><br />The funniest part is when Harvey 'I'm not Paranoia' Keitel really loses it and the judge starts a massacre. Oscars for this guy!\""
      ]
     },
     "execution_count": 81,
     "metadata": {},
     "output_type": "execute_result"
    }
   ],
   "source": [
    "str"
   ]
  },
  {
   "cell_type": "code",
   "execution_count": 82,
   "id": "4f588e47-ef55-42ba-a573-3ad5676d44e9",
   "metadata": {},
   "outputs": [],
   "source": [
    "str=clean_text(pd.DataFrame({\"txt\":[str]})[\"txt\"])"
   ]
  },
  {
   "cell_type": "code",
   "execution_count": 83,
   "id": "077ecb7d-7295-440a-86e1-42c91f4079ba",
   "metadata": {},
   "outputs": [
    {
     "data": {
      "text/plain": [
       "'story starts slow and nothing funny happens for a while all the action is in the end but you wont have to laugh because the movie is funny but because the story is patheticbr br the funniest part is when harvey im not paranoia keitel really loses it and the judge starts a massacre oscars for this guy'"
      ]
     },
     "execution_count": 83,
     "metadata": {},
     "output_type": "execute_result"
    }
   ],
   "source": [
    "str[0]"
   ]
  },
  {
   "cell_type": "code",
   "execution_count": 84,
   "id": "7c55c93f-1bf3-4f81-80ed-82862402f9f0",
   "metadata": {},
   "outputs": [],
   "source": [
    "str=vect.fit_transform(str)"
   ]
  },
  {
   "cell_type": "code",
   "execution_count": 85,
   "id": "7f7ce2da-2090-49cc-b7fa-da59d78c1f1c",
   "metadata": {},
   "outputs": [
    {
     "data": {
      "text/plain": [
       "<1x42 sparse matrix of type '<class 'numpy.int64'>'\n",
       "\twith 42 stored elements in Compressed Sparse Row format>"
      ]
     },
     "execution_count": 85,
     "metadata": {},
     "output_type": "execute_result"
    }
   ],
   "source": [
    "str"
   ]
  },
  {
   "cell_type": "code",
   "execution_count": 86,
   "id": "7d3025be-176f-41bf-bbde-79ed74949e5b",
   "metadata": {},
   "outputs": [
    {
     "name": "stdout",
     "output_type": "stream",
     "text": [
      "\u001b[1m1/1\u001b[0m \u001b[32m━━━━━━━━━━━━━━━━━━━━\u001b[0m\u001b[37m\u001b[0m \u001b[1m0s\u001b[0m 40ms/step\n"
     ]
    },
    {
     "data": {
      "text/plain": [
       "array([[0.5445316]], dtype=float32)"
      ]
     },
     "execution_count": 86,
     "metadata": {},
     "output_type": "execute_result"
    }
   ],
   "source": [
    "pred=model.predict(str)\n",
    "pred"
   ]
  },
  {
   "cell_type": "code",
   "execution_count": 87,
   "id": "4137c01c-8712-4752-94b7-3dc4c4603729",
   "metadata": {},
   "outputs": [
    {
     "data": {
      "text/plain": [
       "1.0"
      ]
     },
     "execution_count": 87,
     "metadata": {},
     "output_type": "execute_result"
    }
   ],
   "source": [
    "np.round(pred[0][0])"
   ]
  },
  {
   "cell_type": "markdown",
   "id": "bbcda834-fee8-44e0-b325-e99e72448f29",
   "metadata": {},
   "source": [
    "### Sonuç:\n",
    "IMDB üzerinden yapılan film yorumları kullanılarak sentiment analizi yapan derin öğrenme modeli geliştirildi. \n",
    "Normalde bu model makine öğrenmesi ile çok hızlı sonuçlanmasına rağmen derin öğrenmede çok fazla zaman aldı. Buna rağmen orta düzey bir başarı elde edildi. Başarıyı artırmak için kullanılacak yöntemler aynı zamanda eğitim zamanını da artıracağı için eldeki mevcut makine imkanları ile bu haliyle yetinmek durumunda kalındı. Model hem kaggle hem de colab üzerinde denenmesine rağmen süre açısından bir farklılık görülmedi. Buna rağmen bu proje oldukça deneyim kazandırdır."
   ]
  },
  {
   "cell_type": "code",
   "execution_count": null,
   "id": "25cc8fd3-187f-4a7c-a186-172bb97d2a03",
   "metadata": {},
   "outputs": [],
   "source": []
  }
 ],
 "metadata": {
  "kernelspec": {
   "display_name": "Python 3 (ipykernel)",
   "language": "python",
   "name": "python3"
  },
  "language_info": {
   "codemirror_mode": {
    "name": "ipython",
    "version": 3
   },
   "file_extension": ".py",
   "mimetype": "text/x-python",
   "name": "python",
   "nbconvert_exporter": "python",
   "pygments_lexer": "ipython3",
   "version": "3.11.7"
  }
 },
 "nbformat": 4,
 "nbformat_minor": 5
}
