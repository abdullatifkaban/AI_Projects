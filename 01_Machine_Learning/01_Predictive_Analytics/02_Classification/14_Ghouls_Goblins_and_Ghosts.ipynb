{
 "cells": [
  {
   "cell_type": "code",
   "execution_count": 1,
   "metadata": {
    "_cell_guid": "b1076dfc-b9ad-4769-8c92-a6c4dae69d19",
    "_uuid": "8f2839f25d086af736a60e9eeb907d3b93b6e0e5",
    "execution": {
     "iopub.execute_input": "2024-05-28T08:05:56.472059Z",
     "iopub.status.busy": "2024-05-28T08:05:56.471298Z",
     "iopub.status.idle": "2024-05-28T08:05:57.331367Z",
     "shell.execute_reply": "2024-05-28T08:05:57.330278Z",
     "shell.execute_reply.started": "2024-05-28T08:05:56.472028Z"
    },
    "trusted": true
   },
   "outputs": [
    {
     "name": "stdout",
     "output_type": "stream",
     "text": [
      "/kaggle/input/ghouls-goblins-and-ghosts-boo/train.csv.zip\n",
      "/kaggle/input/ghouls-goblins-and-ghosts-boo/sample_submission.csv.zip\n",
      "/kaggle/input/ghouls-goblins-and-ghosts-boo/test.csv.zip\n"
     ]
    }
   ],
   "source": [
    "# This Python 3 environment comes with many helpful analytics libraries installed\n",
    "# It is defined by the kaggle/python Docker image: https://github.com/kaggle/docker-python\n",
    "# For example, here's several helpful packages to load\n",
    "\n",
    "import numpy as np # linear algebra\n",
    "import pandas as pd # data processing, CSV file I/O (e.g. pd.read_csv)\n",
    "\n",
    "# Input data files are available in the read-only \"../input/\" directory\n",
    "# For example, running this (by clicking run or pressing Shift+Enter) will list all files under the input directory\n",
    "\n",
    "import os\n",
    "for dirname, _, filenames in os.walk('/kaggle/input'):\n",
    "    for filename in filenames:\n",
    "        print(os.path.join(dirname, filename))\n",
    "\n",
    "# You can write up to 20GB to the current directory (/kaggle/working/) that gets preserved as output when you create a version using \"Save & Run All\" \n",
    "# You can also write temporary files to /kaggle/temp/, but they won't be saved outside of the current session"
   ]
  },
  {
   "cell_type": "markdown",
   "metadata": {},
   "source": [
    "# Ghouls, Goblins, and Ghosts... Boo!\n",
    "\n",
    "Bu projede özellikleri verilen Hortlak, Hayalet ve Cin sınıflandırması yapıyoruz.\n",
    "\n",
    "Bu çalışmada kullanılan verilere [buradan](https://www.kaggle.com/c/ghouls-goblins-and-ghosts-boo/overview) ulaşılabilir.\n",
    "\n",
    "<img src=\"https://storage.googleapis.com/kaggle-media/competitions/kaggle/5708/media/halloween-660x.png\">"
   ]
  },
  {
   "cell_type": "code",
   "execution_count": 3,
   "metadata": {
    "execution": {
     "iopub.execute_input": "2024-05-28T08:06:07.277150Z",
     "iopub.status.busy": "2024-05-28T08:06:07.276517Z",
     "iopub.status.idle": "2024-05-28T08:06:07.311888Z",
     "shell.execute_reply": "2024-05-28T08:06:07.310679Z",
     "shell.execute_reply.started": "2024-05-28T08:06:07.277116Z"
    },
    "trusted": true
   },
   "outputs": [
    {
     "data": {
      "text/html": [
       "<div>\n",
       "<style scoped>\n",
       "    .dataframe tbody tr th:only-of-type {\n",
       "        vertical-align: middle;\n",
       "    }\n",
       "\n",
       "    .dataframe tbody tr th {\n",
       "        vertical-align: top;\n",
       "    }\n",
       "\n",
       "    .dataframe thead th {\n",
       "        text-align: right;\n",
       "    }\n",
       "</style>\n",
       "<table border=\"1\" class=\"dataframe\">\n",
       "  <thead>\n",
       "    <tr style=\"text-align: right;\">\n",
       "      <th></th>\n",
       "      <th>id</th>\n",
       "      <th>bone_length</th>\n",
       "      <th>rotting_flesh</th>\n",
       "      <th>hair_length</th>\n",
       "      <th>has_soul</th>\n",
       "      <th>color</th>\n",
       "      <th>type</th>\n",
       "    </tr>\n",
       "  </thead>\n",
       "  <tbody>\n",
       "    <tr>\n",
       "      <th>0</th>\n",
       "      <td>0</td>\n",
       "      <td>0.354512</td>\n",
       "      <td>0.350839</td>\n",
       "      <td>0.465761</td>\n",
       "      <td>0.781142</td>\n",
       "      <td>clear</td>\n",
       "      <td>Ghoul</td>\n",
       "    </tr>\n",
       "    <tr>\n",
       "      <th>1</th>\n",
       "      <td>1</td>\n",
       "      <td>0.575560</td>\n",
       "      <td>0.425868</td>\n",
       "      <td>0.531401</td>\n",
       "      <td>0.439899</td>\n",
       "      <td>green</td>\n",
       "      <td>Goblin</td>\n",
       "    </tr>\n",
       "    <tr>\n",
       "      <th>2</th>\n",
       "      <td>2</td>\n",
       "      <td>0.467875</td>\n",
       "      <td>0.354330</td>\n",
       "      <td>0.811616</td>\n",
       "      <td>0.791225</td>\n",
       "      <td>black</td>\n",
       "      <td>Ghoul</td>\n",
       "    </tr>\n",
       "    <tr>\n",
       "      <th>3</th>\n",
       "      <td>4</td>\n",
       "      <td>0.776652</td>\n",
       "      <td>0.508723</td>\n",
       "      <td>0.636766</td>\n",
       "      <td>0.884464</td>\n",
       "      <td>black</td>\n",
       "      <td>Ghoul</td>\n",
       "    </tr>\n",
       "    <tr>\n",
       "      <th>4</th>\n",
       "      <td>5</td>\n",
       "      <td>0.566117</td>\n",
       "      <td>0.875862</td>\n",
       "      <td>0.418594</td>\n",
       "      <td>0.636438</td>\n",
       "      <td>green</td>\n",
       "      <td>Ghost</td>\n",
       "    </tr>\n",
       "  </tbody>\n",
       "</table>\n",
       "</div>"
      ],
      "text/plain": [
       "   id  bone_length  rotting_flesh  hair_length  has_soul  color    type\n",
       "0   0     0.354512       0.350839     0.465761  0.781142  clear   Ghoul\n",
       "1   1     0.575560       0.425868     0.531401  0.439899  green  Goblin\n",
       "2   2     0.467875       0.354330     0.811616  0.791225  black   Ghoul\n",
       "3   4     0.776652       0.508723     0.636766  0.884464  black   Ghoul\n",
       "4   5     0.566117       0.875862     0.418594  0.636438  green   Ghost"
      ]
     },
     "execution_count": 3,
     "metadata": {},
     "output_type": "execute_result"
    }
   ],
   "source": [
    "import seaborn as sns\n",
    "import matplotlib.pyplot as plt\n",
    "\n",
    "df=pd.read_csv(\"/kaggle/input/ghouls-goblins-and-ghosts-boo/train.csv.zip\")\n",
    "test=pd.read_csv(\"/kaggle/input/ghouls-goblins-and-ghosts-boo/test.csv.zip\")\n",
    "\n",
    "df.head()"
   ]
  },
  {
   "cell_type": "code",
   "execution_count": 11,
   "metadata": {
    "execution": {
     "iopub.execute_input": "2024-05-28T08:17:25.771021Z",
     "iopub.status.busy": "2024-05-28T08:17:25.770250Z",
     "iopub.status.idle": "2024-05-28T08:17:25.994760Z",
     "shell.execute_reply": "2024-05-28T08:17:25.993855Z",
     "shell.execute_reply.started": "2024-05-28T08:17:25.770971Z"
    },
    "trusted": true
   },
   "outputs": [
    {
     "data": {
      "text/plain": [
       "<Axes: xlabel='type', ylabel='count'>"
      ]
     },
     "execution_count": 11,
     "metadata": {},
     "output_type": "execute_result"
    },
    {
     "data": {
      "image/png": "[encoded data removed]",
      "text/plain": [
       "<Figure size 640x480 with 1 Axes>"
      ]
     },
     "metadata": {},
     "output_type": "display_data"
    }
   ],
   "source": [
    "sns.countplot(x=df[\"type\"])"
   ]
  },
  {
   "cell_type": "code",
   "execution_count": 8,
   "metadata": {
    "execution": {
     "iopub.execute_input": "2024-05-28T08:10:33.321179Z",
     "iopub.status.busy": "2024-05-28T08:10:33.320464Z",
     "iopub.status.idle": "2024-05-28T08:10:33.337995Z",
     "shell.execute_reply": "2024-05-28T08:10:33.336940Z",
     "shell.execute_reply.started": "2024-05-28T08:10:33.321149Z"
    },
    "trusted": true
   },
   "outputs": [
    {
     "name": "stdout",
     "output_type": "stream",
     "text": [
      "<class 'pandas.core.frame.DataFrame'>\n",
      "RangeIndex: 371 entries, 0 to 370\n",
      "Data columns (total 7 columns):\n",
      " #   Column         Non-Null Count  Dtype  \n",
      "---  ------         --------------  -----  \n",
      " 0   id             371 non-null    int64  \n",
      " 1   bone_length    371 non-null    float64\n",
      " 2   rotting_flesh  371 non-null    float64\n",
      " 3   hair_length    371 non-null    float64\n",
      " 4   has_soul       371 non-null    float64\n",
      " 5   color          371 non-null    object \n",
      " 6   type           371 non-null    object \n",
      "dtypes: float64(4), int64(1), object(2)\n",
      "memory usage: 20.4+ KB\n"
     ]
    }
   ],
   "source": [
    "df.info()"
   ]
  },
  {
   "cell_type": "code",
   "execution_count": 10,
   "metadata": {
    "execution": {
     "iopub.execute_input": "2024-05-28T08:16:55.290271Z",
     "iopub.status.busy": "2024-05-28T08:16:55.289552Z",
     "iopub.status.idle": "2024-05-28T08:16:55.564321Z",
     "shell.execute_reply": "2024-05-28T08:16:55.563412Z",
     "shell.execute_reply.started": "2024-05-28T08:16:55.290240Z"
    },
    "trusted": true
   },
   "outputs": [
    {
     "data": {
      "text/plain": [
       "<Axes: xlabel='count', ylabel='color'>"
      ]
     },
     "execution_count": 10,
     "metadata": {},
     "output_type": "execute_result"
    },
    {
     "data": {
      "image/png": "[encoded data removed]",
      "text/plain": [
       "<Figure size 640x480 with 1 Axes>"
      ]
     },
     "metadata": {},
     "output_type": "display_data"
    }
   ],
   "source": [
    "sns.countplot(y=df[\"color\"])"
   ]
  },
  {
   "cell_type": "code",
   "execution_count": 12,
   "metadata": {
    "execution": {
     "iopub.execute_input": "2024-05-28T08:18:14.765589Z",
     "iopub.status.busy": "2024-05-28T08:18:14.764716Z",
     "iopub.status.idle": "2024-05-28T08:18:14.771689Z",
     "shell.execute_reply": "2024-05-28T08:18:14.770828Z",
     "shell.execute_reply.started": "2024-05-28T08:18:14.765556Z"
    },
    "trusted": true
   },
   "outputs": [
    {
     "data": {
      "text/plain": [
       "array(['Ghoul', 'Goblin', 'Ghost'], dtype=object)"
      ]
     },
     "execution_count": 12,
     "metadata": {},
     "output_type": "execute_result"
    }
   ],
   "source": [
    "df.type.unique()"
   ]
  },
  {
   "cell_type": "code",
   "execution_count": 13,
   "metadata": {
    "execution": {
     "iopub.execute_input": "2024-05-28T08:19:08.661125Z",
     "iopub.status.busy": "2024-05-28T08:19:08.660751Z",
     "iopub.status.idle": "2024-05-28T08:19:08.681690Z",
     "shell.execute_reply": "2024-05-28T08:19:08.680714Z",
     "shell.execute_reply.started": "2024-05-28T08:19:08.661099Z"
    },
    "trusted": true
   },
   "outputs": [
    {
     "data": {
      "text/html": [
       "<div>\n",
       "<style scoped>\n",
       "    .dataframe tbody tr th:only-of-type {\n",
       "        vertical-align: middle;\n",
       "    }\n",
       "\n",
       "    .dataframe tbody tr th {\n",
       "        vertical-align: top;\n",
       "    }\n",
       "\n",
       "    .dataframe thead th {\n",
       "        text-align: right;\n",
       "    }\n",
       "</style>\n",
       "<table border=\"1\" class=\"dataframe\">\n",
       "  <thead>\n",
       "    <tr style=\"text-align: right;\">\n",
       "      <th></th>\n",
       "      <th>id</th>\n",
       "      <th>bone_length</th>\n",
       "      <th>rotting_flesh</th>\n",
       "      <th>hair_length</th>\n",
       "      <th>has_soul</th>\n",
       "      <th>color</th>\n",
       "      <th>type</th>\n",
       "      <th>class</th>\n",
       "    </tr>\n",
       "  </thead>\n",
       "  <tbody>\n",
       "    <tr>\n",
       "      <th>319</th>\n",
       "      <td>753</td>\n",
       "      <td>0.422322</td>\n",
       "      <td>0.673089</td>\n",
       "      <td>0.829372</td>\n",
       "      <td>0.577836</td>\n",
       "      <td>white</td>\n",
       "      <td>Ghoul</td>\n",
       "      <td>0</td>\n",
       "    </tr>\n",
       "    <tr>\n",
       "      <th>268</th>\n",
       "      <td>661</td>\n",
       "      <td>0.491710</td>\n",
       "      <td>0.463629</td>\n",
       "      <td>0.559444</td>\n",
       "      <td>0.435188</td>\n",
       "      <td>clear</td>\n",
       "      <td>Goblin</td>\n",
       "      <td>1</td>\n",
       "    </tr>\n",
       "    <tr>\n",
       "      <th>173</th>\n",
       "      <td>419</td>\n",
       "      <td>0.327031</td>\n",
       "      <td>0.608481</td>\n",
       "      <td>0.310469</td>\n",
       "      <td>0.356699</td>\n",
       "      <td>green</td>\n",
       "      <td>Ghost</td>\n",
       "      <td>2</td>\n",
       "    </tr>\n",
       "    <tr>\n",
       "      <th>314</th>\n",
       "      <td>745</td>\n",
       "      <td>0.417300</td>\n",
       "      <td>0.377595</td>\n",
       "      <td>0.541834</td>\n",
       "      <td>0.349087</td>\n",
       "      <td>clear</td>\n",
       "      <td>Goblin</td>\n",
       "      <td>1</td>\n",
       "    </tr>\n",
       "    <tr>\n",
       "      <th>191</th>\n",
       "      <td>470</td>\n",
       "      <td>0.471201</td>\n",
       "      <td>0.568542</td>\n",
       "      <td>0.515442</td>\n",
       "      <td>0.388791</td>\n",
       "      <td>black</td>\n",
       "      <td>Goblin</td>\n",
       "      <td>1</td>\n",
       "    </tr>\n",
       "    <tr>\n",
       "      <th>27</th>\n",
       "      <td>56</td>\n",
       "      <td>0.492438</td>\n",
       "      <td>0.623197</td>\n",
       "      <td>0.604879</td>\n",
       "      <td>0.376142</td>\n",
       "      <td>green</td>\n",
       "      <td>Goblin</td>\n",
       "      <td>1</td>\n",
       "    </tr>\n",
       "    <tr>\n",
       "      <th>304</th>\n",
       "      <td>729</td>\n",
       "      <td>0.757138</td>\n",
       "      <td>0.556602</td>\n",
       "      <td>0.760736</td>\n",
       "      <td>0.570260</td>\n",
       "      <td>black</td>\n",
       "      <td>Ghoul</td>\n",
       "      <td>0</td>\n",
       "    </tr>\n",
       "    <tr>\n",
       "      <th>127</th>\n",
       "      <td>300</td>\n",
       "      <td>0.387730</td>\n",
       "      <td>0.659535</td>\n",
       "      <td>0.356108</td>\n",
       "      <td>0.550968</td>\n",
       "      <td>green</td>\n",
       "      <td>Goblin</td>\n",
       "      <td>1</td>\n",
       "    </tr>\n",
       "    <tr>\n",
       "      <th>351</th>\n",
       "      <td>843</td>\n",
       "      <td>0.552971</td>\n",
       "      <td>0.341187</td>\n",
       "      <td>0.644801</td>\n",
       "      <td>0.415394</td>\n",
       "      <td>white</td>\n",
       "      <td>Goblin</td>\n",
       "      <td>1</td>\n",
       "    </tr>\n",
       "    <tr>\n",
       "      <th>29</th>\n",
       "      <td>62</td>\n",
       "      <td>0.304198</td>\n",
       "      <td>0.266904</td>\n",
       "      <td>0.527225</td>\n",
       "      <td>0.386713</td>\n",
       "      <td>clear</td>\n",
       "      <td>Goblin</td>\n",
       "      <td>1</td>\n",
       "    </tr>\n",
       "  </tbody>\n",
       "</table>\n",
       "</div>"
      ],
      "text/plain": [
       "      id  bone_length  rotting_flesh  hair_length  has_soul  color    type  \\\n",
       "319  753     0.422322       0.673089     0.829372  0.577836  white   Ghoul   \n",
       "268  661     0.491710       0.463629     0.559444  0.435188  clear  Goblin   \n",
       "173  419     0.327031       0.608481     0.310469  0.356699  green   Ghost   \n",
       "314  745     0.417300       0.377595     0.541834  0.349087  clear  Goblin   \n",
       "191  470     0.471201       0.568542     0.515442  0.388791  black  Goblin   \n",
       "27    56     0.492438       0.623197     0.604879  0.376142  green  Goblin   \n",
       "304  729     0.757138       0.556602     0.760736  0.570260  black   Ghoul   \n",
       "127  300     0.387730       0.659535     0.356108  0.550968  green  Goblin   \n",
       "351  843     0.552971       0.341187     0.644801  0.415394  white  Goblin   \n",
       "29    62     0.304198       0.266904     0.527225  0.386713  clear  Goblin   \n",
       "\n",
       "     class  \n",
       "319      0  \n",
       "268      1  \n",
       "173      2  \n",
       "314      1  \n",
       "191      1  \n",
       "27       1  \n",
       "304      0  \n",
       "127      1  \n",
       "351      1  \n",
       "29       1  "
      ]
     },
     "execution_count": 13,
     "metadata": {},
     "output_type": "execute_result"
    }
   ],
   "source": [
    "d={'Ghoul':0, 'Goblin':1, 'Ghost':2}\n",
    "df[\"class\"]=df[\"type\"].map(d)\n",
    "df.sample(10)"
   ]
  },
  {
   "cell_type": "markdown",
   "metadata": {},
   "source": [
    "## Modelleme"
   ]
  },
  {
   "cell_type": "code",
   "execution_count": 16,
   "metadata": {
    "execution": {
     "iopub.execute_input": "2024-05-28T08:29:26.867890Z",
     "iopub.status.busy": "2024-05-28T08:29:26.867221Z",
     "iopub.status.idle": "2024-05-28T08:29:26.876159Z",
     "shell.execute_reply": "2024-05-28T08:29:26.875269Z",
     "shell.execute_reply.started": "2024-05-28T08:29:26.867853Z"
    },
    "trusted": true
   },
   "outputs": [
    {
     "data": {
      "text/plain": [
       "((371, 5), (371, 1))"
      ]
     },
     "execution_count": 16,
     "metadata": {},
     "output_type": "execute_result"
    }
   ],
   "source": [
    "x=df.drop([\"id\", \"type\", \"class\"], axis=1)\n",
    "y=df[[\"class\"]]\n",
    "x.shape, y.shape"
   ]
  },
  {
   "cell_type": "code",
   "execution_count": 17,
   "metadata": {
    "execution": {
     "iopub.execute_input": "2024-05-28T08:30:07.120064Z",
     "iopub.status.busy": "2024-05-28T08:30:07.119701Z",
     "iopub.status.idle": "2024-05-28T08:30:07.128817Z",
     "shell.execute_reply": "2024-05-28T08:30:07.127958Z",
     "shell.execute_reply.started": "2024-05-28T08:30:07.120037Z"
    },
    "trusted": true
   },
   "outputs": [
    {
     "data": {
      "text/plain": [
       "(371, 9)"
      ]
     },
     "execution_count": 17,
     "metadata": {},
     "output_type": "execute_result"
    }
   ],
   "source": [
    "x=pd.get_dummies(x, drop_first=True)\n",
    "x.shape"
   ]
  },
  {
   "cell_type": "code",
   "execution_count": 35,
   "metadata": {
    "execution": {
     "iopub.execute_input": "2024-05-28T08:58:45.608160Z",
     "iopub.status.busy": "2024-05-28T08:58:45.607430Z",
     "iopub.status.idle": "2024-05-28T08:58:45.622445Z",
     "shell.execute_reply": "2024-05-28T08:58:45.621509Z",
     "shell.execute_reply.started": "2024-05-28T08:58:45.608129Z"
    },
    "trusted": true
   },
   "outputs": [],
   "source": [
    "from sklearn.naive_bayes import GaussianNB\n",
    "from sklearn.naive_bayes import BernoulliNB\n",
    "from sklearn.linear_model import LogisticRegression\n",
    "from sklearn.tree import DecisionTreeClassifier\n",
    "from sklearn.ensemble import RandomForestClassifier\n",
    "from sklearn.ensemble import GradientBoostingClassifier\n",
    "from sklearn.neighbors import KNeighborsClassifier\n",
    "\n",
    "from sklearn.metrics import accuracy_score, precision_score, recall_score\n",
    "from sklearn.metrics import f1_score, confusion_matrix, classification_report\n",
    "from sklearn.model_selection import train_test_split\n",
    "\n",
    "g = GaussianNB()\n",
    "b = BernoulliNB()\n",
    "l = LogisticRegression()\n",
    "d = DecisionTreeClassifier()\n",
    "r = RandomForestClassifier()\n",
    "gb= GradientBoostingClassifier()\n",
    "kn= KNeighborsClassifier()\n",
    "\n",
    "def algo_test(x, y):\n",
    "    modeller=[g, b, l, d, r, gb, kn]\n",
    "    isimler=[\"GaussianNB\", \"BernoulliNB\", \"LogisticRegression\", \"DecisionTreeClassifier\", \n",
    "             \"RandomForestClassifier\", \"GradientBoostingClassifier\", \"KNeighborsClassifier\"]\n",
    "\n",
    "    x_train, x_test, y_train, y_test = train_test_split(x, y, test_size=.3, random_state = 42)\n",
    "    \n",
    "    accuracy = []\n",
    "    precision = []\n",
    "    recall = []\n",
    "    f1 = []\n",
    "    mdl=[]\n",
    "\n",
    "    print(\"Veriler hazır modeller deneniyor\")\n",
    "    for model in modeller:\n",
    "        print(model, \" modeli eğitiliyor!..\")\n",
    "        model=model.fit(x_train,y_train)\n",
    "        tahmin=model.predict(np.array(x_test) if model==kn else x_test)\n",
    "        mdl.append(model)\n",
    "        accuracy.append(accuracy_score(y_test, tahmin))\n",
    "        precision.append(precision_score(y_test, tahmin, average=\"micro\"))\n",
    "        recall.append(recall_score(y_test, tahmin, average=\"micro\"))\n",
    "        f1.append(f1_score(y_test, tahmin, average=\"micro\"))\n",
    "        print(confusion_matrix(y_test, tahmin))\n",
    "\n",
    "    print(\"Eğitim tamamlandı.\")\n",
    "    \n",
    "    metrics=pd.DataFrame(columns=[\"Accuracy\", \"Precision\", \"Recall\", \"F1\", \"Model\"], index=isimler)\n",
    "    metrics[\"Accuracy\"] = accuracy\n",
    "    metrics[\"Precision\"] = precision  \n",
    "    metrics[\"Recall\"] = recall\n",
    "    metrics[\"F1\"] = f1\n",
    "    metrics[\"Model\"]=mdl\n",
    "\n",
    "    metrics.sort_values(\"F1\", ascending=False, inplace=True)\n",
    "\n",
    "    print(\"En başarılı model: \", metrics.iloc[0].name)\n",
    "    model=metrics.iloc[0,-1]\n",
    "    tahmin=model.predict(np.array(x_test) if model==kn else x_test)\n",
    "    print(\"Confusion Matrix:\")\n",
    "    print(confusion_matrix(y_test, tahmin))\n",
    "    print(\"classification Report:\")\n",
    "    print(classification_report(y_test, tahmin))\n",
    "    print(\"Diğer Modeller:\")\n",
    "    \n",
    "    return metrics.drop(\"Model\", axis=1)"
   ]
  },
  {
   "cell_type": "code",
   "execution_count": 36,
   "metadata": {
    "execution": {
     "iopub.execute_input": "2024-05-28T08:58:52.786214Z",
     "iopub.status.busy": "2024-05-28T08:58:52.785847Z",
     "iopub.status.idle": "2024-05-28T08:58:53.601813Z",
     "shell.execute_reply": "2024-05-28T08:58:53.600977Z",
     "shell.execute_reply.started": "2024-05-28T08:58:52.786185Z"
    },
    "trusted": true
   },
   "outputs": [
    {
     "name": "stdout",
     "output_type": "stream",
     "text": [
      "Veriler hazır modeller deneniyor\n",
      "GaussianNB()  modeli eğitiliyor!..\n",
      "[[28 12  1]\n",
      " [ 4 28  4]\n",
      " [ 0 13 22]]\n",
      "BernoulliNB()  modeli eğitiliyor!..\n",
      "[[ 0 20 21]\n",
      " [ 0 17 19]\n",
      " [ 0 18 17]]\n",
      "LogisticRegression()  modeli eğitiliyor!..\n",
      "[[30  9  2]\n",
      " [ 8 23  5]\n",
      " [ 0  9 26]]\n",
      "DecisionTreeClassifier()  modeli eğitiliyor!..\n",
      "[[29 11  1]\n",
      " [ 6 26  4]\n",
      " [ 2  8 25]]\n",
      "RandomForestClassifier()  modeli eğitiliyor!..\n"
     ]
    },
    {
     "name": "stderr",
     "output_type": "stream",
     "text": [
      "/opt/conda/lib/python3.10/site-packages/sklearn/utils/validation.py:1143: DataConversionWarning: A column-vector y was passed when a 1d array was expected. Please change the shape of y to (n_samples, ), for example using ravel().\n",
      "  y = column_or_1d(y, warn=True)\n",
      "/opt/conda/lib/python3.10/site-packages/sklearn/utils/validation.py:1143: DataConversionWarning: A column-vector y was passed when a 1d array was expected. Please change the shape of y to (n_samples, ), for example using ravel().\n",
      "  y = column_or_1d(y, warn=True)\n",
      "/opt/conda/lib/python3.10/site-packages/sklearn/utils/validation.py:1143: DataConversionWarning: A column-vector y was passed when a 1d array was expected. Please change the shape of y to (n_samples, ), for example using ravel().\n",
      "  y = column_or_1d(y, warn=True)\n",
      "/tmp/ipykernel_34/3015561559.py:37: DataConversionWarning: A column-vector y was passed when a 1d array was expected. Please change the shape of y to (n_samples,), for example using ravel().\n",
      "  model=model.fit(x_train,y_train)\n"
     ]
    },
    {
     "name": "stdout",
     "output_type": "stream",
     "text": [
      "[[30  9  2]\n",
      " [ 6 27  3]\n",
      " [ 0  9 26]]\n",
      "GradientBoostingClassifier()  modeli eğitiliyor!..\n"
     ]
    },
    {
     "name": "stderr",
     "output_type": "stream",
     "text": [
      "/opt/conda/lib/python3.10/site-packages/sklearn/ensemble/_gb.py:437: DataConversionWarning: A column-vector y was passed when a 1d array was expected. Please change the shape of y to (n_samples, ), for example using ravel().\n",
      "  y = column_or_1d(y, warn=True)\n"
     ]
    },
    {
     "name": "stdout",
     "output_type": "stream",
     "text": [
      "[[27 12  2]\n",
      " [ 6 25  5]\n",
      " [ 0  7 28]]\n",
      "KNeighborsClassifier()  modeli eğitiliyor!..\n",
      "[[28 11  2]\n",
      " [10 21  5]\n",
      " [ 1  9 25]]\n",
      "Eğitim tamamlandı.\n",
      "En başarılı model:  RandomForestClassifier\n",
      "Confusion Matrix:\n",
      "[[30  9  2]\n",
      " [ 6 27  3]\n",
      " [ 0  9 26]]\n",
      "classification Report:\n",
      "              precision    recall  f1-score   support\n",
      "\n",
      "           0       0.83      0.73      0.78        41\n",
      "           1       0.60      0.75      0.67        36\n",
      "           2       0.84      0.74      0.79        35\n",
      "\n",
      "    accuracy                           0.74       112\n",
      "   macro avg       0.76      0.74      0.74       112\n",
      "weighted avg       0.76      0.74      0.75       112\n",
      "\n",
      "Diğer Modeller:\n"
     ]
    },
    {
     "name": "stderr",
     "output_type": "stream",
     "text": [
      "/opt/conda/lib/python3.10/site-packages/sklearn/neighbors/_classification.py:215: DataConversionWarning: A column-vector y was passed when a 1d array was expected. Please change the shape of y to (n_samples,), for example using ravel().\n",
      "  return self._fit(X, y)\n",
      "/opt/conda/lib/python3.10/site-packages/sklearn/base.py:439: UserWarning: X does not have valid feature names, but KNeighborsClassifier was fitted with feature names\n",
      "  warnings.warn(\n"
     ]
    },
    {
     "data": {
      "text/html": [
       "<div>\n",
       "<style scoped>\n",
       "    .dataframe tbody tr th:only-of-type {\n",
       "        vertical-align: middle;\n",
       "    }\n",
       "\n",
       "    .dataframe tbody tr th {\n",
       "        vertical-align: top;\n",
       "    }\n",
       "\n",
       "    .dataframe thead th {\n",
       "        text-align: right;\n",
       "    }\n",
       "</style>\n",
       "<table border=\"1\" class=\"dataframe\">\n",
       "  <thead>\n",
       "    <tr style=\"text-align: right;\">\n",
       "      <th></th>\n",
       "      <th>Accuracy</th>\n",
       "      <th>Precision</th>\n",
       "      <th>Recall</th>\n",
       "      <th>F1</th>\n",
       "    </tr>\n",
       "  </thead>\n",
       "  <tbody>\n",
       "    <tr>\n",
       "      <th>RandomForestClassifier</th>\n",
       "      <td>0.741071</td>\n",
       "      <td>0.741071</td>\n",
       "      <td>0.741071</td>\n",
       "      <td>0.741071</td>\n",
       "    </tr>\n",
       "    <tr>\n",
       "      <th>DecisionTreeClassifier</th>\n",
       "      <td>0.714286</td>\n",
       "      <td>0.714286</td>\n",
       "      <td>0.714286</td>\n",
       "      <td>0.714286</td>\n",
       "    </tr>\n",
       "    <tr>\n",
       "      <th>GradientBoostingClassifier</th>\n",
       "      <td>0.714286</td>\n",
       "      <td>0.714286</td>\n",
       "      <td>0.714286</td>\n",
       "      <td>0.714286</td>\n",
       "    </tr>\n",
       "    <tr>\n",
       "      <th>LogisticRegression</th>\n",
       "      <td>0.705357</td>\n",
       "      <td>0.705357</td>\n",
       "      <td>0.705357</td>\n",
       "      <td>0.705357</td>\n",
       "    </tr>\n",
       "    <tr>\n",
       "      <th>GaussianNB</th>\n",
       "      <td>0.696429</td>\n",
       "      <td>0.696429</td>\n",
       "      <td>0.696429</td>\n",
       "      <td>0.696429</td>\n",
       "    </tr>\n",
       "    <tr>\n",
       "      <th>KNeighborsClassifier</th>\n",
       "      <td>0.660714</td>\n",
       "      <td>0.660714</td>\n",
       "      <td>0.660714</td>\n",
       "      <td>0.660714</td>\n",
       "    </tr>\n",
       "    <tr>\n",
       "      <th>BernoulliNB</th>\n",
       "      <td>0.303571</td>\n",
       "      <td>0.303571</td>\n",
       "      <td>0.303571</td>\n",
       "      <td>0.303571</td>\n",
       "    </tr>\n",
       "  </tbody>\n",
       "</table>\n",
       "</div>"
      ],
      "text/plain": [
       "                            Accuracy  Precision    Recall        F1\n",
       "RandomForestClassifier      0.741071   0.741071  0.741071  0.741071\n",
       "DecisionTreeClassifier      0.714286   0.714286  0.714286  0.714286\n",
       "GradientBoostingClassifier  0.714286   0.714286  0.714286  0.714286\n",
       "LogisticRegression          0.705357   0.705357  0.705357  0.705357\n",
       "GaussianNB                  0.696429   0.696429  0.696429  0.696429\n",
       "KNeighborsClassifier        0.660714   0.660714  0.660714  0.660714\n",
       "BernoulliNB                 0.303571   0.303571  0.303571  0.303571"
      ]
     },
     "execution_count": 36,
     "metadata": {},
     "output_type": "execute_result"
    }
   ],
   "source": [
    "algo_test(x,y)"
   ]
  },
  {
   "cell_type": "code",
   "execution_count": 37,
   "metadata": {
    "execution": {
     "iopub.execute_input": "2024-05-28T08:59:36.257783Z",
     "iopub.status.busy": "2024-05-28T08:59:36.257411Z",
     "iopub.status.idle": "2024-05-28T08:59:36.484058Z",
     "shell.execute_reply": "2024-05-28T08:59:36.483176Z",
     "shell.execute_reply.started": "2024-05-28T08:59:36.257754Z"
    },
    "trusted": true
   },
   "outputs": [
    {
     "name": "stderr",
     "output_type": "stream",
     "text": [
      "/tmp/ipykernel_34/3469201884.py:2: DataConversionWarning: A column-vector y was passed when a 1d array was expected. Please change the shape of y to (n_samples,), for example using ravel().\n",
      "  model=rf.fit(x,y)\n"
     ]
    }
   ],
   "source": [
    "rf=RandomForestClassifier()\n",
    "model=rf.fit(x,y)"
   ]
  },
  {
   "cell_type": "code",
   "execution_count": 39,
   "metadata": {
    "execution": {
     "iopub.execute_input": "2024-05-28T09:00:25.509568Z",
     "iopub.status.busy": "2024-05-28T09:00:25.508975Z",
     "iopub.status.idle": "2024-05-28T09:00:25.523278Z",
     "shell.execute_reply": "2024-05-28T09:00:25.522064Z",
     "shell.execute_reply.started": "2024-05-28T09:00:25.509538Z"
    },
    "trusted": true
   },
   "outputs": [
    {
     "data": {
      "text/html": [
       "<div>\n",
       "<style scoped>\n",
       "    .dataframe tbody tr th:only-of-type {\n",
       "        vertical-align: middle;\n",
       "    }\n",
       "\n",
       "    .dataframe tbody tr th {\n",
       "        vertical-align: top;\n",
       "    }\n",
       "\n",
       "    .dataframe thead th {\n",
       "        text-align: right;\n",
       "    }\n",
       "</style>\n",
       "<table border=\"1\" class=\"dataframe\">\n",
       "  <thead>\n",
       "    <tr style=\"text-align: right;\">\n",
       "      <th></th>\n",
       "      <th>bone_length</th>\n",
       "      <th>rotting_flesh</th>\n",
       "      <th>hair_length</th>\n",
       "      <th>has_soul</th>\n",
       "      <th>color</th>\n",
       "    </tr>\n",
       "  </thead>\n",
       "  <tbody>\n",
       "    <tr>\n",
       "      <th>0</th>\n",
       "      <td>0.471774</td>\n",
       "      <td>0.387937</td>\n",
       "      <td>0.706087</td>\n",
       "      <td>0.698537</td>\n",
       "      <td>black</td>\n",
       "    </tr>\n",
       "    <tr>\n",
       "      <th>1</th>\n",
       "      <td>0.427332</td>\n",
       "      <td>0.645024</td>\n",
       "      <td>0.565558</td>\n",
       "      <td>0.451462</td>\n",
       "      <td>white</td>\n",
       "    </tr>\n",
       "    <tr>\n",
       "      <th>2</th>\n",
       "      <td>0.549602</td>\n",
       "      <td>0.491931</td>\n",
       "      <td>0.660387</td>\n",
       "      <td>0.449809</td>\n",
       "      <td>black</td>\n",
       "    </tr>\n",
       "    <tr>\n",
       "      <th>3</th>\n",
       "      <td>0.638095</td>\n",
       "      <td>0.682867</td>\n",
       "      <td>0.471409</td>\n",
       "      <td>0.356924</td>\n",
       "      <td>white</td>\n",
       "    </tr>\n",
       "    <tr>\n",
       "      <th>4</th>\n",
       "      <td>0.361762</td>\n",
       "      <td>0.583997</td>\n",
       "      <td>0.377256</td>\n",
       "      <td>0.276364</td>\n",
       "      <td>black</td>\n",
       "    </tr>\n",
       "  </tbody>\n",
       "</table>\n",
       "</div>"
      ],
      "text/plain": [
       "   bone_length  rotting_flesh  hair_length  has_soul  color\n",
       "0     0.471774       0.387937     0.706087  0.698537  black\n",
       "1     0.427332       0.645024     0.565558  0.451462  white\n",
       "2     0.549602       0.491931     0.660387  0.449809  black\n",
       "3     0.638095       0.682867     0.471409  0.356924  white\n",
       "4     0.361762       0.583997     0.377256  0.276364  black"
      ]
     },
     "execution_count": 39,
     "metadata": {},
     "output_type": "execute_result"
    }
   ],
   "source": [
    "x=test.drop([\"id\"], axis=1)\n",
    "x.head()"
   ]
  },
  {
   "cell_type": "code",
   "execution_count": 40,
   "metadata": {
    "execution": {
     "iopub.execute_input": "2024-05-28T09:00:49.093977Z",
     "iopub.status.busy": "2024-05-28T09:00:49.093144Z",
     "iopub.status.idle": "2024-05-28T09:00:49.102339Z",
     "shell.execute_reply": "2024-05-28T09:00:49.101389Z",
     "shell.execute_reply.started": "2024-05-28T09:00:49.093945Z"
    },
    "trusted": true
   },
   "outputs": [
    {
     "data": {
      "text/plain": [
       "(529, 9)"
      ]
     },
     "execution_count": 40,
     "metadata": {},
     "output_type": "execute_result"
    }
   ],
   "source": [
    "x=pd.get_dummies(x, drop_first=True)\n",
    "x.shape"
   ]
  },
  {
   "cell_type": "code",
   "execution_count": 41,
   "metadata": {
    "execution": {
     "iopub.execute_input": "2024-05-28T09:01:05.367009Z",
     "iopub.status.busy": "2024-05-28T09:01:05.366631Z",
     "iopub.status.idle": "2024-05-28T09:01:05.386156Z",
     "shell.execute_reply": "2024-05-28T09:01:05.385412Z",
     "shell.execute_reply.started": "2024-05-28T09:01:05.366979Z"
    },
    "trusted": true
   },
   "outputs": [],
   "source": [
    "pred=model.predict(x)"
   ]
  },
  {
   "cell_type": "code",
   "execution_count": 42,
   "metadata": {
    "execution": {
     "iopub.execute_input": "2024-05-28T09:01:09.775709Z",
     "iopub.status.busy": "2024-05-28T09:01:09.774989Z",
     "iopub.status.idle": "2024-05-28T09:01:09.783126Z",
     "shell.execute_reply": "2024-05-28T09:01:09.782312Z",
     "shell.execute_reply.started": "2024-05-28T09:01:09.775679Z"
    },
    "trusted": true
   },
   "outputs": [
    {
     "data": {
      "text/plain": [
       "array([0, 1, 0, 2, 2, 2, 0, 1, 1, 0, 2, 0, 1, 2, 0, 2, 1, 2, 2, 0, 0, 1,\n",
       "       0, 1, 1, 1, 0, 1, 0, 0, 1, 0, 0, 1, 1, 0, 2, 1, 2, 0, 1, 1, 1, 0,\n",
       "       1, 0, 0, 0, 0, 2, 1, 1, 2, 1, 1, 2, 1, 1, 0, 2, 0, 0, 2, 1, 0, 0,\n",
       "       0, 0, 2, 0, 1, 2, 0, 0, 1, 0, 1, 1, 2, 1, 2, 1, 0, 0, 2, 2, 2, 1,\n",
       "       2, 2, 2, 2, 1, 1, 2, 2, 1, 1, 1, 1, 0, 1, 1, 2, 0, 1, 0, 1, 0, 0,\n",
       "       2, 1, 2, 1, 0, 2, 1, 1, 0, 2, 0, 2, 2, 0, 0, 2, 2, 2, 0, 0, 2, 1,\n",
       "       1, 0, 1, 1, 0, 1, 1, 1, 0, 2, 2, 0, 0, 2, 0, 2, 2, 2, 1, 0, 0, 0,\n",
       "       1, 2, 0, 0, 2, 0, 0, 1, 0, 1, 2, 2, 1, 2, 1, 2, 2, 0, 2, 0, 0, 0,\n",
       "       2, 0, 0, 0, 2, 2, 0, 2, 2, 1, 1, 0, 0, 2, 2, 0, 1, 2, 0, 0, 1, 1,\n",
       "       0, 0, 2, 2, 2, 2, 0, 2, 1, 2, 1, 0, 1, 2, 2, 2, 1, 2, 0, 2, 0, 1,\n",
       "       1, 1, 1, 0, 0, 1, 2, 2, 1, 2, 1, 0, 2, 2, 2, 0, 2, 0, 0, 1, 2, 2,\n",
       "       2, 2, 1, 1, 1, 2, 2, 1, 2, 2, 2, 0, 0, 1, 2, 0, 2, 2, 2, 1, 2, 1,\n",
       "       1, 1, 0, 0, 1, 2, 0, 0, 2, 1, 0, 0, 1, 0, 1, 2, 2, 1, 0, 0, 0, 0,\n",
       "       2, 0, 2, 2, 0, 2, 0, 1, 1, 1, 2, 1, 2, 0, 1, 0, 2, 2, 0, 0, 1, 1,\n",
       "       2, 1, 0, 0, 1, 2, 2, 0, 1, 2, 2, 0, 2, 1, 0, 0, 2, 1, 2, 1, 2, 0,\n",
       "       0, 1, 0, 2, 2, 0, 2, 0, 0, 0, 0, 1, 1, 1, 1, 1, 2, 1, 2, 0, 0, 2,\n",
       "       0, 2, 1, 0, 1, 2, 2, 0, 1, 2, 1, 2, 1, 1, 0, 1, 1, 0, 2, 2, 0, 2,\n",
       "       1, 2, 0, 2, 2, 0, 0, 2, 2, 1, 1, 2, 2, 2, 1, 2, 1, 0, 2, 2, 1, 0,\n",
       "       0, 1, 1, 0, 1, 0, 2, 0, 2, 0, 0, 2, 1, 2, 2, 2, 0, 2, 0, 2, 1, 0,\n",
       "       0, 2, 2, 0, 0, 0, 2, 2, 1, 2, 0, 2, 1, 2, 0, 1, 1, 0, 1, 2, 1, 2,\n",
       "       0, 0, 2, 2, 2, 0, 2, 0, 1, 0, 0, 0, 1, 0, 1, 1, 1, 2, 0, 1, 2, 2,\n",
       "       0, 0, 1, 0, 2, 0, 0, 2, 0, 0, 1, 0, 2, 2, 1, 2, 2, 1, 1, 0, 2, 1,\n",
       "       2, 1, 2, 2, 2, 0, 2, 0, 0, 2, 0, 2, 0, 0, 2, 2, 1, 2, 2, 1, 0, 1,\n",
       "       0, 2, 0, 1, 0, 0, 2, 2, 0, 0, 0, 1, 1, 2, 0, 1, 0, 0, 1, 2, 0, 2,\n",
       "       2])"
      ]
     },
     "execution_count": 42,
     "metadata": {},
     "output_type": "execute_result"
    }
   ],
   "source": [
    "pred"
   ]
  },
  {
   "cell_type": "code",
   "execution_count": 43,
   "metadata": {
    "execution": {
     "iopub.execute_input": "2024-05-28T09:02:38.328451Z",
     "iopub.status.busy": "2024-05-28T09:02:38.328086Z",
     "iopub.status.idle": "2024-05-28T09:02:38.347095Z",
     "shell.execute_reply": "2024-05-28T09:02:38.346154Z",
     "shell.execute_reply.started": "2024-05-28T09:02:38.328422Z"
    },
    "trusted": true
   },
   "outputs": [
    {
     "data": {
      "text/html": [
       "<div>\n",
       "<style scoped>\n",
       "    .dataframe tbody tr th:only-of-type {\n",
       "        vertical-align: middle;\n",
       "    }\n",
       "\n",
       "    .dataframe tbody tr th {\n",
       "        vertical-align: top;\n",
       "    }\n",
       "\n",
       "    .dataframe thead th {\n",
       "        text-align: right;\n",
       "    }\n",
       "</style>\n",
       "<table border=\"1\" class=\"dataframe\">\n",
       "  <thead>\n",
       "    <tr style=\"text-align: right;\">\n",
       "      <th></th>\n",
       "      <th>id</th>\n",
       "      <th>bone_length</th>\n",
       "      <th>rotting_flesh</th>\n",
       "      <th>hair_length</th>\n",
       "      <th>has_soul</th>\n",
       "      <th>color</th>\n",
       "      <th>class</th>\n",
       "      <th>type</th>\n",
       "    </tr>\n",
       "  </thead>\n",
       "  <tbody>\n",
       "    <tr>\n",
       "      <th>135</th>\n",
       "      <td>242</td>\n",
       "      <td>0.396032</td>\n",
       "      <td>0.501900</td>\n",
       "      <td>0.578654</td>\n",
       "      <td>0.584448</td>\n",
       "      <td>white</td>\n",
       "      <td>1</td>\n",
       "      <td>Goblin</td>\n",
       "    </tr>\n",
       "    <tr>\n",
       "      <th>347</th>\n",
       "      <td>588</td>\n",
       "      <td>0.527252</td>\n",
       "      <td>0.320925</td>\n",
       "      <td>0.585426</td>\n",
       "      <td>0.624900</td>\n",
       "      <td>blue</td>\n",
       "      <td>1</td>\n",
       "      <td>Goblin</td>\n",
       "    </tr>\n",
       "    <tr>\n",
       "      <th>508</th>\n",
       "      <td>870</td>\n",
       "      <td>0.366228</td>\n",
       "      <td>0.682502</td>\n",
       "      <td>0.857817</td>\n",
       "      <td>0.461294</td>\n",
       "      <td>clear</td>\n",
       "      <td>0</td>\n",
       "      <td>Ghoul</td>\n",
       "    </tr>\n",
       "    <tr>\n",
       "      <th>276</th>\n",
       "      <td>463</td>\n",
       "      <td>0.452996</td>\n",
       "      <td>0.337948</td>\n",
       "      <td>0.669924</td>\n",
       "      <td>0.492194</td>\n",
       "      <td>clear</td>\n",
       "      <td>1</td>\n",
       "      <td>Goblin</td>\n",
       "    </tr>\n",
       "    <tr>\n",
       "      <th>132</th>\n",
       "      <td>239</td>\n",
       "      <td>0.373631</td>\n",
       "      <td>0.359738</td>\n",
       "      <td>0.669480</td>\n",
       "      <td>0.521501</td>\n",
       "      <td>clear</td>\n",
       "      <td>1</td>\n",
       "      <td>Goblin</td>\n",
       "    </tr>\n",
       "    <tr>\n",
       "      <th>40</th>\n",
       "      <td>76</td>\n",
       "      <td>0.351337</td>\n",
       "      <td>0.398427</td>\n",
       "      <td>0.482935</td>\n",
       "      <td>0.316566</td>\n",
       "      <td>clear</td>\n",
       "      <td>1</td>\n",
       "      <td>Goblin</td>\n",
       "    </tr>\n",
       "    <tr>\n",
       "      <th>310</th>\n",
       "      <td>522</td>\n",
       "      <td>0.535819</td>\n",
       "      <td>0.467183</td>\n",
       "      <td>0.747206</td>\n",
       "      <td>0.572862</td>\n",
       "      <td>white</td>\n",
       "      <td>0</td>\n",
       "      <td>Ghoul</td>\n",
       "    </tr>\n",
       "    <tr>\n",
       "      <th>205</th>\n",
       "      <td>356</td>\n",
       "      <td>0.174506</td>\n",
       "      <td>0.406801</td>\n",
       "      <td>0.159770</td>\n",
       "      <td>0.578969</td>\n",
       "      <td>white</td>\n",
       "      <td>2</td>\n",
       "      <td>Ghost</td>\n",
       "    </tr>\n",
       "    <tr>\n",
       "      <th>277</th>\n",
       "      <td>468</td>\n",
       "      <td>0.306888</td>\n",
       "      <td>0.568559</td>\n",
       "      <td>0.803659</td>\n",
       "      <td>0.530705</td>\n",
       "      <td>clear</td>\n",
       "      <td>0</td>\n",
       "      <td>Ghoul</td>\n",
       "    </tr>\n",
       "    <tr>\n",
       "      <th>413</th>\n",
       "      <td>707</td>\n",
       "      <td>0.121522</td>\n",
       "      <td>0.241625</td>\n",
       "      <td>0.235140</td>\n",
       "      <td>0.356889</td>\n",
       "      <td>clear</td>\n",
       "      <td>2</td>\n",
       "      <td>Ghost</td>\n",
       "    </tr>\n",
       "  </tbody>\n",
       "</table>\n",
       "</div>"
      ],
      "text/plain": [
       "      id  bone_length  rotting_flesh  hair_length  has_soul  color  class  \\\n",
       "135  242     0.396032       0.501900     0.578654  0.584448  white      1   \n",
       "347  588     0.527252       0.320925     0.585426  0.624900   blue      1   \n",
       "508  870     0.366228       0.682502     0.857817  0.461294  clear      0   \n",
       "276  463     0.452996       0.337948     0.669924  0.492194  clear      1   \n",
       "132  239     0.373631       0.359738     0.669480  0.521501  clear      1   \n",
       "40    76     0.351337       0.398427     0.482935  0.316566  clear      1   \n",
       "310  522     0.535819       0.467183     0.747206  0.572862  white      0   \n",
       "205  356     0.174506       0.406801     0.159770  0.578969  white      2   \n",
       "277  468     0.306888       0.568559     0.803659  0.530705  clear      0   \n",
       "413  707     0.121522       0.241625     0.235140  0.356889  clear      2   \n",
       "\n",
       "       type  \n",
       "135  Goblin  \n",
       "347  Goblin  \n",
       "508   Ghoul  \n",
       "276  Goblin  \n",
       "132  Goblin  \n",
       "40   Goblin  \n",
       "310   Ghoul  \n",
       "205   Ghost  \n",
       "277   Ghoul  \n",
       "413   Ghost  "
      ]
     },
     "execution_count": 43,
     "metadata": {},
     "output_type": "execute_result"
    }
   ],
   "source": [
    "test[\"class\"]=pred\n",
    "d={0:'Ghoul', 1:'Goblin', 2:'Ghost'}\n",
    "test[\"type\"]=test[\"class\"].map(d)\n",
    "test.sample(10)"
   ]
  },
  {
   "cell_type": "code",
   "execution_count": 44,
   "metadata": {
    "execution": {
     "iopub.execute_input": "2024-05-28T09:03:08.317921Z",
     "iopub.status.busy": "2024-05-28T09:03:08.317548Z",
     "iopub.status.idle": "2024-05-28T09:03:08.326537Z",
     "shell.execute_reply": "2024-05-28T09:03:08.325610Z",
     "shell.execute_reply.started": "2024-05-28T09:03:08.317893Z"
    },
    "trusted": true
   },
   "outputs": [],
   "source": [
    "test[[\"id\", \"type\"]].to_csv(\"submission.csv\", index=False)"
   ]
  },
  {
   "cell_type": "markdown",
   "metadata": {},
   "source": [
    "## Sonuç\n",
    "\n",
    "Kaggle yarışması için geliştirilen makine öğrenmesi modellerinde en yüksek skoru %74 ile `Random Forest Classifier` elde edilmişken test verileri ile yapılan tahminlerle Kaggle yarışmasında `0.71833` skor elde edilmiştir."
   ]
  }
 ],
 "metadata": {
  "kaggle": {
   "accelerator": "gpu",
   "dataSources": [
    {
     "databundleVersionId": 39544,
     "sourceId": 5708,
     "sourceType": "competition"
    }
   ],
   "dockerImageVersionId": 30699,
   "isGpuEnabled": true,
   "isInternetEnabled": true,
   "language": "python",
   "sourceType": "notebook"
  },
  "kernelspec": {
   "display_name": "Python 3",
   "language": "python",
   "name": "python3"
  },
  "language_info": {
   "codemirror_mode": {
    "name": "ipython",
    "version": 3
   },
   "file_extension": ".py",
   "mimetype": "text/x-python",
   "name": "python",
   "nbconvert_exporter": "python",
   "pygments_lexer": "ipython3",
   "version": "3.10.13"
  }
 },
 "nbformat": 4,
 "nbformat_minor": 4
}
