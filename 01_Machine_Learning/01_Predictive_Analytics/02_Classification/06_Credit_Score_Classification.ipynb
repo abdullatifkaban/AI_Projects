{
 "cells": [
  {
   "cell_type": "markdown",
   "id": "2cdeb84e-6863-44af-9b30-43d51fb3e71b",
   "metadata": {},
   "source": [
    "# Credit Score Classification\n",
    "Bu projede Kredi Skoru Sınıflandırma modeli geliştiriliyor.<br>\n",
    "Bu modelde kullanılan veriler <a href=\"https://thecleverprogrammer.com/2022/12/05/credit-score-classification-with-machine-learning/\"\n",
    "target=\"_blank\">buradan</a> indirilmiştir.<br><br>\n",
    "Bankaların ve kredi kartı şirketlerinin müşterilerini etiketlemek için kullandıkları üç kredi puanı vardır:\n",
    "* Good\n",
    "* \n",
    "Standar\n",
    "* \n",
    "Por\n"
   ]
  },
  {
   "cell_type": "code",
   "execution_count": 1,
   "id": "6470e72a-9554-4b67-858d-0c10ecaa7b2e",
   "metadata": {},
   "outputs": [],
   "source": [
    "import pandas as pd\n",
    "import numpy as np\n",
    "import seaborn as sns\n",
    "import matplotlib.pyplot as plt\n",
    "import warnings\n",
    "warnings.filterwarnings(\"ignore\")"
   ]
  },
  {
   "cell_type": "code",
   "execution_count": 2,
   "id": "5eb78957-f210-42b1-b8d2-2393979176bd",
   "metadata": {},
   "outputs": [],
   "source": [
    "df=pd.read_csv(\"train.csv\")"
   ]
  },
  {
   "cell_type": "markdown",
   "id": "a00df338-816c-494e-9819-3348adfa21a9",
   "metadata": {},
   "source": [
    "### Keşfedici Veri Analizi (EDA)"
   ]
  },
  {
   "cell_type": "code",
   "execution_count": 3,
   "id": "d8e635b7-4c65-4854-859d-9dc9fe5a2fdc",
   "metadata": {},
   "outputs": [
    {
     "data": {
      "text/html": [
       "<div>\n",
       "<style scoped>\n",
       "    .dataframe tbody tr th:only-of-type {\n",
       "        vertical-align: middle;\n",
       "    }\n",
       "\n",
       "    .dataframe tbody tr th {\n",
       "        vertical-align: top;\n",
       "    }\n",
       "\n",
       "    .dataframe thead th {\n",
       "        text-align: right;\n",
       "    }\n",
       "</style>\n",
       "<table border=\"1\" class=\"dataframe\">\n",
       "  <thead>\n",
       "    <tr style=\"text-align: right;\">\n",
       "      <th></th>\n",
       "      <th>ID</th>\n",
       "      <th>Customer_ID</th>\n",
       "      <th>Month</th>\n",
       "      <th>Name</th>\n",
       "      <th>Age</th>\n",
       "      <th>SSN</th>\n",
       "      <th>Occupation</th>\n",
       "      <th>Annual_Income</th>\n",
       "      <th>Monthly_Inhand_Salary</th>\n",
       "      <th>Num_Bank_Accounts</th>\n",
       "      <th>...</th>\n",
       "      <th>Credit_Mix</th>\n",
       "      <th>Outstanding_Debt</th>\n",
       "      <th>Credit_Utilization_Ratio</th>\n",
       "      <th>Credit_History_Age</th>\n",
       "      <th>Payment_of_Min_Amount</th>\n",
       "      <th>Total_EMI_per_month</th>\n",
       "      <th>Amount_invested_monthly</th>\n",
       "      <th>Payment_Behaviour</th>\n",
       "      <th>Monthly_Balance</th>\n",
       "      <th>Credit_Score</th>\n",
       "    </tr>\n",
       "  </thead>\n",
       "  <tbody>\n",
       "    <tr>\n",
       "      <th>0</th>\n",
       "      <td>5634</td>\n",
       "      <td>3392</td>\n",
       "      <td>1</td>\n",
       "      <td>Aaron Maashoh</td>\n",
       "      <td>23.0</td>\n",
       "      <td>821000265.0</td>\n",
       "      <td>Scientist</td>\n",
       "      <td>19114.12</td>\n",
       "      <td>1824.843333</td>\n",
       "      <td>3.0</td>\n",
       "      <td>...</td>\n",
       "      <td>Good</td>\n",
       "      <td>809.98</td>\n",
       "      <td>26.822620</td>\n",
       "      <td>265.0</td>\n",
       "      <td>No</td>\n",
       "      <td>49.574949</td>\n",
       "      <td>21.46538</td>\n",
       "      <td>High_spent_Small_value_payments</td>\n",
       "      <td>312.494089</td>\n",
       "      <td>Good</td>\n",
       "    </tr>\n",
       "    <tr>\n",
       "      <th>1</th>\n",
       "      <td>5635</td>\n",
       "      <td>3392</td>\n",
       "      <td>2</td>\n",
       "      <td>Aaron Maashoh</td>\n",
       "      <td>23.0</td>\n",
       "      <td>821000265.0</td>\n",
       "      <td>Scientist</td>\n",
       "      <td>19114.12</td>\n",
       "      <td>1824.843333</td>\n",
       "      <td>3.0</td>\n",
       "      <td>...</td>\n",
       "      <td>Good</td>\n",
       "      <td>809.98</td>\n",
       "      <td>31.944960</td>\n",
       "      <td>266.0</td>\n",
       "      <td>No</td>\n",
       "      <td>49.574949</td>\n",
       "      <td>21.46538</td>\n",
       "      <td>Low_spent_Large_value_payments</td>\n",
       "      <td>284.629162</td>\n",
       "      <td>Good</td>\n",
       "    </tr>\n",
       "    <tr>\n",
       "      <th>2</th>\n",
       "      <td>5636</td>\n",
       "      <td>3392</td>\n",
       "      <td>3</td>\n",
       "      <td>Aaron Maashoh</td>\n",
       "      <td>23.0</td>\n",
       "      <td>821000265.0</td>\n",
       "      <td>Scientist</td>\n",
       "      <td>19114.12</td>\n",
       "      <td>1824.843333</td>\n",
       "      <td>3.0</td>\n",
       "      <td>...</td>\n",
       "      <td>Good</td>\n",
       "      <td>809.98</td>\n",
       "      <td>28.609352</td>\n",
       "      <td>267.0</td>\n",
       "      <td>No</td>\n",
       "      <td>49.574949</td>\n",
       "      <td>21.46538</td>\n",
       "      <td>Low_spent_Medium_value_payments</td>\n",
       "      <td>331.209863</td>\n",
       "      <td>Good</td>\n",
       "    </tr>\n",
       "    <tr>\n",
       "      <th>3</th>\n",
       "      <td>5637</td>\n",
       "      <td>3392</td>\n",
       "      <td>4</td>\n",
       "      <td>Aaron Maashoh</td>\n",
       "      <td>23.0</td>\n",
       "      <td>821000265.0</td>\n",
       "      <td>Scientist</td>\n",
       "      <td>19114.12</td>\n",
       "      <td>1824.843333</td>\n",
       "      <td>3.0</td>\n",
       "      <td>...</td>\n",
       "      <td>Good</td>\n",
       "      <td>809.98</td>\n",
       "      <td>31.377862</td>\n",
       "      <td>268.0</td>\n",
       "      <td>No</td>\n",
       "      <td>49.574949</td>\n",
       "      <td>21.46538</td>\n",
       "      <td>Low_spent_Small_value_payments</td>\n",
       "      <td>223.451310</td>\n",
       "      <td>Good</td>\n",
       "    </tr>\n",
       "    <tr>\n",
       "      <th>4</th>\n",
       "      <td>5638</td>\n",
       "      <td>3392</td>\n",
       "      <td>5</td>\n",
       "      <td>Aaron Maashoh</td>\n",
       "      <td>23.0</td>\n",
       "      <td>821000265.0</td>\n",
       "      <td>Scientist</td>\n",
       "      <td>19114.12</td>\n",
       "      <td>1824.843333</td>\n",
       "      <td>3.0</td>\n",
       "      <td>...</td>\n",
       "      <td>Good</td>\n",
       "      <td>809.98</td>\n",
       "      <td>24.797347</td>\n",
       "      <td>269.0</td>\n",
       "      <td>No</td>\n",
       "      <td>49.574949</td>\n",
       "      <td>21.46538</td>\n",
       "      <td>High_spent_Medium_value_payments</td>\n",
       "      <td>341.489231</td>\n",
       "      <td>Good</td>\n",
       "    </tr>\n",
       "  </tbody>\n",
       "</table>\n",
       "<p>5 rows × 28 columns</p>\n",
       "</div>"
      ],
      "text/plain": [
       "     ID  Customer_ID  Month           Name   Age          SSN Occupation  \\\n",
       "0  5634         3392      1  Aaron Maashoh  23.0  821000265.0  Scientist   \n",
       "1  5635         3392      2  Aaron Maashoh  23.0  821000265.0  Scientist   \n",
       "2  5636         3392      3  Aaron Maashoh  23.0  821000265.0  Scientist   \n",
       "3  5637         3392      4  Aaron Maashoh  23.0  821000265.0  Scientist   \n",
       "4  5638         3392      5  Aaron Maashoh  23.0  821000265.0  Scientist   \n",
       "\n",
       "   Annual_Income  Monthly_Inhand_Salary  Num_Bank_Accounts  ...  Credit_Mix  \\\n",
       "0       19114.12            1824.843333                3.0  ...        Good   \n",
       "1       19114.12            1824.843333                3.0  ...        Good   \n",
       "2       19114.12            1824.843333                3.0  ...        Good   \n",
       "3       19114.12            1824.843333                3.0  ...        Good   \n",
       "4       19114.12            1824.843333                3.0  ...        Good   \n",
       "\n",
       "   Outstanding_Debt  Credit_Utilization_Ratio Credit_History_Age  \\\n",
       "0            809.98                 26.822620              265.0   \n",
       "1            809.98                 31.944960              266.0   \n",
       "2            809.98                 28.609352              267.0   \n",
       "3            809.98                 31.377862              268.0   \n",
       "4            809.98                 24.797347              269.0   \n",
       "\n",
       "   Payment_of_Min_Amount  Total_EMI_per_month  Amount_invested_monthly  \\\n",
       "0                     No            49.574949                 21.46538   \n",
       "1                     No            49.574949                 21.46538   \n",
       "2                     No            49.574949                 21.46538   \n",
       "3                     No            49.574949                 21.46538   \n",
       "4                     No            49.574949                 21.46538   \n",
       "\n",
       "                  Payment_Behaviour Monthly_Balance  Credit_Score  \n",
       "0   High_spent_Small_value_payments      312.494089          Good  \n",
       "1    Low_spent_Large_value_payments      284.629162          Good  \n",
       "2   Low_spent_Medium_value_payments      331.209863          Good  \n",
       "3    Low_spent_Small_value_payments      223.451310          Good  \n",
       "4  High_spent_Medium_value_payments      341.489231          Good  \n",
       "\n",
       "[5 rows x 28 columns]"
      ]
     },
     "execution_count": 3,
     "metadata": {},
     "output_type": "execute_result"
    }
   ],
   "source": [
    "df.head()"
   ]
  },
  {
   "cell_type": "code",
   "execution_count": 4,
   "id": "ea80a215-526d-4d54-b228-c412195f52af",
   "metadata": {},
   "outputs": [
    {
     "name": "stdout",
     "output_type": "stream",
     "text": [
      "<class 'pandas.core.frame.DataFrame'>\n",
      "RangeIndex: 100000 entries, 0 to 99999\n",
      "Data columns (total 28 columns):\n",
      " #   Column                    Non-Null Count   Dtype  \n",
      "---  ------                    --------------   -----  \n",
      " 0   ID                        100000 non-null  int64  \n",
      " 1   Customer_ID               100000 non-null  int64  \n",
      " 2   Month                     100000 non-null  int64  \n",
      " 3   Name                      100000 non-null  object \n",
      " 4   Age                       100000 non-null  float64\n",
      " 5   SSN                       100000 non-null  float64\n",
      " 6   Occupation                100000 non-null  object \n",
      " 7   Annual_Income             100000 non-null  float64\n",
      " 8   Monthly_Inhand_Salary     100000 non-null  float64\n",
      " 9   Num_Bank_Accounts         100000 non-null  float64\n",
      " 10  Num_Credit_Card           100000 non-null  float64\n",
      " 11  Interest_Rate             100000 non-null  float64\n",
      " 12  Num_of_Loan               100000 non-null  float64\n",
      " 13  Type_of_Loan              100000 non-null  object \n",
      " 14  Delay_from_due_date       100000 non-null  float64\n",
      " 15  Num_of_Delayed_Payment    100000 non-null  float64\n",
      " 16  Changed_Credit_Limit      100000 non-null  float64\n",
      " 17  Num_Credit_Inquiries      100000 non-null  float64\n",
      " 18  Credit_Mix                100000 non-null  object \n",
      " 19  Outstanding_Debt          100000 non-null  float64\n",
      " 20  Credit_Utilization_Ratio  100000 non-null  float64\n",
      " 21  Credit_History_Age        100000 non-null  float64\n",
      " 22  Payment_of_Min_Amount     100000 non-null  object \n",
      " 23  Total_EMI_per_month       100000 non-null  float64\n",
      " 24  Amount_invested_monthly   100000 non-null  float64\n",
      " 25  Payment_Behaviour         100000 non-null  object \n",
      " 26  Monthly_Balance           100000 non-null  float64\n",
      " 27  Credit_Score              100000 non-null  object \n",
      "dtypes: float64(18), int64(3), object(7)\n",
      "memory usage: 21.4+ MB\n"
     ]
    }
   ],
   "source": [
    "df.info()"
   ]
  },
  {
   "cell_type": "markdown",
   "id": "1515138c-72c0-484e-bef7-911fce76d929",
   "metadata": {},
   "source": [
    "### Kategorik alanları sayıya dönüştürme\n",
    "Yukarıda hiç bir alanda boş veri olmadığı görülmektedir. Bu nedenle sadece alanları sayıya çevirmek yeterli olacaktır."
   ]
  },
  {
   "cell_type": "code",
   "execution_count": 10,
   "id": "e015d3ae-22e8-435f-b614-7187fdad3ea8",
   "metadata": {},
   "outputs": [
    {
     "data": {
      "text/plain": [
       "Occupation\n",
       "Lawyer           7096\n",
       "Engineer         6864\n",
       "Architect        6824\n",
       "Mechanic         6776\n",
       "Scientist        6744\n",
       "Accountant       6744\n",
       "Developer        6720\n",
       "Media_Manager    6720\n",
       "Teacher          6672\n",
       "Entrepreneur     6648\n",
       "Doctor           6568\n",
       "Journalist       6536\n",
       "Manager          6432\n",
       "Musician         6352\n",
       "Writer           6304\n",
       "Name: count, dtype: int64"
      ]
     },
     "execution_count": 10,
     "metadata": {},
     "output_type": "execute_result"
    }
   ],
   "source": [
    "df[\"Occupation\"].value_counts()\n",
    "# Bu alan dummy yapılabilir ya da eğitim verisine dahil edilmeyebilir"
   ]
  },
  {
   "cell_type": "code",
   "execution_count": 12,
   "id": "698e8192-02ac-42b8-bad8-c23413eeb7ed",
   "metadata": {},
   "outputs": [
    {
     "data": {
      "text/plain": [
       "Type_of_Loan\n",
       "No Data                                                                                                                               11408\n",
       "Not Specified                                                                                                                          1408\n",
       "Credit-Builder Loan                                                                                                                    1280\n",
       "Personal Loan                                                                                                                          1272\n",
       "Debt Consolidation Loan                                                                                                                1264\n",
       "                                                                                                                                      ...  \n",
       "Not Specified, Mortgage Loan, Auto Loan, and Payday Loan                                                                                  8\n",
       "Payday Loan, Mortgage Loan, Debt Consolidation Loan, and Student Loan                                                                     8\n",
       "Debt Consolidation Loan, Auto Loan, Personal Loan, Debt Consolidation Loan, Student Loan, and Credit-Builder Loan                         8\n",
       "Student Loan, Auto Loan, Student Loan, Credit-Builder Loan, Home Equity Loan, Debt Consolidation Loan, and Debt Consolidation Loan        8\n",
       "Personal Loan, Auto Loan, Mortgage Loan, Student Loan, and Student Loan                                                                   8\n",
       "Name: count, Length: 6261, dtype: int64"
      ]
     },
     "execution_count": 12,
     "metadata": {},
     "output_type": "execute_result"
    }
   ],
   "source": [
    "df[\"Type_of_Loan\"].value_counts()\n",
    "# Bu alanı model eğitim zamanı listeden çıkaralım."
   ]
  },
  {
   "cell_type": "code",
   "execution_count": 13,
   "id": "58b1958d-31c4-447a-b94f-dbbae3e2eb05",
   "metadata": {},
   "outputs": [
    {
     "data": {
      "text/plain": [
       "Credit_Mix\n",
       "Standard    45848\n",
       "Good        30384\n",
       "Bad         23768\n",
       "Name: count, dtype: int64"
      ]
     },
     "execution_count": 13,
     "metadata": {},
     "output_type": "execute_result"
    }
   ],
   "source": [
    "df[\"Credit_Mix\"].value_counts()"
   ]
  },
  {
   "cell_type": "code",
   "execution_count": 14,
   "id": "438253e6-084d-4396-ac8d-6e33551f9480",
   "metadata": {},
   "outputs": [],
   "source": [
    "d={\"Bad\":0, \"Standard\":1, \"Good\":2}\n",
    "df[\"Credit_Mix\"]=df[\"Credit_Mix\"].map(d)"
   ]
  },
  {
   "cell_type": "code",
   "execution_count": 15,
   "id": "a184defb-be2d-4fe9-b051-514ce9794403",
   "metadata": {},
   "outputs": [
    {
     "data": {
      "text/plain": [
       "Payment_of_Min_Amount\n",
       "Yes    52326\n",
       "No     35667\n",
       "NM     12007\n",
       "Name: count, dtype: int64"
      ]
     },
     "execution_count": 15,
     "metadata": {},
     "output_type": "execute_result"
    }
   ],
   "source": [
    "df[\"Payment_of_Min_Amount\"].value_counts()"
   ]
  },
  {
   "cell_type": "code",
   "execution_count": 16,
   "id": "e254f42f-053d-4a31-beb0-fb9319544075",
   "metadata": {},
   "outputs": [],
   "source": [
    "d={\"No\":0, \"NM\":1, \"Yes\":2}\n",
    "df[\"Payment_of_Min_Amount\"]=df[\"Payment_of_Min_Amount\"].map(d)"
   ]
  },
  {
   "cell_type": "code",
   "execution_count": 17,
   "id": "e69de8b0-d00b-4785-8e8d-5feceafb9164",
   "metadata": {},
   "outputs": [
    {
     "data": {
      "text/plain": [
       "Payment_Behaviour\n",
       "Low_spent_Small_value_payments      28616\n",
       "High_spent_Medium_value_payments    19738\n",
       "High_spent_Large_value_payments     14726\n",
       "Low_spent_Medium_value_payments     14399\n",
       "High_spent_Small_value_payments     11764\n",
       "Low_spent_Large_value_payments      10757\n",
       "Name: count, dtype: int64"
      ]
     },
     "execution_count": 17,
     "metadata": {},
     "output_type": "execute_result"
    }
   ],
   "source": [
    "df[\"Payment_Behaviour\"].value_counts()"
   ]
  },
  {
   "cell_type": "code",
   "execution_count": 18,
   "id": "598718a2-0796-42b6-9e70-e165db28ff4d",
   "metadata": {},
   "outputs": [],
   "source": [
    "d={\n",
    "    \"Low_spent_Small_value_payments\":0,\n",
    "    \"Low_spent_Medium_value_payments\":1,\n",
    "    \"Low_spent_Large_value_payments\":2,\n",
    "    \"High_spent_Small_value_payments\":3,\n",
    "    \"High_spent_Medium_value_payments\":4,\n",
    "    \"High_spent_Large_value_payments\":5\n",
    "}\n",
    "df[\"Payment_Behaviour\"]=df[\"Payment_Behaviour\"].map(d)"
   ]
  },
  {
   "cell_type": "code",
   "execution_count": 19,
   "id": "abc76155-0004-4726-9c6c-ddeb01e0ba96",
   "metadata": {},
   "outputs": [
    {
     "data": {
      "text/plain": [
       "Credit_Score\n",
       "Standard    53174\n",
       "Poor        28998\n",
       "Good        17828\n",
       "Name: count, dtype: int64"
      ]
     },
     "execution_count": 19,
     "metadata": {},
     "output_type": "execute_result"
    }
   ],
   "source": [
    "df[\"Credit_Score\"].value_counts(dropna=False)"
   ]
  },
  {
   "cell_type": "code",
   "execution_count": 20,
   "id": "6bcfbeb2-86da-4d7b-a57e-03ea44ebcc8c",
   "metadata": {},
   "outputs": [],
   "source": [
    "d={\"Poor\": 0, \"Standard\": 1, \"Good\": 2}\n",
    "df[\"Credit_Score\"]=df[\"Credit_Score\"].map(d)"
   ]
  },
  {
   "cell_type": "code",
   "execution_count": 21,
   "id": "2c614bc1-bc8d-4323-9cf3-6fa3c975a4d5",
   "metadata": {},
   "outputs": [
    {
     "data": {
      "text/plain": [
       "Index(['ID', 'Customer_ID', 'Month', 'Name', 'Age', 'SSN', 'Occupation',\n",
       "       'Annual_Income', 'Monthly_Inhand_Salary', 'Num_Bank_Accounts',\n",
       "       'Num_Credit_Card', 'Interest_Rate', 'Num_of_Loan', 'Type_of_Loan',\n",
       "       'Delay_from_due_date', 'Num_of_Delayed_Payment', 'Changed_Credit_Limit',\n",
       "       'Num_Credit_Inquiries', 'Credit_Mix', 'Outstanding_Debt',\n",
       "       'Credit_Utilization_Ratio', 'Credit_History_Age',\n",
       "       'Payment_of_Min_Amount', 'Total_EMI_per_month',\n",
       "       'Amount_invested_monthly', 'Payment_Behaviour', 'Monthly_Balance',\n",
       "       'Credit_Score'],\n",
       "      dtype='object')"
      ]
     },
     "execution_count": 21,
     "metadata": {},
     "output_type": "execute_result"
    }
   ],
   "source": [
    "df.columns"
   ]
  },
  {
   "cell_type": "markdown",
   "id": "ff6fcea9-2cf0-445f-bc24-b0e494c69c94",
   "metadata": {},
   "source": [
    "## Modelleme"
   ]
  },
  {
   "cell_type": "code",
   "execution_count": 27,
   "id": "608eaeb1-8196-4c61-9d78-57b1b26b7aa5",
   "metadata": {},
   "outputs": [],
   "source": [
    "from sklearn.naive_bayes import GaussianNB\n",
    "from sklearn.naive_bayes import BernoulliNB\n",
    "from sklearn.linear_model import LogisticRegression\n",
    "from sklearn.tree import DecisionTreeClassifier\n",
    "from sklearn.ensemble import RandomForestClassifier\n",
    "from sklearn.ensemble import GradientBoostingClassifier\n",
    "from sklearn.neighbors import KNeighborsClassifier\n",
    "\n",
    "from sklearn.metrics import accuracy_score, precision_score, recall_score\n",
    "from sklearn.metrics import f1_score, confusion_matrix, classification_report\n",
    "from sklearn.model_selection import train_test_split\n",
    "\n",
    "g = GaussianNB()\n",
    "b = BernoulliNB()\n",
    "l = LogisticRegression()\n",
    "d = DecisionTreeClassifier()\n",
    "r = RandomForestClassifier()\n",
    "gb= GradientBoostingClassifier()\n",
    "kn= KNeighborsClassifier()\n",
    "\n",
    "def algo_test(x, y):\n",
    "    modeller=[g, b, l, d, r, gb, kn]\n",
    "    isimler=[\"GaussianNB\", \"BernoulliNB\", \"LogisticRegression\", \"DecisionTreeClassifier\", \n",
    "             \"RandomForestClassifier\", \"GradientBoostingClassifier\", \"KNeighborsClassifier\"]\n",
    "\n",
    "    x_train, x_test, y_train, y_test = train_test_split(x, y, test_size=.3, random_state = 42)\n",
    "    \n",
    "    accuracy = []\n",
    "    precision = []\n",
    "    recall = []\n",
    "    f1 = []\n",
    "    mdl=[]\n",
    "\n",
    "    print(\"Veriler hazır modeller deneniyor\")\n",
    "    for model in modeller:\n",
    "        print(model, \" modeli eğitiliyor!..\")\n",
    "        model=model.fit(x_train,y_train)\n",
    "        tahmin=model.predict(np.array(x_test) if model==kn else x_test)\n",
    "        mdl.append(model)\n",
    "        accuracy.append(accuracy_score(y_test, tahmin))\n",
    "        precision.append(precision_score(y_test, tahmin, average=\"micro\"))\n",
    "        recall.append(recall_score(y_test, tahmin, average=\"micro\"))\n",
    "        f1.append(f1_score(y_test, tahmin, average=\"micro\"))\n",
    "        print(confusion_matrix(y_test, tahmin))\n",
    "\n",
    "    print(\"Eğitim tamamlandı.\")\n",
    "    \n",
    "    metrics=pd.DataFrame(columns=[\"Accuracy\", \"Precision\", \"Recall\", \"F1\", \"Model\"], index=isimler)\n",
    "    metrics[\"Accuracy\"] = accuracy\n",
    "    metrics[\"Precision\"] = precision  \n",
    "    metrics[\"Recall\"] = recall\n",
    "    metrics[\"F1\"] = f1\n",
    "    metrics[\"Model\"]=mdl\n",
    "\n",
    "    metrics.sort_values(\"F1\", ascending=False, inplace=True)\n",
    "\n",
    "    print(\"En başarılı model: \", metrics.iloc[0].name)\n",
    "    model=metrics.iloc[0,-1]\n",
    "    tahmin=model.predict(np.array(x_test) if model==kn else x_test)\n",
    "    print(\"Confusion Matrix:\")\n",
    "    print(confusion_matrix(y_test, tahmin))\n",
    "    print(\"classification Report:\")\n",
    "    print(classification_report(y_test, tahmin))\n",
    "    print(\"Diğer Modeller:\")\n",
    "    \n",
    "    return metrics.drop(\"Model\", axis=1)"
   ]
  },
  {
   "cell_type": "code",
   "execution_count": 31,
   "id": "28e24280-f8f6-4506-a374-e9f3cac7f892",
   "metadata": {},
   "outputs": [],
   "source": [
    "x=df[[\"Annual_Income\", \"Monthly_Inhand_Salary\", \"Num_Bank_Accounts\", \"Num_Credit_Card\", \"Interest_Rate\", \"Num_of_Loan\", \n",
    "    \"Delay_from_due_date\", \"Num_of_Delayed_Payment\", \"Credit_Mix\", \"Outstanding_Debt\",\"Credit_History_Age\", \n",
    "      \"Payment_of_Min_Amount\", \"Payment_Behaviour\", \"Monthly_Balance\"]]\n",
    "y=df[[\"Credit_Score\"]]"
   ]
  },
  {
   "cell_type": "code",
   "execution_count": 32,
   "id": "90494232-58de-4376-b354-f0bb80bc91d0",
   "metadata": {},
   "outputs": [
    {
     "name": "stdout",
     "output_type": "stream",
     "text": [
      "<class 'pandas.core.frame.DataFrame'>\n",
      "RangeIndex: 100000 entries, 0 to 99999\n",
      "Data columns (total 14 columns):\n",
      " #   Column                  Non-Null Count   Dtype  \n",
      "---  ------                  --------------   -----  \n",
      " 0   Annual_Income           100000 non-null  float64\n",
      " 1   Monthly_Inhand_Salary   100000 non-null  float64\n",
      " 2   Num_Bank_Accounts       100000 non-null  float64\n",
      " 3   Num_Credit_Card         100000 non-null  float64\n",
      " 4   Interest_Rate           100000 non-null  float64\n",
      " 5   Num_of_Loan             100000 non-null  float64\n",
      " 6   Delay_from_due_date     100000 non-null  float64\n",
      " 7   Num_of_Delayed_Payment  100000 non-null  float64\n",
      " 8   Credit_Mix              100000 non-null  int64  \n",
      " 9   Outstanding_Debt        100000 non-null  float64\n",
      " 10  Credit_History_Age      100000 non-null  float64\n",
      " 11  Payment_of_Min_Amount   100000 non-null  int64  \n",
      " 12  Payment_Behaviour       100000 non-null  int64  \n",
      " 13  Monthly_Balance         100000 non-null  float64\n",
      "dtypes: float64(11), int64(3)\n",
      "memory usage: 10.7 MB\n"
     ]
    }
   ],
   "source": [
    "x.info()"
   ]
  },
  {
   "cell_type": "code",
   "execution_count": 25,
   "id": "809df19b-0c22-48e1-85e2-5326944c95ee",
   "metadata": {},
   "outputs": [
    {
     "data": {
      "text/plain": [
       "((100000, 12), (100000, 1))"
      ]
     },
     "execution_count": 25,
     "metadata": {},
     "output_type": "execute_result"
    }
   ],
   "source": [
    "x.shape, y.shape"
   ]
  },
  {
   "cell_type": "code",
   "execution_count": 33,
   "id": "ae82e1f6-b9ae-4aff-9708-121192df43d0",
   "metadata": {},
   "outputs": [
    {
     "name": "stdout",
     "output_type": "stream",
     "text": [
      "Veriler hazır modeller deneniyor\n",
      "GaussianNB()  modeli eğitiliyor!..\n",
      "[[6178 1189 1438]\n",
      " [3524 7871 4478]\n",
      " [ 127  974 4221]]\n",
      "BernoulliNB()  modeli eğitiliyor!..\n",
      "[[ 4359  3954   492]\n",
      " [ 2794 11686  1393]\n",
      " [  103  3784  1435]]\n",
      "LogisticRegression()  modeli eğitiliyor!..\n",
      "[[ 2873  5893    39]\n",
      " [ 2439 13138   296]\n",
      " [  105  4961   256]]\n",
      "DecisionTreeClassifier()  modeli eğitiliyor!..\n",
      "[[ 6353  2290   162]\n",
      " [ 2134 12064  1675]\n",
      " [  159  1653  3510]]\n",
      "RandomForestClassifier()  modeli eğitiliyor!..\n",
      "[[ 7304  1461    40]\n",
      " [ 1860 12897  1116]\n",
      " [   30  1290  4002]]\n",
      "GradientBoostingClassifier()  modeli eğitiliyor!..\n",
      "[[ 5962  2202   641]\n",
      " [ 2518 11361  1994]\n",
      " [  130  1465  3727]]\n",
      "KNeighborsClassifier()  modeli eğitiliyor!..\n",
      "[[ 7063  1669    73]\n",
      " [ 2214 12276  1383]\n",
      " [  200  1755  3367]]\n",
      "Eğitim tamamlandı.\n",
      "En başarılı model:  RandomForestClassifier\n",
      "Confusion Matrix:\n",
      "[[ 7304  1461    40]\n",
      " [ 1860 12897  1116]\n",
      " [   30  1290  4002]]\n",
      "classification Report:\n",
      "              precision    recall  f1-score   support\n",
      "\n",
      "           0       0.79      0.83      0.81      8805\n",
      "           1       0.82      0.81      0.82     15873\n",
      "           2       0.78      0.75      0.76      5322\n",
      "\n",
      "    accuracy                           0.81     30000\n",
      "   macro avg       0.80      0.80      0.80     30000\n",
      "weighted avg       0.81      0.81      0.81     30000\n",
      "\n",
      "Diğer Modeller:\n"
     ]
    },
    {
     "data": {
      "text/html": [
       "<div>\n",
       "<style scoped>\n",
       "    .dataframe tbody tr th:only-of-type {\n",
       "        vertical-align: middle;\n",
       "    }\n",
       "\n",
       "    .dataframe tbody tr th {\n",
       "        vertical-align: top;\n",
       "    }\n",
       "\n",
       "    .dataframe thead th {\n",
       "        text-align: right;\n",
       "    }\n",
       "</style>\n",
       "<table border=\"1\" class=\"dataframe\">\n",
       "  <thead>\n",
       "    <tr style=\"text-align: right;\">\n",
       "      <th></th>\n",
       "      <th>Accuracy</th>\n",
       "      <th>Precision</th>\n",
       "      <th>Recall</th>\n",
       "      <th>F1</th>\n",
       "    </tr>\n",
       "  </thead>\n",
       "  <tbody>\n",
       "    <tr>\n",
       "      <th>RandomForestClassifier</th>\n",
       "      <td>0.806767</td>\n",
       "      <td>0.806767</td>\n",
       "      <td>0.806767</td>\n",
       "      <td>0.806767</td>\n",
       "    </tr>\n",
       "    <tr>\n",
       "      <th>KNeighborsClassifier</th>\n",
       "      <td>0.756867</td>\n",
       "      <td>0.756867</td>\n",
       "      <td>0.756867</td>\n",
       "      <td>0.756867</td>\n",
       "    </tr>\n",
       "    <tr>\n",
       "      <th>DecisionTreeClassifier</th>\n",
       "      <td>0.730900</td>\n",
       "      <td>0.730900</td>\n",
       "      <td>0.730900</td>\n",
       "      <td>0.730900</td>\n",
       "    </tr>\n",
       "    <tr>\n",
       "      <th>GradientBoostingClassifier</th>\n",
       "      <td>0.701667</td>\n",
       "      <td>0.701667</td>\n",
       "      <td>0.701667</td>\n",
       "      <td>0.701667</td>\n",
       "    </tr>\n",
       "    <tr>\n",
       "      <th>GaussianNB</th>\n",
       "      <td>0.609000</td>\n",
       "      <td>0.609000</td>\n",
       "      <td>0.609000</td>\n",
       "      <td>0.609000</td>\n",
       "    </tr>\n",
       "    <tr>\n",
       "      <th>BernoulliNB</th>\n",
       "      <td>0.582667</td>\n",
       "      <td>0.582667</td>\n",
       "      <td>0.582667</td>\n",
       "      <td>0.582667</td>\n",
       "    </tr>\n",
       "    <tr>\n",
       "      <th>LogisticRegression</th>\n",
       "      <td>0.542233</td>\n",
       "      <td>0.542233</td>\n",
       "      <td>0.542233</td>\n",
       "      <td>0.542233</td>\n",
       "    </tr>\n",
       "  </tbody>\n",
       "</table>\n",
       "</div>"
      ],
      "text/plain": [
       "                            Accuracy  Precision    Recall        F1\n",
       "RandomForestClassifier      0.806767   0.806767  0.806767  0.806767\n",
       "KNeighborsClassifier        0.756867   0.756867  0.756867  0.756867\n",
       "DecisionTreeClassifier      0.730900   0.730900  0.730900  0.730900\n",
       "GradientBoostingClassifier  0.701667   0.701667  0.701667  0.701667\n",
       "GaussianNB                  0.609000   0.609000  0.609000  0.609000\n",
       "BernoulliNB                 0.582667   0.582667  0.582667  0.582667\n",
       "LogisticRegression          0.542233   0.542233  0.542233  0.542233"
      ]
     },
     "execution_count": 33,
     "metadata": {},
     "output_type": "execute_result"
    }
   ],
   "source": [
    "algo_test(x,y)"
   ]
  },
  {
   "cell_type": "markdown",
   "id": "1a9b7ad0-68ea-4791-92b0-f1a99ac61cbf",
   "metadata": {},
   "source": [
    "# Sonuç\n",
    "Müşteri bilgileri kullanılarak Kredi Skoru Sınıfı tahmin eden model geliştirildi. Denenen sınıflandırma modelleri içerisinde\n",
    "en yüksek başarı RandomForestClassifier modeli ile %81 oranında sağlandı."
   ]
  }
 ],
 "metadata": {
  "kernelspec": {
   "display_name": "Python 3 (ipykernel)",
   "language": "python",
   "name": "python3"
  },
  "language_info": {
   "codemirror_mode": {
    "name": "ipython",
    "version": 3
   },
   "file_extension": ".py",
   "mimetype": "text/x-python",
   "name": "python",
   "nbconvert_exporter": "python",
   "pygments_lexer": "ipython3",
   "version": "3.9.19"
  }
 },
 "nbformat": 4,
 "nbformat_minor": 5
}
